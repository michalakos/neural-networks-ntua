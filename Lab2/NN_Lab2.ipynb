{
  "nbformat": 4,
  "nbformat_minor": 0,
  "metadata": {
    "colab": {
      "name": "NN_Lab2.ipynb",
      "provenance": [],
      "toc_visible": true
    },
    "kernelspec": {
      "display_name": "Python 3.5",
      "language": "python",
      "name": "python3"
    },
    "widgets": {
      "application/vnd.jupyter.widget-state+json": {
        "a3c36b0913ae461a97cb06e14e6f167d": {
          "model_module": "@jupyter-widgets/controls",
          "model_name": "HBoxModel",
          "model_module_version": "1.5.0",
          "state": {
            "_view_name": "HBoxView",
            "_dom_classes": [],
            "_model_name": "HBoxModel",
            "_view_module": "@jupyter-widgets/controls",
            "_model_module_version": "1.5.0",
            "_view_count": null,
            "_view_module_version": "1.5.0",
            "box_style": "",
            "layout": "IPY_MODEL_3cf169e5935e41629f165d8fedf312a6",
            "_model_module": "@jupyter-widgets/controls",
            "children": [
              "IPY_MODEL_d6f221bcb23245f7bcda1f888944f5c5",
              "IPY_MODEL_4bf2f496fc5a47f6b7247a1272aef0b1",
              "IPY_MODEL_fd5ccdfccd544ad49c555dd81765581f"
            ]
          }
        },
        "3cf169e5935e41629f165d8fedf312a6": {
          "model_module": "@jupyter-widgets/base",
          "model_name": "LayoutModel",
          "model_module_version": "1.2.0",
          "state": {
            "_view_name": "LayoutView",
            "grid_template_rows": null,
            "right": null,
            "justify_content": null,
            "_view_module": "@jupyter-widgets/base",
            "overflow": null,
            "_model_module_version": "1.2.0",
            "_view_count": null,
            "flex_flow": null,
            "width": null,
            "min_width": null,
            "border": null,
            "align_items": null,
            "bottom": null,
            "_model_module": "@jupyter-widgets/base",
            "top": null,
            "grid_column": null,
            "overflow_y": null,
            "overflow_x": null,
            "grid_auto_flow": null,
            "grid_area": null,
            "grid_template_columns": null,
            "flex": null,
            "_model_name": "LayoutModel",
            "justify_items": null,
            "grid_row": null,
            "max_height": null,
            "align_content": null,
            "visibility": null,
            "align_self": null,
            "height": null,
            "min_height": null,
            "padding": null,
            "grid_auto_rows": null,
            "grid_gap": null,
            "max_width": null,
            "order": null,
            "_view_module_version": "1.2.0",
            "grid_template_areas": null,
            "object_position": null,
            "object_fit": null,
            "grid_auto_columns": null,
            "margin": null,
            "display": null,
            "left": null
          }
        },
        "d6f221bcb23245f7bcda1f888944f5c5": {
          "model_module": "@jupyter-widgets/controls",
          "model_name": "HTMLModel",
          "model_module_version": "1.5.0",
          "state": {
            "_view_name": "HTMLView",
            "style": "IPY_MODEL_cc3c985b448448b695d72ee87a4259a0",
            "_dom_classes": [],
            "description": "",
            "_model_name": "HTMLModel",
            "placeholder": "​",
            "_view_module": "@jupyter-widgets/controls",
            "_model_module_version": "1.5.0",
            "value": "100%",
            "_view_count": null,
            "_view_module_version": "1.5.0",
            "description_tooltip": null,
            "_model_module": "@jupyter-widgets/controls",
            "layout": "IPY_MODEL_bb78e2ce9b7c40b9a0921feebc084bdb"
          }
        },
        "4bf2f496fc5a47f6b7247a1272aef0b1": {
          "model_module": "@jupyter-widgets/controls",
          "model_name": "FloatProgressModel",
          "model_module_version": "1.5.0",
          "state": {
            "_view_name": "ProgressView",
            "style": "IPY_MODEL_4e66670866c04e28a95f96eda48aa0f0",
            "_dom_classes": [],
            "description": "",
            "_model_name": "FloatProgressModel",
            "bar_style": "success",
            "max": 5000,
            "_view_module": "@jupyter-widgets/controls",
            "_model_module_version": "1.5.0",
            "value": 5000,
            "_view_count": null,
            "_view_module_version": "1.5.0",
            "orientation": "horizontal",
            "min": 0,
            "description_tooltip": null,
            "_model_module": "@jupyter-widgets/controls",
            "layout": "IPY_MODEL_cb7e7fb1cc0a4032a3e6e2555c5217e5"
          }
        },
        "fd5ccdfccd544ad49c555dd81765581f": {
          "model_module": "@jupyter-widgets/controls",
          "model_name": "HTMLModel",
          "model_module_version": "1.5.0",
          "state": {
            "_view_name": "HTMLView",
            "style": "IPY_MODEL_c1deec65b68f4c94994c0d6db4870631",
            "_dom_classes": [],
            "description": "",
            "_model_name": "HTMLModel",
            "placeholder": "​",
            "_view_module": "@jupyter-widgets/controls",
            "_model_module_version": "1.5.0",
            "value": " 5000/5000 [04:59&lt;00:00, 28.69it/s]",
            "_view_count": null,
            "_view_module_version": "1.5.0",
            "description_tooltip": null,
            "_model_module": "@jupyter-widgets/controls",
            "layout": "IPY_MODEL_8e2bbd9126a64001bdf059fe074ccc99"
          }
        },
        "cc3c985b448448b695d72ee87a4259a0": {
          "model_module": "@jupyter-widgets/controls",
          "model_name": "DescriptionStyleModel",
          "model_module_version": "1.5.0",
          "state": {
            "_view_name": "StyleView",
            "_model_name": "DescriptionStyleModel",
            "description_width": "",
            "_view_module": "@jupyter-widgets/base",
            "_model_module_version": "1.5.0",
            "_view_count": null,
            "_view_module_version": "1.2.0",
            "_model_module": "@jupyter-widgets/controls"
          }
        },
        "bb78e2ce9b7c40b9a0921feebc084bdb": {
          "model_module": "@jupyter-widgets/base",
          "model_name": "LayoutModel",
          "model_module_version": "1.2.0",
          "state": {
            "_view_name": "LayoutView",
            "grid_template_rows": null,
            "right": null,
            "justify_content": null,
            "_view_module": "@jupyter-widgets/base",
            "overflow": null,
            "_model_module_version": "1.2.0",
            "_view_count": null,
            "flex_flow": null,
            "width": null,
            "min_width": null,
            "border": null,
            "align_items": null,
            "bottom": null,
            "_model_module": "@jupyter-widgets/base",
            "top": null,
            "grid_column": null,
            "overflow_y": null,
            "overflow_x": null,
            "grid_auto_flow": null,
            "grid_area": null,
            "grid_template_columns": null,
            "flex": null,
            "_model_name": "LayoutModel",
            "justify_items": null,
            "grid_row": null,
            "max_height": null,
            "align_content": null,
            "visibility": null,
            "align_self": null,
            "height": null,
            "min_height": null,
            "padding": null,
            "grid_auto_rows": null,
            "grid_gap": null,
            "max_width": null,
            "order": null,
            "_view_module_version": "1.2.0",
            "grid_template_areas": null,
            "object_position": null,
            "object_fit": null,
            "grid_auto_columns": null,
            "margin": null,
            "display": null,
            "left": null
          }
        },
        "4e66670866c04e28a95f96eda48aa0f0": {
          "model_module": "@jupyter-widgets/controls",
          "model_name": "ProgressStyleModel",
          "model_module_version": "1.5.0",
          "state": {
            "_view_name": "StyleView",
            "_model_name": "ProgressStyleModel",
            "description_width": "",
            "_view_module": "@jupyter-widgets/base",
            "_model_module_version": "1.5.0",
            "_view_count": null,
            "_view_module_version": "1.2.0",
            "bar_color": null,
            "_model_module": "@jupyter-widgets/controls"
          }
        },
        "cb7e7fb1cc0a4032a3e6e2555c5217e5": {
          "model_module": "@jupyter-widgets/base",
          "model_name": "LayoutModel",
          "model_module_version": "1.2.0",
          "state": {
            "_view_name": "LayoutView",
            "grid_template_rows": null,
            "right": null,
            "justify_content": null,
            "_view_module": "@jupyter-widgets/base",
            "overflow": null,
            "_model_module_version": "1.2.0",
            "_view_count": null,
            "flex_flow": null,
            "width": null,
            "min_width": null,
            "border": null,
            "align_items": null,
            "bottom": null,
            "_model_module": "@jupyter-widgets/base",
            "top": null,
            "grid_column": null,
            "overflow_y": null,
            "overflow_x": null,
            "grid_auto_flow": null,
            "grid_area": null,
            "grid_template_columns": null,
            "flex": null,
            "_model_name": "LayoutModel",
            "justify_items": null,
            "grid_row": null,
            "max_height": null,
            "align_content": null,
            "visibility": null,
            "align_self": null,
            "height": null,
            "min_height": null,
            "padding": null,
            "grid_auto_rows": null,
            "grid_gap": null,
            "max_width": null,
            "order": null,
            "_view_module_version": "1.2.0",
            "grid_template_areas": null,
            "object_position": null,
            "object_fit": null,
            "grid_auto_columns": null,
            "margin": null,
            "display": null,
            "left": null
          }
        },
        "c1deec65b68f4c94994c0d6db4870631": {
          "model_module": "@jupyter-widgets/controls",
          "model_name": "DescriptionStyleModel",
          "model_module_version": "1.5.0",
          "state": {
            "_view_name": "StyleView",
            "_model_name": "DescriptionStyleModel",
            "description_width": "",
            "_view_module": "@jupyter-widgets/base",
            "_model_module_version": "1.5.0",
            "_view_count": null,
            "_view_module_version": "1.2.0",
            "_model_module": "@jupyter-widgets/controls"
          }
        },
        "8e2bbd9126a64001bdf059fe074ccc99": {
          "model_module": "@jupyter-widgets/base",
          "model_name": "LayoutModel",
          "model_module_version": "1.2.0",
          "state": {
            "_view_name": "LayoutView",
            "grid_template_rows": null,
            "right": null,
            "justify_content": null,
            "_view_module": "@jupyter-widgets/base",
            "overflow": null,
            "_model_module_version": "1.2.0",
            "_view_count": null,
            "flex_flow": null,
            "width": null,
            "min_width": null,
            "border": null,
            "align_items": null,
            "bottom": null,
            "_model_module": "@jupyter-widgets/base",
            "top": null,
            "grid_column": null,
            "overflow_y": null,
            "overflow_x": null,
            "grid_auto_flow": null,
            "grid_area": null,
            "grid_template_columns": null,
            "flex": null,
            "_model_name": "LayoutModel",
            "justify_items": null,
            "grid_row": null,
            "max_height": null,
            "align_content": null,
            "visibility": null,
            "align_self": null,
            "height": null,
            "min_height": null,
            "padding": null,
            "grid_auto_rows": null,
            "grid_gap": null,
            "max_width": null,
            "order": null,
            "_view_module_version": "1.2.0",
            "grid_template_areas": null,
            "object_position": null,
            "object_fit": null,
            "grid_auto_columns": null,
            "margin": null,
            "display": null,
            "left": null
          }
        },
        "7fd7efb59df64a2483146a7a878eb315": {
          "model_module": "@jupyter-widgets/controls",
          "model_name": "HBoxModel",
          "model_module_version": "1.5.0",
          "state": {
            "_view_name": "HBoxView",
            "_dom_classes": [],
            "_model_name": "HBoxModel",
            "_view_module": "@jupyter-widgets/controls",
            "_model_module_version": "1.5.0",
            "_view_count": null,
            "_view_module_version": "1.5.0",
            "box_style": "",
            "layout": "IPY_MODEL_8521c997e5b5497388bbaf4c0d5b2467",
            "_model_module": "@jupyter-widgets/controls",
            "children": [
              "IPY_MODEL_ba429eb4e6ae43b98bf5ff2b75c8b79f",
              "IPY_MODEL_da3993bd2d84418c8b07880064758106",
              "IPY_MODEL_77034ecafd564772976b9c0ea8d79ca2"
            ]
          }
        },
        "8521c997e5b5497388bbaf4c0d5b2467": {
          "model_module": "@jupyter-widgets/base",
          "model_name": "LayoutModel",
          "model_module_version": "1.2.0",
          "state": {
            "_view_name": "LayoutView",
            "grid_template_rows": null,
            "right": null,
            "justify_content": null,
            "_view_module": "@jupyter-widgets/base",
            "overflow": null,
            "_model_module_version": "1.2.0",
            "_view_count": null,
            "flex_flow": null,
            "width": null,
            "min_width": null,
            "border": null,
            "align_items": null,
            "bottom": null,
            "_model_module": "@jupyter-widgets/base",
            "top": null,
            "grid_column": null,
            "overflow_y": null,
            "overflow_x": null,
            "grid_auto_flow": null,
            "grid_area": null,
            "grid_template_columns": null,
            "flex": null,
            "_model_name": "LayoutModel",
            "justify_items": null,
            "grid_row": null,
            "max_height": null,
            "align_content": null,
            "visibility": null,
            "align_self": null,
            "height": null,
            "min_height": null,
            "padding": null,
            "grid_auto_rows": null,
            "grid_gap": null,
            "max_width": null,
            "order": null,
            "_view_module_version": "1.2.0",
            "grid_template_areas": null,
            "object_position": null,
            "object_fit": null,
            "grid_auto_columns": null,
            "margin": null,
            "display": null,
            "left": null
          }
        },
        "ba429eb4e6ae43b98bf5ff2b75c8b79f": {
          "model_module": "@jupyter-widgets/controls",
          "model_name": "HTMLModel",
          "model_module_version": "1.5.0",
          "state": {
            "_view_name": "HTMLView",
            "style": "IPY_MODEL_d74cdfd0d0b74577ab318f264f241e48",
            "_dom_classes": [],
            "description": "",
            "_model_name": "HTMLModel",
            "placeholder": "​",
            "_view_module": "@jupyter-widgets/controls",
            "_model_module_version": "1.5.0",
            "value": "100%",
            "_view_count": null,
            "_view_module_version": "1.5.0",
            "description_tooltip": null,
            "_model_module": "@jupyter-widgets/controls",
            "layout": "IPY_MODEL_ec05193415714d3a9e7e2fe2922b918c"
          }
        },
        "da3993bd2d84418c8b07880064758106": {
          "model_module": "@jupyter-widgets/controls",
          "model_name": "FloatProgressModel",
          "model_module_version": "1.5.0",
          "state": {
            "_view_name": "ProgressView",
            "style": "IPY_MODEL_ec26bba1e2dc4d59b5e7cda63f5c0356",
            "_dom_classes": [],
            "description": "",
            "_model_name": "FloatProgressModel",
            "bar_style": "success",
            "max": 5000,
            "_view_module": "@jupyter-widgets/controls",
            "_model_module_version": "1.5.0",
            "value": 5000,
            "_view_count": null,
            "_view_module_version": "1.5.0",
            "orientation": "horizontal",
            "min": 0,
            "description_tooltip": null,
            "_model_module": "@jupyter-widgets/controls",
            "layout": "IPY_MODEL_9991cb235dc34253b3ab094c5edcb3a7"
          }
        },
        "77034ecafd564772976b9c0ea8d79ca2": {
          "model_module": "@jupyter-widgets/controls",
          "model_name": "HTMLModel",
          "model_module_version": "1.5.0",
          "state": {
            "_view_name": "HTMLView",
            "style": "IPY_MODEL_d0fdc60ef724453b8116c91030f0a328",
            "_dom_classes": [],
            "description": "",
            "_model_name": "HTMLModel",
            "placeholder": "​",
            "_view_module": "@jupyter-widgets/controls",
            "_model_module_version": "1.5.0",
            "value": " 5000/5000 [00:01&lt;00:00, 3915.29it/s]",
            "_view_count": null,
            "_view_module_version": "1.5.0",
            "description_tooltip": null,
            "_model_module": "@jupyter-widgets/controls",
            "layout": "IPY_MODEL_4b0c836057864030b530501f257c3707"
          }
        },
        "d74cdfd0d0b74577ab318f264f241e48": {
          "model_module": "@jupyter-widgets/controls",
          "model_name": "DescriptionStyleModel",
          "model_module_version": "1.5.0",
          "state": {
            "_view_name": "StyleView",
            "_model_name": "DescriptionStyleModel",
            "description_width": "",
            "_view_module": "@jupyter-widgets/base",
            "_model_module_version": "1.5.0",
            "_view_count": null,
            "_view_module_version": "1.2.0",
            "_model_module": "@jupyter-widgets/controls"
          }
        },
        "ec05193415714d3a9e7e2fe2922b918c": {
          "model_module": "@jupyter-widgets/base",
          "model_name": "LayoutModel",
          "model_module_version": "1.2.0",
          "state": {
            "_view_name": "LayoutView",
            "grid_template_rows": null,
            "right": null,
            "justify_content": null,
            "_view_module": "@jupyter-widgets/base",
            "overflow": null,
            "_model_module_version": "1.2.0",
            "_view_count": null,
            "flex_flow": null,
            "width": null,
            "min_width": null,
            "border": null,
            "align_items": null,
            "bottom": null,
            "_model_module": "@jupyter-widgets/base",
            "top": null,
            "grid_column": null,
            "overflow_y": null,
            "overflow_x": null,
            "grid_auto_flow": null,
            "grid_area": null,
            "grid_template_columns": null,
            "flex": null,
            "_model_name": "LayoutModel",
            "justify_items": null,
            "grid_row": null,
            "max_height": null,
            "align_content": null,
            "visibility": null,
            "align_self": null,
            "height": null,
            "min_height": null,
            "padding": null,
            "grid_auto_rows": null,
            "grid_gap": null,
            "max_width": null,
            "order": null,
            "_view_module_version": "1.2.0",
            "grid_template_areas": null,
            "object_position": null,
            "object_fit": null,
            "grid_auto_columns": null,
            "margin": null,
            "display": null,
            "left": null
          }
        },
        "ec26bba1e2dc4d59b5e7cda63f5c0356": {
          "model_module": "@jupyter-widgets/controls",
          "model_name": "ProgressStyleModel",
          "model_module_version": "1.5.0",
          "state": {
            "_view_name": "StyleView",
            "_model_name": "ProgressStyleModel",
            "description_width": "",
            "_view_module": "@jupyter-widgets/base",
            "_model_module_version": "1.5.0",
            "_view_count": null,
            "_view_module_version": "1.2.0",
            "bar_color": null,
            "_model_module": "@jupyter-widgets/controls"
          }
        },
        "9991cb235dc34253b3ab094c5edcb3a7": {
          "model_module": "@jupyter-widgets/base",
          "model_name": "LayoutModel",
          "model_module_version": "1.2.0",
          "state": {
            "_view_name": "LayoutView",
            "grid_template_rows": null,
            "right": null,
            "justify_content": null,
            "_view_module": "@jupyter-widgets/base",
            "overflow": null,
            "_model_module_version": "1.2.0",
            "_view_count": null,
            "flex_flow": null,
            "width": null,
            "min_width": null,
            "border": null,
            "align_items": null,
            "bottom": null,
            "_model_module": "@jupyter-widgets/base",
            "top": null,
            "grid_column": null,
            "overflow_y": null,
            "overflow_x": null,
            "grid_auto_flow": null,
            "grid_area": null,
            "grid_template_columns": null,
            "flex": null,
            "_model_name": "LayoutModel",
            "justify_items": null,
            "grid_row": null,
            "max_height": null,
            "align_content": null,
            "visibility": null,
            "align_self": null,
            "height": null,
            "min_height": null,
            "padding": null,
            "grid_auto_rows": null,
            "grid_gap": null,
            "max_width": null,
            "order": null,
            "_view_module_version": "1.2.0",
            "grid_template_areas": null,
            "object_position": null,
            "object_fit": null,
            "grid_auto_columns": null,
            "margin": null,
            "display": null,
            "left": null
          }
        },
        "d0fdc60ef724453b8116c91030f0a328": {
          "model_module": "@jupyter-widgets/controls",
          "model_name": "DescriptionStyleModel",
          "model_module_version": "1.5.0",
          "state": {
            "_view_name": "StyleView",
            "_model_name": "DescriptionStyleModel",
            "description_width": "",
            "_view_module": "@jupyter-widgets/base",
            "_model_module_version": "1.5.0",
            "_view_count": null,
            "_view_module_version": "1.2.0",
            "_model_module": "@jupyter-widgets/controls"
          }
        },
        "4b0c836057864030b530501f257c3707": {
          "model_module": "@jupyter-widgets/base",
          "model_name": "LayoutModel",
          "model_module_version": "1.2.0",
          "state": {
            "_view_name": "LayoutView",
            "grid_template_rows": null,
            "right": null,
            "justify_content": null,
            "_view_module": "@jupyter-widgets/base",
            "overflow": null,
            "_model_module_version": "1.2.0",
            "_view_count": null,
            "flex_flow": null,
            "width": null,
            "min_width": null,
            "border": null,
            "align_items": null,
            "bottom": null,
            "_model_module": "@jupyter-widgets/base",
            "top": null,
            "grid_column": null,
            "overflow_y": null,
            "overflow_x": null,
            "grid_auto_flow": null,
            "grid_area": null,
            "grid_template_columns": null,
            "flex": null,
            "_model_name": "LayoutModel",
            "justify_items": null,
            "grid_row": null,
            "max_height": null,
            "align_content": null,
            "visibility": null,
            "align_self": null,
            "height": null,
            "min_height": null,
            "padding": null,
            "grid_auto_rows": null,
            "grid_gap": null,
            "max_width": null,
            "order": null,
            "_view_module_version": "1.2.0",
            "grid_template_areas": null,
            "object_position": null,
            "object_fit": null,
            "grid_auto_columns": null,
            "margin": null,
            "display": null,
            "left": null
          }
        }
      }
    }
  },
  "cells": [
    {
      "cell_type": "markdown",
      "metadata": {
        "id": "hLFXD3IePSyL"
      },
      "source": [
        "# Εργαστηριακή Άσκηση 2. Μη επιβλεπόμενη μάθηση. \n",
        "## Σύστημα συστάσεων βασισμένο στο περιεχόμενο\n",
        "## Σημασιολογική απεικόνιση δεδομένων με χρήση SOM \n",
        "### Ομάδα 44\n",
        "* Βασιλάκος Μιχαήλ <br>\n",
        "Α.Μ.: 03117069\n",
        "* Γαβαλάς Παντελεήμων <br>\n",
        "Α.Μ.: 03117075"
      ]
    },
    {
      "cell_type": "markdown",
      "source": [
        "## Εγκατάσταση πακέτων και βιβλιοθηκών"
      ],
      "metadata": {
        "id": "BWNlq3Eb9bj6"
      }
    },
    {
      "cell_type": "code",
      "metadata": {
        "id": "S5wbBzIYnird",
        "colab": {
          "base_uri": "https://localhost:8080/"
        },
        "outputId": "c5b45098-084b-4190-8b94-c64a8a998a1b"
      },
      "source": [
        "!pip install --upgrade nltk\n",
        "!pip install --upgrade joblib"
      ],
      "execution_count": 2,
      "outputs": [
        {
          "output_type": "stream",
          "name": "stdout",
          "text": [
            "Requirement already satisfied: nltk in /usr/local/lib/python3.7/dist-packages (3.6.5)\n",
            "Requirement already satisfied: regex>=2021.8.3 in /usr/local/lib/python3.7/dist-packages (from nltk) (2021.11.10)\n",
            "Requirement already satisfied: tqdm in /usr/local/lib/python3.7/dist-packages (from nltk) (4.62.3)\n",
            "Requirement already satisfied: click in /usr/local/lib/python3.7/dist-packages (from nltk) (7.1.2)\n",
            "Requirement already satisfied: joblib in /usr/local/lib/python3.7/dist-packages (from nltk) (1.1.0)\n",
            "\u001b[33mWARNING: Running pip as the 'root' user can result in broken permissions and conflicting behaviour with the system package manager. It is recommended to use a virtual environment instead: https://pip.pypa.io/warnings/venv\u001b[0m\n",
            "Requirement already satisfied: joblib in /usr/local/lib/python3.7/dist-packages (1.1.0)\n",
            "\u001b[33mWARNING: Running pip as the 'root' user can result in broken permissions and conflicting behaviour with the system package manager. It is recommended to use a virtual environment instead: https://pip.pypa.io/warnings/venv\u001b[0m\n"
          ]
        }
      ]
    },
    {
      "cell_type": "code",
      "source": [
        "import pandas as pd\n",
        "import numpy as np\n",
        "import nltk\n",
        "import string\n",
        "from tqdm.notebook import tqdm\n",
        "import pickle\n",
        "import re"
      ],
      "metadata": {
        "id": "kKqJ9cpLCL42"
      },
      "execution_count": 88,
      "outputs": []
    },
    {
      "cell_type": "code",
      "source": [
        "clean_run = True"
      ],
      "metadata": {
        "id": "OeqpGiq0Ksll"
      },
      "execution_count": 84,
      "outputs": []
    },
    {
      "cell_type": "markdown",
      "metadata": {
        "id": "aViHqlQcPSyP"
      },
      "source": [
        "## Εισαγωγή του Dataset"
      ]
    },
    {
      "cell_type": "markdown",
      "metadata": {
        "id": "2ZVmdDExPSyQ"
      },
      "source": [
        "Το σύνολο δεδομένων με το οποίο θα δουλέψουμε είναι βασισμένο στο [Carnegie Mellon Movie Summary Corpus](http://www.cs.cmu.edu/~ark/personas/). Πρόκειται για ένα dataset με 22.301 περιγραφές ταινιών. Η περιγραφή κάθε ταινίας αποτελείται από τον τίτλο της, μια ή περισσότερες ετικέτες που χαρακτηρίζουν το είδος της ταινίας και τέλος τη σύνοψη της υπόθεσής της. Αρχικά εισάγουμε το dataset (χρησιμοποιήστε αυτούσιο τον κώδικα, δεν χρειάζεστε το αρχείο csv) στο dataframe `df_data_1`: "
      ]
    },
    {
      "cell_type": "code",
      "metadata": {
        "id": "62SOj46gPSyS"
      },
      "source": [
        "dataset_url = \"https://drive.google.com/uc?export=download&id=1-tN5rC1QCgwqL67cvIXdMbtd-Xf9Xqow\"\n",
        "df_data_1 = pd.read_csv(dataset_url, sep='\\t',  header=None, quoting=3)"
      ],
      "execution_count": 3,
      "outputs": []
    },
    {
      "cell_type": "markdown",
      "metadata": {
        "id": "7TAEZGdIPSyW"
      },
      "source": [
        "Κάθε ομάδα θα δουλέψει σε **ένα μοναδικό υποσύνολο 5.000 ταινιών** (διαφορετικό dataset για κάθε ομάδα) ως εξής:\n",
        "\n",
        "1. Κάθε ομάδα του εργαστηρίου νευρωνικών έχει έναν αριθμό στο helios. Θα βάλετε τον αριθμό αυτό στη μεταβλητή team_seed_number στο επόμενο κελί κώδικα.\n",
        "\n",
        "2. Το data frame `df_data_2` έχει γραμμές όσες και οι ομάδες και 5.000 στήλες. Σε κάθε ομάδα αντιστοιχεί η γραμμή του πίνακα με το `team_seed_number` της. Η γραμμή αυτή θα περιλαμβάνει 5.000 διαφορετικούς αριθμούς που αντιστοιχούν σε ταινίες του αρχικού dataset. \n",
        "\n",
        "3. Τρέξτε τον κώδικα. Θα προκύψουν τα μοναδικά για κάθε ομάδα  titles, categories, catbins, summaries και corpus με τα οποία θα δουλέψετε."
      ]
    },
    {
      "cell_type": "code",
      "metadata": {
        "id": "2POlqDjkPSyY"
      },
      "source": [
        "# Στο επόμενη γραμή βάλτε τον αριθμό της ομάδας στο εργαστήριο των νευρωνικών\n",
        "team_seed_number = 44\n",
        "\n",
        "movie_seeds_url = \"https://drive.google.com/uc?export=download&id=1-oeMf7BFmiH70XObgC9WOTo-a9cDJZwP\"\n",
        "df_data_2 = pd.read_csv(movie_seeds_url, header=None)\n",
        "\n",
        "# επιλέγεται \n",
        "my_index = df_data_2.iloc[team_seed_number,:].values\n",
        "\n",
        "titles = df_data_1.iloc[:, [2]].values[my_index] # movie titles (string)\n",
        "categories = df_data_1.iloc[:, [3]].values[my_index] # movie categories (string)\n",
        "bins = df_data_1.iloc[:, [4]]\n",
        "catbins = bins[4].str.split(',', expand=True).values.astype(float)[my_index] # movie categories in binary form (1 feature per category)\n",
        "summaries =  df_data_1.iloc[:, [5]].values[my_index] # movie summaries (string)\n",
        "corpus = summaries[:,0].tolist() # list form of summaries\n",
        "corpus_df = pd.DataFrame(corpus) # dataframe version of corpus"
      ],
      "execution_count": 66,
      "outputs": []
    },
    {
      "cell_type": "markdown",
      "metadata": {
        "id": "If66lkwxPSyb"
      },
      "source": [
        "- Ο πίνακας **titles** περιέχει τους τίτλους των ταινιών. Παράδειγμα: 'Sid and Nancy'.\n",
        "- O πίνακας **categories** περιέχει τις κατηγορίες (είδη) της ταινίας υπό τη μορφή string. Παράδειγμα: '\"Tragedy\",  \"Indie\",  \"Punk rock\",  \"Addiction Drama\",  \"Cult\",  \"Musical\",  \"Drama\",  \"Biopic \\[feature\\]\",  \"Romantic drama\",  \"Romance Film\",  \"Biographical film\"'. Παρατηρούμε ότι είναι μια comma separated λίστα strings, με κάθε string να είναι μια κατηγορία.\n",
        "- Ο πίνακας **catbins** περιλαμβάνει πάλι τις κατηγορίες των ταινιών αλλά σε δυαδική μορφή ([one hot encoding](https://hackernoon.com/what-is-one-hot-encoding-why-and-when-do-you-have-to-use-it-e3c6186d008f)). Έχει διαστάσεις 5.000 x 322 (όσες οι διαφορετικές κατηγορίες). Αν η ταινία ανήκει στο συγκεκριμένο είδος η αντίστοιχη στήλη παίρνει την τιμή 1, αλλιώς παίρνει την τιμή 0.\n",
        "- Ο πίνακας **summaries** και η λίστα **corpus** περιλαμβάνουν τις συνόψεις των ταινιών (η corpus είναι απλά ο summaries σε μορφή λίστας). Κάθε σύνοψη είναι ένα (συνήθως μεγάλο) string. Παράδειγμα: *'The film is based on the real story of a Soviet Internal Troops soldier who killed his entire unit  as a result of Dedovschina. The plot unfolds mostly on board of the prisoner transport rail car guarded by a unit of paramilitary conscripts.'*\n",
        "- το dataframe corpus_df που είναι απλά το corpus σε μορφή dataframe. Τα summaries βρίσκονται στην κολόνα 0. Πιθανώς να σας βολεύει να κάνετε κάποιες προεπεξεργασίες με dataframes.\n",
        "\n",
        "\n",
        "Θεωρούμε ως **ID** της κάθε ταινίας τον αριθμό γραμμής της ή το αντίστοιχο στοιχείο της λίστας. Παράδειγμα: για να τυπώσουμε τη σύνοψη της ταινίας με `ID=999` (την χιλιοστή) θα γράψουμε `print(corpus[999])`."
      ]
    },
    {
      "cell_type": "code",
      "metadata": {
        "id": "k_7A3KXLp0qS",
        "colab": {
          "base_uri": "https://localhost:8080/"
        },
        "outputId": "be1e4a59-fc40-460b-e267-9cf2f2501e1b"
      },
      "source": [
        "ID = 999\n",
        "print(titles[ID])\n",
        "print(categories[ID])\n",
        "print(catbins[ID])\n",
        "print(corpus[ID])"
      ],
      "execution_count": 55,
      "outputs": [
        {
          "output_type": "stream",
          "name": "stdout",
          "text": [
            "['Death Bell 2: Bloody Camp']\n",
            "['\"Thriller\",  \"Horror\"']\n",
            "[0. 0. 0. 0. 0. 0. 0. 0. 0. 0. 0. 0. 0. 0. 0. 0. 0. 0. 0. 0. 0. 0. 0. 0.\n",
            " 0. 0. 0. 0. 0. 0. 0. 0. 0. 0. 0. 0. 0. 0. 0. 0. 0. 0. 0. 0. 0. 0. 0. 0.\n",
            " 0. 0. 0. 0. 0. 0. 0. 0. 0. 0. 0. 0. 0. 0. 0. 0. 0. 0. 0. 0. 0. 0. 0. 0.\n",
            " 0. 0. 0. 0. 0. 0. 0. 0. 0. 0. 0. 0. 0. 0. 0. 0. 0. 0. 0. 0. 0. 0. 0. 0.\n",
            " 0. 0. 0. 0. 0. 0. 0. 0. 0. 0. 0. 0. 0. 0. 0. 0. 0. 0. 0. 0. 0. 0. 0. 0.\n",
            " 0. 0. 0. 0. 0. 0. 0. 0. 0. 0. 0. 0. 0. 0. 0. 0. 0. 0. 0. 0. 0. 0. 0. 0.\n",
            " 0. 0. 0. 0. 0. 0. 0. 0. 0. 0. 0. 0. 0. 0. 0. 0. 0. 0. 0. 0. 0. 0. 0. 0.\n",
            " 0. 0. 0. 0. 1. 0. 0. 0. 0. 0. 0. 0. 0. 0. 0. 0. 0. 0. 0. 0. 0. 0. 0. 0.\n",
            " 0. 0. 0. 0. 0. 0. 0. 0. 0. 0. 0. 0. 0. 0. 0. 0. 0. 0. 0. 0. 0. 0. 0. 0.\n",
            " 0. 0. 0. 0. 0. 0. 0. 0. 0. 0. 0. 0. 0. 0. 0. 0. 0. 0. 0. 0. 0. 0. 0. 0.\n",
            " 0. 0. 0. 0. 0. 0. 0. 0. 0. 0. 0. 0. 0. 0. 0. 0. 0. 0. 0. 0. 0. 0. 0. 0.\n",
            " 0. 0. 0. 0. 0. 0. 0. 0. 0. 0. 0. 0. 0. 0. 0. 0. 0. 0. 0. 0. 0. 0. 0. 0.\n",
            " 0. 0. 0. 0. 0. 0. 0. 0. 0. 0. 0. 0. 0. 0. 0. 0. 1. 0. 0. 0. 0. 0. 0. 0.\n",
            " 0. 0. 0. 0. 0. 0. 0. 0. 0. 0.]\n",
            "While writing the script, it was suggested that the characters should solve their problems in a quiz show format like they did in the first film. Director Yoo Sun-dong was against this ideas as he felt it was too much of an imitation of the first film.\n"
          ]
        }
      ]
    },
    {
      "cell_type": "markdown",
      "metadata": {
        "id": "UTNgwBfjPSyc"
      },
      "source": [
        "# Εφαρμογή 1. Υλοποίηση συστήματος συστάσεων ταινιών βασισμένο στο περιεχόμενο\n",
        "<img src=\"http://clture.org/wp-content/uploads/2015/12/Netflix-Streaming-End-of-Year-Posts.jpg\" width=\"70%\">"
      ]
    },
    {
      "cell_type": "markdown",
      "metadata": {
        "id": "rnA2RP8GPSyf"
      },
      "source": [
        "Η πρώτη εφαρμογή που θα αναπτύξετε θα είναι ένα [σύστημα συστάσεων](https://en.wikipedia.org/wiki/Recommender_system) ταινιών βασισμένο στο περιεχόμενο (content based recommender system). Τα συστήματα συστάσεων στοχεύουν στο να προτείνουν αυτόματα στο χρήστη αντικείμενα από μια συλλογή τα οποία ιδανικά θέλουμε να βρει ενδιαφέροντα ο χρήστης. Η κατηγοριοποίηση των συστημάτων συστάσεων βασίζεται στο πώς γίνεται η επιλογή (filtering) των συστηνόμενων αντικειμένων. Οι δύο κύριες κατηγορίες είναι η συνεργατική διήθηση (collaborative filtering) όπου το σύστημα προτείνει στο χρήστη αντικείμενα που έχουν αξιολογηθεί θετικά από χρήστες που έχουν παρόμοιο με αυτόν ιστορικό αξιολογήσεων και η διήθηση με βάση το περιεχόμενο (content based filtering), όπου προτείνονται στο χρήστη αντικείμενα με παρόμοιο περιεχόμενο (με βάση κάποια χαρακτηριστικά) με αυτά που έχει προηγουμένως αξιολογήσει θετικά.\n",
        "\n",
        "Το σύστημα συστάσεων που θα αναπτύξετε θα βασίζεται στο **περιεχόμενο** και συγκεκριμένα στις συνόψεις των ταινιών (corpus). \n"
      ]
    },
    {
      "cell_type": "markdown",
      "metadata": {
        "id": "l3nZv-xueEtd"
      },
      "source": [
        "## Προεπεξεργασία\n",
        "\n",
        "Το πρώτο βήμα στην επεξεργασία μας είναι ο καθαρισμός των περιγραφών των ταινιών. \n",
        "\n",
        "Εκτυπώστε (αρκετές) διαφορετικές περιγραφές ταινιών για να δείτε πιθανά προβλήματα που θα πρέπει να αντιμετωπιστούν.\n",
        "\n",
        "Τα (ελάχιστα) βήματα καθαρισμού που προτείνουμε είναι:\n",
        "- μετατροπή όλων των χαρακτήρων σε πεζά,\n",
        "- αφαίρεση των stopwords. Εδώ σημειώστε ότι για το δεδομένο task του συστήματος συστάσεων που είναι η πρόταση ταινιών ίσως θα είχαν ενδιαφέρον και λίστες stopwords πέραν αυτών της κοινής γλώσσας.\n",
        "- αφαίρεση σημείων στίξης και ειδικών χαρακτρήρων (special characters). Αυτό δεν γίνεται μόνο με την punkt του NLTK. Θα μπορούσατε να βασιστείτε σε κανονικές εκφράσεις (regular expressions), και\n",
        "- αφαίρεση πολυ σύντομων συμβολοσειρών.\n",
        "\n",
        "Προσοχή: το corpus και τα τελικά tokens που θα το αποτελούν θα χρησιμοποιηθούν στη συνέχεια ως κλειδιά για να βρούμε εμφυτεύματα. Για το λόγο αυτό, πρέπει να είστε προσεκτικοί ως προς την εφαρμογή μεθόδων κανονικοποίησης (text normalization) όπως το stemming και το lemmatization."
      ]
    },
    {
      "cell_type": "markdown",
      "source": [
        "Αρχικά θα φροντίσουμε όλες οι λέξεις να αποτελούνται από πεζά γράμματα."
      ],
      "metadata": {
        "id": "P5Q0FbVaDVQM"
      }
    },
    {
      "cell_type": "code",
      "source": [
        "summaries_lower = []\n",
        "for summary in summaries:\n",
        "  summaries_lower.append(summary[0].lower())"
      ],
      "metadata": {
        "id": "8Eao8APTDI50"
      },
      "execution_count": 67,
      "outputs": []
    },
    {
      "cell_type": "markdown",
      "source": [
        "Στη συνέχεια θα εμφανίσουμε τις 10 πρώτες περιγραφές για να έχουμε μια εικόνα της αρχικής κατάστασης στην οποία βρίσκονται."
      ],
      "metadata": {
        "id": "3DrQO-ClEhYI"
      }
    },
    {
      "cell_type": "code",
      "source": [
        "for i in range(10):\n",
        "  print(summaries_lower[i])"
      ],
      "metadata": {
        "colab": {
          "base_uri": "https://localhost:8080/"
        },
        "id": "zj9YPZAPDwGt",
        "outputId": "baced063-f0a4-47a3-a3c7-86cfa1d285ae"
      },
      "execution_count": 71,
      "outputs": [
        {
          "output_type": "stream",
          "name": "stdout",
          "text": [
            "vivacious lady is a story of love at first sight between a young botany professor named peter morgan jr.  and a nightclub singer named francey . the film also has comedic elements, including repeatedly frustrated attempts by the newlywed couple to find a moment alone with each other. the story begins when peter is sent to manhattan to retrieve his playboy cousin keith ([[james ellison  and immediately falls in love with francey. after a whirlwind one-day courtship, peter and francey get married, and they and keith return to the morgan family's home, where peter teaches at the university run by his father peter morgan sr. . mr. morgan is known for being a proud, overbearing man, so peter is afraid to tell him about the marriage. when they arrive, mr. morgan and peter's high-society fiancée helen  initially take francey for another of keith's girlfriends. while peter decides how to approach his father with the news, francey stays at a women-only hotel, and peter and keith introduce her as a new botany student. peter mentions francey to his father twice, but on both occasions, mr. morgan interrupts and ignores his son, and when peter becomes insistent, his apparently ailing mother  has a flare-up of her heart condition, making any further conversation impossible. for his third attempt, peter decides to announce the marriage to his parents at the university's student-faculty prom. keith brings francey to the prom as his own guest, and francey, still posing as a student, develops a friendly rapore with mrs. morgan, but gets into a nasty brawl with helen in which francey accidentally punches peter's father. peter says nothing at the prom, but blurts the news to his father just as mr. morgan is about to give an important speech, resulting in another argument and another flare-up of mrs. morgan's heart condition. this prevents mrs. morgan from learning who francey is, but she accidentally finds out from francey herself during a conversation in francey's apartment. mrs. morgan accepts the news happily, and admits to francey that she pretends to have heart trouble any time her husband gets into an argument, but mr. morgan demands that francey leave peter, threatening to fire him if she doesn't. francey agrees to leave, but the incident releases thirty years of marital frustration in mrs. morgan, who also decides to leave her husband. francey tells peter she will leave him unless he can change his father's mind before her train departs. peter's solution is to threaten the family with disgrace by getting drunk and otherwise misbehaving until his father relents, even if it costs him his job. peter passes out before he can reach the train, which departs with both francey and mrs. morgan aboard, but mr. morgan, having finally yielded to the combined pressure of his son and wife, stops the train by driving ahead of it with peter and parking the car on the track. both marriages are saved, and peter and francey finally have their honeymoon on the train.\n",
            "while cleaning his underground home, mole senses that spring is probably beginning above the ground. he is curious and decides that every mole should see the world at least once in his or her lifetime, so he makes himself a tunnel and soon finds himself in the english countryside. mole is marvelled by this new world and wishes to see every bit of it. along comes rat, who befriends mole and offers him a ride on his small blue rowboat as well as a short picnic by the riverbank. rat tells mole about the different creatures who inhabitate near the river. there's badger, who is very grumpy and doesn't like company, and toad, who is very wealthy and lives in a fine mansion along the riverbank named \"toad hall\". when the two friends set out to meet mr. mole, rat is bewildered to see that toad has been swept away by a new mania; a love for gypsy carts. though rat hesitates, toad offers him and his new friend a wild ride on the vehicle. the ride is thrilling and new for mole, not so much for rat, but it ends abruptly when the cart is destroyed by a passing motorcar. toad doesn't mind, because he is instantly taken by a new mania for motorcars. determined to drive through the countryside in a new motorcar, rat and mole fear that their friend's new mania is very dangerous, for toad can hardly drive. mole seeks out the advise of badger, who lives deep inside the wild wood, where he's been told never to go since it is a very dangerous place. rat follows mole to badger's house and the two animals beg him for his help. badger agrees to help out as soon as winter is over, for he is a hibernating animal. spring comes and badger orders that toad be kept indoors and away from disastrous rides on motorcars. toad is very upset, but he outsmarts rat when the two are left alone and the determined toad sets out to find a motorcar; or rather, steal one. toad's crime lands him in prison, and his friends worry about his mysterious disappearance. with the help of a young girl, the magistrate's daughter, toad manages to escape his cell and return to toad hall. however, upon his return, he is shocked to find that his home has been overtaken by a band of ruthless weasels. he and his friends, rat, mole, badger and otter cook up a plan to rescover toad's priced home and restore order to the entire community along the riverbank.\n",
            "shinnojo, a low level samurai, lives with his pretty, dutiful and loyal wife kayo. he has come to find his position in a castle as a food-taster for a feudal lord to be boring and pointless, and talks about opening a kendo school open to boys of all castes where he can teach the use of the sword. before he can act on his dream he becomes ill with a fever after tasting some sashimi made from shell fish, but an investigation reveals that the poisoning was not due to a human conspiracy, but a poor choice of food out of season. after three days he awakes but finds that the toxin from the food has blinded him. kayo is summoned by shinnojo's family to explain how the couple will survive. his uncle laments that he no longer knows anybody with influence in the castle, and asks kayo if she knows of anybody. she relates how toya shimada, the chief duty officer in the castle and a samurai of high rank, offered to help and they tell her to act upon his offer of assistance. a message from the castle brings the good news that shinnojo's stipend of rice will remain the same, and for life but his aunt tells him that kayo was seen with another man. he has tokuhei, his faithful servant, follow her. kayo notices that she is being followed, and although tokuhei offers to cover for her, she reveals to shinnojo that shimada offered to help but with a price, shown when he forced himself upon her. he then solicited two additional trysts by threatening to tell shinnojo about the first. an enraged shinnojo divorces her and orders her out of his house. when it is revealed to him that shimada had nothing to do with maintaining his stipend, but that it came out of gratitude from the lord of the clan himself, shinnojo seeks to renew his skill with the sword as a blind man to avenge the dishonor of kayo. through tokuhei, he sends a message to shimada to set up a duel, with the additional message to not underestimate him. the two samurai meet at the stables near the river to decide their destinies. in a very interesting fight shinnojo cuts off shimada's arm. he leaves shimada to live horribly disfigured, telling tokuhei that he has avenged kayo's dishonor. the next day shinnojo is informed that the injured shimada refused to tell anyone what had happened or who injured him in the duel. it turns out that during the night shimada committed seppuku and killed himself, as a samurai cannot live with only one arm. he dies without anyone knowing of his sin against the mimura family, his violation of kayo, or his own dishonorable injury by a blinded man. tokuhei tells shinnojo he has found a girl to work in the kitchen and cook for him. after one taste of the girl's food, shinnojo recognizes his wife's cooking, and calls kayo to come into the house. shinnojo and kayo reconcile, with an understanding that they will begin their life together anew.\n",
            "benny horowitz ([[john gilbert , a reformed gangster, proposes marriage to bertha , a neighbor who had been a frequent visitor while he served his sentence. bertha rejects his proposal because she believes that he is still in love with freida , benny's former gun moll. during a party in which freida seeks to make benny jealous with a former rival, benny again takes control of the gang's leadership. after his rival's death is ruled accidental, benny and bertha go off together and start a new life.\n",
            "laura  and fabrizio  have been meeting every summer in the forest by her parent's summer home. fabrizio is a solitary boy with only his dog for company; laura a sweet, but unconfident child. this summer new aspects enter into their story as both are growing up. the film represents them as part child, part adult. part naive, part knowing. laura is falling in love with fabrizio, while he displays a new sexual awareness of her masked by his malice. fabrizio becomes inexplicably cruel. he accelerates his unwarranted torment of laura in many ways, including tying her up and putting a snake near her and killing a pet bird she is fond of. fabrizio prides himself on being 'king of the forest' and rubbishes laura's tender attempts to be his queen. one day they climb the \"blue mountain\", a mysterious tall mountain at the forest's edge and discover ancient building ruins. exploring these they find a cave. inside, fabrizio seduces laura. fabrizio's cruel streak is boosted by his new sexual confidence. at one point he virtually forces himself on laura, much to her upset. he does relent when she makes it clear she wants fabrizio to be gentle with her, which he ridicules. things develop further when they meet sylvia . unlike the previously virginal laura, sylvia is confident and assertive. fabrizio develops a fascination with her, eventually bribing laura to fetch her to the forest to join them in play. sylvia aware of fabrizio’s interest in her, asserts herself in his affections, quickly replacing laura and demoting her to servant and victim, which fabrizio takes delight in. laura, reluctant to leave her old friend and new lover, stays and becomes the target of the duo's ever progressing cruelty. at one point, they both 'hunt' laura with bows and arrows and at another, pretend to throw her off a high ledge. they make love in front of her, insisting her punishment is that she must watch, leaving laura confused and heartbroken. at the end of summer, with the girls talking about returning to school, fabrizio becomes pensive and agitated. he insists on taking sylvia to the ruins for the first time. all three of them go into the cave to escape a thunderstorm and fabrizio again pretends they are lost as he did with laura. sylvia breaks down sobbing for her mother, all traces of her confidence and maturity lost in the fear of being in the cave. fabrizio repeatedly begs sylvia to stay with him forever. in the morning, sylvia is still lost in the cave and further rejects the desperate fabrizio and his pleas to stay with him. she becomes hysterical and he kills her with a knife, feeling it is the only way he won't lose her. he stays with the dead body and gives laura the flashlight telling her she knows the way home and laura reluctantly leaves.\n",
            "the film takes place in the summer of 1969, when nasa astronauts successfully landed on the moon for the first time, in the apollo 11 spacecraft. katherine, suffering from panic attacks caused by an automobile accident which resulted in the loss of their unborn child, refuses to leave the house, while washington is a man of adventure who enjoys travel and experiencing life. as a result of the conflict between the two, eleven-year-old son andy  has never traveled in a car, nor has he ever left town. washington, who also maintains a ragtag collection of automobiles of various vintages, decides to travel with andy to the craters of the moon national park, arriving at the very moment the apollo 11 crew lands on the moon. they make the trip in washington's 1949 pontiac eight convertible nicknamed \"the chief\", and make some enemies, new friends, and learn the meaning of family. the pontiac's mileage, when arriving at its destination, will be exactly the distance in miles from the earth to the moon. when katherine finds out where her husband and son are going, she faces her fears , and follows them in one of washington's cars, an amphicar. she learns the importance of living as she follows the pontiac to craters of the moon. on the way, the pontiac's engine dies, and washington arranges for a mechanic to install a replacement engine, only to leave the premises without paying for the engine because he didn't have enough money to pay. at the moment of the apollo 11 landing, the pontiac crashes into a crater at craters of the moon, with andy at the wheel. katherine arrives, and they escape a police chase by driving the amphicar into a lake to canada and safety. the adventure brings the bellamy family together, and they are now ready to begin a more normal life.\n",
            " dasima  is a nyai, or a native mistress, for the englishman edward william. the couple and their daughter nancy live in a home near gambir square in batavia . the delman driver samiun has fallen in love with dasima, despite already being married to hayati. he attempts to use spells to win her heart. he also has an egg merchant, mak buyung, frighten dasima by telling the young woman that she has committed the sin of zina . samiun eventually succeeds, and dasima goes to live with him and hayati, taking along gold and jewels. hayati has agreed to let samiun take a second wife as she wants dasima's money, which she will use for gambling.  dasima eventually realises that she has been tricked and begins to keep a close eye on her remaining wealth. to get at it, samiun calls the thug puasa and tells him to rob the young woman. at night, as dasima goes to hear the story of amir hamzah at a nearby village, puasa accosts her. he panics when she screams and kills her, then throws her body off a bridge; it washes up behind williams' home. samiun and puasa are caught and sentenced to hang.\n",
            "an employee detects a pharmaceutical company's sinister plan within the executive office, he will be wiped out and his entire family. only his son brian survived, although it was rammed in a drill into the skull and recognizes only one thought: revenge!\n",
            "the film presents the tale of agnese ascalone, daughter of prominent miner vincenzo ascalone, and takes place in a small town in sicily, as did germi's previous film divorce, italian style. agnese is seduced by her sister matilde's fiance, and has a tryst with him for which she confesses and tries to repent, only to be discovered by her mother and father. vincenzo immediately demands that the man, peppino califano, marry his daughter, and antics ensue. the film is a dark satire of sicilian social customs and honor laws, and is very similar to divorce, italian style.\n",
            " muthu  comes to the city from his village for a song contest. he meets ravikanth  in the city and they both work hard for the song contest. muthu tells ravikanth about how he fell in love with devayani  and how he got her to love him. devayani is the daughter of a song teacher in his village. he came to this contest so he could win the money and pay off the loan his mother had to the village leader. they both work together and end up winning the song contest. muthu then goes back to his village with joy and finds out a flood had come and meena's house had been destroyed, it was reported that her father and her body had not been found. muthu thinks that meena is dead, and is very sad. he then goes and gives the money to the village leader, paying off his mother's debt. his mother takes him to the city so that they can find a job and so that muthu can forget about meena. when they reach the city muthu finds out that his song was a big hit. therefore he had become very popular. the holder of the song contest  calls on muthu to come work for him. muthu does not want to, but his mother persuades him. he then works for janakaraj and his daughter falls in love with muthu. muthu who is still in love with meena refused to marry janakaraj's daughter . his mother says meena won't come back and she wishes to see his marriage. therefore he marries roja. soon after the marriage she has to go on a business trip to the usa. meena was in fact alive but has amnesia. muthu's songs are playing on the radio and meena happens to hear it and she remembers again. she promptly gets on the bus to the city from a village where she was helping the fisherman who saved her life. she meets muthu at the recording studio. he is surprised and overjoyed but doesn't tell her about his marriage to roja selvamani . meena is then adamant to get married soon, so they both get married. he then juggles both of his lives . he nearly gets caught when both roja selvamani and muthu with meena go to the saree shop and bump into each other. so to prove that they are two different people he takes a photo and photoshops it to show two of him shaking hands. they then all believe muthu and veera are different people. a thief who muthu had caught and handed over to the police takes revenge by kidnapping his wives. the thief also knows that both are one person, and when he comes to save them it is revealed that both are one person. after he saves them both his wives fight over him, one says that he officially married her first  while the other says that she fell in love first. his wives don't want to share. when he tries to explain they go away angrily. muthu then leaves the city to go back to his village. when he gets home he finds them both in his house. the film ends with them both holding his bag as he enters the house. www.veeratamilan.com\n"
          ]
        }
      ]
    },
    {
      "cell_type": "markdown",
      "source": [
        "Έπειτα θα χωρίσουμε τις περιγραφές σε λέξεις και θα φιλτράρουμε τα stopwords που περιέχει η nltk μαζί με τα σημεία στίξης."
      ],
      "metadata": {
        "id": "kWEHd0sUFbxm"
      }
    },
    {
      "cell_type": "code",
      "source": [
        "from nltk import word_tokenize\n",
        "from nltk.corpus import stopwords\n",
        "# needed for word_tokenize and filtering\n",
        "nltk.download('stopwords')\n",
        "nltk.download('punkt')\n",
        "\n",
        "summaries_words = []\n",
        "for summary in tqdm(summaries_lower):\n",
        "  tokenized = word_tokenize(summary)\n",
        "  filtered_words = [word for word in tokenized if word not in stopwords.words('english') + list(string.punctuation)]\n",
        "  summaries_words.append(filtered_words)"
      ],
      "metadata": {
        "colab": {
          "base_uri": "https://localhost:8080/",
          "height": 118,
          "referenced_widgets": [
            "a3c36b0913ae461a97cb06e14e6f167d",
            "3cf169e5935e41629f165d8fedf312a6",
            "d6f221bcb23245f7bcda1f888944f5c5",
            "4bf2f496fc5a47f6b7247a1272aef0b1",
            "fd5ccdfccd544ad49c555dd81765581f",
            "cc3c985b448448b695d72ee87a4259a0",
            "bb78e2ce9b7c40b9a0921feebc084bdb",
            "4e66670866c04e28a95f96eda48aa0f0",
            "cb7e7fb1cc0a4032a3e6e2555c5217e5",
            "c1deec65b68f4c94994c0d6db4870631",
            "8e2bbd9126a64001bdf059fe074ccc99"
          ]
        },
        "id": "hrxnufT0BqWm",
        "outputId": "b2708298-09ce-4f98-9046-d36147c14d31"
      },
      "execution_count": 76,
      "outputs": [
        {
          "output_type": "stream",
          "name": "stderr",
          "text": [
            "[nltk_data] Downloading package stopwords to /root/nltk_data...\n",
            "[nltk_data]   Package stopwords is already up-to-date!\n",
            "[nltk_data] Downloading package punkt to /root/nltk_data...\n",
            "[nltk_data]   Package punkt is already up-to-date!\n"
          ]
        },
        {
          "output_type": "display_data",
          "data": {
            "application/vnd.jupyter.widget-view+json": {
              "model_id": "a3c36b0913ae461a97cb06e14e6f167d",
              "version_minor": 0,
              "version_major": 2
            },
            "text/plain": [
              "  0%|          | 0/5000 [00:00<?, ?it/s]"
            ]
          },
          "metadata": {}
        }
      ]
    },
    {
      "cell_type": "code",
      "source": [
        "if clean_run:\n",
        "  with open('summaries_tokenized.dump', 'wb') as fid:\n",
        "      pickle.dump(summaries_words, fid)\n",
        "else:\n",
        "  with open('summaries_tokenized.dump', 'rb') as fid:\n",
        "    summaries_words = pickle.load(fid)"
      ],
      "metadata": {
        "id": "riWAWPcAKN6j"
      },
      "execution_count": 87,
      "outputs": []
    },
    {
      "cell_type": "code",
      "source": [
        "for i in range(10):\n",
        "  print(summaries_words[i])"
      ],
      "metadata": {
        "colab": {
          "base_uri": "https://localhost:8080/"
        },
        "id": "oruUred8HYLG",
        "outputId": "a1051131-655b-4ff1-9677-2fbed0956b80"
      },
      "execution_count": 83,
      "outputs": [
        {
          "output_type": "stream",
          "name": "stdout",
          "text": [
            "['vivacious', 'lady', 'story', 'love', 'first', 'sight', 'young', 'botany', 'professor', 'named', 'peter', 'morgan', 'jr.', 'nightclub', 'singer', 'named', 'francey', 'film', 'also', 'comedic', 'elements', 'including', 'repeatedly', 'frustrated', 'attempts', 'newlywed', 'couple', 'find', 'moment', 'alone', 'story', 'begins', 'peter', 'sent', 'manhattan', 'retrieve', 'playboy', 'cousin', 'keith', 'james', 'ellison', 'immediately', 'falls', 'love', 'francey', 'whirlwind', 'one-day', 'courtship', 'peter', 'francey', 'get', 'married', 'keith', 'return', 'morgan', 'family', \"'s\", 'home', 'peter', 'teaches', 'university', 'run', 'father', 'peter', 'morgan', 'sr.', 'mr.', 'morgan', 'known', 'proud', 'overbearing', 'man', 'peter', 'afraid', 'tell', 'marriage', 'arrive', 'mr.', 'morgan', 'peter', \"'s\", 'high-society', 'fiancée', 'helen', 'initially', 'take', 'francey', 'another', 'keith', \"'s\", 'girlfriends', 'peter', 'decides', 'approach', 'father', 'news', 'francey', 'stays', 'women-only', 'hotel', 'peter', 'keith', 'introduce', 'new', 'botany', 'student', 'peter', 'mentions', 'francey', 'father', 'twice', 'occasions', 'mr.', 'morgan', 'interrupts', 'ignores', 'son', 'peter', 'becomes', 'insistent', 'apparently', 'ailing', 'mother', 'flare-up', 'heart', 'condition', 'making', 'conversation', 'impossible', 'third', 'attempt', 'peter', 'decides', 'announce', 'marriage', 'parents', 'university', \"'s\", 'student-faculty', 'prom', 'keith', 'brings', 'francey', 'prom', 'guest', 'francey', 'still', 'posing', 'student', 'develops', 'friendly', 'rapore', 'mrs.', 'morgan', 'gets', 'nasty', 'brawl', 'helen', 'francey', 'accidentally', 'punches', 'peter', \"'s\", 'father', 'peter', 'says', 'nothing', 'prom', 'blurts', 'news', 'father', 'mr.', 'morgan', 'give', 'important', 'speech', 'resulting', 'another', 'argument', 'another', 'flare-up', 'mrs.', 'morgan', \"'s\", 'heart', 'condition', 'prevents', 'mrs.', 'morgan', 'learning', 'francey', 'accidentally', 'finds', 'francey', 'conversation', 'francey', \"'s\", 'apartment', 'mrs.', 'morgan', 'accepts', 'news', 'happily', 'admits', 'francey', 'pretends', 'heart', 'trouble', 'time', 'husband', 'gets', 'argument', 'mr.', 'morgan', 'demands', 'francey', 'leave', 'peter', 'threatening', 'fire', \"n't\", 'francey', 'agrees', 'leave', 'incident', 'releases', 'thirty', 'years', 'marital', 'frustration', 'mrs.', 'morgan', 'also', 'decides', 'leave', 'husband', 'francey', 'tells', 'peter', 'leave', 'unless', 'change', 'father', \"'s\", 'mind', 'train', 'departs', 'peter', \"'s\", 'solution', 'threaten', 'family', 'disgrace', 'getting', 'drunk', 'otherwise', 'misbehaving', 'father', 'relents', 'even', 'costs', 'job', 'peter', 'passes', 'reach', 'train', 'departs', 'francey', 'mrs.', 'morgan', 'aboard', 'mr.', 'morgan', 'finally', 'yielded', 'combined', 'pressure', 'son', 'wife', 'stops', 'train', 'driving', 'ahead', 'peter', 'parking', 'car', 'track', 'marriages', 'saved', 'peter', 'francey', 'finally', 'honeymoon', 'train']\n",
            "['cleaning', 'underground', 'home', 'mole', 'senses', 'spring', 'probably', 'beginning', 'ground', 'curious', 'decides', 'every', 'mole', 'see', 'world', 'least', 'lifetime', 'makes', 'tunnel', 'soon', 'finds', 'english', 'countryside', 'mole', 'marvelled', 'new', 'world', 'wishes', 'see', 'every', 'bit', 'along', 'comes', 'rat', 'befriends', 'mole', 'offers', 'ride', 'small', 'blue', 'rowboat', 'well', 'short', 'picnic', 'riverbank', 'rat', 'tells', 'mole', 'different', 'creatures', 'inhabitate', 'near', 'river', \"'s\", 'badger', 'grumpy', \"n't\", 'like', 'company', 'toad', 'wealthy', 'lives', 'fine', 'mansion', 'along', 'riverbank', 'named', '``', 'toad', 'hall', \"''\", 'two', 'friends', 'set', 'meet', 'mr.', 'mole', 'rat', 'bewildered', 'see', 'toad', 'swept', 'away', 'new', 'mania', 'love', 'gypsy', 'carts', 'though', 'rat', 'hesitates', 'toad', 'offers', 'new', 'friend', 'wild', 'ride', 'vehicle', 'ride', 'thrilling', 'new', 'mole', 'much', 'rat', 'ends', 'abruptly', 'cart', 'destroyed', 'passing', 'motorcar', 'toad', \"n't\", 'mind', 'instantly', 'taken', 'new', 'mania', 'motorcars', 'determined', 'drive', 'countryside', 'new', 'motorcar', 'rat', 'mole', 'fear', 'friend', \"'s\", 'new', 'mania', 'dangerous', 'toad', 'hardly', 'drive', 'mole', 'seeks', 'advise', 'badger', 'lives', 'deep', 'inside', 'wild', 'wood', \"'s\", 'told', 'never', 'go', 'since', 'dangerous', 'place', 'rat', 'follows', 'mole', 'badger', \"'s\", 'house', 'two', 'animals', 'beg', 'help', 'badger', 'agrees', 'help', 'soon', 'winter', 'hibernating', 'animal', 'spring', 'comes', 'badger', 'orders', 'toad', 'kept', 'indoors', 'away', 'disastrous', 'rides', 'motorcars', 'toad', 'upset', 'outsmarts', 'rat', 'two', 'left', 'alone', 'determined', 'toad', 'sets', 'find', 'motorcar', 'rather', 'steal', 'one', 'toad', \"'s\", 'crime', 'lands', 'prison', 'friends', 'worry', 'mysterious', 'disappearance', 'help', 'young', 'girl', 'magistrate', \"'s\", 'daughter', 'toad', 'manages', 'escape', 'cell', 'return', 'toad', 'hall', 'however', 'upon', 'return', 'shocked', 'find', 'home', 'overtaken', 'band', 'ruthless', 'weasels', 'friends', 'rat', 'mole', 'badger', 'otter', 'cook', 'plan', 'rescover', 'toad', \"'s\", 'priced', 'home', 'restore', 'order', 'entire', 'community', 'along', 'riverbank']\n",
            "['shinnojo', 'low', 'level', 'samurai', 'lives', 'pretty', 'dutiful', 'loyal', 'wife', 'kayo', 'come', 'find', 'position', 'castle', 'food-taster', 'feudal', 'lord', 'boring', 'pointless', 'talks', 'opening', 'kendo', 'school', 'open', 'boys', 'castes', 'teach', 'use', 'sword', 'act', 'dream', 'becomes', 'ill', 'fever', 'tasting', 'sashimi', 'made', 'shell', 'fish', 'investigation', 'reveals', 'poisoning', 'due', 'human', 'conspiracy', 'poor', 'choice', 'food', 'season', 'three', 'days', 'awakes', 'finds', 'toxin', 'food', 'blinded', 'kayo', 'summoned', 'shinnojo', \"'s\", 'family', 'explain', 'couple', 'survive', 'uncle', 'laments', 'longer', 'knows', 'anybody', 'influence', 'castle', 'asks', 'kayo', 'knows', 'anybody', 'relates', 'toya', 'shimada', 'chief', 'duty', 'officer', 'castle', 'samurai', 'high', 'rank', 'offered', 'help', 'tell', 'act', 'upon', 'offer', 'assistance', 'message', 'castle', 'brings', 'good', 'news', 'shinnojo', \"'s\", 'stipend', 'rice', 'remain', 'life', 'aunt', 'tells', 'kayo', 'seen', 'another', 'man', 'tokuhei', 'faithful', 'servant', 'follow', 'kayo', 'notices', 'followed', 'although', 'tokuhei', 'offers', 'cover', 'reveals', 'shinnojo', 'shimada', 'offered', 'help', 'price', 'shown', 'forced', 'upon', 'solicited', 'two', 'additional', 'trysts', 'threatening', 'tell', 'shinnojo', 'first', 'enraged', 'shinnojo', 'divorces', 'orders', 'house', 'revealed', 'shimada', 'nothing', 'maintaining', 'stipend', 'came', 'gratitude', 'lord', 'clan', 'shinnojo', 'seeks', 'renew', 'skill', 'sword', 'blind', 'man', 'avenge', 'dishonor', 'kayo', 'tokuhei', 'sends', 'message', 'shimada', 'set', 'duel', 'additional', 'message', 'underestimate', 'two', 'samurai', 'meet', 'stables', 'near', 'river', 'decide', 'destinies', 'interesting', 'fight', 'shinnojo', 'cuts', 'shimada', \"'s\", 'arm', 'leaves', 'shimada', 'live', 'horribly', 'disfigured', 'telling', 'tokuhei', 'avenged', 'kayo', \"'s\", 'dishonor', 'next', 'day', 'shinnojo', 'informed', 'injured', 'shimada', 'refused', 'tell', 'anyone', 'happened', 'injured', 'duel', 'turns', 'night', 'shimada', 'committed', 'seppuku', 'killed', 'samurai', 'live', 'one', 'arm', 'dies', 'without', 'anyone', 'knowing', 'sin', 'mimura', 'family', 'violation', 'kayo', 'dishonorable', 'injury', 'blinded', 'man', 'tokuhei', 'tells', 'shinnojo', 'found', 'girl', 'work', 'kitchen', 'cook', 'one', 'taste', 'girl', \"'s\", 'food', 'shinnojo', 'recognizes', 'wife', \"'s\", 'cooking', 'calls', 'kayo', 'come', 'house', 'shinnojo', 'kayo', 'reconcile', 'understanding', 'begin', 'life', 'together', 'anew']\n",
            "['benny', 'horowitz', 'john', 'gilbert', 'reformed', 'gangster', 'proposes', 'marriage', 'bertha', 'neighbor', 'frequent', 'visitor', 'served', 'sentence', 'bertha', 'rejects', 'proposal', 'believes', 'still', 'love', 'freida', 'benny', \"'s\", 'former', 'gun', 'moll', 'party', 'freida', 'seeks', 'make', 'benny', 'jealous', 'former', 'rival', 'benny', 'takes', 'control', 'gang', \"'s\", 'leadership', 'rival', \"'s\", 'death', 'ruled', 'accidental', 'benny', 'bertha', 'go', 'together', 'start', 'new', 'life']\n",
            "['laura', 'fabrizio', 'meeting', 'every', 'summer', 'forest', 'parent', \"'s\", 'summer', 'home', 'fabrizio', 'solitary', 'boy', 'dog', 'company', 'laura', 'sweet', 'unconfident', 'child', 'summer', 'new', 'aspects', 'enter', 'story', 'growing', 'film', 'represents', 'part', 'child', 'part', 'adult', 'part', 'naive', 'part', 'knowing', 'laura', 'falling', 'love', 'fabrizio', 'displays', 'new', 'sexual', 'awareness', 'masked', 'malice', 'fabrizio', 'becomes', 'inexplicably', 'cruel', 'accelerates', 'unwarranted', 'torment', 'laura', 'many', 'ways', 'including', 'tying', 'putting', 'snake', 'near', 'killing', 'pet', 'bird', 'fond', 'fabrizio', 'prides', \"'king\", 'forest', 'rubbishes', 'laura', \"'s\", 'tender', 'attempts', 'queen', 'one', 'day', 'climb', '``', 'blue', 'mountain', \"''\", 'mysterious', 'tall', 'mountain', 'forest', \"'s\", 'edge', 'discover', 'ancient', 'building', 'ruins', 'exploring', 'find', 'cave', 'inside', 'fabrizio', 'seduces', 'laura', 'fabrizio', \"'s\", 'cruel', 'streak', 'boosted', 'new', 'sexual', 'confidence', 'one', 'point', 'virtually', 'forces', 'laura', 'much', 'upset', 'relent', 'makes', 'clear', 'wants', 'fabrizio', 'gentle', 'ridicules', 'things', 'develop', 'meet', 'sylvia', 'unlike', 'previously', 'virginal', 'laura', 'sylvia', 'confident', 'assertive', 'fabrizio', 'develops', 'fascination', 'eventually', 'bribing', 'laura', 'fetch', 'forest', 'join', 'play', 'sylvia', 'aware', 'fabrizio', '’', 'interest', 'asserts', 'affections', 'quickly', 'replacing', 'laura', 'demoting', 'servant', 'victim', 'fabrizio', 'takes', 'delight', 'laura', 'reluctant', 'leave', 'old', 'friend', 'new', 'lover', 'stays', 'becomes', 'target', 'duo', \"'s\", 'ever', 'progressing', 'cruelty', 'one', 'point', \"'hunt\", 'laura', 'bows', 'arrows', 'another', 'pretend', 'throw', 'high', 'ledge', 'make', 'love', 'front', 'insisting', 'punishment', 'must', 'watch', 'leaving', 'laura', 'confused', 'heartbroken', 'end', 'summer', 'girls', 'talking', 'returning', 'school', 'fabrizio', 'becomes', 'pensive', 'agitated', 'insists', 'taking', 'sylvia', 'ruins', 'first', 'time', 'three', 'go', 'cave', 'escape', 'thunderstorm', 'fabrizio', 'pretends', 'lost', 'laura', 'sylvia', 'breaks', 'sobbing', 'mother', 'traces', 'confidence', 'maturity', 'lost', 'fear', 'cave', 'fabrizio', 'repeatedly', 'begs', 'sylvia', 'stay', 'forever', 'morning', 'sylvia', 'still', 'lost', 'cave', 'rejects', 'desperate', 'fabrizio', 'pleas', 'stay', 'becomes', 'hysterical', 'kills', 'knife', 'feeling', 'way', 'wo', \"n't\", 'lose', 'stays', 'dead', 'body', 'gives', 'laura', 'flashlight', 'telling', 'knows', 'way', 'home', 'laura', 'reluctantly', 'leaves']\n",
            "['film', 'takes', 'place', 'summer', '1969', 'nasa', 'astronauts', 'successfully', 'landed', 'moon', 'first', 'time', 'apollo', '11', 'spacecraft', 'katherine', 'suffering', 'panic', 'attacks', 'caused', 'automobile', 'accident', 'resulted', 'loss', 'unborn', 'child', 'refuses', 'leave', 'house', 'washington', 'man', 'adventure', 'enjoys', 'travel', 'experiencing', 'life', 'result', 'conflict', 'two', 'eleven-year-old', 'son', 'andy', 'never', 'traveled', 'car', 'ever', 'left', 'town', 'washington', 'also', 'maintains', 'ragtag', 'collection', 'automobiles', 'various', 'vintages', 'decides', 'travel', 'andy', 'craters', 'moon', 'national', 'park', 'arriving', 'moment', 'apollo', '11', 'crew', 'lands', 'moon', 'make', 'trip', 'washington', \"'s\", '1949', 'pontiac', 'eight', 'convertible', 'nicknamed', '``', 'chief', \"''\", 'make', 'enemies', 'new', 'friends', 'learn', 'meaning', 'family', 'pontiac', \"'s\", 'mileage', 'arriving', 'destination', 'exactly', 'distance', 'miles', 'earth', 'moon', 'katherine', 'finds', 'husband', 'son', 'going', 'faces', 'fears', 'follows', 'one', 'washington', \"'s\", 'cars', 'amphicar', 'learns', 'importance', 'living', 'follows', 'pontiac', 'craters', 'moon', 'way', 'pontiac', \"'s\", 'engine', 'dies', 'washington', 'arranges', 'mechanic', 'install', 'replacement', 'engine', 'leave', 'premises', 'without', 'paying', 'engine', \"n't\", 'enough', 'money', 'pay', 'moment', 'apollo', '11', 'landing', 'pontiac', 'crashes', 'crater', 'craters', 'moon', 'andy', 'wheel', 'katherine', 'arrives', 'escape', 'police', 'chase', 'driving', 'amphicar', 'lake', 'canada', 'safety', 'adventure', 'brings', 'bellamy', 'family', 'together', 'ready', 'begin', 'normal', 'life']\n",
            "['dasima', 'nyai', 'native', 'mistress', 'englishman', 'edward', 'william', 'couple', 'daughter', 'nancy', 'live', 'home', 'near', 'gambir', 'square', 'batavia', 'delman', 'driver', 'samiun', 'fallen', 'love', 'dasima', 'despite', 'already', 'married', 'hayati', 'attempts', 'use', 'spells', 'win', 'heart', 'also', 'egg', 'merchant', 'mak', 'buyung', 'frighten', 'dasima', 'telling', 'young', 'woman', 'committed', 'sin', 'zina', 'samiun', 'eventually', 'succeeds', 'dasima', 'goes', 'live', 'hayati', 'taking', 'along', 'gold', 'jewels', 'hayati', 'agreed', 'let', 'samiun', 'take', 'second', 'wife', 'wants', 'dasima', \"'s\", 'money', 'use', 'gambling', 'dasima', 'eventually', 'realises', 'tricked', 'begins', 'keep', 'close', 'eye', 'remaining', 'wealth', 'get', 'samiun', 'calls', 'thug', 'puasa', 'tells', 'rob', 'young', 'woman', 'night', 'dasima', 'goes', 'hear', 'story', 'amir', 'hamzah', 'nearby', 'village', 'puasa', 'accosts', 'panics', 'screams', 'kills', 'throws', 'body', 'bridge', 'washes', 'behind', 'williams', 'home', 'samiun', 'puasa', 'caught', 'sentenced', 'hang']\n",
            "['employee', 'detects', 'pharmaceutical', 'company', \"'s\", 'sinister', 'plan', 'within', 'executive', 'office', 'wiped', 'entire', 'family', 'son', 'brian', 'survived', 'although', 'rammed', 'drill', 'skull', 'recognizes', 'one', 'thought', 'revenge']\n",
            "['film', 'presents', 'tale', 'agnese', 'ascalone', 'daughter', 'prominent', 'miner', 'vincenzo', 'ascalone', 'takes', 'place', 'small', 'town', 'sicily', 'germi', \"'s\", 'previous', 'film', 'divorce', 'italian', 'style', 'agnese', 'seduced', 'sister', 'matilde', \"'s\", 'fiance', 'tryst', 'confesses', 'tries', 'repent', 'discovered', 'mother', 'father', 'vincenzo', 'immediately', 'demands', 'man', 'peppino', 'califano', 'marry', 'daughter', 'antics', 'ensue', 'film', 'dark', 'satire', 'sicilian', 'social', 'customs', 'honor', 'laws', 'similar', 'divorce', 'italian', 'style']\n",
            "['muthu', 'comes', 'city', 'village', 'song', 'contest', 'meets', 'ravikanth', 'city', 'work', 'hard', 'song', 'contest', 'muthu', 'tells', 'ravikanth', 'fell', 'love', 'devayani', 'got', 'love', 'devayani', 'daughter', 'song', 'teacher', 'village', 'came', 'contest', 'could', 'win', 'money', 'pay', 'loan', 'mother', 'village', 'leader', 'work', 'together', 'end', 'winning', 'song', 'contest', 'muthu', 'goes', 'back', 'village', 'joy', 'finds', 'flood', 'come', 'meena', \"'s\", 'house', 'destroyed', 'reported', 'father', 'body', 'found', 'muthu', 'thinks', 'meena', 'dead', 'sad', 'goes', 'gives', 'money', 'village', 'leader', 'paying', 'mother', \"'s\", 'debt', 'mother', 'takes', 'city', 'find', 'job', 'muthu', 'forget', 'meena', 'reach', 'city', 'muthu', 'finds', 'song', 'big', 'hit', 'therefore', 'become', 'popular', 'holder', 'song', 'contest', 'calls', 'muthu', 'come', 'work', 'muthu', 'want', 'mother', 'persuades', 'works', 'janakaraj', 'daughter', 'falls', 'love', 'muthu', 'muthu', 'still', 'love', 'meena', 'refused', 'marry', 'janakaraj', \"'s\", 'daughter', 'mother', 'says', 'meena', 'wo', \"n't\", 'come', 'back', 'wishes', 'see', 'marriage', 'therefore', 'marries', 'roja', 'soon', 'marriage', 'go', 'business', 'trip', 'usa', 'meena', 'fact', 'alive', 'amnesia', 'muthu', \"'s\", 'songs', 'playing', 'radio', 'meena', 'happens', 'hear', 'remembers', 'promptly', 'gets', 'bus', 'city', 'village', 'helping', 'fisherman', 'saved', 'life', 'meets', 'muthu', 'recording', 'studio', 'surprised', 'overjoyed', \"n't\", 'tell', 'marriage', 'roja', 'selvamani', 'meena', 'adamant', 'get', 'married', 'soon', 'get', 'married', 'juggles', 'lives', 'nearly', 'gets', 'caught', 'roja', 'selvamani', 'muthu', 'meena', 'go', 'saree', 'shop', 'bump', 'prove', 'two', 'different', 'people', 'takes', 'photo', 'photoshops', 'show', 'two', 'shaking', 'hands', 'believe', 'muthu', 'veera', 'different', 'people', 'thief', 'muthu', 'caught', 'handed', 'police', 'takes', 'revenge', 'kidnapping', 'wives', 'thief', 'also', 'knows', 'one', 'person', 'comes', 'save', 'revealed', 'one', 'person', 'saves', 'wives', 'fight', 'one', 'says', 'officially', 'married', 'first', 'says', 'fell', 'love', 'first', 'wives', \"n't\", 'want', 'share', 'tries', 'explain', 'go', 'away', 'angrily', 'muthu', 'leaves', 'city', 'go', 'back', 'village', 'gets', 'home', 'finds', 'house', 'film', 'ends', 'holding', 'bag', 'enters', 'house', 'www.veeratamilan.com']\n"
          ]
        }
      ]
    },
    {
      "cell_type": "markdown",
      "source": [
        "Παρατηρούμε πως εξαιτίας του είδους των προτάσεων που επεξεργαζόμαστε υπάρχουν πολλές λέξεις που επαναλαμβάνονται στις περιγραφές και δεν προσδίδουν σημασία, όπως για παράδειγμα οι λέξεις film, jr., sr., mr., mrs. ή αντικείμενα που δεν είναι λέξεις αλλά αναγνωρίστηκαν από την επεξεργασία μας ως τέτοιες όπως π.χ. ``, '', 's, n't, ’ ή ακόμα και links όπως π.χ. www.veeratamilan.com. Τέλος, αφαιρούμε και πολύ σύντομες συμβολοσειρές (μικρότερες από 3 γράμματα)."
      ],
      "metadata": {
        "id": "tqTccy9jK9pt"
      }
    },
    {
      "cell_type": "code",
      "source": [
        "extra_filtering = [\"film\",\"jr.\", \"sr.\", \"mr.\", \"mrs.\", \"``\", \"''\", \"'s\", \"n't\",\"’\"]\n",
        "summaries_final = []\n",
        "for summary in tqdm(summaries_words):\n",
        "  filtered_words = [word for word in summary if (word not in extra_filtering and \n",
        "                                                 len(word)>2 and not re.search(\"^www\\.[a-zA-z\\d]+\\.[a-zA-z]+$\", word))]\n",
        "  summaries_final.append(filtered_words)"
      ],
      "metadata": {
        "colab": {
          "base_uri": "https://localhost:8080/",
          "height": 49,
          "referenced_widgets": [
            "7fd7efb59df64a2483146a7a878eb315",
            "8521c997e5b5497388bbaf4c0d5b2467",
            "ba429eb4e6ae43b98bf5ff2b75c8b79f",
            "da3993bd2d84418c8b07880064758106",
            "77034ecafd564772976b9c0ea8d79ca2",
            "d74cdfd0d0b74577ab318f264f241e48",
            "ec05193415714d3a9e7e2fe2922b918c",
            "ec26bba1e2dc4d59b5e7cda63f5c0356",
            "9991cb235dc34253b3ab094c5edcb3a7",
            "d0fdc60ef724453b8116c91030f0a328",
            "4b0c836057864030b530501f257c3707"
          ]
        },
        "id": "c47LUH_XMbCz",
        "outputId": "e8c935fa-8743-46bc-931c-0351ff71b776"
      },
      "execution_count": 102,
      "outputs": [
        {
          "output_type": "display_data",
          "data": {
            "application/vnd.jupyter.widget-view+json": {
              "model_id": "7fd7efb59df64a2483146a7a878eb315",
              "version_minor": 0,
              "version_major": 2
            },
            "text/plain": [
              "  0%|          | 0/5000 [00:00<?, ?it/s]"
            ]
          },
          "metadata": {}
        }
      ]
    },
    {
      "cell_type": "code",
      "source": [
        "for i in range(10):\n",
        "  print(summaries_final[i])"
      ],
      "metadata": {
        "colab": {
          "base_uri": "https://localhost:8080/"
        },
        "id": "IhvBeJ8POfwO",
        "outputId": "2e50cb11-3764-42ab-8730-4834a8561f8d"
      },
      "execution_count": 103,
      "outputs": [
        {
          "output_type": "stream",
          "name": "stdout",
          "text": [
            "['vivacious', 'lady', 'story', 'love', 'first', 'sight', 'young', 'botany', 'professor', 'named', 'peter', 'morgan', 'nightclub', 'singer', 'named', 'francey', 'also', 'comedic', 'elements', 'including', 'repeatedly', 'frustrated', 'attempts', 'newlywed', 'couple', 'find', 'moment', 'alone', 'story', 'begins', 'peter', 'sent', 'manhattan', 'retrieve', 'playboy', 'cousin', 'keith', 'james', 'ellison', 'immediately', 'falls', 'love', 'francey', 'whirlwind', 'one-day', 'courtship', 'peter', 'francey', 'get', 'married', 'keith', 'return', 'morgan', 'family', 'home', 'peter', 'teaches', 'university', 'run', 'father', 'peter', 'morgan', 'morgan', 'known', 'proud', 'overbearing', 'man', 'peter', 'afraid', 'tell', 'marriage', 'arrive', 'morgan', 'peter', 'high-society', 'fiancée', 'helen', 'initially', 'take', 'francey', 'another', 'keith', 'girlfriends', 'peter', 'decides', 'approach', 'father', 'news', 'francey', 'stays', 'women-only', 'hotel', 'peter', 'keith', 'introduce', 'new', 'botany', 'student', 'peter', 'mentions', 'francey', 'father', 'twice', 'occasions', 'morgan', 'interrupts', 'ignores', 'son', 'peter', 'becomes', 'insistent', 'apparently', 'ailing', 'mother', 'flare-up', 'heart', 'condition', 'making', 'conversation', 'impossible', 'third', 'attempt', 'peter', 'decides', 'announce', 'marriage', 'parents', 'university', 'student-faculty', 'prom', 'keith', 'brings', 'francey', 'prom', 'guest', 'francey', 'still', 'posing', 'student', 'develops', 'friendly', 'rapore', 'morgan', 'gets', 'nasty', 'brawl', 'helen', 'francey', 'accidentally', 'punches', 'peter', 'father', 'peter', 'says', 'nothing', 'prom', 'blurts', 'news', 'father', 'morgan', 'give', 'important', 'speech', 'resulting', 'another', 'argument', 'another', 'flare-up', 'morgan', 'heart', 'condition', 'prevents', 'morgan', 'learning', 'francey', 'accidentally', 'finds', 'francey', 'conversation', 'francey', 'apartment', 'morgan', 'accepts', 'news', 'happily', 'admits', 'francey', 'pretends', 'heart', 'trouble', 'time', 'husband', 'gets', 'argument', 'morgan', 'demands', 'francey', 'leave', 'peter', 'threatening', 'fire', 'francey', 'agrees', 'leave', 'incident', 'releases', 'thirty', 'years', 'marital', 'frustration', 'morgan', 'also', 'decides', 'leave', 'husband', 'francey', 'tells', 'peter', 'leave', 'unless', 'change', 'father', 'mind', 'train', 'departs', 'peter', 'solution', 'threaten', 'family', 'disgrace', 'getting', 'drunk', 'otherwise', 'misbehaving', 'father', 'relents', 'even', 'costs', 'job', 'peter', 'passes', 'reach', 'train', 'departs', 'francey', 'morgan', 'aboard', 'morgan', 'finally', 'yielded', 'combined', 'pressure', 'son', 'wife', 'stops', 'train', 'driving', 'ahead', 'peter', 'parking', 'car', 'track', 'marriages', 'saved', 'peter', 'francey', 'finally', 'honeymoon', 'train']\n",
            "['cleaning', 'underground', 'home', 'mole', 'senses', 'spring', 'probably', 'beginning', 'ground', 'curious', 'decides', 'every', 'mole', 'see', 'world', 'least', 'lifetime', 'makes', 'tunnel', 'soon', 'finds', 'english', 'countryside', 'mole', 'marvelled', 'new', 'world', 'wishes', 'see', 'every', 'bit', 'along', 'comes', 'rat', 'befriends', 'mole', 'offers', 'ride', 'small', 'blue', 'rowboat', 'well', 'short', 'picnic', 'riverbank', 'rat', 'tells', 'mole', 'different', 'creatures', 'inhabitate', 'near', 'river', 'badger', 'grumpy', 'like', 'company', 'toad', 'wealthy', 'lives', 'fine', 'mansion', 'along', 'riverbank', 'named', 'toad', 'hall', 'two', 'friends', 'set', 'meet', 'mole', 'rat', 'bewildered', 'see', 'toad', 'swept', 'away', 'new', 'mania', 'love', 'gypsy', 'carts', 'though', 'rat', 'hesitates', 'toad', 'offers', 'new', 'friend', 'wild', 'ride', 'vehicle', 'ride', 'thrilling', 'new', 'mole', 'much', 'rat', 'ends', 'abruptly', 'cart', 'destroyed', 'passing', 'motorcar', 'toad', 'mind', 'instantly', 'taken', 'new', 'mania', 'motorcars', 'determined', 'drive', 'countryside', 'new', 'motorcar', 'rat', 'mole', 'fear', 'friend', 'new', 'mania', 'dangerous', 'toad', 'hardly', 'drive', 'mole', 'seeks', 'advise', 'badger', 'lives', 'deep', 'inside', 'wild', 'wood', 'told', 'never', 'since', 'dangerous', 'place', 'rat', 'follows', 'mole', 'badger', 'house', 'two', 'animals', 'beg', 'help', 'badger', 'agrees', 'help', 'soon', 'winter', 'hibernating', 'animal', 'spring', 'comes', 'badger', 'orders', 'toad', 'kept', 'indoors', 'away', 'disastrous', 'rides', 'motorcars', 'toad', 'upset', 'outsmarts', 'rat', 'two', 'left', 'alone', 'determined', 'toad', 'sets', 'find', 'motorcar', 'rather', 'steal', 'one', 'toad', 'crime', 'lands', 'prison', 'friends', 'worry', 'mysterious', 'disappearance', 'help', 'young', 'girl', 'magistrate', 'daughter', 'toad', 'manages', 'escape', 'cell', 'return', 'toad', 'hall', 'however', 'upon', 'return', 'shocked', 'find', 'home', 'overtaken', 'band', 'ruthless', 'weasels', 'friends', 'rat', 'mole', 'badger', 'otter', 'cook', 'plan', 'rescover', 'toad', 'priced', 'home', 'restore', 'order', 'entire', 'community', 'along', 'riverbank']\n",
            "['shinnojo', 'low', 'level', 'samurai', 'lives', 'pretty', 'dutiful', 'loyal', 'wife', 'kayo', 'come', 'find', 'position', 'castle', 'food-taster', 'feudal', 'lord', 'boring', 'pointless', 'talks', 'opening', 'kendo', 'school', 'open', 'boys', 'castes', 'teach', 'use', 'sword', 'act', 'dream', 'becomes', 'ill', 'fever', 'tasting', 'sashimi', 'made', 'shell', 'fish', 'investigation', 'reveals', 'poisoning', 'due', 'human', 'conspiracy', 'poor', 'choice', 'food', 'season', 'three', 'days', 'awakes', 'finds', 'toxin', 'food', 'blinded', 'kayo', 'summoned', 'shinnojo', 'family', 'explain', 'couple', 'survive', 'uncle', 'laments', 'longer', 'knows', 'anybody', 'influence', 'castle', 'asks', 'kayo', 'knows', 'anybody', 'relates', 'toya', 'shimada', 'chief', 'duty', 'officer', 'castle', 'samurai', 'high', 'rank', 'offered', 'help', 'tell', 'act', 'upon', 'offer', 'assistance', 'message', 'castle', 'brings', 'good', 'news', 'shinnojo', 'stipend', 'rice', 'remain', 'life', 'aunt', 'tells', 'kayo', 'seen', 'another', 'man', 'tokuhei', 'faithful', 'servant', 'follow', 'kayo', 'notices', 'followed', 'although', 'tokuhei', 'offers', 'cover', 'reveals', 'shinnojo', 'shimada', 'offered', 'help', 'price', 'shown', 'forced', 'upon', 'solicited', 'two', 'additional', 'trysts', 'threatening', 'tell', 'shinnojo', 'first', 'enraged', 'shinnojo', 'divorces', 'orders', 'house', 'revealed', 'shimada', 'nothing', 'maintaining', 'stipend', 'came', 'gratitude', 'lord', 'clan', 'shinnojo', 'seeks', 'renew', 'skill', 'sword', 'blind', 'man', 'avenge', 'dishonor', 'kayo', 'tokuhei', 'sends', 'message', 'shimada', 'set', 'duel', 'additional', 'message', 'underestimate', 'two', 'samurai', 'meet', 'stables', 'near', 'river', 'decide', 'destinies', 'interesting', 'fight', 'shinnojo', 'cuts', 'shimada', 'arm', 'leaves', 'shimada', 'live', 'horribly', 'disfigured', 'telling', 'tokuhei', 'avenged', 'kayo', 'dishonor', 'next', 'day', 'shinnojo', 'informed', 'injured', 'shimada', 'refused', 'tell', 'anyone', 'happened', 'injured', 'duel', 'turns', 'night', 'shimada', 'committed', 'seppuku', 'killed', 'samurai', 'live', 'one', 'arm', 'dies', 'without', 'anyone', 'knowing', 'sin', 'mimura', 'family', 'violation', 'kayo', 'dishonorable', 'injury', 'blinded', 'man', 'tokuhei', 'tells', 'shinnojo', 'found', 'girl', 'work', 'kitchen', 'cook', 'one', 'taste', 'girl', 'food', 'shinnojo', 'recognizes', 'wife', 'cooking', 'calls', 'kayo', 'come', 'house', 'shinnojo', 'kayo', 'reconcile', 'understanding', 'begin', 'life', 'together', 'anew']\n",
            "['benny', 'horowitz', 'john', 'gilbert', 'reformed', 'gangster', 'proposes', 'marriage', 'bertha', 'neighbor', 'frequent', 'visitor', 'served', 'sentence', 'bertha', 'rejects', 'proposal', 'believes', 'still', 'love', 'freida', 'benny', 'former', 'gun', 'moll', 'party', 'freida', 'seeks', 'make', 'benny', 'jealous', 'former', 'rival', 'benny', 'takes', 'control', 'gang', 'leadership', 'rival', 'death', 'ruled', 'accidental', 'benny', 'bertha', 'together', 'start', 'new', 'life']\n",
            "['laura', 'fabrizio', 'meeting', 'every', 'summer', 'forest', 'parent', 'summer', 'home', 'fabrizio', 'solitary', 'boy', 'dog', 'company', 'laura', 'sweet', 'unconfident', 'child', 'summer', 'new', 'aspects', 'enter', 'story', 'growing', 'represents', 'part', 'child', 'part', 'adult', 'part', 'naive', 'part', 'knowing', 'laura', 'falling', 'love', 'fabrizio', 'displays', 'new', 'sexual', 'awareness', 'masked', 'malice', 'fabrizio', 'becomes', 'inexplicably', 'cruel', 'accelerates', 'unwarranted', 'torment', 'laura', 'many', 'ways', 'including', 'tying', 'putting', 'snake', 'near', 'killing', 'pet', 'bird', 'fond', 'fabrizio', 'prides', \"'king\", 'forest', 'rubbishes', 'laura', 'tender', 'attempts', 'queen', 'one', 'day', 'climb', 'blue', 'mountain', 'mysterious', 'tall', 'mountain', 'forest', 'edge', 'discover', 'ancient', 'building', 'ruins', 'exploring', 'find', 'cave', 'inside', 'fabrizio', 'seduces', 'laura', 'fabrizio', 'cruel', 'streak', 'boosted', 'new', 'sexual', 'confidence', 'one', 'point', 'virtually', 'forces', 'laura', 'much', 'upset', 'relent', 'makes', 'clear', 'wants', 'fabrizio', 'gentle', 'ridicules', 'things', 'develop', 'meet', 'sylvia', 'unlike', 'previously', 'virginal', 'laura', 'sylvia', 'confident', 'assertive', 'fabrizio', 'develops', 'fascination', 'eventually', 'bribing', 'laura', 'fetch', 'forest', 'join', 'play', 'sylvia', 'aware', 'fabrizio', 'interest', 'asserts', 'affections', 'quickly', 'replacing', 'laura', 'demoting', 'servant', 'victim', 'fabrizio', 'takes', 'delight', 'laura', 'reluctant', 'leave', 'old', 'friend', 'new', 'lover', 'stays', 'becomes', 'target', 'duo', 'ever', 'progressing', 'cruelty', 'one', 'point', \"'hunt\", 'laura', 'bows', 'arrows', 'another', 'pretend', 'throw', 'high', 'ledge', 'make', 'love', 'front', 'insisting', 'punishment', 'must', 'watch', 'leaving', 'laura', 'confused', 'heartbroken', 'end', 'summer', 'girls', 'talking', 'returning', 'school', 'fabrizio', 'becomes', 'pensive', 'agitated', 'insists', 'taking', 'sylvia', 'ruins', 'first', 'time', 'three', 'cave', 'escape', 'thunderstorm', 'fabrizio', 'pretends', 'lost', 'laura', 'sylvia', 'breaks', 'sobbing', 'mother', 'traces', 'confidence', 'maturity', 'lost', 'fear', 'cave', 'fabrizio', 'repeatedly', 'begs', 'sylvia', 'stay', 'forever', 'morning', 'sylvia', 'still', 'lost', 'cave', 'rejects', 'desperate', 'fabrizio', 'pleas', 'stay', 'becomes', 'hysterical', 'kills', 'knife', 'feeling', 'way', 'lose', 'stays', 'dead', 'body', 'gives', 'laura', 'flashlight', 'telling', 'knows', 'way', 'home', 'laura', 'reluctantly', 'leaves']\n",
            "['takes', 'place', 'summer', '1969', 'nasa', 'astronauts', 'successfully', 'landed', 'moon', 'first', 'time', 'apollo', 'spacecraft', 'katherine', 'suffering', 'panic', 'attacks', 'caused', 'automobile', 'accident', 'resulted', 'loss', 'unborn', 'child', 'refuses', 'leave', 'house', 'washington', 'man', 'adventure', 'enjoys', 'travel', 'experiencing', 'life', 'result', 'conflict', 'two', 'eleven-year-old', 'son', 'andy', 'never', 'traveled', 'car', 'ever', 'left', 'town', 'washington', 'also', 'maintains', 'ragtag', 'collection', 'automobiles', 'various', 'vintages', 'decides', 'travel', 'andy', 'craters', 'moon', 'national', 'park', 'arriving', 'moment', 'apollo', 'crew', 'lands', 'moon', 'make', 'trip', 'washington', '1949', 'pontiac', 'eight', 'convertible', 'nicknamed', 'chief', 'make', 'enemies', 'new', 'friends', 'learn', 'meaning', 'family', 'pontiac', 'mileage', 'arriving', 'destination', 'exactly', 'distance', 'miles', 'earth', 'moon', 'katherine', 'finds', 'husband', 'son', 'going', 'faces', 'fears', 'follows', 'one', 'washington', 'cars', 'amphicar', 'learns', 'importance', 'living', 'follows', 'pontiac', 'craters', 'moon', 'way', 'pontiac', 'engine', 'dies', 'washington', 'arranges', 'mechanic', 'install', 'replacement', 'engine', 'leave', 'premises', 'without', 'paying', 'engine', 'enough', 'money', 'pay', 'moment', 'apollo', 'landing', 'pontiac', 'crashes', 'crater', 'craters', 'moon', 'andy', 'wheel', 'katherine', 'arrives', 'escape', 'police', 'chase', 'driving', 'amphicar', 'lake', 'canada', 'safety', 'adventure', 'brings', 'bellamy', 'family', 'together', 'ready', 'begin', 'normal', 'life']\n",
            "['dasima', 'nyai', 'native', 'mistress', 'englishman', 'edward', 'william', 'couple', 'daughter', 'nancy', 'live', 'home', 'near', 'gambir', 'square', 'batavia', 'delman', 'driver', 'samiun', 'fallen', 'love', 'dasima', 'despite', 'already', 'married', 'hayati', 'attempts', 'use', 'spells', 'win', 'heart', 'also', 'egg', 'merchant', 'mak', 'buyung', 'frighten', 'dasima', 'telling', 'young', 'woman', 'committed', 'sin', 'zina', 'samiun', 'eventually', 'succeeds', 'dasima', 'goes', 'live', 'hayati', 'taking', 'along', 'gold', 'jewels', 'hayati', 'agreed', 'let', 'samiun', 'take', 'second', 'wife', 'wants', 'dasima', 'money', 'use', 'gambling', 'dasima', 'eventually', 'realises', 'tricked', 'begins', 'keep', 'close', 'eye', 'remaining', 'wealth', 'get', 'samiun', 'calls', 'thug', 'puasa', 'tells', 'rob', 'young', 'woman', 'night', 'dasima', 'goes', 'hear', 'story', 'amir', 'hamzah', 'nearby', 'village', 'puasa', 'accosts', 'panics', 'screams', 'kills', 'throws', 'body', 'bridge', 'washes', 'behind', 'williams', 'home', 'samiun', 'puasa', 'caught', 'sentenced', 'hang']\n",
            "['employee', 'detects', 'pharmaceutical', 'company', 'sinister', 'plan', 'within', 'executive', 'office', 'wiped', 'entire', 'family', 'son', 'brian', 'survived', 'although', 'rammed', 'drill', 'skull', 'recognizes', 'one', 'thought', 'revenge']\n",
            "['presents', 'tale', 'agnese', 'ascalone', 'daughter', 'prominent', 'miner', 'vincenzo', 'ascalone', 'takes', 'place', 'small', 'town', 'sicily', 'germi', 'previous', 'divorce', 'italian', 'style', 'agnese', 'seduced', 'sister', 'matilde', 'fiance', 'tryst', 'confesses', 'tries', 'repent', 'discovered', 'mother', 'father', 'vincenzo', 'immediately', 'demands', 'man', 'peppino', 'califano', 'marry', 'daughter', 'antics', 'ensue', 'dark', 'satire', 'sicilian', 'social', 'customs', 'honor', 'laws', 'similar', 'divorce', 'italian', 'style']\n",
            "['muthu', 'comes', 'city', 'village', 'song', 'contest', 'meets', 'ravikanth', 'city', 'work', 'hard', 'song', 'contest', 'muthu', 'tells', 'ravikanth', 'fell', 'love', 'devayani', 'got', 'love', 'devayani', 'daughter', 'song', 'teacher', 'village', 'came', 'contest', 'could', 'win', 'money', 'pay', 'loan', 'mother', 'village', 'leader', 'work', 'together', 'end', 'winning', 'song', 'contest', 'muthu', 'goes', 'back', 'village', 'joy', 'finds', 'flood', 'come', 'meena', 'house', 'destroyed', 'reported', 'father', 'body', 'found', 'muthu', 'thinks', 'meena', 'dead', 'sad', 'goes', 'gives', 'money', 'village', 'leader', 'paying', 'mother', 'debt', 'mother', 'takes', 'city', 'find', 'job', 'muthu', 'forget', 'meena', 'reach', 'city', 'muthu', 'finds', 'song', 'big', 'hit', 'therefore', 'become', 'popular', 'holder', 'song', 'contest', 'calls', 'muthu', 'come', 'work', 'muthu', 'want', 'mother', 'persuades', 'works', 'janakaraj', 'daughter', 'falls', 'love', 'muthu', 'muthu', 'still', 'love', 'meena', 'refused', 'marry', 'janakaraj', 'daughter', 'mother', 'says', 'meena', 'come', 'back', 'wishes', 'see', 'marriage', 'therefore', 'marries', 'roja', 'soon', 'marriage', 'business', 'trip', 'usa', 'meena', 'fact', 'alive', 'amnesia', 'muthu', 'songs', 'playing', 'radio', 'meena', 'happens', 'hear', 'remembers', 'promptly', 'gets', 'bus', 'city', 'village', 'helping', 'fisherman', 'saved', 'life', 'meets', 'muthu', 'recording', 'studio', 'surprised', 'overjoyed', 'tell', 'marriage', 'roja', 'selvamani', 'meena', 'adamant', 'get', 'married', 'soon', 'get', 'married', 'juggles', 'lives', 'nearly', 'gets', 'caught', 'roja', 'selvamani', 'muthu', 'meena', 'saree', 'shop', 'bump', 'prove', 'two', 'different', 'people', 'takes', 'photo', 'photoshops', 'show', 'two', 'shaking', 'hands', 'believe', 'muthu', 'veera', 'different', 'people', 'thief', 'muthu', 'caught', 'handed', 'police', 'takes', 'revenge', 'kidnapping', 'wives', 'thief', 'also', 'knows', 'one', 'person', 'comes', 'save', 'revealed', 'one', 'person', 'saves', 'wives', 'fight', 'one', 'says', 'officially', 'married', 'first', 'says', 'fell', 'love', 'first', 'wives', 'want', 'share', 'tries', 'explain', 'away', 'angrily', 'muthu', 'leaves', 'city', 'back', 'village', 'gets', 'home', 'finds', 'house', 'ends', 'holding', 'bag', 'enters', 'house']\n"
          ]
        }
      ]
    },
    {
      "cell_type": "markdown",
      "metadata": {
        "id": "DD5KuSKrxQ8I"
      },
      "source": [
        "## Μετατροπή σε TFIDF\n",
        "\n",
        "Το πρώτο βήμα θα είναι λοιπόν να μετατρέψετε το corpus σε αναπαράσταση tf-idf:"
      ]
    },
    {
      "cell_type": "code",
      "metadata": {
        "id": "s5YP6XCZPSyh"
      },
      "source": [
        "from sklearn.feature_extraction.text import TfidfVectorizer\n",
        "# create sparse tf_idf representation\n",
        "vectorizer = TfidfVectorizer()\n",
        "vectorizer.fit(corpus)\n",
        "corpus_tf_idf_plain = vectorizer.transform(corpus)"
      ],
      "execution_count": null,
      "outputs": []
    },
    {
      "cell_type": "markdown",
      "metadata": {
        "id": "H-uRZK3EPSyl"
      },
      "source": [
        "Η συνάρτηση [TfidfVectorizer](http://scikit-learn.org/stable/modules/generated/sklearn.feature_extraction.text.TfidfVectorizer.html) όπως καλείται εδώ **δεν είναι βελτιστοποιημένη**. Οι επιλογές των μεθόδων και παραμέτρων της μπορεί να έχουν **δραματική επίδραση στην ποιότητα των συστάσεων** και είναι διαφορετικές για κάθε dataset. Επίσης, οι επιλογές αυτές έχουν πολύ μεγάλη επίδραση και στη **διαστατικότητα και όγκο των δεδομένων**. Η διαστατικότητα των δεδομένων με τη σειρά της θα έχει πολύ μεγάλη επίδραση στους **χρόνους εκπαίδευσης**, ιδιαίτερα στη δεύτερη εφαρμογή της άσκησης.\n",
        "\n",
        "Προσοχή: ο TfidfVectorizer έχει κάποιες δυνατότητες προεπεξεργασίας παρόποιες με αυτές που αναφέραμε στην προηγούμενη ενότητα. Ό,τι προεπεξεργασία μπορείτε να κάνετε που χρειάζεται ως είσοδο μόνο το κάθε document ξεχωριστά, κάντε την στο πρώτο βήμα της προεπεξεργασίας. Αν χρειάζεται γνώση των συνολικών στατιστικών της συλλογής, κάντε την με τον TfidfVectorizer."
      ]
    },
    {
      "cell_type": "code",
      "metadata": {
        "id": "y_Cw0brpnisF"
      },
      "source": [
        "print(corpus_tf_idf_plain.shape)"
      ],
      "execution_count": null,
      "outputs": []
    },
    {
      "cell_type": "markdown",
      "metadata": {
        "id": "3LsmvSyVykTU"
      },
      "source": [
        "## Υλοποίηση του συστήματος συστάσεων\n",
        "\n",
        "Το σύστημα συστάσεων που θα υλοποιήσετε θα είναι μια συνάρτηση `content_recommender` με τρία ορίσματα: `target_movie`, `max_recommendations` και `corpus_type`. Στην `target_movie` περνάμε το ID μιας ταινίας-στόχου για την οποία μας ενδιαφέρει να βρούμε παρόμοιες ως προς το περιεχόμενο (τη σύνοψη) ταινίες, `max_recommendations` στο πλήθος.\n",
        "Υλοποιήστε τη συνάρτηση ως εξής: \n",
        "- για την ταινία-στόχο, θα υπολογίζετε την [ομοιότητα συνημιτόνου](https://en.wikipedia.org/wiki/Cosine_similarity) της με όλες τις ταινίες της συλλογής σας όπως αυτές αναπαριστώνται στο `corpus_type`.\n",
        "- με βάση την ομοιότητα συνημιτόνου που υπολογίσατε, δημιουργήστε ταξινομημένο πίνακα από το μεγαλύτερο στο μικρότερο, με τα indices (`ID`) των ταινιών. Παράδειγμα: αν η ταινία με index 1 έχει ομοιότητα συνημιτόνου με 3 ταινίες \\[0.2 1 0.6\\] (έχει ομοιότητα 1 με τον εαύτό της) ο ταξινομημένος αυτός πίνακας indices θα είναι \\[1 2 0\\].\n",
        "- Για την ταινία-στόχο εκτυπώστε: id, τίτλο, σύνοψη, κατηγορίες (categories)\n",
        "- Για τις `max_recommendations` ταινίες (πλην της ίδιας της ταινίας-στόχου που έχει cosine similarity 1 με τον εαυτό της) με τη μεγαλύτερη ομοιότητα συνημιτόνου (σε φθίνουσα σειρά), τυπώστε σειρά σύστασης (1 πιο κοντινή, 2 η δεύτερη πιο κοντινή κλπ), ομοιότητα συνημιτόνου, id, τίτλο, σύνοψη, και κατηγορίες (categories)\n"
      ]
    },
    {
      "cell_type": "markdown",
      "metadata": {
        "id": "8IvHkTUHyu78"
      },
      "source": [
        "## Βελτιστοποίηση του TfidfVectorizer\n",
        "\n",
        "Αφού υλοποιήσετε τη συνάρτηση `content_recommender` χρησιμοποιήστε την για να βελτιστοποιήσετε την `TfidfVectorizer`. Συγκεκριμένα, αρχικά μπορείτε να δείτε τι επιστρέφει το σύστημα για τυχαίες ταινίες-στόχους και για ένα μικρό `max_recommendations` (2 ή 3). Αν σε κάποιες ταινίες το σύστημα μοιάζει να επιστρέφει σημασιολογικά κοντινές ταινίες σημειώστε το `ID` τους. Δοκιμάστε στη συνέχεια να βελτιστοποιήσετε την `TfidfVectorizer` για τα συγκεκριμένα `ID` ώστε να επιστρέφονται σημασιολογικά κοντινές ταινίες για μεγαλύτερο αριθμό `max_recommendations`. Παράλληλα, όσο βελτιστοποιείτε την `TfidfVectorizer`, θα πρέπει να λαμβάνετε καλές συστάσεις για μεγαλύτερο αριθμό τυχαίων ταινιών. \n",
        "\n",
        "Ταυτόχρονα, μια αντίρροπη κατά κάποιο τρόπο κατεύθυνση της βελτιστοποίησης είναι να χρησιμοποιείτε τις παραμέτρους του `TfidfVectorizer` έτσι ώστε να μειώνονται οι διαστάσεις του Vector Space Model μέχρι το σημείο που θα αρχίσει να εμφανίζονται επιπτώσεις στην ποιότητα των συστάσεων. \n",
        "\n",
        "\n"
      ]
    },
    {
      "cell_type": "markdown",
      "metadata": {
        "id": "PSQ2tCs_hbaH"
      },
      "source": [
        "## Βαθιά μάθηση: δημιουργία corpora με χρήση word emmbeddings\n",
        "\n",
        "Η προσέγγιση της κατασκευής μόνο μέσω tfidf του συστήματος συστάσεων έχει διάφορα μειονεκτήματα. Θα μας ενδιέφερε λοιπόν να δούμε αν μπορούμε να χρησιμοποιήσουμε για τις λέξεις **εμφυτεύματα (embeddings)**, δηλαδή τις πυκνές διανυσματικές αναπαραστάσεις για τις λέξεις που μας δίνει το μοντέλο **Word2Vec**\n",
        "\n",
        "Ωστόσο, το dataset της κάθε ομάδας είναι πολύ μικρό για να εξάγουμε τα δικά μας word embeddings (και να είναι καλά). Για το λόγο αυτό θα χρησιμοποιήσουμε τη μεθοδολογία της Βαθιάς Μάθησης που είναι η **Μεταφορά Μάθησης (Transfer Learning).**.\n",
        "\n",
        "Στη μεταφορά μάθησης ουσιαστικά μεταφέρουμε τη γνώση που έχει αποκτήσει ένα ήδη εκπαιδευμένο (και κατά κανόνα πολύ μεγάλο) σύστημα. Η μεταφορά γίνεται διαμέσου των τιμών των βαρών που έχει προσδιορίσει μετά το πέρας της εκπαίδευσης.\n",
        "\n",
        "Στην περίπτωσή μας, δεν μας ενδιαφέρουν τόσο τα ίδια τα βάρη των μοντέλων από τα οποία θα κάνουμε μεταφορά μάθησης. Κάτι τέτοιο θα μας ενδιέφερε αν π.χ. θέλαμε να συνεχίσουμε την εκπαίδευση στα δικά μας κείμενα. Μας ενδιαφέρουν όμως τα ίδια τα εμφυτεύματα, δηλαδή τα embeddings (διανύσματα διαστάσεων $m$) που έχει μάθει το νευρωνικό για το λεξιλόγιο του (vocabulary). To vocabulary σε τέτοια μεγάλα νευρωνικά θα είναι πιθανότατα υπερσύνολο του δικού μας."
      ]
    },
    {
      "cell_type": "markdown",
      "metadata": {
        "id": "6UFGxnb9iknm"
      },
      "source": [
        "### Μεταφορά μάθησης εμφυτευμάτων\n",
        "\n"
      ]
    },
    {
      "cell_type": "markdown",
      "metadata": {
        "id": "G3Z28edwj4wF"
      },
      "source": [
        "#### Εμφυτεύματα του Gensim-data\n",
        "Το Gensim περιλαμβάνει αρκετά προεκπαιδευμένα μοντέλα εμφυτευμάτων Word2Vec. Με το επόμενο κελί παίρνουμε τη λίστα τους."
      ]
    },
    {
      "cell_type": "code",
      "metadata": {
        "id": "UX9ZkHSvi3Mi"
      },
      "source": [
        "!pip install -U gensim\n",
        "import gensim.downloader\n",
        "print(list(gensim.downloader.info()['models'].keys()))"
      ],
      "execution_count": null,
      "outputs": []
    },
    {
      "cell_type": "markdown",
      "metadata": {
        "id": "mS0XEVWUi_0e"
      },
      "source": [
        "Τα μοντέλα αυτά βρίσκονται στο [αποθετήριο Gensim-data](https://github.com/RaRe-Technologies/gensim-data) όπου μπορείτε να βρείτε και την τεκμηρίωσή τους. Η φόρτωση των μοντέλων αυτών γίνεται με τη συνάρτηση `gensim.downloader.load`."
      ]
    },
    {
      "cell_type": "markdown",
      "metadata": {
        "id": "IfNs5fMAkADF"
      },
      "source": [
        "#### Άλλα εμφυτεύμαατα\n",
        "Μπορείτε να βρείτε προεκπαιδευμένα εμφυτεύματα και από πηγές εκτός του Gensim. Για παράδειγμα:\n",
        "\n",
        "- [Google News dataset](https://code.google.com/archive/p/word2vec/). Πρόκειται για προ-εκπαιδευμένα διανύσματα που έχουν εκπαιδευτεί σε μέρος του συνόλου δεδομένων Google News (περίπου 100 δισεκατομμύρια λέξεις). Το μοντέλο περιέχει διανύσματα 300 διαστάσεων για 3 εκατομμύρια λέξεις και φράσεις.\n",
        "- [Amazon BlazingText](https://docs.aws.amazon.com/sagemaker/latest/dg/blazingtext.html). Το BlazingText δεν είναι μόνο προεκπαιδευμένα εμφυτεύματα αλλα και βελτιστοποιημένες υλοποιήσεις των αλγορίθμων Word2vec για την επεξεργασία κειμένου. Προυπόθεση είναι να δουλέψει κανείς στο SageMaker.\n",
        "\n",
        "Οι διαδικασίες φόρτωσης embeddings από εξωτερικά δεδομένα μπορεί να είναι ελαφρά διαφορετικές από αυτή του Gensim.\n",
        "\n"
      ]
    },
    {
      "cell_type": "markdown",
      "metadata": {
        "id": "qkkZE41d_DjX"
      },
      "source": [
        "#### Παρατηρήσεις\n",
        "\n",
        "*   Επαναλαμβάνουμε ότι στην εργασία αυτή δεν μας ενδιαφέρουν τα ίδια τα μοντέλα αλλά το να μπορούμε για μία λέξη του λεξιλογίου μας να μπορούμε να βρούμε το embedding (διάνυσμα) που της αντιστοιχεί στο εκάστοτε προεκπαιδευμένο μοντέλο. \n",
        "\n",
        "*   Επίσης, δεν θα χρησιμοποιήσουμε την `Phrases` για να βρούμε bigrams στο dataset μας όπως θα ήταν το ορθότερο, καθώς αυτό θα απαιτούσε την συνέχιση της εκπαίδευσης του μοντέλου σε νέο λεξιλόγιο με πολύ λίγα νέα δεδομένα.\n"
      ]
    },
    {
      "cell_type": "markdown",
      "metadata": {
        "id": "aF6bQOziqISL"
      },
      "source": [
        " ### Δημιουργία corpora βασισμένων στα εμφυτεύματα\n",
        "\n",
        "Για να μπορέσουμε να ενσωματώσουμε τη γνώση που υπάρχει στα προεκπαιδευμένα εμφυτεύματα στο δικό μας corpus θα προχωρήσουμε όπως περιγράφεται ακολούθως.\n",
        "\n",
        "Για κάθε περιγραφή ταινίας $d$, η οποία αποτελείται από τις $N_d$ λέξεις $w_i$, το  $tfidf$ της κάθε λέξης $w_i$ δίνεται από τη σχέση:\n",
        "\n",
        "$$ tfidf(w_i) = tf(w_i,d) \\cdot idf(w_i)$$\n",
        "\n",
        "Ταυτόχρονα, σε κάθε λέξη $w_i$ αντιστοιχεί ένα διάνυσμα $W2V(w_i)$ από το μοντέλο εμφυτευμάτων που έχουμε εισάγει. Τα διανύσματα εμφυτευμάτων $W2V$ θα έχουν διάσταση $m$, ανάλογα το μοντέλο. \n",
        "\n",
        "Για κάθε ταινία d, μπορούμε να δημιουργήσουμε μια διανυσματική αναπαράσταση $W2V(d)$ διαστάσεων $m$ χρησιμοποιώντας το $tfidf(w_i)$ ως συντελεστή βαρύτητας για κάθε εμφύτευμα $W2V(w_i)$:\n",
        "\n",
        "$$ W2V(d) = \\frac{tfidf(w_1)\\cdot W2V(w_i) + tfidf(w_2)\\cdot W2V(w_2) + \\dotsc  + tfidf(w_{N_{d}})\\cdot W2V(w_{N_{d}})}{tfidf(w_1)+tfidf(w_2)+ \\dotsc + tfidf(w_{N_{d}})}$$\n"
      ]
    },
    {
      "cell_type": "markdown",
      "metadata": {
        "id": "Umbd7mv__be8"
      },
      "source": [
        "#### build_tfw2v\n",
        "\n",
        "Υλοποιήστε μια συνάρτηση `build_tfw2v` με ορίσματα:\n",
        "- `corpus` που θα είναι το προεπεξεργασμένο dataset σας,\n",
        "- `vectors` που θα είναι το μοντέλο που θα σας δίνει τα διανύσματα των εμφυτεύσεων vectors, και \n",
        "- `embeddings_size` που θα είναι η διάσταση των εμφυτευμάτων $m$.\n",
        "\n",
        "H συνάρτηση αυτή θα επιστρέφει ένα νέο corpus που θα είναι ένας πίνακας 5000 (όσες οι ταινίες σας) x $m$ (το η διάσταση των εμφυτευμάτων). Ανάλογα ποιο μοντέλο χρησιμποιείτε για transfer learning ο πίνακας αυτός θα είναι διαφορετικός.\n",
        "\n",
        "Μπορείτε πλεόν να καλείτε την `content_recommender` με διαφορετικά corpora στο όρισμα `corpus_type`. Σημειώστε ότι στο TFidfVectorizer χρησιμοποιουμε τη σειριακή μορφή των numpy arrays και ίσως σας χρησιμεύσει η `sparse.csr_matrix()` από την Scipy."
      ]
    },
    {
      "cell_type": "markdown",
      "metadata": {
        "id": "NPVK7Z5c1p5F"
      },
      "source": [
        "## Ανάλυση αποτελεσμάτων\n",
        "\n",
        "### Σύστημα συστάσεων βασισμένο μόνο στο tfidf\n",
        "\n",
        "- Σε markdown περιγράψτε τι προεπεξεργασία κάνετε στα κείμενα και γιατί.\n",
        "\n",
        "- Περιγράψτε πως προχωρήσατε στις επιλογές σας για τη βελτιστοποίηση της `TfidfVectorizer`. \n",
        "\n",
        "- [Cherry-picking:](https://www.wikiwand.com/en/Cherry_picking) Δώσετε παραδείγματα (IDs) από τη συλλογή σας που επιστρέφουν καλά αποτελέσματα μέχρι `max_recommendations` (τουλάχιστον 5) και σχολιάστε.\n",
        "\n",
        "- [Nir-picking:](https://www.merriam-webster.com/dictionary/nit-picking) Δώστε παραδείγματα (IDs) από τη συλλογή σας που επιστρέφουν κακά αποτελέσματα και σχολιάστε.\n",
        "\n",
        "- Ποια είναι συνολικά τα πλεονεκτήματα και μειονεκτήματα ενός recommender βασισμένου στο tfidf;"
      ]
    },
    {
      "cell_type": "markdown",
      "metadata": {
        "id": "zPBW9WH56I-y"
      },
      "source": [
        "### Σύγκριση και σχολιασμός με recommenders βασισμένων στο Word2Vec\n",
        "\n",
        "- Υλoποιήστε recommenders που βασίζονται σε μεταφορά μάθησης και εμφυτεύματα. Χρησιμοποιήστε παραδείγματα για να υποδείξετε δυνατά και αδύναμα σημεία τους.\n",
        "\n",
        "- Μπορείτε να σχολιάσετε τα recommenders που βασίζονται στο Word2Vec σε σχέση με το απλό μοντέλο tfidf, εξετάζοντας τις συστάσεις για ίδια ID.\n",
        "\n",
        "- Μπορείτε επίσης να εξετάσετε συγκριτικά τα Word2Vec recommenders μεταξύ τους και πάλι βασιζόμενοι σε παραδείγματα.\n",
        "\n",
        "- Οι παρατηρήσεις σας θα βασίζονται στην ανάλυση των ποιοτικών χαρακτηριστικών που είναι η σειρά και το σύνολο των συστάσεων. Ωστόσο, μπορείτε να συμπεριλάβετε και ποσοτικά χαρακτηριστικά όπως τους χρονους loading και συγκρότησης του corpus αλλά και της διαστατικότητας $m$.\n",
        "\n",
        "Χρησιμοποιήστε όποια μορφή reporting κρίνετε καταλληλότερη: κείμενο, πίνακες, διαγράμματα.\n"
      ]
    },
    {
      "cell_type": "markdown",
      "metadata": {
        "id": "4irg4K-IPSym"
      },
      "source": [
        "## Πρακτικό tip - persistence αντικειμένων με joblib.dump\n",
        "\n",
        "Καθώς στην δεύτερη εργασία καλείστε να δημιουργήσετε διάφορα corpora των οποίων η δημιουργία παίρνει χρόνο, υπάρχει ένας εύκολος τρόπος να αποθηκεύουμε μεταβλητές σε dump files και να τις διαβάζουμε απευθείας.\n",
        "\n",
        "H βιβλιοθήκη [joblib](https://pypi.python.org/pypi/joblib) της Python δίνει κάποιες εξαιρετικά χρήσιμες ιδιότητες στην ανάπτυξη κώδικα: pipelining, παραλληλισμό, caching και variable persistence. Τις τρεις πρώτες ιδιότητες τις είδαμε στην πρώτη άσκηση. Στην παρούσα άσκηση θα μας φανεί χρήσιμη η τέταρτη, το persistence των αντικειμένων. Συγκεκριμένα μπορούμε με:\n",
        "\n",
        "```python\n",
        "joblib.dump(my_object, 'my_object.pkl') \n",
        "```\n",
        "\n",
        "να αποθηκεύσουμε οποιοδήποτε αντικείμενο-μεταβλητή (εδώ το `my_object`) απευθείας πάνω στο filesystem ως αρχείο, το οποίο στη συνέχεια μπορούμε να ανακαλέσουμε ως εξής:\n",
        "\n",
        "```python\n",
        "my_object = joblib.load('my_object.pkl')\n",
        "```\n",
        "\n",
        "Μπορούμε έτσι να ανακαλέσουμε μεταβλητές ακόμα και αφού κλείσουμε και ξανανοίξουμε το notebook, χωρίς να χρειαστεί να ακολουθήσουμε ξανά όλα τα βήματα ένα - ένα για την παραγωγή τους, κάτι ιδιαίτερα χρήσιμο αν αυτή η διαδικασία είναι χρονοβόρα.\n",
        "\n",
        "Ας αποθηκεύσουμε το `corpus_tf_idf` και στη συνέχεια ας το ανακαλέσουμε."
      ]
    },
    {
      "cell_type": "code",
      "metadata": {
        "id": "aESOPYQaPSyo",
        "scrolled": true
      },
      "source": [
        "import joblib\n",
        "\n",
        "joblib.dump(corpus_tf_idf, 'corpus_tf_idf.pkl') "
      ],
      "execution_count": null,
      "outputs": []
    },
    {
      "cell_type": "markdown",
      "metadata": {
        "id": "7_rAEj5ZPSy1"
      },
      "source": [
        "\n",
        "\n",
        "Μπορείτε με ένα απλό `!ls` να δείτε ότι το αρχείο `corpus_tf_idf.pkl` υπάρχει στο filesystem σας (== persistence):"
      ]
    },
    {
      "cell_type": "code",
      "metadata": {
        "id": "ZhwXmTEIPSy3",
        "scrolled": true
      },
      "source": [
        "!ls -lh"
      ],
      "execution_count": null,
      "outputs": []
    },
    {
      "cell_type": "markdown",
      "metadata": {
        "id": "cey5AbkO475S"
      },
      "source": [
        "και μπορούμε να τα διαβάσουμε με `joblib.load`"
      ]
    },
    {
      "cell_type": "code",
      "metadata": {
        "id": "DSJPTKY8PSyu"
      },
      "source": [
        "corpus_tf_idf = joblib.load('corpus_tf_idf.pkl')"
      ],
      "execution_count": null,
      "outputs": []
    },
    {
      "cell_type": "markdown",
      "metadata": {
        "id": "zHOQtO83PSy9"
      },
      "source": [
        "# Εφαρμογή 2.  Τοπολογική και σημασιολογική απεικόνιση της ταινιών με χρήση SOM\n",
        "<img src=\"https://i.imgur.com/Z4FdurD.jpg\" width=\"60%\">"
      ]
    },
    {
      "cell_type": "markdown",
      "metadata": {
        "id": "UB_clmizPSy-"
      },
      "source": [
        "## Δημιουργία dataset\n",
        "Στη δεύτερη εφαρμογή θα βασιστούμε στις τοπολογικές ιδιότητες των Self Organizing Maps (SOM) για να φτιάξουμε ενά χάρτη (grid) δύο διαστάσεων όπου θα απεικονίζονται όλες οι ταινίες της συλλογής της ομάδας με τρόπο χωρικά συνεκτικό ως προς το περιεχόμενο και κυρίως το είδος τους (ο παραπάνω χάρτης είναι ενδεικτικός, δεν αντιστοιχεί στο dataset μας). \n",
        "\n",
        "Διαλέξτε για την αναπαράσταση των documents αυτήν που πιστεύετε απέδωσε καλύτερα στο πρώτα σκέλος της άσκησης. Έστω ότι αυτή είναι η `my_best_corpus`.\n",
        "\n",
        "Η έτοιμη συνάρτηση `build_final_set` θα ενώσει την αναπαράσταση που θα της δώσετε ως όρισμα `mycorpus` με τις binarized κατηγορίες `catbins` των ταινιών ως επιπλέον κολόνες (χαρακτηριστικά). Συνεπώς, κάθε ταινία αναπαρίσταται στο Vector Space Model από τα χαρακτηριστικά της αναπαράστασης `mycorpus` και τις κατηγορίες της.\n",
        "\n",
        "Τέλος, η συνάρτηση δέχεται ένα ορισμα για το πόσες ταινίες να επιστρέψει, με default τιμή όλες τις ταινίες (5000). Αυτό είναι χρήσιμο για να μπορείτε αν θέλετε να φτιάχνετε μικρότερα σύνολα δεδομένων ώστε να εκπαιδεύεται ταχύτερα το SOM. \n",
        "\n",
        "Θα τρέχουμε τη συνάρτηση με `final_set = build_final_set(my_best_corpus)`."
      ]
    },
    {
      "cell_type": "code",
      "metadata": {
        "id": "U-FDDOkQPSzA"
      },
      "source": [
        "def build_final_set(mycorpus, doc_limit = 5000, tf_idf_only=False):\n",
        "    # convert sparse tf_idf to dense tf_idf representation\n",
        "    dense_tf_idf = mycorpus.toarray()[0:doc_limit,:]\n",
        "    if tf_idf_only:\n",
        "        # use only tf_idf\n",
        "        final_set = dense_tf_idf\n",
        "    else:\n",
        "        # append the binary categories features horizontaly to the (dense) tf_idf features\n",
        "        final_set = np.hstack((dense_tf_idf, catbins[0:doc_limit,:]))\n",
        "    # η somoclu θέλει δεδομ΄ένα σε float32\n",
        "    return np.array(final_set, dtype=np.float32)"
      ],
      "execution_count": null,
      "outputs": []
    },
    {
      "cell_type": "markdown",
      "metadata": {
        "id": "KjvPPENS_dYL"
      },
      "source": [
        "Στο επόμενο κελί, τυπώνουμε τις διαστάσεις του τελικού dataset μας. **Χωρίς βελτιστοποίηση του TFIDF** θα έχουμε περίπου 50.000 χαρακτηριστικά και ο θα είναι ανέφικτο να προχωρήσουμε στην εκπαίδευση του SOM."
      ]
    },
    {
      "cell_type": "code",
      "metadata": {
        "id": "fvEgNn-L-jEw"
      },
      "source": [
        "final_set.shape"
      ],
      "execution_count": null,
      "outputs": []
    },
    {
      "cell_type": "markdown",
      "metadata": {
        "id": "8tikdip0PSzQ"
      },
      "source": [
        "## Εκπαίδευση χάρτη SOM\n",
        "\n",
        "Θα δουλέψουμε με τη βιβλιοθήκη SOM [\"Somoclu\"](http://somoclu.readthedocs.io/en/stable/index.html). Εισάγουμε τις somoclu και matplotlib και λέμε στη matplotlib να τυπώνει εντός του notebook (κι όχι σε pop up window)."
      ]
    },
    {
      "cell_type": "code",
      "metadata": {
        "id": "oX9rzxGSPSzR"
      },
      "source": [
        "# install somoclu\n",
        "!pip install --upgrade somoclu\n",
        "# import sompoclu, matplotlib\n",
        "import somoclu\n",
        "import matplotlib\n",
        "# we will plot inside the notebook and not in separate window\n",
        "%matplotlib inline"
      ],
      "execution_count": null,
      "outputs": []
    },
    {
      "cell_type": "markdown",
      "metadata": {
        "id": "EqBfn0ijPSzX"
      },
      "source": [
        "Καταρχάς διαβάστε το [function reference](http://somoclu.readthedocs.io/en/stable/reference.html) του somoclu. Θα δoυλέψουμε με χάρτη τύπου planar, παραλληλόγραμμου σχήματος νευρώνων με τυχαία αρχικοποίηση (όλα αυτά είναι default). Μπορείτε να δοκιμάσετε διάφορα μεγέθη χάρτη ωστόσο όσο ο αριθμός των νευρώνων μεγαλώνει, μεγαλώνει και ο χρόνος εκπαίδευσης. Για το training δεν χρειάζεται να ξεπεράσετε τα 100 epochs. Σε γενικές γραμμές μπορούμε να βασιστούμε στις default παραμέτρους μέχρι να έχουμε τη δυνατότητα να οπτικοποιήσουμε και να αναλύσουμε ποιοτικά τα αποτελέσματα. Ξεκινήστε με ένα χάρτη 10 x 10, 100 epochs training και ένα υποσύνολο των ταινιών (π.χ. 2000). Χρησιμοποιήστε την `time` για να έχετε μια εικόνα των χρόνων εκπαίδευσης. "
      ]
    },
    {
      "cell_type": "markdown",
      "metadata": {
        "id": "ntd2GE9SaHiS"
      },
      "source": [
        "\n",
        "## Best matching units\n",
        "\n",
        "Μετά από κάθε εκπαίδευση αποθηκεύστε σε μια μεταβλητή τα best matching units (bmus) για κάθε ταινία. Τα bmus μας δείχνουν σε ποιο νευρώνα ανήκει η κάθε ταινία. **Προσοχή: η σύμβαση των συντεταγμένων των νευρώνων στη Somoclu είναι (στήλη, γραμμή) δηλαδή το ανάποδο από την Python**. Με χρήση της [np.unique](https://docs.scipy.org/doc/numpy-1.13.0/reference/generated/numpy.unique.html) (μια πολύ χρήσιμη συνάρτηση στην άσκηση) αποθηκεύστε τα μοναδικά best matching units και τους δείκτες τους (indices) προς τις ταινίες. \n",
        "\n",
        "Σημειώστε ότι μπορεί να έχετε λιγότερα μοναδικά bmus από αριθμό νευρώνων γιατί μπορεί σε κάποιους νευρώνες να μην έχουν ανατεθεί ταινίες. Ως αριθμό νευρώνα θα θεωρήσουμε τον αριθμό γραμμής στον πίνακα μοναδικών bmus.\n"
      ]
    },
    {
      "cell_type": "markdown",
      "metadata": {
        "id": "grzqcyHyaKdg"
      },
      "source": [
        "\n",
        "## Ομαδοποίηση (clustering)\n",
        "\n",
        "Τυπικά, η ομαδοποίηση σε ένα χάρτη SOM προκύπτει από το unified distance matrix (U-matrix): για κάθε κόμβο υπολογίζεται η μέση απόστασή του από τους γειτονικούς κόμβους. Εάν χρησιμοποιηθεί μπλε χρώμα στις περιοχές του χάρτη όπου η τιμή αυτή είναι χαμηλή (μικρή απόσταση) και κόκκινο εκεί που η τιμή είναι υψηλή (μεγάλη απόσταση), τότε μπορούμε να πούμε ότι οι μπλε περιοχές αποτελούν clusters και οι κόκκινες αποτελούν σύνορα μεταξύ clusters.\n",
        "\n",
        "To somoclu δίνει την επιπρόσθετη δυνατότητα να κάνουμε ομαδοποίηση των νευρώνων χρησιμοποιώντας οποιονδήποτε αλγόριθμο ομαδοποίησης του scikit-learn. Στην άσκηση θα χρησιμοποιήσουμε τον k-Means. Για τον αρχικό σας χάρτη δοκιμάστε ένα k=20 ή 25. Οι δύο προσεγγίσεις ομαδοποίησης είναι διαφορετικές, οπότε περιμένουμε τα αποτελέσματα να είναι κοντά αλλά όχι τα ίδια.\n"
      ]
    },
    {
      "cell_type": "markdown",
      "metadata": {
        "id": "2nupuqcuaMe3"
      },
      "source": [
        "\n",
        "## Αποθήκευση του SOM\n",
        "\n",
        "Επειδή η αρχικοποίηση του SOM γίνεται τυχαία και το clustering είναι και αυτό στοχαστική διαδικασία, οι θέσεις και οι ετικέτες των νευρώνων και των clusters θα είναι διαφορετικές κάθε φορά που τρέχετε τον χάρτη, ακόμα και με τις ίδιες παραμέτρους. Για να αποθηκεύσετε ένα συγκεκριμένο som και clustering χρησιμοποιήστε και πάλι την `joblib`. Μετά την ανάκληση ενός SOM θυμηθείτε να ακολουθήσετε τη διαδικασία για τα bmus.\n"
      ]
    },
    {
      "cell_type": "markdown",
      "metadata": {
        "id": "ejX0Qs18aRHU"
      },
      "source": [
        "\n",
        "## Οπτικοποίηση U-matrix, clustering και μέγεθος clusters\n",
        "\n",
        "Για την εκτύπωση του U-matrix χρησιμοποιήστε τη `view_umatrix` με ορίσματα `bestmatches=True` και `figsize=(15, 15)` ή `figsize=(20, 20)`. Τα διαφορετικά χρώματα που εμφανίζονται στους κόμβους αντιπροσωπεύουν τα διαφορετικά clusters που προκύπτουν από τον k-Means. Μπορείτε να εμφανίσετε τη λεζάντα του U-matrix με το όρισμα `colorbar`. Μην τυπώνετε τις ετικέτες (labels) των δειγμάτων, είναι πολύ μεγάλος ο αριθμός τους.\n",
        "\n",
        "Για μια δεύτερη πιο ξεκάθαρη οπτικοποίηση του clustering τυπώστε απευθείας τη μεταβλητή `clusters`.\n",
        "\n",
        "Τέλος, χρησιμοποιώντας πάλι την `np.unique` (με διαφορετικό όρισμα) και την `np.argsort` (υπάρχουν και άλλοι τρόποι υλοποίησης) εκτυπώστε τις ετικέτες των clusters (αριθμοί από 0 έως k-1) και τον αριθμό των νευρώνων σε κάθε cluster, με φθίνουσα ή αύξουσα σειρά ως προς τον αριθμό των νευρώνων. Ουσιαστικά είναι ένα εργαλείο για να βρίσκετε εύκολα τα μεγάλα και μικρά clusters. \n",
        "\n",
        "Ακολουθεί ένα μη βελτιστοποιημένο παράδειγμα για τις τρεις προηγούμενες εξόδους:\n",
        "\n",
        "<img src=\"https://image.ibb.co/i0tsfR/umatrix_s.jpg\" width=\"35%\">\n",
        "<img src=\"https://image.ibb.co/nLgHEm/clusters.png\" width=\"35%\">\n",
        "\n"
      ]
    },
    {
      "cell_type": "markdown",
      "metadata": {
        "id": "fMO_KcQYaTv-"
      },
      "source": [
        "\n",
        "## Σημασιολογική ερμηνεία των clusters\n",
        "\n",
        "Προκειμένου να μελετήσουμε τις τοπολογικές ιδιότητες του SOM και το αν έχουν ενσωματώσει σημασιολογική πληροφορία για τις ταινίες διαμέσου της διανυσματικής αναπαράστασης του tf-idf, των εμφυτευμάτων και των κατηγοριών, χρειαζόμαστε ένα κριτήριο ποιοτικής επισκόπησης των clusters. \n",
        "\n",
        "Θα υλοποιήσουμε το εξής κριτήριο: Λαμβάνουμε όρισμα έναν αριθμό (ετικέτα) cluster. Για το cluster αυτό βρίσκουμε όλους τους νευρώνες που του έχουν ανατεθεί από τον k-Means. Για όλους τους νευρώνες αυτούς βρίσκουμε όλες τις ταινίες που τους έχουν ανατεθεί (για τις οποίες αποτελούν bmus). Για όλες αυτές τις ταινίες τυπώνουμε ταξινομημένη τη συνολική στατιστική όλων των ειδών (κατηγοριών) και τις συχνότητές τους. Αν το cluster διαθέτει καλή συνοχή και εξειδίκευση, θα πρέπει κάποιες κατηγορίες να έχουν σαφώς μεγαλύτερη συχνότητα από τις υπόλοιπες. Θα μπορούμε τότε να αναθέσουμε αυτήν/ές την/τις κατηγορία/ες ως ετικέτες κινηματογραφικού είδους στο cluster.\n",
        "\n",
        "Μπορείτε να υλοποιήσετε τη συνάρτηση αυτή όπως θέλετε. Μια πιθανή διαδικασία θα μπορούσε να είναι η ακόλουθη:\n",
        "\n",
        "1. Ορίζουμε συνάρτηση `print_categories_stats` που δέχεται ως είσοδο λίστα με ids ταινιών. Δημιουργούμε μια κενή λίστα συνολικών κατηγοριών. Στη συνέχεια, για κάθε ταινία επεξεργαζόμαστε το string `categories` ως εξής: δημιουργούμε μια λίστα διαχωρίζοντας το string κατάλληλα με την `split` και αφαιρούμε τα whitespaces μεταξύ ετικετών με την `strip`. Προσθέτουμε τη λίστα αυτή στη συνολική λίστα κατηγοριών με την `extend`. Τέλος χρησιμοποιούμε πάλι την `np.unique` για να μετρήσουμε συχνότητα μοναδικών ετικετών κατηγοριών και ταξινομούμε με την `np.argsort`. Τυπώνουμε τις κατηγορίες και τις συχνότητες εμφάνισης ταξινομημένα. Χρήσιμες μπορεί να σας φανούν και οι `np.ravel`, `np.nditer`, `np.array2string` και `zip`.\n",
        "\n",
        "2. Ορίζουμε τη βασική μας συνάρτηση `print_cluster_neurons_movies_report` που δέχεται ως όρισμα τον αριθμό ενός cluster. Με τη χρήση της `np.where` μπορούμε να βρούμε τις συντεταγμένες των bmus που αντιστοιχούν στο cluster και με την `column_stack` να φτιάξουμε έναν πίνακα bmus για το cluster. Προσοχή στη σειρά (στήλη - σειρά) στον πίνακα bmus. Για κάθε bmu αυτού του πίνακα ελέγχουμε αν υπάρχει στον πίνακα μοναδικών bmus που έχουμε υπολογίσει στην αρχή συνολικά και αν ναι προσθέτουμε το αντίστοιχο index του νευρώνα σε μια λίστα. Χρήσιμες μπορεί να είναι και οι `np.rollaxis`, `np.append`, `np.asscalar`. Επίσης πιθανώς να πρέπει να υλοποιήσετε ένα κριτήριο ομοιότητας μεταξύ ενός bmu και ενός μοναδικού bmu από τον αρχικό πίνακα bmus.\n",
        "\n",
        "3. Υλοποιούμε μια βοηθητική συνάρτηση `neuron_movies_report`. Λαμβάνει ένα σύνολο νευρώνων από την `print_cluster_neurons_movies_report` και μέσω της `indices` φτιάχνει μια λίστα με το σύνολο ταινιών που ανήκουν σε αυτούς τους νευρώνες. Στο τέλος καλεί με αυτή τη λίστα την `print_categories_stats` που τυπώνει τις στατιστικές των κατηγοριών.\n",
        "\n",
        "Μπορείτε βέβαια να προσθέσετε οποιαδήποτε επιπλέον έξοδο σας βοηθάει. Μια χρήσιμη έξοδος είναι πόσοι νευρώνες ανήκουν στο cluster και σε πόσους και ποιους από αυτούς έχουν ανατεθεί ταινίες.\n",
        "\n",
        "Θα επιτελούμε τη σημασιολογική ερμηνεία του χάρτη καλώντας την `print_cluster_neurons_movies_report` με τον αριθμός ενός cluster που μας ενδιαφέρει. \n",
        "\n",
        "Παράδειγμα εξόδου για ένα cluster (μη βελτιστοποιημένος χάρτης, ωστόσο βλέπετε ότι οι μεγάλες κατηγορίες έχουν σημασιολογική  συνάφεια):\n",
        "\n",
        "```\n",
        "Overall Cluster Genres stats:  \n",
        "[('\"Horror\"', 86), ('\"Science Fiction\"', 24), ('\"B-movie\"', 16), ('\"Monster movie\"', 10), ('\"Creature Film\"', 10), ('\"Indie\"', 9), ('\"Zombie Film\"', 9), ('\"Slasher\"', 8), ('\"World cinema\"', 8), ('\"Sci-Fi Horror\"', 7), ('\"Natural horror films\"', 6), ('\"Supernatural\"', 6), ('\"Thriller\"', 6), ('\"Cult\"', 5), ('\"Black-and-white\"', 5), ('\"Japanese Movies\"', 4), ('\"Short Film\"', 3), ('\"Drama\"', 3), ('\"Psychological thriller\"', 3), ('\"Crime Fiction\"', 3), ('\"Monster\"', 3), ('\"Comedy\"', 2), ('\"Western\"', 2), ('\"Horror Comedy\"', 2), ('\"Archaeology\"', 2), ('\"Alien Film\"', 2), ('\"Teen\"', 2), ('\"Mystery\"', 2), ('\"Adventure\"', 2), ('\"Comedy film\"', 2), ('\"Combat Films\"', 1), ('\"Chinese Movies\"', 1), ('\"Action/Adventure\"', 1), ('\"Gothic Film\"', 1), ('\"Costume drama\"', 1), ('\"Disaster\"', 1), ('\"Docudrama\"', 1), ('\"Film adaptation\"', 1), ('\"Film noir\"', 1), ('\"Parody\"', 1), ('\"Period piece\"', 1), ('\"Action\"', 1)]```\n",
        "   "
      ]
    },
    {
      "cell_type": "markdown",
      "metadata": {
        "id": "lq4QrImhaa7E"
      },
      "source": [
        "\n",
        "## Tips για το SOM και το clustering\n",
        "\n",
        "- Για την ομαδοποίηση ένα U-matrix καλό είναι να εμφανίζει και μπλε-πράσινες περιοχές (clusters) και κόκκινες περιοχές (ορίων). Παρατηρήστε ποια σχέση υπάρχει μεταξύ αριθμού ταινιών στο final set, μεγέθους grid και ποιότητας U-matrix.\n",
        "- Για το k του k-Means προσπαθήστε να προσεγγίζει σχετικά τα clusters του U-matrix (όπως είπαμε είναι διαφορετικοί μέθοδοι clustering). Μικρός αριθμός k δεν θα σέβεται τα όρια. Μεγάλος αριθμός θα δημιουργεί υπο-clusters εντός των clusters που φαίνονται στο U-matrix. Το τελευταίο δεν είναι απαραίτητα κακό, αλλά μεγαλώνει τον αριθμό clusters που πρέπει να αναλυθούν σημασιολογικά.\n",
        "- Σε μικρούς χάρτες και με μικρά final sets δοκιμάστε διαφορετικές παραμέτρους για την εκπαίδευση του SOM. Σημειώστε τυχόν παραμέτρους που επηρεάζουν την ποιότητα του clustering για το dataset σας ώστε να τις εφαρμόσετε στους μεγάλους χάρτες.\n",
        "- Κάποια τοπολογικά χαρακτηριστικά εμφανίζονται ήδη σε μικρούς χάρτες. Κάποια άλλα χρειάζονται μεγαλύτερους χάρτες. Δοκιμάστε μεγέθη 20x20, 25x25 ή και 30x30 και αντίστοιχη προσαρμογή των k. Όσο μεγαλώνουν οι χάρτες, μεγαλώνει η ανάλυση του χάρτη αλλά μεγαλώνει και ο αριθμός clusters που πρέπει να αναλυθούν.\n"
      ]
    },
    {
      "cell_type": "markdown",
      "metadata": {
        "id": "x4IUl8O8ayVf"
      },
      "source": [
        "\n",
        "\n",
        "## Ανάλυση τοπολογικών ιδιοτήτων χάρτη SOM\n",
        "\n",
        "Μετά το πέρας της εκπαίδευσης και του clustering θα έχετε ένα χάρτη με τοπολογικές ιδιότητες ως προς τα είδη των ταίνιών της συλλογής σας, κάτι αντίστοιχο με την εικόνα στην αρχή της Εφαρμογής 2 αυτού του notebook. Η συγκεκριμένη εικόνα είναι μόνο για εικονογράφιση, δεν είναι χάρτης SOM καιδεν έχει καμία σχέση με τη συλλογή δεδομένων και τις κατηγορίες μας.\n",
        "\n",
        "Για τον τελικό χάρτη SOM που θα παράξετε για τη συλλογή σας, αναλύστε σε markdown με συγκεκριμένη αναφορά σε αριθμούς clusters και τη σημασιολογική ερμηνεία τους τις εξής τρεις τοπολογικές ιδιότητες του SOM: \n",
        "\n",
        "1. Δεδομένα που έχουν μεγαλύτερη πυκνότητα πιθανότητας στο χώρο εισόδου τείνουν να απεικονίζονται με περισσότερους νευρώνες στο χώρο μειωμένης διαστατικότητας. Δώστε παραδείγματα από συχνές και λιγότερο συχνές κατηγορίες ταινιών. Χρησιμοποιήστε τις στατιστικές των κατηγοριών στη συλλογή σας και τον αριθμό κόμβων που χαρακτηρίζουν.\n",
        "2. Μακρινά πρότυπα εισόδου τείνουν να απεικονίζονται απομακρυσμένα στο χάρτη. Υπάρχουν χαρακτηριστικές κατηγορίες ταινιών που ήδη από μικρούς χάρτες τείνουν να τοποθετούνται σε διαφορετικά ή απομονωμένα σημεία του χάρτη.\n",
        "3. Κοντινά πρότυπα εισόδου τείνουν να απεικονίζονται κοντά στο χάρτη. Σε μεγάλους χάρτες εντοπίστε είδη ταινιών και κοντινά τους υποείδη.\n",
        "\n",
        "Προφανώς τοποθέτηση σε 2 διαστάσεις που να σέβεται μια απόλυτη τοπολογία δεν είναι εφικτή, αφενός γιατί δεν υπάρχει κάποια απόλυτη εξ ορισμού για τα κινηματογραφικά είδη ακόμα και σε πολλές διαστάσεις, αφετέρου γιατί πραγματοποιούμε μείωση διαστατικότητας.\n",
        "\n",
        "Εντοπίστε μεγάλα clusters και μικρά clusters που δεν έχουν σαφή χαρακτηριστικά. Εντοπίστε clusters συγκεκριμένων ειδών που μοιάζουν να μην έχουν τοπολογική συνάφεια με γύρω περιοχές. Προτείνετε πιθανές ερμηνείες.\n",
        "\n",
        "\n",
        "Τέλος, εντοπίστε clusters που έχουν κατά την άποψή σας ιδιαίτερο ενδιαφέρον στη συλλογή της ομάδας σας (data exploration / discovery value) και σχολιάστε.\n"
      ]
    },
    {
      "cell_type": "markdown",
      "metadata": {
        "id": "tYjxGR5DawIy"
      },
      "source": [
        "\n",
        "# Τελική παράδοση άσκησης\n",
        "\n",
        "- Θα παραδώσετε στο helios το παρόν notebook επεξεργασμένο ή ένα ή δύο νέα zipαρισμένα με τις απαντήσεις σας για τα ζητούμενα και των δύο εφαρμογών. \n",
        "- Θυμηθείτε ότι η ανάλυση του χάρτη στο markdown με αναφορά σε αριθμούς clusters πρέπει να αναφέρεται στον τελικό χάρτη με τα κελιά ορατά που θα παραδώσετε αλλιώς ο χάρτης που θα προκύψει θα είναι διαφορετικός και τα labels των clusters δεν θα αντιστοιχούν στην ανάλυσή σας. \n",
        "- Μην ξεχάσετε στην αρχή ένα κελί markdown με **τα στοιχεία της ομάδας σας**."
      ]
    },
    {
      "cell_type": "markdown",
      "metadata": {
        "id": "UHhCkvxjnitd"
      },
      "source": [
        "<table>\n",
        "  <tr><td align=\"center\">\n",
        "    <font size=\"4\">Παρακαλούμε διατρέξτε βήμα-βήμα το notebook για να μην ξεχάσετε παραδοτέα</font>\n",
        "</td>\n",
        "  </tr>\n",
        "</table>"
      ]
    }
  ]
}