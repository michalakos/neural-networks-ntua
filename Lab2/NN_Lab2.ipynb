{
  "nbformat": 4,
  "nbformat_minor": 0,
  "metadata": {
    "colab": {
      "name": "NN_Lab2.ipynb",
      "provenance": [],
      "toc_visible": true,
      "collapsed_sections": []
    },
    "kernelspec": {
      "display_name": "Python 3.5",
      "language": "python",
      "name": "python3"
    },
    "widgets": {
      "application/vnd.jupyter.widget-state+json": {
        "905a7dd61c9e4c6e85431d2846143616": {
          "model_module": "@jupyter-widgets/controls",
          "model_name": "HBoxModel",
          "model_module_version": "1.5.0",
          "state": {
            "_view_name": "HBoxView",
            "_dom_classes": [],
            "_model_name": "HBoxModel",
            "_view_module": "@jupyter-widgets/controls",
            "_model_module_version": "1.5.0",
            "_view_count": null,
            "_view_module_version": "1.5.0",
            "box_style": "",
            "layout": "IPY_MODEL_9d07d8e826e8492f9f80aa9e3860e61d",
            "_model_module": "@jupyter-widgets/controls",
            "children": [
              "IPY_MODEL_83ba46ba1e954a25826bc020f76e50b7",
              "IPY_MODEL_d076300257c143d0a196f70a94a4c89d",
              "IPY_MODEL_bb59ef84d0ad45d7a9e2b85346253d03"
            ]
          }
        },
        "9d07d8e826e8492f9f80aa9e3860e61d": {
          "model_module": "@jupyter-widgets/base",
          "model_name": "LayoutModel",
          "model_module_version": "1.2.0",
          "state": {
            "_view_name": "LayoutView",
            "grid_template_rows": null,
            "right": null,
            "justify_content": null,
            "_view_module": "@jupyter-widgets/base",
            "overflow": null,
            "_model_module_version": "1.2.0",
            "_view_count": null,
            "flex_flow": null,
            "width": null,
            "min_width": null,
            "border": null,
            "align_items": null,
            "bottom": null,
            "_model_module": "@jupyter-widgets/base",
            "top": null,
            "grid_column": null,
            "overflow_y": null,
            "overflow_x": null,
            "grid_auto_flow": null,
            "grid_area": null,
            "grid_template_columns": null,
            "flex": null,
            "_model_name": "LayoutModel",
            "justify_items": null,
            "grid_row": null,
            "max_height": null,
            "align_content": null,
            "visibility": null,
            "align_self": null,
            "height": null,
            "min_height": null,
            "padding": null,
            "grid_auto_rows": null,
            "grid_gap": null,
            "max_width": null,
            "order": null,
            "_view_module_version": "1.2.0",
            "grid_template_areas": null,
            "object_position": null,
            "object_fit": null,
            "grid_auto_columns": null,
            "margin": null,
            "display": null,
            "left": null
          }
        },
        "83ba46ba1e954a25826bc020f76e50b7": {
          "model_module": "@jupyter-widgets/controls",
          "model_name": "HTMLModel",
          "model_module_version": "1.5.0",
          "state": {
            "_view_name": "HTMLView",
            "style": "IPY_MODEL_cbd366fde3184c649b70eedf7fcccc32",
            "_dom_classes": [],
            "description": "",
            "_model_name": "HTMLModel",
            "placeholder": "​",
            "_view_module": "@jupyter-widgets/controls",
            "_model_module_version": "1.5.0",
            "value": "100%",
            "_view_count": null,
            "_view_module_version": "1.5.0",
            "description_tooltip": null,
            "_model_module": "@jupyter-widgets/controls",
            "layout": "IPY_MODEL_a479344fa7c549cd9c78b76ac42c8c62"
          }
        },
        "d076300257c143d0a196f70a94a4c89d": {
          "model_module": "@jupyter-widgets/controls",
          "model_name": "FloatProgressModel",
          "model_module_version": "1.5.0",
          "state": {
            "_view_name": "ProgressView",
            "style": "IPY_MODEL_12abaac5012b4cb0b8363e383607bd6d",
            "_dom_classes": [],
            "description": "",
            "_model_name": "FloatProgressModel",
            "bar_style": "success",
            "max": 5000,
            "_view_module": "@jupyter-widgets/controls",
            "_model_module_version": "1.5.0",
            "value": 5000,
            "_view_count": null,
            "_view_module_version": "1.5.0",
            "orientation": "horizontal",
            "min": 0,
            "description_tooltip": null,
            "_model_module": "@jupyter-widgets/controls",
            "layout": "IPY_MODEL_15152442d79f423e943e4f3650f67680"
          }
        },
        "bb59ef84d0ad45d7a9e2b85346253d03": {
          "model_module": "@jupyter-widgets/controls",
          "model_name": "HTMLModel",
          "model_module_version": "1.5.0",
          "state": {
            "_view_name": "HTMLView",
            "style": "IPY_MODEL_23ef282d44d44a259537555cfd193b63",
            "_dom_classes": [],
            "description": "",
            "_model_name": "HTMLModel",
            "placeholder": "​",
            "_view_module": "@jupyter-widgets/controls",
            "_model_module_version": "1.5.0",
            "value": " 5000/5000 [00:02&lt;00:00, 2377.79it/s]",
            "_view_count": null,
            "_view_module_version": "1.5.0",
            "description_tooltip": null,
            "_model_module": "@jupyter-widgets/controls",
            "layout": "IPY_MODEL_7a8446ed103e41adb9fd26192643e7a6"
          }
        },
        "cbd366fde3184c649b70eedf7fcccc32": {
          "model_module": "@jupyter-widgets/controls",
          "model_name": "DescriptionStyleModel",
          "model_module_version": "1.5.0",
          "state": {
            "_view_name": "StyleView",
            "_model_name": "DescriptionStyleModel",
            "description_width": "",
            "_view_module": "@jupyter-widgets/base",
            "_model_module_version": "1.5.0",
            "_view_count": null,
            "_view_module_version": "1.2.0",
            "_model_module": "@jupyter-widgets/controls"
          }
        },
        "a479344fa7c549cd9c78b76ac42c8c62": {
          "model_module": "@jupyter-widgets/base",
          "model_name": "LayoutModel",
          "model_module_version": "1.2.0",
          "state": {
            "_view_name": "LayoutView",
            "grid_template_rows": null,
            "right": null,
            "justify_content": null,
            "_view_module": "@jupyter-widgets/base",
            "overflow": null,
            "_model_module_version": "1.2.0",
            "_view_count": null,
            "flex_flow": null,
            "width": null,
            "min_width": null,
            "border": null,
            "align_items": null,
            "bottom": null,
            "_model_module": "@jupyter-widgets/base",
            "top": null,
            "grid_column": null,
            "overflow_y": null,
            "overflow_x": null,
            "grid_auto_flow": null,
            "grid_area": null,
            "grid_template_columns": null,
            "flex": null,
            "_model_name": "LayoutModel",
            "justify_items": null,
            "grid_row": null,
            "max_height": null,
            "align_content": null,
            "visibility": null,
            "align_self": null,
            "height": null,
            "min_height": null,
            "padding": null,
            "grid_auto_rows": null,
            "grid_gap": null,
            "max_width": null,
            "order": null,
            "_view_module_version": "1.2.0",
            "grid_template_areas": null,
            "object_position": null,
            "object_fit": null,
            "grid_auto_columns": null,
            "margin": null,
            "display": null,
            "left": null
          }
        },
        "12abaac5012b4cb0b8363e383607bd6d": {
          "model_module": "@jupyter-widgets/controls",
          "model_name": "ProgressStyleModel",
          "model_module_version": "1.5.0",
          "state": {
            "_view_name": "StyleView",
            "_model_name": "ProgressStyleModel",
            "description_width": "",
            "_view_module": "@jupyter-widgets/base",
            "_model_module_version": "1.5.0",
            "_view_count": null,
            "_view_module_version": "1.2.0",
            "bar_color": null,
            "_model_module": "@jupyter-widgets/controls"
          }
        },
        "15152442d79f423e943e4f3650f67680": {
          "model_module": "@jupyter-widgets/base",
          "model_name": "LayoutModel",
          "model_module_version": "1.2.0",
          "state": {
            "_view_name": "LayoutView",
            "grid_template_rows": null,
            "right": null,
            "justify_content": null,
            "_view_module": "@jupyter-widgets/base",
            "overflow": null,
            "_model_module_version": "1.2.0",
            "_view_count": null,
            "flex_flow": null,
            "width": null,
            "min_width": null,
            "border": null,
            "align_items": null,
            "bottom": null,
            "_model_module": "@jupyter-widgets/base",
            "top": null,
            "grid_column": null,
            "overflow_y": null,
            "overflow_x": null,
            "grid_auto_flow": null,
            "grid_area": null,
            "grid_template_columns": null,
            "flex": null,
            "_model_name": "LayoutModel",
            "justify_items": null,
            "grid_row": null,
            "max_height": null,
            "align_content": null,
            "visibility": null,
            "align_self": null,
            "height": null,
            "min_height": null,
            "padding": null,
            "grid_auto_rows": null,
            "grid_gap": null,
            "max_width": null,
            "order": null,
            "_view_module_version": "1.2.0",
            "grid_template_areas": null,
            "object_position": null,
            "object_fit": null,
            "grid_auto_columns": null,
            "margin": null,
            "display": null,
            "left": null
          }
        },
        "23ef282d44d44a259537555cfd193b63": {
          "model_module": "@jupyter-widgets/controls",
          "model_name": "DescriptionStyleModel",
          "model_module_version": "1.5.0",
          "state": {
            "_view_name": "StyleView",
            "_model_name": "DescriptionStyleModel",
            "description_width": "",
            "_view_module": "@jupyter-widgets/base",
            "_model_module_version": "1.5.0",
            "_view_count": null,
            "_view_module_version": "1.2.0",
            "_model_module": "@jupyter-widgets/controls"
          }
        },
        "7a8446ed103e41adb9fd26192643e7a6": {
          "model_module": "@jupyter-widgets/base",
          "model_name": "LayoutModel",
          "model_module_version": "1.2.0",
          "state": {
            "_view_name": "LayoutView",
            "grid_template_rows": null,
            "right": null,
            "justify_content": null,
            "_view_module": "@jupyter-widgets/base",
            "overflow": null,
            "_model_module_version": "1.2.0",
            "_view_count": null,
            "flex_flow": null,
            "width": null,
            "min_width": null,
            "border": null,
            "align_items": null,
            "bottom": null,
            "_model_module": "@jupyter-widgets/base",
            "top": null,
            "grid_column": null,
            "overflow_y": null,
            "overflow_x": null,
            "grid_auto_flow": null,
            "grid_area": null,
            "grid_template_columns": null,
            "flex": null,
            "_model_name": "LayoutModel",
            "justify_items": null,
            "grid_row": null,
            "max_height": null,
            "align_content": null,
            "visibility": null,
            "align_self": null,
            "height": null,
            "min_height": null,
            "padding": null,
            "grid_auto_rows": null,
            "grid_gap": null,
            "max_width": null,
            "order": null,
            "_view_module_version": "1.2.0",
            "grid_template_areas": null,
            "object_position": null,
            "object_fit": null,
            "grid_auto_columns": null,
            "margin": null,
            "display": null,
            "left": null
          }
        },
        "df3ea1d628c3437a9cebb909a6ae19a0": {
          "model_module": "@jupyter-widgets/controls",
          "model_name": "HBoxModel",
          "model_module_version": "1.5.0",
          "state": {
            "_view_name": "HBoxView",
            "_dom_classes": [],
            "_model_name": "HBoxModel",
            "_view_module": "@jupyter-widgets/controls",
            "_model_module_version": "1.5.0",
            "_view_count": null,
            "_view_module_version": "1.5.0",
            "box_style": "",
            "layout": "IPY_MODEL_e3e17231c2a64145b954e4de97308ad8",
            "_model_module": "@jupyter-widgets/controls",
            "children": [
              "IPY_MODEL_14a1bb0ed1cd4a0e8391e3ad89098ee5",
              "IPY_MODEL_29599621dbed49f8a688c82f49f7175b",
              "IPY_MODEL_b11a420781f24c01a7d2deb3f4f69976"
            ]
          }
        },
        "e3e17231c2a64145b954e4de97308ad8": {
          "model_module": "@jupyter-widgets/base",
          "model_name": "LayoutModel",
          "model_module_version": "1.2.0",
          "state": {
            "_view_name": "LayoutView",
            "grid_template_rows": null,
            "right": null,
            "justify_content": null,
            "_view_module": "@jupyter-widgets/base",
            "overflow": null,
            "_model_module_version": "1.2.0",
            "_view_count": null,
            "flex_flow": null,
            "width": null,
            "min_width": null,
            "border": null,
            "align_items": null,
            "bottom": null,
            "_model_module": "@jupyter-widgets/base",
            "top": null,
            "grid_column": null,
            "overflow_y": null,
            "overflow_x": null,
            "grid_auto_flow": null,
            "grid_area": null,
            "grid_template_columns": null,
            "flex": null,
            "_model_name": "LayoutModel",
            "justify_items": null,
            "grid_row": null,
            "max_height": null,
            "align_content": null,
            "visibility": null,
            "align_self": null,
            "height": null,
            "min_height": null,
            "padding": null,
            "grid_auto_rows": null,
            "grid_gap": null,
            "max_width": null,
            "order": null,
            "_view_module_version": "1.2.0",
            "grid_template_areas": null,
            "object_position": null,
            "object_fit": null,
            "grid_auto_columns": null,
            "margin": null,
            "display": null,
            "left": null
          }
        },
        "14a1bb0ed1cd4a0e8391e3ad89098ee5": {
          "model_module": "@jupyter-widgets/controls",
          "model_name": "HTMLModel",
          "model_module_version": "1.5.0",
          "state": {
            "_view_name": "HTMLView",
            "style": "IPY_MODEL_34629ebc8f22428d9ab2ab75273701c9",
            "_dom_classes": [],
            "description": "",
            "_model_name": "HTMLModel",
            "placeholder": "​",
            "_view_module": "@jupyter-widgets/controls",
            "_model_module_version": "1.5.0",
            "value": "100%",
            "_view_count": null,
            "_view_module_version": "1.5.0",
            "description_tooltip": null,
            "_model_module": "@jupyter-widgets/controls",
            "layout": "IPY_MODEL_7a9593a8ae024ea18c833f1cd146e9e1"
          }
        },
        "29599621dbed49f8a688c82f49f7175b": {
          "model_module": "@jupyter-widgets/controls",
          "model_name": "FloatProgressModel",
          "model_module_version": "1.5.0",
          "state": {
            "_view_name": "ProgressView",
            "style": "IPY_MODEL_9842ba3491af436bb782ce85dafd07b3",
            "_dom_classes": [],
            "description": "",
            "_model_name": "FloatProgressModel",
            "bar_style": "success",
            "max": 5000,
            "_view_module": "@jupyter-widgets/controls",
            "_model_module_version": "1.5.0",
            "value": 5000,
            "_view_count": null,
            "_view_module_version": "1.5.0",
            "orientation": "horizontal",
            "min": 0,
            "description_tooltip": null,
            "_model_module": "@jupyter-widgets/controls",
            "layout": "IPY_MODEL_477b7a0dfcda48f4a5d9f3b3f49125e7"
          }
        },
        "b11a420781f24c01a7d2deb3f4f69976": {
          "model_module": "@jupyter-widgets/controls",
          "model_name": "HTMLModel",
          "model_module_version": "1.5.0",
          "state": {
            "_view_name": "HTMLView",
            "style": "IPY_MODEL_d5ccddff8ecb424b8af24dd487e08783",
            "_dom_classes": [],
            "description": "",
            "_model_name": "HTMLModel",
            "placeholder": "​",
            "_view_module": "@jupyter-widgets/controls",
            "_model_module_version": "1.5.0",
            "value": " 5000/5000 [00:00&lt;00:00, 13417.23it/s]",
            "_view_count": null,
            "_view_module_version": "1.5.0",
            "description_tooltip": null,
            "_model_module": "@jupyter-widgets/controls",
            "layout": "IPY_MODEL_fc0de29419df47f19d30268acb64cc71"
          }
        },
        "34629ebc8f22428d9ab2ab75273701c9": {
          "model_module": "@jupyter-widgets/controls",
          "model_name": "DescriptionStyleModel",
          "model_module_version": "1.5.0",
          "state": {
            "_view_name": "StyleView",
            "_model_name": "DescriptionStyleModel",
            "description_width": "",
            "_view_module": "@jupyter-widgets/base",
            "_model_module_version": "1.5.0",
            "_view_count": null,
            "_view_module_version": "1.2.0",
            "_model_module": "@jupyter-widgets/controls"
          }
        },
        "7a9593a8ae024ea18c833f1cd146e9e1": {
          "model_module": "@jupyter-widgets/base",
          "model_name": "LayoutModel",
          "model_module_version": "1.2.0",
          "state": {
            "_view_name": "LayoutView",
            "grid_template_rows": null,
            "right": null,
            "justify_content": null,
            "_view_module": "@jupyter-widgets/base",
            "overflow": null,
            "_model_module_version": "1.2.0",
            "_view_count": null,
            "flex_flow": null,
            "width": null,
            "min_width": null,
            "border": null,
            "align_items": null,
            "bottom": null,
            "_model_module": "@jupyter-widgets/base",
            "top": null,
            "grid_column": null,
            "overflow_y": null,
            "overflow_x": null,
            "grid_auto_flow": null,
            "grid_area": null,
            "grid_template_columns": null,
            "flex": null,
            "_model_name": "LayoutModel",
            "justify_items": null,
            "grid_row": null,
            "max_height": null,
            "align_content": null,
            "visibility": null,
            "align_self": null,
            "height": null,
            "min_height": null,
            "padding": null,
            "grid_auto_rows": null,
            "grid_gap": null,
            "max_width": null,
            "order": null,
            "_view_module_version": "1.2.0",
            "grid_template_areas": null,
            "object_position": null,
            "object_fit": null,
            "grid_auto_columns": null,
            "margin": null,
            "display": null,
            "left": null
          }
        },
        "9842ba3491af436bb782ce85dafd07b3": {
          "model_module": "@jupyter-widgets/controls",
          "model_name": "ProgressStyleModel",
          "model_module_version": "1.5.0",
          "state": {
            "_view_name": "StyleView",
            "_model_name": "ProgressStyleModel",
            "description_width": "",
            "_view_module": "@jupyter-widgets/base",
            "_model_module_version": "1.5.0",
            "_view_count": null,
            "_view_module_version": "1.2.0",
            "bar_color": null,
            "_model_module": "@jupyter-widgets/controls"
          }
        },
        "477b7a0dfcda48f4a5d9f3b3f49125e7": {
          "model_module": "@jupyter-widgets/base",
          "model_name": "LayoutModel",
          "model_module_version": "1.2.0",
          "state": {
            "_view_name": "LayoutView",
            "grid_template_rows": null,
            "right": null,
            "justify_content": null,
            "_view_module": "@jupyter-widgets/base",
            "overflow": null,
            "_model_module_version": "1.2.0",
            "_view_count": null,
            "flex_flow": null,
            "width": null,
            "min_width": null,
            "border": null,
            "align_items": null,
            "bottom": null,
            "_model_module": "@jupyter-widgets/base",
            "top": null,
            "grid_column": null,
            "overflow_y": null,
            "overflow_x": null,
            "grid_auto_flow": null,
            "grid_area": null,
            "grid_template_columns": null,
            "flex": null,
            "_model_name": "LayoutModel",
            "justify_items": null,
            "grid_row": null,
            "max_height": null,
            "align_content": null,
            "visibility": null,
            "align_self": null,
            "height": null,
            "min_height": null,
            "padding": null,
            "grid_auto_rows": null,
            "grid_gap": null,
            "max_width": null,
            "order": null,
            "_view_module_version": "1.2.0",
            "grid_template_areas": null,
            "object_position": null,
            "object_fit": null,
            "grid_auto_columns": null,
            "margin": null,
            "display": null,
            "left": null
          }
        },
        "d5ccddff8ecb424b8af24dd487e08783": {
          "model_module": "@jupyter-widgets/controls",
          "model_name": "DescriptionStyleModel",
          "model_module_version": "1.5.0",
          "state": {
            "_view_name": "StyleView",
            "_model_name": "DescriptionStyleModel",
            "description_width": "",
            "_view_module": "@jupyter-widgets/base",
            "_model_module_version": "1.5.0",
            "_view_count": null,
            "_view_module_version": "1.2.0",
            "_model_module": "@jupyter-widgets/controls"
          }
        },
        "fc0de29419df47f19d30268acb64cc71": {
          "model_module": "@jupyter-widgets/base",
          "model_name": "LayoutModel",
          "model_module_version": "1.2.0",
          "state": {
            "_view_name": "LayoutView",
            "grid_template_rows": null,
            "right": null,
            "justify_content": null,
            "_view_module": "@jupyter-widgets/base",
            "overflow": null,
            "_model_module_version": "1.2.0",
            "_view_count": null,
            "flex_flow": null,
            "width": null,
            "min_width": null,
            "border": null,
            "align_items": null,
            "bottom": null,
            "_model_module": "@jupyter-widgets/base",
            "top": null,
            "grid_column": null,
            "overflow_y": null,
            "overflow_x": null,
            "grid_auto_flow": null,
            "grid_area": null,
            "grid_template_columns": null,
            "flex": null,
            "_model_name": "LayoutModel",
            "justify_items": null,
            "grid_row": null,
            "max_height": null,
            "align_content": null,
            "visibility": null,
            "align_self": null,
            "height": null,
            "min_height": null,
            "padding": null,
            "grid_auto_rows": null,
            "grid_gap": null,
            "max_width": null,
            "order": null,
            "_view_module_version": "1.2.0",
            "grid_template_areas": null,
            "object_position": null,
            "object_fit": null,
            "grid_auto_columns": null,
            "margin": null,
            "display": null,
            "left": null
          }
        }
      }
    }
  },
  "cells": [
    {
      "cell_type": "markdown",
      "metadata": {
        "id": "hLFXD3IePSyL"
      },
      "source": [
        "# Εργαστηριακή Άσκηση 2. Μη επιβλεπόμενη μάθηση. \n",
        "## Σύστημα συστάσεων βασισμένο στο περιεχόμενο\n",
        "## Σημασιολογική απεικόνιση δεδομένων με χρήση SOM \n",
        "### Ομάδα 44\n",
        "* Βασιλάκος Μιχαήλ <br>\n",
        "Α.Μ.: 03117069\n",
        "* Γαβαλάς Παντελεήμων <br>\n",
        "Α.Μ.: 03117075"
      ]
    },
    {
      "cell_type": "markdown",
      "source": [
        "## Εγκατάσταση πακέτων και βιβλιοθηκών"
      ],
      "metadata": {
        "id": "BWNlq3Eb9bj6"
      }
    },
    {
      "cell_type": "code",
      "metadata": {
        "id": "S5wbBzIYnird",
        "colab": {
          "base_uri": "https://localhost:8080/"
        },
        "outputId": "89e55830-b45c-413c-bc8b-65215c21c0b8"
      },
      "source": [
        "!pip install --upgrade nltk\n",
        "!pip install --upgrade joblib"
      ],
      "execution_count": 1,
      "outputs": [
        {
          "output_type": "stream",
          "name": "stdout",
          "text": [
            "Requirement already satisfied: nltk in /usr/local/lib/python3.7/dist-packages (3.6.5)\n",
            "Requirement already satisfied: click in /usr/local/lib/python3.7/dist-packages (from nltk) (7.1.2)\n",
            "Requirement already satisfied: tqdm in /usr/local/lib/python3.7/dist-packages (from nltk) (4.62.3)\n",
            "Requirement already satisfied: regex>=2021.8.3 in /usr/local/lib/python3.7/dist-packages (from nltk) (2021.11.10)\n",
            "Requirement already satisfied: joblib in /usr/local/lib/python3.7/dist-packages (from nltk) (1.1.0)\n",
            "Requirement already satisfied: joblib in /usr/local/lib/python3.7/dist-packages (1.1.0)\n"
          ]
        }
      ]
    },
    {
      "cell_type": "code",
      "source": [
        "import pandas as pd\n",
        "import numpy as np\n",
        "import scipy as sp\n",
        "import nltk\n",
        "import string\n",
        "from tqdm.notebook import tqdm\n",
        "import pickle\n",
        "import re"
      ],
      "metadata": {
        "id": "kKqJ9cpLCL42"
      },
      "execution_count": 2,
      "outputs": []
    },
    {
      "cell_type": "code",
      "source": [
        "clean_run = False"
      ],
      "metadata": {
        "id": "OeqpGiq0Ksll"
      },
      "execution_count": 3,
      "outputs": []
    },
    {
      "cell_type": "markdown",
      "metadata": {
        "id": "aViHqlQcPSyP"
      },
      "source": [
        "## Εισαγωγή του Dataset"
      ]
    },
    {
      "cell_type": "markdown",
      "metadata": {
        "id": "2ZVmdDExPSyQ"
      },
      "source": [
        "Το σύνολο δεδομένων με το οποίο θα δουλέψουμε είναι βασισμένο στο [Carnegie Mellon Movie Summary Corpus](http://www.cs.cmu.edu/~ark/personas/). Πρόκειται για ένα dataset με 22.301 περιγραφές ταινιών. Η περιγραφή κάθε ταινίας αποτελείται από τον τίτλο της, μια ή περισσότερες ετικέτες που χαρακτηρίζουν το είδος της ταινίας και τέλος τη σύνοψη της υπόθεσής της. Αρχικά εισάγουμε το dataset (χρησιμοποιήστε αυτούσιο τον κώδικα, δεν χρειάζεστε το αρχείο csv) στο dataframe `df_data_1`: "
      ]
    },
    {
      "cell_type": "code",
      "metadata": {
        "id": "62SOj46gPSyS"
      },
      "source": [
        "dataset_url = \"https://drive.google.com/uc?export=download&id=1-tN5rC1QCgwqL67cvIXdMbtd-Xf9Xqow\"\n",
        "df_data_1 = pd.read_csv(dataset_url, sep='\\t',  header=None, quoting=3)"
      ],
      "execution_count": 4,
      "outputs": []
    },
    {
      "cell_type": "markdown",
      "metadata": {
        "id": "7TAEZGdIPSyW"
      },
      "source": [
        "Κάθε ομάδα θα δουλέψει σε **ένα μοναδικό υποσύνολο 5.000 ταινιών** (διαφορετικό dataset για κάθε ομάδα) ως εξής:\n",
        "\n",
        "1. Κάθε ομάδα του εργαστηρίου νευρωνικών έχει έναν αριθμό στο helios. Θα βάλετε τον αριθμό αυτό στη μεταβλητή team_seed_number στο επόμενο κελί κώδικα.\n",
        "\n",
        "2. Το data frame `df_data_2` έχει γραμμές όσες και οι ομάδες και 5.000 στήλες. Σε κάθε ομάδα αντιστοιχεί η γραμμή του πίνακα με το `team_seed_number` της. Η γραμμή αυτή θα περιλαμβάνει 5.000 διαφορετικούς αριθμούς που αντιστοιχούν σε ταινίες του αρχικού dataset. \n",
        "\n",
        "3. Τρέξτε τον κώδικα. Θα προκύψουν τα μοναδικά για κάθε ομάδα  titles, categories, catbins, summaries και corpus με τα οποία θα δουλέψετε."
      ]
    },
    {
      "cell_type": "code",
      "metadata": {
        "id": "2POlqDjkPSyY"
      },
      "source": [
        "# Στο επόμενη γραμή βάλτε τον αριθμό της ομάδας στο εργαστήριο των νευρωνικών\n",
        "team_seed_number = 44\n",
        "\n",
        "movie_seeds_url = \"https://drive.google.com/uc?export=download&id=1-oeMf7BFmiH70XObgC9WOTo-a9cDJZwP\"\n",
        "df_data_2 = pd.read_csv(movie_seeds_url, header=None)\n",
        "\n",
        "# επιλέγεται \n",
        "my_index = df_data_2.iloc[team_seed_number,:].values\n",
        "\n",
        "titles = df_data_1.iloc[:, [2]].values[my_index] # movie titles (string)\n",
        "categories = df_data_1.iloc[:, [3]].values[my_index] # movie categories (string)\n",
        "bins = df_data_1.iloc[:, [4]]\n",
        "catbins = bins[4].str.split(',', expand=True).values.astype(float)[my_index] # movie categories in binary form (1 feature per category)\n",
        "summaries =  df_data_1.iloc[:, [5]].values[my_index] # movie summaries (string)\n",
        "corpus = summaries[:,0].tolist() # list form of summaries\n",
        "corpus_df = pd.DataFrame(corpus) # dataframe version of corpus"
      ],
      "execution_count": 5,
      "outputs": []
    },
    {
      "cell_type": "markdown",
      "metadata": {
        "id": "If66lkwxPSyb"
      },
      "source": [
        "- Ο πίνακας **titles** περιέχει τους τίτλους των ταινιών. Παράδειγμα: 'Sid and Nancy'.\n",
        "- O πίνακας **categories** περιέχει τις κατηγορίες (είδη) της ταινίας υπό τη μορφή string. Παράδειγμα: '\"Tragedy\",  \"Indie\",  \"Punk rock\",  \"Addiction Drama\",  \"Cult\",  \"Musical\",  \"Drama\",  \"Biopic \\[feature\\]\",  \"Romantic drama\",  \"Romance Film\",  \"Biographical film\"'. Παρατηρούμε ότι είναι μια comma separated λίστα strings, με κάθε string να είναι μια κατηγορία.\n",
        "- Ο πίνακας **catbins** περιλαμβάνει πάλι τις κατηγορίες των ταινιών αλλά σε δυαδική μορφή ([one hot encoding](https://hackernoon.com/what-is-one-hot-encoding-why-and-when-do-you-have-to-use-it-e3c6186d008f)). Έχει διαστάσεις 5.000 x 322 (όσες οι διαφορετικές κατηγορίες). Αν η ταινία ανήκει στο συγκεκριμένο είδος η αντίστοιχη στήλη παίρνει την τιμή 1, αλλιώς παίρνει την τιμή 0.\n",
        "- Ο πίνακας **summaries** και η λίστα **corpus** περιλαμβάνουν τις συνόψεις των ταινιών (η corpus είναι απλά ο summaries σε μορφή λίστας). Κάθε σύνοψη είναι ένα (συνήθως μεγάλο) string. Παράδειγμα: *'The film is based on the real story of a Soviet Internal Troops soldier who killed his entire unit  as a result of Dedovschina. The plot unfolds mostly on board of the prisoner transport rail car guarded by a unit of paramilitary conscripts.'*\n",
        "- το dataframe corpus_df που είναι απλά το corpus σε μορφή dataframe. Τα summaries βρίσκονται στην κολόνα 0. Πιθανώς να σας βολεύει να κάνετε κάποιες προεπεξεργασίες με dataframes.\n",
        "\n",
        "\n",
        "Θεωρούμε ως **ID** της κάθε ταινίας τον αριθμό γραμμής της ή το αντίστοιχο στοιχείο της λίστας. Παράδειγμα: για να τυπώσουμε τη σύνοψη της ταινίας με `ID=999` (την χιλιοστή) θα γράψουμε `print(corpus[999])`."
      ]
    },
    {
      "cell_type": "code",
      "metadata": {
        "id": "k_7A3KXLp0qS",
        "colab": {
          "base_uri": "https://localhost:8080/"
        },
        "outputId": "ba2657ac-92d2-482e-e7a2-33604c911eda"
      },
      "source": [
        "ID = 999\n",
        "print(titles[ID])\n",
        "print(categories[ID])\n",
        "print(catbins[ID])\n",
        "print(corpus[ID])"
      ],
      "execution_count": 6,
      "outputs": [
        {
          "output_type": "stream",
          "name": "stdout",
          "text": [
            "['Death Bell 2: Bloody Camp']\n",
            "['\"Thriller\",  \"Horror\"']\n",
            "[0. 0. 0. 0. 0. 0. 0. 0. 0. 0. 0. 0. 0. 0. 0. 0. 0. 0. 0. 0. 0. 0. 0. 0.\n",
            " 0. 0. 0. 0. 0. 0. 0. 0. 0. 0. 0. 0. 0. 0. 0. 0. 0. 0. 0. 0. 0. 0. 0. 0.\n",
            " 0. 0. 0. 0. 0. 0. 0. 0. 0. 0. 0. 0. 0. 0. 0. 0. 0. 0. 0. 0. 0. 0. 0. 0.\n",
            " 0. 0. 0. 0. 0. 0. 0. 0. 0. 0. 0. 0. 0. 0. 0. 0. 0. 0. 0. 0. 0. 0. 0. 0.\n",
            " 0. 0. 0. 0. 0. 0. 0. 0. 0. 0. 0. 0. 0. 0. 0. 0. 0. 0. 0. 0. 0. 0. 0. 0.\n",
            " 0. 0. 0. 0. 0. 0. 0. 0. 0. 0. 0. 0. 0. 0. 0. 0. 0. 0. 0. 0. 0. 0. 0. 0.\n",
            " 0. 0. 0. 0. 0. 0. 0. 0. 0. 0. 0. 0. 0. 0. 0. 0. 0. 0. 0. 0. 0. 0. 0. 0.\n",
            " 0. 0. 0. 0. 1. 0. 0. 0. 0. 0. 0. 0. 0. 0. 0. 0. 0. 0. 0. 0. 0. 0. 0. 0.\n",
            " 0. 0. 0. 0. 0. 0. 0. 0. 0. 0. 0. 0. 0. 0. 0. 0. 0. 0. 0. 0. 0. 0. 0. 0.\n",
            " 0. 0. 0. 0. 0. 0. 0. 0. 0. 0. 0. 0. 0. 0. 0. 0. 0. 0. 0. 0. 0. 0. 0. 0.\n",
            " 0. 0. 0. 0. 0. 0. 0. 0. 0. 0. 0. 0. 0. 0. 0. 0. 0. 0. 0. 0. 0. 0. 0. 0.\n",
            " 0. 0. 0. 0. 0. 0. 0. 0. 0. 0. 0. 0. 0. 0. 0. 0. 0. 0. 0. 0. 0. 0. 0. 0.\n",
            " 0. 0. 0. 0. 0. 0. 0. 0. 0. 0. 0. 0. 0. 0. 0. 0. 1. 0. 0. 0. 0. 0. 0. 0.\n",
            " 0. 0. 0. 0. 0. 0. 0. 0. 0. 0.]\n",
            "While writing the script, it was suggested that the characters should solve their problems in a quiz show format like they did in the first film. Director Yoo Sun-dong was against this ideas as he felt it was too much of an imitation of the first film.\n"
          ]
        }
      ]
    },
    {
      "cell_type": "markdown",
      "metadata": {
        "id": "UTNgwBfjPSyc"
      },
      "source": [
        "# Εφαρμογή 1. Υλοποίηση συστήματος συστάσεων ταινιών βασισμένο στο περιεχόμενο\n",
        "<img src=\"http://clture.org/wp-content/uploads/2015/12/Netflix-Streaming-End-of-Year-Posts.jpg\" width=\"70%\">"
      ]
    },
    {
      "cell_type": "markdown",
      "metadata": {
        "id": "rnA2RP8GPSyf"
      },
      "source": [
        "Η πρώτη εφαρμογή που θα αναπτύξετε θα είναι ένα [σύστημα συστάσεων](https://en.wikipedia.org/wiki/Recommender_system) ταινιών βασισμένο στο περιεχόμενο (content based recommender system). Τα συστήματα συστάσεων στοχεύουν στο να προτείνουν αυτόματα στο χρήστη αντικείμενα από μια συλλογή τα οποία ιδανικά θέλουμε να βρει ενδιαφέροντα ο χρήστης. Η κατηγοριοποίηση των συστημάτων συστάσεων βασίζεται στο πώς γίνεται η επιλογή (filtering) των συστηνόμενων αντικειμένων. Οι δύο κύριες κατηγορίες είναι η συνεργατική διήθηση (collaborative filtering) όπου το σύστημα προτείνει στο χρήστη αντικείμενα που έχουν αξιολογηθεί θετικά από χρήστες που έχουν παρόμοιο με αυτόν ιστορικό αξιολογήσεων και η διήθηση με βάση το περιεχόμενο (content based filtering), όπου προτείνονται στο χρήστη αντικείμενα με παρόμοιο περιεχόμενο (με βάση κάποια χαρακτηριστικά) με αυτά που έχει προηγουμένως αξιολογήσει θετικά.\n",
        "\n",
        "Το σύστημα συστάσεων που θα αναπτύξετε θα βασίζεται στο **περιεχόμενο** και συγκεκριμένα στις συνόψεις των ταινιών (corpus). \n"
      ]
    },
    {
      "cell_type": "markdown",
      "metadata": {
        "id": "l3nZv-xueEtd"
      },
      "source": [
        "## Προεπεξεργασία\n",
        "\n",
        "Το πρώτο βήμα στην επεξεργασία μας είναι ο καθαρισμός των περιγραφών των ταινιών. \n",
        "\n",
        "Εκτυπώστε (αρκετές) διαφορετικές περιγραφές ταινιών για να δείτε πιθανά προβλήματα που θα πρέπει να αντιμετωπιστούν.\n",
        "\n",
        "Τα (ελάχιστα) βήματα καθαρισμού που προτείνουμε είναι:\n",
        "- μετατροπή όλων των χαρακτήρων σε πεζά,\n",
        "- αφαίρεση των stopwords. Εδώ σημειώστε ότι για το δεδομένο task του συστήματος συστάσεων που είναι η πρόταση ταινιών ίσως θα είχαν ενδιαφέρον και λίστες stopwords πέραν αυτών της κοινής γλώσσας.\n",
        "- αφαίρεση σημείων στίξης και ειδικών χαρακτρήρων (special characters). Αυτό δεν γίνεται μόνο με την punkt του NLTK. Θα μπορούσατε να βασιστείτε σε κανονικές εκφράσεις (regular expressions), και\n",
        "- αφαίρεση πολυ σύντομων συμβολοσειρών.\n",
        "\n",
        "Προσοχή: το corpus και τα τελικά tokens που θα το αποτελούν θα χρησιμοποιηθούν στη συνέχεια ως κλειδιά για να βρούμε εμφυτεύματα. Για το λόγο αυτό, πρέπει να είστε προσεκτικοί ως προς την εφαρμογή μεθόδων κανονικοποίησης (text normalization) όπως το stemming και το lemmatization."
      ]
    },
    {
      "cell_type": "markdown",
      "source": [
        "Αρχικά θα φροντίσουμε όλες οι λέξεις να αποτελούνται από πεζά γράμματα."
      ],
      "metadata": {
        "id": "P5Q0FbVaDVQM"
      }
    },
    {
      "cell_type": "code",
      "source": [
        "summaries_lower = []\n",
        "for summary in summaries:\n",
        "  summaries_lower.append(summary[0].lower())"
      ],
      "metadata": {
        "id": "8Eao8APTDI50"
      },
      "execution_count": 7,
      "outputs": []
    },
    {
      "cell_type": "markdown",
      "source": [
        "Στη συνέχεια θα εμφανίσουμε τις 10 πρώτες περιγραφές για να έχουμε μια εικόνα της αρχικής κατάστασης στην οποία βρίσκονται."
      ],
      "metadata": {
        "id": "3DrQO-ClEhYI"
      }
    },
    {
      "cell_type": "code",
      "source": [
        "for i in range(10):\n",
        "  print(summaries_lower[i])"
      ],
      "metadata": {
        "colab": {
          "base_uri": "https://localhost:8080/"
        },
        "id": "zj9YPZAPDwGt",
        "outputId": "65077657-8364-4d3d-c1f6-1829f029328e"
      },
      "execution_count": 8,
      "outputs": [
        {
          "output_type": "stream",
          "name": "stdout",
          "text": [
            "vivacious lady is a story of love at first sight between a young botany professor named peter morgan jr.  and a nightclub singer named francey . the film also has comedic elements, including repeatedly frustrated attempts by the newlywed couple to find a moment alone with each other. the story begins when peter is sent to manhattan to retrieve his playboy cousin keith ([[james ellison  and immediately falls in love with francey. after a whirlwind one-day courtship, peter and francey get married, and they and keith return to the morgan family's home, where peter teaches at the university run by his father peter morgan sr. . mr. morgan is known for being a proud, overbearing man, so peter is afraid to tell him about the marriage. when they arrive, mr. morgan and peter's high-society fiancée helen  initially take francey for another of keith's girlfriends. while peter decides how to approach his father with the news, francey stays at a women-only hotel, and peter and keith introduce her as a new botany student. peter mentions francey to his father twice, but on both occasions, mr. morgan interrupts and ignores his son, and when peter becomes insistent, his apparently ailing mother  has a flare-up of her heart condition, making any further conversation impossible. for his third attempt, peter decides to announce the marriage to his parents at the university's student-faculty prom. keith brings francey to the prom as his own guest, and francey, still posing as a student, develops a friendly rapore with mrs. morgan, but gets into a nasty brawl with helen in which francey accidentally punches peter's father. peter says nothing at the prom, but blurts the news to his father just as mr. morgan is about to give an important speech, resulting in another argument and another flare-up of mrs. morgan's heart condition. this prevents mrs. morgan from learning who francey is, but she accidentally finds out from francey herself during a conversation in francey's apartment. mrs. morgan accepts the news happily, and admits to francey that she pretends to have heart trouble any time her husband gets into an argument, but mr. morgan demands that francey leave peter, threatening to fire him if she doesn't. francey agrees to leave, but the incident releases thirty years of marital frustration in mrs. morgan, who also decides to leave her husband. francey tells peter she will leave him unless he can change his father's mind before her train departs. peter's solution is to threaten the family with disgrace by getting drunk and otherwise misbehaving until his father relents, even if it costs him his job. peter passes out before he can reach the train, which departs with both francey and mrs. morgan aboard, but mr. morgan, having finally yielded to the combined pressure of his son and wife, stops the train by driving ahead of it with peter and parking the car on the track. both marriages are saved, and peter and francey finally have their honeymoon on the train.\n",
            "while cleaning his underground home, mole senses that spring is probably beginning above the ground. he is curious and decides that every mole should see the world at least once in his or her lifetime, so he makes himself a tunnel and soon finds himself in the english countryside. mole is marvelled by this new world and wishes to see every bit of it. along comes rat, who befriends mole and offers him a ride on his small blue rowboat as well as a short picnic by the riverbank. rat tells mole about the different creatures who inhabitate near the river. there's badger, who is very grumpy and doesn't like company, and toad, who is very wealthy and lives in a fine mansion along the riverbank named \"toad hall\". when the two friends set out to meet mr. mole, rat is bewildered to see that toad has been swept away by a new mania; a love for gypsy carts. though rat hesitates, toad offers him and his new friend a wild ride on the vehicle. the ride is thrilling and new for mole, not so much for rat, but it ends abruptly when the cart is destroyed by a passing motorcar. toad doesn't mind, because he is instantly taken by a new mania for motorcars. determined to drive through the countryside in a new motorcar, rat and mole fear that their friend's new mania is very dangerous, for toad can hardly drive. mole seeks out the advise of badger, who lives deep inside the wild wood, where he's been told never to go since it is a very dangerous place. rat follows mole to badger's house and the two animals beg him for his help. badger agrees to help out as soon as winter is over, for he is a hibernating animal. spring comes and badger orders that toad be kept indoors and away from disastrous rides on motorcars. toad is very upset, but he outsmarts rat when the two are left alone and the determined toad sets out to find a motorcar; or rather, steal one. toad's crime lands him in prison, and his friends worry about his mysterious disappearance. with the help of a young girl, the magistrate's daughter, toad manages to escape his cell and return to toad hall. however, upon his return, he is shocked to find that his home has been overtaken by a band of ruthless weasels. he and his friends, rat, mole, badger and otter cook up a plan to rescover toad's priced home and restore order to the entire community along the riverbank.\n",
            "shinnojo, a low level samurai, lives with his pretty, dutiful and loyal wife kayo. he has come to find his position in a castle as a food-taster for a feudal lord to be boring and pointless, and talks about opening a kendo school open to boys of all castes where he can teach the use of the sword. before he can act on his dream he becomes ill with a fever after tasting some sashimi made from shell fish, but an investigation reveals that the poisoning was not due to a human conspiracy, but a poor choice of food out of season. after three days he awakes but finds that the toxin from the food has blinded him. kayo is summoned by shinnojo's family to explain how the couple will survive. his uncle laments that he no longer knows anybody with influence in the castle, and asks kayo if she knows of anybody. she relates how toya shimada, the chief duty officer in the castle and a samurai of high rank, offered to help and they tell her to act upon his offer of assistance. a message from the castle brings the good news that shinnojo's stipend of rice will remain the same, and for life but his aunt tells him that kayo was seen with another man. he has tokuhei, his faithful servant, follow her. kayo notices that she is being followed, and although tokuhei offers to cover for her, she reveals to shinnojo that shimada offered to help but with a price, shown when he forced himself upon her. he then solicited two additional trysts by threatening to tell shinnojo about the first. an enraged shinnojo divorces her and orders her out of his house. when it is revealed to him that shimada had nothing to do with maintaining his stipend, but that it came out of gratitude from the lord of the clan himself, shinnojo seeks to renew his skill with the sword as a blind man to avenge the dishonor of kayo. through tokuhei, he sends a message to shimada to set up a duel, with the additional message to not underestimate him. the two samurai meet at the stables near the river to decide their destinies. in a very interesting fight shinnojo cuts off shimada's arm. he leaves shimada to live horribly disfigured, telling tokuhei that he has avenged kayo's dishonor. the next day shinnojo is informed that the injured shimada refused to tell anyone what had happened or who injured him in the duel. it turns out that during the night shimada committed seppuku and killed himself, as a samurai cannot live with only one arm. he dies without anyone knowing of his sin against the mimura family, his violation of kayo, or his own dishonorable injury by a blinded man. tokuhei tells shinnojo he has found a girl to work in the kitchen and cook for him. after one taste of the girl's food, shinnojo recognizes his wife's cooking, and calls kayo to come into the house. shinnojo and kayo reconcile, with an understanding that they will begin their life together anew.\n",
            "benny horowitz ([[john gilbert , a reformed gangster, proposes marriage to bertha , a neighbor who had been a frequent visitor while he served his sentence. bertha rejects his proposal because she believes that he is still in love with freida , benny's former gun moll. during a party in which freida seeks to make benny jealous with a former rival, benny again takes control of the gang's leadership. after his rival's death is ruled accidental, benny and bertha go off together and start a new life.\n",
            "laura  and fabrizio  have been meeting every summer in the forest by her parent's summer home. fabrizio is a solitary boy with only his dog for company; laura a sweet, but unconfident child. this summer new aspects enter into their story as both are growing up. the film represents them as part child, part adult. part naive, part knowing. laura is falling in love with fabrizio, while he displays a new sexual awareness of her masked by his malice. fabrizio becomes inexplicably cruel. he accelerates his unwarranted torment of laura in many ways, including tying her up and putting a snake near her and killing a pet bird she is fond of. fabrizio prides himself on being 'king of the forest' and rubbishes laura's tender attempts to be his queen. one day they climb the \"blue mountain\", a mysterious tall mountain at the forest's edge and discover ancient building ruins. exploring these they find a cave. inside, fabrizio seduces laura. fabrizio's cruel streak is boosted by his new sexual confidence. at one point he virtually forces himself on laura, much to her upset. he does relent when she makes it clear she wants fabrizio to be gentle with her, which he ridicules. things develop further when they meet sylvia . unlike the previously virginal laura, sylvia is confident and assertive. fabrizio develops a fascination with her, eventually bribing laura to fetch her to the forest to join them in play. sylvia aware of fabrizio’s interest in her, asserts herself in his affections, quickly replacing laura and demoting her to servant and victim, which fabrizio takes delight in. laura, reluctant to leave her old friend and new lover, stays and becomes the target of the duo's ever progressing cruelty. at one point, they both 'hunt' laura with bows and arrows and at another, pretend to throw her off a high ledge. they make love in front of her, insisting her punishment is that she must watch, leaving laura confused and heartbroken. at the end of summer, with the girls talking about returning to school, fabrizio becomes pensive and agitated. he insists on taking sylvia to the ruins for the first time. all three of them go into the cave to escape a thunderstorm and fabrizio again pretends they are lost as he did with laura. sylvia breaks down sobbing for her mother, all traces of her confidence and maturity lost in the fear of being in the cave. fabrizio repeatedly begs sylvia to stay with him forever. in the morning, sylvia is still lost in the cave and further rejects the desperate fabrizio and his pleas to stay with him. she becomes hysterical and he kills her with a knife, feeling it is the only way he won't lose her. he stays with the dead body and gives laura the flashlight telling her she knows the way home and laura reluctantly leaves.\n",
            "the film takes place in the summer of 1969, when nasa astronauts successfully landed on the moon for the first time, in the apollo 11 spacecraft. katherine, suffering from panic attacks caused by an automobile accident which resulted in the loss of their unborn child, refuses to leave the house, while washington is a man of adventure who enjoys travel and experiencing life. as a result of the conflict between the two, eleven-year-old son andy  has never traveled in a car, nor has he ever left town. washington, who also maintains a ragtag collection of automobiles of various vintages, decides to travel with andy to the craters of the moon national park, arriving at the very moment the apollo 11 crew lands on the moon. they make the trip in washington's 1949 pontiac eight convertible nicknamed \"the chief\", and make some enemies, new friends, and learn the meaning of family. the pontiac's mileage, when arriving at its destination, will be exactly the distance in miles from the earth to the moon. when katherine finds out where her husband and son are going, she faces her fears , and follows them in one of washington's cars, an amphicar. she learns the importance of living as she follows the pontiac to craters of the moon. on the way, the pontiac's engine dies, and washington arranges for a mechanic to install a replacement engine, only to leave the premises without paying for the engine because he didn't have enough money to pay. at the moment of the apollo 11 landing, the pontiac crashes into a crater at craters of the moon, with andy at the wheel. katherine arrives, and they escape a police chase by driving the amphicar into a lake to canada and safety. the adventure brings the bellamy family together, and they are now ready to begin a more normal life.\n",
            " dasima  is a nyai, or a native mistress, for the englishman edward william. the couple and their daughter nancy live in a home near gambir square in batavia . the delman driver samiun has fallen in love with dasima, despite already being married to hayati. he attempts to use spells to win her heart. he also has an egg merchant, mak buyung, frighten dasima by telling the young woman that she has committed the sin of zina . samiun eventually succeeds, and dasima goes to live with him and hayati, taking along gold and jewels. hayati has agreed to let samiun take a second wife as she wants dasima's money, which she will use for gambling.  dasima eventually realises that she has been tricked and begins to keep a close eye on her remaining wealth. to get at it, samiun calls the thug puasa and tells him to rob the young woman. at night, as dasima goes to hear the story of amir hamzah at a nearby village, puasa accosts her. he panics when she screams and kills her, then throws her body off a bridge; it washes up behind williams' home. samiun and puasa are caught and sentenced to hang.\n",
            "an employee detects a pharmaceutical company's sinister plan within the executive office, he will be wiped out and his entire family. only his son brian survived, although it was rammed in a drill into the skull and recognizes only one thought: revenge!\n",
            "the film presents the tale of agnese ascalone, daughter of prominent miner vincenzo ascalone, and takes place in a small town in sicily, as did germi's previous film divorce, italian style. agnese is seduced by her sister matilde's fiance, and has a tryst with him for which she confesses and tries to repent, only to be discovered by her mother and father. vincenzo immediately demands that the man, peppino califano, marry his daughter, and antics ensue. the film is a dark satire of sicilian social customs and honor laws, and is very similar to divorce, italian style.\n",
            " muthu  comes to the city from his village for a song contest. he meets ravikanth  in the city and they both work hard for the song contest. muthu tells ravikanth about how he fell in love with devayani  and how he got her to love him. devayani is the daughter of a song teacher in his village. he came to this contest so he could win the money and pay off the loan his mother had to the village leader. they both work together and end up winning the song contest. muthu then goes back to his village with joy and finds out a flood had come and meena's house had been destroyed, it was reported that her father and her body had not been found. muthu thinks that meena is dead, and is very sad. he then goes and gives the money to the village leader, paying off his mother's debt. his mother takes him to the city so that they can find a job and so that muthu can forget about meena. when they reach the city muthu finds out that his song was a big hit. therefore he had become very popular. the holder of the song contest  calls on muthu to come work for him. muthu does not want to, but his mother persuades him. he then works for janakaraj and his daughter falls in love with muthu. muthu who is still in love with meena refused to marry janakaraj's daughter . his mother says meena won't come back and she wishes to see his marriage. therefore he marries roja. soon after the marriage she has to go on a business trip to the usa. meena was in fact alive but has amnesia. muthu's songs are playing on the radio and meena happens to hear it and she remembers again. she promptly gets on the bus to the city from a village where she was helping the fisherman who saved her life. she meets muthu at the recording studio. he is surprised and overjoyed but doesn't tell her about his marriage to roja selvamani . meena is then adamant to get married soon, so they both get married. he then juggles both of his lives . he nearly gets caught when both roja selvamani and muthu with meena go to the saree shop and bump into each other. so to prove that they are two different people he takes a photo and photoshops it to show two of him shaking hands. they then all believe muthu and veera are different people. a thief who muthu had caught and handed over to the police takes revenge by kidnapping his wives. the thief also knows that both are one person, and when he comes to save them it is revealed that both are one person. after he saves them both his wives fight over him, one says that he officially married her first  while the other says that she fell in love first. his wives don't want to share. when he tries to explain they go away angrily. muthu then leaves the city to go back to his village. when he gets home he finds them both in his house. the film ends with them both holding his bag as he enters the house. www.veeratamilan.com\n"
          ]
        }
      ]
    },
    {
      "cell_type": "markdown",
      "source": [
        "Έπειτα θα χωρίσουμε τις περιγραφές σε λέξεις και θα φιλτράρουμε τα stopwords που περιέχει η nltk μαζί με τα σημεία στίξης."
      ],
      "metadata": {
        "id": "kWEHd0sUFbxm"
      }
    },
    {
      "cell_type": "code",
      "source": [
        "from nltk import word_tokenize\n",
        "from nltk.corpus import stopwords\n",
        "# needed for word_tokenize and filtering\n",
        "nltk.download('stopwords')\n",
        "nltk.download('punkt')"
      ],
      "metadata": {
        "colab": {
          "base_uri": "https://localhost:8080/"
        },
        "id": "hrxnufT0BqWm",
        "outputId": "61ad5d99-fa89-45d0-9f34-0b9e0ae2c32a"
      },
      "execution_count": 9,
      "outputs": [
        {
          "output_type": "stream",
          "name": "stderr",
          "text": [
            "[nltk_data] Downloading package stopwords to /root/nltk_data...\n",
            "[nltk_data]   Package stopwords is already up-to-date!\n",
            "[nltk_data] Downloading package punkt to /root/nltk_data...\n",
            "[nltk_data]   Package punkt is already up-to-date!\n"
          ]
        },
        {
          "output_type": "execute_result",
          "data": {
            "text/plain": [
              "True"
            ]
          },
          "metadata": {},
          "execution_count": 9
        }
      ]
    },
    {
      "cell_type": "code",
      "source": [
        "if clean_run:\n",
        "  summaries_words = []\n",
        "  for summary in tqdm(summaries_lower):\n",
        "    tokenized = word_tokenize(summary)\n",
        "    filtered_words = [word for word in tokenized if word not in stopwords.words('english') + list(string.punctuation)]\n",
        "    summaries_words.append(filtered_words)\n",
        "    \n",
        "  with open('summaries_tokenized.dump', 'wb') as fid:\n",
        "      pickle.dump(summaries_words, fid)\n",
        "else:\n",
        "  with open('summaries_tokenized.dump', 'rb') as fid:\n",
        "    summaries_words = pickle.load(fid)"
      ],
      "metadata": {
        "id": "riWAWPcAKN6j"
      },
      "execution_count": 10,
      "outputs": []
    },
    {
      "cell_type": "code",
      "source": [
        "for i in range(10):\n",
        "  print(summaries_words[i])"
      ],
      "metadata": {
        "colab": {
          "base_uri": "https://localhost:8080/"
        },
        "id": "oruUred8HYLG",
        "outputId": "c05aa0c2-a017-4a10-8174-f01bf24208b4"
      },
      "execution_count": 11,
      "outputs": [
        {
          "output_type": "stream",
          "name": "stdout",
          "text": [
            "['vivacious', 'lady', 'story', 'love', 'first', 'sight', 'young', 'botany', 'professor', 'named', 'peter', 'morgan', 'jr.', 'nightclub', 'singer', 'named', 'francey', 'film', 'also', 'comedic', 'elements', 'including', 'repeatedly', 'frustrated', 'attempts', 'newlywed', 'couple', 'find', 'moment', 'alone', 'story', 'begins', 'peter', 'sent', 'manhattan', 'retrieve', 'playboy', 'cousin', 'keith', 'james', 'ellison', 'immediately', 'falls', 'love', 'francey', 'whirlwind', 'one-day', 'courtship', 'peter', 'francey', 'get', 'married', 'keith', 'return', 'morgan', 'family', \"'s\", 'home', 'peter', 'teaches', 'university', 'run', 'father', 'peter', 'morgan', 'sr.', 'mr.', 'morgan', 'known', 'proud', 'overbearing', 'man', 'peter', 'afraid', 'tell', 'marriage', 'arrive', 'mr.', 'morgan', 'peter', \"'s\", 'high-society', 'fiancée', 'helen', 'initially', 'take', 'francey', 'another', 'keith', \"'s\", 'girlfriends', 'peter', 'decides', 'approach', 'father', 'news', 'francey', 'stays', 'women-only', 'hotel', 'peter', 'keith', 'introduce', 'new', 'botany', 'student', 'peter', 'mentions', 'francey', 'father', 'twice', 'occasions', 'mr.', 'morgan', 'interrupts', 'ignores', 'son', 'peter', 'becomes', 'insistent', 'apparently', 'ailing', 'mother', 'flare-up', 'heart', 'condition', 'making', 'conversation', 'impossible', 'third', 'attempt', 'peter', 'decides', 'announce', 'marriage', 'parents', 'university', \"'s\", 'student-faculty', 'prom', 'keith', 'brings', 'francey', 'prom', 'guest', 'francey', 'still', 'posing', 'student', 'develops', 'friendly', 'rapore', 'mrs.', 'morgan', 'gets', 'nasty', 'brawl', 'helen', 'francey', 'accidentally', 'punches', 'peter', \"'s\", 'father', 'peter', 'says', 'nothing', 'prom', 'blurts', 'news', 'father', 'mr.', 'morgan', 'give', 'important', 'speech', 'resulting', 'another', 'argument', 'another', 'flare-up', 'mrs.', 'morgan', \"'s\", 'heart', 'condition', 'prevents', 'mrs.', 'morgan', 'learning', 'francey', 'accidentally', 'finds', 'francey', 'conversation', 'francey', \"'s\", 'apartment', 'mrs.', 'morgan', 'accepts', 'news', 'happily', 'admits', 'francey', 'pretends', 'heart', 'trouble', 'time', 'husband', 'gets', 'argument', 'mr.', 'morgan', 'demands', 'francey', 'leave', 'peter', 'threatening', 'fire', \"n't\", 'francey', 'agrees', 'leave', 'incident', 'releases', 'thirty', 'years', 'marital', 'frustration', 'mrs.', 'morgan', 'also', 'decides', 'leave', 'husband', 'francey', 'tells', 'peter', 'leave', 'unless', 'change', 'father', \"'s\", 'mind', 'train', 'departs', 'peter', \"'s\", 'solution', 'threaten', 'family', 'disgrace', 'getting', 'drunk', 'otherwise', 'misbehaving', 'father', 'relents', 'even', 'costs', 'job', 'peter', 'passes', 'reach', 'train', 'departs', 'francey', 'mrs.', 'morgan', 'aboard', 'mr.', 'morgan', 'finally', 'yielded', 'combined', 'pressure', 'son', 'wife', 'stops', 'train', 'driving', 'ahead', 'peter', 'parking', 'car', 'track', 'marriages', 'saved', 'peter', 'francey', 'finally', 'honeymoon', 'train']\n",
            "['cleaning', 'underground', 'home', 'mole', 'senses', 'spring', 'probably', 'beginning', 'ground', 'curious', 'decides', 'every', 'mole', 'see', 'world', 'least', 'lifetime', 'makes', 'tunnel', 'soon', 'finds', 'english', 'countryside', 'mole', 'marvelled', 'new', 'world', 'wishes', 'see', 'every', 'bit', 'along', 'comes', 'rat', 'befriends', 'mole', 'offers', 'ride', 'small', 'blue', 'rowboat', 'well', 'short', 'picnic', 'riverbank', 'rat', 'tells', 'mole', 'different', 'creatures', 'inhabitate', 'near', 'river', \"'s\", 'badger', 'grumpy', \"n't\", 'like', 'company', 'toad', 'wealthy', 'lives', 'fine', 'mansion', 'along', 'riverbank', 'named', '``', 'toad', 'hall', \"''\", 'two', 'friends', 'set', 'meet', 'mr.', 'mole', 'rat', 'bewildered', 'see', 'toad', 'swept', 'away', 'new', 'mania', 'love', 'gypsy', 'carts', 'though', 'rat', 'hesitates', 'toad', 'offers', 'new', 'friend', 'wild', 'ride', 'vehicle', 'ride', 'thrilling', 'new', 'mole', 'much', 'rat', 'ends', 'abruptly', 'cart', 'destroyed', 'passing', 'motorcar', 'toad', \"n't\", 'mind', 'instantly', 'taken', 'new', 'mania', 'motorcars', 'determined', 'drive', 'countryside', 'new', 'motorcar', 'rat', 'mole', 'fear', 'friend', \"'s\", 'new', 'mania', 'dangerous', 'toad', 'hardly', 'drive', 'mole', 'seeks', 'advise', 'badger', 'lives', 'deep', 'inside', 'wild', 'wood', \"'s\", 'told', 'never', 'go', 'since', 'dangerous', 'place', 'rat', 'follows', 'mole', 'badger', \"'s\", 'house', 'two', 'animals', 'beg', 'help', 'badger', 'agrees', 'help', 'soon', 'winter', 'hibernating', 'animal', 'spring', 'comes', 'badger', 'orders', 'toad', 'kept', 'indoors', 'away', 'disastrous', 'rides', 'motorcars', 'toad', 'upset', 'outsmarts', 'rat', 'two', 'left', 'alone', 'determined', 'toad', 'sets', 'find', 'motorcar', 'rather', 'steal', 'one', 'toad', \"'s\", 'crime', 'lands', 'prison', 'friends', 'worry', 'mysterious', 'disappearance', 'help', 'young', 'girl', 'magistrate', \"'s\", 'daughter', 'toad', 'manages', 'escape', 'cell', 'return', 'toad', 'hall', 'however', 'upon', 'return', 'shocked', 'find', 'home', 'overtaken', 'band', 'ruthless', 'weasels', 'friends', 'rat', 'mole', 'badger', 'otter', 'cook', 'plan', 'rescover', 'toad', \"'s\", 'priced', 'home', 'restore', 'order', 'entire', 'community', 'along', 'riverbank']\n",
            "['shinnojo', 'low', 'level', 'samurai', 'lives', 'pretty', 'dutiful', 'loyal', 'wife', 'kayo', 'come', 'find', 'position', 'castle', 'food-taster', 'feudal', 'lord', 'boring', 'pointless', 'talks', 'opening', 'kendo', 'school', 'open', 'boys', 'castes', 'teach', 'use', 'sword', 'act', 'dream', 'becomes', 'ill', 'fever', 'tasting', 'sashimi', 'made', 'shell', 'fish', 'investigation', 'reveals', 'poisoning', 'due', 'human', 'conspiracy', 'poor', 'choice', 'food', 'season', 'three', 'days', 'awakes', 'finds', 'toxin', 'food', 'blinded', 'kayo', 'summoned', 'shinnojo', \"'s\", 'family', 'explain', 'couple', 'survive', 'uncle', 'laments', 'longer', 'knows', 'anybody', 'influence', 'castle', 'asks', 'kayo', 'knows', 'anybody', 'relates', 'toya', 'shimada', 'chief', 'duty', 'officer', 'castle', 'samurai', 'high', 'rank', 'offered', 'help', 'tell', 'act', 'upon', 'offer', 'assistance', 'message', 'castle', 'brings', 'good', 'news', 'shinnojo', \"'s\", 'stipend', 'rice', 'remain', 'life', 'aunt', 'tells', 'kayo', 'seen', 'another', 'man', 'tokuhei', 'faithful', 'servant', 'follow', 'kayo', 'notices', 'followed', 'although', 'tokuhei', 'offers', 'cover', 'reveals', 'shinnojo', 'shimada', 'offered', 'help', 'price', 'shown', 'forced', 'upon', 'solicited', 'two', 'additional', 'trysts', 'threatening', 'tell', 'shinnojo', 'first', 'enraged', 'shinnojo', 'divorces', 'orders', 'house', 'revealed', 'shimada', 'nothing', 'maintaining', 'stipend', 'came', 'gratitude', 'lord', 'clan', 'shinnojo', 'seeks', 'renew', 'skill', 'sword', 'blind', 'man', 'avenge', 'dishonor', 'kayo', 'tokuhei', 'sends', 'message', 'shimada', 'set', 'duel', 'additional', 'message', 'underestimate', 'two', 'samurai', 'meet', 'stables', 'near', 'river', 'decide', 'destinies', 'interesting', 'fight', 'shinnojo', 'cuts', 'shimada', \"'s\", 'arm', 'leaves', 'shimada', 'live', 'horribly', 'disfigured', 'telling', 'tokuhei', 'avenged', 'kayo', \"'s\", 'dishonor', 'next', 'day', 'shinnojo', 'informed', 'injured', 'shimada', 'refused', 'tell', 'anyone', 'happened', 'injured', 'duel', 'turns', 'night', 'shimada', 'committed', 'seppuku', 'killed', 'samurai', 'live', 'one', 'arm', 'dies', 'without', 'anyone', 'knowing', 'sin', 'mimura', 'family', 'violation', 'kayo', 'dishonorable', 'injury', 'blinded', 'man', 'tokuhei', 'tells', 'shinnojo', 'found', 'girl', 'work', 'kitchen', 'cook', 'one', 'taste', 'girl', \"'s\", 'food', 'shinnojo', 'recognizes', 'wife', \"'s\", 'cooking', 'calls', 'kayo', 'come', 'house', 'shinnojo', 'kayo', 'reconcile', 'understanding', 'begin', 'life', 'together', 'anew']\n",
            "['benny', 'horowitz', 'john', 'gilbert', 'reformed', 'gangster', 'proposes', 'marriage', 'bertha', 'neighbor', 'frequent', 'visitor', 'served', 'sentence', 'bertha', 'rejects', 'proposal', 'believes', 'still', 'love', 'freida', 'benny', \"'s\", 'former', 'gun', 'moll', 'party', 'freida', 'seeks', 'make', 'benny', 'jealous', 'former', 'rival', 'benny', 'takes', 'control', 'gang', \"'s\", 'leadership', 'rival', \"'s\", 'death', 'ruled', 'accidental', 'benny', 'bertha', 'go', 'together', 'start', 'new', 'life']\n",
            "['laura', 'fabrizio', 'meeting', 'every', 'summer', 'forest', 'parent', \"'s\", 'summer', 'home', 'fabrizio', 'solitary', 'boy', 'dog', 'company', 'laura', 'sweet', 'unconfident', 'child', 'summer', 'new', 'aspects', 'enter', 'story', 'growing', 'film', 'represents', 'part', 'child', 'part', 'adult', 'part', 'naive', 'part', 'knowing', 'laura', 'falling', 'love', 'fabrizio', 'displays', 'new', 'sexual', 'awareness', 'masked', 'malice', 'fabrizio', 'becomes', 'inexplicably', 'cruel', 'accelerates', 'unwarranted', 'torment', 'laura', 'many', 'ways', 'including', 'tying', 'putting', 'snake', 'near', 'killing', 'pet', 'bird', 'fond', 'fabrizio', 'prides', \"'king\", 'forest', 'rubbishes', 'laura', \"'s\", 'tender', 'attempts', 'queen', 'one', 'day', 'climb', '``', 'blue', 'mountain', \"''\", 'mysterious', 'tall', 'mountain', 'forest', \"'s\", 'edge', 'discover', 'ancient', 'building', 'ruins', 'exploring', 'find', 'cave', 'inside', 'fabrizio', 'seduces', 'laura', 'fabrizio', \"'s\", 'cruel', 'streak', 'boosted', 'new', 'sexual', 'confidence', 'one', 'point', 'virtually', 'forces', 'laura', 'much', 'upset', 'relent', 'makes', 'clear', 'wants', 'fabrizio', 'gentle', 'ridicules', 'things', 'develop', 'meet', 'sylvia', 'unlike', 'previously', 'virginal', 'laura', 'sylvia', 'confident', 'assertive', 'fabrizio', 'develops', 'fascination', 'eventually', 'bribing', 'laura', 'fetch', 'forest', 'join', 'play', 'sylvia', 'aware', 'fabrizio', '’', 'interest', 'asserts', 'affections', 'quickly', 'replacing', 'laura', 'demoting', 'servant', 'victim', 'fabrizio', 'takes', 'delight', 'laura', 'reluctant', 'leave', 'old', 'friend', 'new', 'lover', 'stays', 'becomes', 'target', 'duo', \"'s\", 'ever', 'progressing', 'cruelty', 'one', 'point', \"'hunt\", 'laura', 'bows', 'arrows', 'another', 'pretend', 'throw', 'high', 'ledge', 'make', 'love', 'front', 'insisting', 'punishment', 'must', 'watch', 'leaving', 'laura', 'confused', 'heartbroken', 'end', 'summer', 'girls', 'talking', 'returning', 'school', 'fabrizio', 'becomes', 'pensive', 'agitated', 'insists', 'taking', 'sylvia', 'ruins', 'first', 'time', 'three', 'go', 'cave', 'escape', 'thunderstorm', 'fabrizio', 'pretends', 'lost', 'laura', 'sylvia', 'breaks', 'sobbing', 'mother', 'traces', 'confidence', 'maturity', 'lost', 'fear', 'cave', 'fabrizio', 'repeatedly', 'begs', 'sylvia', 'stay', 'forever', 'morning', 'sylvia', 'still', 'lost', 'cave', 'rejects', 'desperate', 'fabrizio', 'pleas', 'stay', 'becomes', 'hysterical', 'kills', 'knife', 'feeling', 'way', 'wo', \"n't\", 'lose', 'stays', 'dead', 'body', 'gives', 'laura', 'flashlight', 'telling', 'knows', 'way', 'home', 'laura', 'reluctantly', 'leaves']\n",
            "['film', 'takes', 'place', 'summer', '1969', 'nasa', 'astronauts', 'successfully', 'landed', 'moon', 'first', 'time', 'apollo', '11', 'spacecraft', 'katherine', 'suffering', 'panic', 'attacks', 'caused', 'automobile', 'accident', 'resulted', 'loss', 'unborn', 'child', 'refuses', 'leave', 'house', 'washington', 'man', 'adventure', 'enjoys', 'travel', 'experiencing', 'life', 'result', 'conflict', 'two', 'eleven-year-old', 'son', 'andy', 'never', 'traveled', 'car', 'ever', 'left', 'town', 'washington', 'also', 'maintains', 'ragtag', 'collection', 'automobiles', 'various', 'vintages', 'decides', 'travel', 'andy', 'craters', 'moon', 'national', 'park', 'arriving', 'moment', 'apollo', '11', 'crew', 'lands', 'moon', 'make', 'trip', 'washington', \"'s\", '1949', 'pontiac', 'eight', 'convertible', 'nicknamed', '``', 'chief', \"''\", 'make', 'enemies', 'new', 'friends', 'learn', 'meaning', 'family', 'pontiac', \"'s\", 'mileage', 'arriving', 'destination', 'exactly', 'distance', 'miles', 'earth', 'moon', 'katherine', 'finds', 'husband', 'son', 'going', 'faces', 'fears', 'follows', 'one', 'washington', \"'s\", 'cars', 'amphicar', 'learns', 'importance', 'living', 'follows', 'pontiac', 'craters', 'moon', 'way', 'pontiac', \"'s\", 'engine', 'dies', 'washington', 'arranges', 'mechanic', 'install', 'replacement', 'engine', 'leave', 'premises', 'without', 'paying', 'engine', \"n't\", 'enough', 'money', 'pay', 'moment', 'apollo', '11', 'landing', 'pontiac', 'crashes', 'crater', 'craters', 'moon', 'andy', 'wheel', 'katherine', 'arrives', 'escape', 'police', 'chase', 'driving', 'amphicar', 'lake', 'canada', 'safety', 'adventure', 'brings', 'bellamy', 'family', 'together', 'ready', 'begin', 'normal', 'life']\n",
            "['dasima', 'nyai', 'native', 'mistress', 'englishman', 'edward', 'william', 'couple', 'daughter', 'nancy', 'live', 'home', 'near', 'gambir', 'square', 'batavia', 'delman', 'driver', 'samiun', 'fallen', 'love', 'dasima', 'despite', 'already', 'married', 'hayati', 'attempts', 'use', 'spells', 'win', 'heart', 'also', 'egg', 'merchant', 'mak', 'buyung', 'frighten', 'dasima', 'telling', 'young', 'woman', 'committed', 'sin', 'zina', 'samiun', 'eventually', 'succeeds', 'dasima', 'goes', 'live', 'hayati', 'taking', 'along', 'gold', 'jewels', 'hayati', 'agreed', 'let', 'samiun', 'take', 'second', 'wife', 'wants', 'dasima', \"'s\", 'money', 'use', 'gambling', 'dasima', 'eventually', 'realises', 'tricked', 'begins', 'keep', 'close', 'eye', 'remaining', 'wealth', 'get', 'samiun', 'calls', 'thug', 'puasa', 'tells', 'rob', 'young', 'woman', 'night', 'dasima', 'goes', 'hear', 'story', 'amir', 'hamzah', 'nearby', 'village', 'puasa', 'accosts', 'panics', 'screams', 'kills', 'throws', 'body', 'bridge', 'washes', 'behind', 'williams', 'home', 'samiun', 'puasa', 'caught', 'sentenced', 'hang']\n",
            "['employee', 'detects', 'pharmaceutical', 'company', \"'s\", 'sinister', 'plan', 'within', 'executive', 'office', 'wiped', 'entire', 'family', 'son', 'brian', 'survived', 'although', 'rammed', 'drill', 'skull', 'recognizes', 'one', 'thought', 'revenge']\n",
            "['film', 'presents', 'tale', 'agnese', 'ascalone', 'daughter', 'prominent', 'miner', 'vincenzo', 'ascalone', 'takes', 'place', 'small', 'town', 'sicily', 'germi', \"'s\", 'previous', 'film', 'divorce', 'italian', 'style', 'agnese', 'seduced', 'sister', 'matilde', \"'s\", 'fiance', 'tryst', 'confesses', 'tries', 'repent', 'discovered', 'mother', 'father', 'vincenzo', 'immediately', 'demands', 'man', 'peppino', 'califano', 'marry', 'daughter', 'antics', 'ensue', 'film', 'dark', 'satire', 'sicilian', 'social', 'customs', 'honor', 'laws', 'similar', 'divorce', 'italian', 'style']\n",
            "['muthu', 'comes', 'city', 'village', 'song', 'contest', 'meets', 'ravikanth', 'city', 'work', 'hard', 'song', 'contest', 'muthu', 'tells', 'ravikanth', 'fell', 'love', 'devayani', 'got', 'love', 'devayani', 'daughter', 'song', 'teacher', 'village', 'came', 'contest', 'could', 'win', 'money', 'pay', 'loan', 'mother', 'village', 'leader', 'work', 'together', 'end', 'winning', 'song', 'contest', 'muthu', 'goes', 'back', 'village', 'joy', 'finds', 'flood', 'come', 'meena', \"'s\", 'house', 'destroyed', 'reported', 'father', 'body', 'found', 'muthu', 'thinks', 'meena', 'dead', 'sad', 'goes', 'gives', 'money', 'village', 'leader', 'paying', 'mother', \"'s\", 'debt', 'mother', 'takes', 'city', 'find', 'job', 'muthu', 'forget', 'meena', 'reach', 'city', 'muthu', 'finds', 'song', 'big', 'hit', 'therefore', 'become', 'popular', 'holder', 'song', 'contest', 'calls', 'muthu', 'come', 'work', 'muthu', 'want', 'mother', 'persuades', 'works', 'janakaraj', 'daughter', 'falls', 'love', 'muthu', 'muthu', 'still', 'love', 'meena', 'refused', 'marry', 'janakaraj', \"'s\", 'daughter', 'mother', 'says', 'meena', 'wo', \"n't\", 'come', 'back', 'wishes', 'see', 'marriage', 'therefore', 'marries', 'roja', 'soon', 'marriage', 'go', 'business', 'trip', 'usa', 'meena', 'fact', 'alive', 'amnesia', 'muthu', \"'s\", 'songs', 'playing', 'radio', 'meena', 'happens', 'hear', 'remembers', 'promptly', 'gets', 'bus', 'city', 'village', 'helping', 'fisherman', 'saved', 'life', 'meets', 'muthu', 'recording', 'studio', 'surprised', 'overjoyed', \"n't\", 'tell', 'marriage', 'roja', 'selvamani', 'meena', 'adamant', 'get', 'married', 'soon', 'get', 'married', 'juggles', 'lives', 'nearly', 'gets', 'caught', 'roja', 'selvamani', 'muthu', 'meena', 'go', 'saree', 'shop', 'bump', 'prove', 'two', 'different', 'people', 'takes', 'photo', 'photoshops', 'show', 'two', 'shaking', 'hands', 'believe', 'muthu', 'veera', 'different', 'people', 'thief', 'muthu', 'caught', 'handed', 'police', 'takes', 'revenge', 'kidnapping', 'wives', 'thief', 'also', 'knows', 'one', 'person', 'comes', 'save', 'revealed', 'one', 'person', 'saves', 'wives', 'fight', 'one', 'says', 'officially', 'married', 'first', 'says', 'fell', 'love', 'first', 'wives', \"n't\", 'want', 'share', 'tries', 'explain', 'go', 'away', 'angrily', 'muthu', 'leaves', 'city', 'go', 'back', 'village', 'gets', 'home', 'finds', 'house', 'film', 'ends', 'holding', 'bag', 'enters', 'house', 'www.veeratamilan.com']\n"
          ]
        }
      ]
    },
    {
      "cell_type": "markdown",
      "source": [
        "Παρατηρούμε πως εξαιτίας του είδους των προτάσεων που επεξεργαζόμαστε υπάρχουν πολλές λέξεις που επαναλαμβάνονται στις περιγραφές και δεν προσδίδουν σημασία, όπως για παράδειγμα οι λέξεις film, jr., sr., mr., mrs. ή αντικείμενα που δεν είναι λέξεις αλλά αναγνωρίστηκαν από την επεξεργασία μας ως τέτοιες όπως π.χ. ``, '', 's, n't, ’ ή ακόμα και links όπως π.χ. www.veeratamilan.com. Τέλος, αφαιρούμε και πολύ σύντομες συμβολοσειρές (μικρότερες από 3 γράμματα)."
      ],
      "metadata": {
        "id": "tqTccy9jK9pt"
      }
    },
    {
      "cell_type": "code",
      "source": [
        "extra_filtering = [\"film\",\"jr.\", \"sr.\", \"mr.\", \"mrs.\", \"``\", \"''\", \"'s\", \"n't\",\"’\"]\n",
        "summaries_final = []\n",
        "for summary in tqdm(summaries_words):\n",
        "  filtered_words = [word for word in summary if (word not in extra_filtering and \n",
        "                                                 len(word)>2 and not re.search(\"^www\\.[a-zA-z\\d]+\\.[a-zA-z]+$\", word))]\n",
        "  summaries_final.append(filtered_words)"
      ],
      "metadata": {
        "colab": {
          "base_uri": "https://localhost:8080/",
          "height": 49,
          "referenced_widgets": [
            "905a7dd61c9e4c6e85431d2846143616",
            "9d07d8e826e8492f9f80aa9e3860e61d",
            "83ba46ba1e954a25826bc020f76e50b7",
            "d076300257c143d0a196f70a94a4c89d",
            "bb59ef84d0ad45d7a9e2b85346253d03",
            "cbd366fde3184c649b70eedf7fcccc32",
            "a479344fa7c549cd9c78b76ac42c8c62",
            "12abaac5012b4cb0b8363e383607bd6d",
            "15152442d79f423e943e4f3650f67680",
            "23ef282d44d44a259537555cfd193b63",
            "7a8446ed103e41adb9fd26192643e7a6"
          ]
        },
        "id": "c47LUH_XMbCz",
        "outputId": "02269d0f-648a-49dd-822d-4fa89e1f1efd"
      },
      "execution_count": 12,
      "outputs": [
        {
          "output_type": "display_data",
          "data": {
            "application/vnd.jupyter.widget-view+json": {
              "model_id": "905a7dd61c9e4c6e85431d2846143616",
              "version_minor": 0,
              "version_major": 2
            },
            "text/plain": [
              "  0%|          | 0/5000 [00:00<?, ?it/s]"
            ]
          },
          "metadata": {}
        }
      ]
    },
    {
      "cell_type": "code",
      "source": [
        "for i in range(10):\n",
        "  print(summaries_final[i])"
      ],
      "metadata": {
        "colab": {
          "base_uri": "https://localhost:8080/"
        },
        "id": "IhvBeJ8POfwO",
        "outputId": "53dbea5a-60d4-44e1-95ab-faaa2a4c0dd2"
      },
      "execution_count": 13,
      "outputs": [
        {
          "output_type": "stream",
          "name": "stdout",
          "text": [
            "['vivacious', 'lady', 'story', 'love', 'first', 'sight', 'young', 'botany', 'professor', 'named', 'peter', 'morgan', 'nightclub', 'singer', 'named', 'francey', 'also', 'comedic', 'elements', 'including', 'repeatedly', 'frustrated', 'attempts', 'newlywed', 'couple', 'find', 'moment', 'alone', 'story', 'begins', 'peter', 'sent', 'manhattan', 'retrieve', 'playboy', 'cousin', 'keith', 'james', 'ellison', 'immediately', 'falls', 'love', 'francey', 'whirlwind', 'one-day', 'courtship', 'peter', 'francey', 'get', 'married', 'keith', 'return', 'morgan', 'family', 'home', 'peter', 'teaches', 'university', 'run', 'father', 'peter', 'morgan', 'morgan', 'known', 'proud', 'overbearing', 'man', 'peter', 'afraid', 'tell', 'marriage', 'arrive', 'morgan', 'peter', 'high-society', 'fiancée', 'helen', 'initially', 'take', 'francey', 'another', 'keith', 'girlfriends', 'peter', 'decides', 'approach', 'father', 'news', 'francey', 'stays', 'women-only', 'hotel', 'peter', 'keith', 'introduce', 'new', 'botany', 'student', 'peter', 'mentions', 'francey', 'father', 'twice', 'occasions', 'morgan', 'interrupts', 'ignores', 'son', 'peter', 'becomes', 'insistent', 'apparently', 'ailing', 'mother', 'flare-up', 'heart', 'condition', 'making', 'conversation', 'impossible', 'third', 'attempt', 'peter', 'decides', 'announce', 'marriage', 'parents', 'university', 'student-faculty', 'prom', 'keith', 'brings', 'francey', 'prom', 'guest', 'francey', 'still', 'posing', 'student', 'develops', 'friendly', 'rapore', 'morgan', 'gets', 'nasty', 'brawl', 'helen', 'francey', 'accidentally', 'punches', 'peter', 'father', 'peter', 'says', 'nothing', 'prom', 'blurts', 'news', 'father', 'morgan', 'give', 'important', 'speech', 'resulting', 'another', 'argument', 'another', 'flare-up', 'morgan', 'heart', 'condition', 'prevents', 'morgan', 'learning', 'francey', 'accidentally', 'finds', 'francey', 'conversation', 'francey', 'apartment', 'morgan', 'accepts', 'news', 'happily', 'admits', 'francey', 'pretends', 'heart', 'trouble', 'time', 'husband', 'gets', 'argument', 'morgan', 'demands', 'francey', 'leave', 'peter', 'threatening', 'fire', 'francey', 'agrees', 'leave', 'incident', 'releases', 'thirty', 'years', 'marital', 'frustration', 'morgan', 'also', 'decides', 'leave', 'husband', 'francey', 'tells', 'peter', 'leave', 'unless', 'change', 'father', 'mind', 'train', 'departs', 'peter', 'solution', 'threaten', 'family', 'disgrace', 'getting', 'drunk', 'otherwise', 'misbehaving', 'father', 'relents', 'even', 'costs', 'job', 'peter', 'passes', 'reach', 'train', 'departs', 'francey', 'morgan', 'aboard', 'morgan', 'finally', 'yielded', 'combined', 'pressure', 'son', 'wife', 'stops', 'train', 'driving', 'ahead', 'peter', 'parking', 'car', 'track', 'marriages', 'saved', 'peter', 'francey', 'finally', 'honeymoon', 'train']\n",
            "['cleaning', 'underground', 'home', 'mole', 'senses', 'spring', 'probably', 'beginning', 'ground', 'curious', 'decides', 'every', 'mole', 'see', 'world', 'least', 'lifetime', 'makes', 'tunnel', 'soon', 'finds', 'english', 'countryside', 'mole', 'marvelled', 'new', 'world', 'wishes', 'see', 'every', 'bit', 'along', 'comes', 'rat', 'befriends', 'mole', 'offers', 'ride', 'small', 'blue', 'rowboat', 'well', 'short', 'picnic', 'riverbank', 'rat', 'tells', 'mole', 'different', 'creatures', 'inhabitate', 'near', 'river', 'badger', 'grumpy', 'like', 'company', 'toad', 'wealthy', 'lives', 'fine', 'mansion', 'along', 'riverbank', 'named', 'toad', 'hall', 'two', 'friends', 'set', 'meet', 'mole', 'rat', 'bewildered', 'see', 'toad', 'swept', 'away', 'new', 'mania', 'love', 'gypsy', 'carts', 'though', 'rat', 'hesitates', 'toad', 'offers', 'new', 'friend', 'wild', 'ride', 'vehicle', 'ride', 'thrilling', 'new', 'mole', 'much', 'rat', 'ends', 'abruptly', 'cart', 'destroyed', 'passing', 'motorcar', 'toad', 'mind', 'instantly', 'taken', 'new', 'mania', 'motorcars', 'determined', 'drive', 'countryside', 'new', 'motorcar', 'rat', 'mole', 'fear', 'friend', 'new', 'mania', 'dangerous', 'toad', 'hardly', 'drive', 'mole', 'seeks', 'advise', 'badger', 'lives', 'deep', 'inside', 'wild', 'wood', 'told', 'never', 'since', 'dangerous', 'place', 'rat', 'follows', 'mole', 'badger', 'house', 'two', 'animals', 'beg', 'help', 'badger', 'agrees', 'help', 'soon', 'winter', 'hibernating', 'animal', 'spring', 'comes', 'badger', 'orders', 'toad', 'kept', 'indoors', 'away', 'disastrous', 'rides', 'motorcars', 'toad', 'upset', 'outsmarts', 'rat', 'two', 'left', 'alone', 'determined', 'toad', 'sets', 'find', 'motorcar', 'rather', 'steal', 'one', 'toad', 'crime', 'lands', 'prison', 'friends', 'worry', 'mysterious', 'disappearance', 'help', 'young', 'girl', 'magistrate', 'daughter', 'toad', 'manages', 'escape', 'cell', 'return', 'toad', 'hall', 'however', 'upon', 'return', 'shocked', 'find', 'home', 'overtaken', 'band', 'ruthless', 'weasels', 'friends', 'rat', 'mole', 'badger', 'otter', 'cook', 'plan', 'rescover', 'toad', 'priced', 'home', 'restore', 'order', 'entire', 'community', 'along', 'riverbank']\n",
            "['shinnojo', 'low', 'level', 'samurai', 'lives', 'pretty', 'dutiful', 'loyal', 'wife', 'kayo', 'come', 'find', 'position', 'castle', 'food-taster', 'feudal', 'lord', 'boring', 'pointless', 'talks', 'opening', 'kendo', 'school', 'open', 'boys', 'castes', 'teach', 'use', 'sword', 'act', 'dream', 'becomes', 'ill', 'fever', 'tasting', 'sashimi', 'made', 'shell', 'fish', 'investigation', 'reveals', 'poisoning', 'due', 'human', 'conspiracy', 'poor', 'choice', 'food', 'season', 'three', 'days', 'awakes', 'finds', 'toxin', 'food', 'blinded', 'kayo', 'summoned', 'shinnojo', 'family', 'explain', 'couple', 'survive', 'uncle', 'laments', 'longer', 'knows', 'anybody', 'influence', 'castle', 'asks', 'kayo', 'knows', 'anybody', 'relates', 'toya', 'shimada', 'chief', 'duty', 'officer', 'castle', 'samurai', 'high', 'rank', 'offered', 'help', 'tell', 'act', 'upon', 'offer', 'assistance', 'message', 'castle', 'brings', 'good', 'news', 'shinnojo', 'stipend', 'rice', 'remain', 'life', 'aunt', 'tells', 'kayo', 'seen', 'another', 'man', 'tokuhei', 'faithful', 'servant', 'follow', 'kayo', 'notices', 'followed', 'although', 'tokuhei', 'offers', 'cover', 'reveals', 'shinnojo', 'shimada', 'offered', 'help', 'price', 'shown', 'forced', 'upon', 'solicited', 'two', 'additional', 'trysts', 'threatening', 'tell', 'shinnojo', 'first', 'enraged', 'shinnojo', 'divorces', 'orders', 'house', 'revealed', 'shimada', 'nothing', 'maintaining', 'stipend', 'came', 'gratitude', 'lord', 'clan', 'shinnojo', 'seeks', 'renew', 'skill', 'sword', 'blind', 'man', 'avenge', 'dishonor', 'kayo', 'tokuhei', 'sends', 'message', 'shimada', 'set', 'duel', 'additional', 'message', 'underestimate', 'two', 'samurai', 'meet', 'stables', 'near', 'river', 'decide', 'destinies', 'interesting', 'fight', 'shinnojo', 'cuts', 'shimada', 'arm', 'leaves', 'shimada', 'live', 'horribly', 'disfigured', 'telling', 'tokuhei', 'avenged', 'kayo', 'dishonor', 'next', 'day', 'shinnojo', 'informed', 'injured', 'shimada', 'refused', 'tell', 'anyone', 'happened', 'injured', 'duel', 'turns', 'night', 'shimada', 'committed', 'seppuku', 'killed', 'samurai', 'live', 'one', 'arm', 'dies', 'without', 'anyone', 'knowing', 'sin', 'mimura', 'family', 'violation', 'kayo', 'dishonorable', 'injury', 'blinded', 'man', 'tokuhei', 'tells', 'shinnojo', 'found', 'girl', 'work', 'kitchen', 'cook', 'one', 'taste', 'girl', 'food', 'shinnojo', 'recognizes', 'wife', 'cooking', 'calls', 'kayo', 'come', 'house', 'shinnojo', 'kayo', 'reconcile', 'understanding', 'begin', 'life', 'together', 'anew']\n",
            "['benny', 'horowitz', 'john', 'gilbert', 'reformed', 'gangster', 'proposes', 'marriage', 'bertha', 'neighbor', 'frequent', 'visitor', 'served', 'sentence', 'bertha', 'rejects', 'proposal', 'believes', 'still', 'love', 'freida', 'benny', 'former', 'gun', 'moll', 'party', 'freida', 'seeks', 'make', 'benny', 'jealous', 'former', 'rival', 'benny', 'takes', 'control', 'gang', 'leadership', 'rival', 'death', 'ruled', 'accidental', 'benny', 'bertha', 'together', 'start', 'new', 'life']\n",
            "['laura', 'fabrizio', 'meeting', 'every', 'summer', 'forest', 'parent', 'summer', 'home', 'fabrizio', 'solitary', 'boy', 'dog', 'company', 'laura', 'sweet', 'unconfident', 'child', 'summer', 'new', 'aspects', 'enter', 'story', 'growing', 'represents', 'part', 'child', 'part', 'adult', 'part', 'naive', 'part', 'knowing', 'laura', 'falling', 'love', 'fabrizio', 'displays', 'new', 'sexual', 'awareness', 'masked', 'malice', 'fabrizio', 'becomes', 'inexplicably', 'cruel', 'accelerates', 'unwarranted', 'torment', 'laura', 'many', 'ways', 'including', 'tying', 'putting', 'snake', 'near', 'killing', 'pet', 'bird', 'fond', 'fabrizio', 'prides', \"'king\", 'forest', 'rubbishes', 'laura', 'tender', 'attempts', 'queen', 'one', 'day', 'climb', 'blue', 'mountain', 'mysterious', 'tall', 'mountain', 'forest', 'edge', 'discover', 'ancient', 'building', 'ruins', 'exploring', 'find', 'cave', 'inside', 'fabrizio', 'seduces', 'laura', 'fabrizio', 'cruel', 'streak', 'boosted', 'new', 'sexual', 'confidence', 'one', 'point', 'virtually', 'forces', 'laura', 'much', 'upset', 'relent', 'makes', 'clear', 'wants', 'fabrizio', 'gentle', 'ridicules', 'things', 'develop', 'meet', 'sylvia', 'unlike', 'previously', 'virginal', 'laura', 'sylvia', 'confident', 'assertive', 'fabrizio', 'develops', 'fascination', 'eventually', 'bribing', 'laura', 'fetch', 'forest', 'join', 'play', 'sylvia', 'aware', 'fabrizio', 'interest', 'asserts', 'affections', 'quickly', 'replacing', 'laura', 'demoting', 'servant', 'victim', 'fabrizio', 'takes', 'delight', 'laura', 'reluctant', 'leave', 'old', 'friend', 'new', 'lover', 'stays', 'becomes', 'target', 'duo', 'ever', 'progressing', 'cruelty', 'one', 'point', \"'hunt\", 'laura', 'bows', 'arrows', 'another', 'pretend', 'throw', 'high', 'ledge', 'make', 'love', 'front', 'insisting', 'punishment', 'must', 'watch', 'leaving', 'laura', 'confused', 'heartbroken', 'end', 'summer', 'girls', 'talking', 'returning', 'school', 'fabrizio', 'becomes', 'pensive', 'agitated', 'insists', 'taking', 'sylvia', 'ruins', 'first', 'time', 'three', 'cave', 'escape', 'thunderstorm', 'fabrizio', 'pretends', 'lost', 'laura', 'sylvia', 'breaks', 'sobbing', 'mother', 'traces', 'confidence', 'maturity', 'lost', 'fear', 'cave', 'fabrizio', 'repeatedly', 'begs', 'sylvia', 'stay', 'forever', 'morning', 'sylvia', 'still', 'lost', 'cave', 'rejects', 'desperate', 'fabrizio', 'pleas', 'stay', 'becomes', 'hysterical', 'kills', 'knife', 'feeling', 'way', 'lose', 'stays', 'dead', 'body', 'gives', 'laura', 'flashlight', 'telling', 'knows', 'way', 'home', 'laura', 'reluctantly', 'leaves']\n",
            "['takes', 'place', 'summer', '1969', 'nasa', 'astronauts', 'successfully', 'landed', 'moon', 'first', 'time', 'apollo', 'spacecraft', 'katherine', 'suffering', 'panic', 'attacks', 'caused', 'automobile', 'accident', 'resulted', 'loss', 'unborn', 'child', 'refuses', 'leave', 'house', 'washington', 'man', 'adventure', 'enjoys', 'travel', 'experiencing', 'life', 'result', 'conflict', 'two', 'eleven-year-old', 'son', 'andy', 'never', 'traveled', 'car', 'ever', 'left', 'town', 'washington', 'also', 'maintains', 'ragtag', 'collection', 'automobiles', 'various', 'vintages', 'decides', 'travel', 'andy', 'craters', 'moon', 'national', 'park', 'arriving', 'moment', 'apollo', 'crew', 'lands', 'moon', 'make', 'trip', 'washington', '1949', 'pontiac', 'eight', 'convertible', 'nicknamed', 'chief', 'make', 'enemies', 'new', 'friends', 'learn', 'meaning', 'family', 'pontiac', 'mileage', 'arriving', 'destination', 'exactly', 'distance', 'miles', 'earth', 'moon', 'katherine', 'finds', 'husband', 'son', 'going', 'faces', 'fears', 'follows', 'one', 'washington', 'cars', 'amphicar', 'learns', 'importance', 'living', 'follows', 'pontiac', 'craters', 'moon', 'way', 'pontiac', 'engine', 'dies', 'washington', 'arranges', 'mechanic', 'install', 'replacement', 'engine', 'leave', 'premises', 'without', 'paying', 'engine', 'enough', 'money', 'pay', 'moment', 'apollo', 'landing', 'pontiac', 'crashes', 'crater', 'craters', 'moon', 'andy', 'wheel', 'katherine', 'arrives', 'escape', 'police', 'chase', 'driving', 'amphicar', 'lake', 'canada', 'safety', 'adventure', 'brings', 'bellamy', 'family', 'together', 'ready', 'begin', 'normal', 'life']\n",
            "['dasima', 'nyai', 'native', 'mistress', 'englishman', 'edward', 'william', 'couple', 'daughter', 'nancy', 'live', 'home', 'near', 'gambir', 'square', 'batavia', 'delman', 'driver', 'samiun', 'fallen', 'love', 'dasima', 'despite', 'already', 'married', 'hayati', 'attempts', 'use', 'spells', 'win', 'heart', 'also', 'egg', 'merchant', 'mak', 'buyung', 'frighten', 'dasima', 'telling', 'young', 'woman', 'committed', 'sin', 'zina', 'samiun', 'eventually', 'succeeds', 'dasima', 'goes', 'live', 'hayati', 'taking', 'along', 'gold', 'jewels', 'hayati', 'agreed', 'let', 'samiun', 'take', 'second', 'wife', 'wants', 'dasima', 'money', 'use', 'gambling', 'dasima', 'eventually', 'realises', 'tricked', 'begins', 'keep', 'close', 'eye', 'remaining', 'wealth', 'get', 'samiun', 'calls', 'thug', 'puasa', 'tells', 'rob', 'young', 'woman', 'night', 'dasima', 'goes', 'hear', 'story', 'amir', 'hamzah', 'nearby', 'village', 'puasa', 'accosts', 'panics', 'screams', 'kills', 'throws', 'body', 'bridge', 'washes', 'behind', 'williams', 'home', 'samiun', 'puasa', 'caught', 'sentenced', 'hang']\n",
            "['employee', 'detects', 'pharmaceutical', 'company', 'sinister', 'plan', 'within', 'executive', 'office', 'wiped', 'entire', 'family', 'son', 'brian', 'survived', 'although', 'rammed', 'drill', 'skull', 'recognizes', 'one', 'thought', 'revenge']\n",
            "['presents', 'tale', 'agnese', 'ascalone', 'daughter', 'prominent', 'miner', 'vincenzo', 'ascalone', 'takes', 'place', 'small', 'town', 'sicily', 'germi', 'previous', 'divorce', 'italian', 'style', 'agnese', 'seduced', 'sister', 'matilde', 'fiance', 'tryst', 'confesses', 'tries', 'repent', 'discovered', 'mother', 'father', 'vincenzo', 'immediately', 'demands', 'man', 'peppino', 'califano', 'marry', 'daughter', 'antics', 'ensue', 'dark', 'satire', 'sicilian', 'social', 'customs', 'honor', 'laws', 'similar', 'divorce', 'italian', 'style']\n",
            "['muthu', 'comes', 'city', 'village', 'song', 'contest', 'meets', 'ravikanth', 'city', 'work', 'hard', 'song', 'contest', 'muthu', 'tells', 'ravikanth', 'fell', 'love', 'devayani', 'got', 'love', 'devayani', 'daughter', 'song', 'teacher', 'village', 'came', 'contest', 'could', 'win', 'money', 'pay', 'loan', 'mother', 'village', 'leader', 'work', 'together', 'end', 'winning', 'song', 'contest', 'muthu', 'goes', 'back', 'village', 'joy', 'finds', 'flood', 'come', 'meena', 'house', 'destroyed', 'reported', 'father', 'body', 'found', 'muthu', 'thinks', 'meena', 'dead', 'sad', 'goes', 'gives', 'money', 'village', 'leader', 'paying', 'mother', 'debt', 'mother', 'takes', 'city', 'find', 'job', 'muthu', 'forget', 'meena', 'reach', 'city', 'muthu', 'finds', 'song', 'big', 'hit', 'therefore', 'become', 'popular', 'holder', 'song', 'contest', 'calls', 'muthu', 'come', 'work', 'muthu', 'want', 'mother', 'persuades', 'works', 'janakaraj', 'daughter', 'falls', 'love', 'muthu', 'muthu', 'still', 'love', 'meena', 'refused', 'marry', 'janakaraj', 'daughter', 'mother', 'says', 'meena', 'come', 'back', 'wishes', 'see', 'marriage', 'therefore', 'marries', 'roja', 'soon', 'marriage', 'business', 'trip', 'usa', 'meena', 'fact', 'alive', 'amnesia', 'muthu', 'songs', 'playing', 'radio', 'meena', 'happens', 'hear', 'remembers', 'promptly', 'gets', 'bus', 'city', 'village', 'helping', 'fisherman', 'saved', 'life', 'meets', 'muthu', 'recording', 'studio', 'surprised', 'overjoyed', 'tell', 'marriage', 'roja', 'selvamani', 'meena', 'adamant', 'get', 'married', 'soon', 'get', 'married', 'juggles', 'lives', 'nearly', 'gets', 'caught', 'roja', 'selvamani', 'muthu', 'meena', 'saree', 'shop', 'bump', 'prove', 'two', 'different', 'people', 'takes', 'photo', 'photoshops', 'show', 'two', 'shaking', 'hands', 'believe', 'muthu', 'veera', 'different', 'people', 'thief', 'muthu', 'caught', 'handed', 'police', 'takes', 'revenge', 'kidnapping', 'wives', 'thief', 'also', 'knows', 'one', 'person', 'comes', 'save', 'revealed', 'one', 'person', 'saves', 'wives', 'fight', 'one', 'says', 'officially', 'married', 'first', 'says', 'fell', 'love', 'first', 'wives', 'want', 'share', 'tries', 'explain', 'away', 'angrily', 'muthu', 'leaves', 'city', 'back', 'village', 'gets', 'home', 'finds', 'house', 'ends', 'holding', 'bag', 'enters', 'house']\n"
          ]
        }
      ]
    },
    {
      "cell_type": "markdown",
      "metadata": {
        "id": "DD5KuSKrxQ8I"
      },
      "source": [
        "## Μετατροπή σε TFIDF\n",
        "\n",
        "Το πρώτο βήμα θα είναι λοιπόν να μετατρέψετε το corpus σε αναπαράσταση tf-idf:"
      ]
    },
    {
      "cell_type": "markdown",
      "source": [
        "Αρχικά ενημερώνουμε το corpus με βάση τα αποτελέσματα της παραπάνω ενότητας."
      ],
      "metadata": {
        "id": "aRJdxFcqZ4GM"
      }
    },
    {
      "cell_type": "code",
      "source": [
        "corpus_updated = corpus.copy()\n",
        "for i, summary in tqdm(enumerate(summaries_final), total=5000):\n",
        "  corpus_updated[i] = ' '.join(word for word in summary)"
      ],
      "metadata": {
        "colab": {
          "base_uri": "https://localhost:8080/",
          "height": 49,
          "referenced_widgets": [
            "df3ea1d628c3437a9cebb909a6ae19a0",
            "e3e17231c2a64145b954e4de97308ad8",
            "14a1bb0ed1cd4a0e8391e3ad89098ee5",
            "29599621dbed49f8a688c82f49f7175b",
            "b11a420781f24c01a7d2deb3f4f69976",
            "34629ebc8f22428d9ab2ab75273701c9",
            "7a9593a8ae024ea18c833f1cd146e9e1",
            "9842ba3491af436bb782ce85dafd07b3",
            "477b7a0dfcda48f4a5d9f3b3f49125e7",
            "d5ccddff8ecb424b8af24dd487e08783",
            "fc0de29419df47f19d30268acb64cc71"
          ]
        },
        "id": "hOEFeNL3Z_1y",
        "outputId": "4adf4961-6901-42fc-f3d7-83bfaf1eb240"
      },
      "execution_count": 14,
      "outputs": [
        {
          "output_type": "display_data",
          "data": {
            "application/vnd.jupyter.widget-view+json": {
              "model_id": "df3ea1d628c3437a9cebb909a6ae19a0",
              "version_minor": 0,
              "version_major": 2
            },
            "text/plain": [
              "  0%|          | 0/5000 [00:00<?, ?it/s]"
            ]
          },
          "metadata": {}
        }
      ]
    },
    {
      "cell_type": "code",
      "source": [
        "for i in range(10):\n",
        "  print(corpus_updated[i])"
      ],
      "metadata": {
        "colab": {
          "base_uri": "https://localhost:8080/"
        },
        "id": "QV8ooBhVa3aq",
        "outputId": "e75c11b3-07c8-421e-829d-52d2227c836e"
      },
      "execution_count": 15,
      "outputs": [
        {
          "output_type": "stream",
          "name": "stdout",
          "text": [
            "vivacious lady story love first sight young botany professor named peter morgan nightclub singer named francey also comedic elements including repeatedly frustrated attempts newlywed couple find moment alone story begins peter sent manhattan retrieve playboy cousin keith james ellison immediately falls love francey whirlwind one-day courtship peter francey get married keith return morgan family home peter teaches university run father peter morgan morgan known proud overbearing man peter afraid tell marriage arrive morgan peter high-society fiancée helen initially take francey another keith girlfriends peter decides approach father news francey stays women-only hotel peter keith introduce new botany student peter mentions francey father twice occasions morgan interrupts ignores son peter becomes insistent apparently ailing mother flare-up heart condition making conversation impossible third attempt peter decides announce marriage parents university student-faculty prom keith brings francey prom guest francey still posing student develops friendly rapore morgan gets nasty brawl helen francey accidentally punches peter father peter says nothing prom blurts news father morgan give important speech resulting another argument another flare-up morgan heart condition prevents morgan learning francey accidentally finds francey conversation francey apartment morgan accepts news happily admits francey pretends heart trouble time husband gets argument morgan demands francey leave peter threatening fire francey agrees leave incident releases thirty years marital frustration morgan also decides leave husband francey tells peter leave unless change father mind train departs peter solution threaten family disgrace getting drunk otherwise misbehaving father relents even costs job peter passes reach train departs francey morgan aboard morgan finally yielded combined pressure son wife stops train driving ahead peter parking car track marriages saved peter francey finally honeymoon train\n",
            "cleaning underground home mole senses spring probably beginning ground curious decides every mole see world least lifetime makes tunnel soon finds english countryside mole marvelled new world wishes see every bit along comes rat befriends mole offers ride small blue rowboat well short picnic riverbank rat tells mole different creatures inhabitate near river badger grumpy like company toad wealthy lives fine mansion along riverbank named toad hall two friends set meet mole rat bewildered see toad swept away new mania love gypsy carts though rat hesitates toad offers new friend wild ride vehicle ride thrilling new mole much rat ends abruptly cart destroyed passing motorcar toad mind instantly taken new mania motorcars determined drive countryside new motorcar rat mole fear friend new mania dangerous toad hardly drive mole seeks advise badger lives deep inside wild wood told never since dangerous place rat follows mole badger house two animals beg help badger agrees help soon winter hibernating animal spring comes badger orders toad kept indoors away disastrous rides motorcars toad upset outsmarts rat two left alone determined toad sets find motorcar rather steal one toad crime lands prison friends worry mysterious disappearance help young girl magistrate daughter toad manages escape cell return toad hall however upon return shocked find home overtaken band ruthless weasels friends rat mole badger otter cook plan rescover toad priced home restore order entire community along riverbank\n",
            "shinnojo low level samurai lives pretty dutiful loyal wife kayo come find position castle food-taster feudal lord boring pointless talks opening kendo school open boys castes teach use sword act dream becomes ill fever tasting sashimi made shell fish investigation reveals poisoning due human conspiracy poor choice food season three days awakes finds toxin food blinded kayo summoned shinnojo family explain couple survive uncle laments longer knows anybody influence castle asks kayo knows anybody relates toya shimada chief duty officer castle samurai high rank offered help tell act upon offer assistance message castle brings good news shinnojo stipend rice remain life aunt tells kayo seen another man tokuhei faithful servant follow kayo notices followed although tokuhei offers cover reveals shinnojo shimada offered help price shown forced upon solicited two additional trysts threatening tell shinnojo first enraged shinnojo divorces orders house revealed shimada nothing maintaining stipend came gratitude lord clan shinnojo seeks renew skill sword blind man avenge dishonor kayo tokuhei sends message shimada set duel additional message underestimate two samurai meet stables near river decide destinies interesting fight shinnojo cuts shimada arm leaves shimada live horribly disfigured telling tokuhei avenged kayo dishonor next day shinnojo informed injured shimada refused tell anyone happened injured duel turns night shimada committed seppuku killed samurai live one arm dies without anyone knowing sin mimura family violation kayo dishonorable injury blinded man tokuhei tells shinnojo found girl work kitchen cook one taste girl food shinnojo recognizes wife cooking calls kayo come house shinnojo kayo reconcile understanding begin life together anew\n",
            "benny horowitz john gilbert reformed gangster proposes marriage bertha neighbor frequent visitor served sentence bertha rejects proposal believes still love freida benny former gun moll party freida seeks make benny jealous former rival benny takes control gang leadership rival death ruled accidental benny bertha together start new life\n",
            "laura fabrizio meeting every summer forest parent summer home fabrizio solitary boy dog company laura sweet unconfident child summer new aspects enter story growing represents part child part adult part naive part knowing laura falling love fabrizio displays new sexual awareness masked malice fabrizio becomes inexplicably cruel accelerates unwarranted torment laura many ways including tying putting snake near killing pet bird fond fabrizio prides 'king forest rubbishes laura tender attempts queen one day climb blue mountain mysterious tall mountain forest edge discover ancient building ruins exploring find cave inside fabrizio seduces laura fabrizio cruel streak boosted new sexual confidence one point virtually forces laura much upset relent makes clear wants fabrizio gentle ridicules things develop meet sylvia unlike previously virginal laura sylvia confident assertive fabrizio develops fascination eventually bribing laura fetch forest join play sylvia aware fabrizio interest asserts affections quickly replacing laura demoting servant victim fabrizio takes delight laura reluctant leave old friend new lover stays becomes target duo ever progressing cruelty one point 'hunt laura bows arrows another pretend throw high ledge make love front insisting punishment must watch leaving laura confused heartbroken end summer girls talking returning school fabrizio becomes pensive agitated insists taking sylvia ruins first time three cave escape thunderstorm fabrizio pretends lost laura sylvia breaks sobbing mother traces confidence maturity lost fear cave fabrizio repeatedly begs sylvia stay forever morning sylvia still lost cave rejects desperate fabrizio pleas stay becomes hysterical kills knife feeling way lose stays dead body gives laura flashlight telling knows way home laura reluctantly leaves\n",
            "takes place summer 1969 nasa astronauts successfully landed moon first time apollo spacecraft katherine suffering panic attacks caused automobile accident resulted loss unborn child refuses leave house washington man adventure enjoys travel experiencing life result conflict two eleven-year-old son andy never traveled car ever left town washington also maintains ragtag collection automobiles various vintages decides travel andy craters moon national park arriving moment apollo crew lands moon make trip washington 1949 pontiac eight convertible nicknamed chief make enemies new friends learn meaning family pontiac mileage arriving destination exactly distance miles earth moon katherine finds husband son going faces fears follows one washington cars amphicar learns importance living follows pontiac craters moon way pontiac engine dies washington arranges mechanic install replacement engine leave premises without paying engine enough money pay moment apollo landing pontiac crashes crater craters moon andy wheel katherine arrives escape police chase driving amphicar lake canada safety adventure brings bellamy family together ready begin normal life\n",
            "dasima nyai native mistress englishman edward william couple daughter nancy live home near gambir square batavia delman driver samiun fallen love dasima despite already married hayati attempts use spells win heart also egg merchant mak buyung frighten dasima telling young woman committed sin zina samiun eventually succeeds dasima goes live hayati taking along gold jewels hayati agreed let samiun take second wife wants dasima money use gambling dasima eventually realises tricked begins keep close eye remaining wealth get samiun calls thug puasa tells rob young woman night dasima goes hear story amir hamzah nearby village puasa accosts panics screams kills throws body bridge washes behind williams home samiun puasa caught sentenced hang\n",
            "employee detects pharmaceutical company sinister plan within executive office wiped entire family son brian survived although rammed drill skull recognizes one thought revenge\n",
            "presents tale agnese ascalone daughter prominent miner vincenzo ascalone takes place small town sicily germi previous divorce italian style agnese seduced sister matilde fiance tryst confesses tries repent discovered mother father vincenzo immediately demands man peppino califano marry daughter antics ensue dark satire sicilian social customs honor laws similar divorce italian style\n",
            "muthu comes city village song contest meets ravikanth city work hard song contest muthu tells ravikanth fell love devayani got love devayani daughter song teacher village came contest could win money pay loan mother village leader work together end winning song contest muthu goes back village joy finds flood come meena house destroyed reported father body found muthu thinks meena dead sad goes gives money village leader paying mother debt mother takes city find job muthu forget meena reach city muthu finds song big hit therefore become popular holder song contest calls muthu come work muthu want mother persuades works janakaraj daughter falls love muthu muthu still love meena refused marry janakaraj daughter mother says meena come back wishes see marriage therefore marries roja soon marriage business trip usa meena fact alive amnesia muthu songs playing radio meena happens hear remembers promptly gets bus city village helping fisherman saved life meets muthu recording studio surprised overjoyed tell marriage roja selvamani meena adamant get married soon get married juggles lives nearly gets caught roja selvamani muthu meena saree shop bump prove two different people takes photo photoshops show two shaking hands believe muthu veera different people thief muthu caught handed police takes revenge kidnapping wives thief also knows one person comes save revealed one person saves wives fight one says officially married first says fell love first wives want share tries explain away angrily muthu leaves city back village gets home finds house ends holding bag enters house\n"
          ]
        }
      ]
    },
    {
      "cell_type": "code",
      "metadata": {
        "id": "s5YP6XCZPSyh",
        "colab": {
          "base_uri": "https://localhost:8080/"
        },
        "outputId": "8d7bc310-39be-4c9c-a765-5c972bba7793"
      },
      "source": [
        "from sklearn.feature_extraction.text import TfidfVectorizer\n",
        "# create sparse tf_idf representation\n",
        "vectorizer = TfidfVectorizer()\n",
        "vectorizer.fit(corpus_updated)\n",
        "corpus_tf_idf_plain = vectorizer.transform(corpus_updated)\n",
        "print(corpus_tf_idf_plain.shape)"
      ],
      "execution_count": 57,
      "outputs": [
        {
          "output_type": "stream",
          "name": "stdout",
          "text": [
            "(5000, 48679)\n"
          ]
        }
      ]
    },
    {
      "cell_type": "markdown",
      "metadata": {
        "id": "H-uRZK3EPSyl"
      },
      "source": [
        "Η συνάρτηση [TfidfVectorizer](http://scikit-learn.org/stable/modules/generated/sklearn.feature_extraction.text.TfidfVectorizer.html) όπως καλείται εδώ **δεν είναι βελτιστοποιημένη**. Οι επιλογές των μεθόδων και παραμέτρων της μπορεί να έχουν **δραματική επίδραση στην ποιότητα των συστάσεων** και είναι διαφορετικές για κάθε dataset. Επίσης, οι επιλογές αυτές έχουν πολύ μεγάλη επίδραση και στη **διαστατικότητα και όγκο των δεδομένων**. Η διαστατικότητα των δεδομένων με τη σειρά της θα έχει πολύ μεγάλη επίδραση στους **χρόνους εκπαίδευσης**, ιδιαίτερα στη δεύτερη εφαρμογή της άσκησης.\n",
        "\n",
        "Προσοχή: ο TfidfVectorizer έχει κάποιες δυνατότητες προεπεξεργασίας παρόποιες με αυτές που αναφέραμε στην προηγούμενη ενότητα. Ό,τι προεπεξεργασία μπορείτε να κάνετε που χρειάζεται ως είσοδο μόνο το κάθε document ξεχωριστά, κάντε την στο πρώτο βήμα της προεπεξεργασίας. Αν χρειάζεται γνώση των συνολικών στατιστικών της συλλογής, κάντε την με τον TfidfVectorizer."
      ]
    },
    {
      "cell_type": "markdown",
      "metadata": {
        "id": "3LsmvSyVykTU"
      },
      "source": [
        "## Υλοποίηση του συστήματος συστάσεων\n",
        "\n",
        "Το σύστημα συστάσεων που θα υλοποιήσετε θα είναι μια συνάρτηση `content_recommender` με τρία ορίσματα: `target_movie`, `max_recommendations` και `corpus_type`. Στην `target_movie` περνάμε το ID μιας ταινίας-στόχου για την οποία μας ενδιαφέρει να βρούμε παρόμοιες ως προς το περιεχόμενο (τη σύνοψη) ταινίες, `max_recommendations` στο πλήθος.\n",
        "Υλοποιήστε τη συνάρτηση ως εξής: \n",
        "- για την ταινία-στόχο, θα υπολογίζετε την [ομοιότητα συνημιτόνου](https://en.wikipedia.org/wiki/Cosine_similarity) της με όλες τις ταινίες της συλλογής σας όπως αυτές αναπαριστώνται στο `corpus_type`.\n",
        "- με βάση την ομοιότητα συνημιτόνου που υπολογίσατε, δημιουργήστε ταξινομημένο πίνακα από το μεγαλύτερο στο μικρότερο, με τα indices (`ID`) των ταινιών. Παράδειγμα: αν η ταινία με index 1 έχει ομοιότητα συνημιτόνου με 3 ταινίες \\[0.2 1 0.6\\] (έχει ομοιότητα 1 με τον εαύτό της) ο ταξινομημένος αυτός πίνακας indices θα είναι \\[1 2 0\\].\n",
        "- Για την ταινία-στόχο εκτυπώστε: id, τίτλο, σύνοψη, κατηγορίες (categories)\n",
        "- Για τις `max_recommendations` ταινίες (πλην της ίδιας της ταινίας-στόχου που έχει cosine similarity 1 με τον εαυτό της) με τη μεγαλύτερη ομοιότητα συνημιτόνου (σε φθίνουσα σειρά), τυπώστε σειρά σύστασης (1 πιο κοντινή, 2 η δεύτερη πιο κοντινή κλπ), ομοιότητα συνημιτόνου, id, τίτλο, σύνοψη, και κατηγορίες (categories)\n"
      ]
    },
    {
      "cell_type": "code",
      "source": [
        "def cosine_similarity(d1, d2):\n",
        "  # use toarray() method because cosine doesn't work on sparse arrays\n",
        "  return 1-sp.spatial.distance.cosine(d1.toarray(),d2.toarray())\n",
        "\n",
        "def content_recommender(target_movie, max_recommendations, corpus_type, debug=False):\n",
        "  similarity_array = []\n",
        "  target_descr = corpus_type[target_movie]\n",
        "  # find similarity with every other movie\n",
        "  for descr in corpus_type:\n",
        "    similarity_array.append(cosine_similarity(target_descr, descr))\n",
        "  # sort ids of movies based on similarity\n",
        "  sorted_indices = sorted(range(len(similarity_array)), key=lambda k: similarity_array[k], reverse=True)\n",
        "  # return ids of movies with the greatest similarity\n",
        "  if debug:\n",
        "    for i in sorted_indices[1:max_recommendations+1]:\n",
        "      print(similarity_array[i])\n",
        "  return sorted_indices[1:max_recommendations+1]"
      ],
      "metadata": {
        "id": "NlqTRW4PfUos"
      },
      "execution_count": 55,
      "outputs": []
    },
    {
      "cell_type": "markdown",
      "metadata": {
        "id": "8IvHkTUHyu78"
      },
      "source": [
        "## Βελτιστοποίηση του TfidfVectorizer\n",
        "\n",
        "Αφού υλοποιήσετε τη συνάρτηση `content_recommender` χρησιμοποιήστε την για να βελτιστοποιήσετε την `TfidfVectorizer`. Συγκεκριμένα, αρχικά μπορείτε να δείτε τι επιστρέφει το σύστημα για τυχαίες ταινίες-στόχους και για ένα μικρό `max_recommendations` (2 ή 3). Αν σε κάποιες ταινίες το σύστημα μοιάζει να επιστρέφει σημασιολογικά κοντινές ταινίες σημειώστε το `ID` τους. Δοκιμάστε στη συνέχεια να βελτιστοποιήσετε την `TfidfVectorizer` για τα συγκεκριμένα `ID` ώστε να επιστρέφονται σημασιολογικά κοντινές ταινίες για μεγαλύτερο αριθμό `max_recommendations`. Παράλληλα, όσο βελτιστοποιείτε την `TfidfVectorizer`, θα πρέπει να λαμβάνετε καλές συστάσεις για μεγαλύτερο αριθμό τυχαίων ταινιών. \n",
        "\n",
        "Ταυτόχρονα, μια αντίρροπη κατά κάποιο τρόπο κατεύθυνση της βελτιστοποίησης είναι να χρησιμοποιείτε τις παραμέτρους του `TfidfVectorizer` έτσι ώστε να μειώνονται οι διαστάσεις του Vector Space Model μέχρι το σημείο που θα αρχίσει να εμφανίζονται επιπτώσεις στην ποιότητα των συστάσεων. \n",
        "\n",
        "\n"
      ]
    },
    {
      "cell_type": "markdown",
      "source": [
        "Για 2 τυχαίες ταινίες (έστω ID 519 και 4120) βρίσκουμε τις 3 κοντινότερες ταινίες που προτείνει ο recommender και βλέπουμε τα summaries και τα categories της κάθε πρότασης. Για ταινίες που φαίνονται να είναι σημασιολογικά κοντά στις αρχικές ταινίες σημειώνουμε το ID τους."
      ],
      "metadata": {
        "id": "5j13JZH9iQ3f"
      }
    },
    {
      "cell_type": "code",
      "source": [
        "id = 519\n",
        "films = content_recommender(id, 3, corpus_tf_idf_plain)\n",
        "print(\"Film to find recommendations has ID {}\".format(id))\n",
        "print(\"Its categories are {}\".format(categories[id]))\n",
        "print(\"Its summary is: {}\".format(summaries[id][0]))\n",
        "for film in films:\n",
        "  print(\"Recommended film has ID {}\".format(film))\n",
        "  print(\"Its categories are {}\".format(categories[film]))\n",
        "  print(\"Its summary is: {}\".format(summaries[film][0]))"
      ],
      "metadata": {
        "colab": {
          "base_uri": "https://localhost:8080/"
        },
        "id": "dHrCN1WUj3Q7",
        "outputId": "7be4ca60-8603-48e6-d36a-f80d9be9f7ff"
      },
      "execution_count": 23,
      "outputs": [
        {
          "output_type": "stream",
          "name": "stdout",
          "text": [
            "Film to find recommendations has ID 519\n",
            "Its categories are ['\"Japanese Movies\"']\n",
            "Its summary is: Even though being able to withdraw from the Liar Game Tournament, Kanzaki Nao  decides to join Akiyama Shinichi  and nine other players for the final stage, ”The Garden of Eden game”, which offers a 5 billion yen prize. The players are informed that if all of them can work together, they can all become winners. However, the chances of winning are endangered by a mysterious player known as \"Person X\".\n",
            "Recommended film has ID 4252\n",
            "Its categories are ['\"Horror\",  \"Slasher\",  \"Teen\"']\n",
            "Its summary is: A group of teenagers create a game where one of them is secretly a killer while the others are victims. Using prop weapons, the killer must eliminate the other players before being discovered. The teens sneak into a warehouse late at night to play the game but things turn horrific when the players begin dying for real.\n",
            "Recommended film has ID 3978\n",
            "Its categories are ['\"Family Drama\",  \"Docudrama\",  \"Sports\",  \"Drama\",  \"Family Film\",  \"Teen\"']\n",
            "Its summary is: Norman Dale arrives in the rural Indiana town of Hickory to be a high school teacher and basketball coach. He had lost a previous coaching position after striking a student, so he is under pressure to succeed. Like much of the state, Hickory's community is passionate about basketball. People are aware that the best player in town, Jimmy Chitwood, does not intend to play on this season's team. Faculty member Myra Fleener warns the new coach not to try to persuade Jimmy to change his mind; she believes he needs to focus on school work in order to get a scholarship to attend college and have a better future. The school enrollment is so small that Dale has only a few players on his squad. Built on a four pass offense, Dale remains steadfast when a player disobeys him in an early season game, keeping him on the bench and playing with four players after another fouls out. The coach alienates the community with a slow, defensive style that does not immediately produce results and by losing his temper, which causes him to be ejected from more than one game. Dale needs a new assistant coach and invites knowledgeable basketball fan Shooter, the alcoholic father of one of his players, to join him on the bench. This, too, confounds the town, including Shooter's son. By the middle of the season, an emergency town meeting is called to vote on whether Dale should be dismissed. Fleener appreciates the coach's staying away from Chitwood and sides with him, but the town votes him out. At the last minute, Chitwood asks permission to speak: he says he's ready to begin playing basketball again, but only if Dale remains as coach. From this point, Hickory becomes an unstoppable team. Despite a setback in which Shooter arrives drunk to a game and ends up in a hospital, the team advances through tournament play, with contributions from unsung players, such as the pint-sized Ollie and devoutly religious Strap. Hickory shocks the state by reaching the state championship game. In a large arena and before a crowd bigger than any they've seen, the Hickory players face long odds to defeat a team from South Bend, whose players are taller and more athletic. But with Chitwood scoring at the last second, tiny Hickory takes home the 1952 Indiana state championship.\n",
            "Recommended film has ID 3155\n",
            "Its categories are ['\"Parody\",  \"Indie\",  \"Short Film\",  \"Fantasy\",  \"Comedy\",  \"Adventure\"']\n",
            "Its summary is: The film opens with a trio of Dungeons & Dragons characters facing the final villain. However, they are quickly killed and the players blame the game master, Lodge, claiming he did not follow the rules and plotted against them. While Leo and Gary wish to play a different game the following week, Cass demands to play the same campaign again, even though they just played it for the second time, to preserve his reputation that there is no game he cannot win. Lodge wishes to publish his campaign as an official Dungeons & Dragons game module, but he is having trouble writing it: he knows how he wants it to end, but his players never actually finish the module. Gary suggests that for the next game they bring in two more players, in order to have a more well-rounded party. Cass is able to recruit his ex-girlfriend Joanna. However, Lodge is unable to find anyone  and resolves to be the fifth player . The campaign begins when the characters Luster , Flynn the Fine , and Daphne  are summoned before King Erasmus the Randomly Biased. The evil necromancer Mort Kemnon has discovered an artifact known as the Mask of Death and wishes to use this to overthrow the kingdom. As they go on their way, they are summoned before the Hierophant of the Order of Therin who sends two members of his order to accompany the party, Brother Silence  and Sir Osric  -- the latter of whom the other players  take an instant dislike to, as Lodge created Osric just to keep the story on track. On their way, the group runs into a large party of goblins. The men's overconfidence is shattered when Joanna singlehandedly wipes out the entire party of goblins, even though the men thought that she created a poor character . Resting at an inn near Westhaven, the group faces Mort Agrippa and defeat him. They head out for Westhaven and decide to stop playing for the night. Lodge explains to Joanna the reasons why he keeps the other players on such a short leash: if he does not, they will kill, plunder, and impregnate the fantasy world. The following week, the players continue the campaign by facing Drazuul in the town of Westhaven. Due to his character's weak traits, Leo goes through multiple copies of the character until the players are able to cleverly defeat Drazuul by hiding behind \"the mound of dead bards\". Torturing Drazuul with holy water, they learn of Mort Kemnon's location. Making their way through an abandoned mineshaft, they find a henchman from the previous campaign and take all the equipment. The battle goes poorly for the players, until Lodge's cat messes up the floor-tiles and Cass distracts Lodge while they place their characters in more preferable positions. After a lengthy battle with Kemnon , Kemnon is defeated and cryptically implies there is another enemy. It is revealed to be the Hierophant, who intends to use the Mask to rekindle the Light of Therin. The group then realizes that the \"Heart of Therin\", the church's most sacred relic, is actually a prison housing the deity. During a battle with the Hierophant, Leo finally proves to be of use as he awakens Therin from her prison, allowing Daphne to release her . Afterwards, Daphne is offered an unlimited wish by Therin. After the other players recommend she wishes herself immortal, she uses it to resurrect Osric, much to the extreme disapproval of Cass, who insults her and storms out. The other three continue playing, and Therin provides rewards for each: Flynn becomes a herald, Luster is stripped of her powers and becomes a cleric, and Osric becomes Lord High Marshal of the Paladins. The campaign ends, and with positive comments from Gary and Leo, Lodge is inspired enough to write his module and has it published. Sometime later, Cass apologizes for his behavior and the group begins another adventure. Lodge wants to send his group through the adventure module that another group was playing in the first Gamers film, but upon mentioning 'The Shadow', Mark—the lone survivor of that campaign—screams in fear and runs from the gaming store. As the new campaign begins with the Mask of Death having been stolen, the film ends showing the henchman still alone in the mine.\n"
          ]
        }
      ]
    },
    {
      "cell_type": "markdown",
      "source": [
        "Για την ταινία με ID 519 οι σημασιολογικά κοντινότερη ταινία σύμφωνα με τα categories και το summary φαίνεται να είναι μόνο η 4252."
      ],
      "metadata": {
        "id": "cb38P2-TlGJY"
      }
    },
    {
      "cell_type": "code",
      "source": [
        "id = 4120\n",
        "films = content_recommender(id, 3, corpus_tf_idf_plain)\n",
        "print(\"Film to find recommendations has ID {}\".format(id))\n",
        "print(\"Its categories are {}\".format(categories[id]))\n",
        "print(\"Its summary is: {}\".format(summaries[id][0]))\n",
        "for film in films:\n",
        "  print(\"Recommended film has ID {}\".format(film))\n",
        "  print(\"Its categories are {}\".format(categories[film]))\n",
        "  print(\"Its summary is: {}\".format(summaries[film][0]))"
      ],
      "metadata": {
        "colab": {
          "base_uri": "https://localhost:8080/"
        },
        "id": "1brZa62UmE1W",
        "outputId": "20d753de-8d14-446f-a188-7bb6253f23df"
      },
      "execution_count": 58,
      "outputs": [
        {
          "output_type": "stream",
          "name": "stdout",
          "text": [
            "Film to find recommendations has ID 4120\n",
            "Its categories are ['\"Thriller\",  \"Crime Fiction\",  \"Science Fiction\",  \"World cinema\",  \"Fantasy\",  \"Comedy\"']\n",
            "Its summary is: Coco  and his 7-month pregnant wife Pipi , have recently moved into a Buenos Aires apartment and fail to notice the increasing chaos surrounding them. Shortly, authorities quarantine the building and Coco allies himself with his well-prepared neighbour, Horacio, to defend his refrigerator and keep Pipi safe while the world outside the apartment is falling apart.\n",
            "Recommended film has ID 3599\n",
            "Its categories are ['\"Comedy\"']\n",
            "Its summary is: Coco is a wealthy Sephardic Jewish businessman and an immigrant to France. After 15 years of financial success  he decides to throw an enormous bar mitzvah celebration for his son Samuel. Determined that the celebration will be the most fantastic event of the year, Coco alienates his entire family as he plans for the gala.\n",
            "Recommended film has ID 4295\n",
            "Its categories are ['\"Horror\",  \"Comedy\"']\n",
            "Its summary is: The film opens with a couple drunk driving across the streets of New York to their apartment. They get home and make love in front of the kitchen. When the wife walks into the kitchen, the refrigerator opens up and sucks the girl in. We then go to Steve & Eileen Batemen. They are moving to New York, and they move into the same apartment with the killer refrigerator. Steve takes a new job, while Eileen is trying to become a performer. Eileen pretends to be awarding an award while in the apartment, then walks all over Broadway. When Steve and Eileen go to sleep, they start having nightmares about the refrigerator, Steve is seeing mini people inside the refrigerator . Eileen has a nightmare that she is seeing unborn babies. Steve is soon driven to insanity by the refrigerator, leaving Eileen to cope with her and her acting career on her own. A plumber named Juan comes to the apartment one night, warning Eileen her refrigerator is from hell and the devil controls it. Steve and Eileen throw a party at their apartment one night, not only the refrigerator, but all of the kitchen appliances go crazy and start slaughtering the guests. Juan soon ties the refrigerator shut, and all the surviving guests leave the apartment, not knowing where they are going to go, another couple is soon interested in buying the apartment, then the movie ends.\n",
            "Recommended film has ID 3522\n",
            "Its categories are ['\"B-movie\",  \"Horror\",  \"Slasher\",  \"Teen\"']\n",
            "Its summary is: While living at her parents' mountain home, Emily  is visited by her friend Angelica , who invites her to a rave party in the woods. Her parents, Leo  and Justine , let her attend, under the condition that she returns at midnight and calls if she's going to be late. Arriving early at the party, Angelica immediately attempts to acquire ecstasy and suspects an attendee named Swan  is carrying the drug. When asked about it, Swan informs the two girls that he doesn't have any ecstasy on him, but he has it in a nearby cabin, where his friends live. He requests that Emily and Angelica come to the cabin with him and meet his friends; the two comply. Unbeknownst to the girls, Swan's friends are actually his father Chaos ([[Kevin Gage , a notorious and wanted criminal and his father's gang, which consists of Chaos' girlfriend Daisy  and felon Frankie . Chaos sent his son to the party to lure unsuspecting females to him. Upon their arrival at the cabin, Emily and Angelica are quickly captured by the gang and taken to an abandoned part in the woods. The girls manage to escape their captors and split up in an attempt to make it harder for Chaos and his gang to find them. Angelica is ultimately caught by Daisy and brought before Chaos, who tortures and stabs her death, and then proceeds to violate her corpse. Chaos and his group continue their pursuit of Emily, even as the sun sets. They briefly re-encounter her, but Emily manages to steal Daisy's knife in a struggle and stabs Swan in the genitals. Knowing his wound is fatal, Chaos suffocates his son and promises to murder Emily. Meanwhile, Justine becomes nervous about Emily's whereabouts when she doesn't answer cell phone and convinces Leo to call the police. However, Justine suspects MacDunner , the investigating officer, won't attempt to find her, so she and Leo go into the woods themselves. While searching for Emily, the couple find Angelica's corpse. Chaos and Frankie finally recapture Emily and bound her with rope. In retaliation for his son's death, Chaos brutally violates Emily with his knife. With both girls dead, the gang prepares to leave the area, when Chaos' van fails to start up. Knowing that they'll be caught if they stay in the woods, Chaos and his gang leave the vehicle and look for a car to steal. Their van is then found by MacDunner and his partner Wilson , who discover blood stained clothes. The gang decides to go to a nearby house, with the intent of stealing the owner's car, unaware of the fact that they arrived at Emily's home. Leo lets Chaos and his group stay at the home, but notices that Daisy is wearing Emily's belt. Suspecting the group of being involved with Emily's disappearance, Leo calls the police, while Chaos and Frankie prepare to hot-wire his car and kill the couple. Chaos is confronted by a shotgun wielding Leo, determined to find out what happened to his daughter. When Frankie arrives with a captured Justine, Chaos disarms Leo and takes the shotgun. Instead of shooting Leo and Justine, however, Chaos shoots Daisy when she tries to convince him to leave the house. In the ensuing confusion, the couple escapes. Leo emerges with a chainsaw and slashes Frankie across the stomach, and proceeds to attack Chaos. In the ensuing struggle, Leo manages to get the upper hand and prepares to kill Chaos. Before he can, MacDunner arrives and kills Leo when he refuses to drop his weapon. Justine retaliates by shooting MacDunner in the back and Wilson is killed by Chaos. Chaos then shoots Justine in the head and his laughter is heard.\n"
          ]
        }
      ]
    },
    {
      "cell_type": "markdown",
      "source": [
        "Για την ταινία 4120 η πιο σωστή σύσταση είναι αυτή της ταινίας με ID 4295."
      ],
      "metadata": {
        "id": "JsCuDfXPmsGL"
      }
    },
    {
      "cell_type": "markdown",
      "source": [
        "Στη συνέχεια αυστηροποιούμε τα κριτήρια του TfidfVectorizer() ώστε να μειώσουμε τις διαστάσεις του προβλήματος και να προσπαθήσουμε να κάνουμε τις συστάσεις πιο συγκεκριμένες."
      ],
      "metadata": {
        "id": "0fdZu3R7m3yH"
      }
    },
    {
      "cell_type": "code",
      "source": [
        "vectorizer = TfidfVectorizer(max_df=.5, min_df=2)\n",
        "vectorizer.fit(corpus_updated)\n",
        "corpus_tf_idf = vectorizer.transform(corpus_updated)\n",
        "print(corpus_tf_idf.shape)"
      ],
      "metadata": {
        "colab": {
          "base_uri": "https://localhost:8080/"
        },
        "id": "1BLGJI45iNMf",
        "outputId": "368210e5-66b9-406b-c34f-fec68ee01d4b"
      },
      "execution_count": 68,
      "outputs": [
        {
          "output_type": "stream",
          "name": "stdout",
          "text": [
            "(5000, 24755)\n"
          ]
        }
      ]
    },
    {
      "cell_type": "markdown",
      "source": [
        "Αρχικά δοκιμάζουμε τον νέο TfidfVectorizer στην ταινία με ID 519. Αυξάνουμε το πλήθος των προτεινόμενων ταινιών που επιστρέφονται ώστε να αξιολογήσουμε την ακρίβεια του recommender."
      ],
      "metadata": {
        "id": "mjLQ0pcZpPDF"
      }
    },
    {
      "cell_type": "code",
      "source": [
        "id = 519\n",
        "films = content_recommender(id, 15, corpus_tf_idf)\n",
        "print(\"Film to find recommendations has ID {}\".format(id))\n",
        "print(\"Its categories are {}\".format(categories[id]))\n",
        "print(\"Its summary is: {}\".format(summaries[id][0]))\n",
        "for film in films:\n",
        "  print(\"Recommended film has ID {}\".format(film))\n",
        "  print(\"Its categories are {}\".format(categories[film]))\n",
        "  print(\"Its summary is: {}\".format(summaries[film][0]))"
      ],
      "metadata": {
        "colab": {
          "base_uri": "https://localhost:8080/"
        },
        "id": "d520QWYtpMW6",
        "outputId": "1095d05a-2288-4d79-f33c-2d035b1bc937"
      },
      "execution_count": 71,
      "outputs": [
        {
          "output_type": "stream",
          "name": "stdout",
          "text": [
            "Film to find recommendations has ID 519\n",
            "Its categories are ['\"Japanese Movies\"']\n",
            "Its summary is: Even though being able to withdraw from the Liar Game Tournament, Kanzaki Nao  decides to join Akiyama Shinichi  and nine other players for the final stage, ”The Garden of Eden game”, which offers a 5 billion yen prize. The players are informed that if all of them can work together, they can all become winners. However, the chances of winning are endangered by a mysterious player known as \"Person X\".\n",
            "Recommended film has ID 4252\n",
            "Its categories are ['\"Horror\",  \"Slasher\",  \"Teen\"']\n",
            "Its summary is: A group of teenagers create a game where one of them is secretly a killer while the others are victims. Using prop weapons, the killer must eliminate the other players before being discovered. The teens sneak into a warehouse late at night to play the game but things turn horrific when the players begin dying for real.\n",
            "Recommended film has ID 2750\n",
            "Its categories are ['\"Thriller\",  \"Science Fiction\",  \"Future noir\",  \"Adventure\",  \"Psychological thriller\",  \"Crime Thriller\"']\n",
            "Its summary is: In the near-future, organic virtual reality game consoles known as \"game pods\" have replaced electronic ones. The pods are attached to \"bio-ports\", outlets inserted at players' spines, through umbilical cords. Two game companies, Antenna Research and Cortical Systematics, compete against each other. In addition, a group of \"realists\" fights both companies to prevent the \"deforming\" of reality. Antenna Research's Allegra Geller , the greatest game designer in the world, is testing her latest virtual reality game, eXistenZ, with a focus group at a seminar. She is shot in the shoulder by an assassin named Noel Dichter  with an organic pistol , which is undetectable by security. As Dichter is gunned down by the security team, security guard  Ted Pikul , rushes to Geller and escorts her outside. Allegra discovers that her pod, which contains the only copy of the eXistenZ game, may have been damaged due to an \"UmbyCord\" being ripped out as the game was being downloaded. To test it, she must plug into the game in tandem with another player that she can trust, and talks a reluctant Pikul into installing a bio-port in his own body so he can play the game with her. Pikul, one of a dwindling few who has refused to have a bio-port installed to this point, at first objects due to a phobia about \"surgical penetration,\" but eventually gives in. They head to a gas station run by a black marketeer named Gas  to get it installed. Gas deliberately installs a faulty bio-port and the game pod is damaged. Gas  reveals that he is going to kill Allegra for the bounty on her head, but Pikul shoots him with the rivet gun used to install the port. The pair make their way to a former ski lodge used by Allegra's mentor, Kiri Vinokur . He and his assistant repair the damaged pod and give Pikul a new bio-port. Inside the game, Pikul realizes that it is hard to tell whether his or Allegra's actions are their own intentions or the game's. When they meet D'Arcy Nader , a video game shop owner, Pikul speaks rudely to him, but then expresses surprise at his own rudeness. Allegra informs him that it was the doing of his game character. Reality becomes more distorted when they use new micro pods given to them by Nader, and gain new identities as workers at a game pod factory. There, they meet Yevgeny Nourish , who claims to be their contact in the Realist underworld. Nourish recommends that Pikul order the special for lunch at a Chinese restaurant near the factory. Once in the restaurant, Pikul \"pauses\" the game in order to get back to the real world, but finds out that he is unable to distinguish reality from illusion. Back in the restaurant, Pikul develops an urge to eat the unappetizing special, which turns out to be an assortment of cooked mutant animals. Pikul constructs a familiar object from the inedible parts—the pistol used to shoot Allegra. He points it at her as a joke, but then Nourish identifies their Chinese waiter  as an enemy and gets Pikul to shoot him instead. In keeping with the game reality, the other patrons of the restaurant appear more frozen than shocked, and return to their meals when Pikul tells them it was a simple misunderstanding about the bill. When the pair return to the game store, Hugo Carlaw  informs them that Nourish is actually a double agent for Cortical Systematics, and the waiter whom Pikul shot was the actual contact. The next day at the factory, the two plan to sabotage all the game pods in the factory by plugging into a diseased pod. When Allegra becomes infected, Pikul frees her by cutting the umbycord. Allegra almost bleeds to death until Nourish shows up again with a flame thrower, directing it at the diseased pod. The pod bursts, releasing deadly spores. Before leaving, Allegra stabs Nourish in the back with a knife. Allegra and Pikul suddenly find themselves back in the ski lodge, and it seems that they have lost the game. They discover that Allegra's game pod is also diseased. Pikul is confused by the disease's crossover from the game into reality. However, Allegra immediately notices Pikul rubbing his back and realizes that Vinokur gave Pikul an infected bioport in order to destroy her game. She inserts a disinfecting device into Pikul's bioport. Unexpectedly, Carlaw reappears as a Realist resistance fighter, and escorts Allegra and Pikul outside to witness the death of eXistenZ. Before Carlaw can kill Allegra, he is shot in the back by Vinokur, who is a double agent for Cortical Systematics. He informs Allegra that he copied her game data while he was fixing her pod. In revenge, she kills Vinokur. Pikul then reveals that he himself was sent to kill her; he is a Realist. However, she informs him that she knew of his true intentions ever since he pointed the gun at her in the Chinese restaurant, then kills him by detonating the disinfecting device in his bioport by remote control. In yet another twist, the two then appear on a stage, together with the main players from the game. It turns out that the story itself is in fact a virtual reality game called \"tranCendenZ\" played by the cast, mirroring the first scene. This is enforced by more naturalistic acting coupled with significantly less cliche dialog, and cutaways from Allegra and Pikul. Another difference occurs when it is revealed that players are using electronic devices rather than game pods. The real game designer, Nourish, feels uneasy because the game started with the assassination of a game designer and had an overall anti-game theme that he suspects originated from the thoughts of one of the testers. Pikul and Allegra approach him  and ask him if he should pay for his \"crimes\" of deforming reality. As Merle , Nourish's assistant, calls for security, Pikul and Allegra grab pistols hidden under the dog's false mane and shoot Nourish and Merle to death. As in the restaurant scene, the other players appear more frozen than shocked. As Pikul and Allegra leave, they aim their guns at the person who played the Chinese waiter, who first pleads for his life, then asks if they are still in the game. The last shot is of Pikul and Allegra standing in surprised silence, apparently unsure of the answer.\n",
            "Recommended film has ID 3155\n",
            "Its categories are ['\"Parody\",  \"Indie\",  \"Short Film\",  \"Fantasy\",  \"Comedy\",  \"Adventure\"']\n",
            "Its summary is: The film opens with a trio of Dungeons & Dragons characters facing the final villain. However, they are quickly killed and the players blame the game master, Lodge, claiming he did not follow the rules and plotted against them. While Leo and Gary wish to play a different game the following week, Cass demands to play the same campaign again, even though they just played it for the second time, to preserve his reputation that there is no game he cannot win. Lodge wishes to publish his campaign as an official Dungeons & Dragons game module, but he is having trouble writing it: he knows how he wants it to end, but his players never actually finish the module. Gary suggests that for the next game they bring in two more players, in order to have a more well-rounded party. Cass is able to recruit his ex-girlfriend Joanna. However, Lodge is unable to find anyone  and resolves to be the fifth player . The campaign begins when the characters Luster , Flynn the Fine , and Daphne  are summoned before King Erasmus the Randomly Biased. The evil necromancer Mort Kemnon has discovered an artifact known as the Mask of Death and wishes to use this to overthrow the kingdom. As they go on their way, they are summoned before the Hierophant of the Order of Therin who sends two members of his order to accompany the party, Brother Silence  and Sir Osric  -- the latter of whom the other players  take an instant dislike to, as Lodge created Osric just to keep the story on track. On their way, the group runs into a large party of goblins. The men's overconfidence is shattered when Joanna singlehandedly wipes out the entire party of goblins, even though the men thought that she created a poor character . Resting at an inn near Westhaven, the group faces Mort Agrippa and defeat him. They head out for Westhaven and decide to stop playing for the night. Lodge explains to Joanna the reasons why he keeps the other players on such a short leash: if he does not, they will kill, plunder, and impregnate the fantasy world. The following week, the players continue the campaign by facing Drazuul in the town of Westhaven. Due to his character's weak traits, Leo goes through multiple copies of the character until the players are able to cleverly defeat Drazuul by hiding behind \"the mound of dead bards\". Torturing Drazuul with holy water, they learn of Mort Kemnon's location. Making their way through an abandoned mineshaft, they find a henchman from the previous campaign and take all the equipment. The battle goes poorly for the players, until Lodge's cat messes up the floor-tiles and Cass distracts Lodge while they place their characters in more preferable positions. After a lengthy battle with Kemnon , Kemnon is defeated and cryptically implies there is another enemy. It is revealed to be the Hierophant, who intends to use the Mask to rekindle the Light of Therin. The group then realizes that the \"Heart of Therin\", the church's most sacred relic, is actually a prison housing the deity. During a battle with the Hierophant, Leo finally proves to be of use as he awakens Therin from her prison, allowing Daphne to release her . Afterwards, Daphne is offered an unlimited wish by Therin. After the other players recommend she wishes herself immortal, she uses it to resurrect Osric, much to the extreme disapproval of Cass, who insults her and storms out. The other three continue playing, and Therin provides rewards for each: Flynn becomes a herald, Luster is stripped of her powers and becomes a cleric, and Osric becomes Lord High Marshal of the Paladins. The campaign ends, and with positive comments from Gary and Leo, Lodge is inspired enough to write his module and has it published. Sometime later, Cass apologizes for his behavior and the group begins another adventure. Lodge wants to send his group through the adventure module that another group was playing in the first Gamers film, but upon mentioning 'The Shadow', Mark—the lone survivor of that campaign—screams in fear and runs from the gaming store. As the new campaign begins with the Mask of Death having been stolen, the film ends showing the henchman still alone in the mine.\n",
            "Recommended film has ID 3978\n",
            "Its categories are ['\"Family Drama\",  \"Docudrama\",  \"Sports\",  \"Drama\",  \"Family Film\",  \"Teen\"']\n",
            "Its summary is: Norman Dale arrives in the rural Indiana town of Hickory to be a high school teacher and basketball coach. He had lost a previous coaching position after striking a student, so he is under pressure to succeed. Like much of the state, Hickory's community is passionate about basketball. People are aware that the best player in town, Jimmy Chitwood, does not intend to play on this season's team. Faculty member Myra Fleener warns the new coach not to try to persuade Jimmy to change his mind; she believes he needs to focus on school work in order to get a scholarship to attend college and have a better future. The school enrollment is so small that Dale has only a few players on his squad. Built on a four pass offense, Dale remains steadfast when a player disobeys him in an early season game, keeping him on the bench and playing with four players after another fouls out. The coach alienates the community with a slow, defensive style that does not immediately produce results and by losing his temper, which causes him to be ejected from more than one game. Dale needs a new assistant coach and invites knowledgeable basketball fan Shooter, the alcoholic father of one of his players, to join him on the bench. This, too, confounds the town, including Shooter's son. By the middle of the season, an emergency town meeting is called to vote on whether Dale should be dismissed. Fleener appreciates the coach's staying away from Chitwood and sides with him, but the town votes him out. At the last minute, Chitwood asks permission to speak: he says he's ready to begin playing basketball again, but only if Dale remains as coach. From this point, Hickory becomes an unstoppable team. Despite a setback in which Shooter arrives drunk to a game and ends up in a hospital, the team advances through tournament play, with contributions from unsung players, such as the pint-sized Ollie and devoutly religious Strap. Hickory shocks the state by reaching the state championship game. In a large arena and before a crowd bigger than any they've seen, the Hickory players face long odds to defeat a team from South Bend, whose players are taller and more athletic. But with Chitwood scoring at the last second, tiny Hickory takes home the 1952 Indiana state championship.\n",
            "Recommended film has ID 155\n",
            "Its categories are ['\"Short Film\",  \"Comedy\",  \"Black-and-white\",  \"Slapstick\"']\n",
            "Its summary is: The Stooges are \"recruited\" by a college to drum up publicity for the college's football team by being dressed up as football players. Meanwhile, the owner of a professional football team, Joe Stacks, has to find three new players for the next game. One of Joe's girlfriends soon meets the Stooges and confuses them for real college football players known as \"The Three Horsemen\" (a parody of the \"[[Four Horsemen . The Stooges go back to her house and meet the girl's two friends. After squirting each other with nightcap bottles, everyone decides to play the game \"Blind man's buff.\" The Stooges are blindfolded and walk around trying to find the girls. Just at that moment, Joe and his two henchmen walk in. They punch out the trio and then chase them around the house. One of the women finally explains that the three strangers are actually \"The Three Famous Horsemen,\" and Joe offers them money to play for him. Naturally, the trio have not a clue how to play football. Their first game  turns into a fiasco. Realizing that they have been swindled, the three managers turn their revolvers on the Stooges, hitting them on the buttocks as they attempt to flee.   Moe Howard once called Three Little Pigskins \"a humdinger of bangs and bruises,\"<ref name Howard| first  Moe Howard| coauthors  Moe Howard and the Three Stooges| publisher  1977, rev. 1979| location  79, 81| url | id  0-8065-0723-3}} as it marked the first time the Stooges flatly refused to perform a stunt. In the film, during the game the boys are stopped by photographers to pose for a picture, when the football players then tackle them. The football players were real college football players, and the Stooges  were afraid of being hurt. Larry Fine, the smallest and lightest of the three, told director Raymond McCarey, \"Look, we can't do this scene. We're not stuntmen and if one of those gorillas falls on us, we'll never be able to finish the picture. We've never used stunt doubles before but we certainly need them now.\" Moe Howard dryly agreed with McCarey, saying \"You're darn right we won't get hurt. We're not doing the scene.\"\n",
            "Recommended film has ID 3183\n",
            "Its categories are ['\"Sports\",  \"Biography\",  \"Documentary\"']\n",
            "Its summary is: The film follows 8 of the top high school basketball players in the US at the time of filming, in 2006. The plot centers around the first annual Boost Mobile Elite 24 Hoops Classic at the legendary Rucker Park in Harlem. By 2009, six of the eight players had joined NBA teams. By 2011, all eight players were on NBA teams, with Kyle Singler being the last one drafted and the only one to win an NCAA Championship, which he won while playing for Duke University in 2010.\n",
            "Recommended film has ID 3212\n",
            "Its categories are ['\"Romance Film\",  \"Adventure\",  \"Animation\"']\n",
            "Its summary is: The film tells the story of Amadeo, a shy but talented boy, and of a foosball team that is trying to get back together after having been dismantled. With the help of the foosball players, Amadeo will have to face his most terrible rival on the football pitch: the Champ. Guided by their leader, the charismatic Right Winger, the foosball players and Amadeo will set off on a great adventure together, like a true team, to get back the dignity that the Champ stole from them.\n",
            "Recommended film has ID 4400\n",
            "Its categories are ['\"Horror\"']\n",
            "Its summary is: Winning a trip to Italy through a contest, Jackie  and her brother Tom  join other winners Myrna , Yvette , Terri , Harlan  and Tony . They settle into the rooms of an old castle, together with Cassandra , a rock star playing along in the contest. Wanting to get a leg up on each other, they all try to sneak out and find the prize before it starts, to no avail. When the contest begins, they start to die one-by-one from a mysterious source within the castle. Figuring that evil forces are at work, the remaining members race to stop the assailant from finishing their work.\n",
            "Recommended film has ID 1166\n",
            "Its categories are ['\"Horror\"']\n",
            "Its summary is: A group of high-school role players, decide to spice up their sword and sorcery games with two things. Breaking into the local school to use the maze of hallways it contains and utilizing 'spells' from a magic book. What the role players do not realize is the spells are real. When read, they summon a powerful demon that begins hunting them down, one by one.\n",
            "Recommended film has ID 1598\n",
            "Its categories are ['\"Sports\",  \"Drama\"']\n",
            "Its summary is: Kim Sang-nam , a hot-tempered professional baseball player, is sent to the countryside to coach a team of hearing-impaired players in order to avoid media coverage of his recent involvement in an assault case. At first, Sang-nam has a difficult time imagining how he can teach baseball to a group of boys who can’t hear, but as he spends time with them he starts to believe that they can play the game. Motivated, Sang-nam decides to help them prepare for the nationals. As Sang-nam trains them, he forms bonds with the players, as well as with the music teacher and baseball manager Ms Na . But things don’t go the way Kim plans and their difficulties communicating with one another exacerbates the situation.\n",
            "Recommended film has ID 3463\n",
            "Its categories are ['\"Family Film\",  \"Comedy\",  \"Animation\"']\n",
            "Its summary is: Wreck-It Ralph is the villain of the arcade video game Fix-It Felix Jr., in which the game's eponymous hero fixes a building that Ralph destroys. For over 30 years, Ralph has been doing the same job and has become tired of being the villain. Wanting to prove he can be a hero and not just a villain, Ralph escapes his game through a power cord and lands in Hero's Duty, a light-gun shooter game where he helps the game's hero, Sergeant Calhoun, battle against \"Cy-Bugs\" . He later enters Sugar Rush, a kart racing game set on tracks made of candies, cookies and other sweets. There, Ralph meets one of the game's characters, Vanellope von Schweetz, who has learned that her game is faced with a dire threat that could affect the entire arcade, and one that Ralph may have inadvertently started.<ref nameB. Vary|first'Wreck-It Ralph': Explore the worlds of Disney's animated homage to videogames – FIRST LOOK|urlFebruary 7, 2012|newspaperFebruary 6, 2012}}\n",
            "Recommended film has ID 2152\n",
            "Its categories are ['\"Thriller\",  \"Science Fiction\",  \"Horror\"']\n",
            "Its summary is: Charlie Colburn  is a video game tester with a troubled past. One day he receives a new console to test in the mail. This video game system, the Gamebox 1.0, is like no other system he's seen before, by tapping into the cerebral cortex of the brain, it literally immerses the player in a virtual reality world. The game draws on his memories so the heroine is modeled after his dead girlfriend  and the villain is the dirty cop  who murdered her. He has to play through three different games to win: Crime Spree, Zombie Land and Alien Planet. The only catch is, if Charlie doesn't win this game it will cost him his life. The actual Gamebox console prop was never given away.\n",
            "Recommended film has ID 1892\n",
            "Its categories are ['\"Thriller\",  \"Drama\",  \"Psychological thriller\",  \"Suspense\",  \"Indie\"']\n",
            "Its summary is: The film takes place over the course of a single evening. Tepper, played by Erik Palladino, finds a wallet on his way home from work. He contacts the owner of the wallet by telephone, and then later discovers that the wallet contains the winning ticket in a $6 million lottery. Complications arise when Tepper's friends come over for their regular poker night. One of the conditions of the game is that everyone purchase a ticket for the lottery, to be thrown into the pot. The game is played as a freezeout, with the winner collecting all the tickets and any prizes they may be worth. When the owner of the wallet, played by James Earl Jones, arrives, he realizes that the winning ticket is in the pot, and stays to play in the game.\n",
            "Recommended film has ID 1782\n",
            "Its categories are ['\"Action/Adventure\",  \"World cinema\",  \"Musical\",  \"Adventure\",  \"Bollywood\"']\n",
            "Its summary is: Snobbish Komal  and her brother, Kunal ; Sameer  - who is always ready for a snack; and siblings of smart class monitor Riddhi : Rohan  and Sanj  - participate in a dance competition whose winner will be given the recently released video game \"The Last Battle\". They win the competition are sent to the game room for playing the game. But when they start playing the game, they get sucked into the game and are stranded on a vast prehistoric island. They also fend for themselves against wild animals, deadly gem-seekers all by themselves until a man called Ramaa  gives them food and shelter in his hut in the jungle and also starts helping them to get out of the island. Shortly problems arise when Kunal is kidnapped by Kali  who is in the lookout for the power to rule the world with the help of three stones of the Mind,Body and the Soul. Will Ramaa save Kunal? Will he get the children out of the island? This depends on the rest of the story.\n",
            "Recommended film has ID 4678\n",
            "Its categories are ['\"Wuxia\",  \"Martial Arts Film\",  \"Chinese Movies\"']\n",
            "Its summary is: Yun Fei Yang is the viciously bullied orphan who takes on the unpleasant tasks at a formidable kung-fu school. Constantly mocked by the other students of the school, Yen counts as his only friend the daughter of the resident master. Any internal wrangling between the various members is put to one side when a swordsman from a rival clan reminds the master of the duel he must take part in once a decade. Unfortunately the defending clan chief is well aware that his rival is more powerful than himself. The expected defeat is further complicated when a wandering swordsman arrives on the scene and joins himself to the injured party, immediately adding to Yen's woes. The ensuing series of confrontations and intrigues soon reveals the individual motives that the numerous parties all have and the role they play in the fate of the martial world. After finally understanding his own past and upbringing, Yen is ready to take on the mantle of avenger for his school and win back the respect that his colleagues have lost. With fighting skills that had been taught to him by a shrouded figure, Yen steps out of the shadows and reveals himself to be anything but the harassed orphan that everyone enjoys picking on. However to have any kind of hope against his nearly superhuman foes, the young fighter must uncover the secrets of his clan's 'Silkworm Technique' and transform himself completely.\n"
          ]
        }
      ]
    },
    {
      "cell_type": "markdown",
      "source": [
        "Παρατηρούμε πως υπάρχουν ακόμα αρκετές ταινίες που δεν σχετίζονται με την αρχική ταινία, έχουμε όμως και μερικές όπως οι 2750, 4400, 1166 2152 και 1892 οι οποίες έχουν κοντινή θεματολογία με αυτή. Επαναλαμβάνουμε για την ταινία 4120."
      ],
      "metadata": {
        "id": "aDsvEzrPsURy"
      }
    },
    {
      "cell_type": "code",
      "source": [
        "id = 4120\n",
        "films = content_recommender(id, 15, corpus_tf_idf)\n",
        "print(\"Film to find recommendations has ID {}\".format(id))\n",
        "print(\"Its categories are {}\".format(categories[id]))\n",
        "print(\"Its summary is: {}\".format(summaries[id][0]))\n",
        "for film in films:\n",
        "  print(\"Recommended film has ID {}\".format(film))\n",
        "  print(\"Its categories are {}\".format(categories[film]))\n",
        "  print(\"Its summary is: {}\".format(summaries[film][0]))"
      ],
      "metadata": {
        "colab": {
          "base_uri": "https://localhost:8080/"
        },
        "id": "CnVYDK43s8xB",
        "outputId": "e9af68a8-7968-444c-cf9e-00d4e955fdd1"
      },
      "execution_count": 73,
      "outputs": [
        {
          "output_type": "stream",
          "name": "stdout",
          "text": [
            "Film to find recommendations has ID 4120\n",
            "Its categories are ['\"Thriller\",  \"Crime Fiction\",  \"Science Fiction\",  \"World cinema\",  \"Fantasy\",  \"Comedy\"']\n",
            "Its summary is: Coco  and his 7-month pregnant wife Pipi , have recently moved into a Buenos Aires apartment and fail to notice the increasing chaos surrounding them. Shortly, authorities quarantine the building and Coco allies himself with his well-prepared neighbour, Horacio, to defend his refrigerator and keep Pipi safe while the world outside the apartment is falling apart.\n",
            "Recommended film has ID 3599\n",
            "Its categories are ['\"Comedy\"']\n",
            "Its summary is: Coco is a wealthy Sephardic Jewish businessman and an immigrant to France. After 15 years of financial success  he decides to throw an enormous bar mitzvah celebration for his son Samuel. Determined that the celebration will be the most fantastic event of the year, Coco alienates his entire family as he plans for the gala.\n",
            "Recommended film has ID 4295\n",
            "Its categories are ['\"Horror\",  \"Comedy\"']\n",
            "Its summary is: The film opens with a couple drunk driving across the streets of New York to their apartment. They get home and make love in front of the kitchen. When the wife walks into the kitchen, the refrigerator opens up and sucks the girl in. We then go to Steve & Eileen Batemen. They are moving to New York, and they move into the same apartment with the killer refrigerator. Steve takes a new job, while Eileen is trying to become a performer. Eileen pretends to be awarding an award while in the apartment, then walks all over Broadway. When Steve and Eileen go to sleep, they start having nightmares about the refrigerator, Steve is seeing mini people inside the refrigerator . Eileen has a nightmare that she is seeing unborn babies. Steve is soon driven to insanity by the refrigerator, leaving Eileen to cope with her and her acting career on her own. A plumber named Juan comes to the apartment one night, warning Eileen her refrigerator is from hell and the devil controls it. Steve and Eileen throw a party at their apartment one night, not only the refrigerator, but all of the kitchen appliances go crazy and start slaughtering the guests. Juan soon ties the refrigerator shut, and all the surviving guests leave the apartment, not knowing where they are going to go, another couple is soon interested in buying the apartment, then the movie ends.\n",
            "Recommended film has ID 3003\n",
            "Its categories are ['\"Crime Fiction\",  \"Thriller\",  \"Romance Film\",  \"Drama\"']\n",
            "Its summary is: The setting is Argentina, 1965. El Nene , a petty thief, and Angel ([[Eduardo Noriega , a drifter, meet in the bathroom of a Buenos Aires subway station, and from that moment they are inseparable. They become known as \"the twins\", but their relationship is in fact that of lovers and, soon, as partners in crime. At a point when their relationship is already turning difficult, the plot sets in. Their love and loyalty to each other is tested when \"the twins\" join a plan to hold up an armored truck together with a group of seasoned gangsters: their swaggering straight cohort Cuervo , a sedative addict who's been carrying on an affair with the luscious Vivi ; a 16-year-old nymphet; the trio's boss Fontana ; and the elderly lawyer Nando , who is past the days of any professional illusions and helps make connections to find a good team for the crime. Angel is wounded by police gunfire during the robbery, provoking Nene to kill all of the guards and police in a fit of rage. Two police officers are among the victims, and so the police of Buenos Aires start a major search for the culprits. They soon find a lead to Vivi's apartment, where the gang had been hiding out, but by this time, all except Vivi have escaped to neighboring Uruguay. The police force Vivi to give away their plans, and the search is broadened to Uruguay. Meanwhile, the gang needs to wait for new passports  for their escape from Uruguay. They take refuge in an empty apartment in Montevideo, but the organisation of the documents takes longer than originally planned. The waiting is especially hard on Nene: Angel—who is described as constantly \"hearing voices\" and seems to suffer a slight form of schizophrenia—has been rejecting intimate contact with Nene since at least the beginning of the escape, for reasons indirectly connected with his condition. Nene eventually decides to break curfew and \"get some air\", and he, Angel, and Cuervo go and enjoy themselves at a fair. That evening outside of the apartment is not their last though, partly because Angel continues to reject any contact and does not even speak to Nene anymore. On one evening, Nene ends up verbally and sexually abusing another gay person, but finally he meets the prostitute Giselle  and starts a relationship with her, even mentioning a solo escape with her. When Nando is caught by the police, the group is forced to abandon their refuge. Fontana goes off on his own, but Nene brings Angel and Cuervo to hide out in Giselle's apartment before they leave the city at night. Angel had sensed that Nene had been cheating on him, and he soon understands where Giselle fits in. Before it can come to a fight, however, he also hears from Giselle that Nene still cares for him and suffered from his rejection. Giselle tells Nene that she has a cousin who lives near the border and she can arrange passage, but not for three men the police are after. She says that a couple, a man and a woman, will be able to get across easily. When she forces him to choose between her and Angel, he chooses Angel. Nene tells Giselle that he will find her and kill her if she turns them in. Despite his threats, Giselle goes straight to the police to turn in the gang. Before the group takes to their heels, police have already surrounded the building. At first, the trio believes they will be able to escape, thinking that the police will not endanger the haul  or the lives of a large number of policemen. In high spirits, the three of them set to defend the apartment and their freedom, while Nene and Angel rekindle their relationship and spend some short and erotic moments of mutual happiness. After the first wave of attacks, a contented Angel even says the \"voices\" he always heard have fallen silent. The group soon finds out, however, that there is no way out. Cuervo dies in an attempt to sally, and Nene and Angel remain waiting for the next wave of police attacks on the apartment. Seeing that they can save neither their own lives nor the money, they burn the entire haul in a final outburst of joie de vivre. Finally, Nene catches a bullet and dies in Angel's arms. Angel still holds Nene and sends a volley of bullets in the direction of the approaching police every now and again, when the lights fade out and the audience is left with the sound of the final fusillade of the police machine guns. It is implied that Angel committed suicide by cop.\n",
            "Recommended film has ID 3522\n",
            "Its categories are ['\"B-movie\",  \"Horror\",  \"Slasher\",  \"Teen\"']\n",
            "Its summary is: While living at her parents' mountain home, Emily  is visited by her friend Angelica , who invites her to a rave party in the woods. Her parents, Leo  and Justine , let her attend, under the condition that she returns at midnight and calls if she's going to be late. Arriving early at the party, Angelica immediately attempts to acquire ecstasy and suspects an attendee named Swan  is carrying the drug. When asked about it, Swan informs the two girls that he doesn't have any ecstasy on him, but he has it in a nearby cabin, where his friends live. He requests that Emily and Angelica come to the cabin with him and meet his friends; the two comply. Unbeknownst to the girls, Swan's friends are actually his father Chaos ([[Kevin Gage , a notorious and wanted criminal and his father's gang, which consists of Chaos' girlfriend Daisy  and felon Frankie . Chaos sent his son to the party to lure unsuspecting females to him. Upon their arrival at the cabin, Emily and Angelica are quickly captured by the gang and taken to an abandoned part in the woods. The girls manage to escape their captors and split up in an attempt to make it harder for Chaos and his gang to find them. Angelica is ultimately caught by Daisy and brought before Chaos, who tortures and stabs her death, and then proceeds to violate her corpse. Chaos and his group continue their pursuit of Emily, even as the sun sets. They briefly re-encounter her, but Emily manages to steal Daisy's knife in a struggle and stabs Swan in the genitals. Knowing his wound is fatal, Chaos suffocates his son and promises to murder Emily. Meanwhile, Justine becomes nervous about Emily's whereabouts when she doesn't answer cell phone and convinces Leo to call the police. However, Justine suspects MacDunner , the investigating officer, won't attempt to find her, so she and Leo go into the woods themselves. While searching for Emily, the couple find Angelica's corpse. Chaos and Frankie finally recapture Emily and bound her with rope. In retaliation for his son's death, Chaos brutally violates Emily with his knife. With both girls dead, the gang prepares to leave the area, when Chaos' van fails to start up. Knowing that they'll be caught if they stay in the woods, Chaos and his gang leave the vehicle and look for a car to steal. Their van is then found by MacDunner and his partner Wilson , who discover blood stained clothes. The gang decides to go to a nearby house, with the intent of stealing the owner's car, unaware of the fact that they arrived at Emily's home. Leo lets Chaos and his group stay at the home, but notices that Daisy is wearing Emily's belt. Suspecting the group of being involved with Emily's disappearance, Leo calls the police, while Chaos and Frankie prepare to hot-wire his car and kill the couple. Chaos is confronted by a shotgun wielding Leo, determined to find out what happened to his daughter. When Frankie arrives with a captured Justine, Chaos disarms Leo and takes the shotgun. Instead of shooting Leo and Justine, however, Chaos shoots Daisy when she tries to convince him to leave the house. In the ensuing confusion, the couple escapes. Leo emerges with a chainsaw and slashes Frankie across the stomach, and proceeds to attack Chaos. In the ensuing struggle, Leo manages to get the upper hand and prepares to kill Chaos. Before he can, MacDunner arrives and kills Leo when he refuses to drop his weapon. Justine retaliates by shooting MacDunner in the back and Wilson is killed by Chaos. Chaos then shoots Justine in the head and his laughter is heard.\n",
            "Recommended film has ID 1565\n",
            "Its categories are ['\"Comedy-drama\"']\n",
            "Its summary is: The film tells the story of a real life fan of Boca Juniors football club, Mary Esher Duffau, who as a teenage girl adopted the identity of a man in order to survive on the streets of Buenos Aires. The film shows the teenage Raulito wandering between a reformatory for juvenile offenders, prison and psychiatric hospital. Raulito manages to escape, and finds work at Constitución railway station in Barrio Constitución. Raulito meets up with another street child and they become close friends. They both eventually manage to escape to Mar del Plata.\n",
            "Recommended film has ID 273\n",
            "Its categories are ['\"Drama\",  \"Black-and-white\"']\n",
            "Its summary is: Kuhle Wampe takes place in early-1930s Berlin. At the beginning of the film, an unemployed young man, brother of the protagonist Anni, throws himself from a window out of the despair that he had spent another day unsuccessfully seeking work. Shortly thereafter his family is evicted from their apartment. They move into a garden colony of sorts, with the name “Kuhle Wampe.” Anni, the family’s daughter and the only family member who still has a job, becomes pregnant and engaged to her boyfriend, Fritz, who that very evening describes that their marriage was demanded of him because of her pregnancy. Anni leaves Fritz and moves to her friend Gerda’s apartment. She later takes place in a worker’s sporting event where she meets Fritz again, who has recently lost his work, and they reunite. The climax of the film depicts their return home by train . Anni and Fritz as well as a handful of workers argue with middle-class and wealthy men and women over the Situation of the worldwide financial crisis. One of the workers notes that the well-off will not change the world in any case, to which one of the wealthy asks quizzically, “Who else, then, can change the world?” Gerda replies, “Those who don’t like it.” The film ends with the singing of the Solidarity Song, with lyrics by Brecht and music from Hanns Eisler.\n",
            "Recommended film has ID 4222\n",
            "Its categories are ['\"Drama\",  \"Slice of life story\",  \"World cinema\"']\n",
            "Its summary is: With summer approaching, 16 year-old América has two issues, or so she thinks. She hates school and her aunt Carolina’s alcoholic husband, Joey. She passes the days shoplifting, hanging out with her friends and trying to avoid Joey. After a life-changing event, América, whose Spanish is limited, is sent to Buenos Aires, Argentina to live with her reclusive and anti-American grandmother, Lucía América Campos. In Argentina, América struggles to find her place with a grandmother she has never known and to hold onto a friendship with Sergio, a neighbor twice her age.\n",
            "Recommended film has ID 2097\n",
            "Its categories are ['\"World cinema\",  \"Tragedy\",  \"Drama\",  \"Indie\",  \"Black-and-white\"']\n",
            "Its summary is: Set in Prague during the Nazi occupation, the film follows Dr. Braun, a Jewish doctor forbidden to practice medicine who instead works for Nazi officials cataloging confiscated Jewish property. All Braun wants to do is survive, but his pragmatic mentality is challenged when an injured resistance fighter stumbles into his apartment building. A quest for morphine leads Dr. Braun through his tortured city, where fear eats away at the social structure. Superficially, the city might appear to be normal, but hallucinations, awkward outbursts, and nervous, self-conscious behavior make it clear that society is falling apart. Although images of the Holocaust are never seen, its devastation is understood through an overarching sense of destitution and fear. As Dr. Braun travels through the seedy undergrounds of Prague and back up to his apartment building—where a long winding staircase connects the lives of all his eccentric neighbors—a wide variety of personalities are introduced to the screen, each of whom appears equally as tortured. With minimal dialogue and a creeping pace, the sense of impending doom never leaves the screen. Crying babies, heavy shadows and broken records set a consistent tone of nightmarish anxiety. Drawn frenetically from the dancehall, where beautiful young couples bob and empty Champagne glasses litter the tables, to the apartment building of a former piano teacher that's stacked high with sheet music and out onto the empty cobblestone streets, the audience is never allowed to feel at ease. Brynych blurs the line between Nazism and Soviet communism to comment simultaneously on both.Konrad The KGB, dressed in sharp suits, look more like the Gestapo than German soldiers, and the film makes no distinction between Jews and Gentiles. As a result, everyone in Dr. Braun's apartment building is under suspicion—everyone is fearful. The film is scored with discordant piano music and full of expressionist cinematography. At the beginning, the camera follows Dr. Braun through his work, where exaggerated shots lend themselves to symbolic interpretation. For example, in one scene, Dr. Braun stands silently in front of a wall full of ticking confiscated clocks. Clocks serves as a symbol for time; and the Jews who lost their clocks also had their time on Earth taken from them. Later, short choppy shots of the doctor's home work act as exposition. A small pile of books and an empty jar of milk hint at poverty and intellect. His neglected violin suggests passion and creativity that's been suppressed; and his small bedroom window, which shows a solitary smoking chimney, subtly alludes to the horrors of the Holocaust. Towards the end of the film, a voice from the radio, declares in a monotone voice, “The longer the war lasts the greater is our faith in the final victory.” Not a voice of hope, Brynych’s film sends out a message of despair.\n",
            "Recommended film has ID 1957\n",
            "Its categories are ['\"Thriller\",  \"World cinema\",  \"Period piece\",  \"Drama\",  \"Political thriller\",  \"Political drama\"']\n",
            "Its summary is: In the German Democratic Republic  in 1984, secret Stasi officer Hauptmann Gerd Wiesler is assigned by his superior, Anton Grubitz, to spy on successful playwright Georg Dreyman . Wiesler and a Stasi team bug the apartment, set up surveillance equipment in a nearby attic, and begin reporting on Dreyman's activities. Dreyman has so far escaped all but cursory attention from the authorities due to his staunchly pro-Communist views and his internationally recognized talent. Wiesler soon learns the real reason behind the surveillance: the Party's Minister of Culture, Bruno Hempf, covets Dreyman's girlfriend, actress Christa-Maria Sieland , and is using his power to rid himself of a romantic rival. While Grubitz sees this as an opportunity for career advancement, Wiesler is horrified by the abuse of power. Through his surveillance, he knows Dreyman and Sieland are deeply in love. Minister Hempf uses his knowledge of Sieland's addiction to prescription drugs to engage her in sexual liaisons. After he discovers Sieland's relationship with Minister Hempf through Wiesler's indirect help, Dreyman implores her not to meet him again. Sieland at first refuses and flees their apartment. She walks to a nearby bar where she meets Wiesler, who, posing as a fan, reminds her of her talent. The encounter convinces Sieland to return to Dreyman. Although a dedicated Communist, Dreyman is increasingly disillusioned with the way his blacklisted colleagues are treated by the State. At Dreyman's birthday party, his close friend Albert Jerska, a blacklisted theatre director, gives him the sheet music to a piece titled \"Sonate vom Guten Menschen\" . Shortly afterwards, Jerska hangs himself. Wiesler is moved by this turn of events. Infuriated, Dreyman decides to publish anonymously an article on the concealed East Germany suicide rates in the West German periodical Der Spiegel. No suicide rates in the GDR have been published since 1977—the year East Germany had the second highest suicide rate in Europe. Knowing that all East German typewriters are registered, Dreyman uses a miniature typewriter smuggled in from West Germany, which he hides under the floorboards in his apartment. Before talking openly in his apartment, Dreyman and his friends test whether the flat is bugged by feigning an attempt to smuggle one of their blacklisted friends through the Heinrich-Heine-Straße checkpoint of the Berlin Wall. Although aware of the smuggling, Wiesler does not alert the border control police, and the conspirators believe the apartment is secure. Dreyman's article on unreported suicides in the GDR is published and enrages the East German authorities. Through an agent working at Der Spiegel, the Stasi obtain a copy of the typed manuscript and realize it was written on an unregistered typewriter with red ink. Meanwhile, Minister Hempf is livid at being jilted by Sieland and orders Grubitz to destroy her. Grubitz arrests Sieland as she attempts to buy drugs at her dentist's office. Threatened with the end of her career, Sieland reveals Dreyman's authorship of the article. When the Stasi search the apartment, however, they do not find the typewriter. Grubitz then orders Wiesler to interrogate Sieland again, warning him that failure will cost them both. Sieland recognizes Wiesler as the man from the bar and tells him where the typewriter is hidden, agreeing to become an informant. Grubitz and the Stasi team return to Dreyman's apartment and lift the floorboards, but the typewriter is not there. They do not know that Wiesler has already seized the evidence. When she sees the horrified look on Dreyman's face as he realizes she informed on him, a guilt-ridden Sieland runs into the street and is struck by an oncoming truck and killed. Dreyman runs downstairs and holds his dead girlfriend in his arms, weeping inconsolably. Grubitz offers his perfunctory condolence and leaves the scene. Realizing that Wiesler obstructed the investigation, Grubitz informs him that he is being demoted to Department M where disgraced agents steam-open letters. He assures Wiesler that he will be there for the rest of his working life. As he leaves, Grubitz discards a newspaper that announces Mikhail Gorbachev as the new leader of the Soviet Union. Four years and seven months later, Wiesler is steaming open letters in a dank, windowless office, when a young co-worker tells him of the fall of the Berlin Wall. Understanding that this means the end of the Stasi, Wiesler and his co-workers walk away from their jobs. Two years after German reunification, former Minister Hempf and Dreyman have a chance encounter. Dreyman asks Hempf why he was never under surveillance, and Hempf tells him he was in fact being monitored. After uncovering the surveillance equipment in his apartment, Dreyman goes to the Stasi Archives to read through the files on his activities. He figures out that Sieland was released just before the second search and could not have removed the typewriter. Seeing a fingerprint in red ink on the final typewritten report, he realizes that Stasi Agent \"HGW XX/7\" had knowingly covered up Dreyman's authorship of the suicide article and had removed the typewriter before the Stasi search team arrived. Deeply moved, Dreyman locates Wiesler and watches him go about his new job delivering mail. Two years later while delivering mail, Wiesler passes a bookstore and sees a window display promoting Dreyman's new novel, Sonate vom Guten Menschen. Wiesler goes inside, opens a copy of the book, and discovers that it is dedicated \"To HGW XX/7, with gratitude\". As Wiesler purchases the book, the sales clerk asks if he wants it gift-wrapped, and Wiesler responds, \"No, it's for me.\"\n",
            "Recommended film has ID 2522\n",
            "Its categories are ['\"Horror\",  \"Psychological thriller\"']\n",
            "Its summary is: Se-jin, a lonely department store employee, moves into a high-rise apartment building. One day she notices that the lights in the windows of the building opposite all start to mysteriously flicker at exactly 9:56pm. She begins to suspect that these occurrences are somehow linked to a series of suspicious deaths in the neighborhood.\n",
            "Recommended film has ID 2133\n",
            "Its categories are ['\"Musical\",  \"Black-and-white\"']\n",
            "Its summary is: Robert \"Bob\" Davis  is an American dancer who is looking for a job in Buenos Aires after gambling away his money. Bob's friend, bandleader Xavier Cugat, invites him to perform at a wedding in order to catch the eye of the bride's father, Eduardo Acuña , the owner of a local nightclub. Acuña's four daughters prepare for the wedding of the eldest. According to family tradition, the sisters must wed from oldest to youngest. The beautiful Maria , who is next in line, is notoriously picky with her suitors, much to the dismay of her two younger siblings. During the reception, Bob tries to catch Maria's attention, but his advances are rebuffed. While in conversation with Acuña, Bob remarks that Maria's personality is like \"the inside of a refrigerator,\" quickly losing favor with his potential employer. Acuña decides to address Maria's relationship woes and begins sending orchids and love notes to her from an unknown suitor, with the hope that she will eventually find a beloved. One day, Bob delivers the note and flower. Maria, who has become enamored with her secret admirer, sees Bob leaving and concludes that he is her suitor. Maria asks her father to introduce them, and Acuña reluctantly agrees. He makes a deal with Bob: in exchange for performing at the club, Bob will play the part of the suitor and repel Maria with his \"obnoxious\" personality. Despite Bob's efforts to disillusion Maria, she grows attracted to him, and the two quickly fall in love. With his plan gone awry, Acuña orders Bob to leave Buenos Aires and composes a farewell love note on his behalf. Acuña's wife sees him writing the note and suspects him of cheating on her, drawing the whole family in with her discovery. Bob is forced to reveal the truth in front of Maria, who feels shocked and betrayed. Impressed by Bob's behavior, Acuña grants him permission to court Maria. After a series of romantic gestures, Maria finally forgives Bob, and the two reconcile.\n",
            "Recommended film has ID 4006\n",
            "Its categories are ['\"Romantic comedy\",  \"Japanese Movies\",  \"Drama\",  \"World cinema\"']\n",
            "Its summary is: Taking place shortly after the end of the first film, Nana 2 focuses more on Komatsu Nana  and her love life. Romance develops between Hachi and TRAPNEST's bassist Takumi as well as with the Black Stones' guitarist Nobu. Meanwhile, Nana works hard for her band while trying to find happiness. Both girls struggle through life, and try to keep their friendship from falling apart. More information on the story at Nana.\n",
            "Recommended film has ID 4714\n",
            "Its categories are ['\"Drama\",  \"Comedy\"']\n",
            "Its summary is:  The film tells of Rulo , a moderately successful musician in the 1970s. Today he's divorced and an unemployed forty-something day-laborer living in Buenos Aires in the late 1990s. He's anxious for whatever work he can find. He lives with his son who's also musically inclined, and his mother . His best friend Torres , who has connections in the Argentine construction industry, finds him work as a large crane operator. Rulo is dating Adriana , who runs a sandwich shop. He lands a job as an excavating machine operator in distant Patagonia. The workers live in a remote farmhouse and the relationship between management and labor is difficult. One day the workers are not fed during lunch so they refuse to work until they eat. Rulo soon discovers that making a fresh start at a late age proves to be harder than he first thought.\n",
            "Recommended film has ID 2796\n",
            "Its categories are ['\"Crime Fiction\",  \"Family Drama\",  \"Drama\",  \"Indie\",  \"World cinema\"']\n",
            "Its summary is: Oso  is sent to prison for a robbery and a murder. After seven years, he is released from prison, and in a flashback, the robbery is seen that led to his arrest. His daughter, Alicia , was a year old on the day of the robbery. As a consequence, Alicia never got a chance to get to know her father. Oso returns to his hometown, a depressed suburb of Buenos Aires, fully aware that his wife, Natalia , is living with another man, Sergio . Oso is determined to establish a relationship with Alicia, and to collect money owed him by a sleazy crime boss known as the Turk . In the meantime, the Turk wants Oso to be the getaway driver on one last big job. For her part, Alicia seems fascinated with her father and makes him promise never to go away again.\n",
            "Recommended film has ID 3326\n",
            "Its categories are ['\"Crime Fiction\",  \"Thriller\",  \"Crime Drama\",  \"Drama\",  \"Crime Thriller\",  \"Romantic drama\",  \"Romance Film\"']\n",
            "Its summary is: Anderson  is a successful American hitman whose employer sends him to do a job in Argentina. His contacts inform him that his target is a former general. Things are not as easy as they seem. A paranoid Anderson simultaneously rents a room in two different hotels. From the safety but close proximity of one hotel room, he witnesses police converge on the other hotel. Anderson will fulfill his obligation to do the job despite the obvious reality that there is a leak. We witness the conspirator Miguel  being harshly interrogated by Buenos Aires police. Miguel can eventually breathe a sigh of relief when his conspirator within the Argentinian federal authorities shows up. Anderson  eventually makes it out of Argentina safely. The character of Jo-Jo is a small supporting role played by Frank Cassavetes, a son of the late director John Cassavetes and actress Gena Rowlands.\n"
          ]
        }
      ]
    },
    {
      "cell_type": "markdown",
      "source": [
        "Εδώ βλέπουμε πως η μείωση της διαστατικότητας δεν βοήθησε τον recommender αφού οι περισσότερες από τις ταινίες δεν σχετίζονται με την ταινία που δώσαμε σε αυτόν."
      ],
      "metadata": {
        "id": "-GBAAf1ftMgu"
      }
    },
    {
      "cell_type": "markdown",
      "source": [
        "Περιορίζουμε ακόμα περισσότερο τις διαστάσεις του προβλήματος και ελέγχουμε όπως και πριν το αποτέλεσμα."
      ],
      "metadata": {
        "id": "xQf6lyOeta91"
      }
    },
    {
      "cell_type": "code",
      "source": [
        "vectorizer = TfidfVectorizer(max_df=500, min_df=2, max_features=10000)\n",
        "vectorizer.fit(corpus_updated)\n",
        "corpus_tf_idf_2 = vectorizer.transform(corpus_updated)\n",
        "print(corpus_tf_idf_2.shape)"
      ],
      "metadata": {
        "colab": {
          "base_uri": "https://localhost:8080/"
        },
        "id": "inTeudaitC7p",
        "outputId": "c3cbf4c2-826e-405d-8664-be044b3fcbe3"
      },
      "execution_count": 134,
      "outputs": [
        {
          "output_type": "stream",
          "name": "stdout",
          "text": [
            "(5000, 10000)\n"
          ]
        }
      ]
    },
    {
      "cell_type": "code",
      "source": [
        "id = 519\n",
        "films = content_recommender(id, 15, corpus_tf_idf_2)\n",
        "print(\"Film to find recommendations has ID {}\".format(id))\n",
        "print(\"Its categories are {}\".format(categories[id]))\n",
        "print(\"Its summary is: {}\".format(summaries[id][0]))\n",
        "for film in films:\n",
        "  print(\"Recommended film has ID {}\".format(film))\n",
        "  print(\"Its categories are {}\".format(categories[film]))\n",
        "  print(\"Its summary is: {}\".format(summaries[film][0]))"
      ],
      "metadata": {
        "colab": {
          "base_uri": "https://localhost:8080/"
        },
        "id": "DYIjnwglts4O",
        "outputId": "5431e3e0-186c-4288-cbba-60a37c816dec"
      },
      "execution_count": 135,
      "outputs": [
        {
          "output_type": "stream",
          "name": "stdout",
          "text": [
            "Film to find recommendations has ID 519\n",
            "Its categories are ['\"Japanese Movies\"']\n",
            "Its summary is: Even though being able to withdraw from the Liar Game Tournament, Kanzaki Nao  decides to join Akiyama Shinichi  and nine other players for the final stage, ”The Garden of Eden game”, which offers a 5 billion yen prize. The players are informed that if all of them can work together, they can all become winners. However, the chances of winning are endangered by a mysterious player known as \"Person X\".\n",
            "Recommended film has ID 4252\n",
            "Its categories are ['\"Horror\",  \"Slasher\",  \"Teen\"']\n",
            "Its summary is: A group of teenagers create a game where one of them is secretly a killer while the others are victims. Using prop weapons, the killer must eliminate the other players before being discovered. The teens sneak into a warehouse late at night to play the game but things turn horrific when the players begin dying for real.\n",
            "Recommended film has ID 2750\n",
            "Its categories are ['\"Thriller\",  \"Science Fiction\",  \"Future noir\",  \"Adventure\",  \"Psychological thriller\",  \"Crime Thriller\"']\n",
            "Its summary is: In the near-future, organic virtual reality game consoles known as \"game pods\" have replaced electronic ones. The pods are attached to \"bio-ports\", outlets inserted at players' spines, through umbilical cords. Two game companies, Antenna Research and Cortical Systematics, compete against each other. In addition, a group of \"realists\" fights both companies to prevent the \"deforming\" of reality. Antenna Research's Allegra Geller , the greatest game designer in the world, is testing her latest virtual reality game, eXistenZ, with a focus group at a seminar. She is shot in the shoulder by an assassin named Noel Dichter  with an organic pistol , which is undetectable by security. As Dichter is gunned down by the security team, security guard  Ted Pikul , rushes to Geller and escorts her outside. Allegra discovers that her pod, which contains the only copy of the eXistenZ game, may have been damaged due to an \"UmbyCord\" being ripped out as the game was being downloaded. To test it, she must plug into the game in tandem with another player that she can trust, and talks a reluctant Pikul into installing a bio-port in his own body so he can play the game with her. Pikul, one of a dwindling few who has refused to have a bio-port installed to this point, at first objects due to a phobia about \"surgical penetration,\" but eventually gives in. They head to a gas station run by a black marketeer named Gas  to get it installed. Gas deliberately installs a faulty bio-port and the game pod is damaged. Gas  reveals that he is going to kill Allegra for the bounty on her head, but Pikul shoots him with the rivet gun used to install the port. The pair make their way to a former ski lodge used by Allegra's mentor, Kiri Vinokur . He and his assistant repair the damaged pod and give Pikul a new bio-port. Inside the game, Pikul realizes that it is hard to tell whether his or Allegra's actions are their own intentions or the game's. When they meet D'Arcy Nader , a video game shop owner, Pikul speaks rudely to him, but then expresses surprise at his own rudeness. Allegra informs him that it was the doing of his game character. Reality becomes more distorted when they use new micro pods given to them by Nader, and gain new identities as workers at a game pod factory. There, they meet Yevgeny Nourish , who claims to be their contact in the Realist underworld. Nourish recommends that Pikul order the special for lunch at a Chinese restaurant near the factory. Once in the restaurant, Pikul \"pauses\" the game in order to get back to the real world, but finds out that he is unable to distinguish reality from illusion. Back in the restaurant, Pikul develops an urge to eat the unappetizing special, which turns out to be an assortment of cooked mutant animals. Pikul constructs a familiar object from the inedible parts—the pistol used to shoot Allegra. He points it at her as a joke, but then Nourish identifies their Chinese waiter  as an enemy and gets Pikul to shoot him instead. In keeping with the game reality, the other patrons of the restaurant appear more frozen than shocked, and return to their meals when Pikul tells them it was a simple misunderstanding about the bill. When the pair return to the game store, Hugo Carlaw  informs them that Nourish is actually a double agent for Cortical Systematics, and the waiter whom Pikul shot was the actual contact. The next day at the factory, the two plan to sabotage all the game pods in the factory by plugging into a diseased pod. When Allegra becomes infected, Pikul frees her by cutting the umbycord. Allegra almost bleeds to death until Nourish shows up again with a flame thrower, directing it at the diseased pod. The pod bursts, releasing deadly spores. Before leaving, Allegra stabs Nourish in the back with a knife. Allegra and Pikul suddenly find themselves back in the ski lodge, and it seems that they have lost the game. They discover that Allegra's game pod is also diseased. Pikul is confused by the disease's crossover from the game into reality. However, Allegra immediately notices Pikul rubbing his back and realizes that Vinokur gave Pikul an infected bioport in order to destroy her game. She inserts a disinfecting device into Pikul's bioport. Unexpectedly, Carlaw reappears as a Realist resistance fighter, and escorts Allegra and Pikul outside to witness the death of eXistenZ. Before Carlaw can kill Allegra, he is shot in the back by Vinokur, who is a double agent for Cortical Systematics. He informs Allegra that he copied her game data while he was fixing her pod. In revenge, she kills Vinokur. Pikul then reveals that he himself was sent to kill her; he is a Realist. However, she informs him that she knew of his true intentions ever since he pointed the gun at her in the Chinese restaurant, then kills him by detonating the disinfecting device in his bioport by remote control. In yet another twist, the two then appear on a stage, together with the main players from the game. It turns out that the story itself is in fact a virtual reality game called \"tranCendenZ\" played by the cast, mirroring the first scene. This is enforced by more naturalistic acting coupled with significantly less cliche dialog, and cutaways from Allegra and Pikul. Another difference occurs when it is revealed that players are using electronic devices rather than game pods. The real game designer, Nourish, feels uneasy because the game started with the assassination of a game designer and had an overall anti-game theme that he suspects originated from the thoughts of one of the testers. Pikul and Allegra approach him  and ask him if he should pay for his \"crimes\" of deforming reality. As Merle , Nourish's assistant, calls for security, Pikul and Allegra grab pistols hidden under the dog's false mane and shoot Nourish and Merle to death. As in the restaurant scene, the other players appear more frozen than shocked. As Pikul and Allegra leave, they aim their guns at the person who played the Chinese waiter, who first pleads for his life, then asks if they are still in the game. The last shot is of Pikul and Allegra standing in surprised silence, apparently unsure of the answer.\n",
            "Recommended film has ID 3155\n",
            "Its categories are ['\"Parody\",  \"Indie\",  \"Short Film\",  \"Fantasy\",  \"Comedy\",  \"Adventure\"']\n",
            "Its summary is: The film opens with a trio of Dungeons & Dragons characters facing the final villain. However, they are quickly killed and the players blame the game master, Lodge, claiming he did not follow the rules and plotted against them. While Leo and Gary wish to play a different game the following week, Cass demands to play the same campaign again, even though they just played it for the second time, to preserve his reputation that there is no game he cannot win. Lodge wishes to publish his campaign as an official Dungeons & Dragons game module, but he is having trouble writing it: he knows how he wants it to end, but his players never actually finish the module. Gary suggests that for the next game they bring in two more players, in order to have a more well-rounded party. Cass is able to recruit his ex-girlfriend Joanna. However, Lodge is unable to find anyone  and resolves to be the fifth player . The campaign begins when the characters Luster , Flynn the Fine , and Daphne  are summoned before King Erasmus the Randomly Biased. The evil necromancer Mort Kemnon has discovered an artifact known as the Mask of Death and wishes to use this to overthrow the kingdom. As they go on their way, they are summoned before the Hierophant of the Order of Therin who sends two members of his order to accompany the party, Brother Silence  and Sir Osric  -- the latter of whom the other players  take an instant dislike to, as Lodge created Osric just to keep the story on track. On their way, the group runs into a large party of goblins. The men's overconfidence is shattered when Joanna singlehandedly wipes out the entire party of goblins, even though the men thought that she created a poor character . Resting at an inn near Westhaven, the group faces Mort Agrippa and defeat him. They head out for Westhaven and decide to stop playing for the night. Lodge explains to Joanna the reasons why he keeps the other players on such a short leash: if he does not, they will kill, plunder, and impregnate the fantasy world. The following week, the players continue the campaign by facing Drazuul in the town of Westhaven. Due to his character's weak traits, Leo goes through multiple copies of the character until the players are able to cleverly defeat Drazuul by hiding behind \"the mound of dead bards\". Torturing Drazuul with holy water, they learn of Mort Kemnon's location. Making their way through an abandoned mineshaft, they find a henchman from the previous campaign and take all the equipment. The battle goes poorly for the players, until Lodge's cat messes up the floor-tiles and Cass distracts Lodge while they place their characters in more preferable positions. After a lengthy battle with Kemnon , Kemnon is defeated and cryptically implies there is another enemy. It is revealed to be the Hierophant, who intends to use the Mask to rekindle the Light of Therin. The group then realizes that the \"Heart of Therin\", the church's most sacred relic, is actually a prison housing the deity. During a battle with the Hierophant, Leo finally proves to be of use as he awakens Therin from her prison, allowing Daphne to release her . Afterwards, Daphne is offered an unlimited wish by Therin. After the other players recommend she wishes herself immortal, she uses it to resurrect Osric, much to the extreme disapproval of Cass, who insults her and storms out. The other three continue playing, and Therin provides rewards for each: Flynn becomes a herald, Luster is stripped of her powers and becomes a cleric, and Osric becomes Lord High Marshal of the Paladins. The campaign ends, and with positive comments from Gary and Leo, Lodge is inspired enough to write his module and has it published. Sometime later, Cass apologizes for his behavior and the group begins another adventure. Lodge wants to send his group through the adventure module that another group was playing in the first Gamers film, but upon mentioning 'The Shadow', Mark—the lone survivor of that campaign—screams in fear and runs from the gaming store. As the new campaign begins with the Mask of Death having been stolen, the film ends showing the henchman still alone in the mine.\n",
            "Recommended film has ID 3978\n",
            "Its categories are ['\"Family Drama\",  \"Docudrama\",  \"Sports\",  \"Drama\",  \"Family Film\",  \"Teen\"']\n",
            "Its summary is: Norman Dale arrives in the rural Indiana town of Hickory to be a high school teacher and basketball coach. He had lost a previous coaching position after striking a student, so he is under pressure to succeed. Like much of the state, Hickory's community is passionate about basketball. People are aware that the best player in town, Jimmy Chitwood, does not intend to play on this season's team. Faculty member Myra Fleener warns the new coach not to try to persuade Jimmy to change his mind; she believes he needs to focus on school work in order to get a scholarship to attend college and have a better future. The school enrollment is so small that Dale has only a few players on his squad. Built on a four pass offense, Dale remains steadfast when a player disobeys him in an early season game, keeping him on the bench and playing with four players after another fouls out. The coach alienates the community with a slow, defensive style that does not immediately produce results and by losing his temper, which causes him to be ejected from more than one game. Dale needs a new assistant coach and invites knowledgeable basketball fan Shooter, the alcoholic father of one of his players, to join him on the bench. This, too, confounds the town, including Shooter's son. By the middle of the season, an emergency town meeting is called to vote on whether Dale should be dismissed. Fleener appreciates the coach's staying away from Chitwood and sides with him, but the town votes him out. At the last minute, Chitwood asks permission to speak: he says he's ready to begin playing basketball again, but only if Dale remains as coach. From this point, Hickory becomes an unstoppable team. Despite a setback in which Shooter arrives drunk to a game and ends up in a hospital, the team advances through tournament play, with contributions from unsung players, such as the pint-sized Ollie and devoutly religious Strap. Hickory shocks the state by reaching the state championship game. In a large arena and before a crowd bigger than any they've seen, the Hickory players face long odds to defeat a team from South Bend, whose players are taller and more athletic. But with Chitwood scoring at the last second, tiny Hickory takes home the 1952 Indiana state championship.\n",
            "Recommended film has ID 155\n",
            "Its categories are ['\"Short Film\",  \"Comedy\",  \"Black-and-white\",  \"Slapstick\"']\n",
            "Its summary is: The Stooges are \"recruited\" by a college to drum up publicity for the college's football team by being dressed up as football players. Meanwhile, the owner of a professional football team, Joe Stacks, has to find three new players for the next game. One of Joe's girlfriends soon meets the Stooges and confuses them for real college football players known as \"The Three Horsemen\" (a parody of the \"[[Four Horsemen . The Stooges go back to her house and meet the girl's two friends. After squirting each other with nightcap bottles, everyone decides to play the game \"Blind man's buff.\" The Stooges are blindfolded and walk around trying to find the girls. Just at that moment, Joe and his two henchmen walk in. They punch out the trio and then chase them around the house. One of the women finally explains that the three strangers are actually \"The Three Famous Horsemen,\" and Joe offers them money to play for him. Naturally, the trio have not a clue how to play football. Their first game  turns into a fiasco. Realizing that they have been swindled, the three managers turn their revolvers on the Stooges, hitting them on the buttocks as they attempt to flee.   Moe Howard once called Three Little Pigskins \"a humdinger of bangs and bruises,\"<ref name Howard| first  Moe Howard| coauthors  Moe Howard and the Three Stooges| publisher  1977, rev. 1979| location  79, 81| url | id  0-8065-0723-3}} as it marked the first time the Stooges flatly refused to perform a stunt. In the film, during the game the boys are stopped by photographers to pose for a picture, when the football players then tackle them. The football players were real college football players, and the Stooges  were afraid of being hurt. Larry Fine, the smallest and lightest of the three, told director Raymond McCarey, \"Look, we can't do this scene. We're not stuntmen and if one of those gorillas falls on us, we'll never be able to finish the picture. We've never used stunt doubles before but we certainly need them now.\" Moe Howard dryly agreed with McCarey, saying \"You're darn right we won't get hurt. We're not doing the scene.\"\n",
            "Recommended film has ID 3183\n",
            "Its categories are ['\"Sports\",  \"Biography\",  \"Documentary\"']\n",
            "Its summary is: The film follows 8 of the top high school basketball players in the US at the time of filming, in 2006. The plot centers around the first annual Boost Mobile Elite 24 Hoops Classic at the legendary Rucker Park in Harlem. By 2009, six of the eight players had joined NBA teams. By 2011, all eight players were on NBA teams, with Kyle Singler being the last one drafted and the only one to win an NCAA Championship, which he won while playing for Duke University in 2010.\n",
            "Recommended film has ID 1166\n",
            "Its categories are ['\"Horror\"']\n",
            "Its summary is: A group of high-school role players, decide to spice up their sword and sorcery games with two things. Breaking into the local school to use the maze of hallways it contains and utilizing 'spells' from a magic book. What the role players do not realize is the spells are real. When read, they summon a powerful demon that begins hunting them down, one by one.\n",
            "Recommended film has ID 3212\n",
            "Its categories are ['\"Romance Film\",  \"Adventure\",  \"Animation\"']\n",
            "Its summary is: The film tells the story of Amadeo, a shy but talented boy, and of a foosball team that is trying to get back together after having been dismantled. With the help of the foosball players, Amadeo will have to face his most terrible rival on the football pitch: the Champ. Guided by their leader, the charismatic Right Winger, the foosball players and Amadeo will set off on a great adventure together, like a true team, to get back the dignity that the Champ stole from them.\n",
            "Recommended film has ID 2152\n",
            "Its categories are ['\"Thriller\",  \"Science Fiction\",  \"Horror\"']\n",
            "Its summary is: Charlie Colburn  is a video game tester with a troubled past. One day he receives a new console to test in the mail. This video game system, the Gamebox 1.0, is like no other system he's seen before, by tapping into the cerebral cortex of the brain, it literally immerses the player in a virtual reality world. The game draws on his memories so the heroine is modeled after his dead girlfriend  and the villain is the dirty cop  who murdered her. He has to play through three different games to win: Crime Spree, Zombie Land and Alien Planet. The only catch is, if Charlie doesn't win this game it will cost him his life. The actual Gamebox console prop was never given away.\n",
            "Recommended film has ID 1598\n",
            "Its categories are ['\"Sports\",  \"Drama\"']\n",
            "Its summary is: Kim Sang-nam , a hot-tempered professional baseball player, is sent to the countryside to coach a team of hearing-impaired players in order to avoid media coverage of his recent involvement in an assault case. At first, Sang-nam has a difficult time imagining how he can teach baseball to a group of boys who can’t hear, but as he spends time with them he starts to believe that they can play the game. Motivated, Sang-nam decides to help them prepare for the nationals. As Sang-nam trains them, he forms bonds with the players, as well as with the music teacher and baseball manager Ms Na . But things don’t go the way Kim plans and their difficulties communicating with one another exacerbates the situation.\n",
            "Recommended film has ID 3463\n",
            "Its categories are ['\"Family Film\",  \"Comedy\",  \"Animation\"']\n",
            "Its summary is: Wreck-It Ralph is the villain of the arcade video game Fix-It Felix Jr., in which the game's eponymous hero fixes a building that Ralph destroys. For over 30 years, Ralph has been doing the same job and has become tired of being the villain. Wanting to prove he can be a hero and not just a villain, Ralph escapes his game through a power cord and lands in Hero's Duty, a light-gun shooter game where he helps the game's hero, Sergeant Calhoun, battle against \"Cy-Bugs\" . He later enters Sugar Rush, a kart racing game set on tracks made of candies, cookies and other sweets. There, Ralph meets one of the game's characters, Vanellope von Schweetz, who has learned that her game is faced with a dire threat that could affect the entire arcade, and one that Ralph may have inadvertently started.<ref nameB. Vary|first'Wreck-It Ralph': Explore the worlds of Disney's animated homage to videogames – FIRST LOOK|urlFebruary 7, 2012|newspaperFebruary 6, 2012}}\n",
            "Recommended film has ID 3851\n",
            "Its categories are ['\"Sports\",  \"Documentary\"']\n",
            "Its summary is: The film was written by Pulitzer Prize winner Ira Berkow, and narrated by two-time Academy Award winning actor Dustin Hoffman. It was directed by Peter Miller, a documentary filmmaker known for his previous films A Class Apart, Sacco and Vanzetti, and The Internationale. Dustin Hoffman does not normally narrate films, and initially turned down the project. But when he looked at the script, he changed his mind, saying: \"Oh, this is about bigotry and overcoming anti-Semitism, about discrimination and these issues that I grew up with, that really matters to me\". The stereotype of Jews as non-athletic, as well as anti-semitism, are two issues that many Jewish baseball players faced and had to overcome. Noted anti-semite Henry Ford wrote on May 22, 1920: “If fans wish to know the trouble with American baseball they have it in three words—too much Jew.”<ref namehttp://nyblueprint.com/articles/view.aspx?id Jews and Baseball Is A Film You Should Catch|authorThe New York Blueprint |dateDecember 12, 2010}} A number of early Jewish ballplayers changed their names, so that it would not be apparent that they were Jewish. Director Miller said:  At its heart, this is a film about overcoming stereotypes. Bigotry against Jews has faded a great deal...  The story of a once-marginalized people finding their way into the American mainstream offers lessons for a country that continues to grapple with its ideal as a place where talent should overcome prejudice, where we can retain our differences while still being American, where anyone who can hit or pitch or run can be a part of the magic and drama of our national game.<ref namefull \"Baseball as a cultural connection; Documentary explores special ties for Jews],\" Maureen Mullen, The Boston Globe, December 9, 2010, accessed December 11, 2010] The documentary contains rare archival footage and photos, and music ranging from Benny Goodman to Yo-Yo Ma to Rush.&#60;ref namehttp://www.jewsandbaseball.com/players.html |titleJewsandbaseball.com |dateDecember 12, 2010}} Also featured in the film are Norm Sherry, Ron Blomberg, Maury Allen, Larry King, Ron Howard, and Yogi Berra.http://www.jewsandbaseball.com/  The documentary focuses especially on two players. One is Hank Greenberg, a two-time American League MVP, five-time All Star, and Hall of Famer. Anti-Semitic barbs directed at him from the stands served to motivate him, he said. The film notes a column in the Detroit Free Press, in which Edgar Guest wrote in response to Greenberg&#39;s absence from the lineup: “We shall miss him on the infield, and shall miss him at the bat, but he’s true to his religion and we honor him for that.”&#60;ref nameNovember 17, 2010 | 12:01 pm |url Patrick Goldstein and James Rainey |titleThe Los Angeles Times |dateDecember 12, 2010}} Koufax agreed to a rare filmed interview for the documentary. Youkilis notes in the film: It’s something that I probably won’t realize until my career is over, how many people are really rooting for me and cheering for me. And it’s not just because I went 3-for-4, or had a great game. It’s just the fact that I represent a lot of Jewish people and a lot of the Jewish heritage and the struggles that a lot of our people have had.\n",
            "Recommended film has ID 4678\n",
            "Its categories are ['\"Wuxia\",  \"Martial Arts Film\",  \"Chinese Movies\"']\n",
            "Its summary is: Yun Fei Yang is the viciously bullied orphan who takes on the unpleasant tasks at a formidable kung-fu school. Constantly mocked by the other students of the school, Yen counts as his only friend the daughter of the resident master. Any internal wrangling between the various members is put to one side when a swordsman from a rival clan reminds the master of the duel he must take part in once a decade. Unfortunately the defending clan chief is well aware that his rival is more powerful than himself. The expected defeat is further complicated when a wandering swordsman arrives on the scene and joins himself to the injured party, immediately adding to Yen's woes. The ensuing series of confrontations and intrigues soon reveals the individual motives that the numerous parties all have and the role they play in the fate of the martial world. After finally understanding his own past and upbringing, Yen is ready to take on the mantle of avenger for his school and win back the respect that his colleagues have lost. With fighting skills that had been taught to him by a shrouded figure, Yen steps out of the shadows and reveals himself to be anything but the harassed orphan that everyone enjoys picking on. However to have any kind of hope against his nearly superhuman foes, the young fighter must uncover the secrets of his clan's 'Silkworm Technique' and transform himself completely.\n",
            "Recommended film has ID 1782\n",
            "Its categories are ['\"Action/Adventure\",  \"World cinema\",  \"Musical\",  \"Adventure\",  \"Bollywood\"']\n",
            "Its summary is: Snobbish Komal  and her brother, Kunal ; Sameer  - who is always ready for a snack; and siblings of smart class monitor Riddhi : Rohan  and Sanj  - participate in a dance competition whose winner will be given the recently released video game \"The Last Battle\". They win the competition are sent to the game room for playing the game. But when they start playing the game, they get sucked into the game and are stranded on a vast prehistoric island. They also fend for themselves against wild animals, deadly gem-seekers all by themselves until a man called Ramaa  gives them food and shelter in his hut in the jungle and also starts helping them to get out of the island. Shortly problems arise when Kunal is kidnapped by Kali  who is in the lookout for the power to rule the world with the help of three stones of the Mind,Body and the Soul. Will Ramaa save Kunal? Will he get the children out of the island? This depends on the rest of the story.\n",
            "Recommended film has ID 3858\n",
            "Its categories are ['\"Short Film\",  \"Comedy film\"']\n",
            "Its summary is: When tennis player Shad Hart goes to enter the Mayflower tournament to face his nemesis Colt Skyler, he learns that Skyler's father raised the cost to $500. With the help of friend Blaze and sister Chrystal he raises the money, but the money is stolen.\n"
          ]
        }
      ]
    },
    {
      "cell_type": "code",
      "source": [
        "id = 4120\n",
        "films = content_recommender(id, 15, corpus_tf_idf_2)\n",
        "print(\"Film to find recommendations has ID {}\".format(id))\n",
        "print(\"Its categories are {}\".format(categories[id]))\n",
        "print(\"Its summary is: {}\".format(summaries[id][0]))\n",
        "for film in films:\n",
        "  print(\"Recommended film has ID {}\".format(film))\n",
        "  print(\"Its categories are {}\".format(categories[film]))\n",
        "  print(\"Its summary is: {}\".format(summaries[film][0]))"
      ],
      "metadata": {
        "colab": {
          "base_uri": "https://localhost:8080/"
        },
        "id": "yhATKkDxw0lN",
        "outputId": "c2c3a1a6-bbc6-4028-b7ec-14097efe1451"
      },
      "execution_count": 136,
      "outputs": [
        {
          "output_type": "stream",
          "name": "stdout",
          "text": [
            "Film to find recommendations has ID 4120\n",
            "Its categories are ['\"Thriller\",  \"Crime Fiction\",  \"Science Fiction\",  \"World cinema\",  \"Fantasy\",  \"Comedy\"']\n",
            "Its summary is: Coco  and his 7-month pregnant wife Pipi , have recently moved into a Buenos Aires apartment and fail to notice the increasing chaos surrounding them. Shortly, authorities quarantine the building and Coco allies himself with his well-prepared neighbour, Horacio, to defend his refrigerator and keep Pipi safe while the world outside the apartment is falling apart.\n",
            "Recommended film has ID 4295\n",
            "Its categories are ['\"Horror\",  \"Comedy\"']\n",
            "Its summary is: The film opens with a couple drunk driving across the streets of New York to their apartment. They get home and make love in front of the kitchen. When the wife walks into the kitchen, the refrigerator opens up and sucks the girl in. We then go to Steve & Eileen Batemen. They are moving to New York, and they move into the same apartment with the killer refrigerator. Steve takes a new job, while Eileen is trying to become a performer. Eileen pretends to be awarding an award while in the apartment, then walks all over Broadway. When Steve and Eileen go to sleep, they start having nightmares about the refrigerator, Steve is seeing mini people inside the refrigerator . Eileen has a nightmare that she is seeing unborn babies. Steve is soon driven to insanity by the refrigerator, leaving Eileen to cope with her and her acting career on her own. A plumber named Juan comes to the apartment one night, warning Eileen her refrigerator is from hell and the devil controls it. Steve and Eileen throw a party at their apartment one night, not only the refrigerator, but all of the kitchen appliances go crazy and start slaughtering the guests. Juan soon ties the refrigerator shut, and all the surviving guests leave the apartment, not knowing where they are going to go, another couple is soon interested in buying the apartment, then the movie ends.\n",
            "Recommended film has ID 3003\n",
            "Its categories are ['\"Crime Fiction\",  \"Thriller\",  \"Romance Film\",  \"Drama\"']\n",
            "Its summary is: The setting is Argentina, 1965. El Nene , a petty thief, and Angel ([[Eduardo Noriega , a drifter, meet in the bathroom of a Buenos Aires subway station, and from that moment they are inseparable. They become known as \"the twins\", but their relationship is in fact that of lovers and, soon, as partners in crime. At a point when their relationship is already turning difficult, the plot sets in. Their love and loyalty to each other is tested when \"the twins\" join a plan to hold up an armored truck together with a group of seasoned gangsters: their swaggering straight cohort Cuervo , a sedative addict who's been carrying on an affair with the luscious Vivi ; a 16-year-old nymphet; the trio's boss Fontana ; and the elderly lawyer Nando , who is past the days of any professional illusions and helps make connections to find a good team for the crime. Angel is wounded by police gunfire during the robbery, provoking Nene to kill all of the guards and police in a fit of rage. Two police officers are among the victims, and so the police of Buenos Aires start a major search for the culprits. They soon find a lead to Vivi's apartment, where the gang had been hiding out, but by this time, all except Vivi have escaped to neighboring Uruguay. The police force Vivi to give away their plans, and the search is broadened to Uruguay. Meanwhile, the gang needs to wait for new passports  for their escape from Uruguay. They take refuge in an empty apartment in Montevideo, but the organisation of the documents takes longer than originally planned. The waiting is especially hard on Nene: Angel—who is described as constantly \"hearing voices\" and seems to suffer a slight form of schizophrenia—has been rejecting intimate contact with Nene since at least the beginning of the escape, for reasons indirectly connected with his condition. Nene eventually decides to break curfew and \"get some air\", and he, Angel, and Cuervo go and enjoy themselves at a fair. That evening outside of the apartment is not their last though, partly because Angel continues to reject any contact and does not even speak to Nene anymore. On one evening, Nene ends up verbally and sexually abusing another gay person, but finally he meets the prostitute Giselle  and starts a relationship with her, even mentioning a solo escape with her. When Nando is caught by the police, the group is forced to abandon their refuge. Fontana goes off on his own, but Nene brings Angel and Cuervo to hide out in Giselle's apartment before they leave the city at night. Angel had sensed that Nene had been cheating on him, and he soon understands where Giselle fits in. Before it can come to a fight, however, he also hears from Giselle that Nene still cares for him and suffered from his rejection. Giselle tells Nene that she has a cousin who lives near the border and she can arrange passage, but not for three men the police are after. She says that a couple, a man and a woman, will be able to get across easily. When she forces him to choose between her and Angel, he chooses Angel. Nene tells Giselle that he will find her and kill her if she turns them in. Despite his threats, Giselle goes straight to the police to turn in the gang. Before the group takes to their heels, police have already surrounded the building. At first, the trio believes they will be able to escape, thinking that the police will not endanger the haul  or the lives of a large number of policemen. In high spirits, the three of them set to defend the apartment and their freedom, while Nene and Angel rekindle their relationship and spend some short and erotic moments of mutual happiness. After the first wave of attacks, a contented Angel even says the \"voices\" he always heard have fallen silent. The group soon finds out, however, that there is no way out. Cuervo dies in an attempt to sally, and Nene and Angel remain waiting for the next wave of police attacks on the apartment. Seeing that they can save neither their own lives nor the money, they burn the entire haul in a final outburst of joie de vivre. Finally, Nene catches a bullet and dies in Angel's arms. Angel still holds Nene and sends a volley of bullets in the direction of the approaching police every now and again, when the lights fade out and the audience is left with the sound of the final fusillade of the police machine guns. It is implied that Angel committed suicide by cop.\n",
            "Recommended film has ID 1565\n",
            "Its categories are ['\"Comedy-drama\"']\n",
            "Its summary is: The film tells the story of a real life fan of Boca Juniors football club, Mary Esher Duffau, who as a teenage girl adopted the identity of a man in order to survive on the streets of Buenos Aires. The film shows the teenage Raulito wandering between a reformatory for juvenile offenders, prison and psychiatric hospital. Raulito manages to escape, and finds work at Constitución railway station in Barrio Constitución. Raulito meets up with another street child and they become close friends. They both eventually manage to escape to Mar del Plata.\n",
            "Recommended film has ID 3522\n",
            "Its categories are ['\"B-movie\",  \"Horror\",  \"Slasher\",  \"Teen\"']\n",
            "Its summary is: While living at her parents' mountain home, Emily  is visited by her friend Angelica , who invites her to a rave party in the woods. Her parents, Leo  and Justine , let her attend, under the condition that she returns at midnight and calls if she's going to be late. Arriving early at the party, Angelica immediately attempts to acquire ecstasy and suspects an attendee named Swan  is carrying the drug. When asked about it, Swan informs the two girls that he doesn't have any ecstasy on him, but he has it in a nearby cabin, where his friends live. He requests that Emily and Angelica come to the cabin with him and meet his friends; the two comply. Unbeknownst to the girls, Swan's friends are actually his father Chaos ([[Kevin Gage , a notorious and wanted criminal and his father's gang, which consists of Chaos' girlfriend Daisy  and felon Frankie . Chaos sent his son to the party to lure unsuspecting females to him. Upon their arrival at the cabin, Emily and Angelica are quickly captured by the gang and taken to an abandoned part in the woods. The girls manage to escape their captors and split up in an attempt to make it harder for Chaos and his gang to find them. Angelica is ultimately caught by Daisy and brought before Chaos, who tortures and stabs her death, and then proceeds to violate her corpse. Chaos and his group continue their pursuit of Emily, even as the sun sets. They briefly re-encounter her, but Emily manages to steal Daisy's knife in a struggle and stabs Swan in the genitals. Knowing his wound is fatal, Chaos suffocates his son and promises to murder Emily. Meanwhile, Justine becomes nervous about Emily's whereabouts when she doesn't answer cell phone and convinces Leo to call the police. However, Justine suspects MacDunner , the investigating officer, won't attempt to find her, so she and Leo go into the woods themselves. While searching for Emily, the couple find Angelica's corpse. Chaos and Frankie finally recapture Emily and bound her with rope. In retaliation for his son's death, Chaos brutally violates Emily with his knife. With both girls dead, the gang prepares to leave the area, when Chaos' van fails to start up. Knowing that they'll be caught if they stay in the woods, Chaos and his gang leave the vehicle and look for a car to steal. Their van is then found by MacDunner and his partner Wilson , who discover blood stained clothes. The gang decides to go to a nearby house, with the intent of stealing the owner's car, unaware of the fact that they arrived at Emily's home. Leo lets Chaos and his group stay at the home, but notices that Daisy is wearing Emily's belt. Suspecting the group of being involved with Emily's disappearance, Leo calls the police, while Chaos and Frankie prepare to hot-wire his car and kill the couple. Chaos is confronted by a shotgun wielding Leo, determined to find out what happened to his daughter. When Frankie arrives with a captured Justine, Chaos disarms Leo and takes the shotgun. Instead of shooting Leo and Justine, however, Chaos shoots Daisy when she tries to convince him to leave the house. In the ensuing confusion, the couple escapes. Leo emerges with a chainsaw and slashes Frankie across the stomach, and proceeds to attack Chaos. In the ensuing struggle, Leo manages to get the upper hand and prepares to kill Chaos. Before he can, MacDunner arrives and kills Leo when he refuses to drop his weapon. Justine retaliates by shooting MacDunner in the back and Wilson is killed by Chaos. Chaos then shoots Justine in the head and his laughter is heard.\n",
            "Recommended film has ID 4222\n",
            "Its categories are ['\"Drama\",  \"Slice of life story\",  \"World cinema\"']\n",
            "Its summary is: With summer approaching, 16 year-old América has two issues, or so she thinks. She hates school and her aunt Carolina’s alcoholic husband, Joey. She passes the days shoplifting, hanging out with her friends and trying to avoid Joey. After a life-changing event, América, whose Spanish is limited, is sent to Buenos Aires, Argentina to live with her reclusive and anti-American grandmother, Lucía América Campos. In Argentina, América struggles to find her place with a grandmother she has never known and to hold onto a friendship with Sergio, a neighbor twice her age.\n",
            "Recommended film has ID 2856\n",
            "Its categories are ['\"Drama\",  \"Comedy\"']\n",
            "Its summary is: Set on New Years Day, Jos'  family and friends gather together at a funeral parlour where chaos ensues.\n",
            "Recommended film has ID 2097\n",
            "Its categories are ['\"World cinema\",  \"Tragedy\",  \"Drama\",  \"Indie\",  \"Black-and-white\"']\n",
            "Its summary is: Set in Prague during the Nazi occupation, the film follows Dr. Braun, a Jewish doctor forbidden to practice medicine who instead works for Nazi officials cataloging confiscated Jewish property. All Braun wants to do is survive, but his pragmatic mentality is challenged when an injured resistance fighter stumbles into his apartment building. A quest for morphine leads Dr. Braun through his tortured city, where fear eats away at the social structure. Superficially, the city might appear to be normal, but hallucinations, awkward outbursts, and nervous, self-conscious behavior make it clear that society is falling apart. Although images of the Holocaust are never seen, its devastation is understood through an overarching sense of destitution and fear. As Dr. Braun travels through the seedy undergrounds of Prague and back up to his apartment building—where a long winding staircase connects the lives of all his eccentric neighbors—a wide variety of personalities are introduced to the screen, each of whom appears equally as tortured. With minimal dialogue and a creeping pace, the sense of impending doom never leaves the screen. Crying babies, heavy shadows and broken records set a consistent tone of nightmarish anxiety. Drawn frenetically from the dancehall, where beautiful young couples bob and empty Champagne glasses litter the tables, to the apartment building of a former piano teacher that's stacked high with sheet music and out onto the empty cobblestone streets, the audience is never allowed to feel at ease. Brynych blurs the line between Nazism and Soviet communism to comment simultaneously on both.Konrad The KGB, dressed in sharp suits, look more like the Gestapo than German soldiers, and the film makes no distinction between Jews and Gentiles. As a result, everyone in Dr. Braun's apartment building is under suspicion—everyone is fearful. The film is scored with discordant piano music and full of expressionist cinematography. At the beginning, the camera follows Dr. Braun through his work, where exaggerated shots lend themselves to symbolic interpretation. For example, in one scene, Dr. Braun stands silently in front of a wall full of ticking confiscated clocks. Clocks serves as a symbol for time; and the Jews who lost their clocks also had their time on Earth taken from them. Later, short choppy shots of the doctor's home work act as exposition. A small pile of books and an empty jar of milk hint at poverty and intellect. His neglected violin suggests passion and creativity that's been suppressed; and his small bedroom window, which shows a solitary smoking chimney, subtly alludes to the horrors of the Holocaust. Towards the end of the film, a voice from the radio, declares in a monotone voice, “The longer the war lasts the greater is our faith in the final victory.” Not a voice of hope, Brynych’s film sends out a message of despair.\n",
            "Recommended film has ID 2522\n",
            "Its categories are ['\"Horror\",  \"Psychological thriller\"']\n",
            "Its summary is: Se-jin, a lonely department store employee, moves into a high-rise apartment building. One day she notices that the lights in the windows of the building opposite all start to mysteriously flicker at exactly 9:56pm. She begins to suspect that these occurrences are somehow linked to a series of suspicious deaths in the neighborhood.\n",
            "Recommended film has ID 1957\n",
            "Its categories are ['\"Thriller\",  \"World cinema\",  \"Period piece\",  \"Drama\",  \"Political thriller\",  \"Political drama\"']\n",
            "Its summary is: In the German Democratic Republic  in 1984, secret Stasi officer Hauptmann Gerd Wiesler is assigned by his superior, Anton Grubitz, to spy on successful playwright Georg Dreyman . Wiesler and a Stasi team bug the apartment, set up surveillance equipment in a nearby attic, and begin reporting on Dreyman's activities. Dreyman has so far escaped all but cursory attention from the authorities due to his staunchly pro-Communist views and his internationally recognized talent. Wiesler soon learns the real reason behind the surveillance: the Party's Minister of Culture, Bruno Hempf, covets Dreyman's girlfriend, actress Christa-Maria Sieland , and is using his power to rid himself of a romantic rival. While Grubitz sees this as an opportunity for career advancement, Wiesler is horrified by the abuse of power. Through his surveillance, he knows Dreyman and Sieland are deeply in love. Minister Hempf uses his knowledge of Sieland's addiction to prescription drugs to engage her in sexual liaisons. After he discovers Sieland's relationship with Minister Hempf through Wiesler's indirect help, Dreyman implores her not to meet him again. Sieland at first refuses and flees their apartment. She walks to a nearby bar where she meets Wiesler, who, posing as a fan, reminds her of her talent. The encounter convinces Sieland to return to Dreyman. Although a dedicated Communist, Dreyman is increasingly disillusioned with the way his blacklisted colleagues are treated by the State. At Dreyman's birthday party, his close friend Albert Jerska, a blacklisted theatre director, gives him the sheet music to a piece titled \"Sonate vom Guten Menschen\" . Shortly afterwards, Jerska hangs himself. Wiesler is moved by this turn of events. Infuriated, Dreyman decides to publish anonymously an article on the concealed East Germany suicide rates in the West German periodical Der Spiegel. No suicide rates in the GDR have been published since 1977—the year East Germany had the second highest suicide rate in Europe. Knowing that all East German typewriters are registered, Dreyman uses a miniature typewriter smuggled in from West Germany, which he hides under the floorboards in his apartment. Before talking openly in his apartment, Dreyman and his friends test whether the flat is bugged by feigning an attempt to smuggle one of their blacklisted friends through the Heinrich-Heine-Straße checkpoint of the Berlin Wall. Although aware of the smuggling, Wiesler does not alert the border control police, and the conspirators believe the apartment is secure. Dreyman's article on unreported suicides in the GDR is published and enrages the East German authorities. Through an agent working at Der Spiegel, the Stasi obtain a copy of the typed manuscript and realize it was written on an unregistered typewriter with red ink. Meanwhile, Minister Hempf is livid at being jilted by Sieland and orders Grubitz to destroy her. Grubitz arrests Sieland as she attempts to buy drugs at her dentist's office. Threatened with the end of her career, Sieland reveals Dreyman's authorship of the article. When the Stasi search the apartment, however, they do not find the typewriter. Grubitz then orders Wiesler to interrogate Sieland again, warning him that failure will cost them both. Sieland recognizes Wiesler as the man from the bar and tells him where the typewriter is hidden, agreeing to become an informant. Grubitz and the Stasi team return to Dreyman's apartment and lift the floorboards, but the typewriter is not there. They do not know that Wiesler has already seized the evidence. When she sees the horrified look on Dreyman's face as he realizes she informed on him, a guilt-ridden Sieland runs into the street and is struck by an oncoming truck and killed. Dreyman runs downstairs and holds his dead girlfriend in his arms, weeping inconsolably. Grubitz offers his perfunctory condolence and leaves the scene. Realizing that Wiesler obstructed the investigation, Grubitz informs him that he is being demoted to Department M where disgraced agents steam-open letters. He assures Wiesler that he will be there for the rest of his working life. As he leaves, Grubitz discards a newspaper that announces Mikhail Gorbachev as the new leader of the Soviet Union. Four years and seven months later, Wiesler is steaming open letters in a dank, windowless office, when a young co-worker tells him of the fall of the Berlin Wall. Understanding that this means the end of the Stasi, Wiesler and his co-workers walk away from their jobs. Two years after German reunification, former Minister Hempf and Dreyman have a chance encounter. Dreyman asks Hempf why he was never under surveillance, and Hempf tells him he was in fact being monitored. After uncovering the surveillance equipment in his apartment, Dreyman goes to the Stasi Archives to read through the files on his activities. He figures out that Sieland was released just before the second search and could not have removed the typewriter. Seeing a fingerprint in red ink on the final typewritten report, he realizes that Stasi Agent \"HGW XX/7\" had knowingly covered up Dreyman's authorship of the suicide article and had removed the typewriter before the Stasi search team arrived. Deeply moved, Dreyman locates Wiesler and watches him go about his new job delivering mail. Two years later while delivering mail, Wiesler passes a bookstore and sees a window display promoting Dreyman's new novel, Sonate vom Guten Menschen. Wiesler goes inside, opens a copy of the book, and discovers that it is dedicated \"To HGW XX/7, with gratitude\". As Wiesler purchases the book, the sales clerk asks if he wants it gift-wrapped, and Wiesler responds, \"No, it's for me.\"\n",
            "Recommended film has ID 3326\n",
            "Its categories are ['\"Crime Fiction\",  \"Thriller\",  \"Crime Drama\",  \"Drama\",  \"Crime Thriller\",  \"Romantic drama\",  \"Romance Film\"']\n",
            "Its summary is: Anderson  is a successful American hitman whose employer sends him to do a job in Argentina. His contacts inform him that his target is a former general. Things are not as easy as they seem. A paranoid Anderson simultaneously rents a room in two different hotels. From the safety but close proximity of one hotel room, he witnesses police converge on the other hotel. Anderson will fulfill his obligation to do the job despite the obvious reality that there is a leak. We witness the conspirator Miguel  being harshly interrogated by Buenos Aires police. Miguel can eventually breathe a sigh of relief when his conspirator within the Argentinian federal authorities shows up. Anderson  eventually makes it out of Argentina safely. The character of Jo-Jo is a small supporting role played by Frank Cassavetes, a son of the late director John Cassavetes and actress Gena Rowlands.\n",
            "Recommended film has ID 4714\n",
            "Its categories are ['\"Drama\",  \"Comedy\"']\n",
            "Its summary is:  The film tells of Rulo , a moderately successful musician in the 1970s. Today he's divorced and an unemployed forty-something day-laborer living in Buenos Aires in the late 1990s. He's anxious for whatever work he can find. He lives with his son who's also musically inclined, and his mother . His best friend Torres , who has connections in the Argentine construction industry, finds him work as a large crane operator. Rulo is dating Adriana , who runs a sandwich shop. He lands a job as an excavating machine operator in distant Patagonia. The workers live in a remote farmhouse and the relationship between management and labor is difficult. One day the workers are not fed during lunch so they refuse to work until they eat. Rulo soon discovers that making a fresh start at a late age proves to be harder than he first thought.\n",
            "Recommended film has ID 273\n",
            "Its categories are ['\"Drama\",  \"Black-and-white\"']\n",
            "Its summary is: Kuhle Wampe takes place in early-1930s Berlin. At the beginning of the film, an unemployed young man, brother of the protagonist Anni, throws himself from a window out of the despair that he had spent another day unsuccessfully seeking work. Shortly thereafter his family is evicted from their apartment. They move into a garden colony of sorts, with the name “Kuhle Wampe.” Anni, the family’s daughter and the only family member who still has a job, becomes pregnant and engaged to her boyfriend, Fritz, who that very evening describes that their marriage was demanded of him because of her pregnancy. Anni leaves Fritz and moves to her friend Gerda’s apartment. She later takes place in a worker’s sporting event where she meets Fritz again, who has recently lost his work, and they reunite. The climax of the film depicts their return home by train . Anni and Fritz as well as a handful of workers argue with middle-class and wealthy men and women over the Situation of the worldwide financial crisis. One of the workers notes that the well-off will not change the world in any case, to which one of the wealthy asks quizzically, “Who else, then, can change the world?” Gerda replies, “Those who don’t like it.” The film ends with the singing of the Solidarity Song, with lyrics by Brecht and music from Hanns Eisler.\n",
            "Recommended film has ID 2545\n",
            "Its categories are ['\"Drama\",  \"War film\"']\n",
            "Its summary is: A group of young pacifists from Britanny is taken to a camp destined to deserters. They end up by accepting the increasing violence with which they are trained, and become true killing machines. In April, 1961, they are moved to the Aurès mountains in Algeria where they face off against troops from the National Liberation Army. During the battle, the battalion captures a rebel that they must execute the next morning. Will discipline override their deepest convictions?\n",
            "Recommended film has ID 3642\n",
            "Its categories are ['\"Drama\"']\n",
            "Its summary is: Packing the Monkeys, Again! is story about love couple, which live in small rented apartment. Nebojša is a journalist who works to much and he asks Jelena to do everything what all traditional Montenegrian women does. Jelana studies literature and she is suspicious for Nebojša having an affair. Of course, owners of their apartment are coming in their lives and bringing their problems to house of Nebojša and Jelena - Nata, Dragica's and Dragoljub's daughter is a problematic child. But, most interesting thing is that, person who is re-telling this story, is a man with amnesia who doesn't know in which bathroom he fell on his head and writing is a part of his therapy.\n",
            "Recommended film has ID 4573\n",
            "Its categories are ['\"Drama\",  \"Ensemble Film\",  \"Coming of age\",  \"World cinema\"']\n",
            "Its summary is: Five girlfriends in their early twenties live in the dingy port town of Incheon. A close-knit circle in high school, their paths begin to diverge as they step into the adult world. At the center of the group is the beautiful and vain Hae-joo, who dreams of becoming a successful career woman. She leaves Incheon for an apartment in Seoul and a junior position with a brokerage firm. The other girls are left behind in a state of solitude and unease; Tae-hee works for free for her parents and takes dictation from a poet suffering from cerebral palsy and Ji-young seeks a job, while caring for her grandparents in their dilapidated apartment. The twins Bi-ryu and Ohn-jo buffer themselves from change with constant togetherness. The cellular phones ring as the girls coordinate their meetings. A lost cat, Tee tee, enters the lives of these young women, passing from one owner to the next as circumstances pull lives and friends apart and others together.\n"
          ]
        }
      ]
    },
    {
      "cell_type": "markdown",
      "source": [
        "Με τα νέα χαρακτηριστικά η επίδοση του recommender φαίνεται να βελτιώθηκε. Για να έχουμε μια ολοκληρωμένη εικόνα θα επαναλάβουμε τη διαδικασία και για άλλες τυχαίες ταινίες ώστε να δούμε αν η καλή επίδοση γενικεύεται."
      ],
      "metadata": {
        "id": "NmD_yk8cxSnv"
      }
    },
    {
      "cell_type": "code",
      "source": [
        "id = 3328\n",
        "films = content_recommender(id, 7, corpus_tf_idf_2)\n",
        "print(\"Film to find recommendations has ID {}\".format(id))\n",
        "print(\"Its categories are {}\".format(categories[id]))\n",
        "print(\"Its summary is: {}\".format(summaries[id][0]))\n",
        "for film in films:\n",
        "  print(\"Recommended film has ID {}\".format(film))\n",
        "  print(\"Its categories are {}\".format(categories[film]))\n",
        "  print(\"Its summary is: {}\".format(summaries[film][0]))"
      ],
      "metadata": {
        "colab": {
          "base_uri": "https://localhost:8080/"
        },
        "id": "Lgtwkrtkxldl",
        "outputId": "7a32585d-9616-43c8-89b9-52eb8b42081c"
      },
      "execution_count": 142,
      "outputs": [
        {
          "output_type": "stream",
          "name": "stdout",
          "text": [
            "Film to find recommendations has ID 3328\n",
            "Its categories are ['\"Period piece\",  \"Biography\",  \"Drama\"']\n",
            "Its summary is: John suffered from epileptic seizures and an autism-like developmental disorder, and the Royal Family tried to shelter him from public view as much as possible; the script shied away from presenting the Royal Family as unsympathetic to the Prince, and instead showed how much this cost them emotionally . Poliakoff explores the story of John, his relationship with his family, John's brother, Prince George, the political events going on at the time  and the love and devotion shown to him by his nanny, Charlotte Bill , played by Gina McKee.\n",
            "Recommended film has ID 2781\n",
            "Its categories are ['\"Silent film\",  \"Marriage Drama\",  \"Drama\"']\n",
            "Its summary is: John Sterling  takes his young wife Lillie  to Java where he plans to invest in tea plantations. Beyond the difference in years between the two, he is neglectful, which creates reactions of frustration from his romantic young wife. Aboard a ship, Lillie witnesses a scene of cruelty – a passenger hits one of his servants. The violent man is immediately taken by the beauty of this mysterious woman and will endeavor all to make her acquaintance. Therefore, he contacts the husband, whom he attracts with his deep knowledge of the javanese tea market. John presents his new friend, the young and handsome Prince de Gace  to his wife, who immediately recognizes the violent man. Multiple situations offer the Prince a chance to approach Lillie, who spurns him. He then uses force to kiss her - Lillie tries to talk to her husband, in vain. In Java, the couple are hosted by the Prince, at this vast estate. Lillie avoids being alone with the Prince – she even wishes to join her husband in his professional investigations, which he refuses. Finally, Lillie and the Prince are alone for a few hours, and his efforts intensify. He forces himself upon her again, and she finally yields and returns his kiss. John returns to surprise the kiss in Chinese shadows, raising the question of whether the woman embracing De Gace is his wife. His suspicion confirmed by a misplaced earring, the men go on a tiger hunt. The Prince is hurt. John decides to return to the US alone, but his wife reaffirms her love for him.\n",
            "Recommended film has ID 4533\n",
            "Its categories are ['\"Biography\",  \"Adventure\",  \"Family Drama\",  \"Action/Adventure\",  \"Period piece\",  \"Coming of age\",  \"Drama\",  \"Biographical film\",  \"Family Film\"']\n",
            "Its summary is: The Other Side of Heaven is about John Groberg's mission for The Church of Jesus Christ of Latter-day Saints to Tonga. The movie takes place in the 1950s. John Groberg  is playing in the band at a dance being held at Brigham Young University. Jean  is his girlfriend; and she is also at the dance. John and Jean end up dancing with each other, and they leave the dance together. John's family in Idaho Falls receives his mission call. He learns that he is called to serve in Tonga. He says goodbye to his family and leaves from Idaho Falls to Los Angeles. In Los Angeles, he boards a ship and gets to Fiji where he is detained in a Fijian jail. He is released and sets sail for Tonga. When he gets to Tonga, he meets his mission president. His mission president introduces him to Feki, his companion. Feki is a native Tongan who also speaks English. They are assigned to serve in a remote island of the mission. He expects a warm welcome from the people. Instead, he is greeted with contempt by the island people. He goes through culture shock as he adjusts to the Tongan culture. He has difficulty with the Tongan language. Also, a local minister has told the people not to listen to John or to his message. He begins by learning the Tongan language. He isolates himself and studies the Bible in both English and Tongan. He becomes more familiar with the language. John and Feki build a house for themselves on the island. One morning, John discovers that rats have eaten the soles of his feet. His fellow church members help him as his feet heal. They heal just in time for the Sunday church meetings, and he is miraculously able to walk. This astonishes the people, and they become more receptive to his message. One night, a group of men surround John and Feki to beat them up. They have been sent by the local minister. One of the men, Tomasi, breaks them up and sends them away. Tomasi saves John and Feki, because he was baptised into the church and is Mormon himself. Tomasi begins attending church meetings. A local woman, at the behest of her family, tries to seduce John so that she can have a \"half White baby\". The woman's mother becomes offended at John's rejection of her daughter. John tells her that he is saving himself for Jean, his girlfriend back home. The woman's mother is satisfied. A hurricane hits the island, and the island is heavily damaged. A supply ship is expected in a few weeks, but the ship is late. The people ration their food and water to survive. Many people on the island die. John is saved when the local minister approaches him, apologizes to him, and gives John his last ration of food. The supply ship arrives. John, Feki, and many others are saved. The local minister passes away and is given an honorable burial. The mission president authorizes John to form a congregation on the island. John is set apart as the branch president and calls two counselors. Feki is assigned to go back to construction. John and Feki part ways, and thank each other for their friendship. The new mission president visits the island and has concerns about the work there. Even though a lot of work has been done, the mission president has no records of the work. John quickly completes the required forms and turns them in to the mission president. The mission president apologizes to John and praises John for his work. He also puts John in for a six-month extension of his mission. While traveling to an outlying island, John and his two counselors are caught in a major storm at sea. All three are tossed overboard and must swim for their lives. John miraculously makes it to shore and finds that his counselors are also safe. Once John returns to the Tongan Island, he finds out the six-month extension is denied, and John concludes his mission to Tonga. The people thank him for all he has done for them, and John heads back home to the United States. Throughout his mission, John and Jean keep in contact by letters. Some of the narrative of the story is told through these letters. They remain faithful to each other and are married after John returns home. They have children and continue to serve in the church. They also visit the Tongan islands several times.\n",
            "Recommended film has ID 2464\n",
            "Its categories are ['\"Family Film\",  \"Fantasy Comedy\",  \"Comedy\"']\n",
            "Its summary is: The film opens with John Dolittle as a child talking to his dog . He asks his dog questions, one being \"Why do dogs sniff each other's butts\"? Her response is that it's their way of shaking hands. His concerned father  hears the question and says that the dog doesn't have any idea what he said. He was wrong. He finds this out when John meets his new principal and sniffs his butt. The dog obviously knows something is going to happen. When his father hires a minister to remove the devil from John Dolittle, the dog saves John by biting the minister. The dog is then relinquished for adoption. John is very upset and stops talking to animals as his father teaches him to hate them. Thirty years later, we see John Dolittle  shooing a puppy out of his apartment in San Francisco, California. He is a doctor, married with two children, and an animal hater. His 13-year-old daughter Charisse  wants to be named Paprika. His youngest daughter Maya  is a nerdy girl who does experiments, such as raising what she believes to be a swan egg so it will bond with her. She also has a Guinea Pig named Rodney . John's wife Lisa  wants to spend time with him. Meanwhile at work, a large medical company owner named Calloway  wants to buy his practice. This is welcomed by the employees as they think it will bring financial gain. John takes his family out to the country for a vacation. After taking the family to the country, he has to stay late at work to give Mrs. Parkus , a woman who is addicted to shellfish in spite of the fact that she is highly allergic to it, medication. Driving home, he nearly hits a dog and bumps his head on the windshield. Alive and well, the mutt walks away and shouts \"Watch where you're going next time, you bone-head!\". This is the first time that John has understood an animal since his childhood. The next day, John is driving Rodney to the country and Rodney starts talking to him. Up in the country, an owl  asks him to remove a twig in her wing. He obliges and she tells all the animals about his kind act. Soon many animals start asking favors of John. Scared, he goes to see Dr. Sam Litvak  for a CAT scan, but nothing is wrong with him. The next day he finds the dog he nearly hit being taken to a kennel. John rescues the dog, and takes him to the vet. Slowly becoming friends, John and the later decide his name should be 'Lucky'. John makes a deal with Maya. If she stays at camp, John will give her Lucky. That night a number of animals come to see the Doctor for treatment, including a drunken circus monkey, two dysfunctional pigeons, a goat with a rash, an OCD dog , and a pair of cloned sheep with rectal trauma. In the process, John relearns to appreciate his gift and confides in Lucky that he feels more energized about his work than he has in years. After he fits a nearsighted police horse for special glasses, the drunken monkey tells the doctor about a sick circus tiger . They find the tiger, named Jake, on top of Coit Tower attempting to commit suicide. John and Lucky attempt to stop him, saying that everyone loves tigers  and that John can cure him. His work with animals distracts him from a meeting with Calloway and from spending time with his wife. Soon, Lisa discovers all the animals. She and Mark catch him giving CPR to a group of rats , which was a false alarm  while conversing with the other one. Thinking he is crazy, his friends and family send him to an asylum where he meets Blaine , an enemy of John from medical school. Meanwhile, the Tiger is getting sicker, so Lucky tries to break John out of the asylum. John is mad at all the animals for sending him to the asylum, but Lucky says that he is hiding from his true self. Declaring that he will not talk to animals anymore, John is released. Maya, at home because she did not fit in, tells her Grandpa that she believes her dad has the gift of gab. Overhearing this, he realizes his mistake and apologizes to Lucky. Later, during the party where Calloway will buy the company, John and Lucky go to the circus, pick up Jake, and take him to the clinic so they can cure him. Meanwhile, the police are after John, but Lucky gathers all the animals of San Francisco to help guard the building in which John is operating on the tiger. But because they need to go through the party, and because Rodney is there, Jake comes out from under the hospital bed and scares everyone. Soon everyone is watching the operation. Lisa is now upset that her husband thinks he can talk to animals. John's father finally reveals that he, in fact, can. With that said, she comes in the operating room to comfort Jake. John finds out that Jake is suffering from a blood clot stuck in his head, and with that, saves his life. Calloway is watching this and he is very impressed. He wants to buy the company, but John declines his offer. In the end, John is now a both human doctor and a veterinarian. Maya's egg hatches, revealing it to be an alligator. John and Lucky are seen walking to the circus to visit Jake and talking about their future as friends while the song \"Talk with the Animals\" plays in the background.\n",
            "Recommended film has ID 4059\n",
            "Its categories are ['\"Thriller\",  \"Action/Adventure\",  \"Science Fiction\",  \"Action\",  \"Adventure\"']\n",
            "Its summary is: John Smith  is an alien from the planet Lorien. He was sent to Earth as a child with eight others to escape the invading Mogadorians, who destroyed Lorien. Here, John is protected by a Guardian, Henri , and has developed \"legacies\", including enhanced strength, speed and agility, telekinesis and the power to transmit plasma light through his hands. The Mogadorians, led by the Commander  learn about the nine children and come to Earth to find them. The Loriens can only be killed in sequence; Number One through Number Nine, though, and three of them are already dead, with John being Number Four. Knowing this, he and Henri move from a beachside bungalow in Florida to an old farm in Paradise, Ohio, where John befriends conspiracy theorist Sam Goode  and a dog which he names Bernie Kosar. He also falls for an amateur photographer, Sarah Hart . Her ex-boyfriend, football player Mark James  is a bully who torments both John and Sam. During the Halloween festival, Mark and his friends chase Sarah and John into the woods, where they try to beat John up. However, he uses his legacies to fend them off and rescue Sarah. Sam witnesses this and how he'd used his legacies. John reveals his true origins to Sam. The next day, Mark's father, the local sheriff, interrogates Henri on John's whereabouts when his son and his friends were attacked. Henri tells John that too many people are suspicious of them so they have to leave. John refuses because of Sarah. Meanwhile the Mogadorians continue searching for John, while being trailed by another Lorien, Number Six  who is also trying to locate Number Four. Number Six's guardian was killed, and she realizes that the remaining six of the Lorien Guard will have to team up and fight against the Mogadorians. She knows Number Three is dead and that Number Four is being hunted. The Mogadorians eventually locate John and manipulate two conspiracy theorists into capturing Henri. When John and Sam go to rescue him, they are attacked but manage to fend the Mogadorians off. However, Henri dies after John and Sam escape with some Lorien artifacts, including a blue rock that acts as a tracking device for other Loriens. Sam's father, a conspiracy theorist who disappeared while hunting aliens in Mexico, had another of the rocks. While Sam searches for it, John tries to say goodbye to Sarah at a party, only to discover that the Mogadorians have framed him and Henri for the murders of the conspiracy theorists. Mark sees John and calls his father, who corners John and Sarah. John saves Sarah from a fall, revealing his powers in the process, and they escape to their high school. Meanwhile, The Commander arrives in Paradise, in a convoy of trucks. He is confronted by Mark and his father, and after injuring the sheriff, he forces Mark to show him where John is hiding. Mark takes him to the school, which he knows is Sarah's hideout. There, John, Sarah and Sam are attacked by the Mogadorians, who brought two giant monsters to hunt the trio. They are saved by Number Six and Bernie, who is actually a shapeshifting Chimera sent by John's biological parents to protect him. John and Number Six, who can teleport and can block energy attacks, continue to fight the Mogadorians. They eventually defeat them all, including the Commander. The following day, John and Number Six unite their blue rocks and discover the location of the other four surviving Lorians. John decides to let Sam come with them in hopes of finding Sam's father. They set off to find the others so they can all protect Earth from the Mogadorians, leaving Sarah and a repentant Mark, who lies to his father about John's whereabouts and returns a box left to John by his Dad that was in police evidence. John leaves after promising to return to Paradise and to Sarah.\n",
            "Recommended film has ID 14\n",
            "Its categories are ['\"Drama\"']\n",
            "Its summary is: In 1931, Lon Rambeau sends his daughter Elizabeth Rambeau away from London to Napa Valley, California to visit Lon's father Philippe Rambeau and Phillipe's sister Martha Fairon, owners of vast vineyards and a grand estate. Philippe and Martha welcome Elizabeth lavishly, then reveal the real reason for the celebration of her arrival: her betrothal, unknown to Elizabeth, between her and her cousin, Andre Swann. John Rambeau, obviously disliked by matriarch Martha, arrives at the party, flirts with Elizabeth and leads her out into the vineyards, where he mischievously reveals Rambeau family secrets: Philippe uses marriage to tighten the family hold on the valley; Phillipe's sister Martha and daughter Charlotte  had been married off to local landowners in order to increase the vineyard holdings &mdash; Phillipe now wants to marry off grand-daughter Elizabeth to Andre in order to absorb the Stag's Leap Winery . Continuing his explanation, John points out his house nearby, where his invalid mother Charlotte now lives, and says that he now knows that Martha's husband  is his real father, even though everyone claims that Charlotte's late husband had been the biological father to both John and his sister Monica. John then takes the speechless Elizabeth into his arms and kisses her, but she pulls away and runs into the house. The next day, John gets into an argument with Philippe by insisting that they ignore Prohibition laws and sell their grapes  to bootleggers. Philippe, who loves John, insists on remaining lawful, explaining once again how he will continue to cultivate and study wines until the time comes to sell them legally. John volunteers to show Elizabeth around the winery, bitterly pointing out the vast stores of wine going to waste. When he asks her about her past and tries to kiss her again, she once again pulls away. As they wander the estate, one of the female workers, Buz Dietrick, flirts with John. Back at the house, Martha spirits Elizabeth away to a lunch with Andre, who is quite comfortable with the idea of an arranged marriage. Meeting with the local association of grape growers, John tells them that he will make them rich by selling their grapes to a syndicate in Chicago. Some of the traditional growers insist on gaining Philippe's approval first. Ignoring them, John leaves for Chicago to meet with the syndicate &mdash; soon after, thugs arrive in the Napa Valley and force the growers to sign contracts. When John returns to Napa months later, the growers, now grown rich from John's arrangement with the Chicago syndicate, welcome him warmly. John meets the growers at a nightclub, where he finds Buz sitting with her boyfriend, Luigi Griffanti. They all watch Elizabeth and Andre  dance. John once again romances Elizabeth, who, hoping to dissuade his interest, reveals to him that her father had sent her away from England because she had been involved in a torrid love affair with a cruel man, and she now desires a safe marriage with Andre. A jealous John accuses her of \"prostituting\" herself for real estate, and she slaps him. John then turns to Buz for comfort, convincing her to leave Luigi and drive off with him. Later, Andre drives Elizabeth home, where he confesses that he is growing to love her. Inside, Martha, aware of Elizabeth's ambivalent feelings over John, confronts her about her past, urging her to marry Andre before he realizes he is getting \"damaged goods.\" John returns home and tells his mother he will leave the next day for Chicago. The next day Elizabeth, having had a change of heart, races off to see John before his train leaves &mdash; she finds him at the station and tells him she loves him. Thrilled, John insists that she wait for his return. A few months later, a pregnant Buz shows up at the estate to inform Phillipe that the baby is John's &mdash; Buz and her father blackmail Philippe. Elizabeth, nearby, hears all, and collapses with grief. Martha directs Buz to tell Luigi the baby is his. Buz and Luigi soon marry, but she fights with both him and his mother when they want to name the baby Cesare, and she wants to name the baby ... John. Months pass. Martha tries to convince an impatient Andre to wait for Elizabeth to set a wedding date. When John finally returns to Napa Valley, Elizabeth is up in the mountain orchard with Philippe, listening to him explain that this is sacred ground to him, as it was his first plot of land, and his beloved wife is buried here. At the estate, Martha greets John coldly and warns him that he must now conduct business through her, because Philippe is ill. After successfully persuading Martha that they can make millions by selling the Rambeau grapes to the Chicago syndicate, John drives to the mountain orchard. There, Philippe, horrified by John's shady dealings, commands him to leave, as does Elizabeth, who tells him she knows the truth about Buz's baby. Protesting that he can prove that Buz has lied, John races away, accidentally throwing a lit cigarette into the parched fields, starting a blaze. By the time the fire is noticed, it is too late, and the out-of-control wildfire destroys most of the mountain orchard. Unaware of the fire, John rushes to Buz's house, where mother-in-law Griffanti, upon hearing John's name, figures out that John is her grandson's actual father. As Buz agrees that she will tell Elizabeth that the baby is not John's, Luigi, at his mother's urging, attacks John in a jealous rage. John manages to get away, but Luigi pulls out a gun and shoots him. At the hospital, John is diagnosed with temporary partial paralysis &mdash; when Elizabeth visits to beg his forgiveness, he turns away from her bitterly. Soon, he is able to walk with crutches, and returns home, where he tells his uncle Francis and mother Charlotte that he knows about their affair, which resulted in his birth. John takes the blame for the orchard fire &mdash; in return, he forgives the two of them for their deceit, and asks for their forgiveness in exchange. Months later, Philippe dies, and matriarch Martha gathers the family together for the reading of the will. To Martha's shock and dismay, Philippe has divided the estate equally between his children and grandchildren &mdash; he also leaves the mountain orchard to John, the valley vineyards to the still-unmarried Elizabeth, and nothing to Martha. Although Martha is greatly pained by what she sees as an injustice, both she and her husband Francis realize that now she will finally be more interested in her husband and her marriage, instead of the family business. Within a few weeks, John has restored his mountain orchard to health. One day, Elizabeth joins him with a gift: a grape vine cutting from her valley vineyard. They graft the valley cutting onto a mountain vine, talk about the melding of \"valley sweetness\" with \"mountain strength\", and, finally, fall into each other's arms, declaring their love for each other.\n",
            "Recommended film has ID 32\n",
            "Its categories are ['\"Drama\",  \"Filipino Movies\"']\n",
            "Its summary is: Thelma , together with her husband Dado  and teenage sons Gerald  and Yuri , are an urban poor family hired by a local foster care facility to provide temporary home and care to abandoned babies pending the latter's formal adoption. The inevitable separation is heart-rending for the foster family. Thelma's foster child John-John  is to be turned over to his adoptive American parents. Every moment with the 3-year-old John-John becomes more precious as Thelma goes through the day fulfilling her motherly duties for the last time—bathing John-John, feeding him, and bringing him to school where the boy participates in a school presentation.\n",
            "Recommended film has ID 134\n",
            "Its categories are ['\"Short Film\",  \"Family Film\",  \"Comedy film\",  \"Animation\"']\n",
            "Its summary is:   For many years, there was a good and wise king, who ruled with peace and compassion in every corner of town. The people of London prospered and were very happy. However, the good king fell ill, and his captain of the guard, Pete plundered and terrorized all of England, and worst of all, he did it in the name of the king. Until one day... Mickey, Goofy and Pluto, are three beggars trying to get money for some food. Mickey and Pluto try selling firewood for the winter, while Goofy sells flavored snow, but they are all unsuccessful. After singing a song expressing their dreams of \"living like a king\", Captain Pete's carriage passes, having stolen much food from the people of London, and burying the three heroes in the snow. The hungry Pluto sees a sausage stand out from the carriage and begins to chase, pursuing it into the castle of the king. Mickey knocks on the door to get his dog back, and one of the soldiers opens the door and lets him in, mistaking him for the prince. Pete scolds the soldier for letting anyone in, pointing out where the real prince is: taking his classes with his boring teacher, Horace Horsecollar. The teacher teaches the prince about trigonometry, while the latter looks out the window at the children playing in the snow. The prince, being discovered by his teacher, is mocked by his valet, Donald. The prince plays at provoking Donald, while the teacher is distracted while writing on the blackboard, to the point that Donald hits, unwittingly, the teacher, resulting in the teacher sending Donald out of the room, returning both to their boring studies. But the Prince soon hears a commotion outside: it is Captain Pete, who is roughly handling Mickey and Pluto. The prince orders them to be brought to him right away. Pete kicks Mickey through the door, and kicks Pluto out of the castle. Mickey, astonished to be in the king's palace, inadvertently knocks over many suits of armor, with one of the helmets falling on both his and the approaching Prince's heads. The two Mickeys are surprised to see that they are entirely alike in appearance. The prince tells the beggar that he is bored with his life: getting up early, studying all day, with every night parties and banquets and then go to bed early. So, when looking at the two in the mirror and realize that they can exchange a costume and take the role of the other, the prince reassures the beggar saying that to rule that requires only two things: \"What a splendid idea, good thing I thought of it!\" and \"Guards, seize him!\", and if there are any problems, everyone will recognize the true prince with his real ring. The prince, disguised as a beggar, down the window, fooling the Captain Pete, who believes he is the beggar. Pete throws the \"beggar\" out with a catapult. The prince meets Mickey's friend Goofy and Pluto, but does not recognise them at all. Meanwhile, Mickey is challenged with the prince's studies, such as chemistry, where the formula explodes in Donald's face, and falconry, where he is chased by the falcon. While the prince is trying to make a dog play with him by throwing a bone, all that does is make a group of dogs chase him in anger. After getting away, the prince sees a couple of soldiers trying to steal a chicken from Clarabelle Cow and her two children, saying it is for the king. But the prince in disguise orders them to return the chicken. The soldiers throw a pumpkin over him for a crown and leave, not believing he is the true prince. Children help him get up and explain that for years the soldiers take away their food and belongings in the name of the king. But a carriage, which carries food stolen from the village, goes by, and the prince stops it, showing the real ring. All bow to the Prince as he returns their food. But the soldiers, who had been called by the man driving the carriage, try to stop the prince, accusing him of fraud. The prince escapes with a little help from the other commoners, especially Goofy. Meanwhile in the castle, one of the soldiers tells Pete that one of the beggars had the royal ring. Pete is alarmed knowing then that the prince was cast out, and may see the corruption and theft going on outside. The soldier mocks Pete saying that he  is going to be punished dearly for it, but Pete answers that he won't if the prince never returns. The beggar, dressed as the prince, is called by Horace Horsecollar and told that he must see his \"father\", who is now dying. Mickey enters the room of the dying king, but does not have the heart to tell him that he is not the real prince. Instead, as the sick king tells him he must take his royal birthright and become king, he sadly promises. Shortly afterwards, the king dies. Mickey knows the true prince must be found as quickly as possible, but Captain Pete arrives behind him, and threatens Mickey to be crowned king at his orders, revealing that he had captured Mickey's dog Pluto as a hostage. Meanwhile, the true prince hears the bells announcing the death of his beloved father. Knowing that he should be king, the Prince decides to return immediately to the palace. But Pete appears and manages to capture him and puts him into the jail along with Donald, while the coronation begins. The beggar does not want to be king, but behind the curtain Pete is strangling Pluto. The prince orders the guard to let them leave, but he refuses to obey. A dark figure walks up the stairs: a hooded man armed with an axe. The guard believes the man is the executioner, but the man trips and accidentally knocks out the guard. Then he removes the hood: it is Goofy. Goofy tries to figure out which key opens the cell while the other soldiers arrive. In a panic, Donald finds the key for the cell, and the three flee to the coronation chamber. The beggar, struggling not to be crowned, finally stops the archbishop, and orders the guards to arrest Pete. But Pete defends himself by pointing to the beggar as an impostor. The Prince arrives in time before they kill the beggar and makes his entrance. The Prince and Captain Pete duel as many other soldiers are defeated by Goofy's clumsiness and Donald's cowardice. Finally, the Prince cuts Captain Pete's trousers loose, causing them to fall down and reveal Pete's underpants: a frilly, lacy pair of white panties with red heart prints. Pete tries to hold his trousers up during his attempt to escape from a large chandelier that has fallen and entangled some soldiers, but is tripped up by Mickey and the Prince, causing him to fall down. With his trousers down and his ruffled panties fully displayed, Captain Pete becomes entangled with the soldiers in the fallen chandelier that ends up rolling out of a large glass window and dropping down out onto the streets below to death. Mickey and the Prince then cheer because of their successful collaboration in defeating Captain Pete. The archbishop is confused and does not know who to crown, until Pluto recognizes the beggar, and the Prince shows his ring. The Prince is crowned King of England, and with Mickey and Goofy at his side, rules for many years with justice and compassion for all.\n"
          ]
        }
      ]
    },
    {
      "cell_type": "code",
      "source": [
        "id = 2730\n",
        "films = content_recommender(id, 7, corpus_tf_idf_2)\n",
        "print(\"Film to find recommendations has ID {}\".format(id))\n",
        "print(\"Its categories are {}\".format(categories[id]))\n",
        "print(\"Its summary is: {}\".format(summaries[id][0]))\n",
        "for film in films:\n",
        "  print(\"Recommended film has ID {}\".format(film))\n",
        "  print(\"Its categories are {}\".format(categories[film]))\n",
        "  print(\"Its summary is: {}\".format(summaries[film][0]))"
      ],
      "metadata": {
        "colab": {
          "base_uri": "https://localhost:8080/"
        },
        "id": "aEemKk-Kxwbs",
        "outputId": "66837b4e-7ad9-44e1-d379-8e6e37da1a5f"
      },
      "execution_count": 144,
      "outputs": [
        {
          "output_type": "stream",
          "name": "stdout",
          "text": [
            "Film to find recommendations has ID 2730\n",
            "Its categories are ['\"Zombie Film\",  \"B-movie\",  \"Horror\",  \"Slasher\"']\n",
            "Its summary is: The Dead Pit opens with Dr. Ramzi , a deviant who enjoys torturing his patients, being killed and buried in the basement of a mental health facility. Twenty years later, the hospital is running again and Jane Doe  arrives at the institute. Upon her arrival, a major earthquake rocks the building and unearths the now undead Dr. Ramzi and his legion of zombie patients.\n",
            "Recommended film has ID 2759\n",
            "Its categories are ['\"Thriller\",  \"Science Fiction\",  \"Fantasy\"']\n",
            "Its summary is: In 1983, deep within the mysterious Arboria Institute, a beautiful girl  is held captive by a scientist, Dr. Barry Nyle ([[Michael Rogers . Her mind is controlled by a sinister technology . Speechlessly, she waits for her next session with the deranged Dr. Nyle. She escapes her cell under the watchful eye of Dr. Nyle peering through video monitors. She journeys through the darkest reaches of the Institute but Nyle wonʼt easily part with his most gifted and dangerous creation.\n",
            "Recommended film has ID 3766\n",
            "Its categories are ['\"Short Film\",  \"Comedy\"']\n",
            "Its summary is: Fields plays a dentist whose daughter desires to marry an ice-delivery man. He disapproves of this match, especially after she attempts to elope with her lover. Fields locks her up in an upstairs room, above his dental office, where she proceeds to stamp her feet, causing plaster chunks to fall as he attempts to treat his patients. Various patients with unusual physical traits  arrive at the office, and he attempts to use his dental drill on them without any apparent pain killer. With one of his patients , he engages in an intimate wrestling match as he attempts to extract a painful tooth.\n",
            "Recommended film has ID 179\n",
            "Its categories are ['\"Parody\",  \"Science Fiction\",  \"Comedy\"']\n",
            "Its summary is: Plagued by malpractice lawyers, bureaucratic health insurance companies, uninsured patients, and stressed out doctors, the health care system is on the verge of a total breakdown. As a cost-cutting measure at its hospitals, R.I.P Healthcare has developed the perfect android doctor, MD 63 . RoboDoc’s success would bring flawless, affordable health care to all. However, a malpractice lawyer begins to look at RoboDoc a different way. If he can't make a mistake, then there will be no malpractice happening and no one would get sued. So now, he tries to destroy RoboDoc for all its worth.\n",
            "Recommended film has ID 456\n",
            "Its categories are ['\"Romantic comedy\",  \"Comedy\",  \"Slapstick\"']\n",
            "Its summary is: Christopher Pride wants to marry his girlfriend, Dr. Elizabeth Acord. However, she is too involved with her patients and she doesn't think that she would be able to leave them to live in Paris for a year. Pride decides to solve her patients' problems after finding out that most of them are merely despondent after having relationships go bad. Therefore, he decides to \"date\" these women, without Acord's knowledge, and give them back their self-esteem so that they will be less dependent on their doctor. The film comes to a climax when all the women, including the psychiatrist, assemble at a party with Pride present. He quickly switches from one character to the next depending on which woman is present.\n",
            "Recommended film has ID 3838\n",
            "Its categories are ['\"Horror\"']\n",
            "Its summary is: The death is the beginning, all the humanity left, when the night begins, comes the undead. A simple Mosquito bite infected with a virus has spread death, from the humid rain forest. The virus came to civilization, with a mortality rate of one hundred percentAwakening: Zombie Night 2 Movie - MoviesOnline!. Always on the lookout for new victims, the Lethal Mosquito virus is forgotten. The time of the human race is running outReview of Awakening: Zombie Night 2 - quietearth.us.\n",
            "Recommended film has ID 566\n",
            "Its categories are ['\"Thriller\",  \"Science Fiction\",  \"Horror\"']\n",
            "Its summary is:  The film starts with Richland , who was sent to visit a government facility on a remote island. He follows Peniston  into the facility. The head scientist Dr.Bishop  shows them the projects he is working on, including a shark and dolphin hybrid with the ability to adapt to any environment, as well as a human and shark hybrid . It breaks free from its tank and kills Dr. Bishop. Richland orders Peniston to kill it, but Peniston instead traps the Creature in a containment unit and dumps it in the sea. 25 years later... Dr. Chase , a marine biologist, and his assistant, Tall Man , find a pregnant female Great White Shark trapped in Ben Mediera's  nets. Dr. Chase sets it free. Meanwhile, a local fisherman, Puckett , retrieves the containment unit and accidentally releases the creature. Mediera is later eaten by the creature. Dr. Chase & Tall Man meet Dr. Macy , her sea lion named Robin, and Dr. Chase's son, Max , at the airport. As Dr. Chase & Dr. Macy prepare to out on the ocean, Max goes into town. He meets the native kids including Elizabeth , the chief's daughter. The local boys tell him he'll have to take the test of bravery and jump from a tall cliff. Mediera's body is found and police Chief Gibson asks Dr. Chase to inspect the body. Chase says even though there is a great white out there it is not the culprit and tells the chief not to let people go after the innocent shark. Dr. Chase and Dr. Macy leave and prepare to go out and find the real culprit. Tall Man arrives, escorted by his girlfriend, Tauna . Peniston, who has gone crazy and is called 'Werewolf' by the locals, sees the empty containment unit after Puckett brings it ashore. He realizes Mediera was not killed by a shark. Dr. Chase and Dr. Macy are unable to find the Creature and return to Dr. Chase's headquarters . Dr. Macy reveals Dr. Chase studies why sharks do not get cancer, which his best friend died from. Meanwhile the kids take turns jumping of the cliff, unaware the creature is lurking right below them. Max and another boy jump in. The creature devours the other boy, but Max escapes. When the boy's body is found, the chief is furious and, no longer listening to Dr. Chase, orders all the fisherman to hunt for the great white. Dr.Chase, Dr. Macy, Max and Tall Man search for the Creature again; this time with success. The creature attacks their boat, but they escape. By this time, Puckett has killed the great white and the islanders celebrate, believing the danger is past. Dr. Chase tells the chief that they are not safe and that he has seen the Creature. However, the chief refuses to believe him. They do research at Dr. Chase's headquarters, and are soon put into contact with Richland. Richland tells Dr. Chase not to do anything until he arrives. Dr. Chase argues that more people could die if they do not take action but Richland does not care. Richland and a troop of NAVY SEALs board a helicopter and set off for the island. Dr. Chase ignores Richland's warning and goes back out into his boat. Peniston uses a horn to attract the creature, which is attracted to noise. The creature attacks him, but Dr. Chase and friends save him. They bring him back to their headquarters. The next day Dr. Chase discovers clawmarks on his boat . Later, Peniston shows them a secret tunnel leading to the actual research facility. Meanwhile, Richland and the SEALs approach the island in their helicopter. Dr. Chase and Dr. Macy go down the tunnel and discover it to be half flooded, most likely connected to the ocean. They also discover equipment and notes. They find some of Puckett's traps and wonder how they got there. By the time they realize who brought them, it is too late: the creature ambushes them. They run and the creature gives pursuit, but is only able to go so far until it can't catch up because its arms and legs are short and weak out of water. It stops and evolves its arms and legs until they are like that of a human. The creature resumes chase. The doctor and her friends manage to escape and reseal the tunnel blocking the creature. They leave the research facility by boat. The creature attacks them when they reach the dock. It is about to kill Max, but then lets him live. Dr. Macy goes to the town doctor and says that she has claw wounds. Dr. Chase discusses the encounter with Chief Gibson, but he still refuses to believe. They decide to send Max back to the States. Elizabeth stops him and says that she can't find her cousin. Elizabeth claims the only place she could be is at the old rum factory . They then leave to find it. Puckett goes diving and is killed by the creature. Dr. Chase, Dr. Macy, and Peniston return to headquarters only to be ambushed by Richland and his thugs. He sends a few of his cronies to explore the tunnels. Meanwhile, Max & Elizabeth find the old rum factory out in the swamp. They enter, but don't find her cousin, only Tauna. They head outside to look in the swamp when suddenly a man's head floats to the surface. Max recognizes it as Puckett's. They run away, but the creature jumps out of a tree and chases them. Dr. Chase examines the stuff in the tunnel but Richland destroys it and threatens Chase. The kids make it to Tauna's house and hide and contact Dr. Chase. Before he can make it back, the creature attacks the house. When he arrives, he finds the house in ruins and believes the children are dead, but they come out of their hiding places. Chief Gibons soon arrives and Elizabeth tells him that the creature exists. He finally accepts the beast's existence. The Chief and Richland lead a hunt for the creature in the swamp. Dr. Chase goes with them and exposes Richland as one of the people present at the original event. He says how Richland's cover-up put people at risk. Richland threatens to kill him, but the Chief stops him. The creature attacks and kills Richland's men. The Chief falls into the water. But instead of saving him, Richland just watches hoping the creature will attack the Chief so he can kill it and finally settle his the score. Dr. Chase rescues the Chief. The creature obliterates the bridge where Richland is standing. He falls into the water where the creature eats him. Dr. Chase and the Chief escape and make it back to town the next day. There the chief is reunited with Elizabeth and finally understands and accepts Dr. Chase as a good man. Dr. Chase, Tall Man, Max, and Dr. Macy return to headquarters where Peniston is waiting. Dr. Macy realizes he was there. She angrily asks him why he did not kill the creature. Peniston replies that it was because they used his blood to help create it and that the creature is a part of him. They use Robin with a camera attached to her back to locate the creature. It locates the beast's lair, but before they can retrieve her, the creature attacks and the camera goes blank. Tall Man & Peniston enter the tunnel shortly after. Tall Man shoots at the creature but Peniston interferes. The creature injures Tall Man. Dr. Chase arrives and helps Tall Man escape, but are pursued by the creature. The creature quickly gains the upper hand and almost kills Chase. Max uses Peniston's sound device to destract the creature. It attacks him, but he uses a zipline to escape. Peniston takes the sound device and lures the creature into the pressure chamber. Dr. Chase locks them in and activates it, building greater and greater pressure. The creature kills Peniston. Chase allows the pressure to build up very high then smashes the window causing all the air to come out. This causes explosive decompression and the creature explodes, finally killing it. Later, the survivors walk into the sun set ready to board the boat, presumably to go back to town and never return to the island.\n",
            "Recommended film has ID 216\n",
            "Its categories are ['\"Action/Adventure\",  \"Zombie Film\",  \"Western\",  \"Horror\",  \"Science fiction Western\"']\n",
            "Its summary is: In the present, a plague breaks out and the infected have been transformed into zombies. The action starts 80 years after the initial outbreak. The western United States has devolved into a disconnected series of ghost towns overrun by zombies such as the Toar Zombie and the Little Girl Zombie, and the government is awarding bounties in exchange for the pinkies of the undead. Ryn survives and follows Remington with the aid of Hans Tubman , a foreigner who double crossed him, in order to retrieve the sack of pinkies he had earlier collected when the movie began.\n"
          ]
        }
      ]
    },
    {
      "cell_type": "markdown",
      "source": [
        "Αν και δεν είναι όλες οι συστάσεις ορθές, ένα ικανοποιητικό ποσοστό από αυτές φαίνεται να είναι κοντά στις αρχικές ταινίες και ο recommender μας δουλεύει αρκετά καλά. Στη συνέχεια θα προσπαθήσουμε να μειώσουμε ακόμα περισσότερο τις διαστάσεις των χαρακτηριστικών ώστε να δούμε αν η επίδοση του θα βελτιωθεί ή αν θα έχουμε περισσότερες λανθασμένες προτάσεις."
      ],
      "metadata": {
        "id": "7NHM2NpvydRz"
      }
    },
    {
      "cell_type": "code",
      "source": [
        "vectorizer = TfidfVectorizer(max_df=200, min_df=4, max_features=5000)\n",
        "vectorizer.fit(corpus_updated)\n",
        "corpus_tf_idf_3 = vectorizer.transform(corpus_updated)\n",
        "print(corpus_tf_idf_3.shape)"
      ],
      "metadata": {
        "colab": {
          "base_uri": "https://localhost:8080/"
        },
        "id": "FcGVSv1MzFDD",
        "outputId": "d33764db-9ad4-4fc9-cccb-2cac9462d0d5"
      },
      "execution_count": 145,
      "outputs": [
        {
          "output_type": "stream",
          "name": "stdout",
          "text": [
            "(5000, 5000)\n"
          ]
        }
      ]
    },
    {
      "cell_type": "code",
      "source": [
        "id = 2311\n",
        "films = content_recommender(id, 7, corpus_tf_idf_3)\n",
        "print(\"Film to find recommendations has ID {}\".format(id))\n",
        "print(\"Its categories are {}\".format(categories[id]))\n",
        "print(\"Its summary is: {}\".format(summaries[id][0]))\n",
        "for film in films:\n",
        "  print(\"Recommended film has ID {}\".format(film))\n",
        "  print(\"Its categories are {}\".format(categories[film]))\n",
        "  print(\"Its summary is: {}\".format(summaries[film][0]))"
      ],
      "metadata": {
        "colab": {
          "base_uri": "https://localhost:8080/"
        },
        "id": "01mmr5_rzKtE",
        "outputId": "569e11f3-efda-4c10-c471-c1eff67c3b0f"
      },
      "execution_count": 147,
      "outputs": [
        {
          "output_type": "stream",
          "name": "stdout",
          "text": [
            "Film to find recommendations has ID 2311\n",
            "Its categories are ['\"Culture & Society\",  \"Indie\",  \"History\",  \"Drama\",  \"Comedy\",  \"Political cinema\",  \"Social issues\",  \"Documentary\"']\n",
            "Its summary is: According to Sicko, almost fifty million Americans are uninsured while the remainder, who are covered, are often victims of insurance company fraud and red tape. Interviews are conducted with people who thought they had adequate coverage but were denied care. Former employees of insurance companies describe cost-cutting initiatives that give bonuses to insurance company physicians and others to find reasons for the company to avoid meeting the cost of medically necessary treatments for policy holders, and thus increase company profitability. In Canada, Moore describes the case of Tommy Douglas, who was voted the greatest Canadian in 2004 for his contributions to the Canadian health system. Moore also interviews a microsurgeon and people waiting in the emergency room of a Canadian public hospital. Against the backdrop of the history of the American health care debate, opponents of universal health care are set in the context of 1950s-style anti-communist propaganda. A 1960s record distributed by the American Medical Association, narrated by Ronald Reagan, warns that universal health care could lead to lost freedoms and socialism. In response, Moore shows that socialized public services like police, fire service, the United States Postal Service, public education and community libraries have not led to communism in the United States. The origins of the Health Maintenance Organization Act of 1973 are presented using a taped conversation between John Ehrlichman and President Richard Nixon on February 17, 1971; Ehrlichman is heard telling Nixon that \"...the less care they give them, the more money they make\", a plan that Nixon remarked \"fine\" and \"not bad\". This led to the expansion of the modern health maintenance organization-based health care system. Connections are highlighted between Pharmaceutical Research and Manufacturers of America , the lobbying arm of the largest drug companies in the United States, lobbying groups in Washington D.C., and the Congress. Hillary Clinton, a champion of the Clinton health care plan, is shown as a crusader for change, appointed to reform the health care system in the United States by her husband, newly elected President Bill Clinton. Her efforts are met with heavy-handed criticisms by Republicans on Capitol Hill, and right-wing media throughout the country, who characterize her plan as the harbinger of socialism. When she is defeated, her punishment is to \"never speak of it again while in the White House.\" Seven years later, her silence is rewarded, as she becomes a Senator for the State of New York, a victory made possible in part by money from the health care industry; she is second only to Rick Santorum as the Senate's highest recipient of health care industry campaign donations. In the United Kingdom, a country whose National Health Service is a comprehensive publicly funded health care system, Moore interviews patients and inquires about in-hospital expenses incurred by patients, only to be told that there are no out-of-pocket payments. Moore visits a typical UK pharmacy, where pharmaceuticals are free of charge for persons under 16 or over 60, and subsidized in most cases for everyone else; only a fixed amount of £6.65  per item on a prescription was charged, irrespective of cost to the NHS. Further, NHS hospitals employ a cashier, part of whose job is to reimburse low-income patients for their out-of-pocket travel costs to the hospital. Interviews include an NHS general practitioner, an American woman residing in London, and Tony Benn. In France, Moore visits a hospital and interviews the head of obstetrics and gynaecology and a group of American expatriates. Moore rides with the \"SOS Médecins\", a 24-hour French medical service that provides house calls by physicians. Providing only their names and birth dates, the volunteers are hospitalized and receive medical attention. Before they leave, the 9/11 rescue workers are honored by a local Havana fire station. Finally, Moore addresses the audience, emphasizing that people should be \"taking care of each other, no matter the differences\". To demonstrate his personal commitment to this theme, Moore decides to help one of his biggest critics, Jim Kenefick. According to a blog posting, Kenefick feared he would have to shut down his anti-Moore website because he needed US $12,000 to cover the costs of medical treatment for his sick wife. Not wanting the U.S. health care system to trump Kenefick's ability to express his opinion, Moore sends Kenefick the money \"anonymously\". This film ends with Moore walking towards the United States Capitol with a basket full of his clothes, sarcastically saying he will get the government to do his laundry until a better day comes for the sick and hopeless who are unable to receive health care.\n",
            "Recommended film has ID 179\n",
            "Its categories are ['\"Parody\",  \"Science Fiction\",  \"Comedy\"']\n",
            "Its summary is: Plagued by malpractice lawyers, bureaucratic health insurance companies, uninsured patients, and stressed out doctors, the health care system is on the verge of a total breakdown. As a cost-cutting measure at its hospitals, R.I.P Healthcare has developed the perfect android doctor, MD 63 . RoboDoc’s success would bring flawless, affordable health care to all. However, a malpractice lawyer begins to look at RoboDoc a different way. If he can't make a mistake, then there will be no malpractice happening and no one would get sued. So now, he tries to destroy RoboDoc for all its worth.\n",
            "Recommended film has ID 4341\n",
            "Its categories are ['\"Documentary\"']\n",
            "Its summary is: Alan Moore presents the story of his development as an artist, starting with his childhood and working through to his comics career and impact on that medium, and his emerging interest in magic. The film features the first film adaptations of scenes from Moore's acclaimed series V for Vendetta and Watchmen, shot in early 2002. Another key scene features a direct reference to the character of John Constantine from the comic book Hellblazer.\n",
            "Recommended film has ID 911\n",
            "Its categories are ['\"Crime Fiction\",  \"Mystery\",  \"Thriller\",  \"Drama\",  \"Crime Thriller\"']\n",
            "Its summary is: Chief Warrant Officer Four Paul Brenner , a Vietnam Veteran of the 196th LIB, is in Georgia masquerading as First Sergeant Frank White at a local army base, to broker an illegal arms trade with a self-proclaimed freedom fighter. Part of the disguise of his character is speaking with a strong Southern accent. While on the base, his car gets a flat tire. He is on the side of the road trying to remove the wheel nuts with a small pair of pliers and not having much success when a pretty young officer arrives and helps him change the spare with her cross brace . The officer is Captain Elizabeth Campbell , the base commanding general's daughter and army captain in psychological operations. The next day Brenner calls in to see her with a basket full of chocolates and bath soaps as a thank you to her for her help. Both times he is in contact with her he is keeping up the pretence with the Southern drawl. Elisabeth is at first warm to him but after a few minutes of conversation she becomes cool and distant, saying she has a lot of work to get through. The next evening, she is found murdered. Brenner and another warrant officer, Sara Sunhill  are brought in to investigate, as both are part of the U.S. Army Criminal Investigation Command. At the scene, the base Provost Marshal, Colonel William Kent  and several of his military police have secured the area. Captain Campbell's nude body has been staked down with tent poles, strangled, and presumably raped. Colonel Kent has 2,000 military police that he is in charge of at the base and is considered both the police chief and the staff officer who advises Captain Campbell's father, Lieutenant General Joe Campbell , on all military police matters. They search Elisabeth's home off base and find it typical of a career Army officer, with one exception: through a false door in the basement, they find what appears to be a sexual dungeon of sorts, with handcuffs, harnesses, and a camera connected to a VCR. Sunhill goes to their car to make a call from her cell phone, and while Brenner gathers the tapes, he is attacked by a masked figure armed with a steel snow shovel. The culprit manages to disorient Brenner long enough to steal the videotapes. Brenner questions Elisabeth's close confidante, Colonel Robert Moore , who also works in psy ops. Though cordial and somewhat cooperative, Moore is evasive when questioned, and gives an alibi of being in bed asleep at the time of the murder. However, this proves false when Moore's fingerprints are found on Elisabeth's dog tags that were found in a plastic trash bag several yards from her body, along with her clothing. Brenner arrests Moore on charges of conduct unbecoming an officer and takes him to jail. Moore is later released by the officer in charge of the jail and restricted to house arrest. Brenner, Sunhill, and Colonel William Kent, return to Moore's home and find Moore dead on his couch with an apparent self-inflicted gunshot wound to his forehead. The General's adjutant, Colonel George Fowler , attempts to close the investigation at the crime scene, stating that Moore killed himself out of guilt because he killed Elisabeth. Brenner states he intends to keep the case open and much tension is seen between them. Further cover-ups are revealed, and it's later learned that Elisabeth was sexually promiscuous with virtually all the officers that made up her father's staff. It's also revealed that Elisabeth was an honor student at West Point until her sophomore year and barely managed to graduate. Brenner and Sunhill visit Colonel Dr. Donald Slesinger ([[John Beasley , the academy's psychiatrist, who explains that Captain Campbell had been gang raped by fellow trainees while a cadet at West Point. During a large training exercise of around 1000 personnel, she had found herself separated from her group and was jumped by six male cadets, beaten and raped all night, almost to the point of death and left to die in an isolated area . Luckily, another trainee group which had got lost, found Elisabeth and rescued her. Elisabeth never knew the names of her assailants, but Sunhill tracks down one of the attackers and engineers a confession by telling him the advances in DNA technology mean his 'gene prints' are traceable. She pretends that the bloodstained underwear she shows the soldier is the genuine article. The agents pay a visit to the general, who corroborates the story. Fearing that the assailants would never be caught, Campbell acted upon the advice of another general and decided to cover up the incident since such a scandal would destroy the academy, not to mention his own ambitions to become Vice President of the United States. This denial of justice severely traumatized Elisabeth, causing her to partake in various violent sexual activities. Campbell reveals that he did encounter his daughter the night of her murder, and that Elisabeth herself, with the aid of Moore, staged the reenactment of the academy incident in an attempt to force her father to face the truth he covered up. Unmoved, Campbell left his daughter tied to the stakes. Realizing that Kent is the only suspect left, Brenner decides to question him. He calls Sunhill but learns that she was returning to the murder scene...with Kent, who also wants to see Brenner. Brenner arrives and confronts Kent, who admits that he killed Elisabeth after she rejected him and threatened to tell his family about the affair. Kent then commits suicide with an anti-personnel mine. Parallel to these events, Brenner and Sunhill manage to invalidate Campbell's reasons for the cover up by swiftly discovering and arresting all of his daughter's assailants . As Campbell prepares to get on the plane to accompany Elizabeth's body to the funeral, he is confronted by Brenner, who lays the burden of his daughter's death on the general; disgusted, he tells Campbell that his betrayal of Elisabeth was what really killed her and that Kent had just put her out of her misery. He then tells Campbell he will be court-martialled for conspiracy to conceal a crime, thus destroying the general's career. The film ends with a montage of Elizabeth's happy childhood and Brenner and Sunhill departing in opposite directions and an admiring glance by Sunhill at the departing Brenner. A written epilogue explains that Campbell is found guilty for the crime and courtmartialed, soon after disappearing from public life.\n",
            "Recommended film has ID 2271\n",
            "Its categories are ['\"Silent film\"']\n",
            "Its summary is: Thea  is sculptress who is diagnosed with phthisis before she marries Filippo . After abandoning him, her health begins to decline. She organises a final party, inviting along her estranged husband. He fails to show, as he's now married to another woman. Thea appears naked in front of her guests, before she kills herself.\n",
            "Recommended film has ID 1790\n",
            "Its categories are ['\"Period piece\",  \"Biography\",  \"Drama\",  \"Political drama\",  \"Biopic [feature]\"']\n",
            "Its summary is: The film is non-linear, framed by scenes of Nixon listening to his secret recordings towards the end of his presidency as the Watergate crisis intensifies. As such, it covers all aspects of Nixon's life as a composite of actual events, usually in the form of memories triggered by the recordings or newsreel-style summaries. It depicts his childhood in Whittier, California, as well as his growth as a young man, football fan and player, and suitor to his eventual wife, Pat Ryan. It explores most of the important events of his presidency, including his downfall due to abuse of executive power in the White House. The film implies that Nixon and his wife abused alcohol and prescription medication. Nixon's health problems, including his bout of phlebitis and pneumonia during the Watergate crisis, are also shown in the film, and his various medicants are sometimes attributed to these health issues. The movie also hints at some kind of responsibility, real or imagined, that Nixon felt towards the John F. Kennedy assassination through references to \"the Bay of Pigs\", the implication being that the mechanisms set into place for the invasion by Nixon during his term as Dwight D. Eisenhower's vice-president spiraled out of control to culminate in the assassination and, eventually, Watergate. The film ends with Nixon's resignation and famous departure from the lawn of the White House on the helicopter, Army One. Real life footage of Nixon's state funeral in Yorba Linda, California, plays out over the extended end credits, and all living ex-presidents at the time, Gerald Ford, Jimmy Carter, Ronald Reagan, George H. W. Bush, and then-president Bill Clinton, are shown in attendance.\n",
            "Recommended film has ID 4902\n",
            "Its categories are ['\"Romance Film\",  \"Drama\",  \"World cinema\"']\n",
            "Its summary is: The film concerns a female factory worker from Calabria who falls ill on the job and is prescribed a stay at a mountain retreat. She goes despite her husband's wishes, leaving behind her thankless work shift and her frustrating in-laws, but also her three children. The film addresses issues such as the health care system, labor conditions, spousal satisfaction, and class struggle.\n",
            "Recommended film has ID 2730\n",
            "Its categories are ['\"Zombie Film\",  \"B-movie\",  \"Horror\",  \"Slasher\"']\n",
            "Its summary is: The Dead Pit opens with Dr. Ramzi , a deviant who enjoys torturing his patients, being killed and buried in the basement of a mental health facility. Twenty years later, the hospital is running again and Jane Doe  arrives at the institute. Upon her arrival, a major earthquake rocks the building and unearths the now undead Dr. Ramzi and his legion of zombie patients.\n"
          ]
        }
      ]
    },
    {
      "cell_type": "markdown",
      "source": [
        "Με το πολύ μικρό πλήθος χαρακτηριστικών η επίδοση του recommender φαίνεται να έχει πέσει ακόμα περισσότερο. Καταλήγουμε λοιπόν στο συμπέρασμα πως η βέλτιστη επίδοση που μπορούμε να πετύχουμε είναι κοντά σε αυτή που είχαμε με τον προηγούμενο recommender."
      ],
      "metadata": {
        "id": "9RisD4vgzSf8"
      }
    },
    {
      "cell_type": "markdown",
      "metadata": {
        "id": "PSQ2tCs_hbaH"
      },
      "source": [
        "## Βαθιά μάθηση: δημιουργία corpora με χρήση word emmbeddings\n",
        "\n",
        "Η προσέγγιση της κατασκευής μόνο μέσω tfidf του συστήματος συστάσεων έχει διάφορα μειονεκτήματα. Θα μας ενδιέφερε λοιπόν να δούμε αν μπορούμε να χρησιμοποιήσουμε για τις λέξεις **εμφυτεύματα (embeddings)**, δηλαδή τις πυκνές διανυσματικές αναπαραστάσεις για τις λέξεις που μας δίνει το μοντέλο **Word2Vec**\n",
        "\n",
        "Ωστόσο, το dataset της κάθε ομάδας είναι πολύ μικρό για να εξάγουμε τα δικά μας word embeddings (και να είναι καλά). Για το λόγο αυτό θα χρησιμοποιήσουμε τη μεθοδολογία της Βαθιάς Μάθησης που είναι η **Μεταφορά Μάθησης (Transfer Learning).**.\n",
        "\n",
        "Στη μεταφορά μάθησης ουσιαστικά μεταφέρουμε τη γνώση που έχει αποκτήσει ένα ήδη εκπαιδευμένο (και κατά κανόνα πολύ μεγάλο) σύστημα. Η μεταφορά γίνεται διαμέσου των τιμών των βαρών που έχει προσδιορίσει μετά το πέρας της εκπαίδευσης.\n",
        "\n",
        "Στην περίπτωσή μας, δεν μας ενδιαφέρουν τόσο τα ίδια τα βάρη των μοντέλων από τα οποία θα κάνουμε μεταφορά μάθησης. Κάτι τέτοιο θα μας ενδιέφερε αν π.χ. θέλαμε να συνεχίσουμε την εκπαίδευση στα δικά μας κείμενα. Μας ενδιαφέρουν όμως τα ίδια τα εμφυτεύματα, δηλαδή τα embeddings (διανύσματα διαστάσεων $m$) που έχει μάθει το νευρωνικό για το λεξιλόγιο του (vocabulary). To vocabulary σε τέτοια μεγάλα νευρωνικά θα είναι πιθανότατα υπερσύνολο του δικού μας."
      ]
    },
    {
      "cell_type": "markdown",
      "metadata": {
        "id": "6UFGxnb9iknm"
      },
      "source": [
        "### Μεταφορά μάθησης εμφυτευμάτων\n",
        "\n"
      ]
    },
    {
      "cell_type": "markdown",
      "metadata": {
        "id": "G3Z28edwj4wF"
      },
      "source": [
        "#### Εμφυτεύματα του Gensim-data\n",
        "Το Gensim περιλαμβάνει αρκετά προεκπαιδευμένα μοντέλα εμφυτευμάτων Word2Vec. Με το επόμενο κελί παίρνουμε τη λίστα τους."
      ]
    },
    {
      "cell_type": "code",
      "metadata": {
        "id": "UX9ZkHSvi3Mi"
      },
      "source": [
        "!pip install -U gensim\n",
        "import gensim.downloader\n",
        "print(list(gensim.downloader.info()['models'].keys()))"
      ],
      "execution_count": null,
      "outputs": []
    },
    {
      "cell_type": "markdown",
      "metadata": {
        "id": "mS0XEVWUi_0e"
      },
      "source": [
        "Τα μοντέλα αυτά βρίσκονται στο [αποθετήριο Gensim-data](https://github.com/RaRe-Technologies/gensim-data) όπου μπορείτε να βρείτε και την τεκμηρίωσή τους. Η φόρτωση των μοντέλων αυτών γίνεται με τη συνάρτηση `gensim.downloader.load`."
      ]
    },
    {
      "cell_type": "markdown",
      "metadata": {
        "id": "IfNs5fMAkADF"
      },
      "source": [
        "#### Άλλα εμφυτεύμαατα\n",
        "Μπορείτε να βρείτε προεκπαιδευμένα εμφυτεύματα και από πηγές εκτός του Gensim. Για παράδειγμα:\n",
        "\n",
        "- [Google News dataset](https://code.google.com/archive/p/word2vec/). Πρόκειται για προ-εκπαιδευμένα διανύσματα που έχουν εκπαιδευτεί σε μέρος του συνόλου δεδομένων Google News (περίπου 100 δισεκατομμύρια λέξεις). Το μοντέλο περιέχει διανύσματα 300 διαστάσεων για 3 εκατομμύρια λέξεις και φράσεις.\n",
        "- [Amazon BlazingText](https://docs.aws.amazon.com/sagemaker/latest/dg/blazingtext.html). Το BlazingText δεν είναι μόνο προεκπαιδευμένα εμφυτεύματα αλλα και βελτιστοποιημένες υλοποιήσεις των αλγορίθμων Word2vec για την επεξεργασία κειμένου. Προυπόθεση είναι να δουλέψει κανείς στο SageMaker.\n",
        "\n",
        "Οι διαδικασίες φόρτωσης embeddings από εξωτερικά δεδομένα μπορεί να είναι ελαφρά διαφορετικές από αυτή του Gensim.\n",
        "\n"
      ]
    },
    {
      "cell_type": "markdown",
      "metadata": {
        "id": "qkkZE41d_DjX"
      },
      "source": [
        "#### Παρατηρήσεις\n",
        "\n",
        "*   Επαναλαμβάνουμε ότι στην εργασία αυτή δεν μας ενδιαφέρουν τα ίδια τα μοντέλα αλλά το να μπορούμε για μία λέξη του λεξιλογίου μας να μπορούμε να βρούμε το embedding (διάνυσμα) που της αντιστοιχεί στο εκάστοτε προεκπαιδευμένο μοντέλο. \n",
        "\n",
        "*   Επίσης, δεν θα χρησιμοποιήσουμε την `Phrases` για να βρούμε bigrams στο dataset μας όπως θα ήταν το ορθότερο, καθώς αυτό θα απαιτούσε την συνέχιση της εκπαίδευσης του μοντέλου σε νέο λεξιλόγιο με πολύ λίγα νέα δεδομένα.\n"
      ]
    },
    {
      "cell_type": "markdown",
      "metadata": {
        "id": "aF6bQOziqISL"
      },
      "source": [
        " ### Δημιουργία corpora βασισμένων στα εμφυτεύματα\n",
        "\n",
        "Για να μπορέσουμε να ενσωματώσουμε τη γνώση που υπάρχει στα προεκπαιδευμένα εμφυτεύματα στο δικό μας corpus θα προχωρήσουμε όπως περιγράφεται ακολούθως.\n",
        "\n",
        "Για κάθε περιγραφή ταινίας $d$, η οποία αποτελείται από τις $N_d$ λέξεις $w_i$, το  $tfidf$ της κάθε λέξης $w_i$ δίνεται από τη σχέση:\n",
        "\n",
        "$$ tfidf(w_i) = tf(w_i,d) \\cdot idf(w_i)$$\n",
        "\n",
        "Ταυτόχρονα, σε κάθε λέξη $w_i$ αντιστοιχεί ένα διάνυσμα $W2V(w_i)$ από το μοντέλο εμφυτευμάτων που έχουμε εισάγει. Τα διανύσματα εμφυτευμάτων $W2V$ θα έχουν διάσταση $m$, ανάλογα το μοντέλο. \n",
        "\n",
        "Για κάθε ταινία d, μπορούμε να δημιουργήσουμε μια διανυσματική αναπαράσταση $W2V(d)$ διαστάσεων $m$ χρησιμοποιώντας το $tfidf(w_i)$ ως συντελεστή βαρύτητας για κάθε εμφύτευμα $W2V(w_i)$:\n",
        "\n",
        "$$ W2V(d) = \\frac{tfidf(w_1)\\cdot W2V(w_i) + tfidf(w_2)\\cdot W2V(w_2) + \\dotsc  + tfidf(w_{N_{d}})\\cdot W2V(w_{N_{d}})}{tfidf(w_1)+tfidf(w_2)+ \\dotsc + tfidf(w_{N_{d}})}$$\n"
      ]
    },
    {
      "cell_type": "markdown",
      "metadata": {
        "id": "Umbd7mv__be8"
      },
      "source": [
        "#### build_tfw2v\n",
        "\n",
        "Υλοποιήστε μια συνάρτηση `build_tfw2v` με ορίσματα:\n",
        "- `corpus` που θα είναι το προεπεξεργασμένο dataset σας,\n",
        "- `vectors` που θα είναι το μοντέλο που θα σας δίνει τα διανύσματα των εμφυτεύσεων vectors, και \n",
        "- `embeddings_size` που θα είναι η διάσταση των εμφυτευμάτων $m$.\n",
        "\n",
        "H συνάρτηση αυτή θα επιστρέφει ένα νέο corpus που θα είναι ένας πίνακας 5000 (όσες οι ταινίες σας) x $m$ (το η διάσταση των εμφυτευμάτων). Ανάλογα ποιο μοντέλο χρησιμποιείτε για transfer learning ο πίνακας αυτός θα είναι διαφορετικός.\n",
        "\n",
        "Μπορείτε πλεόν να καλείτε την `content_recommender` με διαφορετικά corpora στο όρισμα `corpus_type`. Σημειώστε ότι στο TFidfVectorizer χρησιμοποιουμε τη σειριακή μορφή των numpy arrays και ίσως σας χρησιμεύσει η `sparse.csr_matrix()` από την Scipy."
      ]
    },
    {
      "cell_type": "markdown",
      "metadata": {
        "id": "NPVK7Z5c1p5F"
      },
      "source": [
        "## Ανάλυση αποτελεσμάτων\n",
        "\n",
        "### Σύστημα συστάσεων βασισμένο μόνο στο tfidf\n",
        "\n",
        "- Σε markdown περιγράψτε τι προεπεξεργασία κάνετε στα κείμενα και γιατί.\n",
        "\n",
        "- Περιγράψτε πως προχωρήσατε στις επιλογές σας για τη βελτιστοποίηση της `TfidfVectorizer`. \n",
        "\n",
        "- [Cherry-picking:](https://www.wikiwand.com/en/Cherry_picking) Δώσετε παραδείγματα (IDs) από τη συλλογή σας που επιστρέφουν καλά αποτελέσματα μέχρι `max_recommendations` (τουλάχιστον 5) και σχολιάστε.\n",
        "\n",
        "- [Nir-picking:](https://www.merriam-webster.com/dictionary/nit-picking) Δώστε παραδείγματα (IDs) από τη συλλογή σας που επιστρέφουν κακά αποτελέσματα και σχολιάστε.\n",
        "\n",
        "- Ποια είναι συνολικά τα πλεονεκτήματα και μειονεκτήματα ενός recommender βασισμένου στο tfidf;"
      ]
    },
    {
      "cell_type": "markdown",
      "metadata": {
        "id": "zPBW9WH56I-y"
      },
      "source": [
        "### Σύγκριση και σχολιασμός με recommenders βασισμένων στο Word2Vec\n",
        "\n",
        "- Υλoποιήστε recommenders που βασίζονται σε μεταφορά μάθησης και εμφυτεύματα. Χρησιμοποιήστε παραδείγματα για να υποδείξετε δυνατά και αδύναμα σημεία τους.\n",
        "\n",
        "- Μπορείτε να σχολιάσετε τα recommenders που βασίζονται στο Word2Vec σε σχέση με το απλό μοντέλο tfidf, εξετάζοντας τις συστάσεις για ίδια ID.\n",
        "\n",
        "- Μπορείτε επίσης να εξετάσετε συγκριτικά τα Word2Vec recommenders μεταξύ τους και πάλι βασιζόμενοι σε παραδείγματα.\n",
        "\n",
        "- Οι παρατηρήσεις σας θα βασίζονται στην ανάλυση των ποιοτικών χαρακτηριστικών που είναι η σειρά και το σύνολο των συστάσεων. Ωστόσο, μπορείτε να συμπεριλάβετε και ποσοτικά χαρακτηριστικά όπως τους χρονους loading και συγκρότησης του corpus αλλά και της διαστατικότητας $m$.\n",
        "\n",
        "Χρησιμοποιήστε όποια μορφή reporting κρίνετε καταλληλότερη: κείμενο, πίνακες, διαγράμματα.\n"
      ]
    },
    {
      "cell_type": "markdown",
      "metadata": {
        "id": "zHOQtO83PSy9"
      },
      "source": [
        "# Εφαρμογή 2.  Τοπολογική και σημασιολογική απεικόνιση της ταινιών με χρήση SOM\n",
        "<img src=\"https://i.imgur.com/Z4FdurD.jpg\" width=\"60%\">"
      ]
    },
    {
      "cell_type": "markdown",
      "metadata": {
        "id": "UB_clmizPSy-"
      },
      "source": [
        "## Δημιουργία dataset\n",
        "Στη δεύτερη εφαρμογή θα βασιστούμε στις τοπολογικές ιδιότητες των Self Organizing Maps (SOM) για να φτιάξουμε ενά χάρτη (grid) δύο διαστάσεων όπου θα απεικονίζονται όλες οι ταινίες της συλλογής της ομάδας με τρόπο χωρικά συνεκτικό ως προς το περιεχόμενο και κυρίως το είδος τους (ο παραπάνω χάρτης είναι ενδεικτικός, δεν αντιστοιχεί στο dataset μας). \n",
        "\n",
        "Διαλέξτε για την αναπαράσταση των documents αυτήν που πιστεύετε απέδωσε καλύτερα στο πρώτα σκέλος της άσκησης. Έστω ότι αυτή είναι η `my_best_corpus`.\n",
        "\n",
        "Η έτοιμη συνάρτηση `build_final_set` θα ενώσει την αναπαράσταση που θα της δώσετε ως όρισμα `mycorpus` με τις binarized κατηγορίες `catbins` των ταινιών ως επιπλέον κολόνες (χαρακτηριστικά). Συνεπώς, κάθε ταινία αναπαρίσταται στο Vector Space Model από τα χαρακτηριστικά της αναπαράστασης `mycorpus` και τις κατηγορίες της.\n",
        "\n",
        "Τέλος, η συνάρτηση δέχεται ένα ορισμα για το πόσες ταινίες να επιστρέψει, με default τιμή όλες τις ταινίες (5000). Αυτό είναι χρήσιμο για να μπορείτε αν θέλετε να φτιάχνετε μικρότερα σύνολα δεδομένων ώστε να εκπαιδεύεται ταχύτερα το SOM. \n",
        "\n",
        "Θα τρέχουμε τη συνάρτηση με `final_set = build_final_set(my_best_corpus)`."
      ]
    },
    {
      "cell_type": "code",
      "metadata": {
        "id": "U-FDDOkQPSzA"
      },
      "source": [
        "def build_final_set(mycorpus, doc_limit = 5000, tf_idf_only=False):\n",
        "    # convert sparse tf_idf to dense tf_idf representation\n",
        "    dense_tf_idf = mycorpus.toarray()[0:doc_limit,:]\n",
        "    if tf_idf_only:\n",
        "        # use only tf_idf\n",
        "        final_set = dense_tf_idf\n",
        "    else:\n",
        "        # append the binary categories features horizontaly to the (dense) tf_idf features\n",
        "        final_set = np.hstack((dense_tf_idf, catbins[0:doc_limit,:]))\n",
        "    # η somoclu θέλει δεδομ΄ένα σε float32\n",
        "    return np.array(final_set, dtype=np.float32)"
      ],
      "execution_count": null,
      "outputs": []
    },
    {
      "cell_type": "markdown",
      "metadata": {
        "id": "KjvPPENS_dYL"
      },
      "source": [
        "Στο επόμενο κελί, τυπώνουμε τις διαστάσεις του τελικού dataset μας. **Χωρίς βελτιστοποίηση του TFIDF** θα έχουμε περίπου 50.000 χαρακτηριστικά και ο θα είναι ανέφικτο να προχωρήσουμε στην εκπαίδευση του SOM."
      ]
    },
    {
      "cell_type": "code",
      "metadata": {
        "id": "fvEgNn-L-jEw"
      },
      "source": [
        "final_set.shape"
      ],
      "execution_count": null,
      "outputs": []
    },
    {
      "cell_type": "markdown",
      "metadata": {
        "id": "8tikdip0PSzQ"
      },
      "source": [
        "## Εκπαίδευση χάρτη SOM\n",
        "\n",
        "Θα δουλέψουμε με τη βιβλιοθήκη SOM [\"Somoclu\"](http://somoclu.readthedocs.io/en/stable/index.html). Εισάγουμε τις somoclu και matplotlib και λέμε στη matplotlib να τυπώνει εντός του notebook (κι όχι σε pop up window)."
      ]
    },
    {
      "cell_type": "code",
      "metadata": {
        "id": "oX9rzxGSPSzR"
      },
      "source": [
        "# install somoclu\n",
        "!pip install --upgrade somoclu\n",
        "# import sompoclu, matplotlib\n",
        "import somoclu\n",
        "import matplotlib\n",
        "# we will plot inside the notebook and not in separate window\n",
        "%matplotlib inline"
      ],
      "execution_count": null,
      "outputs": []
    },
    {
      "cell_type": "markdown",
      "metadata": {
        "id": "EqBfn0ijPSzX"
      },
      "source": [
        "Καταρχάς διαβάστε το [function reference](http://somoclu.readthedocs.io/en/stable/reference.html) του somoclu. Θα δoυλέψουμε με χάρτη τύπου planar, παραλληλόγραμμου σχήματος νευρώνων με τυχαία αρχικοποίηση (όλα αυτά είναι default). Μπορείτε να δοκιμάσετε διάφορα μεγέθη χάρτη ωστόσο όσο ο αριθμός των νευρώνων μεγαλώνει, μεγαλώνει και ο χρόνος εκπαίδευσης. Για το training δεν χρειάζεται να ξεπεράσετε τα 100 epochs. Σε γενικές γραμμές μπορούμε να βασιστούμε στις default παραμέτρους μέχρι να έχουμε τη δυνατότητα να οπτικοποιήσουμε και να αναλύσουμε ποιοτικά τα αποτελέσματα. Ξεκινήστε με ένα χάρτη 10 x 10, 100 epochs training και ένα υποσύνολο των ταινιών (π.χ. 2000). Χρησιμοποιήστε την `time` για να έχετε μια εικόνα των χρόνων εκπαίδευσης. "
      ]
    },
    {
      "cell_type": "markdown",
      "metadata": {
        "id": "ntd2GE9SaHiS"
      },
      "source": [
        "\n",
        "## Best matching units\n",
        "\n",
        "Μετά από κάθε εκπαίδευση αποθηκεύστε σε μια μεταβλητή τα best matching units (bmus) για κάθε ταινία. Τα bmus μας δείχνουν σε ποιο νευρώνα ανήκει η κάθε ταινία. **Προσοχή: η σύμβαση των συντεταγμένων των νευρώνων στη Somoclu είναι (στήλη, γραμμή) δηλαδή το ανάποδο από την Python**. Με χρήση της [np.unique](https://docs.scipy.org/doc/numpy-1.13.0/reference/generated/numpy.unique.html) (μια πολύ χρήσιμη συνάρτηση στην άσκηση) αποθηκεύστε τα μοναδικά best matching units και τους δείκτες τους (indices) προς τις ταινίες. \n",
        "\n",
        "Σημειώστε ότι μπορεί να έχετε λιγότερα μοναδικά bmus από αριθμό νευρώνων γιατί μπορεί σε κάποιους νευρώνες να μην έχουν ανατεθεί ταινίες. Ως αριθμό νευρώνα θα θεωρήσουμε τον αριθμό γραμμής στον πίνακα μοναδικών bmus.\n"
      ]
    },
    {
      "cell_type": "markdown",
      "metadata": {
        "id": "grzqcyHyaKdg"
      },
      "source": [
        "\n",
        "## Ομαδοποίηση (clustering)\n",
        "\n",
        "Τυπικά, η ομαδοποίηση σε ένα χάρτη SOM προκύπτει από το unified distance matrix (U-matrix): για κάθε κόμβο υπολογίζεται η μέση απόστασή του από τους γειτονικούς κόμβους. Εάν χρησιμοποιηθεί μπλε χρώμα στις περιοχές του χάρτη όπου η τιμή αυτή είναι χαμηλή (μικρή απόσταση) και κόκκινο εκεί που η τιμή είναι υψηλή (μεγάλη απόσταση), τότε μπορούμε να πούμε ότι οι μπλε περιοχές αποτελούν clusters και οι κόκκινες αποτελούν σύνορα μεταξύ clusters.\n",
        "\n",
        "To somoclu δίνει την επιπρόσθετη δυνατότητα να κάνουμε ομαδοποίηση των νευρώνων χρησιμοποιώντας οποιονδήποτε αλγόριθμο ομαδοποίησης του scikit-learn. Στην άσκηση θα χρησιμοποιήσουμε τον k-Means. Για τον αρχικό σας χάρτη δοκιμάστε ένα k=20 ή 25. Οι δύο προσεγγίσεις ομαδοποίησης είναι διαφορετικές, οπότε περιμένουμε τα αποτελέσματα να είναι κοντά αλλά όχι τα ίδια.\n"
      ]
    },
    {
      "cell_type": "markdown",
      "metadata": {
        "id": "2nupuqcuaMe3"
      },
      "source": [
        "\n",
        "## Αποθήκευση του SOM\n",
        "\n",
        "Επειδή η αρχικοποίηση του SOM γίνεται τυχαία και το clustering είναι και αυτό στοχαστική διαδικασία, οι θέσεις και οι ετικέτες των νευρώνων και των clusters θα είναι διαφορετικές κάθε φορά που τρέχετε τον χάρτη, ακόμα και με τις ίδιες παραμέτρους. Για να αποθηκεύσετε ένα συγκεκριμένο som και clustering χρησιμοποιήστε και πάλι την `joblib`. Μετά την ανάκληση ενός SOM θυμηθείτε να ακολουθήσετε τη διαδικασία για τα bmus.\n"
      ]
    },
    {
      "cell_type": "markdown",
      "metadata": {
        "id": "ejX0Qs18aRHU"
      },
      "source": [
        "\n",
        "## Οπτικοποίηση U-matrix, clustering και μέγεθος clusters\n",
        "\n",
        "Για την εκτύπωση του U-matrix χρησιμοποιήστε τη `view_umatrix` με ορίσματα `bestmatches=True` και `figsize=(15, 15)` ή `figsize=(20, 20)`. Τα διαφορετικά χρώματα που εμφανίζονται στους κόμβους αντιπροσωπεύουν τα διαφορετικά clusters που προκύπτουν από τον k-Means. Μπορείτε να εμφανίσετε τη λεζάντα του U-matrix με το όρισμα `colorbar`. Μην τυπώνετε τις ετικέτες (labels) των δειγμάτων, είναι πολύ μεγάλος ο αριθμός τους.\n",
        "\n",
        "Για μια δεύτερη πιο ξεκάθαρη οπτικοποίηση του clustering τυπώστε απευθείας τη μεταβλητή `clusters`.\n",
        "\n",
        "Τέλος, χρησιμοποιώντας πάλι την `np.unique` (με διαφορετικό όρισμα) και την `np.argsort` (υπάρχουν και άλλοι τρόποι υλοποίησης) εκτυπώστε τις ετικέτες των clusters (αριθμοί από 0 έως k-1) και τον αριθμό των νευρώνων σε κάθε cluster, με φθίνουσα ή αύξουσα σειρά ως προς τον αριθμό των νευρώνων. Ουσιαστικά είναι ένα εργαλείο για να βρίσκετε εύκολα τα μεγάλα και μικρά clusters. \n",
        "\n",
        "Ακολουθεί ένα μη βελτιστοποιημένο παράδειγμα για τις τρεις προηγούμενες εξόδους:\n",
        "\n",
        "<img src=\"https://image.ibb.co/i0tsfR/umatrix_s.jpg\" width=\"35%\">\n",
        "<img src=\"https://image.ibb.co/nLgHEm/clusters.png\" width=\"35%\">\n",
        "\n"
      ]
    },
    {
      "cell_type": "markdown",
      "metadata": {
        "id": "fMO_KcQYaTv-"
      },
      "source": [
        "\n",
        "## Σημασιολογική ερμηνεία των clusters\n",
        "\n",
        "Προκειμένου να μελετήσουμε τις τοπολογικές ιδιότητες του SOM και το αν έχουν ενσωματώσει σημασιολογική πληροφορία για τις ταινίες διαμέσου της διανυσματικής αναπαράστασης του tf-idf, των εμφυτευμάτων και των κατηγοριών, χρειαζόμαστε ένα κριτήριο ποιοτικής επισκόπησης των clusters. \n",
        "\n",
        "Θα υλοποιήσουμε το εξής κριτήριο: Λαμβάνουμε όρισμα έναν αριθμό (ετικέτα) cluster. Για το cluster αυτό βρίσκουμε όλους τους νευρώνες που του έχουν ανατεθεί από τον k-Means. Για όλους τους νευρώνες αυτούς βρίσκουμε όλες τις ταινίες που τους έχουν ανατεθεί (για τις οποίες αποτελούν bmus). Για όλες αυτές τις ταινίες τυπώνουμε ταξινομημένη τη συνολική στατιστική όλων των ειδών (κατηγοριών) και τις συχνότητές τους. Αν το cluster διαθέτει καλή συνοχή και εξειδίκευση, θα πρέπει κάποιες κατηγορίες να έχουν σαφώς μεγαλύτερη συχνότητα από τις υπόλοιπες. Θα μπορούμε τότε να αναθέσουμε αυτήν/ές την/τις κατηγορία/ες ως ετικέτες κινηματογραφικού είδους στο cluster.\n",
        "\n",
        "Μπορείτε να υλοποιήσετε τη συνάρτηση αυτή όπως θέλετε. Μια πιθανή διαδικασία θα μπορούσε να είναι η ακόλουθη:\n",
        "\n",
        "1. Ορίζουμε συνάρτηση `print_categories_stats` που δέχεται ως είσοδο λίστα με ids ταινιών. Δημιουργούμε μια κενή λίστα συνολικών κατηγοριών. Στη συνέχεια, για κάθε ταινία επεξεργαζόμαστε το string `categories` ως εξής: δημιουργούμε μια λίστα διαχωρίζοντας το string κατάλληλα με την `split` και αφαιρούμε τα whitespaces μεταξύ ετικετών με την `strip`. Προσθέτουμε τη λίστα αυτή στη συνολική λίστα κατηγοριών με την `extend`. Τέλος χρησιμοποιούμε πάλι την `np.unique` για να μετρήσουμε συχνότητα μοναδικών ετικετών κατηγοριών και ταξινομούμε με την `np.argsort`. Τυπώνουμε τις κατηγορίες και τις συχνότητες εμφάνισης ταξινομημένα. Χρήσιμες μπορεί να σας φανούν και οι `np.ravel`, `np.nditer`, `np.array2string` και `zip`.\n",
        "\n",
        "2. Ορίζουμε τη βασική μας συνάρτηση `print_cluster_neurons_movies_report` που δέχεται ως όρισμα τον αριθμό ενός cluster. Με τη χρήση της `np.where` μπορούμε να βρούμε τις συντεταγμένες των bmus που αντιστοιχούν στο cluster και με την `column_stack` να φτιάξουμε έναν πίνακα bmus για το cluster. Προσοχή στη σειρά (στήλη - σειρά) στον πίνακα bmus. Για κάθε bmu αυτού του πίνακα ελέγχουμε αν υπάρχει στον πίνακα μοναδικών bmus που έχουμε υπολογίσει στην αρχή συνολικά και αν ναι προσθέτουμε το αντίστοιχο index του νευρώνα σε μια λίστα. Χρήσιμες μπορεί να είναι και οι `np.rollaxis`, `np.append`, `np.asscalar`. Επίσης πιθανώς να πρέπει να υλοποιήσετε ένα κριτήριο ομοιότητας μεταξύ ενός bmu και ενός μοναδικού bmu από τον αρχικό πίνακα bmus.\n",
        "\n",
        "3. Υλοποιούμε μια βοηθητική συνάρτηση `neuron_movies_report`. Λαμβάνει ένα σύνολο νευρώνων από την `print_cluster_neurons_movies_report` και μέσω της `indices` φτιάχνει μια λίστα με το σύνολο ταινιών που ανήκουν σε αυτούς τους νευρώνες. Στο τέλος καλεί με αυτή τη λίστα την `print_categories_stats` που τυπώνει τις στατιστικές των κατηγοριών.\n",
        "\n",
        "Μπορείτε βέβαια να προσθέσετε οποιαδήποτε επιπλέον έξοδο σας βοηθάει. Μια χρήσιμη έξοδος είναι πόσοι νευρώνες ανήκουν στο cluster και σε πόσους και ποιους από αυτούς έχουν ανατεθεί ταινίες.\n",
        "\n",
        "Θα επιτελούμε τη σημασιολογική ερμηνεία του χάρτη καλώντας την `print_cluster_neurons_movies_report` με τον αριθμός ενός cluster που μας ενδιαφέρει. \n",
        "\n",
        "Παράδειγμα εξόδου για ένα cluster (μη βελτιστοποιημένος χάρτης, ωστόσο βλέπετε ότι οι μεγάλες κατηγορίες έχουν σημασιολογική  συνάφεια):\n",
        "\n",
        "```\n",
        "Overall Cluster Genres stats:  \n",
        "[('\"Horror\"', 86), ('\"Science Fiction\"', 24), ('\"B-movie\"', 16), ('\"Monster movie\"', 10), ('\"Creature Film\"', 10), ('\"Indie\"', 9), ('\"Zombie Film\"', 9), ('\"Slasher\"', 8), ('\"World cinema\"', 8), ('\"Sci-Fi Horror\"', 7), ('\"Natural horror films\"', 6), ('\"Supernatural\"', 6), ('\"Thriller\"', 6), ('\"Cult\"', 5), ('\"Black-and-white\"', 5), ('\"Japanese Movies\"', 4), ('\"Short Film\"', 3), ('\"Drama\"', 3), ('\"Psychological thriller\"', 3), ('\"Crime Fiction\"', 3), ('\"Monster\"', 3), ('\"Comedy\"', 2), ('\"Western\"', 2), ('\"Horror Comedy\"', 2), ('\"Archaeology\"', 2), ('\"Alien Film\"', 2), ('\"Teen\"', 2), ('\"Mystery\"', 2), ('\"Adventure\"', 2), ('\"Comedy film\"', 2), ('\"Combat Films\"', 1), ('\"Chinese Movies\"', 1), ('\"Action/Adventure\"', 1), ('\"Gothic Film\"', 1), ('\"Costume drama\"', 1), ('\"Disaster\"', 1), ('\"Docudrama\"', 1), ('\"Film adaptation\"', 1), ('\"Film noir\"', 1), ('\"Parody\"', 1), ('\"Period piece\"', 1), ('\"Action\"', 1)]```\n",
        "   "
      ]
    },
    {
      "cell_type": "markdown",
      "metadata": {
        "id": "lq4QrImhaa7E"
      },
      "source": [
        "\n",
        "## Tips για το SOM και το clustering\n",
        "\n",
        "- Για την ομαδοποίηση ένα U-matrix καλό είναι να εμφανίζει και μπλε-πράσινες περιοχές (clusters) και κόκκινες περιοχές (ορίων). Παρατηρήστε ποια σχέση υπάρχει μεταξύ αριθμού ταινιών στο final set, μεγέθους grid και ποιότητας U-matrix.\n",
        "- Για το k του k-Means προσπαθήστε να προσεγγίζει σχετικά τα clusters του U-matrix (όπως είπαμε είναι διαφορετικοί μέθοδοι clustering). Μικρός αριθμός k δεν θα σέβεται τα όρια. Μεγάλος αριθμός θα δημιουργεί υπο-clusters εντός των clusters που φαίνονται στο U-matrix. Το τελευταίο δεν είναι απαραίτητα κακό, αλλά μεγαλώνει τον αριθμό clusters που πρέπει να αναλυθούν σημασιολογικά.\n",
        "- Σε μικρούς χάρτες και με μικρά final sets δοκιμάστε διαφορετικές παραμέτρους για την εκπαίδευση του SOM. Σημειώστε τυχόν παραμέτρους που επηρεάζουν την ποιότητα του clustering για το dataset σας ώστε να τις εφαρμόσετε στους μεγάλους χάρτες.\n",
        "- Κάποια τοπολογικά χαρακτηριστικά εμφανίζονται ήδη σε μικρούς χάρτες. Κάποια άλλα χρειάζονται μεγαλύτερους χάρτες. Δοκιμάστε μεγέθη 20x20, 25x25 ή και 30x30 και αντίστοιχη προσαρμογή των k. Όσο μεγαλώνουν οι χάρτες, μεγαλώνει η ανάλυση του χάρτη αλλά μεγαλώνει και ο αριθμός clusters που πρέπει να αναλυθούν.\n"
      ]
    },
    {
      "cell_type": "markdown",
      "metadata": {
        "id": "x4IUl8O8ayVf"
      },
      "source": [
        "\n",
        "\n",
        "## Ανάλυση τοπολογικών ιδιοτήτων χάρτη SOM\n",
        "\n",
        "Μετά το πέρας της εκπαίδευσης και του clustering θα έχετε ένα χάρτη με τοπολογικές ιδιότητες ως προς τα είδη των ταίνιών της συλλογής σας, κάτι αντίστοιχο με την εικόνα στην αρχή της Εφαρμογής 2 αυτού του notebook. Η συγκεκριμένη εικόνα είναι μόνο για εικονογράφιση, δεν είναι χάρτης SOM καιδεν έχει καμία σχέση με τη συλλογή δεδομένων και τις κατηγορίες μας.\n",
        "\n",
        "Για τον τελικό χάρτη SOM που θα παράξετε για τη συλλογή σας, αναλύστε σε markdown με συγκεκριμένη αναφορά σε αριθμούς clusters και τη σημασιολογική ερμηνεία τους τις εξής τρεις τοπολογικές ιδιότητες του SOM: \n",
        "\n",
        "1. Δεδομένα που έχουν μεγαλύτερη πυκνότητα πιθανότητας στο χώρο εισόδου τείνουν να απεικονίζονται με περισσότερους νευρώνες στο χώρο μειωμένης διαστατικότητας. Δώστε παραδείγματα από συχνές και λιγότερο συχνές κατηγορίες ταινιών. Χρησιμοποιήστε τις στατιστικές των κατηγοριών στη συλλογή σας και τον αριθμό κόμβων που χαρακτηρίζουν.\n",
        "2. Μακρινά πρότυπα εισόδου τείνουν να απεικονίζονται απομακρυσμένα στο χάρτη. Υπάρχουν χαρακτηριστικές κατηγορίες ταινιών που ήδη από μικρούς χάρτες τείνουν να τοποθετούνται σε διαφορετικά ή απομονωμένα σημεία του χάρτη.\n",
        "3. Κοντινά πρότυπα εισόδου τείνουν να απεικονίζονται κοντά στο χάρτη. Σε μεγάλους χάρτες εντοπίστε είδη ταινιών και κοντινά τους υποείδη.\n",
        "\n",
        "Προφανώς τοποθέτηση σε 2 διαστάσεις που να σέβεται μια απόλυτη τοπολογία δεν είναι εφικτή, αφενός γιατί δεν υπάρχει κάποια απόλυτη εξ ορισμού για τα κινηματογραφικά είδη ακόμα και σε πολλές διαστάσεις, αφετέρου γιατί πραγματοποιούμε μείωση διαστατικότητας.\n",
        "\n",
        "Εντοπίστε μεγάλα clusters και μικρά clusters που δεν έχουν σαφή χαρακτηριστικά. Εντοπίστε clusters συγκεκριμένων ειδών που μοιάζουν να μην έχουν τοπολογική συνάφεια με γύρω περιοχές. Προτείνετε πιθανές ερμηνείες.\n",
        "\n",
        "\n",
        "Τέλος, εντοπίστε clusters που έχουν κατά την άποψή σας ιδιαίτερο ενδιαφέρον στη συλλογή της ομάδας σας (data exploration / discovery value) και σχολιάστε.\n"
      ]
    },
    {
      "cell_type": "markdown",
      "metadata": {
        "id": "tYjxGR5DawIy"
      },
      "source": [
        "\n",
        "# Τελική παράδοση άσκησης\n",
        "\n",
        "- Θα παραδώσετε στο helios το παρόν notebook επεξεργασμένο ή ένα ή δύο νέα zipαρισμένα με τις απαντήσεις σας για τα ζητούμενα και των δύο εφαρμογών. \n",
        "- Θυμηθείτε ότι η ανάλυση του χάρτη στο markdown με αναφορά σε αριθμούς clusters πρέπει να αναφέρεται στον τελικό χάρτη με τα κελιά ορατά που θα παραδώσετε αλλιώς ο χάρτης που θα προκύψει θα είναι διαφορετικός και τα labels των clusters δεν θα αντιστοιχούν στην ανάλυσή σας. \n",
        "- Μην ξεχάσετε στην αρχή ένα κελί markdown με **τα στοιχεία της ομάδας σας**."
      ]
    },
    {
      "cell_type": "markdown",
      "metadata": {
        "id": "UHhCkvxjnitd"
      },
      "source": [
        "<table>\n",
        "  <tr><td align=\"center\">\n",
        "    <font size=\"4\">Παρακαλούμε διατρέξτε βήμα-βήμα το notebook για να μην ξεχάσετε παραδοτέα</font>\n",
        "</td>\n",
        "  </tr>\n",
        "</table>"
      ]
    }
  ]
}