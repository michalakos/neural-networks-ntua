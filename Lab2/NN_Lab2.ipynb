{
  "cells": [
    {
      "cell_type": "markdown",
      "metadata": {
        "id": "hLFXD3IePSyL"
      },
      "source": [
        "# Εργαστηριακή Άσκηση 2. Μη επιβλεπόμενη μάθηση. \n",
        "## Σύστημα συστάσεων βασισμένο στο περιεχόμενο\n",
        "## Σημασιολογική απεικόνιση δεδομένων με χρήση SOM \n",
        "### Ομάδα 44\n",
        "* Βασιλάκος Μιχαήλ <br>\n",
        "Α.Μ.: 03117069\n",
        "* Γαβαλάς Παντελεήμων <br>\n",
        "Α.Μ.: 03117075"
      ]
    },
    {
      "cell_type": "markdown",
      "metadata": {
        "id": "BWNlq3Eb9bj6"
      },
      "source": [
        "## Εγκατάσταση πακέτων και βιβλιοθηκών"
      ]
    },
    {
      "cell_type": "code",
      "execution_count": null,
      "metadata": {
        "colab": {
          "base_uri": "https://localhost:8080/"
        },
        "id": "Zb6ptCvjLvnb",
        "outputId": "261a525a-8837-4e02-ecba-e951962e31ed"
      },
      "outputs": [
        {
          "name": "stdout",
          "output_type": "stream",
          "text": [
            "Drive already mounted at /content/drive; to attempt to forcibly remount, call drive.mount(\"/content/drive\", force_remount=True).\n"
          ]
        }
      ],
      "source": [
        "from google.colab import drive\n",
        "drive.mount('/content/drive')"
      ]
    },
    {
      "cell_type": "code",
      "execution_count": null,
      "metadata": {
        "colab": {
          "base_uri": "https://localhost:8080/"
        },
        "id": "S5wbBzIYnird",
        "outputId": "bfba82da-09c4-4417-ed50-e937b93fac56"
      },
      "outputs": [
        {
          "name": "stdout",
          "output_type": "stream",
          "text": [
            "Requirement already satisfied: nltk in /usr/local/lib/python3.7/dist-packages (3.6.5)\n",
            "Requirement already satisfied: joblib in /usr/local/lib/python3.7/dist-packages (from nltk) (1.1.0)\n",
            "Requirement already satisfied: click in /usr/local/lib/python3.7/dist-packages (from nltk) (7.1.2)\n",
            "Requirement already satisfied: regex>=2021.8.3 in /usr/local/lib/python3.7/dist-packages (from nltk) (2021.11.10)\n",
            "Requirement already satisfied: tqdm in /usr/local/lib/python3.7/dist-packages (from nltk) (4.62.3)\n",
            "Requirement already satisfied: joblib in /usr/local/lib/python3.7/dist-packages (1.1.0)\n"
          ]
        }
      ],
      "source": [
        "!pip install --upgrade nltk\n",
        "!pip install --upgrade joblib"
      ]
    },
    {
      "cell_type": "code",
      "execution_count": null,
      "metadata": {
        "id": "kKqJ9cpLCL42"
      },
      "outputs": [],
      "source": [
        "import pandas as pd\n",
        "import numpy as np\n",
        "import scipy as sp\n",
        "import nltk\n",
        "import string\n",
        "from tqdm.notebook import tqdm\n",
        "import pickle\n",
        "import re"
      ]
    },
    {
      "cell_type": "code",
      "execution_count": null,
      "metadata": {
        "id": "OeqpGiq0Ksll"
      },
      "outputs": [],
      "source": [
        "clean_run = False\n",
        "stop = True"
      ]
    },
    {
      "cell_type": "markdown",
      "metadata": {
        "id": "aViHqlQcPSyP"
      },
      "source": [
        "## Εισαγωγή του Dataset"
      ]
    },
    {
      "cell_type": "markdown",
      "metadata": {
        "id": "2ZVmdDExPSyQ"
      },
      "source": [
        "Το σύνολο δεδομένων με το οποίο θα δουλέψουμε είναι βασισμένο στο [Carnegie Mellon Movie Summary Corpus](http://www.cs.cmu.edu/~ark/personas/). Πρόκειται για ένα dataset με 22.301 περιγραφές ταινιών. Η περιγραφή κάθε ταινίας αποτελείται από τον τίτλο της, μια ή περισσότερες ετικέτες που χαρακτηρίζουν το είδος της ταινίας και τέλος τη σύνοψη της υπόθεσής της. Αρχικά εισάγουμε το dataset (χρησιμοποιήστε αυτούσιο τον κώδικα, δεν χρειάζεστε το αρχείο csv) στο dataframe `df_data_1`: "
      ]
    },
    {
      "cell_type": "code",
      "execution_count": null,
      "metadata": {
        "id": "62SOj46gPSyS"
      },
      "outputs": [],
      "source": [
        "dataset_url = \"https://drive.google.com/uc?export=download&id=1-tN5rC1QCgwqL67cvIXdMbtd-Xf9Xqow\"\n",
        "df_data_1 = pd.read_csv(dataset_url, sep='\\t',  header=None, quoting=3)"
      ]
    },
    {
      "cell_type": "markdown",
      "metadata": {
        "id": "7TAEZGdIPSyW"
      },
      "source": [
        "Κάθε ομάδα θα δουλέψει σε **ένα μοναδικό υποσύνολο 5.000 ταινιών** (διαφορετικό dataset για κάθε ομάδα) ως εξής:\n",
        "\n",
        "1. Κάθε ομάδα του εργαστηρίου νευρωνικών έχει έναν αριθμό στο helios. Θα βάλετε τον αριθμό αυτό στη μεταβλητή team_seed_number στο επόμενο κελί κώδικα.\n",
        "\n",
        "2. Το data frame `df_data_2` έχει γραμμές όσες και οι ομάδες και 5.000 στήλες. Σε κάθε ομάδα αντιστοιχεί η γραμμή του πίνακα με το `team_seed_number` της. Η γραμμή αυτή θα περιλαμβάνει 5.000 διαφορετικούς αριθμούς που αντιστοιχούν σε ταινίες του αρχικού dataset. \n",
        "\n",
        "3. Τρέξτε τον κώδικα. Θα προκύψουν τα μοναδικά για κάθε ομάδα  titles, categories, catbins, summaries και corpus με τα οποία θα δουλέψετε."
      ]
    },
    {
      "cell_type": "code",
      "execution_count": null,
      "metadata": {
        "id": "2POlqDjkPSyY"
      },
      "outputs": [],
      "source": [
        "# Στο επόμενη γραμή βάλτε τον αριθμό της ομάδας στο εργαστήριο των νευρωνικών\n",
        "team_seed_number = 44\n",
        "\n",
        "movie_seeds_url = \"https://drive.google.com/uc?export=download&id=1-oeMf7BFmiH70XObgC9WOTo-a9cDJZwP\"\n",
        "df_data_2 = pd.read_csv(movie_seeds_url, header=None)\n",
        "\n",
        "# επιλέγεται \n",
        "my_index = df_data_2.iloc[team_seed_number,:].values\n",
        "\n",
        "titles = df_data_1.iloc[:, [2]].values[my_index] # movie titles (string)\n",
        "categories = df_data_1.iloc[:, [3]].values[my_index] # movie categories (string)\n",
        "bins = df_data_1.iloc[:, [4]]\n",
        "catbins = bins[4].str.split(',', expand=True).values.astype(float)[my_index] # movie categories in binary form (1 feature per category)\n",
        "summaries =  df_data_1.iloc[:, [5]].values[my_index] # movie summaries (string)\n",
        "corpus = summaries[:,0].tolist() # list form of summaries\n",
        "corpus_df = pd.DataFrame(corpus) # dataframe version of corpus"
      ]
    },
    {
      "cell_type": "markdown",
      "metadata": {
        "id": "If66lkwxPSyb"
      },
      "source": [
        "- Ο πίνακας **titles** περιέχει τους τίτλους των ταινιών. Παράδειγμα: 'Sid and Nancy'.\n",
        "- O πίνακας **categories** περιέχει τις κατηγορίες (είδη) της ταινίας υπό τη μορφή string. Παράδειγμα: '\"Tragedy\",  \"Indie\",  \"Punk rock\",  \"Addiction Drama\",  \"Cult\",  \"Musical\",  \"Drama\",  \"Biopic \\[feature\\]\",  \"Romantic drama\",  \"Romance Film\",  \"Biographical film\"'. Παρατηρούμε ότι είναι μια comma separated λίστα strings, με κάθε string να είναι μια κατηγορία.\n",
        "- Ο πίνακας **catbins** περιλαμβάνει πάλι τις κατηγορίες των ταινιών αλλά σε δυαδική μορφή ([one hot encoding](https://hackernoon.com/what-is-one-hot-encoding-why-and-when-do-you-have-to-use-it-e3c6186d008f)). Έχει διαστάσεις 5.000 x 322 (όσες οι διαφορετικές κατηγορίες). Αν η ταινία ανήκει στο συγκεκριμένο είδος η αντίστοιχη στήλη παίρνει την τιμή 1, αλλιώς παίρνει την τιμή 0.\n",
        "- Ο πίνακας **summaries** και η λίστα **corpus** περιλαμβάνουν τις συνόψεις των ταινιών (η corpus είναι απλά ο summaries σε μορφή λίστας). Κάθε σύνοψη είναι ένα (συνήθως μεγάλο) string. Παράδειγμα: *'The film is based on the real story of a Soviet Internal Troops soldier who killed his entire unit  as a result of Dedovschina. The plot unfolds mostly on board of the prisoner transport rail car guarded by a unit of paramilitary conscripts.'*\n",
        "- το dataframe corpus_df που είναι απλά το corpus σε μορφή dataframe. Τα summaries βρίσκονται στην κολόνα 0. Πιθανώς να σας βολεύει να κάνετε κάποιες προεπεξεργασίες με dataframes.\n",
        "\n",
        "\n",
        "Θεωρούμε ως **ID** της κάθε ταινίας τον αριθμό γραμμής της ή το αντίστοιχο στοιχείο της λίστας. Παράδειγμα: για να τυπώσουμε τη σύνοψη της ταινίας με `ID=999` (την χιλιοστή) θα γράψουμε `print(corpus[999])`."
      ]
    },
    {
      "cell_type": "code",
      "execution_count": null,
      "metadata": {
        "colab": {
          "base_uri": "https://localhost:8080/"
        },
        "id": "k_7A3KXLp0qS",
        "outputId": "aa31afa2-0529-4cbb-b667-ed085b62b6e1"
      },
      "outputs": [
        {
          "name": "stdout",
          "output_type": "stream",
          "text": [
            "['Death Bell 2: Bloody Camp']\n",
            "['\"Thriller\",  \"Horror\"']\n",
            "[0. 0. 0. 0. 0. 0. 0. 0. 0. 0. 0. 0. 0. 0. 0. 0. 0. 0. 0. 0. 0. 0. 0. 0.\n",
            " 0. 0. 0. 0. 0. 0. 0. 0. 0. 0. 0. 0. 0. 0. 0. 0. 0. 0. 0. 0. 0. 0. 0. 0.\n",
            " 0. 0. 0. 0. 0. 0. 0. 0. 0. 0. 0. 0. 0. 0. 0. 0. 0. 0. 0. 0. 0. 0. 0. 0.\n",
            " 0. 0. 0. 0. 0. 0. 0. 0. 0. 0. 0. 0. 0. 0. 0. 0. 0. 0. 0. 0. 0. 0. 0. 0.\n",
            " 0. 0. 0. 0. 0. 0. 0. 0. 0. 0. 0. 0. 0. 0. 0. 0. 0. 0. 0. 0. 0. 0. 0. 0.\n",
            " 0. 0. 0. 0. 0. 0. 0. 0. 0. 0. 0. 0. 0. 0. 0. 0. 0. 0. 0. 0. 0. 0. 0. 0.\n",
            " 0. 0. 0. 0. 0. 0. 0. 0. 0. 0. 0. 0. 0. 0. 0. 0. 0. 0. 0. 0. 0. 0. 0. 0.\n",
            " 0. 0. 0. 0. 1. 0. 0. 0. 0. 0. 0. 0. 0. 0. 0. 0. 0. 0. 0. 0. 0. 0. 0. 0.\n",
            " 0. 0. 0. 0. 0. 0. 0. 0. 0. 0. 0. 0. 0. 0. 0. 0. 0. 0. 0. 0. 0. 0. 0. 0.\n",
            " 0. 0. 0. 0. 0. 0. 0. 0. 0. 0. 0. 0. 0. 0. 0. 0. 0. 0. 0. 0. 0. 0. 0. 0.\n",
            " 0. 0. 0. 0. 0. 0. 0. 0. 0. 0. 0. 0. 0. 0. 0. 0. 0. 0. 0. 0. 0. 0. 0. 0.\n",
            " 0. 0. 0. 0. 0. 0. 0. 0. 0. 0. 0. 0. 0. 0. 0. 0. 0. 0. 0. 0. 0. 0. 0. 0.\n",
            " 0. 0. 0. 0. 0. 0. 0. 0. 0. 0. 0. 0. 0. 0. 0. 0. 1. 0. 0. 0. 0. 0. 0. 0.\n",
            " 0. 0. 0. 0. 0. 0. 0. 0. 0. 0.]\n",
            "While writing the script, it was suggested that the characters should solve their problems in a quiz show format like they did in the first film. Director Yoo Sun-dong was against this ideas as he felt it was too much of an imitation of the first film.\n"
          ]
        }
      ],
      "source": [
        "ID = 999\n",
        "print(titles[ID])\n",
        "print(categories[ID])\n",
        "print(catbins[ID])\n",
        "print(corpus[ID])"
      ]
    },
    {
      "cell_type": "markdown",
      "metadata": {
        "id": "UTNgwBfjPSyc"
      },
      "source": [
        "# Εφαρμογή 1. Υλοποίηση συστήματος συστάσεων ταινιών βασισμένο στο περιεχόμενο\n",
        "<img src=\"http://clture.org/wp-content/uploads/2015/12/Netflix-Streaming-End-of-Year-Posts.jpg\" width=\"70%\">"
      ]
    },
    {
      "cell_type": "markdown",
      "metadata": {
        "id": "rnA2RP8GPSyf"
      },
      "source": [
        "Η πρώτη εφαρμογή που θα αναπτύξετε θα είναι ένα [σύστημα συστάσεων](https://en.wikipedia.org/wiki/Recommender_system) ταινιών βασισμένο στο περιεχόμενο (content based recommender system). Τα συστήματα συστάσεων στοχεύουν στο να προτείνουν αυτόματα στο χρήστη αντικείμενα από μια συλλογή τα οποία ιδανικά θέλουμε να βρει ενδιαφέροντα ο χρήστης. Η κατηγοριοποίηση των συστημάτων συστάσεων βασίζεται στο πώς γίνεται η επιλογή (filtering) των συστηνόμενων αντικειμένων. Οι δύο κύριες κατηγορίες είναι η συνεργατική διήθηση (collaborative filtering) όπου το σύστημα προτείνει στο χρήστη αντικείμενα που έχουν αξιολογηθεί θετικά από χρήστες που έχουν παρόμοιο με αυτόν ιστορικό αξιολογήσεων και η διήθηση με βάση το περιεχόμενο (content based filtering), όπου προτείνονται στο χρήστη αντικείμενα με παρόμοιο περιεχόμενο (με βάση κάποια χαρακτηριστικά) με αυτά που έχει προηγουμένως αξιολογήσει θετικά.\n",
        "\n",
        "Το σύστημα συστάσεων που θα αναπτύξετε θα βασίζεται στο **περιεχόμενο** και συγκεκριμένα στις συνόψεις των ταινιών (corpus). \n"
      ]
    },
    {
      "cell_type": "markdown",
      "metadata": {
        "id": "l3nZv-xueEtd"
      },
      "source": [
        "## Προεπεξεργασία\n",
        "\n",
        "Το πρώτο βήμα στην επεξεργασία μας είναι ο καθαρισμός των περιγραφών των ταινιών. \n",
        "\n",
        "Εκτυπώστε (αρκετές) διαφορετικές περιγραφές ταινιών για να δείτε πιθανά προβλήματα που θα πρέπει να αντιμετωπιστούν.\n",
        "\n",
        "Τα (ελάχιστα) βήματα καθαρισμού που προτείνουμε είναι:\n",
        "- μετατροπή όλων των χαρακτήρων σε πεζά,\n",
        "- αφαίρεση των stopwords. Εδώ σημειώστε ότι για το δεδομένο task του συστήματος συστάσεων που είναι η πρόταση ταινιών ίσως θα είχαν ενδιαφέρον και λίστες stopwords πέραν αυτών της κοινής γλώσσας.\n",
        "- αφαίρεση σημείων στίξης και ειδικών χαρακτρήρων (special characters). Αυτό δεν γίνεται μόνο με την punkt του NLTK. Θα μπορούσατε να βασιστείτε σε κανονικές εκφράσεις (regular expressions), και\n",
        "- αφαίρεση πολυ σύντομων συμβολοσειρών.\n",
        "\n",
        "Προσοχή: το corpus και τα τελικά tokens που θα το αποτελούν θα χρησιμοποιηθούν στη συνέχεια ως κλειδιά για να βρούμε εμφυτεύματα. Για το λόγο αυτό, πρέπει να είστε προσεκτικοί ως προς την εφαρμογή μεθόδων κανονικοποίησης (text normalization) όπως το stemming και το lemmatization."
      ]
    },
    {
      "cell_type": "markdown",
      "metadata": {
        "id": "P5Q0FbVaDVQM"
      },
      "source": [
        "Αρχικά θα φροντίσουμε όλες οι λέξεις να αποτελούνται από πεζά γράμματα."
      ]
    },
    {
      "cell_type": "code",
      "execution_count": null,
      "metadata": {
        "id": "8Eao8APTDI50"
      },
      "outputs": [],
      "source": [
        "summaries_lower = []\n",
        "for summary in summaries:\n",
        "  summaries_lower.append(summary[0].lower())"
      ]
    },
    {
      "cell_type": "markdown",
      "metadata": {
        "id": "3DrQO-ClEhYI"
      },
      "source": [
        "Στη συνέχεια θα εμφανίσουμε τις 10 πρώτες περιγραφές για να έχουμε μια εικόνα της αρχικής κατάστασης στην οποία βρίσκονται."
      ]
    },
    {
      "cell_type": "code",
      "execution_count": null,
      "metadata": {
        "colab": {
          "base_uri": "https://localhost:8080/"
        },
        "id": "zj9YPZAPDwGt",
        "outputId": "43376bcb-84cc-4711-b40b-037b00e7ad43"
      },
      "outputs": [
        {
          "name": "stdout",
          "output_type": "stream",
          "text": [
            "vivacious lady is a story of love at first sight between a young botany professor named peter morgan jr.  and a nightclub singer named francey . the film also has comedic elements, including repeatedly frustrated attempts by the newlywed couple to find a moment alone with each other. the story begins when peter is sent to manhattan to retrieve his playboy cousin keith ([[james ellison  and immediately falls in love with francey. after a whirlwind one-day courtship, peter and francey get married, and they and keith return to the morgan family's home, where peter teaches at the university run by his father peter morgan sr. . mr. morgan is known for being a proud, overbearing man, so peter is afraid to tell him about the marriage. when they arrive, mr. morgan and peter's high-society fiancée helen  initially take francey for another of keith's girlfriends. while peter decides how to approach his father with the news, francey stays at a women-only hotel, and peter and keith introduce her as a new botany student. peter mentions francey to his father twice, but on both occasions, mr. morgan interrupts and ignores his son, and when peter becomes insistent, his apparently ailing mother  has a flare-up of her heart condition, making any further conversation impossible. for his third attempt, peter decides to announce the marriage to his parents at the university's student-faculty prom. keith brings francey to the prom as his own guest, and francey, still posing as a student, develops a friendly rapore with mrs. morgan, but gets into a nasty brawl with helen in which francey accidentally punches peter's father. peter says nothing at the prom, but blurts the news to his father just as mr. morgan is about to give an important speech, resulting in another argument and another flare-up of mrs. morgan's heart condition. this prevents mrs. morgan from learning who francey is, but she accidentally finds out from francey herself during a conversation in francey's apartment. mrs. morgan accepts the news happily, and admits to francey that she pretends to have heart trouble any time her husband gets into an argument, but mr. morgan demands that francey leave peter, threatening to fire him if she doesn't. francey agrees to leave, but the incident releases thirty years of marital frustration in mrs. morgan, who also decides to leave her husband. francey tells peter she will leave him unless he can change his father's mind before her train departs. peter's solution is to threaten the family with disgrace by getting drunk and otherwise misbehaving until his father relents, even if it costs him his job. peter passes out before he can reach the train, which departs with both francey and mrs. morgan aboard, but mr. morgan, having finally yielded to the combined pressure of his son and wife, stops the train by driving ahead of it with peter and parking the car on the track. both marriages are saved, and peter and francey finally have their honeymoon on the train.\n",
            "while cleaning his underground home, mole senses that spring is probably beginning above the ground. he is curious and decides that every mole should see the world at least once in his or her lifetime, so he makes himself a tunnel and soon finds himself in the english countryside. mole is marvelled by this new world and wishes to see every bit of it. along comes rat, who befriends mole and offers him a ride on his small blue rowboat as well as a short picnic by the riverbank. rat tells mole about the different creatures who inhabitate near the river. there's badger, who is very grumpy and doesn't like company, and toad, who is very wealthy and lives in a fine mansion along the riverbank named \"toad hall\". when the two friends set out to meet mr. mole, rat is bewildered to see that toad has been swept away by a new mania; a love for gypsy carts. though rat hesitates, toad offers him and his new friend a wild ride on the vehicle. the ride is thrilling and new for mole, not so much for rat, but it ends abruptly when the cart is destroyed by a passing motorcar. toad doesn't mind, because he is instantly taken by a new mania for motorcars. determined to drive through the countryside in a new motorcar, rat and mole fear that their friend's new mania is very dangerous, for toad can hardly drive. mole seeks out the advise of badger, who lives deep inside the wild wood, where he's been told never to go since it is a very dangerous place. rat follows mole to badger's house and the two animals beg him for his help. badger agrees to help out as soon as winter is over, for he is a hibernating animal. spring comes and badger orders that toad be kept indoors and away from disastrous rides on motorcars. toad is very upset, but he outsmarts rat when the two are left alone and the determined toad sets out to find a motorcar; or rather, steal one. toad's crime lands him in prison, and his friends worry about his mysterious disappearance. with the help of a young girl, the magistrate's daughter, toad manages to escape his cell and return to toad hall. however, upon his return, he is shocked to find that his home has been overtaken by a band of ruthless weasels. he and his friends, rat, mole, badger and otter cook up a plan to rescover toad's priced home and restore order to the entire community along the riverbank.\n",
            "shinnojo, a low level samurai, lives with his pretty, dutiful and loyal wife kayo. he has come to find his position in a castle as a food-taster for a feudal lord to be boring and pointless, and talks about opening a kendo school open to boys of all castes where he can teach the use of the sword. before he can act on his dream he becomes ill with a fever after tasting some sashimi made from shell fish, but an investigation reveals that the poisoning was not due to a human conspiracy, but a poor choice of food out of season. after three days he awakes but finds that the toxin from the food has blinded him. kayo is summoned by shinnojo's family to explain how the couple will survive. his uncle laments that he no longer knows anybody with influence in the castle, and asks kayo if she knows of anybody. she relates how toya shimada, the chief duty officer in the castle and a samurai of high rank, offered to help and they tell her to act upon his offer of assistance. a message from the castle brings the good news that shinnojo's stipend of rice will remain the same, and for life but his aunt tells him that kayo was seen with another man. he has tokuhei, his faithful servant, follow her. kayo notices that she is being followed, and although tokuhei offers to cover for her, she reveals to shinnojo that shimada offered to help but with a price, shown when he forced himself upon her. he then solicited two additional trysts by threatening to tell shinnojo about the first. an enraged shinnojo divorces her and orders her out of his house. when it is revealed to him that shimada had nothing to do with maintaining his stipend, but that it came out of gratitude from the lord of the clan himself, shinnojo seeks to renew his skill with the sword as a blind man to avenge the dishonor of kayo. through tokuhei, he sends a message to shimada to set up a duel, with the additional message to not underestimate him. the two samurai meet at the stables near the river to decide their destinies. in a very interesting fight shinnojo cuts off shimada's arm. he leaves shimada to live horribly disfigured, telling tokuhei that he has avenged kayo's dishonor. the next day shinnojo is informed that the injured shimada refused to tell anyone what had happened or who injured him in the duel. it turns out that during the night shimada committed seppuku and killed himself, as a samurai cannot live with only one arm. he dies without anyone knowing of his sin against the mimura family, his violation of kayo, or his own dishonorable injury by a blinded man. tokuhei tells shinnojo he has found a girl to work in the kitchen and cook for him. after one taste of the girl's food, shinnojo recognizes his wife's cooking, and calls kayo to come into the house. shinnojo and kayo reconcile, with an understanding that they will begin their life together anew.\n",
            "benny horowitz ([[john gilbert , a reformed gangster, proposes marriage to bertha , a neighbor who had been a frequent visitor while he served his sentence. bertha rejects his proposal because she believes that he is still in love with freida , benny's former gun moll. during a party in which freida seeks to make benny jealous with a former rival, benny again takes control of the gang's leadership. after his rival's death is ruled accidental, benny and bertha go off together and start a new life.\n",
            "laura  and fabrizio  have been meeting every summer in the forest by her parent's summer home. fabrizio is a solitary boy with only his dog for company; laura a sweet, but unconfident child. this summer new aspects enter into their story as both are growing up. the film represents them as part child, part adult. part naive, part knowing. laura is falling in love with fabrizio, while he displays a new sexual awareness of her masked by his malice. fabrizio becomes inexplicably cruel. he accelerates his unwarranted torment of laura in many ways, including tying her up and putting a snake near her and killing a pet bird she is fond of. fabrizio prides himself on being 'king of the forest' and rubbishes laura's tender attempts to be his queen. one day they climb the \"blue mountain\", a mysterious tall mountain at the forest's edge and discover ancient building ruins. exploring these they find a cave. inside, fabrizio seduces laura. fabrizio's cruel streak is boosted by his new sexual confidence. at one point he virtually forces himself on laura, much to her upset. he does relent when she makes it clear she wants fabrizio to be gentle with her, which he ridicules. things develop further when they meet sylvia . unlike the previously virginal laura, sylvia is confident and assertive. fabrizio develops a fascination with her, eventually bribing laura to fetch her to the forest to join them in play. sylvia aware of fabrizio’s interest in her, asserts herself in his affections, quickly replacing laura and demoting her to servant and victim, which fabrizio takes delight in. laura, reluctant to leave her old friend and new lover, stays and becomes the target of the duo's ever progressing cruelty. at one point, they both 'hunt' laura with bows and arrows and at another, pretend to throw her off a high ledge. they make love in front of her, insisting her punishment is that she must watch, leaving laura confused and heartbroken. at the end of summer, with the girls talking about returning to school, fabrizio becomes pensive and agitated. he insists on taking sylvia to the ruins for the first time. all three of them go into the cave to escape a thunderstorm and fabrizio again pretends they are lost as he did with laura. sylvia breaks down sobbing for her mother, all traces of her confidence and maturity lost in the fear of being in the cave. fabrizio repeatedly begs sylvia to stay with him forever. in the morning, sylvia is still lost in the cave and further rejects the desperate fabrizio and his pleas to stay with him. she becomes hysterical and he kills her with a knife, feeling it is the only way he won't lose her. he stays with the dead body and gives laura the flashlight telling her she knows the way home and laura reluctantly leaves.\n",
            "the film takes place in the summer of 1969, when nasa astronauts successfully landed on the moon for the first time, in the apollo 11 spacecraft. katherine, suffering from panic attacks caused by an automobile accident which resulted in the loss of their unborn child, refuses to leave the house, while washington is a man of adventure who enjoys travel and experiencing life. as a result of the conflict between the two, eleven-year-old son andy  has never traveled in a car, nor has he ever left town. washington, who also maintains a ragtag collection of automobiles of various vintages, decides to travel with andy to the craters of the moon national park, arriving at the very moment the apollo 11 crew lands on the moon. they make the trip in washington's 1949 pontiac eight convertible nicknamed \"the chief\", and make some enemies, new friends, and learn the meaning of family. the pontiac's mileage, when arriving at its destination, will be exactly the distance in miles from the earth to the moon. when katherine finds out where her husband and son are going, she faces her fears , and follows them in one of washington's cars, an amphicar. she learns the importance of living as she follows the pontiac to craters of the moon. on the way, the pontiac's engine dies, and washington arranges for a mechanic to install a replacement engine, only to leave the premises without paying for the engine because he didn't have enough money to pay. at the moment of the apollo 11 landing, the pontiac crashes into a crater at craters of the moon, with andy at the wheel. katherine arrives, and they escape a police chase by driving the amphicar into a lake to canada and safety. the adventure brings the bellamy family together, and they are now ready to begin a more normal life.\n",
            " dasima  is a nyai, or a native mistress, for the englishman edward william. the couple and their daughter nancy live in a home near gambir square in batavia . the delman driver samiun has fallen in love with dasima, despite already being married to hayati. he attempts to use spells to win her heart. he also has an egg merchant, mak buyung, frighten dasima by telling the young woman that she has committed the sin of zina . samiun eventually succeeds, and dasima goes to live with him and hayati, taking along gold and jewels. hayati has agreed to let samiun take a second wife as she wants dasima's money, which she will use for gambling.  dasima eventually realises that she has been tricked and begins to keep a close eye on her remaining wealth. to get at it, samiun calls the thug puasa and tells him to rob the young woman. at night, as dasima goes to hear the story of amir hamzah at a nearby village, puasa accosts her. he panics when she screams and kills her, then throws her body off a bridge; it washes up behind williams' home. samiun and puasa are caught and sentenced to hang.\n",
            "an employee detects a pharmaceutical company's sinister plan within the executive office, he will be wiped out and his entire family. only his son brian survived, although it was rammed in a drill into the skull and recognizes only one thought: revenge!\n",
            "the film presents the tale of agnese ascalone, daughter of prominent miner vincenzo ascalone, and takes place in a small town in sicily, as did germi's previous film divorce, italian style. agnese is seduced by her sister matilde's fiance, and has a tryst with him for which she confesses and tries to repent, only to be discovered by her mother and father. vincenzo immediately demands that the man, peppino califano, marry his daughter, and antics ensue. the film is a dark satire of sicilian social customs and honor laws, and is very similar to divorce, italian style.\n",
            " muthu  comes to the city from his village for a song contest. he meets ravikanth  in the city and they both work hard for the song contest. muthu tells ravikanth about how he fell in love with devayani  and how he got her to love him. devayani is the daughter of a song teacher in his village. he came to this contest so he could win the money and pay off the loan his mother had to the village leader. they both work together and end up winning the song contest. muthu then goes back to his village with joy and finds out a flood had come and meena's house had been destroyed, it was reported that her father and her body had not been found. muthu thinks that meena is dead, and is very sad. he then goes and gives the money to the village leader, paying off his mother's debt. his mother takes him to the city so that they can find a job and so that muthu can forget about meena. when they reach the city muthu finds out that his song was a big hit. therefore he had become very popular. the holder of the song contest  calls on muthu to come work for him. muthu does not want to, but his mother persuades him. he then works for janakaraj and his daughter falls in love with muthu. muthu who is still in love with meena refused to marry janakaraj's daughter . his mother says meena won't come back and she wishes to see his marriage. therefore he marries roja. soon after the marriage she has to go on a business trip to the usa. meena was in fact alive but has amnesia. muthu's songs are playing on the radio and meena happens to hear it and she remembers again. she promptly gets on the bus to the city from a village where she was helping the fisherman who saved her life. she meets muthu at the recording studio. he is surprised and overjoyed but doesn't tell her about his marriage to roja selvamani . meena is then adamant to get married soon, so they both get married. he then juggles both of his lives . he nearly gets caught when both roja selvamani and muthu with meena go to the saree shop and bump into each other. so to prove that they are two different people he takes a photo and photoshops it to show two of him shaking hands. they then all believe muthu and veera are different people. a thief who muthu had caught and handed over to the police takes revenge by kidnapping his wives. the thief also knows that both are one person, and when he comes to save them it is revealed that both are one person. after he saves them both his wives fight over him, one says that he officially married her first  while the other says that she fell in love first. his wives don't want to share. when he tries to explain they go away angrily. muthu then leaves the city to go back to his village. when he gets home he finds them both in his house. the film ends with them both holding his bag as he enters the house. www.veeratamilan.com\n"
          ]
        }
      ],
      "source": [
        "for i in range(10):\n",
        "  print(summaries_lower[i])"
      ]
    },
    {
      "cell_type": "markdown",
      "metadata": {
        "id": "kWEHd0sUFbxm"
      },
      "source": [
        "Έπειτα θα χωρίσουμε τις περιγραφές σε λέξεις και θα φιλτράρουμε τα stopwords που περιέχει η nltk μαζί με τα σημεία στίξης."
      ]
    },
    {
      "cell_type": "code",
      "execution_count": null,
      "metadata": {
        "colab": {
          "base_uri": "https://localhost:8080/"
        },
        "id": "hrxnufT0BqWm",
        "outputId": "aa637993-90e8-4de2-e450-eeae78eab5af"
      },
      "outputs": [
        {
          "name": "stderr",
          "output_type": "stream",
          "text": [
            "[nltk_data] Downloading package stopwords to /root/nltk_data...\n",
            "[nltk_data]   Package stopwords is already up-to-date!\n",
            "[nltk_data] Downloading package punkt to /root/nltk_data...\n",
            "[nltk_data]   Package punkt is already up-to-date!\n"
          ]
        },
        {
          "data": {
            "text/plain": [
              "True"
            ]
          },
          "execution_count": 10,
          "metadata": {},
          "output_type": "execute_result"
        }
      ],
      "source": [
        "from nltk import word_tokenize\n",
        "from nltk.corpus import stopwords\n",
        "# needed for word_tokenize and filtering\n",
        "nltk.download('stopwords')\n",
        "nltk.download('punkt')"
      ]
    },
    {
      "cell_type": "code",
      "execution_count": null,
      "metadata": {
        "id": "riWAWPcAKN6j"
      },
      "outputs": [],
      "source": [
        "if clean_run:\n",
        "  summaries_words = []\n",
        "  for summary in tqdm(summaries_lower):\n",
        "    tokenized = word_tokenize(summary)\n",
        "    filtered_words = [word for word in tokenized if word not in stopwords.words('english') + list(string.punctuation)]\n",
        "    summaries_words.append(filtered_words)\n",
        "\n",
        "  with open('summaries_tokenized.dump', 'wb') as fid:\n",
        "      pickle.dump(summaries_words, fid)\n",
        "else:\n",
        "  with open('drive/MyDrive/summaries_tokenized.dump', 'rb') as fid:\n",
        "    summaries_words = pickle.load(fid)"
      ]
    },
    {
      "cell_type": "code",
      "execution_count": null,
      "metadata": {
        "colab": {
          "base_uri": "https://localhost:8080/"
        },
        "id": "oruUred8HYLG",
        "outputId": "3a6343eb-43ad-4e3b-f181-83a84ed3e09b"
      },
      "outputs": [
        {
          "name": "stdout",
          "output_type": "stream",
          "text": [
            "['vivacious', 'lady', 'story', 'love', 'first', 'sight', 'young', 'botany', 'professor', 'named', 'peter', 'morgan', 'jr.', 'nightclub', 'singer', 'named', 'francey', 'film', 'also', 'comedic', 'elements', 'including', 'repeatedly', 'frustrated', 'attempts', 'newlywed', 'couple', 'find', 'moment', 'alone', 'story', 'begins', 'peter', 'sent', 'manhattan', 'retrieve', 'playboy', 'cousin', 'keith', 'james', 'ellison', 'immediately', 'falls', 'love', 'francey', 'whirlwind', 'one-day', 'courtship', 'peter', 'francey', 'get', 'married', 'keith', 'return', 'morgan', 'family', \"'s\", 'home', 'peter', 'teaches', 'university', 'run', 'father', 'peter', 'morgan', 'sr.', 'mr.', 'morgan', 'known', 'proud', 'overbearing', 'man', 'peter', 'afraid', 'tell', 'marriage', 'arrive', 'mr.', 'morgan', 'peter', \"'s\", 'high-society', 'fiancée', 'helen', 'initially', 'take', 'francey', 'another', 'keith', \"'s\", 'girlfriends', 'peter', 'decides', 'approach', 'father', 'news', 'francey', 'stays', 'women-only', 'hotel', 'peter', 'keith', 'introduce', 'new', 'botany', 'student', 'peter', 'mentions', 'francey', 'father', 'twice', 'occasions', 'mr.', 'morgan', 'interrupts', 'ignores', 'son', 'peter', 'becomes', 'insistent', 'apparently', 'ailing', 'mother', 'flare-up', 'heart', 'condition', 'making', 'conversation', 'impossible', 'third', 'attempt', 'peter', 'decides', 'announce', 'marriage', 'parents', 'university', \"'s\", 'student-faculty', 'prom', 'keith', 'brings', 'francey', 'prom', 'guest', 'francey', 'still', 'posing', 'student', 'develops', 'friendly', 'rapore', 'mrs.', 'morgan', 'gets', 'nasty', 'brawl', 'helen', 'francey', 'accidentally', 'punches', 'peter', \"'s\", 'father', 'peter', 'says', 'nothing', 'prom', 'blurts', 'news', 'father', 'mr.', 'morgan', 'give', 'important', 'speech', 'resulting', 'another', 'argument', 'another', 'flare-up', 'mrs.', 'morgan', \"'s\", 'heart', 'condition', 'prevents', 'mrs.', 'morgan', 'learning', 'francey', 'accidentally', 'finds', 'francey', 'conversation', 'francey', \"'s\", 'apartment', 'mrs.', 'morgan', 'accepts', 'news', 'happily', 'admits', 'francey', 'pretends', 'heart', 'trouble', 'time', 'husband', 'gets', 'argument', 'mr.', 'morgan', 'demands', 'francey', 'leave', 'peter', 'threatening', 'fire', \"n't\", 'francey', 'agrees', 'leave', 'incident', 'releases', 'thirty', 'years', 'marital', 'frustration', 'mrs.', 'morgan', 'also', 'decides', 'leave', 'husband', 'francey', 'tells', 'peter', 'leave', 'unless', 'change', 'father', \"'s\", 'mind', 'train', 'departs', 'peter', \"'s\", 'solution', 'threaten', 'family', 'disgrace', 'getting', 'drunk', 'otherwise', 'misbehaving', 'father', 'relents', 'even', 'costs', 'job', 'peter', 'passes', 'reach', 'train', 'departs', 'francey', 'mrs.', 'morgan', 'aboard', 'mr.', 'morgan', 'finally', 'yielded', 'combined', 'pressure', 'son', 'wife', 'stops', 'train', 'driving', 'ahead', 'peter', 'parking', 'car', 'track', 'marriages', 'saved', 'peter', 'francey', 'finally', 'honeymoon', 'train']\n",
            "['cleaning', 'underground', 'home', 'mole', 'senses', 'spring', 'probably', 'beginning', 'ground', 'curious', 'decides', 'every', 'mole', 'see', 'world', 'least', 'lifetime', 'makes', 'tunnel', 'soon', 'finds', 'english', 'countryside', 'mole', 'marvelled', 'new', 'world', 'wishes', 'see', 'every', 'bit', 'along', 'comes', 'rat', 'befriends', 'mole', 'offers', 'ride', 'small', 'blue', 'rowboat', 'well', 'short', 'picnic', 'riverbank', 'rat', 'tells', 'mole', 'different', 'creatures', 'inhabitate', 'near', 'river', \"'s\", 'badger', 'grumpy', \"n't\", 'like', 'company', 'toad', 'wealthy', 'lives', 'fine', 'mansion', 'along', 'riverbank', 'named', '``', 'toad', 'hall', \"''\", 'two', 'friends', 'set', 'meet', 'mr.', 'mole', 'rat', 'bewildered', 'see', 'toad', 'swept', 'away', 'new', 'mania', 'love', 'gypsy', 'carts', 'though', 'rat', 'hesitates', 'toad', 'offers', 'new', 'friend', 'wild', 'ride', 'vehicle', 'ride', 'thrilling', 'new', 'mole', 'much', 'rat', 'ends', 'abruptly', 'cart', 'destroyed', 'passing', 'motorcar', 'toad', \"n't\", 'mind', 'instantly', 'taken', 'new', 'mania', 'motorcars', 'determined', 'drive', 'countryside', 'new', 'motorcar', 'rat', 'mole', 'fear', 'friend', \"'s\", 'new', 'mania', 'dangerous', 'toad', 'hardly', 'drive', 'mole', 'seeks', 'advise', 'badger', 'lives', 'deep', 'inside', 'wild', 'wood', \"'s\", 'told', 'never', 'go', 'since', 'dangerous', 'place', 'rat', 'follows', 'mole', 'badger', \"'s\", 'house', 'two', 'animals', 'beg', 'help', 'badger', 'agrees', 'help', 'soon', 'winter', 'hibernating', 'animal', 'spring', 'comes', 'badger', 'orders', 'toad', 'kept', 'indoors', 'away', 'disastrous', 'rides', 'motorcars', 'toad', 'upset', 'outsmarts', 'rat', 'two', 'left', 'alone', 'determined', 'toad', 'sets', 'find', 'motorcar', 'rather', 'steal', 'one', 'toad', \"'s\", 'crime', 'lands', 'prison', 'friends', 'worry', 'mysterious', 'disappearance', 'help', 'young', 'girl', 'magistrate', \"'s\", 'daughter', 'toad', 'manages', 'escape', 'cell', 'return', 'toad', 'hall', 'however', 'upon', 'return', 'shocked', 'find', 'home', 'overtaken', 'band', 'ruthless', 'weasels', 'friends', 'rat', 'mole', 'badger', 'otter', 'cook', 'plan', 'rescover', 'toad', \"'s\", 'priced', 'home', 'restore', 'order', 'entire', 'community', 'along', 'riverbank']\n",
            "['shinnojo', 'low', 'level', 'samurai', 'lives', 'pretty', 'dutiful', 'loyal', 'wife', 'kayo', 'come', 'find', 'position', 'castle', 'food-taster', 'feudal', 'lord', 'boring', 'pointless', 'talks', 'opening', 'kendo', 'school', 'open', 'boys', 'castes', 'teach', 'use', 'sword', 'act', 'dream', 'becomes', 'ill', 'fever', 'tasting', 'sashimi', 'made', 'shell', 'fish', 'investigation', 'reveals', 'poisoning', 'due', 'human', 'conspiracy', 'poor', 'choice', 'food', 'season', 'three', 'days', 'awakes', 'finds', 'toxin', 'food', 'blinded', 'kayo', 'summoned', 'shinnojo', \"'s\", 'family', 'explain', 'couple', 'survive', 'uncle', 'laments', 'longer', 'knows', 'anybody', 'influence', 'castle', 'asks', 'kayo', 'knows', 'anybody', 'relates', 'toya', 'shimada', 'chief', 'duty', 'officer', 'castle', 'samurai', 'high', 'rank', 'offered', 'help', 'tell', 'act', 'upon', 'offer', 'assistance', 'message', 'castle', 'brings', 'good', 'news', 'shinnojo', \"'s\", 'stipend', 'rice', 'remain', 'life', 'aunt', 'tells', 'kayo', 'seen', 'another', 'man', 'tokuhei', 'faithful', 'servant', 'follow', 'kayo', 'notices', 'followed', 'although', 'tokuhei', 'offers', 'cover', 'reveals', 'shinnojo', 'shimada', 'offered', 'help', 'price', 'shown', 'forced', 'upon', 'solicited', 'two', 'additional', 'trysts', 'threatening', 'tell', 'shinnojo', 'first', 'enraged', 'shinnojo', 'divorces', 'orders', 'house', 'revealed', 'shimada', 'nothing', 'maintaining', 'stipend', 'came', 'gratitude', 'lord', 'clan', 'shinnojo', 'seeks', 'renew', 'skill', 'sword', 'blind', 'man', 'avenge', 'dishonor', 'kayo', 'tokuhei', 'sends', 'message', 'shimada', 'set', 'duel', 'additional', 'message', 'underestimate', 'two', 'samurai', 'meet', 'stables', 'near', 'river', 'decide', 'destinies', 'interesting', 'fight', 'shinnojo', 'cuts', 'shimada', \"'s\", 'arm', 'leaves', 'shimada', 'live', 'horribly', 'disfigured', 'telling', 'tokuhei', 'avenged', 'kayo', \"'s\", 'dishonor', 'next', 'day', 'shinnojo', 'informed', 'injured', 'shimada', 'refused', 'tell', 'anyone', 'happened', 'injured', 'duel', 'turns', 'night', 'shimada', 'committed', 'seppuku', 'killed', 'samurai', 'live', 'one', 'arm', 'dies', 'without', 'anyone', 'knowing', 'sin', 'mimura', 'family', 'violation', 'kayo', 'dishonorable', 'injury', 'blinded', 'man', 'tokuhei', 'tells', 'shinnojo', 'found', 'girl', 'work', 'kitchen', 'cook', 'one', 'taste', 'girl', \"'s\", 'food', 'shinnojo', 'recognizes', 'wife', \"'s\", 'cooking', 'calls', 'kayo', 'come', 'house', 'shinnojo', 'kayo', 'reconcile', 'understanding', 'begin', 'life', 'together', 'anew']\n",
            "['benny', 'horowitz', 'john', 'gilbert', 'reformed', 'gangster', 'proposes', 'marriage', 'bertha', 'neighbor', 'frequent', 'visitor', 'served', 'sentence', 'bertha', 'rejects', 'proposal', 'believes', 'still', 'love', 'freida', 'benny', \"'s\", 'former', 'gun', 'moll', 'party', 'freida', 'seeks', 'make', 'benny', 'jealous', 'former', 'rival', 'benny', 'takes', 'control', 'gang', \"'s\", 'leadership', 'rival', \"'s\", 'death', 'ruled', 'accidental', 'benny', 'bertha', 'go', 'together', 'start', 'new', 'life']\n",
            "['laura', 'fabrizio', 'meeting', 'every', 'summer', 'forest', 'parent', \"'s\", 'summer', 'home', 'fabrizio', 'solitary', 'boy', 'dog', 'company', 'laura', 'sweet', 'unconfident', 'child', 'summer', 'new', 'aspects', 'enter', 'story', 'growing', 'film', 'represents', 'part', 'child', 'part', 'adult', 'part', 'naive', 'part', 'knowing', 'laura', 'falling', 'love', 'fabrizio', 'displays', 'new', 'sexual', 'awareness', 'masked', 'malice', 'fabrizio', 'becomes', 'inexplicably', 'cruel', 'accelerates', 'unwarranted', 'torment', 'laura', 'many', 'ways', 'including', 'tying', 'putting', 'snake', 'near', 'killing', 'pet', 'bird', 'fond', 'fabrizio', 'prides', \"'king\", 'forest', 'rubbishes', 'laura', \"'s\", 'tender', 'attempts', 'queen', 'one', 'day', 'climb', '``', 'blue', 'mountain', \"''\", 'mysterious', 'tall', 'mountain', 'forest', \"'s\", 'edge', 'discover', 'ancient', 'building', 'ruins', 'exploring', 'find', 'cave', 'inside', 'fabrizio', 'seduces', 'laura', 'fabrizio', \"'s\", 'cruel', 'streak', 'boosted', 'new', 'sexual', 'confidence', 'one', 'point', 'virtually', 'forces', 'laura', 'much', 'upset', 'relent', 'makes', 'clear', 'wants', 'fabrizio', 'gentle', 'ridicules', 'things', 'develop', 'meet', 'sylvia', 'unlike', 'previously', 'virginal', 'laura', 'sylvia', 'confident', 'assertive', 'fabrizio', 'develops', 'fascination', 'eventually', 'bribing', 'laura', 'fetch', 'forest', 'join', 'play', 'sylvia', 'aware', 'fabrizio', '’', 'interest', 'asserts', 'affections', 'quickly', 'replacing', 'laura', 'demoting', 'servant', 'victim', 'fabrizio', 'takes', 'delight', 'laura', 'reluctant', 'leave', 'old', 'friend', 'new', 'lover', 'stays', 'becomes', 'target', 'duo', \"'s\", 'ever', 'progressing', 'cruelty', 'one', 'point', \"'hunt\", 'laura', 'bows', 'arrows', 'another', 'pretend', 'throw', 'high', 'ledge', 'make', 'love', 'front', 'insisting', 'punishment', 'must', 'watch', 'leaving', 'laura', 'confused', 'heartbroken', 'end', 'summer', 'girls', 'talking', 'returning', 'school', 'fabrizio', 'becomes', 'pensive', 'agitated', 'insists', 'taking', 'sylvia', 'ruins', 'first', 'time', 'three', 'go', 'cave', 'escape', 'thunderstorm', 'fabrizio', 'pretends', 'lost', 'laura', 'sylvia', 'breaks', 'sobbing', 'mother', 'traces', 'confidence', 'maturity', 'lost', 'fear', 'cave', 'fabrizio', 'repeatedly', 'begs', 'sylvia', 'stay', 'forever', 'morning', 'sylvia', 'still', 'lost', 'cave', 'rejects', 'desperate', 'fabrizio', 'pleas', 'stay', 'becomes', 'hysterical', 'kills', 'knife', 'feeling', 'way', 'wo', \"n't\", 'lose', 'stays', 'dead', 'body', 'gives', 'laura', 'flashlight', 'telling', 'knows', 'way', 'home', 'laura', 'reluctantly', 'leaves']\n",
            "['film', 'takes', 'place', 'summer', '1969', 'nasa', 'astronauts', 'successfully', 'landed', 'moon', 'first', 'time', 'apollo', '11', 'spacecraft', 'katherine', 'suffering', 'panic', 'attacks', 'caused', 'automobile', 'accident', 'resulted', 'loss', 'unborn', 'child', 'refuses', 'leave', 'house', 'washington', 'man', 'adventure', 'enjoys', 'travel', 'experiencing', 'life', 'result', 'conflict', 'two', 'eleven-year-old', 'son', 'andy', 'never', 'traveled', 'car', 'ever', 'left', 'town', 'washington', 'also', 'maintains', 'ragtag', 'collection', 'automobiles', 'various', 'vintages', 'decides', 'travel', 'andy', 'craters', 'moon', 'national', 'park', 'arriving', 'moment', 'apollo', '11', 'crew', 'lands', 'moon', 'make', 'trip', 'washington', \"'s\", '1949', 'pontiac', 'eight', 'convertible', 'nicknamed', '``', 'chief', \"''\", 'make', 'enemies', 'new', 'friends', 'learn', 'meaning', 'family', 'pontiac', \"'s\", 'mileage', 'arriving', 'destination', 'exactly', 'distance', 'miles', 'earth', 'moon', 'katherine', 'finds', 'husband', 'son', 'going', 'faces', 'fears', 'follows', 'one', 'washington', \"'s\", 'cars', 'amphicar', 'learns', 'importance', 'living', 'follows', 'pontiac', 'craters', 'moon', 'way', 'pontiac', \"'s\", 'engine', 'dies', 'washington', 'arranges', 'mechanic', 'install', 'replacement', 'engine', 'leave', 'premises', 'without', 'paying', 'engine', \"n't\", 'enough', 'money', 'pay', 'moment', 'apollo', '11', 'landing', 'pontiac', 'crashes', 'crater', 'craters', 'moon', 'andy', 'wheel', 'katherine', 'arrives', 'escape', 'police', 'chase', 'driving', 'amphicar', 'lake', 'canada', 'safety', 'adventure', 'brings', 'bellamy', 'family', 'together', 'ready', 'begin', 'normal', 'life']\n",
            "['dasima', 'nyai', 'native', 'mistress', 'englishman', 'edward', 'william', 'couple', 'daughter', 'nancy', 'live', 'home', 'near', 'gambir', 'square', 'batavia', 'delman', 'driver', 'samiun', 'fallen', 'love', 'dasima', 'despite', 'already', 'married', 'hayati', 'attempts', 'use', 'spells', 'win', 'heart', 'also', 'egg', 'merchant', 'mak', 'buyung', 'frighten', 'dasima', 'telling', 'young', 'woman', 'committed', 'sin', 'zina', 'samiun', 'eventually', 'succeeds', 'dasima', 'goes', 'live', 'hayati', 'taking', 'along', 'gold', 'jewels', 'hayati', 'agreed', 'let', 'samiun', 'take', 'second', 'wife', 'wants', 'dasima', \"'s\", 'money', 'use', 'gambling', 'dasima', 'eventually', 'realises', 'tricked', 'begins', 'keep', 'close', 'eye', 'remaining', 'wealth', 'get', 'samiun', 'calls', 'thug', 'puasa', 'tells', 'rob', 'young', 'woman', 'night', 'dasima', 'goes', 'hear', 'story', 'amir', 'hamzah', 'nearby', 'village', 'puasa', 'accosts', 'panics', 'screams', 'kills', 'throws', 'body', 'bridge', 'washes', 'behind', 'williams', 'home', 'samiun', 'puasa', 'caught', 'sentenced', 'hang']\n",
            "['employee', 'detects', 'pharmaceutical', 'company', \"'s\", 'sinister', 'plan', 'within', 'executive', 'office', 'wiped', 'entire', 'family', 'son', 'brian', 'survived', 'although', 'rammed', 'drill', 'skull', 'recognizes', 'one', 'thought', 'revenge']\n",
            "['film', 'presents', 'tale', 'agnese', 'ascalone', 'daughter', 'prominent', 'miner', 'vincenzo', 'ascalone', 'takes', 'place', 'small', 'town', 'sicily', 'germi', \"'s\", 'previous', 'film', 'divorce', 'italian', 'style', 'agnese', 'seduced', 'sister', 'matilde', \"'s\", 'fiance', 'tryst', 'confesses', 'tries', 'repent', 'discovered', 'mother', 'father', 'vincenzo', 'immediately', 'demands', 'man', 'peppino', 'califano', 'marry', 'daughter', 'antics', 'ensue', 'film', 'dark', 'satire', 'sicilian', 'social', 'customs', 'honor', 'laws', 'similar', 'divorce', 'italian', 'style']\n",
            "['muthu', 'comes', 'city', 'village', 'song', 'contest', 'meets', 'ravikanth', 'city', 'work', 'hard', 'song', 'contest', 'muthu', 'tells', 'ravikanth', 'fell', 'love', 'devayani', 'got', 'love', 'devayani', 'daughter', 'song', 'teacher', 'village', 'came', 'contest', 'could', 'win', 'money', 'pay', 'loan', 'mother', 'village', 'leader', 'work', 'together', 'end', 'winning', 'song', 'contest', 'muthu', 'goes', 'back', 'village', 'joy', 'finds', 'flood', 'come', 'meena', \"'s\", 'house', 'destroyed', 'reported', 'father', 'body', 'found', 'muthu', 'thinks', 'meena', 'dead', 'sad', 'goes', 'gives', 'money', 'village', 'leader', 'paying', 'mother', \"'s\", 'debt', 'mother', 'takes', 'city', 'find', 'job', 'muthu', 'forget', 'meena', 'reach', 'city', 'muthu', 'finds', 'song', 'big', 'hit', 'therefore', 'become', 'popular', 'holder', 'song', 'contest', 'calls', 'muthu', 'come', 'work', 'muthu', 'want', 'mother', 'persuades', 'works', 'janakaraj', 'daughter', 'falls', 'love', 'muthu', 'muthu', 'still', 'love', 'meena', 'refused', 'marry', 'janakaraj', \"'s\", 'daughter', 'mother', 'says', 'meena', 'wo', \"n't\", 'come', 'back', 'wishes', 'see', 'marriage', 'therefore', 'marries', 'roja', 'soon', 'marriage', 'go', 'business', 'trip', 'usa', 'meena', 'fact', 'alive', 'amnesia', 'muthu', \"'s\", 'songs', 'playing', 'radio', 'meena', 'happens', 'hear', 'remembers', 'promptly', 'gets', 'bus', 'city', 'village', 'helping', 'fisherman', 'saved', 'life', 'meets', 'muthu', 'recording', 'studio', 'surprised', 'overjoyed', \"n't\", 'tell', 'marriage', 'roja', 'selvamani', 'meena', 'adamant', 'get', 'married', 'soon', 'get', 'married', 'juggles', 'lives', 'nearly', 'gets', 'caught', 'roja', 'selvamani', 'muthu', 'meena', 'go', 'saree', 'shop', 'bump', 'prove', 'two', 'different', 'people', 'takes', 'photo', 'photoshops', 'show', 'two', 'shaking', 'hands', 'believe', 'muthu', 'veera', 'different', 'people', 'thief', 'muthu', 'caught', 'handed', 'police', 'takes', 'revenge', 'kidnapping', 'wives', 'thief', 'also', 'knows', 'one', 'person', 'comes', 'save', 'revealed', 'one', 'person', 'saves', 'wives', 'fight', 'one', 'says', 'officially', 'married', 'first', 'says', 'fell', 'love', 'first', 'wives', \"n't\", 'want', 'share', 'tries', 'explain', 'go', 'away', 'angrily', 'muthu', 'leaves', 'city', 'go', 'back', 'village', 'gets', 'home', 'finds', 'house', 'film', 'ends', 'holding', 'bag', 'enters', 'house', 'www.veeratamilan.com']\n"
          ]
        }
      ],
      "source": [
        "for i in range(10):\n",
        "  print(summaries_words[i])"
      ]
    },
    {
      "cell_type": "markdown",
      "metadata": {
        "id": "tqTccy9jK9pt"
      },
      "source": [
        "Παρατηρούμε πως εξαιτίας του είδους των προτάσεων που επεξεργαζόμαστε υπάρχουν πολλές λέξεις που επαναλαμβάνονται στις περιγραφές και δεν προσδίδουν σημασία, όπως για παράδειγμα οι λέξεις film, jr., sr., mr., mrs. ή αντικείμενα που δεν είναι λέξεις αλλά αναγνωρίστηκαν από την επεξεργασία μας ως τέτοιες όπως π.χ. ``, '', 's, n't, ’ ή ακόμα και links όπως π.χ. www.veeratamilan.com. Τέλος, αφαιρούμε και πολύ σύντομες συμβολοσειρές (μικρότερες από 3 γράμματα)."
      ]
    },
    {
      "cell_type": "code",
      "execution_count": null,
      "metadata": {
        "colab": {
          "base_uri": "https://localhost:8080/",
          "height": 49,
          "referenced_widgets": [
            "3bf82561872443068a7394fea3576853",
            "92da2841df714e809b8282b0076e51d8",
            "412478dc91bc447e82655f5e5a823f21",
            "2726fd88205c4db1bda915bd496a1bba",
            "93c75e7ac2a54528a9ae794cc6aea715",
            "d9ee791a293b4c6bb19924e1ebb4fc25",
            "6b960084ff9c4e22b2fce9dc93ecd3be",
            "cd5ce6e35c1a428e8888144efe28efd2",
            "0c8a62b939b14c8fb9544800f018ee97",
            "d82ba295524d4bc4b494a78fcd72e710",
            "78233042f01044eebda7f8f851794a70"
          ]
        },
        "id": "c47LUH_XMbCz",
        "outputId": "5affe975-6537-4c1b-f896-9a325a4cbd80"
      },
      "outputs": [
        {
          "data": {
            "application/vnd.jupyter.widget-view+json": {
              "model_id": "3bf82561872443068a7394fea3576853",
              "version_major": 2,
              "version_minor": 0
            },
            "text/plain": [
              "  0%|          | 0/5000 [00:00<?, ?it/s]"
            ]
          },
          "metadata": {},
          "output_type": "display_data"
        }
      ],
      "source": [
        "extra_filtering = [\"film\",\"jr.\", \"sr.\", \"mr.\", \"mrs.\", \"``\", \"''\", \"'s\", \"n't\",\"’\"]\n",
        "summaries_final = []\n",
        "for summary in tqdm(summaries_words):\n",
        "  filtered_words = [word for word in summary if (word not in extra_filtering and \n",
        "                                                 len(word)>2 and \n",
        "                                                 re.search(\"^[a-z]+$\", word))]\n",
        "  summaries_final.append(filtered_words)"
      ]
    },
    {
      "cell_type": "code",
      "execution_count": null,
      "metadata": {
        "colab": {
          "base_uri": "https://localhost:8080/"
        },
        "id": "IhvBeJ8POfwO",
        "outputId": "0469242a-6544-4443-a9a5-9a3c2f259012"
      },
      "outputs": [
        {
          "name": "stdout",
          "output_type": "stream",
          "text": [
            "['vivacious', 'lady', 'story', 'love', 'first', 'sight', 'young', 'botany', 'professor', 'named', 'peter', 'morgan', 'nightclub', 'singer', 'named', 'francey', 'also', 'comedic', 'elements', 'including', 'repeatedly', 'frustrated', 'attempts', 'newlywed', 'couple', 'find', 'moment', 'alone', 'story', 'begins', 'peter', 'sent', 'manhattan', 'retrieve', 'playboy', 'cousin', 'keith', 'james', 'ellison', 'immediately', 'falls', 'love', 'francey', 'whirlwind', 'courtship', 'peter', 'francey', 'get', 'married', 'keith', 'return', 'morgan', 'family', 'home', 'peter', 'teaches', 'university', 'run', 'father', 'peter', 'morgan', 'morgan', 'known', 'proud', 'overbearing', 'man', 'peter', 'afraid', 'tell', 'marriage', 'arrive', 'morgan', 'peter', 'helen', 'initially', 'take', 'francey', 'another', 'keith', 'girlfriends', 'peter', 'decides', 'approach', 'father', 'news', 'francey', 'stays', 'hotel', 'peter', 'keith', 'introduce', 'new', 'botany', 'student', 'peter', 'mentions', 'francey', 'father', 'twice', 'occasions', 'morgan', 'interrupts', 'ignores', 'son', 'peter', 'becomes', 'insistent', 'apparently', 'ailing', 'mother', 'heart', 'condition', 'making', 'conversation', 'impossible', 'third', 'attempt', 'peter', 'decides', 'announce', 'marriage', 'parents', 'university', 'prom', 'keith', 'brings', 'francey', 'prom', 'guest', 'francey', 'still', 'posing', 'student', 'develops', 'friendly', 'rapore', 'morgan', 'gets', 'nasty', 'brawl', 'helen', 'francey', 'accidentally', 'punches', 'peter', 'father', 'peter', 'says', 'nothing', 'prom', 'blurts', 'news', 'father', 'morgan', 'give', 'important', 'speech', 'resulting', 'another', 'argument', 'another', 'morgan', 'heart', 'condition', 'prevents', 'morgan', 'learning', 'francey', 'accidentally', 'finds', 'francey', 'conversation', 'francey', 'apartment', 'morgan', 'accepts', 'news', 'happily', 'admits', 'francey', 'pretends', 'heart', 'trouble', 'time', 'husband', 'gets', 'argument', 'morgan', 'demands', 'francey', 'leave', 'peter', 'threatening', 'fire', 'francey', 'agrees', 'leave', 'incident', 'releases', 'thirty', 'years', 'marital', 'frustration', 'morgan', 'also', 'decides', 'leave', 'husband', 'francey', 'tells', 'peter', 'leave', 'unless', 'change', 'father', 'mind', 'train', 'departs', 'peter', 'solution', 'threaten', 'family', 'disgrace', 'getting', 'drunk', 'otherwise', 'misbehaving', 'father', 'relents', 'even', 'costs', 'job', 'peter', 'passes', 'reach', 'train', 'departs', 'francey', 'morgan', 'aboard', 'morgan', 'finally', 'yielded', 'combined', 'pressure', 'son', 'wife', 'stops', 'train', 'driving', 'ahead', 'peter', 'parking', 'car', 'track', 'marriages', 'saved', 'peter', 'francey', 'finally', 'honeymoon', 'train']\n",
            "['cleaning', 'underground', 'home', 'mole', 'senses', 'spring', 'probably', 'beginning', 'ground', 'curious', 'decides', 'every', 'mole', 'see', 'world', 'least', 'lifetime', 'makes', 'tunnel', 'soon', 'finds', 'english', 'countryside', 'mole', 'marvelled', 'new', 'world', 'wishes', 'see', 'every', 'bit', 'along', 'comes', 'rat', 'befriends', 'mole', 'offers', 'ride', 'small', 'blue', 'rowboat', 'well', 'short', 'picnic', 'riverbank', 'rat', 'tells', 'mole', 'different', 'creatures', 'inhabitate', 'near', 'river', 'badger', 'grumpy', 'like', 'company', 'toad', 'wealthy', 'lives', 'fine', 'mansion', 'along', 'riverbank', 'named', 'toad', 'hall', 'two', 'friends', 'set', 'meet', 'mole', 'rat', 'bewildered', 'see', 'toad', 'swept', 'away', 'new', 'mania', 'love', 'gypsy', 'carts', 'though', 'rat', 'hesitates', 'toad', 'offers', 'new', 'friend', 'wild', 'ride', 'vehicle', 'ride', 'thrilling', 'new', 'mole', 'much', 'rat', 'ends', 'abruptly', 'cart', 'destroyed', 'passing', 'motorcar', 'toad', 'mind', 'instantly', 'taken', 'new', 'mania', 'motorcars', 'determined', 'drive', 'countryside', 'new', 'motorcar', 'rat', 'mole', 'fear', 'friend', 'new', 'mania', 'dangerous', 'toad', 'hardly', 'drive', 'mole', 'seeks', 'advise', 'badger', 'lives', 'deep', 'inside', 'wild', 'wood', 'told', 'never', 'since', 'dangerous', 'place', 'rat', 'follows', 'mole', 'badger', 'house', 'two', 'animals', 'beg', 'help', 'badger', 'agrees', 'help', 'soon', 'winter', 'hibernating', 'animal', 'spring', 'comes', 'badger', 'orders', 'toad', 'kept', 'indoors', 'away', 'disastrous', 'rides', 'motorcars', 'toad', 'upset', 'outsmarts', 'rat', 'two', 'left', 'alone', 'determined', 'toad', 'sets', 'find', 'motorcar', 'rather', 'steal', 'one', 'toad', 'crime', 'lands', 'prison', 'friends', 'worry', 'mysterious', 'disappearance', 'help', 'young', 'girl', 'magistrate', 'daughter', 'toad', 'manages', 'escape', 'cell', 'return', 'toad', 'hall', 'however', 'upon', 'return', 'shocked', 'find', 'home', 'overtaken', 'band', 'ruthless', 'weasels', 'friends', 'rat', 'mole', 'badger', 'otter', 'cook', 'plan', 'rescover', 'toad', 'priced', 'home', 'restore', 'order', 'entire', 'community', 'along', 'riverbank']\n",
            "['shinnojo', 'low', 'level', 'samurai', 'lives', 'pretty', 'dutiful', 'loyal', 'wife', 'kayo', 'come', 'find', 'position', 'castle', 'feudal', 'lord', 'boring', 'pointless', 'talks', 'opening', 'kendo', 'school', 'open', 'boys', 'castes', 'teach', 'use', 'sword', 'act', 'dream', 'becomes', 'ill', 'fever', 'tasting', 'sashimi', 'made', 'shell', 'fish', 'investigation', 'reveals', 'poisoning', 'due', 'human', 'conspiracy', 'poor', 'choice', 'food', 'season', 'three', 'days', 'awakes', 'finds', 'toxin', 'food', 'blinded', 'kayo', 'summoned', 'shinnojo', 'family', 'explain', 'couple', 'survive', 'uncle', 'laments', 'longer', 'knows', 'anybody', 'influence', 'castle', 'asks', 'kayo', 'knows', 'anybody', 'relates', 'toya', 'shimada', 'chief', 'duty', 'officer', 'castle', 'samurai', 'high', 'rank', 'offered', 'help', 'tell', 'act', 'upon', 'offer', 'assistance', 'message', 'castle', 'brings', 'good', 'news', 'shinnojo', 'stipend', 'rice', 'remain', 'life', 'aunt', 'tells', 'kayo', 'seen', 'another', 'man', 'tokuhei', 'faithful', 'servant', 'follow', 'kayo', 'notices', 'followed', 'although', 'tokuhei', 'offers', 'cover', 'reveals', 'shinnojo', 'shimada', 'offered', 'help', 'price', 'shown', 'forced', 'upon', 'solicited', 'two', 'additional', 'trysts', 'threatening', 'tell', 'shinnojo', 'first', 'enraged', 'shinnojo', 'divorces', 'orders', 'house', 'revealed', 'shimada', 'nothing', 'maintaining', 'stipend', 'came', 'gratitude', 'lord', 'clan', 'shinnojo', 'seeks', 'renew', 'skill', 'sword', 'blind', 'man', 'avenge', 'dishonor', 'kayo', 'tokuhei', 'sends', 'message', 'shimada', 'set', 'duel', 'additional', 'message', 'underestimate', 'two', 'samurai', 'meet', 'stables', 'near', 'river', 'decide', 'destinies', 'interesting', 'fight', 'shinnojo', 'cuts', 'shimada', 'arm', 'leaves', 'shimada', 'live', 'horribly', 'disfigured', 'telling', 'tokuhei', 'avenged', 'kayo', 'dishonor', 'next', 'day', 'shinnojo', 'informed', 'injured', 'shimada', 'refused', 'tell', 'anyone', 'happened', 'injured', 'duel', 'turns', 'night', 'shimada', 'committed', 'seppuku', 'killed', 'samurai', 'live', 'one', 'arm', 'dies', 'without', 'anyone', 'knowing', 'sin', 'mimura', 'family', 'violation', 'kayo', 'dishonorable', 'injury', 'blinded', 'man', 'tokuhei', 'tells', 'shinnojo', 'found', 'girl', 'work', 'kitchen', 'cook', 'one', 'taste', 'girl', 'food', 'shinnojo', 'recognizes', 'wife', 'cooking', 'calls', 'kayo', 'come', 'house', 'shinnojo', 'kayo', 'reconcile', 'understanding', 'begin', 'life', 'together', 'anew']\n",
            "['benny', 'horowitz', 'john', 'gilbert', 'reformed', 'gangster', 'proposes', 'marriage', 'bertha', 'neighbor', 'frequent', 'visitor', 'served', 'sentence', 'bertha', 'rejects', 'proposal', 'believes', 'still', 'love', 'freida', 'benny', 'former', 'gun', 'moll', 'party', 'freida', 'seeks', 'make', 'benny', 'jealous', 'former', 'rival', 'benny', 'takes', 'control', 'gang', 'leadership', 'rival', 'death', 'ruled', 'accidental', 'benny', 'bertha', 'together', 'start', 'new', 'life']\n",
            "['laura', 'fabrizio', 'meeting', 'every', 'summer', 'forest', 'parent', 'summer', 'home', 'fabrizio', 'solitary', 'boy', 'dog', 'company', 'laura', 'sweet', 'unconfident', 'child', 'summer', 'new', 'aspects', 'enter', 'story', 'growing', 'represents', 'part', 'child', 'part', 'adult', 'part', 'naive', 'part', 'knowing', 'laura', 'falling', 'love', 'fabrizio', 'displays', 'new', 'sexual', 'awareness', 'masked', 'malice', 'fabrizio', 'becomes', 'inexplicably', 'cruel', 'accelerates', 'unwarranted', 'torment', 'laura', 'many', 'ways', 'including', 'tying', 'putting', 'snake', 'near', 'killing', 'pet', 'bird', 'fond', 'fabrizio', 'prides', 'forest', 'rubbishes', 'laura', 'tender', 'attempts', 'queen', 'one', 'day', 'climb', 'blue', 'mountain', 'mysterious', 'tall', 'mountain', 'forest', 'edge', 'discover', 'ancient', 'building', 'ruins', 'exploring', 'find', 'cave', 'inside', 'fabrizio', 'seduces', 'laura', 'fabrizio', 'cruel', 'streak', 'boosted', 'new', 'sexual', 'confidence', 'one', 'point', 'virtually', 'forces', 'laura', 'much', 'upset', 'relent', 'makes', 'clear', 'wants', 'fabrizio', 'gentle', 'ridicules', 'things', 'develop', 'meet', 'sylvia', 'unlike', 'previously', 'virginal', 'laura', 'sylvia', 'confident', 'assertive', 'fabrizio', 'develops', 'fascination', 'eventually', 'bribing', 'laura', 'fetch', 'forest', 'join', 'play', 'sylvia', 'aware', 'fabrizio', 'interest', 'asserts', 'affections', 'quickly', 'replacing', 'laura', 'demoting', 'servant', 'victim', 'fabrizio', 'takes', 'delight', 'laura', 'reluctant', 'leave', 'old', 'friend', 'new', 'lover', 'stays', 'becomes', 'target', 'duo', 'ever', 'progressing', 'cruelty', 'one', 'point', 'laura', 'bows', 'arrows', 'another', 'pretend', 'throw', 'high', 'ledge', 'make', 'love', 'front', 'insisting', 'punishment', 'must', 'watch', 'leaving', 'laura', 'confused', 'heartbroken', 'end', 'summer', 'girls', 'talking', 'returning', 'school', 'fabrizio', 'becomes', 'pensive', 'agitated', 'insists', 'taking', 'sylvia', 'ruins', 'first', 'time', 'three', 'cave', 'escape', 'thunderstorm', 'fabrizio', 'pretends', 'lost', 'laura', 'sylvia', 'breaks', 'sobbing', 'mother', 'traces', 'confidence', 'maturity', 'lost', 'fear', 'cave', 'fabrizio', 'repeatedly', 'begs', 'sylvia', 'stay', 'forever', 'morning', 'sylvia', 'still', 'lost', 'cave', 'rejects', 'desperate', 'fabrizio', 'pleas', 'stay', 'becomes', 'hysterical', 'kills', 'knife', 'feeling', 'way', 'lose', 'stays', 'dead', 'body', 'gives', 'laura', 'flashlight', 'telling', 'knows', 'way', 'home', 'laura', 'reluctantly', 'leaves']\n",
            "['takes', 'place', 'summer', 'nasa', 'astronauts', 'successfully', 'landed', 'moon', 'first', 'time', 'apollo', 'spacecraft', 'katherine', 'suffering', 'panic', 'attacks', 'caused', 'automobile', 'accident', 'resulted', 'loss', 'unborn', 'child', 'refuses', 'leave', 'house', 'washington', 'man', 'adventure', 'enjoys', 'travel', 'experiencing', 'life', 'result', 'conflict', 'two', 'son', 'andy', 'never', 'traveled', 'car', 'ever', 'left', 'town', 'washington', 'also', 'maintains', 'ragtag', 'collection', 'automobiles', 'various', 'vintages', 'decides', 'travel', 'andy', 'craters', 'moon', 'national', 'park', 'arriving', 'moment', 'apollo', 'crew', 'lands', 'moon', 'make', 'trip', 'washington', 'pontiac', 'eight', 'convertible', 'nicknamed', 'chief', 'make', 'enemies', 'new', 'friends', 'learn', 'meaning', 'family', 'pontiac', 'mileage', 'arriving', 'destination', 'exactly', 'distance', 'miles', 'earth', 'moon', 'katherine', 'finds', 'husband', 'son', 'going', 'faces', 'fears', 'follows', 'one', 'washington', 'cars', 'amphicar', 'learns', 'importance', 'living', 'follows', 'pontiac', 'craters', 'moon', 'way', 'pontiac', 'engine', 'dies', 'washington', 'arranges', 'mechanic', 'install', 'replacement', 'engine', 'leave', 'premises', 'without', 'paying', 'engine', 'enough', 'money', 'pay', 'moment', 'apollo', 'landing', 'pontiac', 'crashes', 'crater', 'craters', 'moon', 'andy', 'wheel', 'katherine', 'arrives', 'escape', 'police', 'chase', 'driving', 'amphicar', 'lake', 'canada', 'safety', 'adventure', 'brings', 'bellamy', 'family', 'together', 'ready', 'begin', 'normal', 'life']\n",
            "['dasima', 'nyai', 'native', 'mistress', 'englishman', 'edward', 'william', 'couple', 'daughter', 'nancy', 'live', 'home', 'near', 'gambir', 'square', 'batavia', 'delman', 'driver', 'samiun', 'fallen', 'love', 'dasima', 'despite', 'already', 'married', 'hayati', 'attempts', 'use', 'spells', 'win', 'heart', 'also', 'egg', 'merchant', 'mak', 'buyung', 'frighten', 'dasima', 'telling', 'young', 'woman', 'committed', 'sin', 'zina', 'samiun', 'eventually', 'succeeds', 'dasima', 'goes', 'live', 'hayati', 'taking', 'along', 'gold', 'jewels', 'hayati', 'agreed', 'let', 'samiun', 'take', 'second', 'wife', 'wants', 'dasima', 'money', 'use', 'gambling', 'dasima', 'eventually', 'realises', 'tricked', 'begins', 'keep', 'close', 'eye', 'remaining', 'wealth', 'get', 'samiun', 'calls', 'thug', 'puasa', 'tells', 'rob', 'young', 'woman', 'night', 'dasima', 'goes', 'hear', 'story', 'amir', 'hamzah', 'nearby', 'village', 'puasa', 'accosts', 'panics', 'screams', 'kills', 'throws', 'body', 'bridge', 'washes', 'behind', 'williams', 'home', 'samiun', 'puasa', 'caught', 'sentenced', 'hang']\n",
            "['employee', 'detects', 'pharmaceutical', 'company', 'sinister', 'plan', 'within', 'executive', 'office', 'wiped', 'entire', 'family', 'son', 'brian', 'survived', 'although', 'rammed', 'drill', 'skull', 'recognizes', 'one', 'thought', 'revenge']\n",
            "['presents', 'tale', 'agnese', 'ascalone', 'daughter', 'prominent', 'miner', 'vincenzo', 'ascalone', 'takes', 'place', 'small', 'town', 'sicily', 'germi', 'previous', 'divorce', 'italian', 'style', 'agnese', 'seduced', 'sister', 'matilde', 'fiance', 'tryst', 'confesses', 'tries', 'repent', 'discovered', 'mother', 'father', 'vincenzo', 'immediately', 'demands', 'man', 'peppino', 'califano', 'marry', 'daughter', 'antics', 'ensue', 'dark', 'satire', 'sicilian', 'social', 'customs', 'honor', 'laws', 'similar', 'divorce', 'italian', 'style']\n",
            "['muthu', 'comes', 'city', 'village', 'song', 'contest', 'meets', 'ravikanth', 'city', 'work', 'hard', 'song', 'contest', 'muthu', 'tells', 'ravikanth', 'fell', 'love', 'devayani', 'got', 'love', 'devayani', 'daughter', 'song', 'teacher', 'village', 'came', 'contest', 'could', 'win', 'money', 'pay', 'loan', 'mother', 'village', 'leader', 'work', 'together', 'end', 'winning', 'song', 'contest', 'muthu', 'goes', 'back', 'village', 'joy', 'finds', 'flood', 'come', 'meena', 'house', 'destroyed', 'reported', 'father', 'body', 'found', 'muthu', 'thinks', 'meena', 'dead', 'sad', 'goes', 'gives', 'money', 'village', 'leader', 'paying', 'mother', 'debt', 'mother', 'takes', 'city', 'find', 'job', 'muthu', 'forget', 'meena', 'reach', 'city', 'muthu', 'finds', 'song', 'big', 'hit', 'therefore', 'become', 'popular', 'holder', 'song', 'contest', 'calls', 'muthu', 'come', 'work', 'muthu', 'want', 'mother', 'persuades', 'works', 'janakaraj', 'daughter', 'falls', 'love', 'muthu', 'muthu', 'still', 'love', 'meena', 'refused', 'marry', 'janakaraj', 'daughter', 'mother', 'says', 'meena', 'come', 'back', 'wishes', 'see', 'marriage', 'therefore', 'marries', 'roja', 'soon', 'marriage', 'business', 'trip', 'usa', 'meena', 'fact', 'alive', 'amnesia', 'muthu', 'songs', 'playing', 'radio', 'meena', 'happens', 'hear', 'remembers', 'promptly', 'gets', 'bus', 'city', 'village', 'helping', 'fisherman', 'saved', 'life', 'meets', 'muthu', 'recording', 'studio', 'surprised', 'overjoyed', 'tell', 'marriage', 'roja', 'selvamani', 'meena', 'adamant', 'get', 'married', 'soon', 'get', 'married', 'juggles', 'lives', 'nearly', 'gets', 'caught', 'roja', 'selvamani', 'muthu', 'meena', 'saree', 'shop', 'bump', 'prove', 'two', 'different', 'people', 'takes', 'photo', 'photoshops', 'show', 'two', 'shaking', 'hands', 'believe', 'muthu', 'veera', 'different', 'people', 'thief', 'muthu', 'caught', 'handed', 'police', 'takes', 'revenge', 'kidnapping', 'wives', 'thief', 'also', 'knows', 'one', 'person', 'comes', 'save', 'revealed', 'one', 'person', 'saves', 'wives', 'fight', 'one', 'says', 'officially', 'married', 'first', 'says', 'fell', 'love', 'first', 'wives', 'want', 'share', 'tries', 'explain', 'away', 'angrily', 'muthu', 'leaves', 'city', 'back', 'village', 'gets', 'home', 'finds', 'house', 'ends', 'holding', 'bag', 'enters', 'house']\n"
          ]
        }
      ],
      "source": [
        "for i in range(10):\n",
        "  print(summaries_final[i])"
      ]
    },
    {
      "cell_type": "markdown",
      "metadata": {
        "id": "DD5KuSKrxQ8I"
      },
      "source": [
        "## Μετατροπή σε TFIDF\n",
        "\n",
        "Το πρώτο βήμα θα είναι λοιπόν να μετατρέψετε το corpus σε αναπαράσταση tf-idf:"
      ]
    },
    {
      "cell_type": "markdown",
      "metadata": {
        "id": "aRJdxFcqZ4GM"
      },
      "source": [
        "Αρχικά ενημερώνουμε το corpus με βάση τα αποτελέσματα της παραπάνω ενότητας."
      ]
    },
    {
      "cell_type": "code",
      "execution_count": null,
      "metadata": {
        "colab": {
          "base_uri": "https://localhost:8080/",
          "height": 49,
          "referenced_widgets": [
            "5335d4367c0d4459ba7a5db4c1c6a175",
            "7400ccfd55f8470ab14a4cae6a654873",
            "014192a742b04bc89b2b2f838f881b7b",
            "4987e09e36394feeaaba2db9b2296724",
            "3a2a7639d33a4dd08cfb7e53ecf5b0d0",
            "0387ac46697040de9b66ec7439495378",
            "9285f6437f1c4ba68dbc504e3c83b283",
            "d55f26868c7343b4b626d4740bbfdb9f",
            "0711163b7d254433ad92679385612b78",
            "074f2156e7764ca0b2df3f2ab495a836",
            "8152db4d18a04938a2783e7c847554b6"
          ]
        },
        "id": "hOEFeNL3Z_1y",
        "outputId": "313ca590-5ece-4a37-cc25-cf78829c2e13"
      },
      "outputs": [
        {
          "data": {
            "application/vnd.jupyter.widget-view+json": {
              "model_id": "5335d4367c0d4459ba7a5db4c1c6a175",
              "version_major": 2,
              "version_minor": 0
            },
            "text/plain": [
              "  0%|          | 0/5000 [00:00<?, ?it/s]"
            ]
          },
          "metadata": {},
          "output_type": "display_data"
        }
      ],
      "source": [
        "corpus_updated = corpus.copy()\n",
        "for i, summary in tqdm(enumerate(summaries_final), total=5000):\n",
        "  corpus_updated[i] = ' '.join(word for word in summary)"
      ]
    },
    {
      "cell_type": "code",
      "execution_count": null,
      "metadata": {
        "colab": {
          "base_uri": "https://localhost:8080/"
        },
        "id": "QV8ooBhVa3aq",
        "outputId": "d0ae45d7-41a7-431c-d11c-9152fc899776"
      },
      "outputs": [
        {
          "name": "stdout",
          "output_type": "stream",
          "text": [
            "vivacious lady story love first sight young botany professor named peter morgan nightclub singer named francey also comedic elements including repeatedly frustrated attempts newlywed couple find moment alone story begins peter sent manhattan retrieve playboy cousin keith james ellison immediately falls love francey whirlwind courtship peter francey get married keith return morgan family home peter teaches university run father peter morgan morgan known proud overbearing man peter afraid tell marriage arrive morgan peter helen initially take francey another keith girlfriends peter decides approach father news francey stays hotel peter keith introduce new botany student peter mentions francey father twice occasions morgan interrupts ignores son peter becomes insistent apparently ailing mother heart condition making conversation impossible third attempt peter decides announce marriage parents university prom keith brings francey prom guest francey still posing student develops friendly rapore morgan gets nasty brawl helen francey accidentally punches peter father peter says nothing prom blurts news father morgan give important speech resulting another argument another morgan heart condition prevents morgan learning francey accidentally finds francey conversation francey apartment morgan accepts news happily admits francey pretends heart trouble time husband gets argument morgan demands francey leave peter threatening fire francey agrees leave incident releases thirty years marital frustration morgan also decides leave husband francey tells peter leave unless change father mind train departs peter solution threaten family disgrace getting drunk otherwise misbehaving father relents even costs job peter passes reach train departs francey morgan aboard morgan finally yielded combined pressure son wife stops train driving ahead peter parking car track marriages saved peter francey finally honeymoon train\n",
            "cleaning underground home mole senses spring probably beginning ground curious decides every mole see world least lifetime makes tunnel soon finds english countryside mole marvelled new world wishes see every bit along comes rat befriends mole offers ride small blue rowboat well short picnic riverbank rat tells mole different creatures inhabitate near river badger grumpy like company toad wealthy lives fine mansion along riverbank named toad hall two friends set meet mole rat bewildered see toad swept away new mania love gypsy carts though rat hesitates toad offers new friend wild ride vehicle ride thrilling new mole much rat ends abruptly cart destroyed passing motorcar toad mind instantly taken new mania motorcars determined drive countryside new motorcar rat mole fear friend new mania dangerous toad hardly drive mole seeks advise badger lives deep inside wild wood told never since dangerous place rat follows mole badger house two animals beg help badger agrees help soon winter hibernating animal spring comes badger orders toad kept indoors away disastrous rides motorcars toad upset outsmarts rat two left alone determined toad sets find motorcar rather steal one toad crime lands prison friends worry mysterious disappearance help young girl magistrate daughter toad manages escape cell return toad hall however upon return shocked find home overtaken band ruthless weasels friends rat mole badger otter cook plan rescover toad priced home restore order entire community along riverbank\n",
            "shinnojo low level samurai lives pretty dutiful loyal wife kayo come find position castle feudal lord boring pointless talks opening kendo school open boys castes teach use sword act dream becomes ill fever tasting sashimi made shell fish investigation reveals poisoning due human conspiracy poor choice food season three days awakes finds toxin food blinded kayo summoned shinnojo family explain couple survive uncle laments longer knows anybody influence castle asks kayo knows anybody relates toya shimada chief duty officer castle samurai high rank offered help tell act upon offer assistance message castle brings good news shinnojo stipend rice remain life aunt tells kayo seen another man tokuhei faithful servant follow kayo notices followed although tokuhei offers cover reveals shinnojo shimada offered help price shown forced upon solicited two additional trysts threatening tell shinnojo first enraged shinnojo divorces orders house revealed shimada nothing maintaining stipend came gratitude lord clan shinnojo seeks renew skill sword blind man avenge dishonor kayo tokuhei sends message shimada set duel additional message underestimate two samurai meet stables near river decide destinies interesting fight shinnojo cuts shimada arm leaves shimada live horribly disfigured telling tokuhei avenged kayo dishonor next day shinnojo informed injured shimada refused tell anyone happened injured duel turns night shimada committed seppuku killed samurai live one arm dies without anyone knowing sin mimura family violation kayo dishonorable injury blinded man tokuhei tells shinnojo found girl work kitchen cook one taste girl food shinnojo recognizes wife cooking calls kayo come house shinnojo kayo reconcile understanding begin life together anew\n",
            "benny horowitz john gilbert reformed gangster proposes marriage bertha neighbor frequent visitor served sentence bertha rejects proposal believes still love freida benny former gun moll party freida seeks make benny jealous former rival benny takes control gang leadership rival death ruled accidental benny bertha together start new life\n",
            "laura fabrizio meeting every summer forest parent summer home fabrizio solitary boy dog company laura sweet unconfident child summer new aspects enter story growing represents part child part adult part naive part knowing laura falling love fabrizio displays new sexual awareness masked malice fabrizio becomes inexplicably cruel accelerates unwarranted torment laura many ways including tying putting snake near killing pet bird fond fabrizio prides forest rubbishes laura tender attempts queen one day climb blue mountain mysterious tall mountain forest edge discover ancient building ruins exploring find cave inside fabrizio seduces laura fabrizio cruel streak boosted new sexual confidence one point virtually forces laura much upset relent makes clear wants fabrizio gentle ridicules things develop meet sylvia unlike previously virginal laura sylvia confident assertive fabrizio develops fascination eventually bribing laura fetch forest join play sylvia aware fabrizio interest asserts affections quickly replacing laura demoting servant victim fabrizio takes delight laura reluctant leave old friend new lover stays becomes target duo ever progressing cruelty one point laura bows arrows another pretend throw high ledge make love front insisting punishment must watch leaving laura confused heartbroken end summer girls talking returning school fabrizio becomes pensive agitated insists taking sylvia ruins first time three cave escape thunderstorm fabrizio pretends lost laura sylvia breaks sobbing mother traces confidence maturity lost fear cave fabrizio repeatedly begs sylvia stay forever morning sylvia still lost cave rejects desperate fabrizio pleas stay becomes hysterical kills knife feeling way lose stays dead body gives laura flashlight telling knows way home laura reluctantly leaves\n",
            "takes place summer nasa astronauts successfully landed moon first time apollo spacecraft katherine suffering panic attacks caused automobile accident resulted loss unborn child refuses leave house washington man adventure enjoys travel experiencing life result conflict two son andy never traveled car ever left town washington also maintains ragtag collection automobiles various vintages decides travel andy craters moon national park arriving moment apollo crew lands moon make trip washington pontiac eight convertible nicknamed chief make enemies new friends learn meaning family pontiac mileage arriving destination exactly distance miles earth moon katherine finds husband son going faces fears follows one washington cars amphicar learns importance living follows pontiac craters moon way pontiac engine dies washington arranges mechanic install replacement engine leave premises without paying engine enough money pay moment apollo landing pontiac crashes crater craters moon andy wheel katherine arrives escape police chase driving amphicar lake canada safety adventure brings bellamy family together ready begin normal life\n",
            "dasima nyai native mistress englishman edward william couple daughter nancy live home near gambir square batavia delman driver samiun fallen love dasima despite already married hayati attempts use spells win heart also egg merchant mak buyung frighten dasima telling young woman committed sin zina samiun eventually succeeds dasima goes live hayati taking along gold jewels hayati agreed let samiun take second wife wants dasima money use gambling dasima eventually realises tricked begins keep close eye remaining wealth get samiun calls thug puasa tells rob young woman night dasima goes hear story amir hamzah nearby village puasa accosts panics screams kills throws body bridge washes behind williams home samiun puasa caught sentenced hang\n",
            "employee detects pharmaceutical company sinister plan within executive office wiped entire family son brian survived although rammed drill skull recognizes one thought revenge\n",
            "presents tale agnese ascalone daughter prominent miner vincenzo ascalone takes place small town sicily germi previous divorce italian style agnese seduced sister matilde fiance tryst confesses tries repent discovered mother father vincenzo immediately demands man peppino califano marry daughter antics ensue dark satire sicilian social customs honor laws similar divorce italian style\n",
            "muthu comes city village song contest meets ravikanth city work hard song contest muthu tells ravikanth fell love devayani got love devayani daughter song teacher village came contest could win money pay loan mother village leader work together end winning song contest muthu goes back village joy finds flood come meena house destroyed reported father body found muthu thinks meena dead sad goes gives money village leader paying mother debt mother takes city find job muthu forget meena reach city muthu finds song big hit therefore become popular holder song contest calls muthu come work muthu want mother persuades works janakaraj daughter falls love muthu muthu still love meena refused marry janakaraj daughter mother says meena come back wishes see marriage therefore marries roja soon marriage business trip usa meena fact alive amnesia muthu songs playing radio meena happens hear remembers promptly gets bus city village helping fisherman saved life meets muthu recording studio surprised overjoyed tell marriage roja selvamani meena adamant get married soon get married juggles lives nearly gets caught roja selvamani muthu meena saree shop bump prove two different people takes photo photoshops show two shaking hands believe muthu veera different people thief muthu caught handed police takes revenge kidnapping wives thief also knows one person comes save revealed one person saves wives fight one says officially married first says fell love first wives want share tries explain away angrily muthu leaves city back village gets home finds house ends holding bag enters house\n"
          ]
        }
      ],
      "source": [
        "for i in range(10):\n",
        "  print(corpus_updated[i])"
      ]
    },
    {
      "cell_type": "code",
      "execution_count": null,
      "metadata": {
        "colab": {
          "base_uri": "https://localhost:8080/"
        },
        "id": "s5YP6XCZPSyh",
        "outputId": "cfd293df-bc1e-45cb-fd3f-40e045815878"
      },
      "outputs": [
        {
          "name": "stdout",
          "output_type": "stream",
          "text": [
            "(5000, 46066)\n"
          ]
        }
      ],
      "source": [
        "from sklearn.feature_extraction.text import TfidfVectorizer\n",
        "# create sparse tf_idf representation\n",
        "vectorizer = TfidfVectorizer()\n",
        "vectorizer.fit(corpus_updated)\n",
        "corpus_tf_idf_plain = vectorizer.transform(corpus_updated)\n",
        "print(corpus_tf_idf_plain.shape)"
      ]
    },
    {
      "cell_type": "markdown",
      "metadata": {
        "id": "H-uRZK3EPSyl"
      },
      "source": [
        "Η συνάρτηση [TfidfVectorizer](http://scikit-learn.org/stable/modules/generated/sklearn.feature_extraction.text.TfidfVectorizer.html) όπως καλείται εδώ **δεν είναι βελτιστοποιημένη**. Οι επιλογές των μεθόδων και παραμέτρων της μπορεί να έχουν **δραματική επίδραση στην ποιότητα των συστάσεων** και είναι διαφορετικές για κάθε dataset. Επίσης, οι επιλογές αυτές έχουν πολύ μεγάλη επίδραση και στη **διαστατικότητα και όγκο των δεδομένων**. Η διαστατικότητα των δεδομένων με τη σειρά της θα έχει πολύ μεγάλη επίδραση στους **χρόνους εκπαίδευσης**, ιδιαίτερα στη δεύτερη εφαρμογή της άσκησης.\n",
        "\n",
        "Προσοχή: ο TfidfVectorizer έχει κάποιες δυνατότητες προεπεξεργασίας παρόποιες με αυτές που αναφέραμε στην προηγούμενη ενότητα. Ό,τι προεπεξεργασία μπορείτε να κάνετε που χρειάζεται ως είσοδο μόνο το κάθε document ξεχωριστά, κάντε την στο πρώτο βήμα της προεπεξεργασίας. Αν χρειάζεται γνώση των συνολικών στατιστικών της συλλογής, κάντε την με τον TfidfVectorizer."
      ]
    },
    {
      "cell_type": "markdown",
      "metadata": {
        "id": "3LsmvSyVykTU"
      },
      "source": [
        "## Υλοποίηση του συστήματος συστάσεων\n",
        "\n",
        "Το σύστημα συστάσεων που θα υλοποιήσετε θα είναι μια συνάρτηση `content_recommender` με τρία ορίσματα: `target_movie`, `max_recommendations` και `corpus_type`. Στην `target_movie` περνάμε το ID μιας ταινίας-στόχου για την οποία μας ενδιαφέρει να βρούμε παρόμοιες ως προς το περιεχόμενο (τη σύνοψη) ταινίες, `max_recommendations` στο πλήθος.\n",
        "Υλοποιήστε τη συνάρτηση ως εξής: \n",
        "- για την ταινία-στόχο, θα υπολογίζετε την [ομοιότητα συνημιτόνου](https://en.wikipedia.org/wiki/Cosine_similarity) της με όλες τις ταινίες της συλλογής σας όπως αυτές αναπαριστώνται στο `corpus_type`.\n",
        "- με βάση την ομοιότητα συνημιτόνου που υπολογίσατε, δημιουργήστε ταξινομημένο πίνακα από το μεγαλύτερο στο μικρότερο, με τα indices (`ID`) των ταινιών. Παράδειγμα: αν η ταινία με index 1 έχει ομοιότητα συνημιτόνου με 3 ταινίες \\[0.2 1 0.6\\] (έχει ομοιότητα 1 με τον εαύτό της) ο ταξινομημένος αυτός πίνακας indices θα είναι \\[1 2 0\\].\n",
        "- Για την ταινία-στόχο εκτυπώστε: id, τίτλο, σύνοψη, κατηγορίες (categories)\n",
        "- Για τις `max_recommendations` ταινίες (πλην της ίδιας της ταινίας-στόχου που έχει cosine similarity 1 με τον εαυτό της) με τη μεγαλύτερη ομοιότητα συνημιτόνου (σε φθίνουσα σειρά), τυπώστε σειρά σύστασης (1 πιο κοντινή, 2 η δεύτερη πιο κοντινή κλπ), ομοιότητα συνημιτόνου, id, τίτλο, σύνοψη, και κατηγορίες (categories)\n"
      ]
    },
    {
      "cell_type": "code",
      "execution_count": null,
      "metadata": {
        "id": "NlqTRW4PfUos"
      },
      "outputs": [],
      "source": [
        "def cosine_similarity(d1, d2):\n",
        "  # use toarray() method because cosine doesn't work on sparse arrays\n",
        "  if type(d1) == np.ndarray:\n",
        "    return 1-sp.spatial.distance.cosine(d1,d2)\n",
        "  else:\n",
        "    return 1-sp.spatial.distance.cosine(d1.toarray(),d2.toarray())\n",
        "\n",
        "def content_recommender(target_movie, max_recommendations, corpus_type, debug=False):\n",
        "  similarity_array = []\n",
        "  target_descr = corpus_type[target_movie]\n",
        "  # find similarity with every other movie\n",
        "  for descr in corpus_type:\n",
        "    similarity_array.append(cosine_similarity(target_descr, descr))\n",
        "  # sort ids of movies based on similarity\n",
        "  sorted_indices = sorted(range(len(similarity_array)), key=lambda k: similarity_array[k], reverse=True)\n",
        "  # return ids of movies with the greatest similarity\n",
        "  if debug:\n",
        "    for i in sorted_indices[1:max_recommendations+1]:\n",
        "      print(similarity_array[i])\n",
        "  return sorted_indices[1:max_recommendations+1]"
      ]
    },
    {
      "cell_type": "markdown",
      "metadata": {
        "id": "8IvHkTUHyu78"
      },
      "source": [
        "## Βελτιστοποίηση του TfidfVectorizer\n",
        "\n",
        "Αφού υλοποιήσετε τη συνάρτηση `content_recommender` χρησιμοποιήστε την για να βελτιστοποιήσετε την `TfidfVectorizer`. Συγκεκριμένα, αρχικά μπορείτε να δείτε τι επιστρέφει το σύστημα για τυχαίες ταινίες-στόχους και για ένα μικρό `max_recommendations` (2 ή 3). Αν σε κάποιες ταινίες το σύστημα μοιάζει να επιστρέφει σημασιολογικά κοντινές ταινίες σημειώστε το `ID` τους. Δοκιμάστε στη συνέχεια να βελτιστοποιήσετε την `TfidfVectorizer` για τα συγκεκριμένα `ID` ώστε να επιστρέφονται σημασιολογικά κοντινές ταινίες για μεγαλύτερο αριθμό `max_recommendations`. Παράλληλα, όσο βελτιστοποιείτε την `TfidfVectorizer`, θα πρέπει να λαμβάνετε καλές συστάσεις για μεγαλύτερο αριθμό τυχαίων ταινιών. \n",
        "\n",
        "Ταυτόχρονα, μια αντίρροπη κατά κάποιο τρόπο κατεύθυνση της βελτιστοποίησης είναι να χρησιμοποιείτε τις παραμέτρους του `TfidfVectorizer` έτσι ώστε να μειώνονται οι διαστάσεις του Vector Space Model μέχρι το σημείο που θα αρχίσει να εμφανίζονται επιπτώσεις στην ποιότητα των συστάσεων. \n",
        "\n",
        "\n"
      ]
    },
    {
      "cell_type": "markdown",
      "metadata": {
        "id": "5j13JZH9iQ3f"
      },
      "source": [
        "Για 2 τυχαίες ταινίες (έστω ID 519 και 4120) βρίσκουμε τις 3 κοντινότερες ταινίες που προτείνει ο recommender και βλέπουμε τα summaries και τα categories της κάθε πρότασης. Για ταινίες που φαίνονται να είναι σημασιολογικά κοντά στις αρχικές ταινίες σημειώνουμε το ID τους."
      ]
    },
    {
      "cell_type": "code",
      "execution_count": null,
      "metadata": {
        "colab": {
          "base_uri": "https://localhost:8080/"
        },
        "id": "dHrCN1WUj3Q7",
        "outputId": "6af06d26-975b-45fa-913c-dca1c3b179dd"
      },
      "outputs": [
        {
          "name": "stdout",
          "output_type": "stream",
          "text": [
            "Film to find recommendations has ID 519\n",
            "Its categories are ['\"Japanese Movies\"']\n",
            "Its summary is: Even though being able to withdraw from the Liar Game Tournament, Kanzaki Nao  decides to join Akiyama Shinichi  and nine other players for the final stage, ”The Garden of Eden game”, which offers a 5 billion yen prize. The players are informed that if all of them can work together, they can all become winners. However, the chances of winning are endangered by a mysterious player known as \"Person X\".\n",
            "Recommended film has ID 4252\n",
            "Its categories are ['\"Horror\",  \"Slasher\",  \"Teen\"']\n",
            "Its summary is: A group of teenagers create a game where one of them is secretly a killer while the others are victims. Using prop weapons, the killer must eliminate the other players before being discovered. The teens sneak into a warehouse late at night to play the game but things turn horrific when the players begin dying for real.\n",
            "Recommended film has ID 3978\n",
            "Its categories are ['\"Family Drama\",  \"Docudrama\",  \"Sports\",  \"Drama\",  \"Family Film\",  \"Teen\"']\n",
            "Its summary is: Norman Dale arrives in the rural Indiana town of Hickory to be a high school teacher and basketball coach. He had lost a previous coaching position after striking a student, so he is under pressure to succeed. Like much of the state, Hickory's community is passionate about basketball. People are aware that the best player in town, Jimmy Chitwood, does not intend to play on this season's team. Faculty member Myra Fleener warns the new coach not to try to persuade Jimmy to change his mind; she believes he needs to focus on school work in order to get a scholarship to attend college and have a better future. The school enrollment is so small that Dale has only a few players on his squad. Built on a four pass offense, Dale remains steadfast when a player disobeys him in an early season game, keeping him on the bench and playing with four players after another fouls out. The coach alienates the community with a slow, defensive style that does not immediately produce results and by losing his temper, which causes him to be ejected from more than one game. Dale needs a new assistant coach and invites knowledgeable basketball fan Shooter, the alcoholic father of one of his players, to join him on the bench. This, too, confounds the town, including Shooter's son. By the middle of the season, an emergency town meeting is called to vote on whether Dale should be dismissed. Fleener appreciates the coach's staying away from Chitwood and sides with him, but the town votes him out. At the last minute, Chitwood asks permission to speak: he says he's ready to begin playing basketball again, but only if Dale remains as coach. From this point, Hickory becomes an unstoppable team. Despite a setback in which Shooter arrives drunk to a game and ends up in a hospital, the team advances through tournament play, with contributions from unsung players, such as the pint-sized Ollie and devoutly religious Strap. Hickory shocks the state by reaching the state championship game. In a large arena and before a crowd bigger than any they've seen, the Hickory players face long odds to defeat a team from South Bend, whose players are taller and more athletic. But with Chitwood scoring at the last second, tiny Hickory takes home the 1952 Indiana state championship.\n",
            "Recommended film has ID 155\n",
            "Its categories are ['\"Short Film\",  \"Comedy\",  \"Black-and-white\",  \"Slapstick\"']\n",
            "Its summary is: The Stooges are \"recruited\" by a college to drum up publicity for the college's football team by being dressed up as football players. Meanwhile, the owner of a professional football team, Joe Stacks, has to find three new players for the next game. One of Joe's girlfriends soon meets the Stooges and confuses them for real college football players known as \"The Three Horsemen\" (a parody of the \"[[Four Horsemen . The Stooges go back to her house and meet the girl's two friends. After squirting each other with nightcap bottles, everyone decides to play the game \"Blind man's buff.\" The Stooges are blindfolded and walk around trying to find the girls. Just at that moment, Joe and his two henchmen walk in. They punch out the trio and then chase them around the house. One of the women finally explains that the three strangers are actually \"The Three Famous Horsemen,\" and Joe offers them money to play for him. Naturally, the trio have not a clue how to play football. Their first game  turns into a fiasco. Realizing that they have been swindled, the three managers turn their revolvers on the Stooges, hitting them on the buttocks as they attempt to flee.   Moe Howard once called Three Little Pigskins \"a humdinger of bangs and bruises,\"<ref name Howard| first  Moe Howard| coauthors  Moe Howard and the Three Stooges| publisher  1977, rev. 1979| location  79, 81| url | id  0-8065-0723-3}} as it marked the first time the Stooges flatly refused to perform a stunt. In the film, during the game the boys are stopped by photographers to pose for a picture, when the football players then tackle them. The football players were real college football players, and the Stooges  were afraid of being hurt. Larry Fine, the smallest and lightest of the three, told director Raymond McCarey, \"Look, we can't do this scene. We're not stuntmen and if one of those gorillas falls on us, we'll never be able to finish the picture. We've never used stunt doubles before but we certainly need them now.\" Moe Howard dryly agreed with McCarey, saying \"You're darn right we won't get hurt. We're not doing the scene.\"\n"
          ]
        }
      ],
      "source": [
        "id = 519\n",
        "films = content_recommender(id, 3, corpus_tf_idf_plain)\n",
        "print(\"Film to find recommendations has ID {}\".format(id))\n",
        "print(\"Its categories are {}\".format(categories[id]))\n",
        "print(\"Its summary is: {}\".format(summaries[id][0]))\n",
        "for film in films:\n",
        "  print(\"Recommended film has ID {}\".format(film))\n",
        "  print(\"Its categories are {}\".format(categories[film]))\n",
        "  print(\"Its summary is: {}\".format(summaries[film][0]))"
      ]
    },
    {
      "cell_type": "markdown",
      "metadata": {
        "id": "cb38P2-TlGJY"
      },
      "source": [
        "Για την ταινία με ID 519 οι σημασιολογικά κοντινότερη ταινία σύμφωνα με τα categories και το summary φαίνεται να είναι μόνο η 4252."
      ]
    },
    {
      "cell_type": "code",
      "execution_count": null,
      "metadata": {
        "colab": {
          "base_uri": "https://localhost:8080/"
        },
        "id": "1brZa62UmE1W",
        "outputId": "1c2430cb-7988-42fb-bc24-3c6caa2c393b"
      },
      "outputs": [
        {
          "name": "stdout",
          "output_type": "stream",
          "text": [
            "Film to find recommendations has ID 4120\n",
            "Its categories are ['\"Thriller\",  \"Crime Fiction\",  \"Science Fiction\",  \"World cinema\",  \"Fantasy\",  \"Comedy\"']\n",
            "Its summary is: Coco  and his 7-month pregnant wife Pipi , have recently moved into a Buenos Aires apartment and fail to notice the increasing chaos surrounding them. Shortly, authorities quarantine the building and Coco allies himself with his well-prepared neighbour, Horacio, to defend his refrigerator and keep Pipi safe while the world outside the apartment is falling apart.\n",
            "Recommended film has ID 3599\n",
            "Its categories are ['\"Comedy\"']\n",
            "Its summary is: Coco is a wealthy Sephardic Jewish businessman and an immigrant to France. After 15 years of financial success  he decides to throw an enormous bar mitzvah celebration for his son Samuel. Determined that the celebration will be the most fantastic event of the year, Coco alienates his entire family as he plans for the gala.\n",
            "Recommended film has ID 4295\n",
            "Its categories are ['\"Horror\",  \"Comedy\"']\n",
            "Its summary is: The film opens with a couple drunk driving across the streets of New York to their apartment. They get home and make love in front of the kitchen. When the wife walks into the kitchen, the refrigerator opens up and sucks the girl in. We then go to Steve & Eileen Batemen. They are moving to New York, and they move into the same apartment with the killer refrigerator. Steve takes a new job, while Eileen is trying to become a performer. Eileen pretends to be awarding an award while in the apartment, then walks all over Broadway. When Steve and Eileen go to sleep, they start having nightmares about the refrigerator, Steve is seeing mini people inside the refrigerator . Eileen has a nightmare that she is seeing unborn babies. Steve is soon driven to insanity by the refrigerator, leaving Eileen to cope with her and her acting career on her own. A plumber named Juan comes to the apartment one night, warning Eileen her refrigerator is from hell and the devil controls it. Steve and Eileen throw a party at their apartment one night, not only the refrigerator, but all of the kitchen appliances go crazy and start slaughtering the guests. Juan soon ties the refrigerator shut, and all the surviving guests leave the apartment, not knowing where they are going to go, another couple is soon interested in buying the apartment, then the movie ends.\n",
            "Recommended film has ID 3522\n",
            "Its categories are ['\"B-movie\",  \"Horror\",  \"Slasher\",  \"Teen\"']\n",
            "Its summary is: While living at her parents' mountain home, Emily  is visited by her friend Angelica , who invites her to a rave party in the woods. Her parents, Leo  and Justine , let her attend, under the condition that she returns at midnight and calls if she's going to be late. Arriving early at the party, Angelica immediately attempts to acquire ecstasy and suspects an attendee named Swan  is carrying the drug. When asked about it, Swan informs the two girls that he doesn't have any ecstasy on him, but he has it in a nearby cabin, where his friends live. He requests that Emily and Angelica come to the cabin with him and meet his friends; the two comply. Unbeknownst to the girls, Swan's friends are actually his father Chaos ([[Kevin Gage , a notorious and wanted criminal and his father's gang, which consists of Chaos' girlfriend Daisy  and felon Frankie . Chaos sent his son to the party to lure unsuspecting females to him. Upon their arrival at the cabin, Emily and Angelica are quickly captured by the gang and taken to an abandoned part in the woods. The girls manage to escape their captors and split up in an attempt to make it harder for Chaos and his gang to find them. Angelica is ultimately caught by Daisy and brought before Chaos, who tortures and stabs her death, and then proceeds to violate her corpse. Chaos and his group continue their pursuit of Emily, even as the sun sets. They briefly re-encounter her, but Emily manages to steal Daisy's knife in a struggle and stabs Swan in the genitals. Knowing his wound is fatal, Chaos suffocates his son and promises to murder Emily. Meanwhile, Justine becomes nervous about Emily's whereabouts when she doesn't answer cell phone and convinces Leo to call the police. However, Justine suspects MacDunner , the investigating officer, won't attempt to find her, so she and Leo go into the woods themselves. While searching for Emily, the couple find Angelica's corpse. Chaos and Frankie finally recapture Emily and bound her with rope. In retaliation for his son's death, Chaos brutally violates Emily with his knife. With both girls dead, the gang prepares to leave the area, when Chaos' van fails to start up. Knowing that they'll be caught if they stay in the woods, Chaos and his gang leave the vehicle and look for a car to steal. Their van is then found by MacDunner and his partner Wilson , who discover blood stained clothes. The gang decides to go to a nearby house, with the intent of stealing the owner's car, unaware of the fact that they arrived at Emily's home. Leo lets Chaos and his group stay at the home, but notices that Daisy is wearing Emily's belt. Suspecting the group of being involved with Emily's disappearance, Leo calls the police, while Chaos and Frankie prepare to hot-wire his car and kill the couple. Chaos is confronted by a shotgun wielding Leo, determined to find out what happened to his daughter. When Frankie arrives with a captured Justine, Chaos disarms Leo and takes the shotgun. Instead of shooting Leo and Justine, however, Chaos shoots Daisy when she tries to convince him to leave the house. In the ensuing confusion, the couple escapes. Leo emerges with a chainsaw and slashes Frankie across the stomach, and proceeds to attack Chaos. In the ensuing struggle, Leo manages to get the upper hand and prepares to kill Chaos. Before he can, MacDunner arrives and kills Leo when he refuses to drop his weapon. Justine retaliates by shooting MacDunner in the back and Wilson is killed by Chaos. Chaos then shoots Justine in the head and his laughter is heard.\n"
          ]
        }
      ],
      "source": [
        "id = 4120\n",
        "films = content_recommender(id, 3, corpus_tf_idf_plain)\n",
        "print(\"Film to find recommendations has ID {}\".format(id))\n",
        "print(\"Its categories are {}\".format(categories[id]))\n",
        "print(\"Its summary is: {}\".format(summaries[id][0]))\n",
        "for film in films:\n",
        "  print(\"Recommended film has ID {}\".format(film))\n",
        "  print(\"Its categories are {}\".format(categories[film]))\n",
        "  print(\"Its summary is: {}\".format(summaries[film][0]))"
      ]
    },
    {
      "cell_type": "markdown",
      "metadata": {
        "id": "JsCuDfXPmsGL"
      },
      "source": [
        "Για την ταινία 4120 η πιο σωστή σύσταση είναι αυτή της ταινίας με ID 4295."
      ]
    },
    {
      "cell_type": "markdown",
      "metadata": {
        "id": "0fdZu3R7m3yH"
      },
      "source": [
        "Στη συνέχεια αυστηροποιούμε τα κριτήρια του TfidfVectorizer() ώστε να μειώσουμε τις διαστάσεις του προβλήματος και να προσπαθήσουμε να κάνουμε τις συστάσεις πιο συγκεκριμένες."
      ]
    },
    {
      "cell_type": "code",
      "execution_count": null,
      "metadata": {
        "colab": {
          "base_uri": "https://localhost:8080/"
        },
        "id": "1BLGJI45iNMf",
        "outputId": "6452f6b5-07a7-435c-f29e-426ac5761f3d"
      },
      "outputs": [
        {
          "name": "stdout",
          "output_type": "stream",
          "text": [
            "(5000, 23819)\n"
          ]
        }
      ],
      "source": [
        "vectorizer = TfidfVectorizer(max_df=.5, min_df=2)\n",
        "vectorizer.fit(corpus_updated)\n",
        "corpus_tf_idf = vectorizer.transform(corpus_updated)\n",
        "print(corpus_tf_idf.shape)"
      ]
    },
    {
      "cell_type": "markdown",
      "metadata": {
        "id": "mjLQ0pcZpPDF"
      },
      "source": [
        "Αρχικά δοκιμάζουμε τον νέο TfidfVectorizer στην ταινία με ID 519. Αυξάνουμε το πλήθος των προτεινόμενων ταινιών που επιστρέφονται ώστε να αξιολογήσουμε την ακρίβεια του recommender."
      ]
    },
    {
      "cell_type": "code",
      "execution_count": null,
      "metadata": {
        "colab": {
          "base_uri": "https://localhost:8080/"
        },
        "id": "d520QWYtpMW6",
        "outputId": "fe003e1c-e12d-450e-aebc-9deea1712a6d"
      },
      "outputs": [
        {
          "name": "stdout",
          "output_type": "stream",
          "text": [
            "Film to find recommendations has ID 519\n",
            "Its categories are ['\"Japanese Movies\"']\n",
            "Its summary is: Even though being able to withdraw from the Liar Game Tournament, Kanzaki Nao  decides to join Akiyama Shinichi  and nine other players for the final stage, ”The Garden of Eden game”, which offers a 5 billion yen prize. The players are informed that if all of them can work together, they can all become winners. However, the chances of winning are endangered by a mysterious player known as \"Person X\".\n",
            "Recommended film has ID 4252\n",
            "Its categories are ['\"Horror\",  \"Slasher\",  \"Teen\"']\n",
            "Its summary is: A group of teenagers create a game where one of them is secretly a killer while the others are victims. Using prop weapons, the killer must eliminate the other players before being discovered. The teens sneak into a warehouse late at night to play the game but things turn horrific when the players begin dying for real.\n",
            "Recommended film has ID 2750\n",
            "Its categories are ['\"Thriller\",  \"Science Fiction\",  \"Future noir\",  \"Adventure\",  \"Psychological thriller\",  \"Crime Thriller\"']\n",
            "Its summary is: In the near-future, organic virtual reality game consoles known as \"game pods\" have replaced electronic ones. The pods are attached to \"bio-ports\", outlets inserted at players' spines, through umbilical cords. Two game companies, Antenna Research and Cortical Systematics, compete against each other. In addition, a group of \"realists\" fights both companies to prevent the \"deforming\" of reality. Antenna Research's Allegra Geller , the greatest game designer in the world, is testing her latest virtual reality game, eXistenZ, with a focus group at a seminar. She is shot in the shoulder by an assassin named Noel Dichter  with an organic pistol , which is undetectable by security. As Dichter is gunned down by the security team, security guard  Ted Pikul , rushes to Geller and escorts her outside. Allegra discovers that her pod, which contains the only copy of the eXistenZ game, may have been damaged due to an \"UmbyCord\" being ripped out as the game was being downloaded. To test it, she must plug into the game in tandem with another player that she can trust, and talks a reluctant Pikul into installing a bio-port in his own body so he can play the game with her. Pikul, one of a dwindling few who has refused to have a bio-port installed to this point, at first objects due to a phobia about \"surgical penetration,\" but eventually gives in. They head to a gas station run by a black marketeer named Gas  to get it installed. Gas deliberately installs a faulty bio-port and the game pod is damaged. Gas  reveals that he is going to kill Allegra for the bounty on her head, but Pikul shoots him with the rivet gun used to install the port. The pair make their way to a former ski lodge used by Allegra's mentor, Kiri Vinokur . He and his assistant repair the damaged pod and give Pikul a new bio-port. Inside the game, Pikul realizes that it is hard to tell whether his or Allegra's actions are their own intentions or the game's. When they meet D'Arcy Nader , a video game shop owner, Pikul speaks rudely to him, but then expresses surprise at his own rudeness. Allegra informs him that it was the doing of his game character. Reality becomes more distorted when they use new micro pods given to them by Nader, and gain new identities as workers at a game pod factory. There, they meet Yevgeny Nourish , who claims to be their contact in the Realist underworld. Nourish recommends that Pikul order the special for lunch at a Chinese restaurant near the factory. Once in the restaurant, Pikul \"pauses\" the game in order to get back to the real world, but finds out that he is unable to distinguish reality from illusion. Back in the restaurant, Pikul develops an urge to eat the unappetizing special, which turns out to be an assortment of cooked mutant animals. Pikul constructs a familiar object from the inedible parts—the pistol used to shoot Allegra. He points it at her as a joke, but then Nourish identifies their Chinese waiter  as an enemy and gets Pikul to shoot him instead. In keeping with the game reality, the other patrons of the restaurant appear more frozen than shocked, and return to their meals when Pikul tells them it was a simple misunderstanding about the bill. When the pair return to the game store, Hugo Carlaw  informs them that Nourish is actually a double agent for Cortical Systematics, and the waiter whom Pikul shot was the actual contact. The next day at the factory, the two plan to sabotage all the game pods in the factory by plugging into a diseased pod. When Allegra becomes infected, Pikul frees her by cutting the umbycord. Allegra almost bleeds to death until Nourish shows up again with a flame thrower, directing it at the diseased pod. The pod bursts, releasing deadly spores. Before leaving, Allegra stabs Nourish in the back with a knife. Allegra and Pikul suddenly find themselves back in the ski lodge, and it seems that they have lost the game. They discover that Allegra's game pod is also diseased. Pikul is confused by the disease's crossover from the game into reality. However, Allegra immediately notices Pikul rubbing his back and realizes that Vinokur gave Pikul an infected bioport in order to destroy her game. She inserts a disinfecting device into Pikul's bioport. Unexpectedly, Carlaw reappears as a Realist resistance fighter, and escorts Allegra and Pikul outside to witness the death of eXistenZ. Before Carlaw can kill Allegra, he is shot in the back by Vinokur, who is a double agent for Cortical Systematics. He informs Allegra that he copied her game data while he was fixing her pod. In revenge, she kills Vinokur. Pikul then reveals that he himself was sent to kill her; he is a Realist. However, she informs him that she knew of his true intentions ever since he pointed the gun at her in the Chinese restaurant, then kills him by detonating the disinfecting device in his bioport by remote control. In yet another twist, the two then appear on a stage, together with the main players from the game. It turns out that the story itself is in fact a virtual reality game called \"tranCendenZ\" played by the cast, mirroring the first scene. This is enforced by more naturalistic acting coupled with significantly less cliche dialog, and cutaways from Allegra and Pikul. Another difference occurs when it is revealed that players are using electronic devices rather than game pods. The real game designer, Nourish, feels uneasy because the game started with the assassination of a game designer and had an overall anti-game theme that he suspects originated from the thoughts of one of the testers. Pikul and Allegra approach him  and ask him if he should pay for his \"crimes\" of deforming reality. As Merle , Nourish's assistant, calls for security, Pikul and Allegra grab pistols hidden under the dog's false mane and shoot Nourish and Merle to death. As in the restaurant scene, the other players appear more frozen than shocked. As Pikul and Allegra leave, they aim their guns at the person who played the Chinese waiter, who first pleads for his life, then asks if they are still in the game. The last shot is of Pikul and Allegra standing in surprised silence, apparently unsure of the answer.\n",
            "Recommended film has ID 3155\n",
            "Its categories are ['\"Parody\",  \"Indie\",  \"Short Film\",  \"Fantasy\",  \"Comedy\",  \"Adventure\"']\n",
            "Its summary is: The film opens with a trio of Dungeons & Dragons characters facing the final villain. However, they are quickly killed and the players blame the game master, Lodge, claiming he did not follow the rules and plotted against them. While Leo and Gary wish to play a different game the following week, Cass demands to play the same campaign again, even though they just played it for the second time, to preserve his reputation that there is no game he cannot win. Lodge wishes to publish his campaign as an official Dungeons & Dragons game module, but he is having trouble writing it: he knows how he wants it to end, but his players never actually finish the module. Gary suggests that for the next game they bring in two more players, in order to have a more well-rounded party. Cass is able to recruit his ex-girlfriend Joanna. However, Lodge is unable to find anyone  and resolves to be the fifth player . The campaign begins when the characters Luster , Flynn the Fine , and Daphne  are summoned before King Erasmus the Randomly Biased. The evil necromancer Mort Kemnon has discovered an artifact known as the Mask of Death and wishes to use this to overthrow the kingdom. As they go on their way, they are summoned before the Hierophant of the Order of Therin who sends two members of his order to accompany the party, Brother Silence  and Sir Osric  -- the latter of whom the other players  take an instant dislike to, as Lodge created Osric just to keep the story on track. On their way, the group runs into a large party of goblins. The men's overconfidence is shattered when Joanna singlehandedly wipes out the entire party of goblins, even though the men thought that she created a poor character . Resting at an inn near Westhaven, the group faces Mort Agrippa and defeat him. They head out for Westhaven and decide to stop playing for the night. Lodge explains to Joanna the reasons why he keeps the other players on such a short leash: if he does not, they will kill, plunder, and impregnate the fantasy world. The following week, the players continue the campaign by facing Drazuul in the town of Westhaven. Due to his character's weak traits, Leo goes through multiple copies of the character until the players are able to cleverly defeat Drazuul by hiding behind \"the mound of dead bards\". Torturing Drazuul with holy water, they learn of Mort Kemnon's location. Making their way through an abandoned mineshaft, they find a henchman from the previous campaign and take all the equipment. The battle goes poorly for the players, until Lodge's cat messes up the floor-tiles and Cass distracts Lodge while they place their characters in more preferable positions. After a lengthy battle with Kemnon , Kemnon is defeated and cryptically implies there is another enemy. It is revealed to be the Hierophant, who intends to use the Mask to rekindle the Light of Therin. The group then realizes that the \"Heart of Therin\", the church's most sacred relic, is actually a prison housing the deity. During a battle with the Hierophant, Leo finally proves to be of use as he awakens Therin from her prison, allowing Daphne to release her . Afterwards, Daphne is offered an unlimited wish by Therin. After the other players recommend she wishes herself immortal, she uses it to resurrect Osric, much to the extreme disapproval of Cass, who insults her and storms out. The other three continue playing, and Therin provides rewards for each: Flynn becomes a herald, Luster is stripped of her powers and becomes a cleric, and Osric becomes Lord High Marshal of the Paladins. The campaign ends, and with positive comments from Gary and Leo, Lodge is inspired enough to write his module and has it published. Sometime later, Cass apologizes for his behavior and the group begins another adventure. Lodge wants to send his group through the adventure module that another group was playing in the first Gamers film, but upon mentioning 'The Shadow', Mark—the lone survivor of that campaign—screams in fear and runs from the gaming store. As the new campaign begins with the Mask of Death having been stolen, the film ends showing the henchman still alone in the mine.\n",
            "Recommended film has ID 3978\n",
            "Its categories are ['\"Family Drama\",  \"Docudrama\",  \"Sports\",  \"Drama\",  \"Family Film\",  \"Teen\"']\n",
            "Its summary is: Norman Dale arrives in the rural Indiana town of Hickory to be a high school teacher and basketball coach. He had lost a previous coaching position after striking a student, so he is under pressure to succeed. Like much of the state, Hickory's community is passionate about basketball. People are aware that the best player in town, Jimmy Chitwood, does not intend to play on this season's team. Faculty member Myra Fleener warns the new coach not to try to persuade Jimmy to change his mind; she believes he needs to focus on school work in order to get a scholarship to attend college and have a better future. The school enrollment is so small that Dale has only a few players on his squad. Built on a four pass offense, Dale remains steadfast when a player disobeys him in an early season game, keeping him on the bench and playing with four players after another fouls out. The coach alienates the community with a slow, defensive style that does not immediately produce results and by losing his temper, which causes him to be ejected from more than one game. Dale needs a new assistant coach and invites knowledgeable basketball fan Shooter, the alcoholic father of one of his players, to join him on the bench. This, too, confounds the town, including Shooter's son. By the middle of the season, an emergency town meeting is called to vote on whether Dale should be dismissed. Fleener appreciates the coach's staying away from Chitwood and sides with him, but the town votes him out. At the last minute, Chitwood asks permission to speak: he says he's ready to begin playing basketball again, but only if Dale remains as coach. From this point, Hickory becomes an unstoppable team. Despite a setback in which Shooter arrives drunk to a game and ends up in a hospital, the team advances through tournament play, with contributions from unsung players, such as the pint-sized Ollie and devoutly religious Strap. Hickory shocks the state by reaching the state championship game. In a large arena and before a crowd bigger than any they've seen, the Hickory players face long odds to defeat a team from South Bend, whose players are taller and more athletic. But with Chitwood scoring at the last second, tiny Hickory takes home the 1952 Indiana state championship.\n",
            "Recommended film has ID 155\n",
            "Its categories are ['\"Short Film\",  \"Comedy\",  \"Black-and-white\",  \"Slapstick\"']\n",
            "Its summary is: The Stooges are \"recruited\" by a college to drum up publicity for the college's football team by being dressed up as football players. Meanwhile, the owner of a professional football team, Joe Stacks, has to find three new players for the next game. One of Joe's girlfriends soon meets the Stooges and confuses them for real college football players known as \"The Three Horsemen\" (a parody of the \"[[Four Horsemen . The Stooges go back to her house and meet the girl's two friends. After squirting each other with nightcap bottles, everyone decides to play the game \"Blind man's buff.\" The Stooges are blindfolded and walk around trying to find the girls. Just at that moment, Joe and his two henchmen walk in. They punch out the trio and then chase them around the house. One of the women finally explains that the three strangers are actually \"The Three Famous Horsemen,\" and Joe offers them money to play for him. Naturally, the trio have not a clue how to play football. Their first game  turns into a fiasco. Realizing that they have been swindled, the three managers turn their revolvers on the Stooges, hitting them on the buttocks as they attempt to flee.   Moe Howard once called Three Little Pigskins \"a humdinger of bangs and bruises,\"<ref name Howard| first  Moe Howard| coauthors  Moe Howard and the Three Stooges| publisher  1977, rev. 1979| location  79, 81| url | id  0-8065-0723-3}} as it marked the first time the Stooges flatly refused to perform a stunt. In the film, during the game the boys are stopped by photographers to pose for a picture, when the football players then tackle them. The football players were real college football players, and the Stooges  were afraid of being hurt. Larry Fine, the smallest and lightest of the three, told director Raymond McCarey, \"Look, we can't do this scene. We're not stuntmen and if one of those gorillas falls on us, we'll never be able to finish the picture. We've never used stunt doubles before but we certainly need them now.\" Moe Howard dryly agreed with McCarey, saying \"You're darn right we won't get hurt. We're not doing the scene.\"\n",
            "Recommended film has ID 3183\n",
            "Its categories are ['\"Sports\",  \"Biography\",  \"Documentary\"']\n",
            "Its summary is: The film follows 8 of the top high school basketball players in the US at the time of filming, in 2006. The plot centers around the first annual Boost Mobile Elite 24 Hoops Classic at the legendary Rucker Park in Harlem. By 2009, six of the eight players had joined NBA teams. By 2011, all eight players were on NBA teams, with Kyle Singler being the last one drafted and the only one to win an NCAA Championship, which he won while playing for Duke University in 2010.\n",
            "Recommended film has ID 1598\n",
            "Its categories are ['\"Sports\",  \"Drama\"']\n",
            "Its summary is: Kim Sang-nam , a hot-tempered professional baseball player, is sent to the countryside to coach a team of hearing-impaired players in order to avoid media coverage of his recent involvement in an assault case. At first, Sang-nam has a difficult time imagining how he can teach baseball to a group of boys who can’t hear, but as he spends time with them he starts to believe that they can play the game. Motivated, Sang-nam decides to help them prepare for the nationals. As Sang-nam trains them, he forms bonds with the players, as well as with the music teacher and baseball manager Ms Na . But things don’t go the way Kim plans and their difficulties communicating with one another exacerbates the situation.\n",
            "Recommended film has ID 3212\n",
            "Its categories are ['\"Romance Film\",  \"Adventure\",  \"Animation\"']\n",
            "Its summary is: The film tells the story of Amadeo, a shy but talented boy, and of a foosball team that is trying to get back together after having been dismantled. With the help of the foosball players, Amadeo will have to face his most terrible rival on the football pitch: the Champ. Guided by their leader, the charismatic Right Winger, the foosball players and Amadeo will set off on a great adventure together, like a true team, to get back the dignity that the Champ stole from them.\n",
            "Recommended film has ID 1166\n",
            "Its categories are ['\"Horror\"']\n",
            "Its summary is: A group of high-school role players, decide to spice up their sword and sorcery games with two things. Breaking into the local school to use the maze of hallways it contains and utilizing 'spells' from a magic book. What the role players do not realize is the spells are real. When read, they summon a powerful demon that begins hunting them down, one by one.\n",
            "Recommended film has ID 4400\n",
            "Its categories are ['\"Horror\"']\n",
            "Its summary is: Winning a trip to Italy through a contest, Jackie  and her brother Tom  join other winners Myrna , Yvette , Terri , Harlan  and Tony . They settle into the rooms of an old castle, together with Cassandra , a rock star playing along in the contest. Wanting to get a leg up on each other, they all try to sneak out and find the prize before it starts, to no avail. When the contest begins, they start to die one-by-one from a mysterious source within the castle. Figuring that evil forces are at work, the remaining members race to stop the assailant from finishing their work.\n",
            "Recommended film has ID 3463\n",
            "Its categories are ['\"Family Film\",  \"Comedy\",  \"Animation\"']\n",
            "Its summary is: Wreck-It Ralph is the villain of the arcade video game Fix-It Felix Jr., in which the game's eponymous hero fixes a building that Ralph destroys. For over 30 years, Ralph has been doing the same job and has become tired of being the villain. Wanting to prove he can be a hero and not just a villain, Ralph escapes his game through a power cord and lands in Hero's Duty, a light-gun shooter game where he helps the game's hero, Sergeant Calhoun, battle against \"Cy-Bugs\" . He later enters Sugar Rush, a kart racing game set on tracks made of candies, cookies and other sweets. There, Ralph meets one of the game's characters, Vanellope von Schweetz, who has learned that her game is faced with a dire threat that could affect the entire arcade, and one that Ralph may have inadvertently started.<ref nameB. Vary|first'Wreck-It Ralph': Explore the worlds of Disney's animated homage to videogames – FIRST LOOK|urlFebruary 7, 2012|newspaperFebruary 6, 2012}}\n",
            "Recommended film has ID 2152\n",
            "Its categories are ['\"Thriller\",  \"Science Fiction\",  \"Horror\"']\n",
            "Its summary is: Charlie Colburn  is a video game tester with a troubled past. One day he receives a new console to test in the mail. This video game system, the Gamebox 1.0, is like no other system he's seen before, by tapping into the cerebral cortex of the brain, it literally immerses the player in a virtual reality world. The game draws on his memories so the heroine is modeled after his dead girlfriend  and the villain is the dirty cop  who murdered her. He has to play through three different games to win: Crime Spree, Zombie Land and Alien Planet. The only catch is, if Charlie doesn't win this game it will cost him his life. The actual Gamebox console prop was never given away.\n",
            "Recommended film has ID 1892\n",
            "Its categories are ['\"Thriller\",  \"Drama\",  \"Psychological thriller\",  \"Suspense\",  \"Indie\"']\n",
            "Its summary is: The film takes place over the course of a single evening. Tepper, played by Erik Palladino, finds a wallet on his way home from work. He contacts the owner of the wallet by telephone, and then later discovers that the wallet contains the winning ticket in a $6 million lottery. Complications arise when Tepper's friends come over for their regular poker night. One of the conditions of the game is that everyone purchase a ticket for the lottery, to be thrown into the pot. The game is played as a freezeout, with the winner collecting all the tickets and any prizes they may be worth. When the owner of the wallet, played by James Earl Jones, arrives, he realizes that the winning ticket is in the pot, and stays to play in the game.\n",
            "Recommended film has ID 4678\n",
            "Its categories are ['\"Wuxia\",  \"Martial Arts Film\",  \"Chinese Movies\"']\n",
            "Its summary is: Yun Fei Yang is the viciously bullied orphan who takes on the unpleasant tasks at a formidable kung-fu school. Constantly mocked by the other students of the school, Yen counts as his only friend the daughter of the resident master. Any internal wrangling between the various members is put to one side when a swordsman from a rival clan reminds the master of the duel he must take part in once a decade. Unfortunately the defending clan chief is well aware that his rival is more powerful than himself. The expected defeat is further complicated when a wandering swordsman arrives on the scene and joins himself to the injured party, immediately adding to Yen's woes. The ensuing series of confrontations and intrigues soon reveals the individual motives that the numerous parties all have and the role they play in the fate of the martial world. After finally understanding his own past and upbringing, Yen is ready to take on the mantle of avenger for his school and win back the respect that his colleagues have lost. With fighting skills that had been taught to him by a shrouded figure, Yen steps out of the shadows and reveals himself to be anything but the harassed orphan that everyone enjoys picking on. However to have any kind of hope against his nearly superhuman foes, the young fighter must uncover the secrets of his clan's 'Silkworm Technique' and transform himself completely.\n",
            "Recommended film has ID 1782\n",
            "Its categories are ['\"Action/Adventure\",  \"World cinema\",  \"Musical\",  \"Adventure\",  \"Bollywood\"']\n",
            "Its summary is: Snobbish Komal  and her brother, Kunal ; Sameer  - who is always ready for a snack; and siblings of smart class monitor Riddhi : Rohan  and Sanj  - participate in a dance competition whose winner will be given the recently released video game \"The Last Battle\". They win the competition are sent to the game room for playing the game. But when they start playing the game, they get sucked into the game and are stranded on a vast prehistoric island. They also fend for themselves against wild animals, deadly gem-seekers all by themselves until a man called Ramaa  gives them food and shelter in his hut in the jungle and also starts helping them to get out of the island. Shortly problems arise when Kunal is kidnapped by Kali  who is in the lookout for the power to rule the world with the help of three stones of the Mind,Body and the Soul. Will Ramaa save Kunal? Will he get the children out of the island? This depends on the rest of the story.\n"
          ]
        }
      ],
      "source": [
        "id = 519\n",
        "films = content_recommender(id, 15, corpus_tf_idf)\n",
        "print(\"Film to find recommendations has ID {}\".format(id))\n",
        "print(\"Its categories are {}\".format(categories[id]))\n",
        "print(\"Its summary is: {}\".format(summaries[id][0]))\n",
        "for film in films:\n",
        "  print(\"Recommended film has ID {}\".format(film))\n",
        "  print(\"Its categories are {}\".format(categories[film]))\n",
        "  print(\"Its summary is: {}\".format(summaries[film][0]))"
      ]
    },
    {
      "cell_type": "markdown",
      "metadata": {
        "id": "aDsvEzrPsURy"
      },
      "source": [
        "Παρατηρούμε πως υπάρχουν ακόμα αρκετές ταινίες που δεν σχετίζονται με την αρχική ταινία, έχουμε όμως και μερικές όπως οι 2750, 4400, 1166 2152 και 1892 οι οποίες έχουν κοντινή θεματολογία με αυτή. Επαναλαμβάνουμε για την ταινία 4120."
      ]
    },
    {
      "cell_type": "code",
      "execution_count": null,
      "metadata": {
        "colab": {
          "base_uri": "https://localhost:8080/"
        },
        "id": "CnVYDK43s8xB",
        "outputId": "0491572d-41ee-4eef-aa27-22e73502125d"
      },
      "outputs": [
        {
          "name": "stdout",
          "output_type": "stream",
          "text": [
            "Film to find recommendations has ID 4120\n",
            "Its categories are ['\"Thriller\",  \"Crime Fiction\",  \"Science Fiction\",  \"World cinema\",  \"Fantasy\",  \"Comedy\"']\n",
            "Its summary is: Coco  and his 7-month pregnant wife Pipi , have recently moved into a Buenos Aires apartment and fail to notice the increasing chaos surrounding them. Shortly, authorities quarantine the building and Coco allies himself with his well-prepared neighbour, Horacio, to defend his refrigerator and keep Pipi safe while the world outside the apartment is falling apart.\n",
            "Recommended film has ID 3599\n",
            "Its categories are ['\"Comedy\"']\n",
            "Its summary is: Coco is a wealthy Sephardic Jewish businessman and an immigrant to France. After 15 years of financial success  he decides to throw an enormous bar mitzvah celebration for his son Samuel. Determined that the celebration will be the most fantastic event of the year, Coco alienates his entire family as he plans for the gala.\n",
            "Recommended film has ID 4295\n",
            "Its categories are ['\"Horror\",  \"Comedy\"']\n",
            "Its summary is: The film opens with a couple drunk driving across the streets of New York to their apartment. They get home and make love in front of the kitchen. When the wife walks into the kitchen, the refrigerator opens up and sucks the girl in. We then go to Steve & Eileen Batemen. They are moving to New York, and they move into the same apartment with the killer refrigerator. Steve takes a new job, while Eileen is trying to become a performer. Eileen pretends to be awarding an award while in the apartment, then walks all over Broadway. When Steve and Eileen go to sleep, they start having nightmares about the refrigerator, Steve is seeing mini people inside the refrigerator . Eileen has a nightmare that she is seeing unborn babies. Steve is soon driven to insanity by the refrigerator, leaving Eileen to cope with her and her acting career on her own. A plumber named Juan comes to the apartment one night, warning Eileen her refrigerator is from hell and the devil controls it. Steve and Eileen throw a party at their apartment one night, not only the refrigerator, but all of the kitchen appliances go crazy and start slaughtering the guests. Juan soon ties the refrigerator shut, and all the surviving guests leave the apartment, not knowing where they are going to go, another couple is soon interested in buying the apartment, then the movie ends.\n",
            "Recommended film has ID 3003\n",
            "Its categories are ['\"Crime Fiction\",  \"Thriller\",  \"Romance Film\",  \"Drama\"']\n",
            "Its summary is: The setting is Argentina, 1965. El Nene , a petty thief, and Angel ([[Eduardo Noriega , a drifter, meet in the bathroom of a Buenos Aires subway station, and from that moment they are inseparable. They become known as \"the twins\", but their relationship is in fact that of lovers and, soon, as partners in crime. At a point when their relationship is already turning difficult, the plot sets in. Their love and loyalty to each other is tested when \"the twins\" join a plan to hold up an armored truck together with a group of seasoned gangsters: their swaggering straight cohort Cuervo , a sedative addict who's been carrying on an affair with the luscious Vivi ; a 16-year-old nymphet; the trio's boss Fontana ; and the elderly lawyer Nando , who is past the days of any professional illusions and helps make connections to find a good team for the crime. Angel is wounded by police gunfire during the robbery, provoking Nene to kill all of the guards and police in a fit of rage. Two police officers are among the victims, and so the police of Buenos Aires start a major search for the culprits. They soon find a lead to Vivi's apartment, where the gang had been hiding out, but by this time, all except Vivi have escaped to neighboring Uruguay. The police force Vivi to give away their plans, and the search is broadened to Uruguay. Meanwhile, the gang needs to wait for new passports  for their escape from Uruguay. They take refuge in an empty apartment in Montevideo, but the organisation of the documents takes longer than originally planned. The waiting is especially hard on Nene: Angel—who is described as constantly \"hearing voices\" and seems to suffer a slight form of schizophrenia—has been rejecting intimate contact with Nene since at least the beginning of the escape, for reasons indirectly connected with his condition. Nene eventually decides to break curfew and \"get some air\", and he, Angel, and Cuervo go and enjoy themselves at a fair. That evening outside of the apartment is not their last though, partly because Angel continues to reject any contact and does not even speak to Nene anymore. On one evening, Nene ends up verbally and sexually abusing another gay person, but finally he meets the prostitute Giselle  and starts a relationship with her, even mentioning a solo escape with her. When Nando is caught by the police, the group is forced to abandon their refuge. Fontana goes off on his own, but Nene brings Angel and Cuervo to hide out in Giselle's apartment before they leave the city at night. Angel had sensed that Nene had been cheating on him, and he soon understands where Giselle fits in. Before it can come to a fight, however, he also hears from Giselle that Nene still cares for him and suffered from his rejection. Giselle tells Nene that she has a cousin who lives near the border and she can arrange passage, but not for three men the police are after. She says that a couple, a man and a woman, will be able to get across easily. When she forces him to choose between her and Angel, he chooses Angel. Nene tells Giselle that he will find her and kill her if she turns them in. Despite his threats, Giselle goes straight to the police to turn in the gang. Before the group takes to their heels, police have already surrounded the building. At first, the trio believes they will be able to escape, thinking that the police will not endanger the haul  or the lives of a large number of policemen. In high spirits, the three of them set to defend the apartment and their freedom, while Nene and Angel rekindle their relationship and spend some short and erotic moments of mutual happiness. After the first wave of attacks, a contented Angel even says the \"voices\" he always heard have fallen silent. The group soon finds out, however, that there is no way out. Cuervo dies in an attempt to sally, and Nene and Angel remain waiting for the next wave of police attacks on the apartment. Seeing that they can save neither their own lives nor the money, they burn the entire haul in a final outburst of joie de vivre. Finally, Nene catches a bullet and dies in Angel's arms. Angel still holds Nene and sends a volley of bullets in the direction of the approaching police every now and again, when the lights fade out and the audience is left with the sound of the final fusillade of the police machine guns. It is implied that Angel committed suicide by cop.\n",
            "Recommended film has ID 3522\n",
            "Its categories are ['\"B-movie\",  \"Horror\",  \"Slasher\",  \"Teen\"']\n",
            "Its summary is: While living at her parents' mountain home, Emily  is visited by her friend Angelica , who invites her to a rave party in the woods. Her parents, Leo  and Justine , let her attend, under the condition that she returns at midnight and calls if she's going to be late. Arriving early at the party, Angelica immediately attempts to acquire ecstasy and suspects an attendee named Swan  is carrying the drug. When asked about it, Swan informs the two girls that he doesn't have any ecstasy on him, but he has it in a nearby cabin, where his friends live. He requests that Emily and Angelica come to the cabin with him and meet his friends; the two comply. Unbeknownst to the girls, Swan's friends are actually his father Chaos ([[Kevin Gage , a notorious and wanted criminal and his father's gang, which consists of Chaos' girlfriend Daisy  and felon Frankie . Chaos sent his son to the party to lure unsuspecting females to him. Upon their arrival at the cabin, Emily and Angelica are quickly captured by the gang and taken to an abandoned part in the woods. The girls manage to escape their captors and split up in an attempt to make it harder for Chaos and his gang to find them. Angelica is ultimately caught by Daisy and brought before Chaos, who tortures and stabs her death, and then proceeds to violate her corpse. Chaos and his group continue their pursuit of Emily, even as the sun sets. They briefly re-encounter her, but Emily manages to steal Daisy's knife in a struggle and stabs Swan in the genitals. Knowing his wound is fatal, Chaos suffocates his son and promises to murder Emily. Meanwhile, Justine becomes nervous about Emily's whereabouts when she doesn't answer cell phone and convinces Leo to call the police. However, Justine suspects MacDunner , the investigating officer, won't attempt to find her, so she and Leo go into the woods themselves. While searching for Emily, the couple find Angelica's corpse. Chaos and Frankie finally recapture Emily and bound her with rope. In retaliation for his son's death, Chaos brutally violates Emily with his knife. With both girls dead, the gang prepares to leave the area, when Chaos' van fails to start up. Knowing that they'll be caught if they stay in the woods, Chaos and his gang leave the vehicle and look for a car to steal. Their van is then found by MacDunner and his partner Wilson , who discover blood stained clothes. The gang decides to go to a nearby house, with the intent of stealing the owner's car, unaware of the fact that they arrived at Emily's home. Leo lets Chaos and his group stay at the home, but notices that Daisy is wearing Emily's belt. Suspecting the group of being involved with Emily's disappearance, Leo calls the police, while Chaos and Frankie prepare to hot-wire his car and kill the couple. Chaos is confronted by a shotgun wielding Leo, determined to find out what happened to his daughter. When Frankie arrives with a captured Justine, Chaos disarms Leo and takes the shotgun. Instead of shooting Leo and Justine, however, Chaos shoots Daisy when she tries to convince him to leave the house. In the ensuing confusion, the couple escapes. Leo emerges with a chainsaw and slashes Frankie across the stomach, and proceeds to attack Chaos. In the ensuing struggle, Leo manages to get the upper hand and prepares to kill Chaos. Before he can, MacDunner arrives and kills Leo when he refuses to drop his weapon. Justine retaliates by shooting MacDunner in the back and Wilson is killed by Chaos. Chaos then shoots Justine in the head and his laughter is heard.\n",
            "Recommended film has ID 1565\n",
            "Its categories are ['\"Comedy-drama\"']\n",
            "Its summary is: The film tells the story of a real life fan of Boca Juniors football club, Mary Esher Duffau, who as a teenage girl adopted the identity of a man in order to survive on the streets of Buenos Aires. The film shows the teenage Raulito wandering between a reformatory for juvenile offenders, prison and psychiatric hospital. Raulito manages to escape, and finds work at Constitución railway station in Barrio Constitución. Raulito meets up with another street child and they become close friends. They both eventually manage to escape to Mar del Plata.\n",
            "Recommended film has ID 4222\n",
            "Its categories are ['\"Drama\",  \"Slice of life story\",  \"World cinema\"']\n",
            "Its summary is: With summer approaching, 16 year-old América has two issues, or so she thinks. She hates school and her aunt Carolina’s alcoholic husband, Joey. She passes the days shoplifting, hanging out with her friends and trying to avoid Joey. After a life-changing event, América, whose Spanish is limited, is sent to Buenos Aires, Argentina to live with her reclusive and anti-American grandmother, Lucía América Campos. In Argentina, América struggles to find her place with a grandmother she has never known and to hold onto a friendship with Sergio, a neighbor twice her age.\n",
            "Recommended film has ID 273\n",
            "Its categories are ['\"Drama\",  \"Black-and-white\"']\n",
            "Its summary is: Kuhle Wampe takes place in early-1930s Berlin. At the beginning of the film, an unemployed young man, brother of the protagonist Anni, throws himself from a window out of the despair that he had spent another day unsuccessfully seeking work. Shortly thereafter his family is evicted from their apartment. They move into a garden colony of sorts, with the name “Kuhle Wampe.” Anni, the family’s daughter and the only family member who still has a job, becomes pregnant and engaged to her boyfriend, Fritz, who that very evening describes that their marriage was demanded of him because of her pregnancy. Anni leaves Fritz and moves to her friend Gerda’s apartment. She later takes place in a worker’s sporting event where she meets Fritz again, who has recently lost his work, and they reunite. The climax of the film depicts their return home by train . Anni and Fritz as well as a handful of workers argue with middle-class and wealthy men and women over the Situation of the worldwide financial crisis. One of the workers notes that the well-off will not change the world in any case, to which one of the wealthy asks quizzically, “Who else, then, can change the world?” Gerda replies, “Those who don’t like it.” The film ends with the singing of the Solidarity Song, with lyrics by Brecht and music from Hanns Eisler.\n",
            "Recommended film has ID 2522\n",
            "Its categories are ['\"Horror\",  \"Psychological thriller\"']\n",
            "Its summary is: Se-jin, a lonely department store employee, moves into a high-rise apartment building. One day she notices that the lights in the windows of the building opposite all start to mysteriously flicker at exactly 9:56pm. She begins to suspect that these occurrences are somehow linked to a series of suspicious deaths in the neighborhood.\n",
            "Recommended film has ID 1957\n",
            "Its categories are ['\"Thriller\",  \"World cinema\",  \"Period piece\",  \"Drama\",  \"Political thriller\",  \"Political drama\"']\n",
            "Its summary is: In the German Democratic Republic  in 1984, secret Stasi officer Hauptmann Gerd Wiesler is assigned by his superior, Anton Grubitz, to spy on successful playwright Georg Dreyman . Wiesler and a Stasi team bug the apartment, set up surveillance equipment in a nearby attic, and begin reporting on Dreyman's activities. Dreyman has so far escaped all but cursory attention from the authorities due to his staunchly pro-Communist views and his internationally recognized talent. Wiesler soon learns the real reason behind the surveillance: the Party's Minister of Culture, Bruno Hempf, covets Dreyman's girlfriend, actress Christa-Maria Sieland , and is using his power to rid himself of a romantic rival. While Grubitz sees this as an opportunity for career advancement, Wiesler is horrified by the abuse of power. Through his surveillance, he knows Dreyman and Sieland are deeply in love. Minister Hempf uses his knowledge of Sieland's addiction to prescription drugs to engage her in sexual liaisons. After he discovers Sieland's relationship with Minister Hempf through Wiesler's indirect help, Dreyman implores her not to meet him again. Sieland at first refuses and flees their apartment. She walks to a nearby bar where she meets Wiesler, who, posing as a fan, reminds her of her talent. The encounter convinces Sieland to return to Dreyman. Although a dedicated Communist, Dreyman is increasingly disillusioned with the way his blacklisted colleagues are treated by the State. At Dreyman's birthday party, his close friend Albert Jerska, a blacklisted theatre director, gives him the sheet music to a piece titled \"Sonate vom Guten Menschen\" . Shortly afterwards, Jerska hangs himself. Wiesler is moved by this turn of events. Infuriated, Dreyman decides to publish anonymously an article on the concealed East Germany suicide rates in the West German periodical Der Spiegel. No suicide rates in the GDR have been published since 1977—the year East Germany had the second highest suicide rate in Europe. Knowing that all East German typewriters are registered, Dreyman uses a miniature typewriter smuggled in from West Germany, which he hides under the floorboards in his apartment. Before talking openly in his apartment, Dreyman and his friends test whether the flat is bugged by feigning an attempt to smuggle one of their blacklisted friends through the Heinrich-Heine-Straße checkpoint of the Berlin Wall. Although aware of the smuggling, Wiesler does not alert the border control police, and the conspirators believe the apartment is secure. Dreyman's article on unreported suicides in the GDR is published and enrages the East German authorities. Through an agent working at Der Spiegel, the Stasi obtain a copy of the typed manuscript and realize it was written on an unregistered typewriter with red ink. Meanwhile, Minister Hempf is livid at being jilted by Sieland and orders Grubitz to destroy her. Grubitz arrests Sieland as she attempts to buy drugs at her dentist's office. Threatened with the end of her career, Sieland reveals Dreyman's authorship of the article. When the Stasi search the apartment, however, they do not find the typewriter. Grubitz then orders Wiesler to interrogate Sieland again, warning him that failure will cost them both. Sieland recognizes Wiesler as the man from the bar and tells him where the typewriter is hidden, agreeing to become an informant. Grubitz and the Stasi team return to Dreyman's apartment and lift the floorboards, but the typewriter is not there. They do not know that Wiesler has already seized the evidence. When she sees the horrified look on Dreyman's face as he realizes she informed on him, a guilt-ridden Sieland runs into the street and is struck by an oncoming truck and killed. Dreyman runs downstairs and holds his dead girlfriend in his arms, weeping inconsolably. Grubitz offers his perfunctory condolence and leaves the scene. Realizing that Wiesler obstructed the investigation, Grubitz informs him that he is being demoted to Department M where disgraced agents steam-open letters. He assures Wiesler that he will be there for the rest of his working life. As he leaves, Grubitz discards a newspaper that announces Mikhail Gorbachev as the new leader of the Soviet Union. Four years and seven months later, Wiesler is steaming open letters in a dank, windowless office, when a young co-worker tells him of the fall of the Berlin Wall. Understanding that this means the end of the Stasi, Wiesler and his co-workers walk away from their jobs. Two years after German reunification, former Minister Hempf and Dreyman have a chance encounter. Dreyman asks Hempf why he was never under surveillance, and Hempf tells him he was in fact being monitored. After uncovering the surveillance equipment in his apartment, Dreyman goes to the Stasi Archives to read through the files on his activities. He figures out that Sieland was released just before the second search and could not have removed the typewriter. Seeing a fingerprint in red ink on the final typewritten report, he realizes that Stasi Agent \"HGW XX/7\" had knowingly covered up Dreyman's authorship of the suicide article and had removed the typewriter before the Stasi search team arrived. Deeply moved, Dreyman locates Wiesler and watches him go about his new job delivering mail. Two years later while delivering mail, Wiesler passes a bookstore and sees a window display promoting Dreyman's new novel, Sonate vom Guten Menschen. Wiesler goes inside, opens a copy of the book, and discovers that it is dedicated \"To HGW XX/7, with gratitude\". As Wiesler purchases the book, the sales clerk asks if he wants it gift-wrapped, and Wiesler responds, \"No, it's for me.\"\n",
            "Recommended film has ID 2097\n",
            "Its categories are ['\"World cinema\",  \"Tragedy\",  \"Drama\",  \"Indie\",  \"Black-and-white\"']\n",
            "Its summary is: Set in Prague during the Nazi occupation, the film follows Dr. Braun, a Jewish doctor forbidden to practice medicine who instead works for Nazi officials cataloging confiscated Jewish property. All Braun wants to do is survive, but his pragmatic mentality is challenged when an injured resistance fighter stumbles into his apartment building. A quest for morphine leads Dr. Braun through his tortured city, where fear eats away at the social structure. Superficially, the city might appear to be normal, but hallucinations, awkward outbursts, and nervous, self-conscious behavior make it clear that society is falling apart. Although images of the Holocaust are never seen, its devastation is understood through an overarching sense of destitution and fear. As Dr. Braun travels through the seedy undergrounds of Prague and back up to his apartment building—where a long winding staircase connects the lives of all his eccentric neighbors—a wide variety of personalities are introduced to the screen, each of whom appears equally as tortured. With minimal dialogue and a creeping pace, the sense of impending doom never leaves the screen. Crying babies, heavy shadows and broken records set a consistent tone of nightmarish anxiety. Drawn frenetically from the dancehall, where beautiful young couples bob and empty Champagne glasses litter the tables, to the apartment building of a former piano teacher that's stacked high with sheet music and out onto the empty cobblestone streets, the audience is never allowed to feel at ease. Brynych blurs the line between Nazism and Soviet communism to comment simultaneously on both.Konrad The KGB, dressed in sharp suits, look more like the Gestapo than German soldiers, and the film makes no distinction between Jews and Gentiles. As a result, everyone in Dr. Braun's apartment building is under suspicion—everyone is fearful. The film is scored with discordant piano music and full of expressionist cinematography. At the beginning, the camera follows Dr. Braun through his work, where exaggerated shots lend themselves to symbolic interpretation. For example, in one scene, Dr. Braun stands silently in front of a wall full of ticking confiscated clocks. Clocks serves as a symbol for time; and the Jews who lost their clocks also had their time on Earth taken from them. Later, short choppy shots of the doctor's home work act as exposition. A small pile of books and an empty jar of milk hint at poverty and intellect. His neglected violin suggests passion and creativity that's been suppressed; and his small bedroom window, which shows a solitary smoking chimney, subtly alludes to the horrors of the Holocaust. Towards the end of the film, a voice from the radio, declares in a monotone voice, “The longer the war lasts the greater is our faith in the final victory.” Not a voice of hope, Brynych’s film sends out a message of despair.\n",
            "Recommended film has ID 4714\n",
            "Its categories are ['\"Drama\",  \"Comedy\"']\n",
            "Its summary is:  The film tells of Rulo , a moderately successful musician in the 1970s. Today he's divorced and an unemployed forty-something day-laborer living in Buenos Aires in the late 1990s. He's anxious for whatever work he can find. He lives with his son who's also musically inclined, and his mother . His best friend Torres , who has connections in the Argentine construction industry, finds him work as a large crane operator. Rulo is dating Adriana , who runs a sandwich shop. He lands a job as an excavating machine operator in distant Patagonia. The workers live in a remote farmhouse and the relationship between management and labor is difficult. One day the workers are not fed during lunch so they refuse to work until they eat. Rulo soon discovers that making a fresh start at a late age proves to be harder than he first thought.\n",
            "Recommended film has ID 2133\n",
            "Its categories are ['\"Musical\",  \"Black-and-white\"']\n",
            "Its summary is: Robert \"Bob\" Davis  is an American dancer who is looking for a job in Buenos Aires after gambling away his money. Bob's friend, bandleader Xavier Cugat, invites him to perform at a wedding in order to catch the eye of the bride's father, Eduardo Acuña , the owner of a local nightclub. Acuña's four daughters prepare for the wedding of the eldest. According to family tradition, the sisters must wed from oldest to youngest. The beautiful Maria , who is next in line, is notoriously picky with her suitors, much to the dismay of her two younger siblings. During the reception, Bob tries to catch Maria's attention, but his advances are rebuffed. While in conversation with Acuña, Bob remarks that Maria's personality is like \"the inside of a refrigerator,\" quickly losing favor with his potential employer. Acuña decides to address Maria's relationship woes and begins sending orchids and love notes to her from an unknown suitor, with the hope that she will eventually find a beloved. One day, Bob delivers the note and flower. Maria, who has become enamored with her secret admirer, sees Bob leaving and concludes that he is her suitor. Maria asks her father to introduce them, and Acuña reluctantly agrees. He makes a deal with Bob: in exchange for performing at the club, Bob will play the part of the suitor and repel Maria with his \"obnoxious\" personality. Despite Bob's efforts to disillusion Maria, she grows attracted to him, and the two quickly fall in love. With his plan gone awry, Acuña orders Bob to leave Buenos Aires and composes a farewell love note on his behalf. Acuña's wife sees him writing the note and suspects him of cheating on her, drawing the whole family in with her discovery. Bob is forced to reveal the truth in front of Maria, who feels shocked and betrayed. Impressed by Bob's behavior, Acuña grants him permission to court Maria. After a series of romantic gestures, Maria finally forgives Bob, and the two reconcile.\n",
            "Recommended film has ID 4573\n",
            "Its categories are ['\"Drama\",  \"Ensemble Film\",  \"Coming of age\",  \"World cinema\"']\n",
            "Its summary is: Five girlfriends in their early twenties live in the dingy port town of Incheon. A close-knit circle in high school, their paths begin to diverge as they step into the adult world. At the center of the group is the beautiful and vain Hae-joo, who dreams of becoming a successful career woman. She leaves Incheon for an apartment in Seoul and a junior position with a brokerage firm. The other girls are left behind in a state of solitude and unease; Tae-hee works for free for her parents and takes dictation from a poet suffering from cerebral palsy and Ji-young seeks a job, while caring for her grandparents in their dilapidated apartment. The twins Bi-ryu and Ohn-jo buffer themselves from change with constant togetherness. The cellular phones ring as the girls coordinate their meetings. A lost cat, Tee tee, enters the lives of these young women, passing from one owner to the next as circumstances pull lives and friends apart and others together.\n",
            "Recommended film has ID 3326\n",
            "Its categories are ['\"Crime Fiction\",  \"Thriller\",  \"Crime Drama\",  \"Drama\",  \"Crime Thriller\",  \"Romantic drama\",  \"Romance Film\"']\n",
            "Its summary is: Anderson  is a successful American hitman whose employer sends him to do a job in Argentina. His contacts inform him that his target is a former general. Things are not as easy as they seem. A paranoid Anderson simultaneously rents a room in two different hotels. From the safety but close proximity of one hotel room, he witnesses police converge on the other hotel. Anderson will fulfill his obligation to do the job despite the obvious reality that there is a leak. We witness the conspirator Miguel  being harshly interrogated by Buenos Aires police. Miguel can eventually breathe a sigh of relief when his conspirator within the Argentinian federal authorities shows up. Anderson  eventually makes it out of Argentina safely. The character of Jo-Jo is a small supporting role played by Frank Cassavetes, a son of the late director John Cassavetes and actress Gena Rowlands.\n",
            "Recommended film has ID 2796\n",
            "Its categories are ['\"Crime Fiction\",  \"Family Drama\",  \"Drama\",  \"Indie\",  \"World cinema\"']\n",
            "Its summary is: Oso  is sent to prison for a robbery and a murder. After seven years, he is released from prison, and in a flashback, the robbery is seen that led to his arrest. His daughter, Alicia , was a year old on the day of the robbery. As a consequence, Alicia never got a chance to get to know her father. Oso returns to his hometown, a depressed suburb of Buenos Aires, fully aware that his wife, Natalia , is living with another man, Sergio . Oso is determined to establish a relationship with Alicia, and to collect money owed him by a sleazy crime boss known as the Turk . In the meantime, the Turk wants Oso to be the getaway driver on one last big job. For her part, Alicia seems fascinated with her father and makes him promise never to go away again.\n"
          ]
        }
      ],
      "source": [
        "id = 4120\n",
        "films = content_recommender(id, 15, corpus_tf_idf)\n",
        "print(\"Film to find recommendations has ID {}\".format(id))\n",
        "print(\"Its categories are {}\".format(categories[id]))\n",
        "print(\"Its summary is: {}\".format(summaries[id][0]))\n",
        "for film in films:\n",
        "  print(\"Recommended film has ID {}\".format(film))\n",
        "  print(\"Its categories are {}\".format(categories[film]))\n",
        "  print(\"Its summary is: {}\".format(summaries[film][0]))"
      ]
    },
    {
      "cell_type": "markdown",
      "metadata": {
        "id": "-GBAAf1ftMgu"
      },
      "source": [
        "Εδώ βλέπουμε πως η μείωση της διαστατικότητας δεν βοήθησε τον recommender αφού οι περισσότερες από τις ταινίες δεν σχετίζονται με την ταινία που δώσαμε σε αυτόν."
      ]
    },
    {
      "cell_type": "markdown",
      "metadata": {
        "id": "xQf6lyOeta91"
      },
      "source": [
        "Περιορίζουμε ακόμα περισσότερο τις διαστάσεις του προβλήματος και ελέγχουμε όπως και πριν το αποτέλεσμα."
      ]
    },
    {
      "cell_type": "code",
      "execution_count": null,
      "metadata": {
        "colab": {
          "base_uri": "https://localhost:8080/"
        },
        "id": "inTeudaitC7p",
        "outputId": "65243a31-d0c6-4817-e3d4-3477ceb38af9"
      },
      "outputs": [
        {
          "name": "stdout",
          "output_type": "stream",
          "text": [
            "(5000, 10000)\n"
          ]
        }
      ],
      "source": [
        "vectorizer = TfidfVectorizer(max_df=500, min_df=2, max_features=10000)\n",
        "vectorizer.fit(corpus_updated)\n",
        "corpus_tf_idf_2 = vectorizer.transform(corpus_updated)\n",
        "print(corpus_tf_idf_2.shape)"
      ]
    },
    {
      "cell_type": "code",
      "execution_count": null,
      "metadata": {
        "colab": {
          "base_uri": "https://localhost:8080/"
        },
        "id": "DYIjnwglts4O",
        "outputId": "0af7b431-f7bb-40b1-b596-209b52626531"
      },
      "outputs": [
        {
          "name": "stderr",
          "output_type": "stream",
          "text": [
            "/usr/local/lib/python3.7/dist-packages/scipy/spatial/distance.py:720: RuntimeWarning: invalid value encountered in double_scalars\n",
            "  dist = 1.0 - uv / np.sqrt(uu * vv)\n"
          ]
        },
        {
          "name": "stdout",
          "output_type": "stream",
          "text": [
            "Film to find recommendations has ID 519\n",
            "Its categories are ['\"Japanese Movies\"']\n",
            "Its summary is: Even though being able to withdraw from the Liar Game Tournament, Kanzaki Nao  decides to join Akiyama Shinichi  and nine other players for the final stage, ”The Garden of Eden game”, which offers a 5 billion yen prize. The players are informed that if all of them can work together, they can all become winners. However, the chances of winning are endangered by a mysterious player known as \"Person X\".\n",
            "Recommended film has ID 2750\n",
            "Its categories are ['\"Thriller\",  \"Science Fiction\",  \"Future noir\",  \"Adventure\",  \"Psychological thriller\",  \"Crime Thriller\"']\n",
            "Its summary is: In the near-future, organic virtual reality game consoles known as \"game pods\" have replaced electronic ones. The pods are attached to \"bio-ports\", outlets inserted at players' spines, through umbilical cords. Two game companies, Antenna Research and Cortical Systematics, compete against each other. In addition, a group of \"realists\" fights both companies to prevent the \"deforming\" of reality. Antenna Research's Allegra Geller , the greatest game designer in the world, is testing her latest virtual reality game, eXistenZ, with a focus group at a seminar. She is shot in the shoulder by an assassin named Noel Dichter  with an organic pistol , which is undetectable by security. As Dichter is gunned down by the security team, security guard  Ted Pikul , rushes to Geller and escorts her outside. Allegra discovers that her pod, which contains the only copy of the eXistenZ game, may have been damaged due to an \"UmbyCord\" being ripped out as the game was being downloaded. To test it, she must plug into the game in tandem with another player that she can trust, and talks a reluctant Pikul into installing a bio-port in his own body so he can play the game with her. Pikul, one of a dwindling few who has refused to have a bio-port installed to this point, at first objects due to a phobia about \"surgical penetration,\" but eventually gives in. They head to a gas station run by a black marketeer named Gas  to get it installed. Gas deliberately installs a faulty bio-port and the game pod is damaged. Gas  reveals that he is going to kill Allegra for the bounty on her head, but Pikul shoots him with the rivet gun used to install the port. The pair make their way to a former ski lodge used by Allegra's mentor, Kiri Vinokur . He and his assistant repair the damaged pod and give Pikul a new bio-port. Inside the game, Pikul realizes that it is hard to tell whether his or Allegra's actions are their own intentions or the game's. When they meet D'Arcy Nader , a video game shop owner, Pikul speaks rudely to him, but then expresses surprise at his own rudeness. Allegra informs him that it was the doing of his game character. Reality becomes more distorted when they use new micro pods given to them by Nader, and gain new identities as workers at a game pod factory. There, they meet Yevgeny Nourish , who claims to be their contact in the Realist underworld. Nourish recommends that Pikul order the special for lunch at a Chinese restaurant near the factory. Once in the restaurant, Pikul \"pauses\" the game in order to get back to the real world, but finds out that he is unable to distinguish reality from illusion. Back in the restaurant, Pikul develops an urge to eat the unappetizing special, which turns out to be an assortment of cooked mutant animals. Pikul constructs a familiar object from the inedible parts—the pistol used to shoot Allegra. He points it at her as a joke, but then Nourish identifies their Chinese waiter  as an enemy and gets Pikul to shoot him instead. In keeping with the game reality, the other patrons of the restaurant appear more frozen than shocked, and return to their meals when Pikul tells them it was a simple misunderstanding about the bill. When the pair return to the game store, Hugo Carlaw  informs them that Nourish is actually a double agent for Cortical Systematics, and the waiter whom Pikul shot was the actual contact. The next day at the factory, the two plan to sabotage all the game pods in the factory by plugging into a diseased pod. When Allegra becomes infected, Pikul frees her by cutting the umbycord. Allegra almost bleeds to death until Nourish shows up again with a flame thrower, directing it at the diseased pod. The pod bursts, releasing deadly spores. Before leaving, Allegra stabs Nourish in the back with a knife. Allegra and Pikul suddenly find themselves back in the ski lodge, and it seems that they have lost the game. They discover that Allegra's game pod is also diseased. Pikul is confused by the disease's crossover from the game into reality. However, Allegra immediately notices Pikul rubbing his back and realizes that Vinokur gave Pikul an infected bioport in order to destroy her game. She inserts a disinfecting device into Pikul's bioport. Unexpectedly, Carlaw reappears as a Realist resistance fighter, and escorts Allegra and Pikul outside to witness the death of eXistenZ. Before Carlaw can kill Allegra, he is shot in the back by Vinokur, who is a double agent for Cortical Systematics. He informs Allegra that he copied her game data while he was fixing her pod. In revenge, she kills Vinokur. Pikul then reveals that he himself was sent to kill her; he is a Realist. However, she informs him that she knew of his true intentions ever since he pointed the gun at her in the Chinese restaurant, then kills him by detonating the disinfecting device in his bioport by remote control. In yet another twist, the two then appear on a stage, together with the main players from the game. It turns out that the story itself is in fact a virtual reality game called \"tranCendenZ\" played by the cast, mirroring the first scene. This is enforced by more naturalistic acting coupled with significantly less cliche dialog, and cutaways from Allegra and Pikul. Another difference occurs when it is revealed that players are using electronic devices rather than game pods. The real game designer, Nourish, feels uneasy because the game started with the assassination of a game designer and had an overall anti-game theme that he suspects originated from the thoughts of one of the testers. Pikul and Allegra approach him  and ask him if he should pay for his \"crimes\" of deforming reality. As Merle , Nourish's assistant, calls for security, Pikul and Allegra grab pistols hidden under the dog's false mane and shoot Nourish and Merle to death. As in the restaurant scene, the other players appear more frozen than shocked. As Pikul and Allegra leave, they aim their guns at the person who played the Chinese waiter, who first pleads for his life, then asks if they are still in the game. The last shot is of Pikul and Allegra standing in surprised silence, apparently unsure of the answer.\n",
            "Recommended film has ID 3155\n",
            "Its categories are ['\"Parody\",  \"Indie\",  \"Short Film\",  \"Fantasy\",  \"Comedy\",  \"Adventure\"']\n",
            "Its summary is: The film opens with a trio of Dungeons & Dragons characters facing the final villain. However, they are quickly killed and the players blame the game master, Lodge, claiming he did not follow the rules and plotted against them. While Leo and Gary wish to play a different game the following week, Cass demands to play the same campaign again, even though they just played it for the second time, to preserve his reputation that there is no game he cannot win. Lodge wishes to publish his campaign as an official Dungeons & Dragons game module, but he is having trouble writing it: he knows how he wants it to end, but his players never actually finish the module. Gary suggests that for the next game they bring in two more players, in order to have a more well-rounded party. Cass is able to recruit his ex-girlfriend Joanna. However, Lodge is unable to find anyone  and resolves to be the fifth player . The campaign begins when the characters Luster , Flynn the Fine , and Daphne  are summoned before King Erasmus the Randomly Biased. The evil necromancer Mort Kemnon has discovered an artifact known as the Mask of Death and wishes to use this to overthrow the kingdom. As they go on their way, they are summoned before the Hierophant of the Order of Therin who sends two members of his order to accompany the party, Brother Silence  and Sir Osric  -- the latter of whom the other players  take an instant dislike to, as Lodge created Osric just to keep the story on track. On their way, the group runs into a large party of goblins. The men's overconfidence is shattered when Joanna singlehandedly wipes out the entire party of goblins, even though the men thought that she created a poor character . Resting at an inn near Westhaven, the group faces Mort Agrippa and defeat him. They head out for Westhaven and decide to stop playing for the night. Lodge explains to Joanna the reasons why he keeps the other players on such a short leash: if he does not, they will kill, plunder, and impregnate the fantasy world. The following week, the players continue the campaign by facing Drazuul in the town of Westhaven. Due to his character's weak traits, Leo goes through multiple copies of the character until the players are able to cleverly defeat Drazuul by hiding behind \"the mound of dead bards\". Torturing Drazuul with holy water, they learn of Mort Kemnon's location. Making their way through an abandoned mineshaft, they find a henchman from the previous campaign and take all the equipment. The battle goes poorly for the players, until Lodge's cat messes up the floor-tiles and Cass distracts Lodge while they place their characters in more preferable positions. After a lengthy battle with Kemnon , Kemnon is defeated and cryptically implies there is another enemy. It is revealed to be the Hierophant, who intends to use the Mask to rekindle the Light of Therin. The group then realizes that the \"Heart of Therin\", the church's most sacred relic, is actually a prison housing the deity. During a battle with the Hierophant, Leo finally proves to be of use as he awakens Therin from her prison, allowing Daphne to release her . Afterwards, Daphne is offered an unlimited wish by Therin. After the other players recommend she wishes herself immortal, she uses it to resurrect Osric, much to the extreme disapproval of Cass, who insults her and storms out. The other three continue playing, and Therin provides rewards for each: Flynn becomes a herald, Luster is stripped of her powers and becomes a cleric, and Osric becomes Lord High Marshal of the Paladins. The campaign ends, and with positive comments from Gary and Leo, Lodge is inspired enough to write his module and has it published. Sometime later, Cass apologizes for his behavior and the group begins another adventure. Lodge wants to send his group through the adventure module that another group was playing in the first Gamers film, but upon mentioning 'The Shadow', Mark—the lone survivor of that campaign—screams in fear and runs from the gaming store. As the new campaign begins with the Mask of Death having been stolen, the film ends showing the henchman still alone in the mine.\n",
            "Recommended film has ID 3183\n",
            "Its categories are ['\"Sports\",  \"Biography\",  \"Documentary\"']\n",
            "Its summary is: The film follows 8 of the top high school basketball players in the US at the time of filming, in 2006. The plot centers around the first annual Boost Mobile Elite 24 Hoops Classic at the legendary Rucker Park in Harlem. By 2009, six of the eight players had joined NBA teams. By 2011, all eight players were on NBA teams, with Kyle Singler being the last one drafted and the only one to win an NCAA Championship, which he won while playing for Duke University in 2010.\n",
            "Recommended film has ID 3212\n",
            "Its categories are ['\"Romance Film\",  \"Adventure\",  \"Animation\"']\n",
            "Its summary is: The film tells the story of Amadeo, a shy but talented boy, and of a foosball team that is trying to get back together after having been dismantled. With the help of the foosball players, Amadeo will have to face his most terrible rival on the football pitch: the Champ. Guided by their leader, the charismatic Right Winger, the foosball players and Amadeo will set off on a great adventure together, like a true team, to get back the dignity that the Champ stole from them.\n",
            "Recommended film has ID 3463\n",
            "Its categories are ['\"Family Film\",  \"Comedy\",  \"Animation\"']\n",
            "Its summary is: Wreck-It Ralph is the villain of the arcade video game Fix-It Felix Jr., in which the game's eponymous hero fixes a building that Ralph destroys. For over 30 years, Ralph has been doing the same job and has become tired of being the villain. Wanting to prove he can be a hero and not just a villain, Ralph escapes his game through a power cord and lands in Hero's Duty, a light-gun shooter game where he helps the game's hero, Sergeant Calhoun, battle against \"Cy-Bugs\" . He later enters Sugar Rush, a kart racing game set on tracks made of candies, cookies and other sweets. There, Ralph meets one of the game's characters, Vanellope von Schweetz, who has learned that her game is faced with a dire threat that could affect the entire arcade, and one that Ralph may have inadvertently started.<ref nameB. Vary|first'Wreck-It Ralph': Explore the worlds of Disney's animated homage to videogames – FIRST LOOK|urlFebruary 7, 2012|newspaperFebruary 6, 2012}}\n",
            "Recommended film has ID 2893\n",
            "Its categories are ['\"Sports\",  \"Coming of age\",  \"Drama\",  \"Romantic drama\",  \"Romance Film\",  \"Teen\"']\n",
            "Its summary is: Anne Marie , Eden , and Lena  are best friends. Anne Marie and her friends have been raising her 14-year-old sister, Penny , ever since their mother took off to Las Vegas with a boyfriend, who was not comfortable with the idea of bringing the two girls along. While Penny is at school, Anne Marie, Eden, and Lena work as maids at a large resort hotel, but more importantly, they are surfers. Anne Marie rises every morning before dawn to train for her surfing comeback. She was once considered a rising star in women's surfing and competed as a youth, but a bad wipeout and near-drowning incident temporarily halted her career and left her with deep-seated fears. Her friends, especially Eden, have encouraged her to try it again. Anne Marie has been invited to join in an upcoming surf competition at the famed North Shore surf spot, Pipeline. She hopes to gain the attention of sponsors and get herself and her friends out of the near-poverty they are living in. As the Pipeline competition gets closer, Anne Marie struggles to keep Penny under control and deal with her own personal issues. At work, Anne Marie meets and catches the eye of Matt Tollman , a National Football League quarterback in Hawaii for the Pro Bowl . Matt is there with several of his rowdy teammates and instantly becomes attracted to the surfer. Through a series of \"chance\" encounters, she agrees to teach him how to surf, bringing Lena, Eden, and Penny along for the ride. Her acceptance of a non-local begins to cause friction between her and many of the young men in her surfing social circle. Anne Marie faces more problems when she and Eden argue about Anne Marie's lack of dedication to training for the Pipeline contest due to the sudden appearance of Matt. She also has to hear vicious comments from several of the other football players' wives and girlfriends staying at the hotel about how she is undergoing the \"Matt Tollman makeover\" while attending a luau at the resort. Anne Marie confronts Matt about their situation, and soon resolves to step up her game as she finally commits herself to the Pipeline Masters. On the day of Pipeline, Anne Marie wipes out during her first heat, but advances to the next heat after narrowly beating pro surfer Kate Skarratt. She is shaken, but Matt tells her a story about his first game as a quarterback and helps her regain her wavering confidence. Determined, but still afraid, Anne Marie returns to the water. Competing in the same heat is Keala Kennelly, one of the first professional female surfers, playing herself. While Keala surfs the first few sets of waves without wipe-outs, Anne Marie still has inhibitions about riding one, visions of another near-drowning incident holding her back. Keala finishes her turn, then paddles out and takes Anne Marie under her wing and encourages her to take the best wave of the day, on which Anne Marie manages to score perfectly. Although she does not advance to the next heat, she has regained her lost confidence, but more importantly, attracted the notice of sponsors, one of which includes an offer to join the Billabong women's surf team.\n",
            "Recommended film has ID 3012\n",
            "Its categories are ['\"Silent film\"']\n",
            "Its summary is: The film open in a town on the Mexican border. A poker game is going on in the local saloon. One of the players cheats and is shot dead by another of the players, a Mexican named Pedro. In the uproar that follows Pedro is wounded as he escapes from the saloon. The sheriff is called, who tracks Pedro to his home but Pedro kills the sherriff too. While Pedro hides, his wife Juanita, is arrested on suspcicion of murdering the sheriff. Pedro rescues her from the town jail and the two head for the Mexican border. Caught by the posse before they reach the border, Juanita is killed and the film ends with Pedro being arrested and taken back to town.\n",
            "Recommended film has ID 3663\n",
            "Its categories are ['\"Thriller\",  \"Crime Thriller\",  \"Psychological thriller\",  \"World cinema\"']\n",
            "Its summary is: The film follows 22-year-old Sébastien, a Georgian immigrant living in France and working construction jobs to support his poor family. Sébastien works on the home of Godon, a feeble morphine-addict who is under police surveillance. After Godon dies of an overdose, his widow informs Sébastien that she is unable to pay him. Sébastien then overhears the widow talking with one of Godon's friends, describing a mysterious \"job\" that Godon had lined up before his death. The destitute Sébastien steals an envelope containing the instructions for the job. The police begin following Sébastien as he uses the train ticket contained in the envelope. The police lose track of Sébastien as he follows the instructions and is brought to a secluded house in a forest. At the house, a deadly gambling event is being organized by a powerful criminal. Though Sébastien's contacts immediately recognize that he is not Godon and has no idea what he is getting into, they force him to participate in the game. Thirteen men identified by number must undergo a series of Russian roulette games, arranging themselves into a circle and pointing their revolver at the man in front of them. Spectators place bets on who will survive. Sébastien, as #13, survives the first round and fires his gun only after threatened with death. On the second round, in which two bullets are placed in each gun, Sébastien survives only because the man behind him is killed before he could fire. On the third round, with three bullets in each gun, Sebastien survives along with three other men. Though he believes that he is finished, Sébastien is selected for the final \"duel\" game against #6, a cruel man who is managed by his own brother. Sébastien wins the duel and survives the game. He collects €850,000 out of the winnings his handlers have made from him, then flees the house. Fearing for his life, he sends the money home in a parcel before the police catch up with him. He tells the detective that he was turned away from the game and received no money, but gives the license plate number of a particularly unpleasant gambler in attendance. The police release him, but the brother of #6 spots him as he boards a train. The brother shoots Sébastien and steals his empty satchel. Sébastien collapses into a seat as the train begins to move.\n",
            "Recommended film has ID 2519\n",
            "Its categories are ['\"Melodrama\",  \"Indie\",  \"Comedy-drama\",  \"Period piece\",  \"Drama\",  \"Romantic drama\",  \"Romance Film\"']\n",
            "Its summary is: Thomas Smithers , who has made his fortune in metalwork, hires Meneer Chrome , a famous garden designer, to create the most extravagant garden imaginable out of his wild property. However, Chrome has already been employed by Fitzmaurice , the cousin of Smithers' wife Juliana , for the purpose of bankrupting Smithers. Fitzmaurice's purpose in this is to take back Juliana as his lover, but she becomes attracted to Chrome, who is falling in love with Anna, the Smithers' mysterious daughter. Anna, however, is contemptuous of Chrome ; her parents subject her to numerous \"treatments,\" thinking her mentally unstable and wishing to cure her. These treatments cause Chrome to pity her, outbursting to the doctor at one point, \"You're sick, she's not! Heal yourself!\" As the garden grows increasingly more complex and Smithers approaches bankruptcy, Fitzmaurice realizes that Chrome's affection for Anna is making him a liability; first he threatens to reveal Chrome's true identity to Smithers, then he plots to kill him by poisoning. Fitzmaurice's plan backfires, however, and he falls victim to his own poison. Juliana abandons her adulterous intentions, which her husband remains unaware of, and turns to support Smithers, who is bankrupt from his garden project obsession. Chrome, revealed to be the real Chrome's assistant, goes to the sea with Anna, where she throws away her book of poetry.\n",
            "Recommended film has ID 3258\n",
            "Its categories are ['\"Crime Fiction\",  \"Action/Adventure\",  \"Crime Comedy\",  \"Indie\",  \"World cinema\",  \"Action Comedy\",  \"Comedy-drama\",  \"Sports\",  \"Drama\",  \"Comedy\",  \"Comedy of Errors\",  \"Action\"']\n",
            "Its summary is: The film begins with Thomas and Wayne playing a game of pool against two English men. They almost win but Wayne loses the game on the last shot due to overconfidence. Their friend Jack then arrives. His pool playing skills come to the attention of Holden , who remarks to the bartender Dave  that the three friends might be good enough to play in \"Daddy's game\". \"Daddy's game\" turns out to be an underground pool tournament run by local Greek crime lord Daddy. Each team pays $500 to enter and the winner takes away $20,000 tax free. The three of them agree to enter under the name \"Stickmen\". The boys leave the bar and go to a cafe, where they meet Sara , a waitress who takes a liking to Thomas. The next morning the three meet up for breakfast where Jack tells them that their first match in the pool tournament will be against two men called Jimmy and Eric, at the Princess Bar. Jack then leaves for work, where he ends up having sex with Karen  in his office. Thomas attends a course on \"Coping with Redundancy\" but is asked to leave. He runs into Sara, who is doing a management course. The two go for a cup of coffee, which Thomas reluctantly accepts because he has a girlfriend. Later that evening, Thomas accompanies Wayne to a job interview, which turns out to be an escort driver. He will be responsible for driving prostitutes Tess  and Lulu  to their jobs. The madam, Janelle, reveals that Daddy owns the brothel. Wayne gets the job. Meanwhile, Dave is having trouble coming up with the rent for his bar, which he rents from Daddy. Holden turns up and after some friendly chitchat, tells Dave that the cheque bounced. He breaks Dave's thumb and promises him that if he doesn't get the money, the next one will be a beating. The Stickmen turn up to their match at the Princess Bar, which appears to be a gay bar. They easily win the match and go back to celebrate at Dave's bar. Sara turns up and she and Thomas hit it off. Karen arrives and chats with Jack. Thomas and Sara, drunk, leave the bar. Holden tells Jack and Wayne that Daddy wants to meet them, and they agree to meet the next morning. The next morning, Jack and Wayne turn up to Daddy's barber shop, which is in a small alley. Thomas doesn't show and it is revealed that he slept with Sara. Holden arrives and tells Jack and Wayne that their next match will be against the Men in Black, who are rumoured to be very good. They go inside and meet Daddy, who has two metal hooks instead of hands. He has a number of Greek thugs as bodyguards. He tells them that life is nothing without passion, and his passion is getting players together in his pool tournament. Thomas returns home and finds his girlfriend Marie has packed up his stuff and wants him to leave, having suspected his infidelity. He arrives at the bar and is congratulated by Jack and Wayne for sleeping with Sara. Meanwhile, it is revealed that Sara and Karen know each other and are planning something. The Men in Black, the Stickmen's next opponents, turn out to be two priests. They are humorous and good-natured even when the Stickmen beat them. Thomas goes to visit Sara and the two of them bond. Holden tells Jack that Daddy wants another meeting. Jack accompanies Holden and sees Daddy intimidating Dave while shaving him. Dave, who had previously been beaten up by Daddy's thugs, is given two days to get Daddy's money. Daddy then gives Jack a haircut while offering him a bet of $15,000 on the tournament. Jack protests that they don't have that kind of money but Daddy says that they can work out a payment plan. Feeling intimidated, Jack agrees to the bet. The next morning at breakfast Jack breaks the news to the other two that their next match will be against \"Caller\" , and he remarks that the only way they have a hope is if they win the toss. Sara tells Karen that she's not sure if she can go through with their plan. Karen's ex-boyfriend Hugh and his friend turn up and Sara leaves. She meets Thomas at the Bucket Fountain on Cuba Street, where they agree to take their relationship to the next level . The next evening, Wayne rescues Lulu from a fat, drunken customer, who has passed out on top of her. He invites her to come and watch him play pool to cheer her up, and takes her home to get his cue. However, he finds that Tess, who had been living with him temporarily, has stolen most of his stuff. He explodes in a fit of anger, starts drinking and tells Lulu that Caller is too good and they can't beat him. After some encouragement from Lulu, he agrees to play. Caller, it turns out, is a pierced, bare-chested pool player with dreadlocks who gets his nickname from calling his shots. Wayne turns up drunk and announces to Thomas and Jack that he will play Caller. Jack objects, knowing that he is the only one who has a chance at winning, but Holden states that since Wayne has stepped up, he has to play. In a \"drunken master\" style, Wayne runs the table and beats Caller, who never gets a single shot. As Holden mentioned earlier in the film, New Zealand pub rules require a player who loses a game without sinking any of his balls to drop his trousers. Caller appears to comply with the rule, but then punches Wayne in the face. In the resulting fight, Jack's hand is cut. Holden, backed up by two of Daddy's thugs wielding machetes, forces Caller to drop his trousers. Due to Jack's injury, he is barely able to play pool, meaning that Thomas and Wayne will have to play in the semi-finals. Knowing that they have lost their star player, they decide to quit. Dave convinces them to keep playing by telling them that he gets to keep the bar if they win. He buys them matching jackets to wear to the finals. At the semi-finals, Holden announces that their opponent is \"Bastinados\", who turn out to be Sara and Karen. The other match is the \"Farmers\" versus the \"Bankers\" . Karen and Sara are exceptionally good, but Sara throws the game by sinking the cue ball on the same shot as the 8-ball. In the break between the game, Sara and Thomas go to the roof to talk, where she tells him that she threw the game and really cares about him. Jack takes Wayne and gets him drunk in the hopes that he will repeat his performance against Caller. Daddy, not wanting the Stickmen to win, locks Thomas and Sara on the roof. Wayne steps up to the break of the final match against the Bankers but passes out on the table. Jack has to play, being the only one left. However, Holden rescues Thomas and Sara, and Thomas proceeds to win the game for the Stickmen. Hugh snaps his cue over his knee in anger and storms out. Daddy tells them to stop by his barber shop next week to collect the money. A few weeks later, we see that Dave has done up his bar, which is now a successful establishment, and the film ends with the Stickmen playing a friendly game of pool in the bar.\n",
            "Recommended film has ID 2989\n",
            "Its categories are ['\"Sports\",  \"Science Fiction\",  \"Action\"']\n",
            "Its summary is: It is the year 2005. The new sport of Rollerball is hugely popular in Central Asia, Russia, China, Mongolia, and Turkey. Marcus Ridley  invites NHL hopeful Jonathan Cross ([[Chris Klein  to join him playing for the Zhambel Horsemen in Kazakhstan. The highly paid Marcus and Jonathan are teamed with low-paid locals, who are often severely injured in the game, which is an extraordinarily violent extension of roller derby involving motorcycles, a metal ball, and many trappings of the World Wrestling Entertainment . Soon the team's star and the darling of promoter Alexi Petrovich , Jonathan, is thrilled by the high-octane sport, the hype, the sports cars, and female team mate Aurora . But gradually Jonathan discovers that the cynical Alexi and his opportunistic rat Sanjay  will go to any lengths to manipulate the game in order to provide an ever more gory spectacle and improve the game's popularity.\n",
            "Recommended film has ID 2450\n",
            "Its categories are ['\"Short Film\",  \"Silent film\",  \"Indie\",  \"Black-and-white\",  \"Comedy\"']\n",
            "Its summary is: The various boys of the gang each manage to escape their responsibilities for the day, meeting up to build a raft for their pirate game.\n",
            "Recommended film has ID 2913\n",
            "Its categories are ['\"Sports\",  \"Comedy-drama\",  \"Comedy\"']\n",
            "Its summary is: Al Percolo  is a major league baseball scout with the New York Yankees who attends a game at a small college to see pitching phenom Tommy Lacy . He happens to be a fan of the film King Kong and he remarks to his fellow scouts sitting in the crowd that he is looking for King Kong. After the game, Al gets himself invited to dinner at Tommy's house and convinces him and his devoutly Catholic parents that he should sign a contract with the Yankees, which he eventually does. Just as he is about to make his major league debut, Al's latest discovery suffers an extreme case of stage fright  that leads him to vomit on the pitcher's mound at Yankee Stadium. After Lacy's \"embarrassing\" outing, Al is banished to the Mexican countryside. While attending a game in Mexico, the very desperate Percolo finds Steve Nebraska , a young American with a perfectly consistent 100+ mph fastball and who, as a bonus, hits home runs on seemingly each at-bat. When Al sees what he has discovered, he exclaims, \"I found him! I found him! I found Kong! Oh my God Almighty!\" Steve is also very popular with the fans, especially females as he has acquired a cigar box full of telephone numbers during his time in Mexico. Percolo notifies the Yankee brass of his find, but he is unceremoniously fired and told not to bring anyone back. Undaunted, he takes Steve back to the United States with him, becoming his unofficial agent in the process, but not before Steve freaks out in the middle of the terminal at Newark International Airport when he momentarily thinks Al is missing. Al arranges an open audition at Yankee Stadium in front of representatives from every MLB team. A bidding war ensues after Steve effortlessly strikes out Keith Hernández and homers off Bret Saberhagen.  Nebraska soon signs a $55 million contract -- which, in 1994, would have been the highest-paying contract in baseball history -- with Al's old team, the Yankees. Difficulties arise as Yankee management demands that the eccentric Steve be psychiatrically evaluated in order to ensure he will not turn out to be as unstable as Al's earlier finds. Al picks a psychiatrist named \"H. Aaron\" out of the Yellow Pages, appreciating the similarity to Hank Aaron and expecting a quick evaluation, followed by a massive payday for both Steve and himself. However, the doctor  finds Steve to be a deeply troubled young man, so severely abused as a child that he's blocked just about every memory of his early life. Al begs the doctor to grant a positive evaluation, promising her that Steve will undergo therapy before beginning his professional career. She gives her reluctant consent. When the Yankees reach the World Series. Steve is contractually obligated to pitch in Game 1, despite not being mentally prepared to do so. By the night of the big game, Steve ends up atop Yankee Stadium, refusing to come down to pitch. Al pleads with him to play. However, his conscience gets the better of him and Al offers the kid a chance to walk away from it all, no strings attached. \"Maybe we'll become closer since nobody on the planet's gonna want to talk to either of us\", says Al. The scout's loyalty convinces Steve to face reality . Steve is then brought down to the field in a helicopter - an idea that is actually Al's, but which Yankee owner, George Steinbrenner  takes credit for himself. Not only does Steve return to the field, he pitches a perfect game, striking out all 27 St. Louis Cardinals batters on 81 consecutive strikes . Facing Ozzie Smith  with two outs in the ninth inning, Steve's final pitch is so fast that it knocks down his catcher and the home plate umpire. Steve also hits two solo home runs  to account for the only scoring in a 2-0 Yankees victory . Though the Yankees won the Series opener, it is never made clear who won the Series overall.\n",
            "Recommended film has ID 3341\n",
            "Its categories are ['\"Musical\",  \"Drama\",  \"Political drama\",  \"World cinema\"']\n",
            "Its summary is: Starting out in the 1940s, the story finds the elder Sorn bed-ridden. To an old friend, he recalls his childhood growing up in 1880s Siam, during the reign of King Chulalongkorn and the action flashes back to that time. Sorn's brother was a gifted classical musician, so gifted in fact that it caused a rivalry with other musicians that ended in Sorn's brother's death. Because of that, Sorn's father bars the boy from taking up the ranad-ek . However, Sorn, who has shown a talent for the instrument since an early age, defies his father and sneaks off to practice playing in an abandoned temple in the jungle. Eventually, he becomes so skilled at the instrument that his father lets him play after he speaks to a monk who advises him that he should not deny him the right to play ranad-ek. Sorn excels in his studies to the point where he is noticed by other bands. They ask for his presence to complete. He becomes arrogant and misses practice telling his father that his faith isn't misplaced. His father teaches his place by putting him on the Kong-wong. At the competition, the competitor scares his uncle  and becomes clear that the competitor has superior skill. As their playing, the judge realises that Sorn isn't playing on the ranad-ek and calls the teacher out on the fact that if they have a good player, might as well bring out the good material because then you can lose with dignity. The band starts over and plays the same song, but it is obvious that Sorn is skilled. He wins every competition as a boy. So One day, in a local village, Sorn and his ensemble are set up to perform in a courtyard. Across the courtyard is another ensemble, led by a fierce-looking bearded ranad-ek player dressed in black. As the rival player starts to perform, a storm whips up adding to the ominous mood of the setting. Sorn is disturbed by his fiery ability to play and wants to learn like him. But Sorn's talent does not go unnoticed and he is soon chosen to play for a local nobleman and is sent to the palace for more formal music training. There he meets an older man that he thinks is a palace caretaker, or some type of lowly person that does not know about music. However, later, when Sorn is to meet his new teacher, Master Tian, it is revealed to be the old man he met earlier. Tian turns out to be a strict teacher and instructs Sorn on all the instruments of the Thai classical music ensemble. At one point, Sorn is punished for being too flashy a player and is made to relinquish the ranad-ek to an inferior player, much to the dismay of other members in his ensemble, as well as a high palace official watching the performance. So when it comes time for the kingdom's musical competition, it is Sorn who is again the lead player. However, Sorn must overcome his fear at the competition, because he must again face the fierce, bearded ranad-ek performer. The story flashes back forward to the 1940s again, showing Sorn as a respected teacher. One day Sorn's son has a piano moved into his father's studio. The expectation is that his father will be furious at having a newfangled Western instrument brought into his house. But instead of being mad, he instructs his son to play a tune on the piano. The elder Sorn then takes up his ranad-ek mallets and improvises with his son, blending Thai and Western music. This is during the rule of the dictator, Field Marshal Plaek Pibulsonggram, whose government called for the accelerated modernisation of Thailand. As a result, performances of traditional Thai music, dance and theatre were frowned upon. In Sorn's neighbourhood, the orders are enforced by Lieutenant-Colonel Veera. Sorn teaches the Lieutenant a nation can only withstand outside forces if their nation is strong. For that to happen, they must believe in themselves. No matter what, they must protect their heritage and honor it regardless of what they are to become. Sorn plays not only to defy the rules, but to teach a lesson about culture and heritage.\n",
            "Recommended film has ID 3475\n",
            "Its categories are ['\"Sports\",  \"Drama\",  \"Buddy film\",  \"Comedy\"']\n",
            "Its summary is: Billy Hoyle  is a former college basketball player who makes a living hustling streetballers who assume he cannot play well because he is white. Hoyle never downplays his skill to increase the stakes; it is the black basketball players' own assumptions that are at the root of the hustle. Such a talented but arrogant player is Sidney Deane , a star on the Venice Beach, California outdoor courts. He is humiliated twice by Billy in front of his friends, losing a wager. But he also recognizes a good thing when he sees one and immediately begins to think of a number of ways Billy can be useful to him. Billy and his girlfriend Gloria Clemente  are on the run from out-of-state mobsters because of a gambling debt. A voracious reader, making note of obscure facts, Gloria's goal in life is to be a contestant on the television show Jeopardy! and make a fortune. Sidney's mission in life is to buy a house for his family outside the rough Baldwin Village, Crenshaw District neighborhood of Los Angeles. He talks Billy into a partnership and they hustle other players for money. But when they unexpectedly lose a game, it turns out that Sidney has double-crossed Billy by deliberately playing badly alongside him, making Billy lose $1,700 to a group of Sidney's friends. Gloria is incensed at Billy's blowing his money again and is also suspicious of how it happened. On the way to Sidney's apartment, she tells Billy: \"Sometimes when you win, you really lose. And sometimes when you lose, you really win. And sometimes when you win or lose, you actually tie and sometimes when you tie, you actually win or lose. Winning or losing is all one organic globule, from which one extracts what one needs.\" Once they get to Sidney's and appeal to his wife  for fairness, Gloria agrees to share some of the money provided Sidney and Billy are willing to team up again for a major 2-on-2 outdoor tournament. While they bicker incessantly, Sidney and Billy do win the grand prize of $5,000, largely due to Billy's ability to disrupt his opponents' concentration. Billy's most notable claim is that he is \"in the zone,\" a state of mind in which nothing can get in his way. Sidney is pleased with the outcome, yet he cannot help mocking Billy about his inability to slam dunk. \"White men can't jump,\" he notes. Billy, however, claims that dunking the basketball is unnecessary grandstanding, while expressing a belief that black guys like Sidney would \"rather look good and lose than look bad and win.\" Billy insists that he can indeed dunk but Sidney clearly disagrees. Infuriated, Billy claims he is willing to bet his share of the $5,000 on his ability to dunk. Sidney accepts and gives him three chances. Billy fails, losing his share. When he tells Gloria, she leaves him. One of Sidney's friends works as a security guard at the TV studio that produces Jeopardy!. He agrees to get her on the show, if Billy can sink a hook shot from beyond the half-court line, which he does. To begin, Gloria stumbles over sports questions , but makes a comeback with a pet topic, \"Foods That Start With The Letter 'Q' \". She wins $14,100 on her first episode. Gloria and Billy get back together. Billy sings Gloria a song he has composed to win her back. Everything in his world is all right again, but now it is Sidney who suffers misfortune and needs a favor. He and his family are burglarized and become more desperate for money. Billy is supposed to get a steady job and settle down, but Sidney needs him to play basketball for money again and use his share of Gloria's take. Gloria warns that if Billy gambles with her money \"we are through.\" Billy feels he must honor the obligation he owes Sidney for getting Gloria on Jeopardy! in the first place. They play a final game against two hoops legends of the L.A. scene, \"The King\" and \"Duck.\" In a very tight game, Sidney and Billy prevail, the winning points coming when Sidney lobs an \"alley-oop\" pass to Billy, who dunks it. Returning home happy, Billy discovers Gloria has kept her word and left him for good. He is crushed. Then the mobsters who are after Billy track him down and he pays off his debts. Billy once again asks Sidney to set him up with a real job. Billy says that Gloria has left him many times, but that \"this is it\", and Sidney remarks \"Maybe you two were better off without each other.\" As the closing credits are about to roll, Billy launches into yet another basketball argument with Sidney and they are right back where they began—but, this time, as friends.\n"
          ]
        }
      ],
      "source": [
        "id = 519\n",
        "films = content_recommender(id, 15, corpus_tf_idf_2)\n",
        "print(\"Film to find recommendations has ID {}\".format(id))\n",
        "print(\"Its categories are {}\".format(categories[id]))\n",
        "print(\"Its summary is: {}\".format(summaries[id][0]))\n",
        "for film in films:\n",
        "  print(\"Recommended film has ID {}\".format(film))\n",
        "  print(\"Its categories are {}\".format(categories[film]))\n",
        "  print(\"Its summary is: {}\".format(summaries[film][0]))"
      ]
    },
    {
      "cell_type": "code",
      "execution_count": null,
      "metadata": {
        "colab": {
          "base_uri": "https://localhost:8080/"
        },
        "id": "yhATKkDxw0lN",
        "outputId": "5328bca0-88ff-40cd-f0d7-018f931eaa3f"
      },
      "outputs": [
        {
          "name": "stderr",
          "output_type": "stream",
          "text": [
            "/usr/local/lib/python3.7/dist-packages/scipy/spatial/distance.py:720: RuntimeWarning: invalid value encountered in double_scalars\n",
            "  dist = 1.0 - uv / np.sqrt(uu * vv)\n"
          ]
        },
        {
          "name": "stdout",
          "output_type": "stream",
          "text": [
            "Film to find recommendations has ID 4120\n",
            "Its categories are ['\"Thriller\",  \"Crime Fiction\",  \"Science Fiction\",  \"World cinema\",  \"Fantasy\",  \"Comedy\"']\n",
            "Its summary is: Coco  and his 7-month pregnant wife Pipi , have recently moved into a Buenos Aires apartment and fail to notice the increasing chaos surrounding them. Shortly, authorities quarantine the building and Coco allies himself with his well-prepared neighbour, Horacio, to defend his refrigerator and keep Pipi safe while the world outside the apartment is falling apart.\n",
            "Recommended film has ID 3003\n",
            "Its categories are ['\"Crime Fiction\",  \"Thriller\",  \"Romance Film\",  \"Drama\"']\n",
            "Its summary is: The setting is Argentina, 1965. El Nene , a petty thief, and Angel ([[Eduardo Noriega , a drifter, meet in the bathroom of a Buenos Aires subway station, and from that moment they are inseparable. They become known as \"the twins\", but their relationship is in fact that of lovers and, soon, as partners in crime. At a point when their relationship is already turning difficult, the plot sets in. Their love and loyalty to each other is tested when \"the twins\" join a plan to hold up an armored truck together with a group of seasoned gangsters: their swaggering straight cohort Cuervo , a sedative addict who's been carrying on an affair with the luscious Vivi ; a 16-year-old nymphet; the trio's boss Fontana ; and the elderly lawyer Nando , who is past the days of any professional illusions and helps make connections to find a good team for the crime. Angel is wounded by police gunfire during the robbery, provoking Nene to kill all of the guards and police in a fit of rage. Two police officers are among the victims, and so the police of Buenos Aires start a major search for the culprits. They soon find a lead to Vivi's apartment, where the gang had been hiding out, but by this time, all except Vivi have escaped to neighboring Uruguay. The police force Vivi to give away their plans, and the search is broadened to Uruguay. Meanwhile, the gang needs to wait for new passports  for their escape from Uruguay. They take refuge in an empty apartment in Montevideo, but the organisation of the documents takes longer than originally planned. The waiting is especially hard on Nene: Angel—who is described as constantly \"hearing voices\" and seems to suffer a slight form of schizophrenia—has been rejecting intimate contact with Nene since at least the beginning of the escape, for reasons indirectly connected with his condition. Nene eventually decides to break curfew and \"get some air\", and he, Angel, and Cuervo go and enjoy themselves at a fair. That evening outside of the apartment is not their last though, partly because Angel continues to reject any contact and does not even speak to Nene anymore. On one evening, Nene ends up verbally and sexually abusing another gay person, but finally he meets the prostitute Giselle  and starts a relationship with her, even mentioning a solo escape with her. When Nando is caught by the police, the group is forced to abandon their refuge. Fontana goes off on his own, but Nene brings Angel and Cuervo to hide out in Giselle's apartment before they leave the city at night. Angel had sensed that Nene had been cheating on him, and he soon understands where Giselle fits in. Before it can come to a fight, however, he also hears from Giselle that Nene still cares for him and suffered from his rejection. Giselle tells Nene that she has a cousin who lives near the border and she can arrange passage, but not for three men the police are after. She says that a couple, a man and a woman, will be able to get across easily. When she forces him to choose between her and Angel, he chooses Angel. Nene tells Giselle that he will find her and kill her if she turns them in. Despite his threats, Giselle goes straight to the police to turn in the gang. Before the group takes to their heels, police have already surrounded the building. At first, the trio believes they will be able to escape, thinking that the police will not endanger the haul  or the lives of a large number of policemen. In high spirits, the three of them set to defend the apartment and their freedom, while Nene and Angel rekindle their relationship and spend some short and erotic moments of mutual happiness. After the first wave of attacks, a contented Angel even says the \"voices\" he always heard have fallen silent. The group soon finds out, however, that there is no way out. Cuervo dies in an attempt to sally, and Nene and Angel remain waiting for the next wave of police attacks on the apartment. Seeing that they can save neither their own lives nor the money, they burn the entire haul in a final outburst of joie de vivre. Finally, Nene catches a bullet and dies in Angel's arms. Angel still holds Nene and sends a volley of bullets in the direction of the approaching police every now and again, when the lights fade out and the audience is left with the sound of the final fusillade of the police machine guns. It is implied that Angel committed suicide by cop.\n",
            "Recommended film has ID 3522\n",
            "Its categories are ['\"B-movie\",  \"Horror\",  \"Slasher\",  \"Teen\"']\n",
            "Its summary is: While living at her parents' mountain home, Emily  is visited by her friend Angelica , who invites her to a rave party in the woods. Her parents, Leo  and Justine , let her attend, under the condition that she returns at midnight and calls if she's going to be late. Arriving early at the party, Angelica immediately attempts to acquire ecstasy and suspects an attendee named Swan  is carrying the drug. When asked about it, Swan informs the two girls that he doesn't have any ecstasy on him, but he has it in a nearby cabin, where his friends live. He requests that Emily and Angelica come to the cabin with him and meet his friends; the two comply. Unbeknownst to the girls, Swan's friends are actually his father Chaos ([[Kevin Gage , a notorious and wanted criminal and his father's gang, which consists of Chaos' girlfriend Daisy  and felon Frankie . Chaos sent his son to the party to lure unsuspecting females to him. Upon their arrival at the cabin, Emily and Angelica are quickly captured by the gang and taken to an abandoned part in the woods. The girls manage to escape their captors and split up in an attempt to make it harder for Chaos and his gang to find them. Angelica is ultimately caught by Daisy and brought before Chaos, who tortures and stabs her death, and then proceeds to violate her corpse. Chaos and his group continue their pursuit of Emily, even as the sun sets. They briefly re-encounter her, but Emily manages to steal Daisy's knife in a struggle and stabs Swan in the genitals. Knowing his wound is fatal, Chaos suffocates his son and promises to murder Emily. Meanwhile, Justine becomes nervous about Emily's whereabouts when she doesn't answer cell phone and convinces Leo to call the police. However, Justine suspects MacDunner , the investigating officer, won't attempt to find her, so she and Leo go into the woods themselves. While searching for Emily, the couple find Angelica's corpse. Chaos and Frankie finally recapture Emily and bound her with rope. In retaliation for his son's death, Chaos brutally violates Emily with his knife. With both girls dead, the gang prepares to leave the area, when Chaos' van fails to start up. Knowing that they'll be caught if they stay in the woods, Chaos and his gang leave the vehicle and look for a car to steal. Their van is then found by MacDunner and his partner Wilson , who discover blood stained clothes. The gang decides to go to a nearby house, with the intent of stealing the owner's car, unaware of the fact that they arrived at Emily's home. Leo lets Chaos and his group stay at the home, but notices that Daisy is wearing Emily's belt. Suspecting the group of being involved with Emily's disappearance, Leo calls the police, while Chaos and Frankie prepare to hot-wire his car and kill the couple. Chaos is confronted by a shotgun wielding Leo, determined to find out what happened to his daughter. When Frankie arrives with a captured Justine, Chaos disarms Leo and takes the shotgun. Instead of shooting Leo and Justine, however, Chaos shoots Daisy when she tries to convince him to leave the house. In the ensuing confusion, the couple escapes. Leo emerges with a chainsaw and slashes Frankie across the stomach, and proceeds to attack Chaos. In the ensuing struggle, Leo manages to get the upper hand and prepares to kill Chaos. Before he can, MacDunner arrives and kills Leo when he refuses to drop his weapon. Justine retaliates by shooting MacDunner in the back and Wilson is killed by Chaos. Chaos then shoots Justine in the head and his laughter is heard.\n",
            "Recommended film has ID 2856\n",
            "Its categories are ['\"Drama\",  \"Comedy\"']\n",
            "Its summary is: Set on New Years Day, Jos'  family and friends gather together at a funeral parlour where chaos ensues.\n",
            "Recommended film has ID 2522\n",
            "Its categories are ['\"Horror\",  \"Psychological thriller\"']\n",
            "Its summary is: Se-jin, a lonely department store employee, moves into a high-rise apartment building. One day she notices that the lights in the windows of the building opposite all start to mysteriously flicker at exactly 9:56pm. She begins to suspect that these occurrences are somehow linked to a series of suspicious deaths in the neighborhood.\n",
            "Recommended film has ID 3326\n",
            "Its categories are ['\"Crime Fiction\",  \"Thriller\",  \"Crime Drama\",  \"Drama\",  \"Crime Thriller\",  \"Romantic drama\",  \"Romance Film\"']\n",
            "Its summary is: Anderson  is a successful American hitman whose employer sends him to do a job in Argentina. His contacts inform him that his target is a former general. Things are not as easy as they seem. A paranoid Anderson simultaneously rents a room in two different hotels. From the safety but close proximity of one hotel room, he witnesses police converge on the other hotel. Anderson will fulfill his obligation to do the job despite the obvious reality that there is a leak. We witness the conspirator Miguel  being harshly interrogated by Buenos Aires police. Miguel can eventually breathe a sigh of relief when his conspirator within the Argentinian federal authorities shows up. Anderson  eventually makes it out of Argentina safely. The character of Jo-Jo is a small supporting role played by Frank Cassavetes, a son of the late director John Cassavetes and actress Gena Rowlands.\n",
            "Recommended film has ID 2545\n",
            "Its categories are ['\"Drama\",  \"War film\"']\n",
            "Its summary is: A group of young pacifists from Britanny is taken to a camp destined to deserters. They end up by accepting the increasing violence with which they are trained, and become true killing machines. In April, 1961, they are moved to the Aurès mountains in Algeria where they face off against troops from the National Liberation Army. During the battle, the battalion captures a rebel that they must execute the next morning. Will discipline override their deepest convictions?\n",
            "Recommended film has ID 3642\n",
            "Its categories are ['\"Drama\"']\n",
            "Its summary is: Packing the Monkeys, Again! is story about love couple, which live in small rented apartment. Nebojša is a journalist who works to much and he asks Jelena to do everything what all traditional Montenegrian women does. Jelana studies literature and she is suspicious for Nebojša having an affair. Of course, owners of their apartment are coming in their lives and bringing their problems to house of Nebojša and Jelena - Nata, Dragica's and Dragoljub's daughter is a problematic child. But, most interesting thing is that, person who is re-telling this story, is a man with amnesia who doesn't know in which bathroom he fell on his head and writing is a part of his therapy.\n",
            "Recommended film has ID 2796\n",
            "Its categories are ['\"Crime Fiction\",  \"Family Drama\",  \"Drama\",  \"Indie\",  \"World cinema\"']\n",
            "Its summary is: Oso  is sent to prison for a robbery and a murder. After seven years, he is released from prison, and in a flashback, the robbery is seen that led to his arrest. His daughter, Alicia , was a year old on the day of the robbery. As a consequence, Alicia never got a chance to get to know her father. Oso returns to his hometown, a depressed suburb of Buenos Aires, fully aware that his wife, Natalia , is living with another man, Sergio . Oso is determined to establish a relationship with Alicia, and to collect money owed him by a sleazy crime boss known as the Turk . In the meantime, the Turk wants Oso to be the getaway driver on one last big job. For her part, Alicia seems fascinated with her father and makes him promise never to go away again.\n",
            "Recommended film has ID 2481\n",
            "Its categories are ['\"Parody\",  \"Science Fiction\",  \"Indie\",  \"Satire\",  \"Comedy\",  \"Dystopia\",  \"Slapstick\"']\n",
            "Its summary is: Miles Monroe , a jazz musician and owner of the 'Happy Carrot' Health-Food store in 1973, is made subject to Cryopreservation without his consent, and not revived for 200 years. The scientists who revive him are members of a rebellion: 22nd-century America seems to be a police state ruled by a dictator, about to implement a secret plan known as the \"Aires Project\". The rebels hope to use Miles as a spy to infiltrate the Aires Project, because he is the only member of this society without a known biometric identity. The authorities discover the scientists' project, and arrest them; but Miles escapes by disguising himself as a robot, and goes to work as a butler in the house of socialite Luna Schlosser . When Luna decides to have his head replaced with something more \"aesthetically pleasing,\" Miles reveals his true identity to her; whereupon Luna threatens to give Miles to the authorities. In response, he kidnaps her and goes on the run, searching for the Aires Project. Miles and Luna fall in love; but Miles is captured and brainwashed, by which he becomes a complacent member of futuristic society, while Luna joins the rebellion. The rebels kidnap Miles and force reverse-brainwashing, whereupon he remembers his past and joins their efforts. Miles becomes jealous when he catches Luna kissing the rebel leader, Erno Windt ([[John Beck , and she tells him that she believes in free love. Miles and Luna successfully infiltrate the Aires Project, wherein they learn that the national Leader was killed by a rebel bomb ten months previously, and all that survives is his nose. The nose has been kept alive, and the members of the Aires Project, mistaking Miles and Luna for doctors, ask them to clone the leader from this single remaining part; but Miles steals the nose and \"assassinates\" it by dropping it in the path of a steamroller. After escaping, Miles and Luna debate their future together. He tells her that Erno will inevitably become as corrupt as the Leader. Miles and Luna confess their love for one another, but she claims that science has proven men and women cannot have meaningful relationships due to chemical incompatibilities. Miles dismisses this, saying that he does not believe in science, and Luna points out that he does not believe in God or political systems either. Luna asks Miles if there is anything he does believe in, and he responds with the famous line, \"Sex and death. Two things that come once in a lifetime. But at least after death you're not nauseous.\" The two embrace.\n",
            "Recommended film has ID 2731\n",
            "Its categories are ['\"Thriller\",  \"Mystery\",  \"Drama\"']\n",
            "Its summary is: Preeti Sengupta  is an airhostess living with her boyfriend Karan Malhotra . They share a nice 2BHK apartment in the northern suburbs of Mumbai and are befriended by their elderly neighbor Madhusudan Tanha , a struggling poet and lyricist. Tanha is a loner living with his only companion, a Persian cat whom he lovingly calls Shehzadi. Preeti is possessive and has issues with trust. When she mistakenly suspects her boyfriend to be unfaithful, she throws him out of the house, but soon realizes she can't afford the apartment rent on her own. On the advice of a fellow airhostess, she advertises for a tenant to share her apartment. Enter Neha Bhardwaj , a modest small-town girl asking for accommodation. Very impressed by her simplicity and respectfulness, Preeti believes she has found a perfect roommate. The two girls soon become close - their camaraderie leads them to become companions. Then things begin to go disastrously wrong - slowly and steadily. Preeti's seemingly normal life is thrown off gear - with a series of incidents that take her by surprise. Is it just coincidence or is someone deliberately causing all the trouble? Is Neha really as simple as she seems? In the grip of mystery, unforeseen and gruesome events and murder as its heinous best, the truth seems shocking as it unfolds. As Neha and Preeti are torn apart by suspicion, deceit and betrayal, the question is - what is really going on?\n",
            "Recommended film has ID 2864\n",
            "Its categories are ['\"Thriller\",  \"Horror\",  \"Psychological thriller\",  \"Supernatural\"']\n",
            "Its summary is: The film takes place in a small Pennsylvania town in 1973, and tells the story of a young boy  and his family  as they are terrorized by an unseen presence in the surrounding fields.Cloris Leachman and [[Tara Reid] star in 'The Fields'] As a young boy, Steven finds himself dealing with a very difficult home life, as his parents are constantly at odds. As a result of the deteriorating marriage, Steven spends a lot of time with his grandparents on their farm, where, soon after his arrival, an unseen presence begins terrorizing them while using the massive cornfields surrounding the house to remain hidden.\n",
            "Recommended film has ID 2808\n",
            "Its categories are ['\"Crime Fiction\",  \"Mystery\"']\n",
            "Its summary is: --&#62;  *Peter Haber as Martin Beck *Mikael Persbrandt as Gunvald Larsson *Måns Nathanaelson as Oskar Bergman *Stina Rautelin as Lena Klingström *Ing-Marie Carlsson as Bodil Lettermark *Marie Göranzon as Margareta Oberg *Rebecka Hemse as Inger  *Neil Bourguiba as Wilhelm  *Ingvar Hirdwall as Martin Beck&#39;s neighbour *Peter Hüttner as Oljelund *Thomas Oredsson as Sten Oberg\n",
            "Recommended film has ID 3562\n",
            "Its categories are ['\"Political satire\",  \"Satire\",  \"Comedy-drama\",  \"Black-and-white\"']\n",
            "Its summary is: The film is set in Moscow not long after the October Revolution where a complaining stray dog looks for food and shelter. A well-off well-known surgeon Filip Filippovich Preobrazhensky happens to need a dog and lures the animal to his big home annex practice with a piece of sausage. The dog is named Sharik and well taken care of by the doctor's maids, but still wonders why he's there. He finds out too late he's needed as a test animal: the doctor implants a pituitary gland and testicles of a recently deceased alcoholic and petty criminal Klim Chugunkin into Sharik. Sharik proceeds to become more and more human during the next days. After his transition to human is complete, it turns out that he inherited all the negative traits of the donor - bad manners, aggressiveness, use of profanity, heavy drinking - but still hates cats. He picks for himself an absurd name Poligraf Poligrafovich Sharikov, starts working at the \"Moscow Cleansing Department responsible for eliminating vagrant quadrupeds \" and associating with revolutionaries, who plot to drive Preobrazhensky out of his big apartment. Eventually he turns the life in the professor's house into a nightmare by stealing money, breaking his furniture, a water ballet during a cat chase and blackmailing into marriage a girl he met at the cinema. The professor with his assistant are then urged to reverse the procedure. Sharikov turns back into a dog. As Sharik he does remember little about what has happened to him but isn't much concerned about that. To his content he is left to life in the professor's apartment.\n",
            "Recommended film has ID 3110\n",
            "Its categories are ['\"Romance Film\",  \"Comedy film\"']\n",
            "Its summary is: The film's history passes in 1999. The tomboyish, outgoing Julieta is the daughter of a member of the Palmeiras soccer club board. She is constantly frustrated by what she sees as institutional bias against women in soccer. One day while watching her beloved Palmeiras, she is struck by a handsome man, Romeu, that she sees rooting for the Palmeiras' chief rivals, the Corinthians. After meeting the same man again in the middle of eye exam, Julieta and Romeu quickly become a couple. However, in order to avoid incurring the wrath of her parents, Romeu is forced to pretend to be an adoring Palmeiras fan, an increasingly difficult task for the die-hard Corinthiano. Finally, Romeu is forced to admit his true allegiance to Julieta's father on a turbulent plane flight following the Palmeiras' disastrous defeat in an international match in Tokyo . Romeu and Julieta are shunned by both members of their family, including Romeu's spry grandmother. Eventually the two families face off in a heated confrontation outside Romeu's apartment, an argument that is escalated particularly after it is revealed that Julieta is pregnant. Eventually, the two feuding families are able to rally around their love for both Romeu and Julieta, even if they are unable to look past their different sport affiliations.\n",
            "Recommended film has ID 3025\n",
            "Its categories are ['\"Romantic comedy\",  \"Backstage Musical\",  \"Black-and-white\",  \"Musical\",  \"Drama\",  \"Comedy\",  \"Romantic drama\",  \"Romance Film\"']\n",
            "Its summary is:  Judy Peabody saves an old man from drowning. He turns out to be Jerry Bates, \"J.B.\" to his lawyer Curtis, \"Pop\" to Judy, who mistakenly believes the wealthy old-timer to be poor. Pop instructs his lawyer to reward Judy with everything her heart desires, anonymously. A hat check girl at New York's popular Stork Club nightclub, Judy's dream is for her bandleader boyfriend Danny to return home from the Marines so she can sing with his band. A letter from Curtis informs the young lady that she now has a brand new apartment, free of charge, and a line of credit at a fashionable department store, no strings attached. She promptly buys dresses and furs, without knowing the identity of her benefactor. Pop comes to the Stork Club to keep an eye on her. She lands him a job as a busboy, but that doesn't work out, so she invites Pop to share her apartment. Danny comes home, excited to see her until he sees the apartment, the clothes and the old man. Believing her to be a \"kept\" woman, he falls out of love with Judy. Billingsley is invited by Judy to hear the band. Impressed, he gives them a job at the club. Judy finally discovers that Pop is responsible for her new riches and is able to win back Danny's love.\n"
          ]
        }
      ],
      "source": [
        "id = 4120\n",
        "films = content_recommender(id, 15, corpus_tf_idf_2)\n",
        "print(\"Film to find recommendations has ID {}\".format(id))\n",
        "print(\"Its categories are {}\".format(categories[id]))\n",
        "print(\"Its summary is: {}\".format(summaries[id][0]))\n",
        "for film in films:\n",
        "  print(\"Recommended film has ID {}\".format(film))\n",
        "  print(\"Its categories are {}\".format(categories[film]))\n",
        "  print(\"Its summary is: {}\".format(summaries[film][0]))"
      ]
    },
    {
      "cell_type": "markdown",
      "metadata": {
        "id": "NmD_yk8cxSnv"
      },
      "source": [
        "Με τα νέα χαρακτηριστικά η επίδοση του recommender φαίνεται να βελτιώθηκε. Για να έχουμε μια ολοκληρωμένη εικόνα θα επαναλάβουμε τη διαδικασία και για άλλες τυχαίες ταινίες ώστε να δούμε αν η καλή επίδοση γενικεύεται."
      ]
    },
    {
      "cell_type": "code",
      "execution_count": null,
      "metadata": {
        "colab": {
          "base_uri": "https://localhost:8080/"
        },
        "id": "Lgtwkrtkxldl",
        "outputId": "7cea2b75-40b1-47fd-983f-8dafeda95c8b"
      },
      "outputs": [
        {
          "name": "stderr",
          "output_type": "stream",
          "text": [
            "/usr/local/lib/python3.7/dist-packages/scipy/spatial/distance.py:720: RuntimeWarning: invalid value encountered in double_scalars\n",
            "  dist = 1.0 - uv / np.sqrt(uu * vv)\n"
          ]
        },
        {
          "name": "stdout",
          "output_type": "stream",
          "text": [
            "Film to find recommendations has ID 3328\n",
            "Its categories are ['\"Period piece\",  \"Biography\",  \"Drama\"']\n",
            "Its summary is: John suffered from epileptic seizures and an autism-like developmental disorder, and the Royal Family tried to shelter him from public view as much as possible; the script shied away from presenting the Royal Family as unsympathetic to the Prince, and instead showed how much this cost them emotionally . Poliakoff explores the story of John, his relationship with his family, John's brother, Prince George, the political events going on at the time  and the love and devotion shown to him by his nanny, Charlotte Bill , played by Gina McKee.\n",
            "Recommended film has ID 2781\n",
            "Its categories are ['\"Silent film\",  \"Marriage Drama\",  \"Drama\"']\n",
            "Its summary is: John Sterling  takes his young wife Lillie  to Java where he plans to invest in tea plantations. Beyond the difference in years between the two, he is neglectful, which creates reactions of frustration from his romantic young wife. Aboard a ship, Lillie witnesses a scene of cruelty – a passenger hits one of his servants. The violent man is immediately taken by the beauty of this mysterious woman and will endeavor all to make her acquaintance. Therefore, he contacts the husband, whom he attracts with his deep knowledge of the javanese tea market. John presents his new friend, the young and handsome Prince de Gace  to his wife, who immediately recognizes the violent man. Multiple situations offer the Prince a chance to approach Lillie, who spurns him. He then uses force to kiss her - Lillie tries to talk to her husband, in vain. In Java, the couple are hosted by the Prince, at this vast estate. Lillie avoids being alone with the Prince – she even wishes to join her husband in his professional investigations, which he refuses. Finally, Lillie and the Prince are alone for a few hours, and his efforts intensify. He forces himself upon her again, and she finally yields and returns his kiss. John returns to surprise the kiss in Chinese shadows, raising the question of whether the woman embracing De Gace is his wife. His suspicion confirmed by a misplaced earring, the men go on a tiger hunt. The Prince is hurt. John decides to return to the US alone, but his wife reaffirms her love for him.\n",
            "Recommended film has ID 2464\n",
            "Its categories are ['\"Family Film\",  \"Fantasy Comedy\",  \"Comedy\"']\n",
            "Its summary is: The film opens with John Dolittle as a child talking to his dog . He asks his dog questions, one being \"Why do dogs sniff each other's butts\"? Her response is that it's their way of shaking hands. His concerned father  hears the question and says that the dog doesn't have any idea what he said. He was wrong. He finds this out when John meets his new principal and sniffs his butt. The dog obviously knows something is going to happen. When his father hires a minister to remove the devil from John Dolittle, the dog saves John by biting the minister. The dog is then relinquished for adoption. John is very upset and stops talking to animals as his father teaches him to hate them. Thirty years later, we see John Dolittle  shooing a puppy out of his apartment in San Francisco, California. He is a doctor, married with two children, and an animal hater. His 13-year-old daughter Charisse  wants to be named Paprika. His youngest daughter Maya  is a nerdy girl who does experiments, such as raising what she believes to be a swan egg so it will bond with her. She also has a Guinea Pig named Rodney . John's wife Lisa  wants to spend time with him. Meanwhile at work, a large medical company owner named Calloway  wants to buy his practice. This is welcomed by the employees as they think it will bring financial gain. John takes his family out to the country for a vacation. After taking the family to the country, he has to stay late at work to give Mrs. Parkus , a woman who is addicted to shellfish in spite of the fact that she is highly allergic to it, medication. Driving home, he nearly hits a dog and bumps his head on the windshield. Alive and well, the mutt walks away and shouts \"Watch where you're going next time, you bone-head!\". This is the first time that John has understood an animal since his childhood. The next day, John is driving Rodney to the country and Rodney starts talking to him. Up in the country, an owl  asks him to remove a twig in her wing. He obliges and she tells all the animals about his kind act. Soon many animals start asking favors of John. Scared, he goes to see Dr. Sam Litvak  for a CAT scan, but nothing is wrong with him. The next day he finds the dog he nearly hit being taken to a kennel. John rescues the dog, and takes him to the vet. Slowly becoming friends, John and the later decide his name should be 'Lucky'. John makes a deal with Maya. If she stays at camp, John will give her Lucky. That night a number of animals come to see the Doctor for treatment, including a drunken circus monkey, two dysfunctional pigeons, a goat with a rash, an OCD dog , and a pair of cloned sheep with rectal trauma. In the process, John relearns to appreciate his gift and confides in Lucky that he feels more energized about his work than he has in years. After he fits a nearsighted police horse for special glasses, the drunken monkey tells the doctor about a sick circus tiger . They find the tiger, named Jake, on top of Coit Tower attempting to commit suicide. John and Lucky attempt to stop him, saying that everyone loves tigers  and that John can cure him. His work with animals distracts him from a meeting with Calloway and from spending time with his wife. Soon, Lisa discovers all the animals. She and Mark catch him giving CPR to a group of rats , which was a false alarm  while conversing with the other one. Thinking he is crazy, his friends and family send him to an asylum where he meets Blaine , an enemy of John from medical school. Meanwhile, the Tiger is getting sicker, so Lucky tries to break John out of the asylum. John is mad at all the animals for sending him to the asylum, but Lucky says that he is hiding from his true self. Declaring that he will not talk to animals anymore, John is released. Maya, at home because she did not fit in, tells her Grandpa that she believes her dad has the gift of gab. Overhearing this, he realizes his mistake and apologizes to Lucky. Later, during the party where Calloway will buy the company, John and Lucky go to the circus, pick up Jake, and take him to the clinic so they can cure him. Meanwhile, the police are after John, but Lucky gathers all the animals of San Francisco to help guard the building in which John is operating on the tiger. But because they need to go through the party, and because Rodney is there, Jake comes out from under the hospital bed and scares everyone. Soon everyone is watching the operation. Lisa is now upset that her husband thinks he can talk to animals. John's father finally reveals that he, in fact, can. With that said, she comes in the operating room to comfort Jake. John finds out that Jake is suffering from a blood clot stuck in his head, and with that, saves his life. Calloway is watching this and he is very impressed. He wants to buy the company, but John declines his offer. In the end, John is now a both human doctor and a veterinarian. Maya's egg hatches, revealing it to be an alligator. John and Lucky are seen walking to the circus to visit Jake and talking about their future as friends while the song \"Talk with the Animals\" plays in the background.\n",
            "Recommended film has ID 3166\n",
            "Its categories are ['\"Drama\"']\n",
            "Its summary is: Tarika, a supposed expert in applied probability, gets a job with a cutting-edge transportation company, Dymotran , and develops a romantic interest in his attractive new boss and EVP, Charlotte. Having presented himself to his new employers as a square-toed professional, Tarika is embarrassed when Charlotte discovers that his closest friends are playful misfits with little to no professional aspirations. In spite of apparent compatibility issues, Tarika and Charlotte begin to develop a relationship. Tarika reconsiders his choice of friends after his on-again off-again love interest, Tricia, makes out with Kevin, his close friend and proverbial ringmaster, during a surreal birthday party in a kitschy Mexican restaurant . Tarika struggles to decide which life suits him best and as is his tendency, develops somewhat of an over-attachment to Charlotte. After an untimely marriage proposal to Charlotte, who is focused on her career and not ready to settle down, Tarika is dumped. In his bitterness and hurt, Tarika resigns from work on Dymotran's sustaining project, the development of a futuristic, modular transportation system. This places Charlotte and her company in jeopardy and Charlotte confronts Tarika in the parking lot as he leaves the office for the last time. This encounter erupts into a full-blown screaming match and eventually ends with Charlotte admitting that she loves Tarika. After a final plea from Charlotte for Tarika to reconsider his decision, he agrees to give two more weeks to the job and in return, Charlotte agrees to be open-minded about a future with Tarika. Taking breaks from his final work on the project, Tarika visits many buildings and public spaces of 60's and 70's Modernist origin, the architecture and design of which serves as inspiration for much of his work. At every turn, another one of these spaces is boarded up and bulldozed. This builds upon the predominant theme of Sleeping Pills, whereby the entities and images forming ones identity are crushed without remorse in favor of new and improved versions. These images serve as a metaphor for the ephemeral home, relationship, and sense of self that can be seen as a consequence of a Postmodern society. Tarika is reunited with the old gang for a final roller skating session at the FunPlex, a large roller rink and game arcade scheduled for demolition the following week. Soon after, Tarika meets up with Tricia at the courtyard of their old high school , where Tricia reveals that she is leaving the area for good and asks Tarika to run away with her. The plot culminates with Tarika having to make a decision to either run away with the unpredictable and fun Tricia or stay and attempt to build a life with a more stable, yet seemingly incompatible Charlotte.\n",
            "Recommended film has ID 3078\n",
            "Its categories are ['\"Crime Fiction\",  \"Biographical film\",  \"Action\",  \"Drama\",  \"Historical drama\"']\n",
            "Its summary is: The film is based on the actual events of the pursuit of American bank robber John Dillinger during the 1930s.\n",
            "Recommended film has ID 3606\n",
            "Its categories are ['\"Action/Adventure\",  \"Thriller\",  \"Action\",  \"Suspense\"']\n",
            "Its summary is: John Gray  is an actor in a Far West time touristic attraction village, named Profit, near a small town. He lives an eventless life, with his on-and-off girlfriend Sharon  his friends and co-workers Tim (Tyler Labine and Pablo , and his mentor Gus . Until one night, when two bikers rob the town's bar and severely beat the barman down. After they left, John decides to call the police, against the advice of the thugs' leader, Bart . No one else present in the bar volunteers to help the police for fear of revenge. The next day at the village, John sees the two goons walking down the street and makes a citizen's arrest. They are then taken by the Sheriff who locks them in a cell. He allows Bart to make a phone call, allowing him to call upon the rest of the gang. The other bikers arrive to the town and kills the sheriff and his deputy, in order to free Bart from his cell. As the night comes, John comes back to his place after dropping Sharon at her house when the gang starts shooting him in his car. He escapes and goes to Gus' isolated trailer and asks for help. A shooting occurs between the two and the bikers. All but two of the thugs are shot : one of them escapes and warns the others, and Bart is captures and put in the trunk of John's pick-up truck. They then go to the police station only to find the two bodies. Understanding the situation they are in, they split. Gus goes to town to phone the police, only to find that all the lines are dead. Meanwhile, John takes Bart inside a mine, ties him up to a shaft and waits for the authorities. While trying to drive out of town to get access to a working telephone, Gus gets trapped by the gang. They take him to the police station and starts torturing him to know where John and Bart are. Silent at first, he starts to talk when the new leader, King  threaten to harm Sharon. Gus leads a group of four thugs on the way to the mine, when they are taken in an ambush by John. All of the goons die while Gus is shot in the leg. At the same time, the other inhabitants of Profit are rounded up in a large cell in the fake police station of the Far West village. John comes back to the Far West village to negotiate with King an exchange between Bart and Sharon. While the deal takes place, and John and Sharon escape in the pick-up truck, Gus kills the few bikers who kept an eye on the villagers and frees everybody. When he asks for volunteers to fight when the others come back, only Tim and Pablo reluctantly agree. The rest of the gang comes back and a shootout occurs, culminating with a duel between John and Bart, durng which John shoots Bart in the arm, disabling him. Some time after that, the Far West village still runs with some new additions : John's story is loosely adapted as an Old West tale and acted out for tourists.\n",
            "Recommended film has ID 3675\n",
            "Its categories are ['\"Romantic comedy\",  \"Costume drama\",  \"Period piece\",  \"Drama\",  \"Comedy\",  \"War film\",  \"Romantic drama\",  \"Romance Film\"']\n",
            "Its summary is: Don Pedro  and his noblemen are visiting their good friend Leonato  in Messina after having quashed the uprising led by Don John , the prince's bastard half-brother. Among the victors are the misogynistic and witty Benedick , erstwhile flame of Leonato's equally sharp-tongued and somewhat fierce niece, Beatrice , who is something of a misandrist, and Benedick's \"sworn brother\" Claudio , a young count. Claudio has been thinking fondly of Leonato's gentle and lovely daughter Hero  since before he went to war, and returns to find her as attractive as ever. Don Pedro, learning of his young friend's feelings, arranges the match at a party. Despite Don John's best efforts to foil it, the Prince's plan works out perfectly in the end. Needing something to pass the time until the wedding day, Don Pedro decides to arrange a similar fate for Beatrice and Benedick. Of course, both parties being such “professed tyrant[s]” to the opposite sex, this match will take a little more ingenuity. Leonato, Claudio and the Prince stage a loud conversation containing a fictitious account of how much Beatrice is in love with Benedick; all the while, knowing Benedick to be hiding well within earshot. Hero and her gentlewoman Ursula play the same trick upon Beatrice. Each of them believes the story they hear about the other. In the midst of all of this good-natured scheming, Don John and his men have been casting about for ways to stop the intended marriage between the man who “hath all the glory of [Don John's] overthrow” and the woman for whom one may suspect he has cherished some tender feeling. The night before the wedding, his servant Borachio arranges to meet with Hero's gentlewoman Margaret at Hero's chamber window. John shows his half-brother and Claudio the rendezvous and makes them believe that they are seeing Hero in the act of infidelity. Against the revelry of the evening, the constable Dogberry  appoints a watch to keep the peace. The three hapless watchmen happen to hear Borachio bragging to his colleague Conrade about how he and Don John had finally succeeded in wrecking the wedding plans. They make the arrest and send Dogberry in the morning to fetch Leonato for the examination, but the old gentleman is in too much of a hurry to try to decipher what the constable would say to him. Amidst the confusion, the villain has managed to escape to parts unknown before he can get his comeuppance. At the wedding, Claudio publicly disgraces his would-be bride and storms away along with all of the guests except for Ursula, the Friar, Leonato, Beatrice, her father Antonio, and Benedick. They all agree to the Friar's plan to publish the tale that Hero, upon the grief of Claudio's accusations, suddenly died. Beatrice and Benedick linger a moment, and wind up confessing their love to one another. In the wake of this declaration, Beatrice asks Benedick to do the one thing that will satisfy her outrage with what has just happened; she asks him to kill Claudio. He agrees, but it is with a heavy heart. Just after the challenge is issued, the story of Don John's deception comes to light, and the Prince and Claudio are sorely grieved for their grave mistake. Leonato forgives Claudio on the condition that he marry Hero's cousin on the next morning. Claudio agrees. When the bride is brought forth, she is revealed to be none other than Hero herself. They then profess their true and undying love for each other, as do Beatrice and Benedick when faced with written evidence  found in the pockets of each, Benedick's in the form of an endearingly poorly-written song. All are reconciled and Don John is discovered and promised punishment. The film ends with the whole of Leonato's household dancing in the courtyard, with the newlyweds at the center of them.\n",
            "Recommended film has ID 2526\n",
            "Its categories are ['\"Drama\",  \"Black-and-white\"']\n",
            "Its summary is: Set during the American Civil War, the story focuses on Charlotte Lovell and her cousin Delia, whose wedding day is disrupted when former fiance Clem Spender returns following a two-year absence. Delia proceeds to marry Jim Ralston, and Charlotte comforts Clem, who enlists in the Union Army and is killed in battle. Shortly after his death, Charlotte discovers she is pregnant with Clem's child, and in order to escape the stigma of an illegitimate child, she journeys to the West to have her baby, a daughter she names Clementina. Following the end of the war, Charlotte and Tina relocate to Philadelphia, where Charlotte opens an orphanage. Delia is the mother of two children, and Charlotte is engaged to marry Joe Ralston, her cousin's brother-in-law. On her wedding day, Charlotte tells Delia that Tina is her child by Clem, and Delia stops Joe from marrying Charlotte by telling him she is in poor health. The cousins become estranged, but when Jim is killed in a horseriding accident, Delia invites Charlotte and Tina to move in with her and her children. Tina, unaware Charlotte is her birth mother, assumes the role of Delia's daughter and calls Charlotte her aunt. Fifteen years pass, and Tina is engaged to wealthy Lanning Halsey. Still unaware Charlotte is her mother, she begins to resent what she considers her interference in her life, and when Delia offers to formally adopt Tina in order to provide her with a reputable name and a prominent position in society, she gladly accepts. Charlotte intends to tell Tina the truth before the wedding but finds herself unable to do so. Charlotte confronts Delia and reveals she resents the fact both Clem and Tina loved Delia more than they did her. Delia tells Tina Charlotte sacrificed her happiness by refusing to marry a man who did not want to raise Tina as his own, and she urges her to kiss Charlotte last when she prepares to depart with her new husband. Tina complies, and her gesture leaves Charlotte happy and willing to share the rest of her life with Delia as a friend rather than an adversary.\n"
          ]
        }
      ],
      "source": [
        "id = 3328\n",
        "films = content_recommender(id, 7, corpus_tf_idf_2)\n",
        "print(\"Film to find recommendations has ID {}\".format(id))\n",
        "print(\"Its categories are {}\".format(categories[id]))\n",
        "print(\"Its summary is: {}\".format(summaries[id][0]))\n",
        "for film in films:\n",
        "  print(\"Recommended film has ID {}\".format(film))\n",
        "  print(\"Its categories are {}\".format(categories[film]))\n",
        "  print(\"Its summary is: {}\".format(summaries[film][0]))"
      ]
    },
    {
      "cell_type": "code",
      "execution_count": null,
      "metadata": {
        "colab": {
          "base_uri": "https://localhost:8080/"
        },
        "id": "aEemKk-Kxwbs",
        "outputId": "7faa01a1-719a-4154-9236-a25ec2b823ef"
      },
      "outputs": [
        {
          "name": "stderr",
          "output_type": "stream",
          "text": [
            "/usr/local/lib/python3.7/dist-packages/scipy/spatial/distance.py:720: RuntimeWarning: invalid value encountered in double_scalars\n",
            "  dist = 1.0 - uv / np.sqrt(uu * vv)\n"
          ]
        },
        {
          "name": "stdout",
          "output_type": "stream",
          "text": [
            "Film to find recommendations has ID 2730\n",
            "Its categories are ['\"Zombie Film\",  \"B-movie\",  \"Horror\",  \"Slasher\"']\n",
            "Its summary is: The Dead Pit opens with Dr. Ramzi , a deviant who enjoys torturing his patients, being killed and buried in the basement of a mental health facility. Twenty years later, the hospital is running again and Jane Doe  arrives at the institute. Upon her arrival, a major earthquake rocks the building and unearths the now undead Dr. Ramzi and his legion of zombie patients.\n",
            "Recommended film has ID 3766\n",
            "Its categories are ['\"Short Film\",  \"Comedy\"']\n",
            "Its summary is: Fields plays a dentist whose daughter desires to marry an ice-delivery man. He disapproves of this match, especially after she attempts to elope with her lover. Fields locks her up in an upstairs room, above his dental office, where she proceeds to stamp her feet, causing plaster chunks to fall as he attempts to treat his patients. Various patients with unusual physical traits  arrive at the office, and he attempts to use his dental drill on them without any apparent pain killer. With one of his patients , he engages in an intimate wrestling match as he attempts to extract a painful tooth.\n",
            "Recommended film has ID 179\n",
            "Its categories are ['\"Parody\",  \"Science Fiction\",  \"Comedy\"']\n",
            "Its summary is: Plagued by malpractice lawyers, bureaucratic health insurance companies, uninsured patients, and stressed out doctors, the health care system is on the verge of a total breakdown. As a cost-cutting measure at its hospitals, R.I.P Healthcare has developed the perfect android doctor, MD 63 . RoboDoc’s success would bring flawless, affordable health care to all. However, a malpractice lawyer begins to look at RoboDoc a different way. If he can't make a mistake, then there will be no malpractice happening and no one would get sued. So now, he tries to destroy RoboDoc for all its worth.\n",
            "Recommended film has ID 3838\n",
            "Its categories are ['\"Horror\"']\n",
            "Its summary is: The death is the beginning, all the humanity left, when the night begins, comes the undead. A simple Mosquito bite infected with a virus has spread death, from the humid rain forest. The virus came to civilization, with a mortality rate of one hundred percentAwakening: Zombie Night 2 Movie - MoviesOnline!. Always on the lookout for new victims, the Lethal Mosquito virus is forgotten. The time of the human race is running outReview of Awakening: Zombie Night 2 - quietearth.us.\n",
            "Recommended film has ID 216\n",
            "Its categories are ['\"Action/Adventure\",  \"Zombie Film\",  \"Western\",  \"Horror\",  \"Science fiction Western\"']\n",
            "Its summary is: In the present, a plague breaks out and the infected have been transformed into zombies. The action starts 80 years after the initial outbreak. The western United States has devolved into a disconnected series of ghost towns overrun by zombies such as the Toar Zombie and the Little Girl Zombie, and the government is awarding bounties in exchange for the pinkies of the undead. Ryn survives and follows Remington with the aid of Hans Tubman , a foreigner who double crossed him, in order to retrieve the sack of pinkies he had earlier collected when the movie began.\n",
            "Recommended film has ID 2828\n",
            "Its categories are ['\"Biographical film\",  \"Drama\",  \"World cinema\"']\n",
            "Its summary is: In 18th century Vienna, Franz Anton Mesmer believes he is able to heal patients by drawing out something unique from inside his patients. However, the only ones who seem to have improvements are the young ladies he helps. His controversial methods and their consequences lead him to leave Vienna and head to Paris. However, once there, he takes advantage of his unique methods to provide entertainment, which he is censured for by other doctors.\n",
            "Recommended film has ID 2311\n",
            "Its categories are ['\"Culture & Society\",  \"Indie\",  \"History\",  \"Drama\",  \"Comedy\",  \"Political cinema\",  \"Social issues\",  \"Documentary\"']\n",
            "Its summary is: According to Sicko, almost fifty million Americans are uninsured while the remainder, who are covered, are often victims of insurance company fraud and red tape. Interviews are conducted with people who thought they had adequate coverage but were denied care. Former employees of insurance companies describe cost-cutting initiatives that give bonuses to insurance company physicians and others to find reasons for the company to avoid meeting the cost of medically necessary treatments for policy holders, and thus increase company profitability. In Canada, Moore describes the case of Tommy Douglas, who was voted the greatest Canadian in 2004 for his contributions to the Canadian health system. Moore also interviews a microsurgeon and people waiting in the emergency room of a Canadian public hospital. Against the backdrop of the history of the American health care debate, opponents of universal health care are set in the context of 1950s-style anti-communist propaganda. A 1960s record distributed by the American Medical Association, narrated by Ronald Reagan, warns that universal health care could lead to lost freedoms and socialism. In response, Moore shows that socialized public services like police, fire service, the United States Postal Service, public education and community libraries have not led to communism in the United States. The origins of the Health Maintenance Organization Act of 1973 are presented using a taped conversation between John Ehrlichman and President Richard Nixon on February 17, 1971; Ehrlichman is heard telling Nixon that \"...the less care they give them, the more money they make\", a plan that Nixon remarked \"fine\" and \"not bad\". This led to the expansion of the modern health maintenance organization-based health care system. Connections are highlighted between Pharmaceutical Research and Manufacturers of America , the lobbying arm of the largest drug companies in the United States, lobbying groups in Washington D.C., and the Congress. Hillary Clinton, a champion of the Clinton health care plan, is shown as a crusader for change, appointed to reform the health care system in the United States by her husband, newly elected President Bill Clinton. Her efforts are met with heavy-handed criticisms by Republicans on Capitol Hill, and right-wing media throughout the country, who characterize her plan as the harbinger of socialism. When she is defeated, her punishment is to \"never speak of it again while in the White House.\" Seven years later, her silence is rewarded, as she becomes a Senator for the State of New York, a victory made possible in part by money from the health care industry; she is second only to Rick Santorum as the Senate's highest recipient of health care industry campaign donations. In the United Kingdom, a country whose National Health Service is a comprehensive publicly funded health care system, Moore interviews patients and inquires about in-hospital expenses incurred by patients, only to be told that there are no out-of-pocket payments. Moore visits a typical UK pharmacy, where pharmaceuticals are free of charge for persons under 16 or over 60, and subsidized in most cases for everyone else; only a fixed amount of £6.65  per item on a prescription was charged, irrespective of cost to the NHS. Further, NHS hospitals employ a cashier, part of whose job is to reimburse low-income patients for their out-of-pocket travel costs to the hospital. Interviews include an NHS general practitioner, an American woman residing in London, and Tony Benn. In France, Moore visits a hospital and interviews the head of obstetrics and gynaecology and a group of American expatriates. Moore rides with the \"SOS Médecins\", a 24-hour French medical service that provides house calls by physicians. Providing only their names and birth dates, the volunteers are hospitalized and receive medical attention. Before they leave, the 9/11 rescue workers are honored by a local Havana fire station. Finally, Moore addresses the audience, emphasizing that people should be \"taking care of each other, no matter the differences\". To demonstrate his personal commitment to this theme, Moore decides to help one of his biggest critics, Jim Kenefick. According to a blog posting, Kenefick feared he would have to shut down his anti-Moore website because he needed US $12,000 to cover the costs of medical treatment for his sick wife. Not wanting the U.S. health care system to trump Kenefick's ability to express his opinion, Moore sends Kenefick the money \"anonymously\". This film ends with Moore walking towards the United States Capitol with a basket full of his clothes, sarcastically saying he will get the government to do his laundry until a better day comes for the sick and hopeless who are unable to receive health care.\n",
            "Recommended film has ID 3634\n",
            "Its categories are ['\"Thriller\",  \"Science Fiction\",  \"Action/Adventure\",  \"Mystery\",  \"Drama\",  \"Action\"']\n",
            "Its summary is: = Detective Hathaway meets with a young witness who says he has seen a zombie attack. He presents Hathaway with a building access pass that fell out of the attacker's pocket. The pass is for the Romero Chemical Plant. Hathaway then goes to the President of Romero Chemicals. He confronts him about an incident that occurred in the plant that he funded. The President disregards it as an accident, but Hathaway argues. He tells the President that he is going to look around the building that was on the note. He leaves, and the President makes an urgent phone call saying \"He knows\". He goes to the building and is attacked by a zombie. He manages to kill the zombie by pressing its head against exposed nails in the wall. He then calls someone to buy his wife a ticket to Michigan because it is not safe for her. But that night at the train depot, she tells him that she loves him and doesn't want him getting into danger. Seconds later, a massive train wreck occurs confirming his wife's staying. The next morning they are looking out at the wreck and are attacked by a zombie, who Hathaway shoots. That night, Hathaway records in his audio journal that the attacks are putting stress on his town and his marriage. He then gets a call from an Air Force officer that served with Hathaway in Vietnam who tells him that an airman committed suicide because there was a secret he could no longer keep. He then gives him top-secret information about a doctor that the late airman worked for. He goes to meet this doctor who says that he has found a cure for the zombie epidemic and begins to test it on a victim of the virus. However, the victim wakes up and bites the doctor turning him into a zombie. Hathaway shoots them both. He goes home to see that his wife has been turned into a zombie. She attacks him, but he injects the antidote into her neck. He gets ready to shoot her but she is cured of the virus and they embrace. The film ends and we hear a small announcement from the director, Charles Kaznyk, who tells the audience how much fun they had making it and that he hopes they choose his film for the festival. Alice, in zombie makeup, then attacks Charles and bites him, leaving his fate unknown.\n"
          ]
        }
      ],
      "source": [
        "id = 2730\n",
        "films = content_recommender(id, 7, corpus_tf_idf_2)\n",
        "print(\"Film to find recommendations has ID {}\".format(id))\n",
        "print(\"Its categories are {}\".format(categories[id]))\n",
        "print(\"Its summary is: {}\".format(summaries[id][0]))\n",
        "for film in films:\n",
        "  print(\"Recommended film has ID {}\".format(film))\n",
        "  print(\"Its categories are {}\".format(categories[film]))\n",
        "  print(\"Its summary is: {}\".format(summaries[film][0]))"
      ]
    },
    {
      "cell_type": "markdown",
      "metadata": {
        "id": "7NHM2NpvydRz"
      },
      "source": [
        "Αν και δεν είναι όλες οι συστάσεις ορθές, ένα ικανοποιητικό ποσοστό από αυτές φαίνεται να είναι κοντά στις αρχικές ταινίες και ο recommender μας δουλεύει αρκετά καλά. Στη συνέχεια θα προσπαθήσουμε να μειώσουμε ακόμα περισσότερο τις διαστάσεις των χαρακτηριστικών ώστε να δούμε αν η επίδοση του θα βελτιωθεί ή αν θα έχουμε περισσότερες λανθασμένες προτάσεις."
      ]
    },
    {
      "cell_type": "code",
      "execution_count": null,
      "metadata": {
        "colab": {
          "base_uri": "https://localhost:8080/"
        },
        "id": "FcGVSv1MzFDD",
        "outputId": "6541f6dc-d02c-4066-fcae-bb5b13be4757"
      },
      "outputs": [
        {
          "name": "stdout",
          "output_type": "stream",
          "text": [
            "(5000, 5000)\n"
          ]
        }
      ],
      "source": [
        "vectorizer = TfidfVectorizer(max_df=200, min_df=4, max_features=5000)\n",
        "vectorizer.fit(corpus_updated)\n",
        "corpus_tf_idf_3 = vectorizer.transform(corpus_updated)\n",
        "print(corpus_tf_idf_3.shape)"
      ]
    },
    {
      "cell_type": "code",
      "execution_count": null,
      "metadata": {
        "colab": {
          "base_uri": "https://localhost:8080/"
        },
        "id": "01mmr5_rzKtE",
        "outputId": "d4d3b9ec-326b-46ce-9831-016875f88b10"
      },
      "outputs": [
        {
          "name": "stdout",
          "output_type": "stream",
          "text": [
            "Film to find recommendations has ID 2311\n",
            "Its categories are ['\"Culture & Society\",  \"Indie\",  \"History\",  \"Drama\",  \"Comedy\",  \"Political cinema\",  \"Social issues\",  \"Documentary\"']\n",
            "Its summary is: According to Sicko, almost fifty million Americans are uninsured while the remainder, who are covered, are often victims of insurance company fraud and red tape. Interviews are conducted with people who thought they had adequate coverage but were denied care. Former employees of insurance companies describe cost-cutting initiatives that give bonuses to insurance company physicians and others to find reasons for the company to avoid meeting the cost of medically necessary treatments for policy holders, and thus increase company profitability. In Canada, Moore describes the case of Tommy Douglas, who was voted the greatest Canadian in 2004 for his contributions to the Canadian health system. Moore also interviews a microsurgeon and people waiting in the emergency room of a Canadian public hospital. Against the backdrop of the history of the American health care debate, opponents of universal health care are set in the context of 1950s-style anti-communist propaganda. A 1960s record distributed by the American Medical Association, narrated by Ronald Reagan, warns that universal health care could lead to lost freedoms and socialism. In response, Moore shows that socialized public services like police, fire service, the United States Postal Service, public education and community libraries have not led to communism in the United States. The origins of the Health Maintenance Organization Act of 1973 are presented using a taped conversation between John Ehrlichman and President Richard Nixon on February 17, 1971; Ehrlichman is heard telling Nixon that \"...the less care they give them, the more money they make\", a plan that Nixon remarked \"fine\" and \"not bad\". This led to the expansion of the modern health maintenance organization-based health care system. Connections are highlighted between Pharmaceutical Research and Manufacturers of America , the lobbying arm of the largest drug companies in the United States, lobbying groups in Washington D.C., and the Congress. Hillary Clinton, a champion of the Clinton health care plan, is shown as a crusader for change, appointed to reform the health care system in the United States by her husband, newly elected President Bill Clinton. Her efforts are met with heavy-handed criticisms by Republicans on Capitol Hill, and right-wing media throughout the country, who characterize her plan as the harbinger of socialism. When she is defeated, her punishment is to \"never speak of it again while in the White House.\" Seven years later, her silence is rewarded, as she becomes a Senator for the State of New York, a victory made possible in part by money from the health care industry; she is second only to Rick Santorum as the Senate's highest recipient of health care industry campaign donations. In the United Kingdom, a country whose National Health Service is a comprehensive publicly funded health care system, Moore interviews patients and inquires about in-hospital expenses incurred by patients, only to be told that there are no out-of-pocket payments. Moore visits a typical UK pharmacy, where pharmaceuticals are free of charge for persons under 16 or over 60, and subsidized in most cases for everyone else; only a fixed amount of £6.65  per item on a prescription was charged, irrespective of cost to the NHS. Further, NHS hospitals employ a cashier, part of whose job is to reimburse low-income patients for their out-of-pocket travel costs to the hospital. Interviews include an NHS general practitioner, an American woman residing in London, and Tony Benn. In France, Moore visits a hospital and interviews the head of obstetrics and gynaecology and a group of American expatriates. Moore rides with the \"SOS Médecins\", a 24-hour French medical service that provides house calls by physicians. Providing only their names and birth dates, the volunteers are hospitalized and receive medical attention. Before they leave, the 9/11 rescue workers are honored by a local Havana fire station. Finally, Moore addresses the audience, emphasizing that people should be \"taking care of each other, no matter the differences\". To demonstrate his personal commitment to this theme, Moore decides to help one of his biggest critics, Jim Kenefick. According to a blog posting, Kenefick feared he would have to shut down his anti-Moore website because he needed US $12,000 to cover the costs of medical treatment for his sick wife. Not wanting the U.S. health care system to trump Kenefick's ability to express his opinion, Moore sends Kenefick the money \"anonymously\". This film ends with Moore walking towards the United States Capitol with a basket full of his clothes, sarcastically saying he will get the government to do his laundry until a better day comes for the sick and hopeless who are unable to receive health care.\n",
            "Recommended film has ID 179\n",
            "Its categories are ['\"Parody\",  \"Science Fiction\",  \"Comedy\"']\n",
            "Its summary is: Plagued by malpractice lawyers, bureaucratic health insurance companies, uninsured patients, and stressed out doctors, the health care system is on the verge of a total breakdown. As a cost-cutting measure at its hospitals, R.I.P Healthcare has developed the perfect android doctor, MD 63 . RoboDoc’s success would bring flawless, affordable health care to all. However, a malpractice lawyer begins to look at RoboDoc a different way. If he can't make a mistake, then there will be no malpractice happening and no one would get sued. So now, he tries to destroy RoboDoc for all its worth.\n",
            "Recommended film has ID 4341\n",
            "Its categories are ['\"Documentary\"']\n",
            "Its summary is: Alan Moore presents the story of his development as an artist, starting with his childhood and working through to his comics career and impact on that medium, and his emerging interest in magic. The film features the first film adaptations of scenes from Moore's acclaimed series V for Vendetta and Watchmen, shot in early 2002. Another key scene features a direct reference to the character of John Constantine from the comic book Hellblazer.\n",
            "Recommended film has ID 911\n",
            "Its categories are ['\"Crime Fiction\",  \"Mystery\",  \"Thriller\",  \"Drama\",  \"Crime Thriller\"']\n",
            "Its summary is: Chief Warrant Officer Four Paul Brenner , a Vietnam Veteran of the 196th LIB, is in Georgia masquerading as First Sergeant Frank White at a local army base, to broker an illegal arms trade with a self-proclaimed freedom fighter. Part of the disguise of his character is speaking with a strong Southern accent. While on the base, his car gets a flat tire. He is on the side of the road trying to remove the wheel nuts with a small pair of pliers and not having much success when a pretty young officer arrives and helps him change the spare with her cross brace . The officer is Captain Elizabeth Campbell , the base commanding general's daughter and army captain in psychological operations. The next day Brenner calls in to see her with a basket full of chocolates and bath soaps as a thank you to her for her help. Both times he is in contact with her he is keeping up the pretence with the Southern drawl. Elisabeth is at first warm to him but after a few minutes of conversation she becomes cool and distant, saying she has a lot of work to get through. The next evening, she is found murdered. Brenner and another warrant officer, Sara Sunhill  are brought in to investigate, as both are part of the U.S. Army Criminal Investigation Command. At the scene, the base Provost Marshal, Colonel William Kent  and several of his military police have secured the area. Captain Campbell's nude body has been staked down with tent poles, strangled, and presumably raped. Colonel Kent has 2,000 military police that he is in charge of at the base and is considered both the police chief and the staff officer who advises Captain Campbell's father, Lieutenant General Joe Campbell , on all military police matters. They search Elisabeth's home off base and find it typical of a career Army officer, with one exception: through a false door in the basement, they find what appears to be a sexual dungeon of sorts, with handcuffs, harnesses, and a camera connected to a VCR. Sunhill goes to their car to make a call from her cell phone, and while Brenner gathers the tapes, he is attacked by a masked figure armed with a steel snow shovel. The culprit manages to disorient Brenner long enough to steal the videotapes. Brenner questions Elisabeth's close confidante, Colonel Robert Moore , who also works in psy ops. Though cordial and somewhat cooperative, Moore is evasive when questioned, and gives an alibi of being in bed asleep at the time of the murder. However, this proves false when Moore's fingerprints are found on Elisabeth's dog tags that were found in a plastic trash bag several yards from her body, along with her clothing. Brenner arrests Moore on charges of conduct unbecoming an officer and takes him to jail. Moore is later released by the officer in charge of the jail and restricted to house arrest. Brenner, Sunhill, and Colonel William Kent, return to Moore's home and find Moore dead on his couch with an apparent self-inflicted gunshot wound to his forehead. The General's adjutant, Colonel George Fowler , attempts to close the investigation at the crime scene, stating that Moore killed himself out of guilt because he killed Elisabeth. Brenner states he intends to keep the case open and much tension is seen between them. Further cover-ups are revealed, and it's later learned that Elisabeth was sexually promiscuous with virtually all the officers that made up her father's staff. It's also revealed that Elisabeth was an honor student at West Point until her sophomore year and barely managed to graduate. Brenner and Sunhill visit Colonel Dr. Donald Slesinger ([[John Beasley , the academy's psychiatrist, who explains that Captain Campbell had been gang raped by fellow trainees while a cadet at West Point. During a large training exercise of around 1000 personnel, she had found herself separated from her group and was jumped by six male cadets, beaten and raped all night, almost to the point of death and left to die in an isolated area . Luckily, another trainee group which had got lost, found Elisabeth and rescued her. Elisabeth never knew the names of her assailants, but Sunhill tracks down one of the attackers and engineers a confession by telling him the advances in DNA technology mean his 'gene prints' are traceable. She pretends that the bloodstained underwear she shows the soldier is the genuine article. The agents pay a visit to the general, who corroborates the story. Fearing that the assailants would never be caught, Campbell acted upon the advice of another general and decided to cover up the incident since such a scandal would destroy the academy, not to mention his own ambitions to become Vice President of the United States. This denial of justice severely traumatized Elisabeth, causing her to partake in various violent sexual activities. Campbell reveals that he did encounter his daughter the night of her murder, and that Elisabeth herself, with the aid of Moore, staged the reenactment of the academy incident in an attempt to force her father to face the truth he covered up. Unmoved, Campbell left his daughter tied to the stakes. Realizing that Kent is the only suspect left, Brenner decides to question him. He calls Sunhill but learns that she was returning to the murder scene...with Kent, who also wants to see Brenner. Brenner arrives and confronts Kent, who admits that he killed Elisabeth after she rejected him and threatened to tell his family about the affair. Kent then commits suicide with an anti-personnel mine. Parallel to these events, Brenner and Sunhill manage to invalidate Campbell's reasons for the cover up by swiftly discovering and arresting all of his daughter's assailants . As Campbell prepares to get on the plane to accompany Elizabeth's body to the funeral, he is confronted by Brenner, who lays the burden of his daughter's death on the general; disgusted, he tells Campbell that his betrayal of Elisabeth was what really killed her and that Kent had just put her out of her misery. He then tells Campbell he will be court-martialled for conspiracy to conceal a crime, thus destroying the general's career. The film ends with a montage of Elizabeth's happy childhood and Brenner and Sunhill departing in opposite directions and an admiring glance by Sunhill at the departing Brenner. A written epilogue explains that Campbell is found guilty for the crime and courtmartialed, soon after disappearing from public life.\n",
            "Recommended film has ID 2271\n",
            "Its categories are ['\"Silent film\"']\n",
            "Its summary is: Thea  is sculptress who is diagnosed with phthisis before she marries Filippo . After abandoning him, her health begins to decline. She organises a final party, inviting along her estranged husband. He fails to show, as he's now married to another woman. Thea appears naked in front of her guests, before she kills herself.\n",
            "Recommended film has ID 1790\n",
            "Its categories are ['\"Period piece\",  \"Biography\",  \"Drama\",  \"Political drama\",  \"Biopic [feature]\"']\n",
            "Its summary is: The film is non-linear, framed by scenes of Nixon listening to his secret recordings towards the end of his presidency as the Watergate crisis intensifies. As such, it covers all aspects of Nixon's life as a composite of actual events, usually in the form of memories triggered by the recordings or newsreel-style summaries. It depicts his childhood in Whittier, California, as well as his growth as a young man, football fan and player, and suitor to his eventual wife, Pat Ryan. It explores most of the important events of his presidency, including his downfall due to abuse of executive power in the White House. The film implies that Nixon and his wife abused alcohol and prescription medication. Nixon's health problems, including his bout of phlebitis and pneumonia during the Watergate crisis, are also shown in the film, and his various medicants are sometimes attributed to these health issues. The movie also hints at some kind of responsibility, real or imagined, that Nixon felt towards the John F. Kennedy assassination through references to \"the Bay of Pigs\", the implication being that the mechanisms set into place for the invasion by Nixon during his term as Dwight D. Eisenhower's vice-president spiraled out of control to culminate in the assassination and, eventually, Watergate. The film ends with Nixon's resignation and famous departure from the lawn of the White House on the helicopter, Army One. Real life footage of Nixon's state funeral in Yorba Linda, California, plays out over the extended end credits, and all living ex-presidents at the time, Gerald Ford, Jimmy Carter, Ronald Reagan, George H. W. Bush, and then-president Bill Clinton, are shown in attendance.\n",
            "Recommended film has ID 2730\n",
            "Its categories are ['\"Zombie Film\",  \"B-movie\",  \"Horror\",  \"Slasher\"']\n",
            "Its summary is: The Dead Pit opens with Dr. Ramzi , a deviant who enjoys torturing his patients, being killed and buried in the basement of a mental health facility. Twenty years later, the hospital is running again and Jane Doe  arrives at the institute. Upon her arrival, a major earthquake rocks the building and unearths the now undead Dr. Ramzi and his legion of zombie patients.\n",
            "Recommended film has ID 3418\n",
            "Its categories are ['\"Thriller\",  \"Mystery\",  \"Suspense\",  \"Detective\"']\n",
            "Its summary is: An actor is killed during the performance of a play while critic Tony Woolrich ([[Dave O'Brien  is attending. Initially Woolrich is reluctant to investigate, even though he's encouraged to by his friend Romeo, who is also the taxi driver who brought him to the show, and acts as a sort of sidekick throughout the story. Later Tony is chewed out by his editor for not investigating when he happened to be at the scene of the crime, and so he takes an initially reluctant interest. Tony becomes more involved in the investigation when there is another murder, and when Claudia Moore , the girl he loves, is suspected, and is also possibly threatened by the killer.  \n"
          ]
        },
        {
          "name": "stderr",
          "output_type": "stream",
          "text": [
            "/usr/local/lib/python3.7/dist-packages/scipy/spatial/distance.py:720: RuntimeWarning: invalid value encountered in double_scalars\n",
            "  dist = 1.0 - uv / np.sqrt(uu * vv)\n"
          ]
        }
      ],
      "source": [
        "id = 2311\n",
        "films = content_recommender(id, 7, corpus_tf_idf_3)\n",
        "print(\"Film to find recommendations has ID {}\".format(id))\n",
        "print(\"Its categories are {}\".format(categories[id]))\n",
        "print(\"Its summary is: {}\".format(summaries[id][0]))\n",
        "for film in films:\n",
        "  print(\"Recommended film has ID {}\".format(film))\n",
        "  print(\"Its categories are {}\".format(categories[film]))\n",
        "  print(\"Its summary is: {}\".format(summaries[film][0]))"
      ]
    },
    {
      "cell_type": "markdown",
      "metadata": {
        "id": "9RisD4vgzSf8"
      },
      "source": [
        "Με το πολύ μικρό πλήθος χαρακτηριστικών η επίδοση του recommender φαίνεται να έχει πέσει ακόμα περισσότερο. Καταλήγουμε λοιπόν στο συμπέρασμα πως η βέλτιστη επίδοση που μπορούμε να πετύχουμε είναι κοντά σε αυτή που είχαμε με τον προηγούμενο recommender."
      ]
    },
    {
      "cell_type": "markdown",
      "metadata": {
        "id": "PSQ2tCs_hbaH"
      },
      "source": [
        "## Βαθιά μάθηση: δημιουργία corpora με χρήση word emmbeddings\n",
        "\n",
        "Η προσέγγιση της κατασκευής μόνο μέσω tfidf του συστήματος συστάσεων έχει διάφορα μειονεκτήματα. Θα μας ενδιέφερε λοιπόν να δούμε αν μπορούμε να χρησιμοποιήσουμε για τις λέξεις **εμφυτεύματα (embeddings)**, δηλαδή τις πυκνές διανυσματικές αναπαραστάσεις για τις λέξεις που μας δίνει το μοντέλο **Word2Vec**\n",
        "\n",
        "Ωστόσο, το dataset της κάθε ομάδας είναι πολύ μικρό για να εξάγουμε τα δικά μας word embeddings (και να είναι καλά). Για το λόγο αυτό θα χρησιμοποιήσουμε τη μεθοδολογία της Βαθιάς Μάθησης που είναι η **Μεταφορά Μάθησης (Transfer Learning).**.\n",
        "\n",
        "Στη μεταφορά μάθησης ουσιαστικά μεταφέρουμε τη γνώση που έχει αποκτήσει ένα ήδη εκπαιδευμένο (και κατά κανόνα πολύ μεγάλο) σύστημα. Η μεταφορά γίνεται διαμέσου των τιμών των βαρών που έχει προσδιορίσει μετά το πέρας της εκπαίδευσης.\n",
        "\n",
        "Στην περίπτωσή μας, δεν μας ενδιαφέρουν τόσο τα ίδια τα βάρη των μοντέλων από τα οποία θα κάνουμε μεταφορά μάθησης. Κάτι τέτοιο θα μας ενδιέφερε αν π.χ. θέλαμε να συνεχίσουμε την εκπαίδευση στα δικά μας κείμενα. Μας ενδιαφέρουν όμως τα ίδια τα εμφυτεύματα, δηλαδή τα embeddings (διανύσματα διαστάσεων $m$) που έχει μάθει το νευρωνικό για το λεξιλόγιο του (vocabulary). To vocabulary σε τέτοια μεγάλα νευρωνικά θα είναι πιθανότατα υπερσύνολο του δικού μας."
      ]
    },
    {
      "cell_type": "markdown",
      "metadata": {
        "id": "6UFGxnb9iknm"
      },
      "source": [
        "### Μεταφορά μάθησης εμφυτευμάτων\n",
        "\n"
      ]
    },
    {
      "cell_type": "markdown",
      "metadata": {
        "id": "G3Z28edwj4wF"
      },
      "source": [
        "#### Εμφυτεύματα του Gensim-data\n",
        "Το Gensim περιλαμβάνει αρκετά προεκπαιδευμένα μοντέλα εμφυτευμάτων Word2Vec. Με το επόμενο κελί παίρνουμε τη λίστα τους."
      ]
    },
    {
      "cell_type": "code",
      "execution_count": null,
      "metadata": {
        "colab": {
          "base_uri": "https://localhost:8080/"
        },
        "id": "UX9ZkHSvi3Mi",
        "outputId": "8675e9de-bade-4a2c-9c9f-85b0e61368ec"
      },
      "outputs": [
        {
          "name": "stdout",
          "output_type": "stream",
          "text": [
            "Requirement already satisfied: gensim in /usr/local/lib/python3.7/dist-packages (4.1.2)\n",
            "Requirement already satisfied: numpy>=1.17.0 in /usr/local/lib/python3.7/dist-packages (from gensim) (1.19.5)\n",
            "Requirement already satisfied: scipy>=0.18.1 in /usr/local/lib/python3.7/dist-packages (from gensim) (1.4.1)\n",
            "Requirement already satisfied: smart-open>=1.8.1 in /usr/local/lib/python3.7/dist-packages (from gensim) (5.2.1)\n",
            "['fasttext-wiki-news-subwords-300', 'conceptnet-numberbatch-17-06-300', 'word2vec-ruscorpora-300', 'word2vec-google-news-300', 'glove-wiki-gigaword-50', 'glove-wiki-gigaword-100', 'glove-wiki-gigaword-200', 'glove-wiki-gigaword-300', 'glove-twitter-25', 'glove-twitter-50', 'glove-twitter-100', 'glove-twitter-200', '__testing_word2vec-matrix-synopsis']\n"
          ]
        }
      ],
      "source": [
        "!pip install -U gensim\n",
        "import gensim.downloader\n",
        "print(list(gensim.downloader.info()['models'].keys()))"
      ]
    },
    {
      "cell_type": "markdown",
      "metadata": {
        "id": "mS0XEVWUi_0e"
      },
      "source": [
        "Τα μοντέλα αυτά βρίσκονται στο [αποθετήριο Gensim-data](https://github.com/RaRe-Technologies/gensim-data) όπου μπορείτε να βρείτε και την τεκμηρίωσή τους. Η φόρτωση των μοντέλων αυτών γίνεται με τη συνάρτηση `gensim.downloader.load`."
      ]
    },
    {
      "cell_type": "markdown",
      "metadata": {
        "id": "IfNs5fMAkADF"
      },
      "source": [
        "#### Άλλα εμφυτεύμαατα\n",
        "Μπορείτε να βρείτε προεκπαιδευμένα εμφυτεύματα και από πηγές εκτός του Gensim. Για παράδειγμα:\n",
        "\n",
        "- [Google News dataset](https://code.google.com/archive/p/word2vec/). Πρόκειται για προ-εκπαιδευμένα διανύσματα που έχουν εκπαιδευτεί σε μέρος του συνόλου δεδομένων Google News (περίπου 100 δισεκατομμύρια λέξεις). Το μοντέλο περιέχει διανύσματα 300 διαστάσεων για 3 εκατομμύρια λέξεις και φράσεις.\n",
        "- [Amazon BlazingText](https://docs.aws.amazon.com/sagemaker/latest/dg/blazingtext.html). Το BlazingText δεν είναι μόνο προεκπαιδευμένα εμφυτεύματα αλλα και βελτιστοποιημένες υλοποιήσεις των αλγορίθμων Word2vec για την επεξεργασία κειμένου. Προυπόθεση είναι να δουλέψει κανείς στο SageMaker.\n",
        "\n",
        "Οι διαδικασίες φόρτωσης embeddings από εξωτερικά δεδομένα μπορεί να είναι ελαφρά διαφορετικές από αυτή του Gensim.\n",
        "\n"
      ]
    },
    {
      "cell_type": "code",
      "execution_count": null,
      "metadata": {
        "id": "pv7PdvqdP_se"
      },
      "outputs": [],
      "source": [
        "if clean_run:\n",
        "  w2v_model = gensim.downloader.load('glove-wiki-gigaword-100')\n",
        "  with open('w2v_model.dump', 'wb') as fid:\n",
        "    pickle.dump(w2v_model, fid)\n",
        "else:\n",
        "  with open('drive/MyDrive/w2v_model.dump', 'rb') as fid:\n",
        "    w2v_model = pickle.load(fid)"
      ]
    },
    {
      "cell_type": "markdown",
      "metadata": {
        "id": "qkkZE41d_DjX"
      },
      "source": [
        "#### Παρατηρήσεις\n",
        "\n",
        "*   Επαναλαμβάνουμε ότι στην εργασία αυτή δεν μας ενδιαφέρουν τα ίδια τα μοντέλα αλλά το να μπορούμε για μία λέξη του λεξιλογίου μας να μπορούμε να βρούμε το embedding (διάνυσμα) που της αντιστοιχεί στο εκάστοτε προεκπαιδευμένο μοντέλο. \n",
        "\n",
        "*   Επίσης, δεν θα χρησιμοποιήσουμε την `Phrases` για να βρούμε bigrams στο dataset μας όπως θα ήταν το ορθότερο, καθώς αυτό θα απαιτούσε την συνέχιση της εκπαίδευσης του μοντέλου σε νέο λεξιλόγιο με πολύ λίγα νέα δεδομένα.\n"
      ]
    },
    {
      "cell_type": "markdown",
      "metadata": {
        "id": "aF6bQOziqISL"
      },
      "source": [
        " ### Δημιουργία corpora βασισμένων στα εμφυτεύματα\n",
        "\n",
        "Για να μπορέσουμε να ενσωματώσουμε τη γνώση που υπάρχει στα προεκπαιδευμένα εμφυτεύματα στο δικό μας corpus θα προχωρήσουμε όπως περιγράφεται ακολούθως.\n",
        "\n",
        "Για κάθε περιγραφή ταινίας $d$, η οποία αποτελείται από τις $N_d$ λέξεις $w_i$, το  $tfidf$ της κάθε λέξης $w_i$ δίνεται από τη σχέση:\n",
        "\n",
        "$$ tfidf(w_i) = tf(w_i,d) \\cdot idf(w_i)$$\n",
        "\n",
        "Ταυτόχρονα, σε κάθε λέξη $w_i$ αντιστοιχεί ένα διάνυσμα $W2V(w_i)$ από το μοντέλο εμφυτευμάτων που έχουμε εισάγει. Τα διανύσματα εμφυτευμάτων $W2V$ θα έχουν διάσταση $m$, ανάλογα το μοντέλο. \n",
        "\n",
        "Για κάθε ταινία d, μπορούμε να δημιουργήσουμε μια διανυσματική αναπαράσταση $W2V(d)$ διαστάσεων $m$ χρησιμοποιώντας το $tfidf(w_i)$ ως συντελεστή βαρύτητας για κάθε εμφύτευμα $W2V(w_i)$:\n",
        "\n",
        "$$ W2V(d) = \\frac{tfidf(w_1)\\cdot W2V(w_i) + tfidf(w_2)\\cdot W2V(w_2) + \\dotsc  + tfidf(w_{N_{d}})\\cdot W2V(w_{N_{d}})}{tfidf(w_1)+tfidf(w_2)+ \\dotsc + tfidf(w_{N_{d}})}$$\n"
      ]
    },
    {
      "cell_type": "markdown",
      "metadata": {
        "id": "Umbd7mv__be8"
      },
      "source": [
        "#### build_tfw2v\n",
        "\n",
        "Υλοποιήστε μια συνάρτηση `build_tfw2v` με ορίσματα:\n",
        "- `corpus` που θα είναι το προεπεξεργασμένο dataset σας,\n",
        "- `vectors` που θα είναι το μοντέλο που θα σας δίνει τα διανύσματα των εμφυτεύσεων vectors, και \n",
        "- `embeddings_size` που θα είναι η διάσταση των εμφυτευμάτων $m$.\n",
        "\n",
        "H συνάρτηση αυτή θα επιστρέφει ένα νέο corpus που θα είναι ένας πίνακας 5000 (όσες οι ταινίες σας) x $m$ (το η διάσταση των εμφυτευμάτων). Ανάλογα ποιο μοντέλο χρησιμποιείτε για transfer learning ο πίνακας αυτός θα είναι διαφορετικός.\n",
        "\n",
        "Μπορείτε πλεόν να καλείτε την `content_recommender` με διαφορετικά corpora στο όρισμα `corpus_type`. Σημειώστε ότι στο TFidfVectorizer χρησιμοποιουμε τη σειριακή μορφή των numpy arrays και ίσως σας χρησιμεύσει η `sparse.csr_matrix()` από την Scipy."
      ]
    },
    {
      "cell_type": "markdown",
      "metadata": {
        "id": "K5TRnqAHk4ms"
      },
      "source": [
        "Δημιουργούμε τη συνάρτηση όπως αυτή περιγράφηκε παραπάνω, επιστρέφοντας έναν πίνακα διαστάσεων 5000x100. "
      ]
    },
    {
      "cell_type": "code",
      "execution_count": null,
      "metadata": {
        "id": "nOnuX4E1cGMU"
      },
      "outputs": [],
      "source": [
        "def build_tfw2v(corpus, vectors, embeddings_size):\n",
        "  vectorizer = TfidfVectorizer()\n",
        "  vectorizer.fit(corpus)\n",
        "  corpus_tf_idf = vectorizer.transform(corpus)\n",
        "  feature_names = vectorizer.get_feature_names_out()\n",
        "  tfidf = dict()\n",
        "  for i, feature in enumerate(feature_names):\n",
        "    tfidf[feature] = i\n",
        "\n",
        "  tfw2v_vectors = []\n",
        "  for i, doc in enumerate(corpus):\n",
        "    numerator = 0\n",
        "    denominator = 0\n",
        "    tokenized = word_tokenize(doc)\n",
        "    for word in tokenized:\n",
        "      # some words are not present in the model so they are skipped\n",
        "      try:\n",
        "        numerator += tfidf[word]*vectors[word]\n",
        "        denominator += tfidf[word]\n",
        "      except:\n",
        "        pass\n",
        "    tfw2v_vectors.append(numerator/denominator)\n",
        "    assert(embeddings_size==len(tfw2v_vectors[i]))\n",
        "  return np.array(tfw2v_vectors)"
      ]
    },
    {
      "cell_type": "markdown",
      "metadata": {
        "id": "l7XL0BPKlGME"
      },
      "source": [
        "Χρησιμοποιούμε τη συνάρτηση αυτή για να βρούμε τη Word2Vec αναπαράσταση της κάθε ταινίας του dataset στο οποίο εργαζόμαστε και επιβεβαιώνουμε πως το αποτέλεσμα έχει την αναμενόμενη μορφή. Ως ορίσματα δίνουμε το corpus όπως αυτό προέκυψε από την προεπεξεργασία την οποία κάναμε στην αρχή του notebook και το μοντέλο που φορτώσαμε από το Gensim το οποίο μας επιστρέφει τα vectors που αντιστοιχούν στις λέξεις."
      ]
    },
    {
      "cell_type": "code",
      "execution_count": null,
      "metadata": {
        "colab": {
          "base_uri": "https://localhost:8080/"
        },
        "id": "Z_RtK9mIjM-E",
        "outputId": "385d8048-c115-4cc2-a807-1511410f36cc"
      },
      "outputs": [
        {
          "name": "stdout",
          "output_type": "stream",
          "text": [
            "(5000, 100)\n"
          ]
        }
      ],
      "source": [
        "tfw2v = build_tfw2v(corpus_updated, w2v_model, 100)\n",
        "print(tfw2v.shape)"
      ]
    },
    {
      "cell_type": "markdown",
      "metadata": {
        "id": "P0L-QmlelTdj"
      },
      "source": [
        "Στη συνέχεια δοκιμάζουμε τον recommender με τα διανύσματα που προέκυψαν από την build_tfw2v() βάση των οποίων θα υπολογιστούν οι αποστάσεις των ταινιών. Θα κάνουμε δοκιμές για μερικές τυχαίες ταινίες για να επιβεβαιώσουμε πως ο recommender λειτουργεί και για να δούμε πόσο σχετικά είναι τα αποτελέσματά του."
      ]
    },
    {
      "cell_type": "code",
      "execution_count": null,
      "metadata": {
        "colab": {
          "base_uri": "https://localhost:8080/"
        },
        "id": "_3gcyHtkj58j",
        "outputId": "c876bdff-1678-495e-9ddd-6881ed16eee3"
      },
      "outputs": [
        {
          "name": "stdout",
          "output_type": "stream",
          "text": [
            "Film to find recommendations has ID 1477\n",
            "Its categories are ['\"History\",  \"Documentary\"']\n",
            "Its summary is: The documentary shows the development of the contemporary business corporation, from a legal entity that originated as a government-chartered institution meant to affect specific public functions, to the rise of the modern commercial institution entitled to most of the legal rights of a person. The documentary concentrates mostly upon North American corporations, especially those of the United States. One theme is its assessment as a \"personality\", as a result of an 1886 case in the United States Supreme Court in which a statement by Chief Justice Morrison R. Waite\"The court does not wish to hear argument on the question whether the provision in the Fourteenth Amendment to the Constitution, which forbids a State to deny to any person within its jurisdiction the equal protection of the laws, applies to these corporations. We are all of the opinion that it does.\" However, the Supreme Court decision did not itself address the matter of whether corporations were 'persons' with respect to the Fourteenth Amendment; in Chief Justice Waite's words, \"we avoided meeting the question\". (118 U.S. 394 led to corporations as \"persons\" having the same rights as human beings, based on the Fourteenth Amendment to the United States Constitution. Topics addressed include the Business Plot, where in 1933, General Smedley Butler exposed an alleged corporate plot against then U.S. President Franklin Roosevelt; the tragedy of the commons; Dwight D. Eisenhower's warning people to beware of the rising military-industrial complex; economic externalities; suppression of an investigative news story about Bovine Growth Hormone on a Fox News Channel affiliate television station; the invention of the soft drink Fanta by the Coca-Cola Company due to the trade embargo on Nazi Germany; the alleged role of IBM in the Nazi holocaust ; the Cochabamba protests of 2000 brought on by the privatization of Bolivia's municipal water supply by the Bechtel Corporation; and in general themes of corporate social responsibility, the notion of limited liability, the corporation as a psychopath, and the corporation as a person. Through vignettes and interviews, The Corporation examines and criticizes corporate business practices. The film's assessment is effected via the diagnostic criteria in the DSM-IV; Robert D. Hare, a University of British Columbia psychology professor and a consultant to the FBI, compares the profile of the contemporary profitable business corporation to that of a clinically-diagnosed psychopath . The Corporation attempts to compare the way corporations are systematically compelled to behave with what it claims are the DSM-IV's symptoms of psychopathy, e.g. callous disregard for the feelings of other people, the incapacity to maintain human relationships, reckless disregard for the safety of others, deceitfulness (continual lying to deceive for [[Profit , the incapacity to experience guilt, and the failure to conform to social norms and respect the law. However, the DSM has never included a psychopathy diagnosis, rather proposing antisocial personality disorder  with the DSM-IV. ASPD and psychopathy, while sharing some diagnostic criteria, are not synonymous.\n",
            "Recommended film has ID 2895\n",
            "Its categories are ['\"Science Fiction\",  \"Feminist Film\",  \"Drama\",  \"Indie\"']\n",
            "Its summary is: Note: This plot summary is a linear account of the Goldrings' story. The movie itself does not reveal all plot details in order. Allison Goldring, an upper-class, white college student, becomes pregnant with her boyfriend Jeremy Tanner . After discussing her options with both Tanner and her family, she makes the decision to travel abroad to terminate the pregnancy , as abortion is considered murder in the United States. According to Allison and Beverley, everyone including Tanner supported her decision. Tanner later denies this, though the film makes his denial seem improbable. Allison's father and grandmother are interviewed and openly support both Allison and Beverly. Her father even says that he had intended to travel to Sweden with their two younger daughters as a vacation to disguise the purpose of the trip. Unfortunately the state of New York has recently passed a law that classifies going abroad to seek a termination as \"fetal kidnapping.\" Beverly admits to being aware of the change but assumed it would be some time before it would be enforced. It is not clear how aware Allison and Jeremy were of the legal change. The law, it transpires, is a reaction to a lawsuit aimed at overturning fetal murder statues because they are enforced almost exclusively against poor minority women. Examples of such women are interviewed at Walker Point . One had used some abortifacient called a \"baby bomb.\" She was arrested as she bled out after improperly administering the drug. The other was arrested on suspicion of having a termination, which she hadn't, but did have an IUD, which is also illegal. Her descriptions of how she obtained the \"uudee\" suggest that she was also in a potentially dangerous medical situation. African American district attorney Andrea Murdoch  discovers what the Goldrings have done and prosecutes them under the new law, in large part because they are exactly the type of women targeted by the law. The criminal procedures show that doctor-patient confidentiality is no longer guaranteed. Murdoch's motivations are questioned by Jonathan Garson , the Goldrings' attorney, who suggests she is seeking some higher office, although he doesn't question her ethics. Murdoch's own statements suggest that she is angered by the racial and class disparities in enforcement, but that she does not question the propriety of fetal murder law. During the trial, Allison decides to take the stand and confesses to what she did. She does not express remorse at the time nor does she express any regret later. She says that she felt relieved to get everything out. Beverly and Garson are frustrated by her decision, since it condemn both Allison and Beverly to prison. At the end of the film, the Swedish clinic checks their pathology reports on Allison and determines that the fetus had been dead for almost three weeks prior to the procedure. The Goldrings are released, but Murdoch declares her intention to prosecute them on attempted fetal kidnapping, on the grounds that they had intended to commit the crime even if they had not be able to commit it.\n",
            "Recommended film has ID 2448\n",
            "Its categories are ['\"Political cinema\",  \"Culture & Society\",  \"Media Studies\",  \"Social issues\",  \"Documentary\"']\n",
            "Its summary is: The film examines the current and past relationships between the media, the U.S. government and corporations, analyzing the possible consequences of the concentration of media ownership. Making references to George Orwell's novel Nineteen Eighty-Four, the film argues that reality has met and in some ways exceeded Orwell's expectations about a society dominated by thought control, which is made possible by the media. According to the film, the mass media no longer report news, but manage it, deciding what makes the headlines and what is conveniently ignored, thus ultimately defining the framework upon which most other issues are discussed by the society. As an example, it is claimed that since the late 1980s there's been an agenda pursued by the major media corporations regarding the deregulation of the media market, by which news reports sell all its benefits while neglecting its disastrous results. This documentary is a critical examination of the Fourth Estate, once the bastion of American democracy. Asking whether America has entered an Orwellian world of doublespeak where outright lies can pass for the truth, director Robert Kane Pappas explores what the media doesn't like to talk about: itself. Meticulously tracing the process by which media has distorted and often dismissed actual news events, Pappas presents a riveting and eloquent mix of media professionals and leading intellectual voices on the media. From the very size of the media monopolies and how they got that way to who decides what gets broadcasted and what doesn't, Orwell Rolls in His Grave moves through a troubling list of questions and news stories that go unanswered and unreported in the mainstream media.\n",
            "Recommended film has ID 2311\n",
            "Its categories are ['\"Culture & Society\",  \"Indie\",  \"History\",  \"Drama\",  \"Comedy\",  \"Political cinema\",  \"Social issues\",  \"Documentary\"']\n",
            "Its summary is: According to Sicko, almost fifty million Americans are uninsured while the remainder, who are covered, are often victims of insurance company fraud and red tape. Interviews are conducted with people who thought they had adequate coverage but were denied care. Former employees of insurance companies describe cost-cutting initiatives that give bonuses to insurance company physicians and others to find reasons for the company to avoid meeting the cost of medically necessary treatments for policy holders, and thus increase company profitability. In Canada, Moore describes the case of Tommy Douglas, who was voted the greatest Canadian in 2004 for his contributions to the Canadian health system. Moore also interviews a microsurgeon and people waiting in the emergency room of a Canadian public hospital. Against the backdrop of the history of the American health care debate, opponents of universal health care are set in the context of 1950s-style anti-communist propaganda. A 1960s record distributed by the American Medical Association, narrated by Ronald Reagan, warns that universal health care could lead to lost freedoms and socialism. In response, Moore shows that socialized public services like police, fire service, the United States Postal Service, public education and community libraries have not led to communism in the United States. The origins of the Health Maintenance Organization Act of 1973 are presented using a taped conversation between John Ehrlichman and President Richard Nixon on February 17, 1971; Ehrlichman is heard telling Nixon that \"...the less care they give them, the more money they make\", a plan that Nixon remarked \"fine\" and \"not bad\". This led to the expansion of the modern health maintenance organization-based health care system. Connections are highlighted between Pharmaceutical Research and Manufacturers of America , the lobbying arm of the largest drug companies in the United States, lobbying groups in Washington D.C., and the Congress. Hillary Clinton, a champion of the Clinton health care plan, is shown as a crusader for change, appointed to reform the health care system in the United States by her husband, newly elected President Bill Clinton. Her efforts are met with heavy-handed criticisms by Republicans on Capitol Hill, and right-wing media throughout the country, who characterize her plan as the harbinger of socialism. When she is defeated, her punishment is to \"never speak of it again while in the White House.\" Seven years later, her silence is rewarded, as she becomes a Senator for the State of New York, a victory made possible in part by money from the health care industry; she is second only to Rick Santorum as the Senate's highest recipient of health care industry campaign donations. In the United Kingdom, a country whose National Health Service is a comprehensive publicly funded health care system, Moore interviews patients and inquires about in-hospital expenses incurred by patients, only to be told that there are no out-of-pocket payments. Moore visits a typical UK pharmacy, where pharmaceuticals are free of charge for persons under 16 or over 60, and subsidized in most cases for everyone else; only a fixed amount of £6.65  per item on a prescription was charged, irrespective of cost to the NHS. Further, NHS hospitals employ a cashier, part of whose job is to reimburse low-income patients for their out-of-pocket travel costs to the hospital. Interviews include an NHS general practitioner, an American woman residing in London, and Tony Benn. In France, Moore visits a hospital and interviews the head of obstetrics and gynaecology and a group of American expatriates. Moore rides with the \"SOS Médecins\", a 24-hour French medical service that provides house calls by physicians. Providing only their names and birth dates, the volunteers are hospitalized and receive medical attention. Before they leave, the 9/11 rescue workers are honored by a local Havana fire station. Finally, Moore addresses the audience, emphasizing that people should be \"taking care of each other, no matter the differences\". To demonstrate his personal commitment to this theme, Moore decides to help one of his biggest critics, Jim Kenefick. According to a blog posting, Kenefick feared he would have to shut down his anti-Moore website because he needed US $12,000 to cover the costs of medical treatment for his sick wife. Not wanting the U.S. health care system to trump Kenefick's ability to express his opinion, Moore sends Kenefick the money \"anonymously\". This film ends with Moore walking towards the United States Capitol with a basket full of his clothes, sarcastically saying he will get the government to do his laundry until a better day comes for the sick and hopeless who are unable to receive health care.\n",
            "Recommended film has ID 844\n",
            "Its categories are ['\"Drama\",  \"Comedy\",  \"War film\"']\n",
            "Its summary is: The film is set shortly after the World War II  in one of the suburbs of Prague . The main character Eda Souček  attends a boys' elementary school where he belongs to a class with a complete lack of discipline. After their teacher Maxová  goes insane during one of her classes, the schoolmaster  has to implement special measures. He employs a new male teacher Igor Hnízdo , who is said to be a great war hero. Authoritative Hnízdo immediately introduces corporal punishment which, as he explains, is not normally allowed but the school has received an exception from the Ministry of Education as a result of their dreadful behaviour. Despite his strict methods, the boys soon become charmed by the man. They love his battlefront stories and the fact that he is always armed and wears a uniform. Eda sees him as the very opposite of his own father  whom he considers to be too cowardly. Hnízdo makes the same positive impression on all people he meets . Nevertheless, his persona is also surrounded by many controversies. For example his war heroism is disputed as he is unable to provide any accurate information about his military service. There is even an unconfirmed rumour that Hnízdo was only guarding goats during the war. But the boys from his class ignore all negative comments and even fight those who are spreading the rumours. Hnízdo's reputation suffers after he is accused of having a sexual relationship with local twins who attend a girls' school in the same area. He is forced to leave because this is not the first time he has been involved in a similar affair. The formerly unmanageable boys begin to defend Hnízdo and call for his return. The accusation is finally withdrawn and Hnízdo comes back to the class. He states that the way they were dealing with the accusation is a proof that the physical punishments are no longer necessary.\n",
            "Recommended film has ID 3750\n",
            "Its categories are ['\"Parody\",  \"Science Fiction\",  \"Television movie\",  \"Political satire\",  \"Drama\",  \"Comedy\",  \"Political cinema\",  \"Black comedy\"']\n",
            "Its summary is: The 1997 film is set in a United States in which foreign immigration has skyrocketed: The Mayor of Los Angeles speaks only in Spanish, Rhode Island is populated mostly by Chinese-Americans, and Alabama has a congressman from India. Politics is openly reduced to a matter of catering to various ethnic groups for their votes - the Alabama congressman will only support the president if his state receives more money for Hindu temples. When an atomic weapon is used in Pakistan, an international organization makes plans to bring orphans to Idaho. Idaho governor Jim Farley  orders the state's National Guard to close its borders, as Idaho has already received more than a million refugees; he acknowledges this even though the Governor himself routinely indulges in Mexican food, Mexican soap operas, and an affair with a Mexican-American reporter . Despite the best efforts of his press secretary Jimmy Cannon , Farley remains largely oblivious to the national crisis he's the center of, since Farley is more concerned with rekindling his romance with his mistress rather than dealing with national matters. Meanwhile, the President of the United States  turns out to be an equally ineffectual leader, ruthlessly exploiting immigration to fill districts and states with those most likely to vote for his own party. He will move more Koreans to New York since Koreans are one of his core constituencies. Reputed as indecisive, the President delegates his decision-making entirely to his advisors, most notably his unofficial chief advisor, lobbyist Jack B. Buchan . Buchan, however, is less concerned with the good of the nation, and more concerned with politics, especially how the President's actions will play on television . Buchan regularly influences the President's decisions by manipulating his desire to emulate previous U.S. presidents, even going so far as to pepper presidential statements with fictitious \"quotes\" from President Dwight D. Eisenhower. Meanwhile, the NN cable network is reporting the events and influencing them at the same time. News director Mel  attempts to time events to maximize ratings, while his staff becomes polarized over the political issues involved in the conflict between the Governor and the President. Standard fare for the cable network is to show footage of crying immigrant children, which is done with the Pakistani orphans waiting to move to Idaho. As the deadline approaches, the Governor and the President call in, respectively, the Idaho National Guard and the United States Army. Tensions rise when the commanders of both units turn out to be bitter rivals from the Gulf War. Meanwhile, governors from other states send in their own National Guard units to aid one side or the other, causing the conflict to escalate into the national arena. Mexican-American pro-immigrant rioters bomb the Alamo, while anti-immigrants retaliate by bombing the Statue of Liberty because of its plaque, stating that \"We no longer want your tired, your poor or your huddled masses.\" Eventually, the Governor's girlfriend convinces him to back down from the conflict and resign, but a series of misunderstandings and mutinies leads to a major battle between anti- and pro-immigrant armed forces at the Idaho border, culminating with the president's decision to invade Idaho in what becomes the second American Civil War. At the movie's close, news reports indicate that hostilities have ceased, but the immigration issue is unresolved.\n",
            "Recommended film has ID 108\n",
            "Its categories are ['\"Thriller\",  \"Psychological thriller\",  \"Drama\",  \"War film\",  \"Prison\",  \"Political drama\"']\n",
            "Its summary is: The movie takes place in 1970. The Vietnam War is escalating and United States President Richard Nixon has just decided on a \"secret\" bombing campaign in Cambodia. Faced with a growing anti-war movement, President Nixon decrees a state of emergency based on the McCarran Internal Security Act of 1950, which authorizes federal authorities, without reference to Congress, to detain persons judged to be a \"risk to internal security\". Members from the anti-war movement, civil rights movement, feminist movement, conscientious objectors, and Communist party, mostly university students, are arrested and face an emergency tribunal made up of community members. With state and federal jails at their top capacity, the convicted face the option of spending their full conviction time in federal prison or three days at Punishment Park. There, they will have to traverse 53 miles of the hot California desert in three days, without water or food, while being chased by National Guardsmen and law enforcement officers as part of their field training. If they succeed and reach the American flag at the end of the course, they will be set free. If they fail by getting \"arrested\", they will serve the remainder of their sentence in federal prison.\n",
            "Recommended film has ID 3557\n",
            "Its categories are ['\"Drama\",  \"Comedy\",  \"World cinema\",  \"Chinese Movies\"']\n",
            "Its summary is: A sensitive and ironic portrayal of life in a Chinese industrial town, where a law clerk contends with her clients’ litany of woes, her shady boyfriend’s gambling addiction, her estranged father and the threat of toxic pollution. Xiaofen works as a clerk at a law firm located in a developing city in Southwestern China. Her job is to meet different female clients of the firm and document each case. However, just like the female clients involved in those lawsuits, Xiaofen is also in trouble. She feels anxious and unsafe. Her boyfriend, who was living with her, goes missing, possibly because he was a murderer. And her mother and her women friends lead unsettled lives. This movie consists of two alternating parts. One part comprises the actual, true stories told by the female clients whom Xiaofen meets in her job. The other part is the narrative about Xiaofen herself and her female friends. The intention of the film’s structure is to present a contemporary report on the status of women living in an inland city in China.\n"
          ]
        }
      ],
      "source": [
        "id = 1477\n",
        "films = content_recommender(id, 7, tfw2v)\n",
        "print(\"Film to find recommendations has ID {}\".format(id))\n",
        "print(\"Its categories are {}\".format(categories[id]))\n",
        "print(\"Its summary is: {}\".format(summaries[id][0]))\n",
        "for film in films:\n",
        "  print(\"Recommended film has ID {}\".format(film))\n",
        "  print(\"Its categories are {}\".format(categories[film]))\n",
        "  print(\"Its summary is: {}\".format(summaries[film][0]))"
      ]
    },
    {
      "cell_type": "code",
      "execution_count": null,
      "metadata": {
        "colab": {
          "base_uri": "https://localhost:8080/"
        },
        "id": "TFvH3PJ6mYDm",
        "outputId": "1d65e187-6d88-4168-b69e-8de270277c99"
      },
      "outputs": [
        {
          "name": "stdout",
          "output_type": "stream",
          "text": [
            "Film to find recommendations has ID 3237\n",
            "Its categories are ['\"Action/Adventure\",  \"Action\",  \"War film\"']\n",
            "Its summary is: During the Second World War, Captain Lee Mitchell  and a group of British commandos attempt to locate and kidnap the leading German rocket scientist Dr. Von Heinken . Along the way they are chased by SS and Soviet forces who were also after him.http://tobrien10.blogspot.com/2010/11/last-escape.html\n",
            "Recommended film has ID 2744\n",
            "Its categories are ['\"Adventure\",  \"Action/Adventure\",  \"Comedy\",  \"World cinema\",  \"Spy\"']\n",
            "Its summary is: The film opens with a ski chalet party sequence in Gstaad where Hubert Bonisseur de La Bath aka OSS 117 is entertaining a Chinese countess. The party is attacked by Red Chinese gunmen working for a Mr. Lee and everyone but Hubert and the Countess are killed. Returning to SDECE headquarters, Hubert is assigned to deliver a blackmail payment of 50,000 new Francs to Professor Von Zimmel, a Nazi who escaped to South America and has a microfilm list of French Nazi sympathizers. Once in Rio, Hubert is attacked at various times by relatives of Mr. Lee's gunmen, encounters a foul-mouthed American Felix Leiter-type CIA agent Bill Tremendous, the femme fatale Carlotta, Professor Von Zimmel's luchador enforcers and eventually Mossad agents intent on bringing Professor Von Zimmel back to Israel for trial. OSS 117 teams up with Dolorès Koulechov, a beautiful Israeli Army Colonel to bring Von Zimmel to Israel in the manner of Adolf Eichmann. Their lead to Von Zimmel is his son who is now a hippie. Throughout the film the main character has two main romantic interests. The first is a mysterious beauty Carlotta . The second is Israeli Army officer, Dolorès Koulechov, who spends most of the film exasperated at OSS 117's misogynistic, racist, colonial tendencies and has no interest in the main character, but warms up to him in the end. When asked by de La Bath why Koulechov does not like the dictatural Brazilian military government of the time, she lists its examples of totalitarianism that the puzzled de La Bath finds the same as the France of Charles de Gaulle. :- Do you know what a dictatorship is ? It's when people are communists, when they are cold with gray hats and boots with zippers. That's a dictatorship ! :- Then, what do you call a country with a military leader controlling everything, a secret police, a single TV channel with every information controlled by the state ? :- I call that \"France\", Miss. General De Gaulle's France...\n",
            "Recommended film has ID 3783\n",
            "Its categories are ['\"Drama\",  \"War film\"']\n",
            "Its summary is: In Northern Italy in 1944, the entire population of the village of Reanoto is massacred by the SS for helping the Italian resistance movement. The only survivors are a group of young boys in ages from 7 to 14 led by Aldo  who witness the mass execution and vow revenge. That night, a detachment of US Army paratrooper saboteurs jump into the area with a mission to destroy a strategic dam with the partisans prior to the Fifth United States Army's advance into the area. Their drop zone has been discovered by the Germans, who kill them all except the leader of the paratroopers, Captain Turner , who is rendered unconscious and goes unnoticed by the Germans when he lands in the branches of a tree. The Germans capture the demolition equipment from the dead Americans. Aldo and his friends rescue Turner by spiriting him away from the ambush. Realising that Turner needs medical attention, they kidnap a German female doctor  to nurse him to health, and keeping her captive even after Turner's recovery. In order to avenge the massacre, Aldo wants the American Captain to train him and his friends in the use of military weapons and tactics. Turner uses the opportunity as a second chance to complete his sabotage mission, using the boys instead of his late command. He has the boys steal the captured American demolition gear from the Germans, but Aldo hides the detonators until Turner leads them in their revenge. Turner and his \"Dead End Kids\" are pursued by Wehrmacht Captain Von Hecht , a professional soldier who is against the methods of the SS, which he considers to be counter-productive.\n",
            "Recommended film has ID 4225\n",
            "Its categories are ['\"Adventure\",  \"Docudrama\",  \"Drama\",  \"War film\",  \"Action\",  \"Spy\"']\n",
            "Its summary is: During World War II and a few months prior to the Normandy landings, Gus Lang, an Allied agent, is sent to occupied France in order to rescue an \"overlord\" captured by the Germans - one of the key people with intimate knowledge of when and where the D-Day invasion will actually occur. Several people will help him to succeed: a secret friend of the Allies, a vital German officer who is a highly placed mole, and the French resistance. The SS, however, will try to block their plans.\n",
            "Recommended film has ID 631\n",
            "Its categories are ['\"Mystery\",  \"Action\",  \"Black-and-white\",  \"Spy\"']\n",
            "Its summary is: The film opens with a description of the Black Tom explosion of a munitions supply located in Jersey City on the Hudson River. The explosion, which occurred during World War I was an act of sabotage by German agents. Barry Corvall , the son of a recently deceased American diplomat, has just gotten married. When he discovers that his new wife  is a possible enemy agent, he resigns from the diplomatic service to go undercover to expose an espionage ring planning to destroy American industrial capability before war breaks out. Traveling on a train in Germany, Corvall attempts to swipe a briefcase with documents in an attempt to prove that the Nazis, have been infiltrating vital industrial centers in the United States. With the help of his wife, he tries to foil the plans of the Nazi spy .\n",
            "Recommended film has ID 4923\n",
            "Its categories are ['\"War film\"']\n",
            "Its summary is:  The movie opens with clips of the US military scrambling to respond to a Soviet nuclear attack. Daniel Schorr, reporting in front of the White House, is vaporized when a nuclear weapon detonates.  In the summer of 1989, East Germany is in turmoil. Many citizens are dissatisfied with their nation’s communist leadership and demand pro-Western reforms. They also seek unification with West Germany. On October 7, Mikhail Gorbachev, a supporter of those reforms, visits East Berlin. During his return flight, the hard-line communist leadership stages a coup that deposes Gorbachev and installs  General Vladimir Soshkin as the new Soviet leader. Soshkin and the hard-liners fiercely resist the rise of glasnost and perestroika and are determined to end the uprisings in East Germany-and the rest of the Eastern Bloc-with a swift \"Chinese-style\" military crackdown in late October. The crackdown inflames popular opposition to communism. In late November, a demonstration in Leipzig is brutally repressed by the Red Army at great loss of life; two days later a demonstration at the Brandenburg Gate ends with East German soldiers killing many East Berlin residents trying to scale the Berlin Wall. Those soldiers also fire shots over the wall into West Berlin.  In mid-December, the Western Allies airlift military reinforcements to West Berlin. Soon after, US Secretary of State James Baker arrives in West Berlin to secretly meet with with the Soviet commander in East Germany, General Leonov, who strongly opposes Soshkin's crackdown; on the way to the meeting, however, Leonov is killed by a car bomb, for which a neo-Nazi group claims responsibility. After an interview with West German TV in which Soshkin implicitly threatens West Berlin, an American colonel orders that tactical nuclear weapons in West Germany be placed on high alert, and Soshkin responds with new threats, a massive deployment of the Soviet submarine fleet, and incursions of Soviet Bear bombers into Alaskan airspace. On January 25, 1990, Soshkin implements Operation Thunderbolt. The plan calls for Eastern troops to cut off transportation and supply links between West Germany and West Berlin, and the Soviet Air Force mobilizes to close off East Germany's airspace. Soshkin hopes the plan will prevent the West from entering into the Eastern sphere of influence, and cutting Berlin off from the west. NATO forces start a full-scale deployment into West Germany, and many citizens in West Germany are preparing shelters should the worst come. As the United States sends their first military convoy across the North Atlantic, the Soviets announce their intention to blockade the US Navy transports, the UN and NATO condemn the blockade, declaring it as an act of hostility for cutting off western Europe would leave it to the mercy of the Soviets. On February 18, the United States prepares to violate the blockade, they are attacked by Soviet forces; nearly a quarter of the convoy is lost before an American counter-attack clears the sea lanes. World War III has begun. The United States dispatches Martin Jacobs to the Soviet Union for talks with Soshkin. Figuring that Soshkin knows that the Soviets were losing power in Eastern Europe, Jacobs offers Soshkin an extended timetable for the Soviet withdraw from Eastern Europe in exchange for a de-escalation of the military buildup. Soshkin refuses him utterly.   | notesGlobal Thermonuclear WarEpilogue The movie rewinds to Gorbachev’s visit to East Germany. We then see the real celebrations of the fall of the Berlin Wall and the peaceful reunification of Germany: \"History...took a different course.\".\n",
            "Recommended film has ID 2563\n",
            "Its categories are ['\"Drama\",  \"Comedy\"']\n",
            "Its summary is:  United States Air Force Brigadier General Jack D. Ripper  is commander of Burpelson Air Force Base, which houses the SAC B-52 airborne alert bomber force just hours from the Soviet border. Ripper orders his executive officer, Group Captain Lionel Mandrake of the RAF , to put the base on alert, asserting that it is not a drill. The alert is sent to the patrolling aircraft, including one piloted by Aircraft commander Major T. J. \"King\" Kong  and his crew. All the aircraft commence an attack flight on Russia, and lock out unauthorized external communications through the CRM 114 Discriminator. Mandrake discovers that no order for war has been received, and tries to stop Ripper, who locks them both in his office. Ripper reveals to Mandrake that he believes the Soviets have been using fluoridation of United States' water supplies to pollute the \"precious bodily fluids\" of Americans. At The Pentagon, General Buck Turgidson  briefs President Merkin Muffley  in the \"War Room\" along with several other top officers and aides about the attack. Muffley is shocked to learn that such orders could be given without his authorization, although he had OK'ed this in the case of Soviet first-strike attack on Washington D.C. Turgidson reports that his men are trying to cycle through every CRM code to issue the stand-down order but this could take over two days. Muffley orders Turgidson to storm the base and seize Ripper, though Turgidson warns that Ripper may have already alerted his men to this possibility. Gen. Turgidson attempts to convince Muffley to let the attack continue, as their first strike on the Soviets would wipe out the majority of the Soviet missiles, and the little they could retaliate with would only cost a few million American lives. Muffley refuses, and instead brings in the Soviet ambassador Alexei de Sadeski  to get Soviet premier Dimitri Kisov on the \"Hot Line\". The President alerts the Premier to the situation, and authorizes the USSR to fire upon the US planes to stop the attack. After a heated discussion, the ambassador explains that the Soviet Union has created a doomsday device consisting of 50 buried bombs with \"Cobalt Thorium G\" set to detonate should any nuclear attack strike their country; the Soviets had conceived of this after reading a New York Times article claiming the United States was also working on such a device. The President's wheelchair-bound scientific advisor, a sinister German named Dr. Strangelove , considers that this is a ploy, as a secret doomsday device would be an ineffectual deterrent. Sadeski admits they had plans to reveal its existence the following week, as a surprise for the Premier's birthday.  U.S. Army airborne forces arrive at Burpelson, but as predicted, the base's troops consider the troops to be Soviets in disguise and open fire. Despite many casualties, the Army forces eventually overtake the base. Before he can be restrained, Ripper shoots himself. Colonel \"Bat\" Guano  forces his way into Ripper's office. He initially suspects Mandrake of being an enemy, but Mandrake convinces him otherwise. Mandrake has identified the proper recall code for the bombers from Ripper's desk blotter doodles, and SAC is able to contact the bomber planes and send them away from Soviet air space. The War Room celebrates. However, Sadeski reports that of the four planes that the Soviets had believed shot down, they cannot account for one of them - that of Major Kong. Anti-aircraft fire had ruptured the fuel tank and caused the CRM aboard Kong's plane to self-destruct, leaving the crew no way to receive the counter-order. President Muffley gives the plane's original destination to the Soviets, to allow them to concentrate on finding it. However, due to the fuel loss, Major Kong has changed the destination to a closer high-priority target, a ICBM complex at Kodlosk. On approaching the new target, the crew discovers that the bomb release mechanism has been damaged. Major Kong tries to repair the damage, but ends up falling out of the plane along with the bomb; he straddles the bomb and rides it like a rodeo cowboy as it falls and detonates. While discussing the aftereffects of the activation of the doomsday device, Sadeski notes that, within ten months, the surface of the earth will be uninhabitable. Dr. Strangelove recommends that the President gather several hundreds of thousands of people, with a high female-to-male ratio, to live in deep mineshafts in order to escape the radiation, and to then institute a breeding program to allow the United States to repopulate the surface after a hundred years have passed. Gen. Turgidson warns that the Soviets will likely do the same. At this point, Dr. Strangelove suddenly shouts that he has a plan, and miraculously gets up from his wheelchair, takes a few halting steps and shouts, \"Mein Führer! I can walk!\" The film then cuts to a montage of nuclear detonations, accompanied by Vera Lynn's recording of \"We'll Meet Again.\"\n",
            "Recommended film has ID 1609\n",
            "Its categories are ['\"Comedy film\",  \"Science Fiction\"']\n",
            "Its summary is: In the near future, a technology enabling time travel has been developed and is now in commercial use. A group of aging former Nazis conspires to alter the results of the Second World War by traveling back in time and supplying Adolf Hitler with a hydrogen bomb. To this end, they bribe the corrupt time machine pilot Karel, who agrees to assist them. On the day of the scheduled journey, Karel chokes on a croissant and dies. His identical twin brother, Jan, cannot bring himself to tell Karel's fiancée Eva and begins to impersonate Karl. He is also later mistaken for Karel by the Nazis and stumbles along with their plot. Having been a designer of the rocket-ship time machine, he is able to pilot the ship and take them all back in time. When he realizes the nature of the Nazis' plans, Jan resolves to prevent their success. After triggering several paradoxes by travelling back and forth in time, he manages to defeat the Nazis and resolve the consequences of his twin's death.\n"
          ]
        }
      ],
      "source": [
        "id = 3237\n",
        "films = content_recommender(id, 7, tfw2v)\n",
        "print(\"Film to find recommendations has ID {}\".format(id))\n",
        "print(\"Its categories are {}\".format(categories[id]))\n",
        "print(\"Its summary is: {}\".format(summaries[id][0]))\n",
        "for film in films:\n",
        "  print(\"Recommended film has ID {}\".format(film))\n",
        "  print(\"Its categories are {}\".format(categories[film]))\n",
        "  print(\"Its summary is: {}\".format(summaries[film][0]))"
      ]
    },
    {
      "cell_type": "code",
      "execution_count": null,
      "metadata": {
        "colab": {
          "base_uri": "https://localhost:8080/"
        },
        "id": "3o9nUbchmdt4",
        "outputId": "78d88ad8-dcd3-4158-e2e5-d7c86bd99041"
      },
      "outputs": [
        {
          "name": "stdout",
          "output_type": "stream",
          "text": [
            "Film to find recommendations has ID 2486\n",
            "Its categories are ['\"Family Film\",  \"Fantasy\"']\n",
            "Its summary is: Thirteen years after the original series, Timmy Turner has grown into a twenty-three-year-old man, but through maintaining a lifestyle considered immature for someone of his age he has managed to keep his fairy godparents. However, Timmy's refusal to mature greatly irritates his parents, who seem desperate to encourage him to finally leave home, and Jorgen von Strangle, who is constantly scheming up plans that will entice Timmy into giving up his fairies. However, one day Timmy winds up reuniting with a girl from his childhood named Tootie who once possessed an infatuation on him and sees that she has grown into a beautiful activist. Soon, Timmy starts to fall in love with Tootie and begins to date her, much to the chagrin of his fairy godparents, Cosmo and Wanda, who continuously scheme to repel Tootie. Meanwhile, Timmy's schoolteacher , Denzel Crocker, teams up with an oil tycoon by the name of Hugh Magnate in order to kidnap Timmy's fairies and use their magic for their own delights. At the same time, a romantic relationship develops between Tootie and Timmy, who is torn between keeping his fairies and dating Tootie. However, one day Magnate deceives and kidnaps Tootie while Crocker captures Cosmo, Wanda, and their baby son Poof, imprisoning them in a device programmed to use their magic to grant anybody's wishes. After betraying Crocker, Magnate tortures the fairies by fooling around with the wish-granting invention, which electrocutes them each time somebody makes a wish, but fortunately soon Timmy comes to the rescue of both the fairies and Tootie  and battles with both his enemy and the toy robot that Magnate used the fairies' magic to anthropomorphize, successfully freeing Tootie. However, now Timmy is forced to give up his fairy godparents, who vanish forever. Although Timmy is saddened deeply by the departure of Cosmo, Wanda, and Poof, he is happy to be free to latch on to more mature behaviors as he longed to do, but soon learns from Jorgen von Strangle that because of his courage a new law was passed in Fairy World that will now permit him to keep his fairy godparents forever as long as he makes only charitable wishes. Because of this, Tootie and Timmy plan to start a charity organization in which they will make wishes that will mend all of the world's problems or travesties, flying away in a magical van.\n",
            "Recommended film has ID 2401\n",
            "Its categories are ['\"Musical\"']\n",
            "Its summary is: The story opens in Kansas, 37 years in the past . The two pixies, the Head Pixie  and his assistant Sanderson, are driving home, after the failure of their last 37-year \"anti-fun\" plan to take over Fairy World. Meanwhile, two clown parents, nearly approaching certain doom as their train heads up ahead where the bridge is out, send their child, Flappy Bob, to safety on a small rocket (parodying the origin of Superman and his escape from [[Krypton . However, the train switched tracks to another bridge, leaving the clowns without their son. Meanwhile, HP and Sanderson find the child, and decide to transform him into their \"ultimate weapon\" for their next 37-year plan. 37 years later, in the present day, Timmy and the children of Dimmsdale begin the first day of summer vacation , having fun, along with the pixies making it more fun but also destroying the city. Meanwhile, the parents complain to the mayor that their kids could get hurt and Flappy Bob appears and offers a solution: to send all the kids to his Camp Learn-a-Torium, an overprotective and over-educational daycare center where they will be kept for the entire summer, while the parents enjoy . The Pixies appear to Timmy and suggest to him that the camp, and boredom and restriction in general, can be blamed solely on adults, a notion to which Timmy agrees . Timmy wishes for kids to be the ruling class in the world, and after an interlude in which the Pixies delight at their plan's progress , Timmy reflects on life as President while Cosmo and Wanda complain that they are stuck with the chores . The Pixies remind Jorgen von Strangle of the loophole that allows them God-parental custody over Flappy Bob, and point out that with their newfound power, the children of the world no longer need fairies. To make the takeover of Fairy World complete, the Pixies convince Flappy Bob to sign a contract that allows him total control over what the world considers fun, in exchange for control of Fairy World being given to the Pixies. Jorgen now has no choice but to  to what used to be Fairy World. Timmy tries to convince Flappy Bob that his current idea of fun  is wrong, and that his birth parents would never be proud of the way he chose in life. Timmy's plead falls on momentarily hesitant, but ultimately deaf ears as Bob signs the contract . Meanwhile, back in Pixie World, the former Fairy World, Cosmo and Wanda are set to be incarcerated when they distract Jorgen  with an over-sweet love song . As the bridge to Earth is dwindling and can only support one fairy , Cosmo sacrifices himself so that Wanda, the more dependable of the two, can find Timmy, while he and the fairies lament the situation, and Flappy Bob doubts what he did . As Flappy Bob heads to his building's furnace to burn what remains of his clown paraphernalia, he overhears HP and Sanderson laughing over their plan and the gullibility of Flappy Bob, stating that \"only a clown would fall for this... a really dumb clown\". Realizing he'd been duped, Flappy Bob changes his mind and tries to find a way to stop what he put into action. Wanda finds Timmy nearly immediately, and Flappy Bob appears soon afterwards, decked out in full clown regalia. The three begin to form their plan, with Bob drawing on his business and law education in order to find a loophole while all three do their best to have fun and draw the ire of HP and Sanderson . On cue, the Pixies appear and remind Bob of the contract, and Bob takes the opportunity to point out the loophole and the Pixies quote... \"In return for making the world what we want... Yadda, yadda, yadda... We get the power... Yadda, yadda, yadda... ...Earth will be safe and fun as defined by Flappy Bob\". He declares fun to be \"everything the way it should be,\" and the entire takeover of both Earth and Fairy World is undone. Cosmo is reunited with Timmy and Wanda again. Wanda finds Bob's birth parents, and although the Learn-a-Torium remains , Timmy however says that it is \"fun time\" and Cosmo turns the place into a concert with a giant pool and a huge skateboard ramp, and it is hinted the kids will have a normal, no Learn-a-Torium involved summer, with some limits from their parents .  In a black screen, HP and Sanderson are again seen peddling, thinking they should try a 6-week plan. At the end of the TV Movie it's been dedicated to Ray Charles.\n",
            "Recommended film has ID 286\n",
            "Its categories are ['\"Horror\",  \"Comedy-drama\",  \"Fantasy\",  \"Comedy\",  \"Black comedy\",  \"Family Film\"']\n",
            "Its summary is: A spoiled woman named Carrigan Crittenden attends the reading of her late father's will and learns he has only left her the old Whipstaff Manor in Friendship, Maine. Learning there may be treasure hidden within the manor, Carrigan and her attorney Paul \"Dibs\" Plutzker visit the house but discovered it is haunted by friendly, but lonely ghost Casper, and worse, his three obnoxious uncles Stretch, Stinkie and Fatso. Carrigan hires several professional including Father Guido Sarducci and Ghostbuster Raymond Stantz to remove the ghosts with no success. Casper learns of Dr. James Harvey, a paranormal therapist who helps ghosts complete their unfinished business and move on, and immediately falls in love with his daughter Kat. He manipulates Carrigan into contacting Dr. Harvey to visit the manor. Dr. Harvey travels the country with Kat, really in search of his dead wife Amelia's ghost. They move into Whipstaff, but Casper's attempt to befriend Kat backfires when his uncles arrive home and cause havoc. The next day, Casper tries to keep the peace between his uncles and their new mortal guests. Dr. Harvey begins to counsel the Ghostly Trio who claim they know where Amelia dwells, but Fatso pulls a prank on him. Kat begins her first day at school, and unintentionally convinces the class to hold their Halloween party at Whipstaff. She also is befriended by classmate Vic, who asks her to the dance by order of his friend Amber, the stroppy, spoiled class president who originally was going to host the party. Kat learns Casper has no memories of his life and searches the house for a way to help him remember. She finds Casper's bedroom and helps him remember his childhood. However, upon finding an old sled, he remembers how he died from a fatal illness after staying out too late in the cold. Kat finds a newspaper article, describing how Casper's father attempted to create a machine named Lazarus, designed to resurrect his dead son but was sent to an insane asylum. As Casper and Kat go to find Lazarus, Carrigan and Dibs sneak in after the Ghostly Trio drag Dr. Harvey out for a happy hour. While out, the Trio consider killing Dr. Harvey, certain that he will become a ghost and join their band, but when he tells them that he won't force them out of their house, they decide they like him too much to simply murder him. Meanwhile, Casper and Kat find a secret passage down to the laboratory of Casper's father, while Carrigan and Dibs spot a vault where they assume the treasure is. Upon learning Lazarus works by inserting a formula which brings back the dead, the two steal it with the intention on using its power to rob banks as ghosts then come back to life to enjoy their ill-gotten riches. Upon finding the potion will work on only one person, the two end up turning on each other, leading to Carrigan falling off a cliff but returning as a ghost. Carrigan confronts Casper and Kat, spiriting herself into and out of the vault with the treasure, and seemingly kills Dibs by throwing him out of a nearby window. Casper and Kat fool Carrigan into admitting she has no unfinished business, forcing her to cross over to the afterlife. Casper's 'treasure' is revealed to be an autographed baseball signed by Brooklyn Dodgers player Duke Snider. Dr. Harvey and the Ghostly Trio appear, the former having died by falling down a manhole while drunk. Dr. Harvey has no memories of Kat, who is heartbroken, but when she reminds him of who she is, he is shocked at what he has done to himself. Casper gives up the chance to become human by allowing Dr. Harvey to use Lazarus and reunite with Kat. The Halloween party kicks off downstairs, but Kat realizes she was tricked by Vic and Amber  when Casper's uncles chase them out of the manor. Casper sits sadly alone in his room until the spirit of Amelia appears and grants him a wish in gratitude for caring for her daughter and husband - to spend one night alive, allowing him to dance with Kat until ten o'clock. Amelia then visits Dr. Harvey and tells him that the reason why he couldn't find her ghost was because she had already crossed over and entered the afterlife, though Casper's uncles were able to get in contact with her in gratitude for giving them the most fun they've had in years. She tells him he can move on before leaving. Ten o'clock chimes, and Casper kisses Kat just as he transforms back into a ghost, scaring away all of the party guests, leaving Casper, Kat, Dr. Harvey and the Ghostly Trio to celebrate Halloween themselves.\n",
            "Recommended film has ID 27\n",
            "Its categories are ['\"Fantasy\",  \"Family Film\",  \"Drama\",  \"Adventure\"']\n",
            "Its summary is: In the small Irish town of Rathcullen, County Kerry, Darby O'Gill  is the aging caretaker of Lord Fitzpatrick's  estate, where he lives in the nearby gatehouse with his lovely, almost grown, daughter Katie . Darby spends most of his time in the town pub, regaling his friends with tales of his attempts to catch the leprechauns, in particular, their king, Brian Connors . Darby is past his prime as a laborer, so Lord Fitzpatrick decides to retire him on half-pay and give him and Katie another cottage to live in, rent-free, and give his job to a young Dubliner named Michael McBride . Darby begs Michael not to tell Katie that he is being replaced, to which Michael reluctantly agrees. That very night, Darby is captured by the leprechauns while chasing Cleopatra, his runaway horse , on top of the fairy mountain Knocknasheega. Darby learns that King Brian has brought him into the mountain so that Darby can avoid the shameful admission to Katie about losing his job. However, Darby tricks the leprechauns into embarking on a fox hunt by playing \"The Fox Chase\" for them on a beautiful Stradivarius violin, loaned to him by King Brian. The leprechauns mount their tiny white horses and leave through a large crack in the mountainside wall, from which Darby escapes. King Brian, angry for being made a fool of, comes to fetch Darby, and another battle of wits ensues over a jug of poitín. Darby traps King Brian by getting him so drunk that he does not notice the sunrise, which strips him of his powers until the next sunset. Trapped, Brian is forced to grant Darby three wishes before he can return home. Darby wisely makes his first wish be that King Brian not return to Knocknasheega, but to remain at his beck and call for a fortnight , giving him time to think of two other, equally wise wishes. King Brian is furious, but forced to comply. The wily leprechaun king manages to trick Darby into  wasting his second wish by appearing only as a rabbit in Darby's burlap sack, causing Darby unwittingly to say to Michael: \"I wish you could see him [the King]\". King Brian meets Darby halfway by appearing to both Michael and Katie in his true form in their dreams. Darby decides that he wants to use his third and last wish to ensure Katie's happiness. King Brian says to Darby that what Katie probably wants most of all is a \"good, steady lad with temperate ways\". Someone, in short, like Michael. After a rocky beginning, Katie and Michael begin to show signs of growing affection for each other. Katie believes Michael is merely seasonal help, as her father could not bring himself to break the news of his retirement . However, Michael has an arrogant rival in Pony Sugrue , the town bully with his eyes on both Katie and Michael's job. Katie, angered at finding out the truth about her father's retirement from Pony's unpleasantly meddlesome mother , injures herself in a fall on Knocknasheega while trying to catch Cleopatra at night. The banshee appears, heralding Katie's death and sending the cóiste-bodhar, a spectral coach driven by a dullahan, to carry her soul off to the land of the dead. Desperate, Darby elects to use his final wish to go in his daughter's place. King Brian is deeply saddened at Darby's wish, but grants it, but once Darby is on his way to the next world, King Brian reappears in the Death Coach and tricks Darby into making a final fourth wish . Because he is only allowed three wishes, this negates all the previous wishes and spares Darby's life. Darby is saved and King Brian has  the last laugh in their running battle of wits. Katie's fever has broken and she and Michael reveal their love for each other. Michael also fights Pony Sugrue at the pub; getting his just revenge for Pony's attempt to get him fired by clubbing him on the head and pouring whiskey all over him to make him appear drunken and incompetent. Michael soundly thrashes Pony and knocks him cold. Finally, Darby and Michael depart arm-in-arm, joining Katie outside in the wagon for a happy ending, with Michael and Katie singing a final duet together of \"Pretty Irish Girl\" .\n",
            "Recommended film has ID 3749\n",
            "Its categories are ['\"Thriller\",  \"Science Fiction\",  \"Vampire movies\",  \"Horror\",  \"Adventure\",  \"Fantasy\",  \"Film adaptation\",  \"Drama\",  \"Romantic drama\",  \"Romance Film\"']\n",
            "Its summary is: In Seattle, a city not far from Forks, Victoria  attacks and bites Riley Biers , in order to begin creating an army of newborns set to destroy Bella Swan . Back in Forks, Edward Cullen  and Bella discuss the complications of becoming an immortal vampire. At 18 years old, one year older than the age Edward was when he became a vampire, Bella expresses her aversion to the idea of marrying so young, though Edward refuses to turn her until they are married and she's had various human experiences she would otherwise miss. While Charlie Swan ([[Billy Burke  investigates the disappearance of Riley Biers, Edward suspects his disappearance was caused by the newborn vampires. Furthering his suspicions is the intrusion of Riley into Bella's room. Although Edward fears for her safety, Bella insists that Jacob Black  and the rest of the werewolf pack would never harm her, but Edward is still not convinced. Bella goes to La Push to see Jacob, and returns home unharmed. During one of her visits, Jacob confesses that he is in love with Bella, and forcefully kisses her. Furious, she punches him and breaks her hand, and Edward later threatens Jacob and tells him to only kiss her if she asks him to. Bella even revokes the invitations of Jacob and his pack members to her graduation party, but when Jacob apologizes for his behavior, she forgives him. Meanwhile, Alice  sees a vision that the newborn army is attacking Forks led by Riley Biers. Jacob, accompanied by Quil  and Embry  overhear this, which leads to an alliance between the Cullens and Wolf pack. Later, the Cullens and the wolves agree to a meeting place and time to train and discuss strategy. During the training Jasper  explains to Bella that he was created by a vampire named Maria to control a newborn army. He hated his original existence and upon meeting Alice, joined the Cullens with her. Bella sees the true bond between a mated vampire pair and begins to understand Jasper better. Despite her reluctance to marry, Bella realizes that spending eternity with Edward is more important to her than anything else and agrees to marry him. Edward and Bella camp up in the mountains to hide Bella from the bloodthirsty newborns. During the night, Bella overhears a conversation between Edward and Jacob, in which they temporarily put aside their hatred towards each other. In the morning, Jacob overhears Edward and Bella discussing their engagement and becomes very upset. Before he can run off to get himself killed in the fight with the newborns, Bella desperately asks him to kiss her, and she realizes that she has fallen in love with him. Edward finds out about the kiss but is not angry, as Bella says she loves him more than Jacob. When Victoria finds Bella's hiding spot, Edward kills her while Seth kills Riley. The Cullens and the Quileute wolves, meanwhile, destroy her \"army\", though Jacob is injured saving Leah Clearwater from a newborn. Several members of the Volturi arrive to deal with the newborn army. They also see that the Cullens are guarding the newborn, Bree Tanner , who had refused to fight and surrendered to Carlisle. Jane  tortures Bree to get information, then instructs Felix to kill her, despite the Cullens' efforts to spare her. When Jane notes that Caius will find it interesting that Bella is still human, Bella informs her that the date for her transformation has been set. Bella visits the injured Jacob to tell him that even though she is in love with him, she has chosen to be with Edward. Saddened by her choice, Jacob reluctantly agrees to stop trying to come between her and Edward. Bella and Edward go to their meadow, where she tells him she has decided to do things his way: get married, make love, then be transformed into a vampire. She also explains that she never has been normal and never will be; she's felt out of place her entire life, but when she is in Edward's world she feels stronger and complete. At the end of the story they decide they need to tell Charlie about their engagement.\n",
            "Recommended film has ID 1656\n",
            "Its categories are ['\"Sword and sorcery\",  \"Fantasy\",  \"Adventure\"']\n",
            "Its summary is:  Satisfied at Camelot's conditions, Merlin decides to go on vacation in order to rejuvenate. This vacation nap is supposed to last a few months, but when Merlin awakes, he finds he has slept for fifty years. Upon his return to Camelot, he discovers a downtrodden place. Almost all of those he knew have died; Lord Weston runs the kingdom; and the Holy Grail has departed from the castle. However, Merlin's protective enchantments have held invaders in check. A young thief named Jack and his tagalong pig Sir Snout stowaway in a cart entering Camelot, angering its driver Squire Brian. Jack is no ordinary vagrant, as he possesses some rudimentary magical skills. Jack enters the chamber of Yvonne, granddaughter of Sir Gawain and steals a pendant. Yvonne enters and while Jack hides, Master Graham, a local blacksmith whom she loves, visits her. Jack then attempts to steal Merlin's wand while Merlin concentrates on the whereabouts of the Grail. Merlin senses the visitor, and at first evicts him, but later apprentices Jack after a vision of the Holy Grail appears to both of them. The only training the film shows is Merlin tempting Jack with food while telling Jack to resist his hunger and seek a ring that was lost in the castle (which turns out to be the former [[Round Table . It is around this time that Jack learns the truth of Brian, who is actually Brianna. She disguises herself in order to avenge a wrong done to her family. In his search for the grail, Merlin suspects something is afoul in Camelot that caused the Grail to depart. Merlin confronts Yvonne  and her guardian Master Burton. Later while touching the Grail's stand, Merlin sees a vision in which he learns the truth of his absence. The Lady of the Lake enchanted him and created Jack. Thus, Jack's father is Merlin and his mother is the Lady.  Barbarians threaten Camelot's door, and knights including Brian want to use an enchanted cave in order to surprise the invaders, who they think are building a dam to drown the kingdom. Jack agrees to lift Merlin's enchantment on the passage, but the knights find no construction. In the meantime, the Barbarians directed by the Lady of the Lake enter the passage and breach Camelot's walls, which are vulnerable from the inside. Realizing the impending doom, Merlin tells Jack the truth of his origins. Merlin then magics a bridge over the barbarian army to safety and commands the townspeople, including Jack, to escape. As Jack steps off the bridge he breaks the spell to foil the pursuers. Meanwhile, Merlin was left in the walls of Camelot and is decapitated by Rauskaug, the leader of the barbarians.  The remaining people of Camelot have traveled the countryside for several months, seeking the Grail while fleeing their enemy. Jack is frustrated that his concentration does not give him insight, so the Lady of the Lake sends him a vision of the Grail's whereabouts. The group goes there, to discover that the water is cursed and several knights are murdered by a beast as they attempt to swim to the Grail's cave. Meanwhile, the Lady has told Rauskaug of their location and the barbarians begin their pursuit. The film centers on the crimes of the Camelot's guardians, which they believe prevent their reaching of the Grail. Yvonne's parents presented her as Gawain's kin but this ruse is discovered when she begs Jack to explore her past through visions. Through these it is discovered that Master Burton and Lord Weston had oppressed the surrounding peoples with taxes, unfair trade, and devious agreements. This is the source of Brianna's anger, as her family was robbed of its property through such a contract. Before Jack goes through Yvonne's past, Yvonne and Graham  go behind a tree and kiss. In that time Jack and Brianna decide to give in to love and start to kiss. They are caught kissing by the other two. Jack tries to put it off as a joke, but Yvonne and Graham now know Brian is a girl, they don't tell anyone. In the meantime, Burton hopes to betroth Yvonne to a Scottish king and indenture the remaining citizens of Camelot to that lord for personal gain. Yvonne and Jack reveal Burton and his wife's past treachery, and instead of a quick execution Jack hopes a trial will cleanse Camelot of its sins. Instead Brianna takes justice into her own hands and kills the pair as the barbarians approach. While the two sides battle, Lord Weston accompanies Jack to the cave. Jack parts the waterfall, and they enter the cave. Jack warns Weston that he is the true stain on Camelot and advises him not to take the grail. When Weston touches it, his impurity turns him to dust. The Lady of the Lake appears and offers Jack a chance to become powerful. Instead he rejects his mother  and makes a wish of the Grail: Jack says that the Grail may do what it wishes with him, if it will only end the destruction outside. The Grail accepts this unselfish act, and reanimates the dead warriors. Graham holds it aloft and promises a new Camelot will be built. Graham and Yvonne marry. During the reconstruction, Sir Snout tells Jack to speak the name of the land of the dead  in order to see his father. Jack goes to Merlin, and the two are allowed to spend the time they didn't have as father and son. The film concludes by hinting that Jack and Brianna are now married and probably going to have children. The film ends when Jack picks up Brianna as she blows out a candle, ending the movie.\n",
            "Recommended film has ID 741\n",
            "Its categories are ['\"Costume drama\",  \"Musical\",  \"Fantasy\",  \"Romantic fantasy\",  \"Romance Film\"']\n",
            "Its summary is: This is a musical twist on the classic love story of Cinderella and Prince Charming. Prince Edward of Euphrania returns home after being sent to meet the princess Selena, whom his parents have arranged for him to marry. However, The Prince reveals he did not propose to the princess he was visiting, and angrily denounces arranged marriages . Edward decides to tell his parents that he wants to marry for love. They, however, are more interested in the political side, . They fail to sway the prince, however. Meanwhile, Cinderella, on the same day that her father was buried, is banished to the cellar and made to work as a servant to her cold-hearted Stepmother and her two vindictive daughters, Isabella and Palatine who treat her harshly and cruelly. Cinderella finds some comfort in remembering happier times . Whilst putting flowers by her parents' grave, she inadvertently stumbles upon the prince, and his friend John, who are visiting the crypt. The Prince sardonically talks about his dead ancestors, with whom he will one day be buried, . Back at the castle, the King of Euphrania is advised that a marriage between Edward and a Princess from one of Euphrania's neighboring countries  would help prevent war. A ball is seen as the perfect way to help Edward choose his bride, . The Prince hates the idea, though his cousin Montague is delighted, . When news arrives that the country which is home to the princess Edward has declined to marry intends to make war on Euphrania, Edward has no choice but to accept. However, less than half the princesses accept the invitation, so the local nobility, including Cinderella's Stepmother and Stepsisters, are invited. The Stepmother and Stepsisters demand that Cinderella sew all three of them elegant gowns for the ball from the fabric of their old dresses. Cinderella has no idea what to do. As luck would have it a fairy godmother, who has a talent for sensing the wishes of those who are pure in heart, arrives and while Cinderella rests, creates three beautiful gowns. That night, the Stepmother and Stepsisters depart for the ball leaving Cinderella alone. Cinderella's Fairy Godmother returns and informs Cinderella that she too can go to the ball. A coach and horses are magically prepared and Cinderella is sent off to the ball with a warning that the magic can only last until midnight, . It is love at first sight when Cinderella and Edward meet at the ball, . As the clock strikes midnight, Cinderella races away, leaving only behind her glass slipper, . Edward sends his servants out far and wide in search of the woman who fits the glass slipper. The search turns out empty-handed. Edward builds a monument for the slipper and hopes that one day his lost love will turn up. John is also suffering as a result of love- he is in love with a noblewoman, but his position forbids them to be together, . Finally, frustrated by his fruitless search, Edward breaks the monument, tossing the slipper into the woods where Cinderella finds it. Cinderella and Edward meet again and head back to the castle. They are greeted by the Stepmother and Stepsisters. Edward asks the permission of the Stepmother to marry Cinderella and she gives full permission, if only to get Cinderella off her hands. Cinderella tells her Stepmother and Stepsisters that she forgives them for their abuse. In the Throne Room, Edward and Cinderella go before the King and Queen. Whilst the King and Queen find Cinderella to be charming, something seems to be troubling the King. He takes the Lord Chamberlain aside and tells him that there is no way his son and Cinderella, a non-royal, can be married. The Lord Chamberlain conveys this to Cinderella, explaining also that a military alliance through marriage must be established with one of the neighboring kingdoms in order to protect against war and to secure the safety and future existence of Euphrania. Along with this disheartening news it is also explained that she will have to be exiled that very night. Brokenhearted, Cinderella asks the Lord Chamberlain to tell Edward that she never loved him, because she knows that Edward will try and find her because of his love for her, . Edward, knowing he's fighting a losing battle, agrees to marry whomever the King and Queen choose, but says that his marital duties will go no further than the altar. Cinderella, living peacefully in exile, still thinks of Edward, . Her Fairy Godmother arrives and asks Cinderella why she isn't at the castle as Edward is getting married that day. Cinderella, surprised, asks who Edward is marrying. The Fairy Godmother doesn't know but plans to set things right. Back at the Castle, as the wedding is taking place, everyone is surprised when Cinderella shows up in a wedding gown. The King interrupts the wedding and he and his council meet in private. The fairy godmother joins the discussion and convinces the king to change the law, so that Edward can marry the girl of his choice. In a surprising twist, brought about by the Fairy Godmother's magic, Edward's cousin and his chosen bride fall in love at first sight, and marry, thus fulfilling the alliance after all. Cinderella and Edward live happily ever after.\n",
            "Recommended film has ID 4744\n",
            "Its categories are ['\"Short Film\",  \"Musical\",  \"Children\\'s\",  \"Animation\"']\n",
            "Its summary is: On the countertop, Bob and Larry welcome everyone to the show. Larry is acting nervous because he's hiding a toy aardvark behind his back. Bob asks why he's doing this Larry responds because he broke the aardvark craft which belongs to his father  following a trip to Indianapolis and since his father loves the animal he's afraid he'll hate him for breaking it. Bob is shocked and it also reminds him of a letter they got from a boy in Iowa who has been stealing things from others and is ashamed to go back to God because he thinks God hates him. And so, Bob plays the story. Darby played by Junior Asparagus resides at the O' Gill farm and is the son of a Kansas floss farmer who, more than anything else in the world, just wants to have fun. When he learns about the Wonderful Land Of Ha’s – an amusement park with all the fixins – and its mysterious Wizard who promises to make his dreams come true, Darby is determined to go with his money despite his father warning that it is for college in the future. When his father tells him he’s needed to help with the harvest, Darby decides that nothing is going to stop him and he makes a choice that will change his life forever. The Silly Song focuses on Bob and Larry in a safari scene on the countertop looking at various animals. During their discussions, Larry reveals that he was told the difference between monkeys and apes (\"If it has a tail its a monkey, if it doesn't have a tail it's an ape\" and than goes on to use this theory on everything else around him such as cows, comets, kites, lions, and even Bob. Back to the story, Darby, with his pet pig Tutu by his side, flees the cornfields and sets off to find the Wonderful Land Of Ha’s as a tornado sweeps them away while inside a farmhouse. Along the way he meets a bored scarecrow, a tin man who wants to ride roller coasters, and a lion that craves cotton candy. Each with their own dreams, they set off to see the Wizard in the Wonderful Land of Ha's, the funnest place on Earth. They spend a great deal of time there with their dreamed activities but then run out of money, whereupon they are forced to leave. The wizard  informs Darby that he is a phony business man who used his wizard identity to make money for his living. Darby is disappointed and afraid that his father will hate him for spending the funds planned for college and is upset that the businessman will give him nothing due to being broke on money. When Darby argues with the wizard about the commercial lies and threatens to inform the world of his intents, the businessman keeps him hostage in the basement and continues his business. However Darby's friends eventually break him out of the basement and publicly humiliate the fake Wizard as well as a bully that taunted Darby throughout the film about his decision. In the ending Darby sadly leaves his friends and goes back home and apologizes to his dad and offers to become a slave but his father refuses his offer and accepts him as his son despite the sin. Back at the kitchen, Larry has learned that his dad will love through thick and thin because he loves him and God. And the boy learns that he can always come back to God. Larry then pulls out his fathers toy chameleon which eyes start falling off.\n"
          ]
        }
      ],
      "source": [
        "id = 2486\n",
        "films = content_recommender(id, 7, tfw2v)\n",
        "print(\"Film to find recommendations has ID {}\".format(id))\n",
        "print(\"Its categories are {}\".format(categories[id]))\n",
        "print(\"Its summary is: {}\".format(summaries[id][0]))\n",
        "for film in films:\n",
        "  print(\"Recommended film has ID {}\".format(film))\n",
        "  print(\"Its categories are {}\".format(categories[film]))\n",
        "  print(\"Its summary is: {}\".format(summaries[film][0]))"
      ]
    },
    {
      "cell_type": "markdown",
      "metadata": {
        "id": "oCdPYYrQm1hk"
      },
      "source": [
        "Από τα αποτελέσματα του recommender μπορούμε με ασφάλεια να συμπεράνουμε πως δουλεύει ορθά και πως τα αποτελέσματά του έχουν πολύ κοντινά θέματα με αυτά της ταινίας που του δώσαμε ως όρισμα."
      ]
    },
    {
      "cell_type": "markdown",
      "metadata": {
        "id": "PJyWEcOWt1Bg"
      },
      "source": [
        "## Ανάλυση αποτελεσμάτων"
      ]
    },
    {
      "cell_type": "markdown",
      "metadata": {
        "id": "NPVK7Z5c1p5F"
      },
      "source": [
        "### Σύστημα συστάσεων βασισμένο μόνο στο tfidf\n",
        "\n",
        "- Σε markdown περιγράψτε τι προεπεξεργασία κάνετε στα κείμενα και γιατί.\n",
        "\n",
        "- Περιγράψτε πως προχωρήσατε στις επιλογές σας για τη βελτιστοποίηση της `TfidfVectorizer`. \n",
        "\n",
        "- [Cherry-picking:](https://www.wikiwand.com/en/Cherry_picking) Δώσετε παραδείγματα (IDs) από τη συλλογή σας που επιστρέφουν καλά αποτελέσματα μέχρι `max_recommendations` (τουλάχιστον 5) και σχολιάστε.\n",
        "\n",
        "- [Nit-picking:](https://www.merriam-webster.com/dictionary/nit-picking) Δώστε παραδείγματα (IDs) από τη συλλογή σας που επιστρέφουν κακά αποτελέσματα και σχολιάστε.\n",
        "\n",
        "- Ποια είναι συνολικά τα πλεονεκτήματα και μειονεκτήματα ενός recommender βασισμένου στο tfidf;"
      ]
    },
    {
      "cell_type": "markdown",
      "metadata": {
        "id": "FbucG1NrnNNR"
      },
      "source": [
        "* Στο στάδιο προεπεξεργασίας δεδομένων αρχικά κάναμε όλες τις λέξεις να αποτελούνται μόνο από πεζά γράμματα ώστε να μην υπάρχει διαφορά σε λέξεις που διαφέρουν ως προς το αν είναι γραμμένες με κεφαλαία ή όχι. Στη συνέχεια αφαιρέσαμε stopwords και σημεία στίξης ώστε να κρατήσουμε μόνο λέξεις που προσδίδουν σημασία στο κείμενο. Αφαιρέσαμε πολύ κοινές λέξεις όπως η λέξη film που εμφανιζόταν στα περισσότερα κείμενα και αφαιρέσαμε τις πολύ μικρές λέξεις που αποτελούνται από λιγότερα από 3 γράμματα. Τέλος, κρατήσαμε μόνο λέξεις που απαρτίζονται από πεζούς λατινικούς χαρακτήρες ώστε να αφαιρέσουμε αριθμούς, urls και χαρακτήρες άλλων γλωσσών πέραν της αγγλικής.\n",
        "* Για τη βελτιστοποίηση της TfidfVectorizer αυξήσαμε την παράμετρο min_df που καθορίζει το ελάχιστο πλήθος κειμένων στα οποία εμφανίζεται κάποια λέξη που θα κρατήσουμε στο λεξιλόγιο όπως και μειώσαμε την παράμετρο max_df που κάνει ακριβώς το αντίθετο. Επιπλεόν, μειώσαμε το πλήθος των χαρακτηριστικών κρατώντας τις πιο σημαντικές από τις λέξεις ορίζοντας την παράμετρο max_features. Με τον τρόπο αυτό μειώναμε τις διαστάσεις του προβλήματος όσο παρατηρούσαμε βελτίωση του recommender. Όταν πια παρατηρήσαμε πως οι προτάσεις του recommender δεν βελτιώνονταν αλλά συνέβαινε το αντίθετο ξέραμε πως είχαμε ήδη περάσει κοντά από τη βέλτιστη TfidfVectorizer και επιστρέψαμε σε αυτή.\n",
        "* Παρακάτω δίνουμε παραδείγματα cherry-picking:"
      ]
    },
    {
      "cell_type": "code",
      "execution_count": null,
      "metadata": {
        "colab": {
          "base_uri": "https://localhost:8080/"
        },
        "id": "8xJuZy_LrLmr",
        "outputId": "47d13b4f-15b6-4bed-e886-7c9ea049477e"
      },
      "outputs": [
        {
          "name": "stderr",
          "output_type": "stream",
          "text": [
            "/usr/local/lib/python3.7/dist-packages/scipy/spatial/distance.py:720: RuntimeWarning: invalid value encountered in double_scalars\n",
            "  dist = 1.0 - uv / np.sqrt(uu * vv)\n"
          ]
        },
        {
          "name": "stdout",
          "output_type": "stream",
          "text": [
            "Film to find recommendations has ID 3614\n",
            "Its categories are ['\"Biographical film\",  \"Drama\"']\n",
            "Its summary is: The film opens at the 1937 Academy Awards, where Biberman's wife, Gale Sondergaard , wins the first ever \"Best Supporting Actress\" Oscar. Although the anti-Fascist sentiment in her acceptance speech gets her labeled a \"commie\" by some observers, she and Biberman  are placed under contract at Warner Bros. He first comes under scrutiny more for his Jewish background than his political activities. Yet, with Cold War paranoia growing, a group of Hollywood directors and actors — Biberman, Sondergaard, Danny Kaye, and Dalton Trumbo among them—are labeled Communists and questioned before Congress. After refusing to testify against his colleagues, he is imprisoned in the Federal Correctional Institution at Texarkana for a period of six months. Once released, he discovers his Hollywood career is finished.  Sondergaard suggests her husband direct a screenplay about the real-life 1950-51 strike waged by Mexican-American miners against the Empire Zinc Company in Bayard, New Mexico written by Michael Wilson, also a victim of the blacklist, and Biberman's brother Michael. She feels the lead role of Esperanza Quintero, who rallied the wives of the unemployed miners and urged them to support their husbands, is an ideal way to jump-start her stagnating career. Biberman agrees, but after meeting with the people who participated in the strike and being inspired by their passion, he decides all roles should be played by ethnic actors. Because the film has no studio backing and most Hollywood players fear being associated with Biberman and the project, he eventually casts local residents from Grant County, New Mexico and members of the International Union of Mine, Mill and Smelter Workers, Local 890 to fill most of the roles. Juan Chacón, the Union Local president, is cast as the fiery Ramon Quintero opposite Mexican actress Rosaura Revueltas as his wife Esperanza. Will Geer is one of only five Hollywood actors to accept a role in the production. The FBI investigates the film's financing, attempts to steal the film's negatives, tells film-processing labs not to work on the film when they are unable to locate them, incites locals who are unhappy with the film crew's presence to set fire to many of the sets, and eventually deports Revueltas on bogus charges. Biberman stands his ground and completes the film, using scenes with Revueltas that were shot in her native Mexico and then smuggled into the US.\n",
            "Recommended film has ID 1025\n",
            "Its categories are ['\"Thriller\",  \"Heist\",  \"Crime Comedy\",  \"Action/Adventure\",  \"Drama\",  \"Comedy\",  \"Film adaptation\",  \"Crime Thriller\",  \"Action\"']\n",
            "Its summary is: When three great, has-been actors meet at the funeral of a legendary Hollywood agent, their alcoholic reunion leads them to visit the Hollywood Sign. There they find the body of a man - leading them to uncover an in-progress scam for stealing millions from a Las Vegas casino - which originated as a movie plot written by one of the actors' ex-girlfriends - who could not get her script produced. Desperate to make a come-back, the three risk their lives for production capital... by writing themselves into the \"script.\"\n",
            "Recommended film has ID 2633\n",
            "Its categories are ['\"Documentary\"']\n",
            "Its summary is: Movie business is a powerful magnet for the inhabitants of Ouarzazate, Morocco. Many are those who dream of making it and getting rich thanks to the film industry, but it is just a decoy. Their salaries are still meager, and they make just enough to survive, even when they get real roles in major budget productions. The documentary follows in the footsteps of a young man who worked with Brad Pitt on Babel. Even so, he still lives modestly in the hills near Ouarzazate. The majority of people around the world look at the films as a way of entertainment or as a means to enrich one’s culture. For others, the film actors are very lucky and rich just because they are famous. Whereas, there are a kind of people who look at the films in a different way because they consider them like manifactories that provide work and therefore insufficient money to the poor workers – actors... Behind the Tichka mountains, especially in the city of Ouarzazate and around, many professional actors, who didn’t went for courses in acting schools, give the impression while whatching them in famous films that they have wonderful palaces like those where they act… Yet, the reality is something different .. This documentary follows the life of Maher, a child who waits for film productions to arrive to work as an actor. When he gains his modest salary, he goes for paying the room rent and gives the rest to his mother… He, of course, denies what he needs for himself as a child and that for the sake of his small family… The documentary, also, presents a woman who successfully performs her roles ; but, she is not lucky because though she plays important roles, they pay her as an extra… Another example is an old man who has started building his modest house since 1962 when he played a role with the famous Italian director Pier Paolo Pasolini. After each film in which he works, he adds a wall or a door to his house which hasn’t been finished up to now… The documentary, moreover, looks for Boubker, who performed an important role with Brad Pitt in the famous film Babel and tries to shed light on the paradox in which this young actor lives. People think that Boubker lives like the famous Hollywoodian actors since he was invited to the international festival of Cannes as a great actor ; however, the reality is that he is still living among mountains and needs help to achieve his dream to speak good English and to be a great actor in future… The Silence’s Echo therefore, re-shoots these actors’ roles in the international films for which they work in a way that turns the positions upside down to give a voice to the muffled and to create an image to the obscured faces. it sheds light on the psychological, social, and financial state of the poor actors and extras to widen their space in the existence…\n",
            "Recommended film has ID 495\n",
            "Its categories are ['\"Culture & Society\",  \"Biography\",  \"Social issues\",  \"Documentary\"']\n",
            "Its summary is: The Teamsters' strike against Overnite began on October 24, 1999. James P. Hoffa had been elected president of the Teamsters in the fall of 1998, and had campaigned on a promise to unionize Overnite and securing a contract for its 13,000 workers. The Teamsters represented only a fraction of Overnite's workers, but believed they could use other means to win company recognition of the union. Initially, about 2,000 workers walked the picket line in 12 states. The strike turned violent, however, and both sides accused the other of bribery, spying, intimidation and more. By August 2002, only 300 to 600 workers remained on strike. The Teamsters called the strike off without securing a contract or union recognition.Greenhouse, \"Teamsters End 3-Year Strike Against Trucker Without Contract,\" New York Times, October 26, 2002. American Standoff focuses primarily on two Teamster members and a staff organizer and how they are affected by the strike. However, the film roves over the entire United States, visiting Memphis, Atlanta, Chicago, Boston, and Las Vegas. The strike is placed in the context of Hoffa's struggle to secure his political base within the Teamsters' union. Hoffa not only faced political attacks from union reformers but also from other union leaders who believed they could unseat the newly-elected president in the 2002 election.Greenhouse, \"Bitter 6-Month Strike at Overnite Poses a Test for Teamsters' Chief,\" New York Times, May 7, 2000. The internecine struggle for power in the Teamsters limits the effectiveness of the union's response, although Hoffa appears to emerge stengthened.Ross, \"INTERVIEW: Behind The Strike Lines: 'American Standoff' Director Kristi Jacobson Chronicles the Teamsters,\" IndieWire, June 7, 2002. The film concludes in mid-2001, with the strike still lingering, workers increasingly disenchanted, and the union struggling to find an acceptable exit strategy.\n",
            "Recommended film has ID 4993\n",
            "Its categories are ['\"Musical\",  \"Comedy\",  \"Musical comedy\"']\n",
            "Its summary is: It is the story of a young musician Dick Powell, sent to Hollywood, to become a star. It doesn't work out at first but he triumphs in the end. Great musical numbers and light comedy. In his second  film appearance, a youthful Ronald Reagan appears briefly as the announcer during a scene at a Hollywood film premiere. The film also co-stars comedian Ted Healy, as a wise-cracking Hollywood photographer. Healy is perhaps best known for creating the Vaudeville act which later evolved into The Three Stooges. Ironically, \"Hollywood Hotel\" was released in January 1938, less than a month after Healy's untimely death.\n",
            "Recommended film has ID 3474\n",
            "Its categories are ['\"Crime Fiction\",  \"Drama\",  \"Political drama\",  \"New Hollywood\"']\n",
            "Its summary is: The film begins with a shot at a loading dock in Cleveland, Ohio in 1937. The supervisor is Mr. Gant, who welcomes a new worker, Lincoln Dombrowsky . Gant tells him the job requirements and pay rules. He'll be paid for working 8 hours and if he has to work overtime, he still gets paid only for 8 hours. If he drops any of the merchandise, the cost comes directly out of his pay. These are examples of unfair working practices faced by the laborers. Later Dombrowsky drops a few carts of tomatoes, which is taken out of his pay; another worker is fired for helping him pick it up. Johnny Kovak , another worker resentful of mistreatment, leads a riot. Afterward, the workers go to the office of Boss Andrews. Kovak believes he negotiates a deal for the workers, but the next day he and his friend Abe Belkin  are told they are fired. While commiserating in bars, Kovak and Belkin are approached by Mike Monahan, who saw Kovak's leadership. He offers them positions in the Federation of Interstate Truckers . They will be paid according to how many members they can recruit, and they reluctantly join. Given a car for recruiting, Kovak tries to meet a woman, Anna Zarinka . They begin to see each other. At the same time, he starts to gain some members, which attracts attention from business owners. They offer him a deal to join them and be a voice in helping bring more workers to trucking. After rejecting the offer, Kovak is physically attacked. He continues to work on union recruiting. Another leader of F.I.S.T., Max Graham , is known by many workers as a hothead. He and Kovak compete for superiority. Soon Monahan, Kovak and Abe begin working to get the F.I.S.T. members at Consolidated Trucking covered by a labor agreement. When management refuses to deal with them, the F.I.S.T. workers strike. They set up camp outside Consolidated Trucking's gates, but are pushed out by strikebreakers and hired security. Monahan tries to ram the gates in a truck, but is shot and killed. At his funeral, Kovak decides to \"get some muscle\" and accepts help from Vince Doyle ([[Kevin Conway , a local gangster. Doyle's men attack trucks trying to make deliveries. Local mobsters and the members of F.I.S.T. join forces to storm the gates of Consolidated Trucking. In the end the President of Consolidated Trucking signs a labor agreement. After the strike, Kovak and Abe travel throughout the Midwest to recruit more workers. Kovak becomes wealthier and marries Anna. A new crime figure, Babe Milano , comes on the scene and wants some piece of the action. Kovak meets Milano with Doyle and, although reluctant to involve him in his business, decides it will be best for now. Twenty years later, F.I.S.T. has become a large and important union, with about two million members and a fancy headquarters. When Kovak visits Max Graham at the headquarters, he is displeased to see how luxurious the building and Graham's offices are. Located on the west coast, Belkin is still important in the union. As Kovak visits with Belkin, the latter tells him that Graham has made money unethically off the union. In his investigation, Kovak finds that Graham used his influence to steer union businesses and funds to shell companies owned by him or his wife. The violent ways of the union are shown by a physical assault against the wife of a trucking company owner who resisted union organizing of his workers. At the F.I.S.T. convention, a new union president is to be elected, with Graham a strong favorite. At a private meeting, Kovak tells Belkin of Graham's criminal deeds. Belkin encourages turning the man in to the authorities. Disagreeing, Kovak is worried about the effects of a scandal on the union, which he wants to protect. Meeting with Graham, Kovak confronts him and suggests he quit his run for union president to support Kovak. Elected president of F.I.S.T., Kovak is investigated by Senator Madison , who suspects the labor leader of ties with the Mafia. When Belkin visits Kovak again, he urges the president to cut off Milano and make the union \"clean again\". Kovak ignores his request. Doyle later tells Kovak that Belkin will testify against him, Milano and everyone else, but Kovak insists that Abe be protected. Called in to testify in a hearing led by Senator Madison, Kovak is told that Abe Belkin has been killed and the senator believes Kovak is responsible. Shocked, Kovak has an emotional outburst and storms out of the hearing. That night when he returns home, he finds Anna and his children are missing. He gets his pistol but is shot and killed in the house by Milano's men. They feared that Kovak would cut the mob out and testify against Milano. The movie ends with a shot of a bumper sticker on a truck, which reads, \"Where's Johnny?\"\n",
            "Recommended film has ID 776\n",
            "Its categories are ['\"Biographical film\",  \"Biography\",  \"Drama\"']\n",
            "Its summary is: At eight years old, James Dean lives with his estranged father Winton and mother Mildred in 1939 Santa Monica, California. When Mildred dies of cancer in 1940, Winton sends James on a train to Fairmount, Indiana, along with the coffin containing her body. Winton does not show up at the funeral, leaving James to be raised by his aunt and uncle on a farm in Fairmount. Over the years, he becomes more curious about his father's decision to abandon him. He tries to impress him by sending him a package displaying his various athletic trophies in high school sports. James moves back to Santa Monica in June 1949, shortly after high school graduation, and finds that Winton has remarried. He decides to become an actor and takes classes under James Whitmore. Whitmore is impressed by his acting ability, which encourages him to move to New York City in September 1951 to pursue an acting career. Despite being a struggling actor, he enjoys the new lifestyle. He befriends fellow actor Martin Landau and has a romantic relationship with Christine White. Both are accepted into the prestigious Actors Studio. He receives critical acclaim in Broadway theatre productions and for a role in a television movie drama that is broadcast nationwide. He tries to tell Winton about his successful rise in acting, but his father still reacts with indifference, causing more emotional turmoil for him. Film producer-director Elia Kazan hires James for the leading role in East of Eden , marking his Hollywood debut. He moves to Hollywood in April 1954 to begin filming for Eden and is introduced to Jack Warner, the stern president of Warner Bros. Studios who is determined to transform him into a movie star. Warner becomes suspicious of his personal life . On the Warner Bros. backlot, he falls in love with actress Pier Angeli, who is working on the neighboring production of The Silver Chalice . Despite concerns from Pier's domineering mother, James and his girlfriend buy a beach house in which they live together. Meanwhile, eccentric director Nicholas Ray casts him in the lead role for Rebel Without a Cause . He once again hopes to impress his father with his rising movie star career in Hollywood, but Winton persists with his indifference. When East of Eden debuts, Warner is furious that he does not show up at the premiere. He considers shutting down production of Rebel Without a Cause, but he drops the idea due to James's praised performance in Eden. Later, he finds out that Warner sided with Pier's mother over his break up with her. She ends up marrying Vic Damone, while James then signs a one million dollar contract with Warner Bros. and is cast in Giant . His mental breakdowns become more apparent when he starts conflicting with director George Stevens. Angered with his life, James decides to learn the truth about his father's carelessness over him since he was eight years old. Winton tells him that his real father was a man with whom his mother had an affair during the marriage and that he did not have the courage to raise him, not being his real father. With his inner demons resolved, he begins to enjoy life once more and adapt a friendly relationship with director Stevens. Shortly afterward, he dies in a tragic car accident that shocks both members of the film industry and the general public. En route on a train to Indiana, Winton sits next to his coffin in the storage room. Despite the fact that he is dead, Winton does not intend to abandon him once more.\n",
            "Recommended film has ID 1037\n",
            "Its categories are ['\"Comedy\"']\n",
            "Its summary is: Inocencia has left her pueblo to find a job at Mexico City. In Mexico City, Inocencia stumbles herself with two men, a chicken delivery man and a postman who both fight for her love. The postman finds a babysitting job for Inocencia. Inocencia has to take care of Bebito, who is more grown up then she expected. Bebito tries to knock off Inocencia's prentendants.\n"
          ]
        }
      ],
      "source": [
        "id = 3614\n",
        "films = content_recommender(id, 7, corpus_tf_idf_2)\n",
        "print(\"Film to find recommendations has ID {}\".format(id))\n",
        "print(\"Its categories are {}\".format(categories[id]))\n",
        "print(\"Its summary is: {}\".format(summaries[id][0]))\n",
        "for film in films:\n",
        "  print(\"Recommended film has ID {}\".format(film))\n",
        "  print(\"Its categories are {}\".format(categories[film]))\n",
        "  print(\"Its summary is: {}\".format(summaries[film][0]))"
      ]
    },
    {
      "cell_type": "code",
      "execution_count": null,
      "metadata": {
        "colab": {
          "base_uri": "https://localhost:8080/"
        },
        "id": "m8Uiw1TCrw-F",
        "outputId": "c92c7aa8-b4f1-433b-994e-3ead87a67be9"
      },
      "outputs": [
        {
          "name": "stderr",
          "output_type": "stream",
          "text": [
            "/usr/local/lib/python3.7/dist-packages/scipy/spatial/distance.py:720: RuntimeWarning: invalid value encountered in double_scalars\n",
            "  dist = 1.0 - uv / np.sqrt(uu * vv)\n"
          ]
        },
        {
          "name": "stdout",
          "output_type": "stream",
          "text": [
            "Film to find recommendations has ID 361\n",
            "Its categories are ['\"Thriller\",  \"Mystery\",  \"Horror\",  \"Psychological thriller\",  \"Supernatural\"']\n",
            "Its summary is: Rosanna Arquette stars as Martha Travis, a medium who hosts a touring clairvoyant show with her alcoholic father Walter  where she helps members of the audience make contact with deceased relatives. At one meeting, she foretells the violent death of a local factory employee , a whistleblower who was set to reveal corporate malpractice at the plant, and soon becomes the target of the killer herself. At a subsequent meeting in the town, she appears to identify several other individuals who are set to die or be killed. A sceptical local journalist investigating the death, Gary Wallace , begins following the couple and the story. The story is told in flashback, with the opening scenes showing Wallace searching for the reclusive Martha many years after the events depicted in the main body of the film.\n",
            "Recommended film has ID 4368\n",
            "Its categories are ['\"Romantic comedy\",  \"Black comedy\",  \"Romance Film\",  \"Comedy\",  \"Slapstick\"']\n",
            "Its summary is: The film begins with Martha Alston  in a wedding gown incarcerated in a Mexican prison. The investigators call her Mrs. Crawford and listen to her explain why she committed murder on her wedding day. Some time ago, at her younger sister's wedding, Martha is pestered by her family about when she'll get married. At work, she rejects a date with a younger co-worker, Walter . Disappointed by her dull Valentine's Day blind date, Martha goes home to sulk in front of the TV, where, inundated by romantic imagery, she is prompted to get out of the house. Martha goes to a bar where she drops her quarter in front of the jukebox. She bends down to get it, then a man shows up and selects the same song Martha would have chosen. The man is Whitman Crawford , and they instantly hit it off. They go back to his house and have sex. Whitman says he's a poet and an investor. He reads Martha one of his poems. Martha introduces Whitman to her family and he impresses them. But by the time Martha meets Whitman's mother, Martha has become convinced Whitman is not Mr. Right at all. Whitman's ex-girlfriend Inga  and her accomplice Bob  harass Martha. Inga refuses to believe that Martha has dumped Whitman. Whitman refuses to believe it either, and begins stalking Martha and trying to woo her back in increasingly ridiculous ways. Whitman even buys off Martha's private investigator  and abducts Martha to Mexico to marry her there. Walter shows up to rescue Martha from the wedding, but trips. His gun falls into Martha's hand and she shoots Whitman. Then she's arrested, and the investigators conclude that she murdered Whitman. Walter springs her out of jail and explains that it was Inga who shot Whitman. Walter and Martha ride a horse West towards the sunset. Title cards over this scene explain that they eventually turned North towards the American border, that Inga and Bob get married and open a pet store in Albuquerque, and that Whitman continues his search for love.\n",
            "Recommended film has ID 2802\n",
            "Its categories are ['\"Action\",  \"Adventure\",  \"Black-and-white\"']\n",
            "Its summary is: Butte Morgan plans to take over the circus my marrying Maria Wallace. She, however, is interested only in the trick rider Jack Grant. \n",
            "Recommended film has ID 3555\n",
            "Its categories are ['\"Thriller\",  \"Crime Fiction\",  \"Psychological thriller\",  \"Black-and-white\",  \"Drama\",  \"Film noir\"']\n",
            "Its summary is: A power struggle ensues after the death of media magnate Amos Kyne, whose corporation has been turned over to his sole heir, his foppish son Walter. Rather than run the company himself, Walter decides to let the heads of its three divisions fight it out for control. Their assignment is to score an exclusive story on a serial killer who is terrorizing women in New York. The Kyne organization's newspaper dubs him \"The Lipstick Killer.\" If a resourceful someone can identify him even before the police do, Walter Kyne will reward him with the title of executive director. One of the three, newspaper editor Jon Day Griffith, has an ally in high-profile reporter Edward Mobley, who also does reports on Kyne's television network. While wire-service chief Mark Loving recruits star writer Mildred Donner to be his eyes and ears, a third contender for the top job, Harry Kritzer, carries on a secret affair with Dorothy, who is Walter Kyne's wife. Mobley becomes engaged to Loving's secretary, Nancy Liggett. As his police friend, Lt. Kaufman, gives him inside information on the murder investigation, Mobley taunts the killer on TV and uses Nancy as bait, hoping to lure the Lipstick Killer into coming after her. In the end, the lives of both Nancy and Dorothy, who live across the hall from one another, are placed in serious danger at the Lipstick Killer's hands. And, although one of the three contenders for the executive director's job wins the contest, another has a surprise in store.\n",
            "Recommended film has ID 3488\n",
            "Its categories are ['\"Romance Film\",  \"Musical\",  \"Drama\",  \"Comedy\"']\n",
            "Its summary is: The film takes place in a small Iowa town in 1927. A traveling Chautauqua company arrives in the town, but internal squabbles create friction amidst the troupe. The new manager, Walter Hale , is trying to prevent Charlene, the troupe’s “Story Lady” , from recruiting the performers to form a union. Meanwhile, the town has a scandal following the murder of the local pharmacist Wilby . Although a shady gambler is arrested, Walter realizes that the real killer is Nita , one of Wilby’s employees. Walter successfully gets Nita to confess during a Chautauqua performance, where she makes public the sexual harassment that Wilby directed at her. Nita’s self-defense plea frees the wrongly jailed man, but Charlene is outraged that Walter used the crime to financially enrich the Chautauqua, and attempts to quit. Walter attempts to reason with Charlene, but when she refuses to give in, he deceives her and uses the local police force to be sure that she must leave on the train with the rest of the troupe.\n",
            "Recommended film has ID 3501\n",
            "Its categories are ['\"Cult\",  \"Horror\",  \"Slasher\",  \"Teen\"']\n",
            "Its summary is:  A flight attendant attacks passengers and crew on an airplane, which turns out to be a scene in a film shooting at a film academy. As the students are preparing for their thesis films and the prestigious Hitchcock award, a student named Amy Mayfield  is unsure about her thesis. But after a conversation with security guard Reese Wilson , , she decides to make a film about a serial killer murdering in the fashion of urban legends. Meanwhile, a student named Lisa  is drinking in a bar, when someone drugs her drink. Lisa feels dazed and prepares to leave the bar, when someone abducts her. She wakes up in a bath-tub filled with ice and discovers that her kidney was removed. Attacked by her abductor, she tries to flee through the window and is decapitated in the process. Lisa is not missed as she was about to go on a trip. The next day, Amy is preparing the shooting of her thesis film but is deserted by the assigned camera man, Toby Belcher , who accuses Amy of stealing his thesis idea. Shooting begins with another camera man, Simon. When Sandra , Amy's actress friend who played a victim in a scene, returns to an empty studio after forgetting her keys, she is attacked by the same killer who killed Lisa. Her friends witness her death when the material is smuggled into a sequence of takes of the scene, but discount it as another piece of acting, wondering who shot it. As there is no body and Sandra was about to go on a trip, her disappearance goes unnoticed. Travis , a friend of Amy who was depressed about having received a poor grade on his thesis film, is found to have committed suicide at the campus tower. At the funeral, Amy is offered help by Graham , a student from a prosperous Hollywood background. She refuses, wishing to make it on her own. This offends Graham, who thinks it hypocritical, as Amy grew up in Hollywood as the daughter of a famous documentary film maker before moving to Chicago. At night, Amy enters the tower and is surprised by Trevor, Travis' twin brother, who claims that Travis was murdered. The next night, Simon  is attacked by the killer but his screaming for help goes unnoticed as the others are doing the \"midnight scream\". Amy, who has heard his last scream on her head phones, is suspicious and asks Reese to review the surveillance tapes. After she has detected the assault on Simon on the tapes, she is confronted by the killer. During the ensuing chase, she loses the tapes and cannot prove her claims to a skeptical Reese. Amy now believes the claims of Trevor and meets up with him but, he still refuses to inform the police, hinting at a criminal past. The next scene to be shot involves the \"Tunnel of Terror\", which is set up in an old carnival ride. Sophomores Stan  and Dirk  are attacked and electrocuted by the killer while preparing the tunnel. Amy, who is taking a tour of the tunnel, discovers the corpses and is again confronted by the killer. She escapes again and informs the police, who attribute the deaths to accidental electrocution. Amy is comforted by Trevor. They begin having sex when Trevor suddenly stabs Amy. She wakes up and realizes that it was only a dream. Seeing a light on at the bell-tower, she decides to go there and finds her lesbian friend, Vanessa . Vanessa received a love note supposedly written by Amy, but when Amy disclaims any knowledge of such a note, the two are attacked by the killer and chased to the top of the tower, where Vanessa is captured. Meanwhile, Amy is locked in a room also containing Sandra and Simon's corpses. When Amy manages to break out, she finds Vanessa being hanged from the bell. Amy runs out of the tower into the arms of Trevor, who has found out that the thing the victims all had in common was their having worked on Travis' thesis film. They review Travis' film, which turns out to be awful, and find out that somebody placed Travis' credits onto another film. They suspect Toby, the only person working on the film left alive. They kidnap him and call in Professor Solomon  to present their suspicions. However, Toby reveals that Travis faked Toby's sound credit to help him graduate admitting that he never went anywhere near Travis' film. Upset that he gave Toby \"an A for nothing\", Professor Solomon shoots Toby and threatens Amy and Trevor. He also reveals that he murdered Travis making it look like a suicide. He holds Trevor at gunpoint and Amy yells to him is this what he wants. He reveals feeling trapped in a teaching position since failing to win the Hitchcock award in his student days for which he blames Amy's father, who cast the deciding vote against him. He now wanted to take credit for Travis' brilliant film and use Amy's Urban Legend film to eliminate all who worked with Travis, framing Amy in the process. Graham, who has been lurking in the back all this time, hits Solomon with a chair hoping to knock him out, but is shot by the professor after saying, \"It only works in movies.\" In the confusion, Trevor manages to disarm the professor. Then, Solomon threatens Trevor with a shovel while Amy gets a hold of the gun and threatens Solomon. Reese storms in, thinking Amy to be the killer, and forces her to drop the gun. Solomon accuses Amy, and calls attention to the fact that Reese saw Amy running out of the tower. As Reese never told anyone about this, she becomes suspicious and punches the professor. He tries to take her gun, but in the ensuing brawl, Reese's gun is lost amongst a pile of prop guns. Amy, Trevor and Solomon all grab for a gun. Trevor's gun is a fake when he tries to shoot Solomon, and Solomon's gun is a fake when he tries to shoot Amy. Amy got a hold of Reese's gun but hesitates to fire. Solomon attacks her again, but she shoots him. Then scene then cuts to the Hitchcock awards, where an award is posthumously given to Travis. As Trevor is about to accept the award on his late brother's behalf, a sniper appears in the rafters, only to be shot down by Reese. The altercation is then revealed to be a scene in Amy's new film \"Urban Legends\". We also see that Toby and Graham survived their attacks and are now busily working on her behalf. The final scenes show Solomon in a mental institution where, after watching Amy's film, the nurse asks him if he enjoyed the movie. He is wheeled out by a nurse, who is revealed to be Brenda , the previous film's killer saying that they have a lot in common.\n",
            "Recommended film has ID 3439\n",
            "Its categories are ['\"Drama\",  \"Mystery\",  \"Crime\"']\n",
            "Its summary is: When a vacationing couple in Tangiers run into an old friend there, they discover that he is searching for his missing girlfriend who has been kidnapped by an international gang of white slavers. Nader investigates but before he can come up with anything, his friend is murdered. Meanwhile, nightclub magician Price and his mentalist partner continue their nefarious activities—they hypnotize and kidnap young women for the white slavers, and spirit them to the \"House of 1000 Dolls. Stars: Vincent Price as Felix Manderville, George Nader as Stephen Armstrong.\n",
            "Recommended film has ID 3592\n",
            "Its categories are ['\"Drama\"']\n",
            "Its summary is:  The film opens with a 9-minute long take of a married couple riding in a car together. After several minutes of small talk, the woman  tells the man  that she's leaving him for another man. The rest of the film takes place in the couple's home during a rainstorm on their last day together, as the husband helps his wife pack. Various quiet, introspective scenes show them doing things such as making coffee, smoking a cigarette, and reminiscing over nostalgic items. While eating together, the woman asks the man why he isn't angry with her, saying that he has a right to be. The man says that he knows she doesn't change her mind when she decides on something and feels that he is partially to blame for their rift. She then accuses the man of being selfish for acting as \"the perfect man\" during their breakup. Their conversation is interrupted by the meowing of a lost kitten outside. They bring it inside, but it escapes and hides elsewhere in the house. Soon, their neighbors come looking for the kitten and are invited inside. Strained conversation ensues, and the neighbors inform the couple that the rain has flooded the roads, preventing travel to Seoul. The husband answers a phone call from his wife's new lover and passes it to her. She tells him she'll have to put off leaving until the next day due to the flooding. He asks her, \"Is there anything holding you back?\" To which she doesn't answer. The neighbors leave without the kitten, telling the couple to call them when it comes out. Now unable to go to their planned dinner reservation, the couple prepares dinner together. The man begins sniffling while cutting onions, and goes to the bathroom to wash his eyes, silently standing while letting the faucet run. The film ends with the kitten coming out of hiding and the woman telling it that everything is going to be okay.\n"
          ]
        }
      ],
      "source": [
        "id = 361\n",
        "films = content_recommender(id, 7, corpus_tf_idf_2)\n",
        "print(\"Film to find recommendations has ID {}\".format(id))\n",
        "print(\"Its categories are {}\".format(categories[id]))\n",
        "print(\"Its summary is: {}\".format(summaries[id][0]))\n",
        "for film in films:\n",
        "  print(\"Recommended film has ID {}\".format(film))\n",
        "  print(\"Its categories are {}\".format(categories[film]))\n",
        "  print(\"Its summary is: {}\".format(summaries[film][0]))"
      ]
    },
    {
      "cell_type": "markdown",
      "metadata": {
        "id": "ghqCTGSUr1hf"
      },
      "source": [
        "Στις ταινίες που ανήκουν σε είδη όπως Thriller, Horror και Drama ο recommender δουλεύει αρκετά καλά διότι φαίνεται πως το dataset το οποίο μας δίνεται έχει αρκετές τέτοιες ταινίες και είναι εύκολο να βρει σημασιολογικά κοντινές για να μας επιστρέψει.\n",
        "* Τώρα θα δώσουμε και μερικά παραδείγματα nit-picking:"
      ]
    },
    {
      "cell_type": "code",
      "execution_count": null,
      "metadata": {
        "colab": {
          "base_uri": "https://localhost:8080/"
        },
        "id": "bywAedEIsYIY",
        "outputId": "56f571b1-f9b5-465e-f7f3-387c4d43e1ba"
      },
      "outputs": [
        {
          "name": "stderr",
          "output_type": "stream",
          "text": [
            "/usr/local/lib/python3.7/dist-packages/scipy/spatial/distance.py:720: RuntimeWarning: invalid value encountered in double_scalars\n",
            "  dist = 1.0 - uv / np.sqrt(uu * vv)\n"
          ]
        },
        {
          "name": "stdout",
          "output_type": "stream",
          "text": [
            "Film to find recommendations has ID 3605\n",
            "Its categories are ['\"Fantasy\",  \"Comedy\"']\n",
            "Its summary is: The film opens up with a distraught tensed up Ranjit watching his mother and his sister and their adopted brother closely. He is wearing a depressing look as he cannot earn and feed his family members properly being a handicapped person. He walks with help of walking stick. He decides that its better to commit suicide and die rather than giving trouble to others and also seeing his family members struggle for survival. His mother loves him a lot although he is limping and jobless. She asks him not to worry and be happy. Their landlord has asked them to vacate the premises the next day. Tension looming around his mind, Ranjit decides to go out early in the morning and jump from the bridge above the railway tracks and give away his life. Ranjit carries out his plan. In the next scenes, he starts walking without help from any stick. He meets a man who calls himself as Captain and he says that he is the only person who can see Ranjith right now. That fat man introduces himself as Swaraj Singh Captain and says that he is a ghost and that Ranjit has died and is now a ghost too. Captain takes him along everywhere and shows him how many other people are roaming as ghosts in the world after committing suicides. Captain says the ghosts attain salvation only when their unfulfilled wish gets fulfilled. Captain asks him why did he commit suicide. Ranjit tells him his story of how he was a badminton player and how rich they were. He had even fell in love with a richer girl. The rest of the story is about Ranjit's description of what drove him to poverty, how were they surviving, how his friends betrayed him and deprived him of any job, how he lost his leg and how much he feels betrayed of his girlfriend leaving him and joining hands with some one else. Captain just keeps listening to his story. The answers to the above question and rest of the story is full of suspense which needs to be seen in the movie directly.\n",
            "Recommended film has ID 4023\n",
            "Its categories are ['\"Horror\",  \"Adventure\",  \"Black-and-white\"']\n",
            "Its summary is: Tom Merriam , a young merchant marine officer, joins the crew of the ship Altair. At first, all seems well and Merriam bonds with the captain, Will Stone ([[Richard Dix . The ship, already shorthanded due to the death of a crew member before it left port, loses another  when he develops appendicitis.  One of the crew, Louie , tells the captain he should pull in to port and take on new crew. The captain says \"You know, there are captains who might hold this against you, Louie.\" Shortly after, the captain closes the hatch to the chain locker with Louie inside, and Louie is crushed to death by the chain. Merriam believes that Captain Stone, who is obsessed with authority, did it intentionally. When they dock at the fictional Caribbean island of \"San Sebastian\" , Merriam attempts to expose the Captain's madness at a board of inquiry. The crew all speak favorably of the captain, including the Greek, who credits the captain with saving his life. Merriam states his intention to leave the Altair. After the inquiry, the captain admits to a female friend  that he fears he is losing his mind. Soon after, Merriam is involved in a fight in port and knocked unconscious. One of his former shipmates &ndash; unaware that he has left the Altair &ndash; brings the unconscious man back aboard ship before the vessel departs. Merriam wakes up on the ship and fears that the pathologically insane Captain Stone may now attempt to kill him, a fear that is only reinforced when the captain, referring to the young officer's accusations, says \"You know, Mr. Merriam, there are some captains who would hold this against you.\" Merriam, scorned by the crew, finds that he can no longer lock the door to his cabin. Fearing for his life, he tries to steal a gun from the ship's weapons locker, but is confronted by Captain Stone. Stone dares Merriam to try to get the support of the crew, but Merriam is rebuffed in this effort. This changes when Radioman Winslow  receives a radiogram asking if Merriam is on board, and Captain Stone orders Winslow to lie, replying that Merriam is not aboard. The radioman shows Merriam the captain's reply radiogram and says that he now mistrusts the captain and will send a message to the company expressing his concerns about Stone's mental health. However, as he leaves Merriam's cabin, Winslow encounters the captain. As the two walk side-by-side, Winslow drops the captain's radiogram to the deck, and it is picked up by an illiterate crewman, Finn the Mute , whose internal monologues serve as a sort of one-man Greek chorus throughout the film. Captain Stone now orders Merriam to send a radio message to the corporate office advising them that Winslow has been washed overboard. Merriam accuses the captain of murdering Winslow, and the two fight. Crew members intervene, and the captain has the crew tie up Merriam and put him in his bunk. The captain then has First Officer Bowns  administer a sedative to Merriam. Finn finally delivers the captain's radiogram to Bowns, who can read. Bowns becomes deeply alarmed. The first officer talks to several other crew members, all of whom now begin questioning the captain's sanity. Captain Stone overhears Bowns' conversation with the crew, and goes insane. He takes a knife and enters Merriam's cabin to kill the young officer, but Finn arrives to try to stop him. While the crew is up on deck singing, Finn and the captain engage in a desperate struggle in the dark, during which Finn kills the captain. After the captain's death, Merriam is reinstated and the ship returns to its home port of San Pedro.\n",
            "Recommended film has ID 688\n",
            "Its categories are ['\"Action/Adventure\",  \"Swashbuckler films\",  \"Action\",  \"Adventure\"']\n",
            "Its summary is: An English captain and his crew are dispatched to the Spanish-controlled island of Tortuga, where famed privateer Henry Morgan has defected from his support of the English Empire and is running a strictly piratical venture, stopping any and all vessels including English. Since the captain cannot attack the island without incurring the wrath of the Spanish government, he must go toe-to-toe with Morgan himself. A comely female has inadvertently ended up as a stowaway on the captain's vessel, and she becomes the de facto central focus of the story . She is initially deposited on the island, where she makes a half-hearted play for the governor, but eventually re-adjusts her sights on the captain himself. In the meantime, the captain is fully engaged in pursuing the pirate.\n",
            "Recommended film has ID 2807\n",
            "Its categories are ['\"Drama\",  \"Comedy\"']\n",
            "Its summary is: Sang-Man Cha Tae-Hyun attempts to commit suicide by jumping off a bridge and into a river. He fails, but the end result is that he starts seeing ghosts. Sang-Man then goes to the hospital and gets an examination. Is he going crazy? Meanwhile, Sang-Man meets nurse Jung Yun-Soo Kang Ye-Won at the hospital and quickly falls in love. But those pesky ghosts still haunt Sang-Man everywhere he goes. Sang-Man then attempts to help the ghosts fulfill their unrealized dreams to get them to leave him alone once and for all ...\n",
            "Recommended film has ID 2540\n",
            "Its categories are ['\"Short Film\",  \"Comedy film\",  \"Animation\"']\n",
            "Its summary is: The Pink Panther is a stowaway on the cruise ship Luxitania where a famous opera star is sailing. While the ship's captain courts her, the steward who is also assigned to her ([[The Little Man  finds the Panther and tries to capture him. However, the Panther's food-pilfering and the stewards attempts to catch him keep disrupting the opera star and Captain, and he feels the wrath of the Captain every time.\n",
            "Recommended film has ID 2741\n",
            "Its categories are ['\"Japanese Movies\",  \"Horror\",  \"Haunted House Film\"']\n",
            "Its summary is: In 1840, in the rural and wooded hillside region of Kushiata near Kyoto, Japan, a samurai, named Shigero, comes home to find his wife, Otami, in bed with another man, named Masanori. In a violent scene, Shigero kills them both and then himself. Flash-forward to the present day, an American family of three, whom includes writer Ted Fletcher, his wife Laura, and their 12-year-old daughter, Amy, moves into this since-abandoned house and starts to experience incidents of haunting and possession. The three murdered people still haunt the house and subject each of the Fletcher family to various harassment and mischief which gets more frequent and serious with each passing day. A Zen monk approaches Ted and tells him the story about the murders and urges him to leave the house. At the same time, Laura slowly becomes consumed by the evil presence of the three ghosts and begins an affair with Alex Curtis, a diplomat friend of Ted's whom introduced them to the house. The evil presence within the haunted house, including the ghosts briefly possessing each member of the family to do odd things, reveals that the ghosts are plotting to re-enact the mass murder-suicide so their souls could be free from the confines of the house. The supernatural incidents becomes more frequently when Ted is nearly drowned in a lake by Otami's ghost, and the ghosts of Shigero and Masanori take the form of giant spider crabs which attack Amy one evening and it leads her to falling from a tree when she tries to escape and is forced to be sent back to America. At the climax, Ted calls the Zen monk who exorcises the ghosts from the house and tells them to leave by the morning or the ghosts will return. When Laura tells Ted about her infidelity with Alex, he predictably takes it very badly and attacks her in which Alex arrives leading to the ghosts returning to the house where they possess all three of them and finally re-enact the gory confrontation from the opening leading to the deaths of Alex, Laura, and Ted, just as the ghosts planned. The end result has the three ghosts leaving the house for the afterlife... and implying that the souls of Ted, Laura and Alex now haunt the cursed house in their place.\n",
            "Recommended film has ID 3658\n",
            "Its categories are ['\"Silent film\",  \"Horror\",  \"Black-and-white\"']\n",
            "Its summary is: The tactics of a vicious slumlord and greedy businessman finally drive a distraught man to commit suicide. The businessman is tried for murder and executed, and is afterward taken by demons to Hell where he will spend the rest of eternity.IMDb entry\n",
            "Recommended film has ID 3471\n",
            "Its categories are ['\"Horror\",  \"Psychological thriller\"']\n",
            "Its summary is: Balakrishnan ([[Mukesh  is a heart patient. He urgently needs a heart transplant and luckily he gets the heart of Aby Mathew  who was dead a few moments ago. After the operation, Balakrishnan discovers that he can see Aby Mathew while nobody else can. Aby Mathew is now a ghost and he wants to bring his killers in front of the law. He takes Balakrishnan's help and start investigating. At first, nobody is ready to believe Balakrishnan as no one believes in ghosts. Balakrishnan also takes the help of Sub Inspector Damu ([[Sreenivasan  who also at first does not believe him. Balakrishnan discovers that Aby Mathew was murdered by his close friend Alex ([[Saikumar  to take over his business and that the lives of Aby's wife  and mother  are also in danger. The rest of the plot is Balakrishnan's attempt to save them.\n"
          ]
        }
      ],
      "source": [
        "id = 3605\n",
        "films = content_recommender(id, 7, corpus_tf_idf_2)\n",
        "print(\"Film to find recommendations has ID {}\".format(id))\n",
        "print(\"Its categories are {}\".format(categories[id]))\n",
        "print(\"Its summary is: {}\".format(summaries[id][0]))\n",
        "for film in films:\n",
        "  print(\"Recommended film has ID {}\".format(film))\n",
        "  print(\"Its categories are {}\".format(categories[film]))\n",
        "  print(\"Its summary is: {}\".format(summaries[film][0]))"
      ]
    },
    {
      "cell_type": "code",
      "execution_count": null,
      "metadata": {
        "colab": {
          "base_uri": "https://localhost:8080/"
        },
        "id": "qVu9K6hCsoL1",
        "outputId": "05f2569b-dd87-4fe4-ecf9-04ae996856fb"
      },
      "outputs": [
        {
          "name": "stderr",
          "output_type": "stream",
          "text": [
            "/usr/local/lib/python3.7/dist-packages/scipy/spatial/distance.py:720: RuntimeWarning: invalid value encountered in double_scalars\n",
            "  dist = 1.0 - uv / np.sqrt(uu * vv)\n"
          ]
        },
        {
          "name": "stdout",
          "output_type": "stream",
          "text": [
            "Film to find recommendations has ID 2070\n",
            "Its categories are ['\"Musical\",  \"Black-and-white\"']\n",
            "Its summary is: John \"Lucky\" Garnett  is a gambler and dancer. He is set to marry Margaret , but his friends hold him up so that he is late to the wedding. Margaret's father phones to call off the wedding, but Lucky doesn't get that message. His friends bet him that he won't be getting married and he agrees to the bet. Margaret's father tells Lucky that he must earn $25,000 in order to demonstrate his good intentions. He and his friend \"Pop\" Cardetti  try to buy train tickets, but his friends take his money - because he lost the bet. So they hitch the first freight train to New York. Broke, they wander around the city. Lucky meets Penny , a dance school instructor, when he asks for change for a quarter. It's his lucky quarter and Pop feels bad that Lucky lost it. They attempt to get it back, but Penny is in no mood to deal with them. When she drops her things, Pop sneaks the quarter out of her purse, and she thinks Lucky did it. They follow Penny to her work. In order to apologize, he needs to take a lesson from her. She's still furious at him. After a disastrous lesson, Penny tells him to \"save his money\" since he will never learn to dance. Her boss, Mr. Gordon , overhears her comment and fires her. Lucky dances with Penny to \"prove\" how much she's taught him. Not only does he give Penny her job back, Mr. Gordon sets up an audition with the owner of a local venue. They check into the same hotel where Penny is staying. Lucky does not have a tuxedo to wear to the audition. He tries to get a tuxedo off a drunk man, but he ends up loses his own clothes instead. They miss the audition and Penny gets mad at Lucky all over again. Lucky arranges another audition. He and Pop picket in front of Penny's door until she gives in and forgives him. But they cannot audition because the club has lost their band leader, Ricardo Romero , to a casino. They go to Club Raymond where Lucky gambles to win enough to get Ricky back. Meanwhile, Ricky declares his feelings for Penny. Lucky is about to win enough to marry Margaret, but his takes his last bet off in time... proving he is no longer interested in her, but in Penny, instead. The club owner bets him double or nothing and they gamble for Ricky's contract. Pop cheats and Lucky wins the contract. Lucky and Penny dance at the club. They are dancing together all the time, but Lucky does not trust himself around Penny because he feels guilty about not telling her about Margaret. He's avoiding her, which Penny notices, so she and her friend Mabel Anderson  conspire to get Lucky and Pop out to the country. Pop lets slip the information about Lucky and Margaret. Despite her best efforts, the two begin a romance, even as Ricky continues to woo Penny. When Margaret shows up, Lucky tries to avoid her, but, too late, Penny finds out. She agrees to marry Ricky. Margaret calls off her engagement to Lucky before he can. Lucky successfully stops Penny's wedding. And the two end up together, much to everyone's delight.\n",
            "Recommended film has ID 789\n",
            "Its categories are ['\"Drama\"']\n",
            "Its summary is: The movie focuses on Mahesh , an honest and diligent young man, who has no knowledge of his background as he was raised in an orphanage. One day, out with his friend Badru , he meets Reshma , who is also an orphan. Badru advices Mahesh to make a move on her, though as he approaches her, the two fall in love and Badru decides to get them married. They then live a harmonious life, and soon are proud parents of a healthy young boy who they name Lucky . Lucky grows up to be as honest and diligent as his dad, and his future appears to be very bright. When Lucky sees his father smoking, he starts to as well, but when his father stops him, he explains that an old man around his school sells him cigarettes. When Badru and Mahesh approach the old man, he tries to run. Badru chases after him, and is then run over by a truck. Badru tragically dies, leaving Mahesh, Reshma and Lucky on their own. Years later, when Lucky grows up, he falls in love with Lata , and both plan to marry soon with the blessings of their respective parents. Then Mahesh's world is turned upside down when he finds drugs in Lucky's pocket. He speaks to Lucky about this, and Lucky promises to give up drugs forever, and does live up to his promise. While driving home one day, Mahesh witnesses a drug peddler selling drugs to a group of youths which also included Lucky. He notifies the police, and they arrest the youths, but the peddler manages to escape. All the other youth tested positive for drugs, except for Lucky. When he returns home, his parents refuse to believe him, this angers him and he and his father come close to fisticuffs. Mahesh asks Lucky to leave, and he does so. Even Lata has left him and dumped him by now. Lucky regresses to drugs and his friends, until he runs out of money. Now he must either steal or even consider killing someone for money, - and the only ones he could think of taking money from are his parents. What will be Lucky's fate?\n",
            "Recommended film has ID 3137\n",
            "Its categories are ['\"Horse racing\",  \"History\",  \"Docudrama\",  \"Sports\",  \"Period piece\",  \"Biography\",  \"Drama\",  \"Family Film\"']\n",
            "Its summary is: Denver housewife and mother Penny Chenery  agrees to take over her ailing father’s Virginia-based Meadow Stables, despite her lack of horse racing knowledge. With the help of veteran trainer Lucien Laurin , Chenery manages to navigate the male-dominated business, ultimately fostering the first Triple Crown winner in 25 years and one of the greatest racehorses of all time. The film begins with Penny learning of her mother's death and returning to her childhood home. She reunites with Mrs. Ham, her father's secretary, and comforts her confused and elderly father. At her mother's funeral, Penny meets Arthur \"Bull\" Hancock and his son, Seth Hancock, of Claiborne Farm in Kentucky. The Hancocks offer to Penny any help she may need during her efforts to bring Meadow Stables back to profitability. Penny's brother Hollis informs her of a bad and dishonest sale that was about to be made by the trainer until their mother stopped him. Penny fires the trainer and asks Bull Hancock to help her find a new trainer. He recommends Lucien Laurin, an aging French Canadian, who initially turns down Penny's offer. Penny's father had made a deal with leading owner Ogden Phipps that if Phipps would breed his best stallion  with Chenerey's two best mares  that when the mares were close to term they would flip a coin to see who got which foal. Bold Ruler, the stallion, was fast but couldn't last over distances. Hasty Matilda was the obvious choice due to her young age, but Somethingroyal's bloodline was made up of many horses with good stamina. Penny hopes to win and choose Somethingroyal's foal due to the interesting mix of speed and stamina. Phipps picks Hasty Matilda and Penny wins Somethingroyal's foal, Secretariat. When Big Red  enters his first race at Aqueduct race track in Queens, New York, everyone has high expectations. The jockey, Paul , is very young with little experience which worries Penny but Lucien reassures her and says they will do fine. During the race, Red repeatedly is hit. First when he comes out of the gate, and repeatedly in the pack and on the rail. Red comes in 4th due to running like he was afraid of the other horses due to their hitting. Penny and Lucien fight and Lucien blames Paul for the loss. Penny realizes the only way Red could ever win is if he had an experienced jockey. Penny's flight back home is canceled on the day of the race and she misses her daughter Kate's solo in the play. Her son holds up the pay phone so Penny can hear her sing. The scene closes with Penny covering part of the phone and crying over missing important parts of her children's lives. Penny gets experienced jockey Ron Turcotte to ride Red who leads him to many victories. Secretariat is named horse of the year after a successful two-year-old year, but all the colts of Bold Ruler can't handle the distances that three-year-olds run. Penny's father suffers a stroke and dies, leaving Penny and her brother Hollis to inherit the estate. Penny needs six million dollars to pay estate taxes, but refuses to sell Secretariat. Instead she syndicates Red, selling 32 shares worth more than six million dollars, as long as he can win a three year old distance race. She tries to sell a share to Ogden Phipps, who instead offers to buy Red for eight million dollars. Penny refuses to sell him. When Phipps demands to know why, she tells him Red's value will triple when he wins the Triple Crown – a feat no horse has accomplished in twenty-five years. During this time Frank \"Pancho\" Martin, trainer of rival horse Sham, provokes a match race with Red. Red is taken to the Wood Memorial three weeks before the first of the Triple Crown races to take on Sham and attempt to earn Penny her syndication money. Ronnie notices that Red's breathing is heavy and he refuses to eat, and is reluctant to allow the bit into his mouth. Red loses the race, after which it's discovered he has an abscess which may have caused the loss. Red recovers and wins the Derby and Preakness in record time, then wins the Belmont by 31 lengths  to secure the Triple Crown.\n",
            "Recommended film has ID 2951\n",
            "Its categories are ['\"Crime Fiction\",  \"World cinema\",  \"Road movie\",  \"Musical\",  \"Adventure Comedy\",  \"Comedy\",  \"Romance Film\",  \"Action\",  \"Bollywood\"']\n",
            "Its summary is: Lakhan Singh , also called \"Lucky,\" is the \"kinng\" of the Australian underworld, and being a sikh, is the first \"Singh Is Kinng\" of the film's title. He is accompanied by his sikh mafia associates, Julie , Mika , Pankaj Udaas , Raftaar , Dilbaugh Singh  and Guruji Gurbaksh Singh . In a small village in Punjab, the birthplace of Lucky, lives another Sikh man more notorious than Lucky himself—Happy Singh . Happy has caused many problems and disastrous situations in the village, and the villagers are fed up with him. They decide to send Happy on a long trip to Australia with his friend Rangeela  to bring Lucky back to Punjab, which will keep Happy out of the village for some time and bring peace to the village. But at the airport, Happy's and Rangeela's tickets to Australia are accidentally exchanged with that of a man named Puneet  who was hoping to use them to fly to Egypt. In Egypt, Happy helps Sonia  and falls deeply in love with her. But he does not express his love to her. Leaving her behind, he heads to Australia to meet Lucky. Lucky refuses to return to his hometown and throws Happy and Rangeela out of his house. Penniless, Happy finds warmth and affection in an elderly sikh lady  who provides him with food in spite of being a stranger. Lucky winds up in hospital, paralyzed, after a series of violent incidents that Happy causes.  Happy unexpectedly receives the title of Kinng—thereby becoming the other \"Singh Is Kinng\" of the film's title. Alas, Happy is not proud of his rank and is kind-hearted. The lady who helped Happy is really worried and depressed as her daughter is returning from Egypt with her wealthy boyfriend, Puneet. The daughter does not know that after the death of her father years ago, her mother became poverty-stricken and was reduced to work as a flower seller. Happy gives the flower-seller Lucky's spacious house and makes all his mafia associates work under her. The lady's daughter arrives—and to Happy's horror, she is none other than Sonia. Happy, heart-broken, is forced to make a show of happiness to Sonia. Puneet says that he too would have had a good time with Happy and Sonia in Egypt had his ticket to Egypt not been exchanged in the airport, because of which he had ended up in Australia. Puneet had always been jealous of Sonia being with Happy. However, he doubts anything is going on between them. He and Sonia squabble about this topic; it is Happy who handles it. Meanwhile, after spending so much time with the kindhearted Happy, most of Lucky's gang members find themselves reformed and decide to become good. In spite of herself, Sonia falls in love with Happy—and the truth becomes difficult to hide. Sonia becomes aware of her poverty. Puneet sets his heart to marry Sonia. Sonia gets trapped in an emotional tug-of-war between Puneet, who loves her, and Happy, whom she loves. Puneet meets Mika, who is also the brother of the Kinng, and who agrees to kill Happy. Puneet's motives to kill Happy, however, differ from Mika's: Puneet wants to kill Happy to keep Sonia away from him, whereas Mika wants to kill Happy to make himself Kinng. The wedding day dawns and there is firing . Puneet hides while the pandit chants the mantras, his head totally covered by a pot, amidst gunfire all around. Meanwhile Happy takes Sonia's hand in order to save her and unknowingly both run around the fire seven times essentially getting married.  Suddenly, Mika turns up on the spot, ready to kill Happy, armed with a gang and his new special glasses and hearing aid. As he is about to shoot, Lucky steps up and stops him. Then a dialogue ensues between Mika, Happy, Lucky and the associates of the kinng . Then Happy tells him that being the \"king\" is no great thing and explains him the characteristics of a true Sikh. Lucky confesses that he always found sadness being Kinng, because a true king does not fight for himself, but for others. Overcome with remorse, Mika drops his revolver. The movie ends happily, with Happy and Sonia's marriage.\n",
            "Recommended film has ID 3401\n",
            "Its categories are ['\"Comedy\",  \"World cinema\",  \"Filipino Movies\"']\n",
            "Its summary is: Jenny Rose San Miguel was born lucky after so many years she has been so lucky but has a past she has a long lost sister. little did she know that Julia Rose  an unlucky woman with 3 kids from 3 relationships gone sour and ended with a curse of deaths is preparing to get married the same day at the same time as her but little did they know that as both encounter lives change and lead them to their key fate their past and as they both get married at the same church and same day bad things occur and lead them to seeing each other again what secrets unravel in this hilarious laugh trip.\n",
            "Recommended film has ID 2464\n",
            "Its categories are ['\"Family Film\",  \"Fantasy Comedy\",  \"Comedy\"']\n",
            "Its summary is: The film opens with John Dolittle as a child talking to his dog . He asks his dog questions, one being \"Why do dogs sniff each other's butts\"? Her response is that it's their way of shaking hands. His concerned father  hears the question and says that the dog doesn't have any idea what he said. He was wrong. He finds this out when John meets his new principal and sniffs his butt. The dog obviously knows something is going to happen. When his father hires a minister to remove the devil from John Dolittle, the dog saves John by biting the minister. The dog is then relinquished for adoption. John is very upset and stops talking to animals as his father teaches him to hate them. Thirty years later, we see John Dolittle  shooing a puppy out of his apartment in San Francisco, California. He is a doctor, married with two children, and an animal hater. His 13-year-old daughter Charisse  wants to be named Paprika. His youngest daughter Maya  is a nerdy girl who does experiments, such as raising what she believes to be a swan egg so it will bond with her. She also has a Guinea Pig named Rodney . John's wife Lisa  wants to spend time with him. Meanwhile at work, a large medical company owner named Calloway  wants to buy his practice. This is welcomed by the employees as they think it will bring financial gain. John takes his family out to the country for a vacation. After taking the family to the country, he has to stay late at work to give Mrs. Parkus , a woman who is addicted to shellfish in spite of the fact that she is highly allergic to it, medication. Driving home, he nearly hits a dog and bumps his head on the windshield. Alive and well, the mutt walks away and shouts \"Watch where you're going next time, you bone-head!\". This is the first time that John has understood an animal since his childhood. The next day, John is driving Rodney to the country and Rodney starts talking to him. Up in the country, an owl  asks him to remove a twig in her wing. He obliges and she tells all the animals about his kind act. Soon many animals start asking favors of John. Scared, he goes to see Dr. Sam Litvak  for a CAT scan, but nothing is wrong with him. The next day he finds the dog he nearly hit being taken to a kennel. John rescues the dog, and takes him to the vet. Slowly becoming friends, John and the later decide his name should be 'Lucky'. John makes a deal with Maya. If she stays at camp, John will give her Lucky. That night a number of animals come to see the Doctor for treatment, including a drunken circus monkey, two dysfunctional pigeons, a goat with a rash, an OCD dog , and a pair of cloned sheep with rectal trauma. In the process, John relearns to appreciate his gift and confides in Lucky that he feels more energized about his work than he has in years. After he fits a nearsighted police horse for special glasses, the drunken monkey tells the doctor about a sick circus tiger . They find the tiger, named Jake, on top of Coit Tower attempting to commit suicide. John and Lucky attempt to stop him, saying that everyone loves tigers  and that John can cure him. His work with animals distracts him from a meeting with Calloway and from spending time with his wife. Soon, Lisa discovers all the animals. She and Mark catch him giving CPR to a group of rats , which was a false alarm  while conversing with the other one. Thinking he is crazy, his friends and family send him to an asylum where he meets Blaine , an enemy of John from medical school. Meanwhile, the Tiger is getting sicker, so Lucky tries to break John out of the asylum. John is mad at all the animals for sending him to the asylum, but Lucky says that he is hiding from his true self. Declaring that he will not talk to animals anymore, John is released. Maya, at home because she did not fit in, tells her Grandpa that she believes her dad has the gift of gab. Overhearing this, he realizes his mistake and apologizes to Lucky. Later, during the party where Calloway will buy the company, John and Lucky go to the circus, pick up Jake, and take him to the clinic so they can cure him. Meanwhile, the police are after John, but Lucky gathers all the animals of San Francisco to help guard the building in which John is operating on the tiger. But because they need to go through the party, and because Rodney is there, Jake comes out from under the hospital bed and scares everyone. Soon everyone is watching the operation. Lisa is now upset that her husband thinks he can talk to animals. John's father finally reveals that he, in fact, can. With that said, she comes in the operating room to comfort Jake. John finds out that Jake is suffering from a blood clot stuck in his head, and with that, saves his life. Calloway is watching this and he is very impressed. He wants to buy the company, but John declines his offer. In the end, John is now a both human doctor and a veterinarian. Maya's egg hatches, revealing it to be an alligator. John and Lucky are seen walking to the circus to visit Jake and talking about their future as friends while the song \"Talk with the Animals\" plays in the background.\n",
            "Recommended film has ID 2595\n",
            "Its categories are ['\"Crime Fiction\",  \"World cinema\",  \"Drama\",  \"Comedy\",  \"Action\",  \"Bollywood\"']\n",
            "Its summary is: In an attempt to earn some money, Madhav , Laxman  and Lucky  scam college students into purchasing fake history exam papers. At the beach, Laxman , a water sports official, is ridiculed by some tourists for his stammering. Daboo , Laxman's tomboyish partner, is angry and goes to fight. Gopal  comes and tries to make peace but ends up beating them after they point at him. Three robbers – Pappi , Daga  and Teja  — rob the queen's necklace and are on the run from police and end up in Goa. Pappi, who suffers from short-term memory loss, hides the necklace in Pritam's  house. Pritam, the father of Madhav, Lucky and Laxman, is a school bus driver but is always being pestered by neighbours and ruffians who had all loaned money to his three good-for-nothing sons. Vasooli , who has paid for the Jet ski business, asks Gopal for his money. Daboo fools Vasooli into calling and abusing the police who arrest Vasooli. That night, in the casino Lucky, while playing pool, by mistake strikes the ball on Daboo. Lucky tries to apologise, but gets misunderstood, and both groups get involved in a verbal fight. Madhav and his brothers also open a water sporting business on Pappi's loan. Pappi becomes the first customer but Gopal and his partners tamper with the jet by placing glue on the handle bars. Unable to control the jet, Pappi crashes into the jets from both the groups destroying both the water sports businesses. Pritam goes to meet Gopal's mother Geeta  to complain. When Pritam sees Geeta, he is shocked to realise that she is none other than his lost love. In a flashback, he remembers that Prem Chopra , Geeta's father, doesn't approve of their relationship and asks Pritam to earn 5 lakhs in 6 months to marry Geeta. Pritam and Geeta fight over their children's mistakes. Daboo overhears the conversation and tries to find out more about their relationship. Both the groups start a similar new firecracker business but end up destroying in the ensuing fight. In another meeting between Pritam and Geeta, it is revealed neither Pritam nor Geeta have ever married and that their children are all orphans. Daboo overhears them, and they make Daboo promise not to tell the boys about this. Daboo decides to get them married and succeeds in convincing their children and finally gets the two married. Much to Madhav's disgust, Pritam moves to Geeta's house. When they reach there, Gopal and Laxman are forced to move in the store room. The next few days, Pritam is targeted by Gopal and Laxman's pranks that are meant for Laxman, Lucky, and Madhav. On Daboo's birthday, the family decides to go for a movie, but Gopal refuses. At the cinema, the goon who loaned Madhav gets into a fight with them. Geeta gets injured and Gopal arrives to save his mother. Back at home, Gopal is furious at Pritam and Madhav about the loans. That night, Lucky overhears the fact that they are orphans. He unites everybody and tells them that they are all orphans. Daboo comes and confirms the news. They are all now united, and the next morning the newlywed couple is surprised to see their families together. The united family opens a toy store with loans from Vasooli and Pappi. Pappi tries to recognise Pritam at the inauguration. When they all dance and celebrate, Pappi remembers and accuses Pritam of having the stolen necklace. Everybody thinks that Pritam is the necklace thief. Following a long chase and a hostage situation at their home, Pappi informs everybody that he himself had stolen the necklace and hid it in Pritam's suitcase. Daboo then tricks him into calling the police and he and his goons are arrested. The movie ends with Pritam and Geeta going on their first honeymoon.\n",
            "Recommended film has ID 2765\n",
            "Its categories are ['\"Comedy\"']\n",
            "Its summary is: Sonia, a beautiful gold digger, mistakes Antonio, a waiter in a Neapolitan hotel, for the Arab prince Bey of Agapur and makes an appointment with him for the following day in Capri. Antonio goes there behind his wife and mother in law's back. Due to a lucky series of circumstances he really does becomes the prince of the island.\n"
          ]
        }
      ],
      "source": [
        "id = 2070\n",
        "films = content_recommender(id, 7, corpus_tf_idf_2)\n",
        "print(\"Film to find recommendations has ID {}\".format(id))\n",
        "print(\"Its categories are {}\".format(categories[id]))\n",
        "print(\"Its summary is: {}\".format(summaries[id][0]))\n",
        "for film in films:\n",
        "  print(\"Recommended film has ID {}\".format(film))\n",
        "  print(\"Its categories are {}\".format(categories[film]))\n",
        "  print(\"Its summary is: {}\".format(summaries[film][0]))"
      ]
    },
    {
      "cell_type": "markdown",
      "metadata": {
        "id": "StN2IWdKs6tl"
      },
      "source": [
        "Από τα αποτελέσματα αυτά καταλαβαίνουμε πως το dataset στο οποίο δουλεύουμε έχει λίγες ταινίες που ανήκουν στις κατηγορίες Fantasy, Musical και Black-and-white οπότε και ο recommender δυσκολεύεται να βρεί κοντινές ταινίες ώστε να μας προτίνει, καθώς ακόμα και αν υπάρχουν τόσες όσες ζητάμε από την παράμετρο max_recommendations ίσως να μη συμπεριλαμβάνονται οι λέξεις-κλειδιά τους στο λεξικό των χαρακτηριστικών.\n",
        "* Συνολικά μπρούμε να αποφανθούμε πως ο recommender ο οποίος βασίζεται μόνο στο tfidf μπορεί να δουλέψει καλά αν έχει αρκετά δεδομένα ώστε να εξάγει συμπεράσματα. Ωστόσο είναι δύσκολο να διαχειριστεί ταινίες που δεν έχουν αρκετές συναφείς με εκείνες ταινίες, όπως και είναι αρκετά επίπονη η διαδικασία της επεξεργασίας του dataset και του fine tuning που απαιτείται για τη βελτιστοποίησή του."
      ]
    },
    {
      "cell_type": "markdown",
      "metadata": {
        "id": "zPBW9WH56I-y"
      },
      "source": [
        "### Σύγκριση και σχολιασμός με recommenders βασισμένων στο Word2Vec\n",
        "\n",
        "- Υλoποιήστε recommenders που βασίζονται σε μεταφορά μάθησης και εμφυτεύματα. Χρησιμοποιήστε παραδείγματα για να υποδείξετε δυνατά και αδύναμα σημεία τους.\n",
        "\n",
        "- Μπορείτε να σχολιάσετε τα recommenders που βασίζονται στο Word2Vec σε σχέση με το απλό μοντέλο tfidf, εξετάζοντας τις συστάσεις για ίδια ID.\n",
        "\n",
        "- Μπορείτε επίσης να εξετάσετε συγκριτικά τα Word2Vec recommenders μεταξύ τους και πάλι βασιζόμενοι σε παραδείγματα.\n",
        "\n",
        "- Οι παρατηρήσεις σας θα βασίζονται στην ανάλυση των ποιοτικών χαρακτηριστικών που είναι η σειρά και το σύνολο των συστάσεων. Ωστόσο, μπορείτε να συμπεριλάβετε και ποσοτικά χαρακτηριστικά όπως τους χρονους loading και συγκρότησης του corpus αλλά και της διαστατικότητας $m$.\n",
        "\n",
        "Χρησιμοποιήστε όποια μορφή reporting κρίνετε καταλληλότερη: κείμενο, πίνακες, διαγράμματα.\n"
      ]
    },
    {
      "cell_type": "markdown",
      "metadata": {
        "id": "_HAOs-eAtm8O"
      },
      "source": [
        "Παραπάνω υλοποιήσαμε έναν recommender βασισμένο σε transfer learning και εμφυτεύματα. Ο recommender αυτός βασίζεται στο μοντέλο glove-wiki-gigaword-100 και σε μερικά τυχαία παραδείγματα είδαμε πως έχει αρκετά καλές προτάσεις για διάφορες ταινίες. Στη συνέχεια θα υλοποιήσουμε άλλον έναν recommender βασισμένο στο glove-twitter-25 ώστε να συγκρίνουμε τόσο τα μεταξύ τους αποτελέσματα όσο και τα αποτελέσματά τους σε σχέση με αυτά του απλού TFIDF recommender."
      ]
    },
    {
      "cell_type": "code",
      "execution_count": null,
      "metadata": {
        "id": "QAiKlhm2viAT"
      },
      "outputs": [],
      "source": [
        "w2v_model_2 = gensim.downloader.load('glove-twitter-25')"
      ]
    },
    {
      "cell_type": "code",
      "execution_count": null,
      "metadata": {
        "id": "HIHxA403wzzP"
      },
      "outputs": [],
      "source": [
        "tfw2v_2 = build_tfw2v(corpus_updated, w2v_model_2, 25)"
      ]
    },
    {
      "cell_type": "markdown",
      "metadata": {
        "id": "66UsxA-Awn_Y"
      },
      "source": [
        "Θα συγκρίνουμε τις προτάσεις των μοντέλων Word2Vec με αυτές του καλύτερου μοντέλου tfidf που πετύχαμε στις 2 ταινίες που κάναμε cherry-picking και στις 2 που βρήκαμε όταν κάναμε nit-picking."
      ]
    },
    {
      "cell_type": "markdown",
      "metadata": {
        "id": "63fNf1egxJY2"
      },
      "source": [
        "Αρχικά συγκρίνουμε για τις ταινίες με ID 3614 και 361 που ο tfidf είχε καλή επίδοση."
      ]
    },
    {
      "cell_type": "markdown",
      "metadata": {
        "id": "P7aDVhsIxdA5"
      },
      "source": [
        "**<h4>Μοντέλο tfidf</h4>**"
      ]
    },
    {
      "cell_type": "code",
      "execution_count": null,
      "metadata": {
        "colab": {
          "base_uri": "https://localhost:8080/"
        },
        "id": "fve2-7vdwnjs",
        "outputId": "72676d1b-029e-4fa4-8e1c-1076a92457a8"
      },
      "outputs": [
        {
          "name": "stderr",
          "output_type": "stream",
          "text": [
            "/usr/local/lib/python3.7/dist-packages/scipy/spatial/distance.py:720: RuntimeWarning: invalid value encountered in double_scalars\n",
            "  dist = 1.0 - uv / np.sqrt(uu * vv)\n"
          ]
        },
        {
          "name": "stdout",
          "output_type": "stream",
          "text": [
            "Film to find recommendations has ID 3614\n",
            "Its categories are ['\"Biographical film\",  \"Drama\"']\n",
            "Its summary is: The film opens at the 1937 Academy Awards, where Biberman's wife, Gale Sondergaard , wins the first ever \"Best Supporting Actress\" Oscar. Although the anti-Fascist sentiment in her acceptance speech gets her labeled a \"commie\" by some observers, she and Biberman  are placed under contract at Warner Bros. He first comes under scrutiny more for his Jewish background than his political activities. Yet, with Cold War paranoia growing, a group of Hollywood directors and actors — Biberman, Sondergaard, Danny Kaye, and Dalton Trumbo among them—are labeled Communists and questioned before Congress. After refusing to testify against his colleagues, he is imprisoned in the Federal Correctional Institution at Texarkana for a period of six months. Once released, he discovers his Hollywood career is finished.  Sondergaard suggests her husband direct a screenplay about the real-life 1950-51 strike waged by Mexican-American miners against the Empire Zinc Company in Bayard, New Mexico written by Michael Wilson, also a victim of the blacklist, and Biberman's brother Michael. She feels the lead role of Esperanza Quintero, who rallied the wives of the unemployed miners and urged them to support their husbands, is an ideal way to jump-start her stagnating career. Biberman agrees, but after meeting with the people who participated in the strike and being inspired by their passion, he decides all roles should be played by ethnic actors. Because the film has no studio backing and most Hollywood players fear being associated with Biberman and the project, he eventually casts local residents from Grant County, New Mexico and members of the International Union of Mine, Mill and Smelter Workers, Local 890 to fill most of the roles. Juan Chacón, the Union Local president, is cast as the fiery Ramon Quintero opposite Mexican actress Rosaura Revueltas as his wife Esperanza. Will Geer is one of only five Hollywood actors to accept a role in the production. The FBI investigates the film's financing, attempts to steal the film's negatives, tells film-processing labs not to work on the film when they are unable to locate them, incites locals who are unhappy with the film crew's presence to set fire to many of the sets, and eventually deports Revueltas on bogus charges. Biberman stands his ground and completes the film, using scenes with Revueltas that were shot in her native Mexico and then smuggled into the US.\n",
            "Recommended film has ID 1025\n",
            "Its categories are ['\"Thriller\",  \"Heist\",  \"Crime Comedy\",  \"Action/Adventure\",  \"Drama\",  \"Comedy\",  \"Film adaptation\",  \"Crime Thriller\",  \"Action\"']\n",
            "Its summary is: When three great, has-been actors meet at the funeral of a legendary Hollywood agent, their alcoholic reunion leads them to visit the Hollywood Sign. There they find the body of a man - leading them to uncover an in-progress scam for stealing millions from a Las Vegas casino - which originated as a movie plot written by one of the actors' ex-girlfriends - who could not get her script produced. Desperate to make a come-back, the three risk their lives for production capital... by writing themselves into the \"script.\"\n",
            "Recommended film has ID 2633\n",
            "Its categories are ['\"Documentary\"']\n",
            "Its summary is: Movie business is a powerful magnet for the inhabitants of Ouarzazate, Morocco. Many are those who dream of making it and getting rich thanks to the film industry, but it is just a decoy. Their salaries are still meager, and they make just enough to survive, even when they get real roles in major budget productions. The documentary follows in the footsteps of a young man who worked with Brad Pitt on Babel. Even so, he still lives modestly in the hills near Ouarzazate. The majority of people around the world look at the films as a way of entertainment or as a means to enrich one’s culture. For others, the film actors are very lucky and rich just because they are famous. Whereas, there are a kind of people who look at the films in a different way because they consider them like manifactories that provide work and therefore insufficient money to the poor workers – actors... Behind the Tichka mountains, especially in the city of Ouarzazate and around, many professional actors, who didn’t went for courses in acting schools, give the impression while whatching them in famous films that they have wonderful palaces like those where they act… Yet, the reality is something different .. This documentary follows the life of Maher, a child who waits for film productions to arrive to work as an actor. When he gains his modest salary, he goes for paying the room rent and gives the rest to his mother… He, of course, denies what he needs for himself as a child and that for the sake of his small family… The documentary, also, presents a woman who successfully performs her roles ; but, she is not lucky because though she plays important roles, they pay her as an extra… Another example is an old man who has started building his modest house since 1962 when he played a role with the famous Italian director Pier Paolo Pasolini. After each film in which he works, he adds a wall or a door to his house which hasn’t been finished up to now… The documentary, moreover, looks for Boubker, who performed an important role with Brad Pitt in the famous film Babel and tries to shed light on the paradox in which this young actor lives. People think that Boubker lives like the famous Hollywoodian actors since he was invited to the international festival of Cannes as a great actor ; however, the reality is that he is still living among mountains and needs help to achieve his dream to speak good English and to be a great actor in future… The Silence’s Echo therefore, re-shoots these actors’ roles in the international films for which they work in a way that turns the positions upside down to give a voice to the muffled and to create an image to the obscured faces. it sheds light on the psychological, social, and financial state of the poor actors and extras to widen their space in the existence…\n",
            "Recommended film has ID 495\n",
            "Its categories are ['\"Culture & Society\",  \"Biography\",  \"Social issues\",  \"Documentary\"']\n",
            "Its summary is: The Teamsters' strike against Overnite began on October 24, 1999. James P. Hoffa had been elected president of the Teamsters in the fall of 1998, and had campaigned on a promise to unionize Overnite and securing a contract for its 13,000 workers. The Teamsters represented only a fraction of Overnite's workers, but believed they could use other means to win company recognition of the union. Initially, about 2,000 workers walked the picket line in 12 states. The strike turned violent, however, and both sides accused the other of bribery, spying, intimidation and more. By August 2002, only 300 to 600 workers remained on strike. The Teamsters called the strike off without securing a contract or union recognition.Greenhouse, \"Teamsters End 3-Year Strike Against Trucker Without Contract,\" New York Times, October 26, 2002. American Standoff focuses primarily on two Teamster members and a staff organizer and how they are affected by the strike. However, the film roves over the entire United States, visiting Memphis, Atlanta, Chicago, Boston, and Las Vegas. The strike is placed in the context of Hoffa's struggle to secure his political base within the Teamsters' union. Hoffa not only faced political attacks from union reformers but also from other union leaders who believed they could unseat the newly-elected president in the 2002 election.Greenhouse, \"Bitter 6-Month Strike at Overnite Poses a Test for Teamsters' Chief,\" New York Times, May 7, 2000. The internecine struggle for power in the Teamsters limits the effectiveness of the union's response, although Hoffa appears to emerge stengthened.Ross, \"INTERVIEW: Behind The Strike Lines: 'American Standoff' Director Kristi Jacobson Chronicles the Teamsters,\" IndieWire, June 7, 2002. The film concludes in mid-2001, with the strike still lingering, workers increasingly disenchanted, and the union struggling to find an acceptable exit strategy.\n",
            "Recommended film has ID 4993\n",
            "Its categories are ['\"Musical\",  \"Comedy\",  \"Musical comedy\"']\n",
            "Its summary is: It is the story of a young musician Dick Powell, sent to Hollywood, to become a star. It doesn't work out at first but he triumphs in the end. Great musical numbers and light comedy. In his second  film appearance, a youthful Ronald Reagan appears briefly as the announcer during a scene at a Hollywood film premiere. The film also co-stars comedian Ted Healy, as a wise-cracking Hollywood photographer. Healy is perhaps best known for creating the Vaudeville act which later evolved into The Three Stooges. Ironically, \"Hollywood Hotel\" was released in January 1938, less than a month after Healy's untimely death.\n",
            "Recommended film has ID 3474\n",
            "Its categories are ['\"Crime Fiction\",  \"Drama\",  \"Political drama\",  \"New Hollywood\"']\n",
            "Its summary is: The film begins with a shot at a loading dock in Cleveland, Ohio in 1937. The supervisor is Mr. Gant, who welcomes a new worker, Lincoln Dombrowsky . Gant tells him the job requirements and pay rules. He'll be paid for working 8 hours and if he has to work overtime, he still gets paid only for 8 hours. If he drops any of the merchandise, the cost comes directly out of his pay. These are examples of unfair working practices faced by the laborers. Later Dombrowsky drops a few carts of tomatoes, which is taken out of his pay; another worker is fired for helping him pick it up. Johnny Kovak , another worker resentful of mistreatment, leads a riot. Afterward, the workers go to the office of Boss Andrews. Kovak believes he negotiates a deal for the workers, but the next day he and his friend Abe Belkin  are told they are fired. While commiserating in bars, Kovak and Belkin are approached by Mike Monahan, who saw Kovak's leadership. He offers them positions in the Federation of Interstate Truckers . They will be paid according to how many members they can recruit, and they reluctantly join. Given a car for recruiting, Kovak tries to meet a woman, Anna Zarinka . They begin to see each other. At the same time, he starts to gain some members, which attracts attention from business owners. They offer him a deal to join them and be a voice in helping bring more workers to trucking. After rejecting the offer, Kovak is physically attacked. He continues to work on union recruiting. Another leader of F.I.S.T., Max Graham , is known by many workers as a hothead. He and Kovak compete for superiority. Soon Monahan, Kovak and Abe begin working to get the F.I.S.T. members at Consolidated Trucking covered by a labor agreement. When management refuses to deal with them, the F.I.S.T. workers strike. They set up camp outside Consolidated Trucking's gates, but are pushed out by strikebreakers and hired security. Monahan tries to ram the gates in a truck, but is shot and killed. At his funeral, Kovak decides to \"get some muscle\" and accepts help from Vince Doyle ([[Kevin Conway , a local gangster. Doyle's men attack trucks trying to make deliveries. Local mobsters and the members of F.I.S.T. join forces to storm the gates of Consolidated Trucking. In the end the President of Consolidated Trucking signs a labor agreement. After the strike, Kovak and Abe travel throughout the Midwest to recruit more workers. Kovak becomes wealthier and marries Anna. A new crime figure, Babe Milano , comes on the scene and wants some piece of the action. Kovak meets Milano with Doyle and, although reluctant to involve him in his business, decides it will be best for now. Twenty years later, F.I.S.T. has become a large and important union, with about two million members and a fancy headquarters. When Kovak visits Max Graham at the headquarters, he is displeased to see how luxurious the building and Graham's offices are. Located on the west coast, Belkin is still important in the union. As Kovak visits with Belkin, the latter tells him that Graham has made money unethically off the union. In his investigation, Kovak finds that Graham used his influence to steer union businesses and funds to shell companies owned by him or his wife. The violent ways of the union are shown by a physical assault against the wife of a trucking company owner who resisted union organizing of his workers. At the F.I.S.T. convention, a new union president is to be elected, with Graham a strong favorite. At a private meeting, Kovak tells Belkin of Graham's criminal deeds. Belkin encourages turning the man in to the authorities. Disagreeing, Kovak is worried about the effects of a scandal on the union, which he wants to protect. Meeting with Graham, Kovak confronts him and suggests he quit his run for union president to support Kovak. Elected president of F.I.S.T., Kovak is investigated by Senator Madison , who suspects the labor leader of ties with the Mafia. When Belkin visits Kovak again, he urges the president to cut off Milano and make the union \"clean again\". Kovak ignores his request. Doyle later tells Kovak that Belkin will testify against him, Milano and everyone else, but Kovak insists that Abe be protected. Called in to testify in a hearing led by Senator Madison, Kovak is told that Abe Belkin has been killed and the senator believes Kovak is responsible. Shocked, Kovak has an emotional outburst and storms out of the hearing. That night when he returns home, he finds Anna and his children are missing. He gets his pistol but is shot and killed in the house by Milano's men. They feared that Kovak would cut the mob out and testify against Milano. The movie ends with a shot of a bumper sticker on a truck, which reads, \"Where's Johnny?\"\n"
          ]
        }
      ],
      "source": [
        "id = 3614\n",
        "films = content_recommender(id, 5, corpus_tf_idf_2)\n",
        "print(\"Film to find recommendations has ID {}\".format(id))\n",
        "print(\"Its categories are {}\".format(categories[id]))\n",
        "print(\"Its summary is: {}\".format(summaries[id][0]))\n",
        "for film in films:\n",
        "  print(\"Recommended film has ID {}\".format(film))\n",
        "  print(\"Its categories are {}\".format(categories[film]))\n",
        "  print(\"Its summary is: {}\".format(summaries[film][0]))"
      ]
    },
    {
      "cell_type": "code",
      "execution_count": null,
      "metadata": {
        "colab": {
          "base_uri": "https://localhost:8080/"
        },
        "id": "PR3TpMxuyHZI",
        "outputId": "87574e36-8c1c-4318-9303-9ddcbbeba29e"
      },
      "outputs": [
        {
          "name": "stderr",
          "output_type": "stream",
          "text": [
            "/usr/local/lib/python3.7/dist-packages/scipy/spatial/distance.py:720: RuntimeWarning: invalid value encountered in double_scalars\n",
            "  dist = 1.0 - uv / np.sqrt(uu * vv)\n"
          ]
        },
        {
          "name": "stdout",
          "output_type": "stream",
          "text": [
            "Film to find recommendations has ID 361\n",
            "Its categories are ['\"Thriller\",  \"Mystery\",  \"Horror\",  \"Psychological thriller\",  \"Supernatural\"']\n",
            "Its summary is: Rosanna Arquette stars as Martha Travis, a medium who hosts a touring clairvoyant show with her alcoholic father Walter  where she helps members of the audience make contact with deceased relatives. At one meeting, she foretells the violent death of a local factory employee , a whistleblower who was set to reveal corporate malpractice at the plant, and soon becomes the target of the killer herself. At a subsequent meeting in the town, she appears to identify several other individuals who are set to die or be killed. A sceptical local journalist investigating the death, Gary Wallace , begins following the couple and the story. The story is told in flashback, with the opening scenes showing Wallace searching for the reclusive Martha many years after the events depicted in the main body of the film.\n",
            "Recommended film has ID 4368\n",
            "Its categories are ['\"Romantic comedy\",  \"Black comedy\",  \"Romance Film\",  \"Comedy\",  \"Slapstick\"']\n",
            "Its summary is: The film begins with Martha Alston  in a wedding gown incarcerated in a Mexican prison. The investigators call her Mrs. Crawford and listen to her explain why she committed murder on her wedding day. Some time ago, at her younger sister's wedding, Martha is pestered by her family about when she'll get married. At work, she rejects a date with a younger co-worker, Walter . Disappointed by her dull Valentine's Day blind date, Martha goes home to sulk in front of the TV, where, inundated by romantic imagery, she is prompted to get out of the house. Martha goes to a bar where she drops her quarter in front of the jukebox. She bends down to get it, then a man shows up and selects the same song Martha would have chosen. The man is Whitman Crawford , and they instantly hit it off. They go back to his house and have sex. Whitman says he's a poet and an investor. He reads Martha one of his poems. Martha introduces Whitman to her family and he impresses them. But by the time Martha meets Whitman's mother, Martha has become convinced Whitman is not Mr. Right at all. Whitman's ex-girlfriend Inga  and her accomplice Bob  harass Martha. Inga refuses to believe that Martha has dumped Whitman. Whitman refuses to believe it either, and begins stalking Martha and trying to woo her back in increasingly ridiculous ways. Whitman even buys off Martha's private investigator  and abducts Martha to Mexico to marry her there. Walter shows up to rescue Martha from the wedding, but trips. His gun falls into Martha's hand and she shoots Whitman. Then she's arrested, and the investigators conclude that she murdered Whitman. Walter springs her out of jail and explains that it was Inga who shot Whitman. Walter and Martha ride a horse West towards the sunset. Title cards over this scene explain that they eventually turned North towards the American border, that Inga and Bob get married and open a pet store in Albuquerque, and that Whitman continues his search for love.\n",
            "Recommended film has ID 2802\n",
            "Its categories are ['\"Action\",  \"Adventure\",  \"Black-and-white\"']\n",
            "Its summary is: Butte Morgan plans to take over the circus my marrying Maria Wallace. She, however, is interested only in the trick rider Jack Grant. \n",
            "Recommended film has ID 3555\n",
            "Its categories are ['\"Thriller\",  \"Crime Fiction\",  \"Psychological thriller\",  \"Black-and-white\",  \"Drama\",  \"Film noir\"']\n",
            "Its summary is: A power struggle ensues after the death of media magnate Amos Kyne, whose corporation has been turned over to his sole heir, his foppish son Walter. Rather than run the company himself, Walter decides to let the heads of its three divisions fight it out for control. Their assignment is to score an exclusive story on a serial killer who is terrorizing women in New York. The Kyne organization's newspaper dubs him \"The Lipstick Killer.\" If a resourceful someone can identify him even before the police do, Walter Kyne will reward him with the title of executive director. One of the three, newspaper editor Jon Day Griffith, has an ally in high-profile reporter Edward Mobley, who also does reports on Kyne's television network. While wire-service chief Mark Loving recruits star writer Mildred Donner to be his eyes and ears, a third contender for the top job, Harry Kritzer, carries on a secret affair with Dorothy, who is Walter Kyne's wife. Mobley becomes engaged to Loving's secretary, Nancy Liggett. As his police friend, Lt. Kaufman, gives him inside information on the murder investigation, Mobley taunts the killer on TV and uses Nancy as bait, hoping to lure the Lipstick Killer into coming after her. In the end, the lives of both Nancy and Dorothy, who live across the hall from one another, are placed in serious danger at the Lipstick Killer's hands. And, although one of the three contenders for the executive director's job wins the contest, another has a surprise in store.\n",
            "Recommended film has ID 3488\n",
            "Its categories are ['\"Romance Film\",  \"Musical\",  \"Drama\",  \"Comedy\"']\n",
            "Its summary is: The film takes place in a small Iowa town in 1927. A traveling Chautauqua company arrives in the town, but internal squabbles create friction amidst the troupe. The new manager, Walter Hale , is trying to prevent Charlene, the troupe’s “Story Lady” , from recruiting the performers to form a union. Meanwhile, the town has a scandal following the murder of the local pharmacist Wilby . Although a shady gambler is arrested, Walter realizes that the real killer is Nita , one of Wilby’s employees. Walter successfully gets Nita to confess during a Chautauqua performance, where she makes public the sexual harassment that Wilby directed at her. Nita’s self-defense plea frees the wrongly jailed man, but Charlene is outraged that Walter used the crime to financially enrich the Chautauqua, and attempts to quit. Walter attempts to reason with Charlene, but when she refuses to give in, he deceives her and uses the local police force to be sure that she must leave on the train with the rest of the troupe.\n",
            "Recommended film has ID 3501\n",
            "Its categories are ['\"Cult\",  \"Horror\",  \"Slasher\",  \"Teen\"']\n",
            "Its summary is:  A flight attendant attacks passengers and crew on an airplane, which turns out to be a scene in a film shooting at a film academy. As the students are preparing for their thesis films and the prestigious Hitchcock award, a student named Amy Mayfield  is unsure about her thesis. But after a conversation with security guard Reese Wilson , , she decides to make a film about a serial killer murdering in the fashion of urban legends. Meanwhile, a student named Lisa  is drinking in a bar, when someone drugs her drink. Lisa feels dazed and prepares to leave the bar, when someone abducts her. She wakes up in a bath-tub filled with ice and discovers that her kidney was removed. Attacked by her abductor, she tries to flee through the window and is decapitated in the process. Lisa is not missed as she was about to go on a trip. The next day, Amy is preparing the shooting of her thesis film but is deserted by the assigned camera man, Toby Belcher , who accuses Amy of stealing his thesis idea. Shooting begins with another camera man, Simon. When Sandra , Amy's actress friend who played a victim in a scene, returns to an empty studio after forgetting her keys, she is attacked by the same killer who killed Lisa. Her friends witness her death when the material is smuggled into a sequence of takes of the scene, but discount it as another piece of acting, wondering who shot it. As there is no body and Sandra was about to go on a trip, her disappearance goes unnoticed. Travis , a friend of Amy who was depressed about having received a poor grade on his thesis film, is found to have committed suicide at the campus tower. At the funeral, Amy is offered help by Graham , a student from a prosperous Hollywood background. She refuses, wishing to make it on her own. This offends Graham, who thinks it hypocritical, as Amy grew up in Hollywood as the daughter of a famous documentary film maker before moving to Chicago. At night, Amy enters the tower and is surprised by Trevor, Travis' twin brother, who claims that Travis was murdered. The next night, Simon  is attacked by the killer but his screaming for help goes unnoticed as the others are doing the \"midnight scream\". Amy, who has heard his last scream on her head phones, is suspicious and asks Reese to review the surveillance tapes. After she has detected the assault on Simon on the tapes, she is confronted by the killer. During the ensuing chase, she loses the tapes and cannot prove her claims to a skeptical Reese. Amy now believes the claims of Trevor and meets up with him but, he still refuses to inform the police, hinting at a criminal past. The next scene to be shot involves the \"Tunnel of Terror\", which is set up in an old carnival ride. Sophomores Stan  and Dirk  are attacked and electrocuted by the killer while preparing the tunnel. Amy, who is taking a tour of the tunnel, discovers the corpses and is again confronted by the killer. She escapes again and informs the police, who attribute the deaths to accidental electrocution. Amy is comforted by Trevor. They begin having sex when Trevor suddenly stabs Amy. She wakes up and realizes that it was only a dream. Seeing a light on at the bell-tower, she decides to go there and finds her lesbian friend, Vanessa . Vanessa received a love note supposedly written by Amy, but when Amy disclaims any knowledge of such a note, the two are attacked by the killer and chased to the top of the tower, where Vanessa is captured. Meanwhile, Amy is locked in a room also containing Sandra and Simon's corpses. When Amy manages to break out, she finds Vanessa being hanged from the bell. Amy runs out of the tower into the arms of Trevor, who has found out that the thing the victims all had in common was their having worked on Travis' thesis film. They review Travis' film, which turns out to be awful, and find out that somebody placed Travis' credits onto another film. They suspect Toby, the only person working on the film left alive. They kidnap him and call in Professor Solomon  to present their suspicions. However, Toby reveals that Travis faked Toby's sound credit to help him graduate admitting that he never went anywhere near Travis' film. Upset that he gave Toby \"an A for nothing\", Professor Solomon shoots Toby and threatens Amy and Trevor. He also reveals that he murdered Travis making it look like a suicide. He holds Trevor at gunpoint and Amy yells to him is this what he wants. He reveals feeling trapped in a teaching position since failing to win the Hitchcock award in his student days for which he blames Amy's father, who cast the deciding vote against him. He now wanted to take credit for Travis' brilliant film and use Amy's Urban Legend film to eliminate all who worked with Travis, framing Amy in the process. Graham, who has been lurking in the back all this time, hits Solomon with a chair hoping to knock him out, but is shot by the professor after saying, \"It only works in movies.\" In the confusion, Trevor manages to disarm the professor. Then, Solomon threatens Trevor with a shovel while Amy gets a hold of the gun and threatens Solomon. Reese storms in, thinking Amy to be the killer, and forces her to drop the gun. Solomon accuses Amy, and calls attention to the fact that Reese saw Amy running out of the tower. As Reese never told anyone about this, she becomes suspicious and punches the professor. He tries to take her gun, but in the ensuing brawl, Reese's gun is lost amongst a pile of prop guns. Amy, Trevor and Solomon all grab for a gun. Trevor's gun is a fake when he tries to shoot Solomon, and Solomon's gun is a fake when he tries to shoot Amy. Amy got a hold of Reese's gun but hesitates to fire. Solomon attacks her again, but she shoots him. Then scene then cuts to the Hitchcock awards, where an award is posthumously given to Travis. As Trevor is about to accept the award on his late brother's behalf, a sniper appears in the rafters, only to be shot down by Reese. The altercation is then revealed to be a scene in Amy's new film \"Urban Legends\". We also see that Toby and Graham survived their attacks and are now busily working on her behalf. The final scenes show Solomon in a mental institution where, after watching Amy's film, the nurse asks him if he enjoyed the movie. He is wheeled out by a nurse, who is revealed to be Brenda , the previous film's killer saying that they have a lot in common.\n"
          ]
        }
      ],
      "source": [
        "id = 361\n",
        "films = content_recommender(id, 5, corpus_tf_idf_2)\n",
        "print(\"Film to find recommendations has ID {}\".format(id))\n",
        "print(\"Its categories are {}\".format(categories[id]))\n",
        "print(\"Its summary is: {}\".format(summaries[id][0]))\n",
        "for film in films:\n",
        "  print(\"Recommended film has ID {}\".format(film))\n",
        "  print(\"Its categories are {}\".format(categories[film]))\n",
        "  print(\"Its summary is: {}\".format(summaries[film][0]))"
      ]
    },
    {
      "cell_type": "markdown",
      "metadata": {
        "id": "vQwndiHhxoBP"
      },
      "source": [
        "**<h4>Μοντέλο Word2Vec glove-twitter-25</h4>**"
      ]
    },
    {
      "cell_type": "code",
      "execution_count": null,
      "metadata": {
        "colab": {
          "base_uri": "https://localhost:8080/"
        },
        "id": "Twvtg7bixmv5",
        "outputId": "e166fdcb-a390-4f58-9845-9377b585ce49"
      },
      "outputs": [
        {
          "name": "stdout",
          "output_type": "stream",
          "text": [
            "Film to find recommendations has ID 3614\n",
            "Its categories are ['\"Biographical film\",  \"Drama\"']\n",
            "Its summary is: The film opens at the 1937 Academy Awards, where Biberman's wife, Gale Sondergaard , wins the first ever \"Best Supporting Actress\" Oscar. Although the anti-Fascist sentiment in her acceptance speech gets her labeled a \"commie\" by some observers, she and Biberman  are placed under contract at Warner Bros. He first comes under scrutiny more for his Jewish background than his political activities. Yet, with Cold War paranoia growing, a group of Hollywood directors and actors — Biberman, Sondergaard, Danny Kaye, and Dalton Trumbo among them—are labeled Communists and questioned before Congress. After refusing to testify against his colleagues, he is imprisoned in the Federal Correctional Institution at Texarkana for a period of six months. Once released, he discovers his Hollywood career is finished.  Sondergaard suggests her husband direct a screenplay about the real-life 1950-51 strike waged by Mexican-American miners against the Empire Zinc Company in Bayard, New Mexico written by Michael Wilson, also a victim of the blacklist, and Biberman's brother Michael. She feels the lead role of Esperanza Quintero, who rallied the wives of the unemployed miners and urged them to support their husbands, is an ideal way to jump-start her stagnating career. Biberman agrees, but after meeting with the people who participated in the strike and being inspired by their passion, he decides all roles should be played by ethnic actors. Because the film has no studio backing and most Hollywood players fear being associated with Biberman and the project, he eventually casts local residents from Grant County, New Mexico and members of the International Union of Mine, Mill and Smelter Workers, Local 890 to fill most of the roles. Juan Chacón, the Union Local president, is cast as the fiery Ramon Quintero opposite Mexican actress Rosaura Revueltas as his wife Esperanza. Will Geer is one of only five Hollywood actors to accept a role in the production. The FBI investigates the film's financing, attempts to steal the film's negatives, tells film-processing labs not to work on the film when they are unable to locate them, incites locals who are unhappy with the film crew's presence to set fire to many of the sets, and eventually deports Revueltas on bogus charges. Biberman stands his ground and completes the film, using scenes with Revueltas that were shot in her native Mexico and then smuggled into the US.\n",
            "Recommended film has ID 2598\n",
            "Its categories are ['\"Political cinema\",  \"Short Film\",  \"Documentary\"']\n",
            "Its summary is: The film begins with an August 21, 2006 White House press conference from President George W. Bush in which he reiterates his commitment to help the city recover. Palast points out that over half a million people fled the flood and one year later only 170,000 have returned, almost none to their own homes, and sets out his plan to answer the questions; * Why did they have to leave? What really caused the flood? * Why can’t they come back now? Palast goes to the offices of IEM a private corporation which the Bush administration had contracted evacuation planning to for US$500,000. He contends that the company had no experience in the field, had failed to come up with a plan, and had only been awarded the contract because it was a major contributor to Republican Party funds. Dr. Ivor Van Heerden of LSU supports some of the claims. Palast visits the London Avenue Canal levee with former city councilman Brod Bagert to show the results of the levees breaking. Dr. Van Heerden reveals that the levees were deliberately constructed below standards and the Bush administration had been warned. Furthermore the Federal Emergency Management Agency  and the White House knew when the levees broke but they failed to warn anybody. Palast travels to the FEMA trailer park where 73,000 families that fled Hurricane Katrina continue to live locked behind a barbed wire fence. Back in New Orleans, he reveals that all public housing, even those unaffected by the hurricane, have been sealed and residents who try to return to their homes face official harassment as the storm is used as an excuse to reclaim valuable real estate. Palast’s final revelation is that the private consulting firm contracted by the government to analyse what went wrong with the response to Hurricane Katrina is IEM.\n",
            "Recommended film has ID 4774\n",
            "Its categories are ['\"Thriller\",  \"Ensemble Film\",  \"Drama\",  \"Political drama\",  \"War film\"']\n",
            "Its summary is: Two determined students at a West Coast university, Arian  and Ernest , at the urging of their idealistic professor, Dr. Malley , attempt to do something important with their lives. They make the bold decision to commission in the army to fight in Afghanistan after graduating from college. Dr. Malley also attempts to reach talented and privileged, but disaffected, student Todd Hayes  who is not at all like Arian and Ernest. He is naturally bright, comes from a privileged background, but has apparently slipped into apathy upon being disillusioned at the present state of affairs. Now, he devotes most of his time to extra-curricular activities like his role as president of his fraternity. Malley tests him by offering a choice between a respectable grade of 'B' in the class with no additional work required or a final opportunity to re-engage with the material of the class and \"do something.\" Before Todd makes his choice, he must listen to Dr. Malley's story of his former students Arian and Ernest and why they are in Afghanistan. Meanwhile, in Washington, D.C., a charismatic Republican presidential hopeful, Senator Jasper Irving , has invited liberal TV journalist Janine Roth  to his office to announce a new war strategy in Afghanistan: the use of small units to seize strategic positions in the mountains  before the Taliban can occupy them. The senator hopes that Roth's positive coverage will help convince the public that the plan is sound. Roth has her doubts and fears she is being asked to become an instrument of government propaganda. Near the end of the film, she informs her commercially-minded boss of her plans to call out the senator's new strategy for what she feels is a ploy, but is shot down. Ultimately, Irving's version of the story is run without the critical interaction. Whether Roth gave in and toed the company line or quit her job is not clear. In Afghanistan, a helicopter carrying Arian and Ernest is hit by Taliban soldiers. Ernest falls out, and Arian jumps after him. Ernest's leg is badly wounded, and he suffers a compound fracture, rendering him immobile as the Taliban arrive. After a drawn-out gunfight, the U.S. soldiers run out of ammunition. Rather than getting captured, Arian helps Ernest stand up, facing the enemies and turning their empty weapons against them, an action which prompts the Taliban to kill them. The unit commanders attempt a rescue of the downed soldiers, sending A-10 Warthogs, but the weather, time, and distance interfere. Hayes is then seen watching television with a friend. A reporter is discussing a singer's private life, while below runs a strip announcing Senator Irving's new military plan for Afghanistan. He suddenly falls quiet, contemplating the choices with which his professor had left him.\n",
            "Recommended film has ID 1419\n",
            "Its categories are ['\"Drama\",  \"War film\"']\n",
            "Its summary is: November 1939. Gertrud Habersaat is a maid in the house of the Leßtorffs, the richest farmers in Rakowen, a village in Mecklenburg. She is pregnant with Jürgen Leßtorff's baby, and hopes he will marry her. But after returning from the war in Poland, he forsakes her in favor of Countess Palvner and joins Hans Frank's staff in the newly-formed General Government. Gertrud is forced to have an abortion and to marry Emil Kalluweit, a landless worker. Willi Heyer, a communist recently released from prison who was on probation in Rakowen, escapes to join the underground.   Kalluweit is given a farm in Poland, where he and his wife are to be part of the new 'Master Race'. They witness the brutal deportation of the local Poles. Gertrud saves a little girl, Mala, who is harassed by SS men and adopts her. Heyer, who is now imprisoned in a concentration camp, saves Polish professor Pinarski from the AB Action; they escape the camp. When Gertrud discovers that Mala is Jewish, she finds Leßtorff and convinces him to arrange fake papers for her; he agrees, on condition that she takes in another child, Stefan. Kalluweit volunteers to join the Wehrmacht after SS officer Schneider wants to draft him to his organization.  In 1945, Gertrud and the children flee the Red Army. She returns to Rakowen, where Heyer is appointed mayor by the Soviet authorities. Leßtorff returns, after hiding his wartime activities from his British captors. Heyer confiscates the rich farmers' cows to provide milk for the starving children of the refugees. When Heyer leaves to meet the Soviet commandant, the wealthy villagers seize power again. Schneider, who hides in Leßtorff's farm, threatens Gertrud not to reveal his identity. She leaves the village, but the returning Heyer convinces her to stay. He confronts the villagers and wins them over. Gertrud exposes Schneider, who kills Jürgen while trying to escape. Countess Palvner, who owned most of the village's land, is deported and her possessions are re-distributed to her former serfs.  The need to modernize and to maximize production leads most of the villagers to agree to the formation of an agricultural cooperative. Gertrud resists the plans to hand over her land, but Heyer convinces her to accept it, and she eventually becomes the chairperson of the new cooperative.  Emil Kalluweit, now a rich West German businessman, returns to the village and tries to convince Gertrud to leave with him. Stefan's mother is revealed to be alive, and visits her son, who is torn between her and his German upbringing. Gertrud decides to remain in Rakowen, starting a new life with Heyer.\n",
            "Recommended film has ID 1760\n",
            "Its categories are ['\"Adventure\",  \"Costume drama\",  \"Action/Adventure\",  \"Western\",  \"War film\",  \"Cavalry Film\"']\n",
            "Its summary is: During the American Civil War, Union cavalry officer Major Amos Dundee  is relieved of his command for an unspecified tactical error  at the Battle of Gettysburg and was sent to head a prisoner-of-war camp in the New Mexico Territory. After a family of ranchers and a relief column of cavalry are massacred by an Apache war chief named Sierra Charriba , Dundee seizes the opportunity for glory, raising his own private army of Union troops , Confederate prisoners led by his former friend and rival from their days at West Point, Captain Tyreen , several Indian scouts, and a gang of civilian mercenaries to illegally pursue Charriba into Mexico. Tyreen bears a grudge against Dundee. Before the war, Dundee cast the deciding vote in Tyreen's court-martial from the U.S. Army for participating in a duel. However, having given his word of honor, the chivalrous Tyreen binds himself and his men to serve loyally, but only until Charriba has been dispatched. When the diverse factions of Dundee's force aren't fighting each other, they engage the Apaches in several bloody battles.The film is narrated by young bugler, Tim Ryan , whose diary is meant to serve as an ironic counterpoint to the action. The Americans lose most of their supplies in an Apache ambush, forcing them to raid a village garrisoned by French troops loyal to Emperor Maximilian of Mexico. However, there is little to loot, and Dundee ends up sharing some of his dwindling food with the starving Mexicans. Beautiful resident Teresa Santiago , the widow of a doctor executed for his support of the rebels under Benito Juárez, causes further tensions between Dundee and Tyreen. Dundee makes it easy for his French prisoners to escape. When they return with reinforcements as he had expected, Dundee surprises them in a night attack and makes off with badly needed supplies. Teresa ultimately has a short-lived affair with Dundee. In an unguarded moment with her, he is wounded by the Apaches in the leg, forcing him to seek medical help in French-held Durango. The doctor successfully removes the arrow, but Dundee has to remain there to recuperate. He is tended by a pretty Mexican, whom he eventually takes to bed. When Teresa comes upon them unexpectedly, her relationship with Dundee comes to an abrupt end. Dundee starts drinking heavily as a result. Tyreen has to sneak into town and shame Dundee into resuming his mission. Charriba proves difficult to pin down, so Dundee pretends to give up and starts back for the United States. The Apaches give chase and end up in a trap. Charriba is finally killed. With their bargain concluded, Dundee and Tyreen prepare to resume their own personal battle, but the vengeful French appear, forcing the two men to set aside their differences. The two cavalry forces charge each other at the Rio Grande River. When Tyreen is fatally shot, he rides off to singlehandedly delay a second detachment of French cavalry while the others escape.\n",
            "Recommended film has ID 833\n",
            "Its categories are ['\"Action/Adventure\",  \"Crime Fiction\",  \"Action\",  \"Thriller\",  \"Comedy\"']\n",
            "Its summary is: The film opens as two white nationalists destroy an apartment complex in which most of the residents are minorities. A veteran police officer and his police dog, Reno, investigate the crime and realize the explosives are military in style. Their investigation takes them to the harbor, where they find a ship loaded with weapons. They are discovered and shot; the officer dies, but Reno survives. Maverick cop Jake Wilder , who is suspended from duty, is called by police captain Ken Callahan , who requests Wilder to take over the case. Wilder is angered that he has to work with Reno, despite Reno proving himself capable through a battle training scenario. Meanwhile, Neo-Nazis are trying to smuggle weapons across the border from Mexico. It is implied that they murdered their Mexican arms dealers. They are stopped by the Border Patrol and try to escape, but their car is destroyed in the process. Wilder and Reno survive an assassination attempt at Wilder's home. Afterwards, Wilder is visiting his mother, who reveals that Adolf Hitler's birthday will be the following day. Jake realizes this a clue, and takes off running. The police department works with the sheriff's office, as well as the FBI in determining where the Neo-Nazis are going to hit. One officer reveals that on Hitler's birthday, the Pope, and several other of his esteemed bishops will host the Coalition for Racial Unity. As the Neo-Nazis hitmen are practicing for their attack, the leaders are revealed not to be just one white supremacist group, but an alliance of several including the Ku Klux Klan, the Aryan Nations, and the Church of the Creator. They plan to use their attack on the Coalition for Racial Unity as an opportunity to unite all the Neo-Nazi groups in the US, as well as the world. Wilder discovers the location of the warehouse where the Neo-Nazis are located. He and Reno go undercover and manage to steal a piece of evidence that could be used to convict the Neo-Nazi leaders. They are discovered and Jake orders Reno to flee with the evidence. Wilder subdues several radicals during the following fight, however he is finally captured, after a dozen attackers confront him at once, and he's hit on the head with a blunt object. He wakes up to find that the Neo-Nazi plan is under way. Reno finds Wilder, and eats away his binds, just before a Neo-Nazi kills him. Wilder is able to call the police chief and tells him the plan is in motion. The police, FBI, CTU, and Sheriff's Department arrive as the Coalition for Racial Unity is attacked. The Pope and his Bishops get in their bulletproof car, but it is rigged to explode. Wilder defuses the bomb, while Reno goes after the Neo-Nazi leader. Wilder chases after him as well, and after a vicious fight, manages to subdue him. Reno is set to attack the Neo-Nazi leader, who confesses to killing the veteran cop. Just before Reno can attack the leader, the dead cop's grandson arrives to stop him.\n"
          ]
        }
      ],
      "source": [
        "id = 3614\n",
        "films = content_recommender(id, 5, tfw2v_2)\n",
        "print(\"Film to find recommendations has ID {}\".format(id))\n",
        "print(\"Its categories are {}\".format(categories[id]))\n",
        "print(\"Its summary is: {}\".format(summaries[id][0]))\n",
        "for film in films:\n",
        "  print(\"Recommended film has ID {}\".format(film))\n",
        "  print(\"Its categories are {}\".format(categories[film]))\n",
        "  print(\"Its summary is: {}\".format(summaries[film][0]))"
      ]
    },
    {
      "cell_type": "code",
      "execution_count": null,
      "metadata": {
        "colab": {
          "base_uri": "https://localhost:8080/"
        },
        "id": "EzopeUXDyLeu",
        "outputId": "a7882410-16f0-4306-86e5-41e90e244607"
      },
      "outputs": [
        {
          "name": "stdout",
          "output_type": "stream",
          "text": [
            "Film to find recommendations has ID 361\n",
            "Its categories are ['\"Thriller\",  \"Mystery\",  \"Horror\",  \"Psychological thriller\",  \"Supernatural\"']\n",
            "Its summary is: Rosanna Arquette stars as Martha Travis, a medium who hosts a touring clairvoyant show with her alcoholic father Walter  where she helps members of the audience make contact with deceased relatives. At one meeting, she foretells the violent death of a local factory employee , a whistleblower who was set to reveal corporate malpractice at the plant, and soon becomes the target of the killer herself. At a subsequent meeting in the town, she appears to identify several other individuals who are set to die or be killed. A sceptical local journalist investigating the death, Gary Wallace , begins following the couple and the story. The story is told in flashback, with the opening scenes showing Wallace searching for the reclusive Martha many years after the events depicted in the main body of the film.\n",
            "Recommended film has ID 3555\n",
            "Its categories are ['\"Thriller\",  \"Crime Fiction\",  \"Psychological thriller\",  \"Black-and-white\",  \"Drama\",  \"Film noir\"']\n",
            "Its summary is: A power struggle ensues after the death of media magnate Amos Kyne, whose corporation has been turned over to his sole heir, his foppish son Walter. Rather than run the company himself, Walter decides to let the heads of its three divisions fight it out for control. Their assignment is to score an exclusive story on a serial killer who is terrorizing women in New York. The Kyne organization's newspaper dubs him \"The Lipstick Killer.\" If a resourceful someone can identify him even before the police do, Walter Kyne will reward him with the title of executive director. One of the three, newspaper editor Jon Day Griffith, has an ally in high-profile reporter Edward Mobley, who also does reports on Kyne's television network. While wire-service chief Mark Loving recruits star writer Mildred Donner to be his eyes and ears, a third contender for the top job, Harry Kritzer, carries on a secret affair with Dorothy, who is Walter Kyne's wife. Mobley becomes engaged to Loving's secretary, Nancy Liggett. As his police friend, Lt. Kaufman, gives him inside information on the murder investigation, Mobley taunts the killer on TV and uses Nancy as bait, hoping to lure the Lipstick Killer into coming after her. In the end, the lives of both Nancy and Dorothy, who live across the hall from one another, are placed in serious danger at the Lipstick Killer's hands. And, although one of the three contenders for the executive director's job wins the contest, another has a surprise in store.\n",
            "Recommended film has ID 2560\n",
            "Its categories are ['\"World cinema\",  \"Action/Adventure\",  \"Martial Arts Film\",  \"Comedy\",  \"Action\",  \"Chinese Movies\"']\n",
            "Its summary is: Police officer Kit  leaves his job after his family is killed by a terrorist named The Doctor. Kit becomes a bodyguard for movie star Frankie  who is reported to perform his own stunts. The report is untrue; Frankie is a drunken womanizer incapable of performing the stunts, and Kit performs them for him. Frankie attends a gala event in a high-rise hotel where The Terrorist shows up and takes everyone hostage. Kit has an opportunity to face his family's killer and save Frankie and the rest of the hostages.\n",
            "Recommended film has ID 4501\n",
            "Its categories are ['\"Parody\",  \"Period piece\",  \"Drama\",  \"Comedy\",  \"Coming of age\",  \"Family Film\"']\n",
            "Its summary is: Gene Loomis  and his brother Dennis  live on a military base in Key West, Florida; their father is away onboard one of the nearby submarines. After leaving the announcement of an exclusive engagement of Lawrence Woolsey's  Mant!, including Woolsey's appearance in-person, they arrive home to John F. Kennedy's television interruption, stating the presence of Soviet missiles in Cuba. Woolsey finds this atmosphere of fear to be the perfect environment in which to open his film, Mant! in Atomo-Vision and Rumble-Rama. Woolsey brings along Herb Denning  and Bob  to stir up the yokels by protesting the film, but Howard, the theatre manager , assures him that \"the people of Key West are not yokels\". Indeed, the progressive Jack and Rhonda  find a strong free speech argument in allowing the film to proceed. New to the local high school, and not getting along with the similarly-aged Andy  on the base, Gene ends up associating with Stan , and becomes infatuated with Jack and Rhonda's daughter, Sandra , after she takes a detention for protesting the uselessness of an air raid drill and yelling the truth of the faux protection at the students in the hall. In attempting to get a date to the dance, Stan goes for Sherry , who was seeing a prison poet, Harvey Starkweather , who regularly bothers Stan about his interest in her . The film is structured in halves: the first half leading up to the screening, and the second half depicting the screening and what goes on at and around it. The film also showed the differences in two young women who would eventually become the girlfriends of the two boys in the film. The girlfriend of Gene had more progressive ideas of what a woman might become, whereas the eventual girlfriend of Stan was more in line with what society at the time of the film thought a young lady should be. The film also includes scenes from Mant!  that sharply skewer cheap 1950s sci-fi and horror flicks.\n",
            "Recommended film has ID 2038\n",
            "Its categories are ['\"Crime Fiction\",  \"Mystery\"']\n",
            "Its summary is: A woman reporter helps an inspector solve the deaths of four financiers on the eve of a group shareout. Based on \"Les Six Hommes Morts\"  by André Steeman. Robert Norman is shot dead at his home. Inspector Winton arrives on the scene to investigate the murder and finds that it has occurred shortly before an important meeting between a group of five financiers of whom Norman was one. Budding journalist Claire Haines also manages to talk her way into the house in an attempt to impress her editor by gathering exclusive news on the murder. The other financiers realise they are also in danger when another one of their number is murdered. Inspector Winton sets a trap for the killer using one of the financiers as bait, unmasking the killer as one of the group who had earlier faked his own murder.  \n",
            "Recommended film has ID 4793\n",
            "Its categories are ['\"Thriller\",  \"Docudrama\",  \"Sports\",  \"Period piece\",  \"Drama\",  \"Political thriller\",  \"Spy\",  \"Political drama\",  \"Airplanes and airports\"']\n",
            "Its summary is:   The film begins with a depiction of the events of the 1972 Munich Olympics. After the killings, the Israeli government devises an eye for an eye retaliation; and a target list of 11 names is drawn up. Avner Kaufman , an Israeli-born Mossad agent of German-Jewish descent, is chosen to lead the assassination squad and is given the assignment over tea at the home of Prime Minister of Israel Golda Meir. To give the Israeli government plausible deniability and, at the direction of his handler Ephraim , Avner resigns from Mossad; and the squad operates with no official ties to Israel. Avner is given a team of four Jewish men: Steve , a South African driver; Hans , a document forger; Robert , a Belgian toy-maker trained in defusing explosives; and Carl , a former Israeli soldier who \"cleans up\" after the assassinations. Avner and his team set about tracking down the 11 targets with the help of a shadowy French informant, Louis . In Rome, the group tracks down their first target, Abdel Wael Zwaiter, who is broke and living as a poet. The group follows him to his apartment building, and Avner and Robert shoot him dead. In Paris, Robert pretends to be a journalist interviewing their second target, Mahmoud Hamshari, about the Munich massacre. He plants a bomb in Hamshari's phone that is set to be detonated by a remote key. Carl is to dial Hamshari's number from a public telephone booth after Hamshari's wife and daughter have left. However, while a large truck obscures their view, the daughter runs back inside to retrieve something. Carl calls the number, and the girl picks up; but Avner aborts the mission before Robert, who cannot see what is going on, triggers the explosion. When the girl leaves, Carl telephones the number, asks the man who answers if he's Hamshari; and, upon affirmation of name, Robert detonates the bomb. In Cyprus, the team kills the next target, Hussein Al Bashir , by planting a bomb in his hotel room beneath his bed. Avner gets a room next to Al Bashir and turns off his bedroom light, the signal to proceed. When Robert detonates the bomb, the explosives almost kill Avner and injures a newlywed couple next door. The group meet later aboard a boat in the Cyprus harbour to discuss the errors in the mission. Robert insists that the explosives he used were far more powerful than what he expected. It is revealed at this juncture that Louis provided the explosives and that he is also helping with the logistics of the hits through Avner. Avner then meets with Louis in Paris and he gives the team information on three Palestinians in Beirut: Muhammad Youssef al-Najjar ; Kamal Adwan; and Kamal Nasser, a Palestine Liberation Organization  spokesman. Ephraim refuses to let them handle the mission themselves. Avner insists that he will lose Louis' trust if the operation is carried out by the Israel Defense Forces . Ephraim relents, allowing the team to accompany the IDF commandos. In Beirut, Steve, Robert, and Avner meet up with a group of Sayeret Matkal IDF soldiers. They penetrate the Palestinians' guarded compound and kill all three. In Athens, Louis has provided the team with an apartment. During the night, four PLO members, who have rented the same apartment as a safe house, enter the dwelling. After a tense confrontation with guns drawn, Robert defuses the situation by claiming that his squad are members of the Basque separatist Euskadi Ta Askatasuna , Red Army Faction , and the African National Congress . Avner discusses Middle East politics with the group's leader. Avner's group carries out their next assassination, that of Zaiad Muchasi, by installing a remote-controlled bomb in Muchasi's TV set. However, the bomb does not detonate. Hans walks into the hotel, forces his way and throws a grenade that sets off the bomb, killing Muchasi. The squad exchanges gunfire with Muchasi's bodyguards. In the chaos, they are forced to take the hotel manager hostage; and Robert reveals that he doesn't actually build bombs, but just defuses them. Louis provides the squad with information on Ali Hassan Salameh, the organizer of the Munich Massacre. Avner learns from Louis that the CIA have a deal with Salameh wherein they protect and fund him in exchange for his promise not to attack US diplomats. The squad moves to London to track down Salameh, but they are not able to accomplish the assassination when Avner is suddenly approached by several drunken Americans. It is implied the said Americans are actually CIA agents. Avner is propositioned by a woman  in the hotel but declines. Afterward, Carl is killed by the same woman, who Avner learns is an independent Dutch contract killer. Robert questions the morality of the entire mission; Avner listens to him and asks him to take a break. The remaining squad tracks the Dutch assassin to the Netherlands and kills her without a glitch. Afterwards Avner, Steve and Hans discuss the futility of the mission. Later, Hans is found stabbed to death and left on a park bench while Robert is killed in an explosion in his workshop. Avner and Steve finally locate Salameh in Spain; however, their assassination attempt is thwarted by Salameh's guards. A disillusioned Avner flies to Israel and then to his new home in New York City to reunite with his wife and their child. In a fit of paranoia, he storms into the Israeli consulate and screams at an employee whom he believes to be a Mossad agent to leave him and his family alone. Ephraim comes to New York to urge Avner to rejoin Mossad. In the final scene, Avner openly questions the basis and effectiveness of the operation, and Ephraim admits that there was no evidence linking any of the targets to the Munich massacre. In a show of respect, Avner asks Ephraim to break bread with him, but because he has refused to return to Israel, Ephraim rejects him and leaves. Avner leaves as well. During the last scene, the camera pans across the New York City skyline and stops with the Twin Towers in the center of the scene. A postscript notes that 9 of the 11 men targeted by Mossad were eventually assassinated, including Salameh in 1979.\n"
          ]
        }
      ],
      "source": [
        "id = 361\n",
        "films = content_recommender(id, 5, tfw2v_2)\n",
        "print(\"Film to find recommendations has ID {}\".format(id))\n",
        "print(\"Its categories are {}\".format(categories[id]))\n",
        "print(\"Its summary is: {}\".format(summaries[id][0]))\n",
        "for film in films:\n",
        "  print(\"Recommended film has ID {}\".format(film))\n",
        "  print(\"Its categories are {}\".format(categories[film]))\n",
        "  print(\"Its summary is: {}\".format(summaries[film][0]))"
      ]
    },
    {
      "cell_type": "markdown",
      "metadata": {
        "id": "vEWDGIOpx0oW"
      },
      "source": [
        "**<h4>Μοντέλο Word2Vec glove-wiki-gigaword-100</h4>**"
      ]
    },
    {
      "cell_type": "code",
      "execution_count": null,
      "metadata": {
        "colab": {
          "base_uri": "https://localhost:8080/"
        },
        "id": "tzuqIiaix1EL",
        "outputId": "1e5fa6c9-1e09-4b1f-9b3e-12262a374454"
      },
      "outputs": [
        {
          "name": "stdout",
          "output_type": "stream",
          "text": [
            "Film to find recommendations has ID 3614\n",
            "Its categories are ['\"Biographical film\",  \"Drama\"']\n",
            "Its summary is: The film opens at the 1937 Academy Awards, where Biberman's wife, Gale Sondergaard , wins the first ever \"Best Supporting Actress\" Oscar. Although the anti-Fascist sentiment in her acceptance speech gets her labeled a \"commie\" by some observers, she and Biberman  are placed under contract at Warner Bros. He first comes under scrutiny more for his Jewish background than his political activities. Yet, with Cold War paranoia growing, a group of Hollywood directors and actors — Biberman, Sondergaard, Danny Kaye, and Dalton Trumbo among them—are labeled Communists and questioned before Congress. After refusing to testify against his colleagues, he is imprisoned in the Federal Correctional Institution at Texarkana for a period of six months. Once released, he discovers his Hollywood career is finished.  Sondergaard suggests her husband direct a screenplay about the real-life 1950-51 strike waged by Mexican-American miners against the Empire Zinc Company in Bayard, New Mexico written by Michael Wilson, also a victim of the blacklist, and Biberman's brother Michael. She feels the lead role of Esperanza Quintero, who rallied the wives of the unemployed miners and urged them to support their husbands, is an ideal way to jump-start her stagnating career. Biberman agrees, but after meeting with the people who participated in the strike and being inspired by their passion, he decides all roles should be played by ethnic actors. Because the film has no studio backing and most Hollywood players fear being associated with Biberman and the project, he eventually casts local residents from Grant County, New Mexico and members of the International Union of Mine, Mill and Smelter Workers, Local 890 to fill most of the roles. Juan Chacón, the Union Local president, is cast as the fiery Ramon Quintero opposite Mexican actress Rosaura Revueltas as his wife Esperanza. Will Geer is one of only five Hollywood actors to accept a role in the production. The FBI investigates the film's financing, attempts to steal the film's negatives, tells film-processing labs not to work on the film when they are unable to locate them, incites locals who are unhappy with the film crew's presence to set fire to many of the sets, and eventually deports Revueltas on bogus charges. Biberman stands his ground and completes the film, using scenes with Revueltas that were shot in her native Mexico and then smuggled into the US.\n",
            "Recommended film has ID 3506\n",
            "Its categories are ['\"Drama\",  \"Political drama\",  \"World cinema\"']\n",
            "Its summary is: Emma Küsters , a working-class woman lives in Frankfurt with her son and daughter-in-law. While she is doing outreach work assembling electric plugs, Frau Küsters learns that her husband Hermann  has killed his supervisor and then committed suicide. It later becomes apparent that Mr. Küsters had become temporarily insane after hearing layoff announcements. A group of reporters take advantage of the grieving Mother Küsters to sensationalize the deaths. Finding no solace from her son Ernst , daughter-in-law Helene , who promptly go on holiday, or daughter , Küsters turns to Karl and Marianne Thälmann , two members of what turns out to be the German Communist Party . They introduce themselves at Hermann's funeral, and invite her to their home, which Marianne had inherited. The Communists see Küsters's husband as a 'revolutionary' and a misguided victim of capitalism, but she is initially unpersuaded; her husband saw communists as troublemakers. Her daughter Corinna advises her mother to have nothing to do with them, and points out the differing conditions enjoyed by the authorities and the people in the East. An article on the tragedy by Niemeyer , a photojournalist who had earlier shown a particular interest in the family, appears in a magazine. Emma finds the article objectionable, but her daughter, who has embarked on an affair with Niemeyer, defends him on 'earning a living' grounds. At the factory, Emma Küsters finds that the company pension scheme will not apply in her case; the workers' council and the company board are at one on the issue. Her daughter leaves, and Ernst and Helene, newly returned from holiday, announce they are to set up home on their own. Helene, expecting a child, does not get along with her sister-in-law. Emma Küsters now joins the Communist Party, having found Karl's newspaper article more sympathetic, but after Küsters speaks at her first DKP political gathering she meets a young male paper seller who claims to really have her interests at heart in clearing her husband's name. He gives her his contact details. She quickly grows impatient with the communists' passive tactics; they have to campaign in the forthcoming elections Karl explains. She connects with a small group of anarchists, who, though even smaller in number than the communists, claim to have more spirit. There are two endings to the film: *The anarchists' leading member, Horst Knab, demands to see Niemeyer at the magazine's offices but the secretary  says he is unavailable. The editor suggests Küsters send in a letter which he might publish. The anarchists take the staff hostage at gunpoint, including Niemeyer, now living with Corinna, who arrives unaware how far the situation has developed. The anarchists demand the release of all political prisoners in West Germany, a Mercedes 600 to take them to the airport and a Boeing 707 to take them out of the country. Küsters looks horrified at the anarchists' demands but is killed in a subsequent clash with the police. Knab kills Linke  but Knab is also shot.  *In another ending , Niemeyer is at the magazine offices but as the staff start to leave at the end of their working day, the two anarchists grow bored with the sit-down strike and leave with Küsters remaining. After being told by her daughter Corinna, clearly now living with Niemeyer who has 'phoned her, that she is making herself ridiculous, Emma Küsters meets the friendly janitor of the newspaper's offices, whose wife is dead. The widow and widower leave to have dinner together, apparently beginning a romantic relationship.The two versions are included in the Arrow Films Region 2  DVD edition of the film. Fassbinder's film criticizes the blood-thirst of the 1970s German media in a similar manner to The Lost Honour of Katharina Blum . However, Fassbinder's film goes further by criticizing the overwhelming selfishness present in contemporary society. Nearly everyone who Mother Küsters encounters is self-serving and unconcerned with comforting her. Fassbinder also clearly criticizes the small German Communist Party's moderation and \"armchair activism.\"\n",
            "Recommended film has ID 3888\n",
            "Its categories are ['\"Thriller\",  \"Drama\",  \"Indie\",  \"Political drama\",  \"Political thriller\"']\n",
            "Its summary is: Jake Cassevetes  is a world renowned cameraman who has just arrived back from being embedded during the U.S. invasion of Iraq. Jake does not buy into the theory of a corporate-controlled press. Though, after having much of his best footage in Iraq censored by the network, Jake is growing disillusioned with his corporate masters. During this Jake befriends a young boy , and in time meets his mother, Tina Santiago , a pretty young widow whose husband died while serving in Iraq, who he comes to form a close bond. Jake then gets an assignment to shoot on the streets of the Republican National Convention protests, there he meets Seven, one of the young leaders of a masked anarchist Black Bloc. Jake quickly wins the trust of the group and is allowed to shadow them as they move through the demonstration. Later that night, after shooting Seven with her mask down describing the Bloc's militant objectives, the videotape is returned to the network with the rest of his footage by Jake's Girlfriend and co-worker Chloe , without Jake's permission. When he goes to retrieve the tape, he is told the network made a deal with the Department of Homeland Security to review all footage to look for potential terror suspects. Which is in fact being used to compile a database of activists. Realizing the danger he has brought to Seven and the Black Bloc itself, Jake decides to use his skills and access at the network to jam the government controlled corporate media and broadcast the truth of the protests and the message of a new generation of activists.\n",
            "Recommended film has ID 4296\n",
            "Its categories are ['\"Thriller\",  \"Gangster Film\",  \"World cinema\",  \"Action/Adventure\",  \"Period piece\",  \"Martial Arts Film\",  \"Drama\",  \"Crime Thriller\",  \"Action\"']\n",
            "Its summary is: In the opening scene the protagonist begins to reminisce about his youth and remembers the day he was saved from execution in a raid performed by the anarchist cell he would later join. After reaching a safe house the group begins to teach him the tricks of their trade. He later takes part in several missions, though he continues to have difficulty throughout the film with the violence of his new job. Eventually a string of tragic events strike the team. One of their members is fatally betrayed during a mission, leading to their covers being blown during the next. Now wanted by the Japanese and Chinese authorities, their funders turn away from them and instead choose to support socialist electoral politics to further their cause. This angers the group, and they leave the larger organization, attempting to survive on their own by earning money through gambling and bank robbery. Over time the group becomes agitated with simply scraping by and several voice a desire to return to their old ways of clandestine warfare. They collectively decide to strike at the Japanese government in a high profile attack, leading up to a dramatic finale.\n",
            "Recommended film has ID 361\n",
            "Its categories are ['\"Thriller\",  \"Mystery\",  \"Horror\",  \"Psychological thriller\",  \"Supernatural\"']\n",
            "Its summary is: Rosanna Arquette stars as Martha Travis, a medium who hosts a touring clairvoyant show with her alcoholic father Walter  where she helps members of the audience make contact with deceased relatives. At one meeting, she foretells the violent death of a local factory employee , a whistleblower who was set to reveal corporate malpractice at the plant, and soon becomes the target of the killer herself. At a subsequent meeting in the town, she appears to identify several other individuals who are set to die or be killed. A sceptical local journalist investigating the death, Gary Wallace , begins following the couple and the story. The story is told in flashback, with the opening scenes showing Wallace searching for the reclusive Martha many years after the events depicted in the main body of the film.\n",
            "Recommended film has ID 4774\n",
            "Its categories are ['\"Thriller\",  \"Ensemble Film\",  \"Drama\",  \"Political drama\",  \"War film\"']\n",
            "Its summary is: Two determined students at a West Coast university, Arian  and Ernest , at the urging of their idealistic professor, Dr. Malley , attempt to do something important with their lives. They make the bold decision to commission in the army to fight in Afghanistan after graduating from college. Dr. Malley also attempts to reach talented and privileged, but disaffected, student Todd Hayes  who is not at all like Arian and Ernest. He is naturally bright, comes from a privileged background, but has apparently slipped into apathy upon being disillusioned at the present state of affairs. Now, he devotes most of his time to extra-curricular activities like his role as president of his fraternity. Malley tests him by offering a choice between a respectable grade of 'B' in the class with no additional work required or a final opportunity to re-engage with the material of the class and \"do something.\" Before Todd makes his choice, he must listen to Dr. Malley's story of his former students Arian and Ernest and why they are in Afghanistan. Meanwhile, in Washington, D.C., a charismatic Republican presidential hopeful, Senator Jasper Irving , has invited liberal TV journalist Janine Roth  to his office to announce a new war strategy in Afghanistan: the use of small units to seize strategic positions in the mountains  before the Taliban can occupy them. The senator hopes that Roth's positive coverage will help convince the public that the plan is sound. Roth has her doubts and fears she is being asked to become an instrument of government propaganda. Near the end of the film, she informs her commercially-minded boss of her plans to call out the senator's new strategy for what she feels is a ploy, but is shot down. Ultimately, Irving's version of the story is run without the critical interaction. Whether Roth gave in and toed the company line or quit her job is not clear. In Afghanistan, a helicopter carrying Arian and Ernest is hit by Taliban soldiers. Ernest falls out, and Arian jumps after him. Ernest's leg is badly wounded, and he suffers a compound fracture, rendering him immobile as the Taliban arrive. After a drawn-out gunfight, the U.S. soldiers run out of ammunition. Rather than getting captured, Arian helps Ernest stand up, facing the enemies and turning their empty weapons against them, an action which prompts the Taliban to kill them. The unit commanders attempt a rescue of the downed soldiers, sending A-10 Warthogs, but the weather, time, and distance interfere. Hayes is then seen watching television with a friend. A reporter is discussing a singer's private life, while below runs a strip announcing Senator Irving's new military plan for Afghanistan. He suddenly falls quiet, contemplating the choices with which his professor had left him.\n"
          ]
        }
      ],
      "source": [
        "id = 3614\n",
        "films = content_recommender(id, 5, tfw2v)\n",
        "print(\"Film to find recommendations has ID {}\".format(id))\n",
        "print(\"Its categories are {}\".format(categories[id]))\n",
        "print(\"Its summary is: {}\".format(summaries[id][0]))\n",
        "for film in films:\n",
        "  print(\"Recommended film has ID {}\".format(film))\n",
        "  print(\"Its categories are {}\".format(categories[film]))\n",
        "  print(\"Its summary is: {}\".format(summaries[film][0]))"
      ]
    },
    {
      "cell_type": "code",
      "execution_count": null,
      "metadata": {
        "colab": {
          "base_uri": "https://localhost:8080/"
        },
        "id": "SQZARKGEyNhR",
        "outputId": "07e4e6d3-f661-4284-bc9d-fdc5de5dc22a"
      },
      "outputs": [
        {
          "name": "stdout",
          "output_type": "stream",
          "text": [
            "Film to find recommendations has ID 361\n",
            "Its categories are ['\"Thriller\",  \"Mystery\",  \"Horror\",  \"Psychological thriller\",  \"Supernatural\"']\n",
            "Its summary is: Rosanna Arquette stars as Martha Travis, a medium who hosts a touring clairvoyant show with her alcoholic father Walter  where she helps members of the audience make contact with deceased relatives. At one meeting, she foretells the violent death of a local factory employee , a whistleblower who was set to reveal corporate malpractice at the plant, and soon becomes the target of the killer herself. At a subsequent meeting in the town, she appears to identify several other individuals who are set to die or be killed. A sceptical local journalist investigating the death, Gary Wallace , begins following the couple and the story. The story is told in flashback, with the opening scenes showing Wallace searching for the reclusive Martha many years after the events depicted in the main body of the film.\n",
            "Recommended film has ID 1732\n",
            "Its categories are ['\"Japanese Movies\",  \"Romance Film\",  \"Drama\",  \"Political drama\"']\n",
            "Its summary is: At the beginning of the film, the main character Yong-ho wanders to a reunion of his old student group. After causing some general mayhem with his deranged antics, he leaves and climbs atop a nearby train track. Facing an oncoming train, he exclaims \"I want to go back again!\". What follows is a series of prior events in the main character's life that show how he became the suicidal man portrayed in this scene. The first flashback takes place only a few days before Yong-ho's death. At this point he is already clearly suicidal, confronting his former business partner and ex-wife Hong-ja before the husband of his teenage crush Sun-im pays him a surprise visit. Yong-ho is taken to visit a comatose Sun-im in a hospital. The next flashback shows Yong-ho's life five years earlier. At first glance, he seems to be a rather successful businessman, but the problems in his life become clear when he confronts his wife, who is having an affair with her driving instructor. Yong-ho is unable to claim moral high ground, since he is also shown having an affair, with an assistant from his workplace. Finally, Yong-ho is shown along with his wife at their new house, having dinner with his colleagues, where it becomes apparent that the marriage isn't working. On the third flashback, Yong-ho is shown as a police officer in the year 1987. At the beginning, he is shown along with his pregnant wife at a mundane scene. After this, he is shown apprehending a witness and brutally torturing him for information about another man's whereabouts. This leads Yong-ho to Kunsan where he along with his fellow police officers capture the wanted man. While in Kunsan, Yong-ho is distracted from his work by fruitlessly trying to search for Sun-im and instead ends up on a one night stand with another woman. The following flashback shows Yong-ho when he is just starting his career as a policeman and is pressured by his peers to torture a crime suspect, presumably a student demonstrator. Shortly afterward, he is visited by Sun-im. Yong-ho coldly and cruelly dismisses her by feigning interest in another woman, his future wife Hong-ja. At the final scene of this sequence, Yong-ho is shown sleeping with Hong-ja, whom it is shown he never truly cared about. During the next flashback, it's May 1980 and Yong-ho is performing his mandatory military service. While Sun-im is trying to visit him, his company is taken to quell the Gwangju Democratization Movement. Yong-ho gets shot in the leg and is told to stay behind. This leads to a scene where he confronts a harmless and presumably innocent student, whom he accidentally shoots and kills. The last flashback shows Yong-ho as a part of the student group that reunited at the beginning of the movie. This is also where he meets Sun-im for the first time. The scene poignantly shows the innocence that Yong-ho had, before his country molded him into the violent and jaded man he is at the start of the film by pitting him against his friends.\n",
            "Recommended film has ID 3888\n",
            "Its categories are ['\"Thriller\",  \"Drama\",  \"Indie\",  \"Political drama\",  \"Political thriller\"']\n",
            "Its summary is: Jake Cassevetes  is a world renowned cameraman who has just arrived back from being embedded during the U.S. invasion of Iraq. Jake does not buy into the theory of a corporate-controlled press. Though, after having much of his best footage in Iraq censored by the network, Jake is growing disillusioned with his corporate masters. During this Jake befriends a young boy , and in time meets his mother, Tina Santiago , a pretty young widow whose husband died while serving in Iraq, who he comes to form a close bond. Jake then gets an assignment to shoot on the streets of the Republican National Convention protests, there he meets Seven, one of the young leaders of a masked anarchist Black Bloc. Jake quickly wins the trust of the group and is allowed to shadow them as they move through the demonstration. Later that night, after shooting Seven with her mask down describing the Bloc's militant objectives, the videotape is returned to the network with the rest of his footage by Jake's Girlfriend and co-worker Chloe , without Jake's permission. When he goes to retrieve the tape, he is told the network made a deal with the Department of Homeland Security to review all footage to look for potential terror suspects. Which is in fact being used to compile a database of activists. Realizing the danger he has brought to Seven and the Black Bloc itself, Jake decides to use his skills and access at the network to jam the government controlled corporate media and broadcast the truth of the protests and the message of a new generation of activists.\n",
            "Recommended film has ID 3506\n",
            "Its categories are ['\"Drama\",  \"Political drama\",  \"World cinema\"']\n",
            "Its summary is: Emma Küsters , a working-class woman lives in Frankfurt with her son and daughter-in-law. While she is doing outreach work assembling electric plugs, Frau Küsters learns that her husband Hermann  has killed his supervisor and then committed suicide. It later becomes apparent that Mr. Küsters had become temporarily insane after hearing layoff announcements. A group of reporters take advantage of the grieving Mother Küsters to sensationalize the deaths. Finding no solace from her son Ernst , daughter-in-law Helene , who promptly go on holiday, or daughter , Küsters turns to Karl and Marianne Thälmann , two members of what turns out to be the German Communist Party . They introduce themselves at Hermann's funeral, and invite her to their home, which Marianne had inherited. The Communists see Küsters's husband as a 'revolutionary' and a misguided victim of capitalism, but she is initially unpersuaded; her husband saw communists as troublemakers. Her daughter Corinna advises her mother to have nothing to do with them, and points out the differing conditions enjoyed by the authorities and the people in the East. An article on the tragedy by Niemeyer , a photojournalist who had earlier shown a particular interest in the family, appears in a magazine. Emma finds the article objectionable, but her daughter, who has embarked on an affair with Niemeyer, defends him on 'earning a living' grounds. At the factory, Emma Küsters finds that the company pension scheme will not apply in her case; the workers' council and the company board are at one on the issue. Her daughter leaves, and Ernst and Helene, newly returned from holiday, announce they are to set up home on their own. Helene, expecting a child, does not get along with her sister-in-law. Emma Küsters now joins the Communist Party, having found Karl's newspaper article more sympathetic, but after Küsters speaks at her first DKP political gathering she meets a young male paper seller who claims to really have her interests at heart in clearing her husband's name. He gives her his contact details. She quickly grows impatient with the communists' passive tactics; they have to campaign in the forthcoming elections Karl explains. She connects with a small group of anarchists, who, though even smaller in number than the communists, claim to have more spirit. There are two endings to the film: *The anarchists' leading member, Horst Knab, demands to see Niemeyer at the magazine's offices but the secretary  says he is unavailable. The editor suggests Küsters send in a letter which he might publish. The anarchists take the staff hostage at gunpoint, including Niemeyer, now living with Corinna, who arrives unaware how far the situation has developed. The anarchists demand the release of all political prisoners in West Germany, a Mercedes 600 to take them to the airport and a Boeing 707 to take them out of the country. Küsters looks horrified at the anarchists' demands but is killed in a subsequent clash with the police. Knab kills Linke  but Knab is also shot.  *In another ending , Niemeyer is at the magazine offices but as the staff start to leave at the end of their working day, the two anarchists grow bored with the sit-down strike and leave with Küsters remaining. After being told by her daughter Corinna, clearly now living with Niemeyer who has 'phoned her, that she is making herself ridiculous, Emma Küsters meets the friendly janitor of the newspaper's offices, whose wife is dead. The widow and widower leave to have dinner together, apparently beginning a romantic relationship.The two versions are included in the Arrow Films Region 2  DVD edition of the film. Fassbinder's film criticizes the blood-thirst of the 1970s German media in a similar manner to The Lost Honour of Katharina Blum . However, Fassbinder's film goes further by criticizing the overwhelming selfishness present in contemporary society. Nearly everyone who Mother Küsters encounters is self-serving and unconcerned with comforting her. Fassbinder also clearly criticizes the small German Communist Party's moderation and \"armchair activism.\"\n",
            "Recommended film has ID 4784\n",
            "Its categories are ['\"Crime Fiction\",  \"Thriller\",  \"Detective fiction\",  \"Detective\",  \"Ensemble Film\",  \"Mystery\",  \"Drama\",  \"Suspense\",  \"Crime Thriller\",  \"Whodunit\"']\n",
            "Its summary is: Set in the fictional English village of St. Mary Mead, home of Miss Jane Marple , in 1953, a big Hollywood production company arrives to film a costume movie about Mary, Queen of Scots and Elizabeth I with two famous movie stars, Marina Rudd  and Lola Brewster . The two actresses are old rivals who hate each other. Marina, who is making a much heralded comeback after a prolonged \"illness\" and retirement, when she, in reality, has had a nervous breakdown, and her husband, Jason Rudd , who is directing the movie they are making, arrive with their entourage. When she learns that Lola will be in the movie as well, she becomes enraged and vents her anger. Lola and her husband, Martin N. \"Marty\" Fenn , who is producing the movie they are making, then arrive. Excitement runs high in St. Mary Mead, as the locals have been invited to a reception held by the movie company in a manor house, Gossington Hall, to meet the celebrities. Lola and Marina come face to face at the reception and exchange some potent and comical insults, nasty one-liners, as they smile and pose for the cameras. The two square off in a series of hilarious and cleverly written and performed cat-fights throughout the movie. Marina however, has been receiving anonymous death threats. After her initial exchange with Lola at the reception, she is cornered by a gushing, devoted fan, Heather Badcock , who bores her with a long and detailed story about having actually met Marina in person during World War II. After recounting the meeting they had all those years ago, when she arose from her sickbed to go and meet the glamorous star, Babcock drinks a cocktail that was made for Marina and quickly dies from poisoning. The incident is unfortunate for Marina's mental state, and she is beside herself. Everyone is certain she was the intended murder victim. Once filming begins on the movie, she discovers that apart from threatening notes made up of newspaper clippings, her cup of coffee on the set has also been spiked with poison, sending her into fits of terror. The police detective from Scotland Yard investigating the case, Inspector Dermot Craddock , is baffled as he tries to uncover who is behind the attempt on the life of the actress and the subsequent murder of the innocent woman. The suspected are Ella Zielinsky , Jason's production assistant who is secretly having an affair with him and would like Marina out of the way, and the hotheaded actress Lola Brewster. Inspector Craddock asks his aunt, the renowned amateur detective Miss Jane Marple, who injured her foot at the reception and is confined to her home, for assistance. The main suspect, Zielinsky, is then killed by a lethal nose spray after going to a pay phone in the village, where she called the murderer and threatened to expose him. Miss Marple, now back on her feet, visits Gossington Hall, where Marina and Jason are staying, and views where Babcock's death occurred. Working from information received from her cleaning woman, Cherry Baker (played by [[Wendy Morgan , who was working as a waitress the day of the murder, the determined elderly sleuth begins to piece together the events of the fatal reception and solves the mystery. By the time she has collected all the evidence to indicate who committed the crime, however, another death occurs at Gossington Hall, which sadly closes the case on who the murderer in St. Mary Mead actually is: Marina Rudd, who has apparently committed suicide. In the film's denouement, Miss Marple explains the murders that have occurred. Heather Babcock's story was Marina's initial motive. Ms. Babcock suffered from German measles — a rather harmless disease to most adults, but problematic for a pregnant woman. Heather Babcock innocently infected Marina when she met her during World War Two. Marina was pregnant at the time; the disease caused her child to be born with mental retardation. Upon hearing Heather cheerfully tell this story, Marina was overcome with rage and poisoned her without thinking. She then spread the idea that she was the intended victim, delivering the death threats and poisoning her own coffee. Ella, who made phone calls to various suspects from the pay phone, accidentally guessed correctly, prompting Marina to murder her. As Marina is now dead, she will not be brought to justice. Jason, her devoted husband, confesses to Miss Marple that he actually administered the dosage of poison to save her from prosecution. However, Marina didn't touch the hot chocolate he made for her and rather poisoned herself.\n",
            "Recommended film has ID 911\n",
            "Its categories are ['\"Crime Fiction\",  \"Mystery\",  \"Thriller\",  \"Drama\",  \"Crime Thriller\"']\n",
            "Its summary is: Chief Warrant Officer Four Paul Brenner , a Vietnam Veteran of the 196th LIB, is in Georgia masquerading as First Sergeant Frank White at a local army base, to broker an illegal arms trade with a self-proclaimed freedom fighter. Part of the disguise of his character is speaking with a strong Southern accent. While on the base, his car gets a flat tire. He is on the side of the road trying to remove the wheel nuts with a small pair of pliers and not having much success when a pretty young officer arrives and helps him change the spare with her cross brace . The officer is Captain Elizabeth Campbell , the base commanding general's daughter and army captain in psychological operations. The next day Brenner calls in to see her with a basket full of chocolates and bath soaps as a thank you to her for her help. Both times he is in contact with her he is keeping up the pretence with the Southern drawl. Elisabeth is at first warm to him but after a few minutes of conversation she becomes cool and distant, saying she has a lot of work to get through. The next evening, she is found murdered. Brenner and another warrant officer, Sara Sunhill  are brought in to investigate, as both are part of the U.S. Army Criminal Investigation Command. At the scene, the base Provost Marshal, Colonel William Kent  and several of his military police have secured the area. Captain Campbell's nude body has been staked down with tent poles, strangled, and presumably raped. Colonel Kent has 2,000 military police that he is in charge of at the base and is considered both the police chief and the staff officer who advises Captain Campbell's father, Lieutenant General Joe Campbell , on all military police matters. They search Elisabeth's home off base and find it typical of a career Army officer, with one exception: through a false door in the basement, they find what appears to be a sexual dungeon of sorts, with handcuffs, harnesses, and a camera connected to a VCR. Sunhill goes to their car to make a call from her cell phone, and while Brenner gathers the tapes, he is attacked by a masked figure armed with a steel snow shovel. The culprit manages to disorient Brenner long enough to steal the videotapes. Brenner questions Elisabeth's close confidante, Colonel Robert Moore , who also works in psy ops. Though cordial and somewhat cooperative, Moore is evasive when questioned, and gives an alibi of being in bed asleep at the time of the murder. However, this proves false when Moore's fingerprints are found on Elisabeth's dog tags that were found in a plastic trash bag several yards from her body, along with her clothing. Brenner arrests Moore on charges of conduct unbecoming an officer and takes him to jail. Moore is later released by the officer in charge of the jail and restricted to house arrest. Brenner, Sunhill, and Colonel William Kent, return to Moore's home and find Moore dead on his couch with an apparent self-inflicted gunshot wound to his forehead. The General's adjutant, Colonel George Fowler , attempts to close the investigation at the crime scene, stating that Moore killed himself out of guilt because he killed Elisabeth. Brenner states he intends to keep the case open and much tension is seen between them. Further cover-ups are revealed, and it's later learned that Elisabeth was sexually promiscuous with virtually all the officers that made up her father's staff. It's also revealed that Elisabeth was an honor student at West Point until her sophomore year and barely managed to graduate. Brenner and Sunhill visit Colonel Dr. Donald Slesinger ([[John Beasley , the academy's psychiatrist, who explains that Captain Campbell had been gang raped by fellow trainees while a cadet at West Point. During a large training exercise of around 1000 personnel, she had found herself separated from her group and was jumped by six male cadets, beaten and raped all night, almost to the point of death and left to die in an isolated area . Luckily, another trainee group which had got lost, found Elisabeth and rescued her. Elisabeth never knew the names of her assailants, but Sunhill tracks down one of the attackers and engineers a confession by telling him the advances in DNA technology mean his 'gene prints' are traceable. She pretends that the bloodstained underwear she shows the soldier is the genuine article. The agents pay a visit to the general, who corroborates the story. Fearing that the assailants would never be caught, Campbell acted upon the advice of another general and decided to cover up the incident since such a scandal would destroy the academy, not to mention his own ambitions to become Vice President of the United States. This denial of justice severely traumatized Elisabeth, causing her to partake in various violent sexual activities. Campbell reveals that he did encounter his daughter the night of her murder, and that Elisabeth herself, with the aid of Moore, staged the reenactment of the academy incident in an attempt to force her father to face the truth he covered up. Unmoved, Campbell left his daughter tied to the stakes. Realizing that Kent is the only suspect left, Brenner decides to question him. He calls Sunhill but learns that she was returning to the murder scene...with Kent, who also wants to see Brenner. Brenner arrives and confronts Kent, who admits that he killed Elisabeth after she rejected him and threatened to tell his family about the affair. Kent then commits suicide with an anti-personnel mine. Parallel to these events, Brenner and Sunhill manage to invalidate Campbell's reasons for the cover up by swiftly discovering and arresting all of his daughter's assailants . As Campbell prepares to get on the plane to accompany Elizabeth's body to the funeral, he is confronted by Brenner, who lays the burden of his daughter's death on the general; disgusted, he tells Campbell that his betrayal of Elisabeth was what really killed her and that Kent had just put her out of her misery. He then tells Campbell he will be court-martialled for conspiracy to conceal a crime, thus destroying the general's career. The film ends with a montage of Elizabeth's happy childhood and Brenner and Sunhill departing in opposite directions and an admiring glance by Sunhill at the departing Brenner. A written epilogue explains that Campbell is found guilty for the crime and courtmartialed, soon after disappearing from public life.\n"
          ]
        }
      ],
      "source": [
        "id = 361\n",
        "films = content_recommender(id, 5, tfw2v)\n",
        "print(\"Film to find recommendations has ID {}\".format(id))\n",
        "print(\"Its categories are {}\".format(categories[id]))\n",
        "print(\"Its summary is: {}\".format(summaries[id][0]))\n",
        "for film in films:\n",
        "  print(\"Recommended film has ID {}\".format(film))\n",
        "  print(\"Its categories are {}\".format(categories[film]))\n",
        "  print(\"Its summary is: {}\".format(summaries[film][0]))"
      ]
    },
    {
      "cell_type": "markdown",
      "metadata": {
        "id": "uX3i5qvAybHr"
      },
      "source": [
        "Επαναλαμβάνουμε για τις ταινίες με ID 3605 και 2070 για τις οποίες οι προτάσεις του tfidf μοντέλου δεν ήταν καλές."
      ]
    },
    {
      "cell_type": "markdown",
      "metadata": {
        "id": "iBmH1vxbymgW"
      },
      "source": [
        "**<h4>Μοντέλο tfidf</h4>**"
      ]
    },
    {
      "cell_type": "code",
      "execution_count": null,
      "metadata": {
        "colab": {
          "base_uri": "https://localhost:8080/"
        },
        "id": "fBxTkMuIymgW",
        "outputId": "8dfea122-de2e-4b31-ce21-57c6dd068031"
      },
      "outputs": [
        {
          "name": "stderr",
          "output_type": "stream",
          "text": [
            "/usr/local/lib/python3.7/dist-packages/scipy/spatial/distance.py:720: RuntimeWarning: invalid value encountered in double_scalars\n",
            "  dist = 1.0 - uv / np.sqrt(uu * vv)\n"
          ]
        },
        {
          "name": "stdout",
          "output_type": "stream",
          "text": [
            "Film to find recommendations has ID 3605\n",
            "Its categories are ['\"Fantasy\",  \"Comedy\"']\n",
            "Its summary is: The film opens up with a distraught tensed up Ranjit watching his mother and his sister and their adopted brother closely. He is wearing a depressing look as he cannot earn and feed his family members properly being a handicapped person. He walks with help of walking stick. He decides that its better to commit suicide and die rather than giving trouble to others and also seeing his family members struggle for survival. His mother loves him a lot although he is limping and jobless. She asks him not to worry and be happy. Their landlord has asked them to vacate the premises the next day. Tension looming around his mind, Ranjit decides to go out early in the morning and jump from the bridge above the railway tracks and give away his life. Ranjit carries out his plan. In the next scenes, he starts walking without help from any stick. He meets a man who calls himself as Captain and he says that he is the only person who can see Ranjith right now. That fat man introduces himself as Swaraj Singh Captain and says that he is a ghost and that Ranjit has died and is now a ghost too. Captain takes him along everywhere and shows him how many other people are roaming as ghosts in the world after committing suicides. Captain says the ghosts attain salvation only when their unfulfilled wish gets fulfilled. Captain asks him why did he commit suicide. Ranjit tells him his story of how he was a badminton player and how rich they were. He had even fell in love with a richer girl. The rest of the story is about Ranjit's description of what drove him to poverty, how were they surviving, how his friends betrayed him and deprived him of any job, how he lost his leg and how much he feels betrayed of his girlfriend leaving him and joining hands with some one else. Captain just keeps listening to his story. The answers to the above question and rest of the story is full of suspense which needs to be seen in the movie directly.\n",
            "Recommended film has ID 4023\n",
            "Its categories are ['\"Horror\",  \"Adventure\",  \"Black-and-white\"']\n",
            "Its summary is: Tom Merriam , a young merchant marine officer, joins the crew of the ship Altair. At first, all seems well and Merriam bonds with the captain, Will Stone ([[Richard Dix . The ship, already shorthanded due to the death of a crew member before it left port, loses another  when he develops appendicitis.  One of the crew, Louie , tells the captain he should pull in to port and take on new crew. The captain says \"You know, there are captains who might hold this against you, Louie.\" Shortly after, the captain closes the hatch to the chain locker with Louie inside, and Louie is crushed to death by the chain. Merriam believes that Captain Stone, who is obsessed with authority, did it intentionally. When they dock at the fictional Caribbean island of \"San Sebastian\" , Merriam attempts to expose the Captain's madness at a board of inquiry. The crew all speak favorably of the captain, including the Greek, who credits the captain with saving his life. Merriam states his intention to leave the Altair. After the inquiry, the captain admits to a female friend  that he fears he is losing his mind. Soon after, Merriam is involved in a fight in port and knocked unconscious. One of his former shipmates &ndash; unaware that he has left the Altair &ndash; brings the unconscious man back aboard ship before the vessel departs. Merriam wakes up on the ship and fears that the pathologically insane Captain Stone may now attempt to kill him, a fear that is only reinforced when the captain, referring to the young officer's accusations, says \"You know, Mr. Merriam, there are some captains who would hold this against you.\" Merriam, scorned by the crew, finds that he can no longer lock the door to his cabin. Fearing for his life, he tries to steal a gun from the ship's weapons locker, but is confronted by Captain Stone. Stone dares Merriam to try to get the support of the crew, but Merriam is rebuffed in this effort. This changes when Radioman Winslow  receives a radiogram asking if Merriam is on board, and Captain Stone orders Winslow to lie, replying that Merriam is not aboard. The radioman shows Merriam the captain's reply radiogram and says that he now mistrusts the captain and will send a message to the company expressing his concerns about Stone's mental health. However, as he leaves Merriam's cabin, Winslow encounters the captain. As the two walk side-by-side, Winslow drops the captain's radiogram to the deck, and it is picked up by an illiterate crewman, Finn the Mute , whose internal monologues serve as a sort of one-man Greek chorus throughout the film. Captain Stone now orders Merriam to send a radio message to the corporate office advising them that Winslow has been washed overboard. Merriam accuses the captain of murdering Winslow, and the two fight. Crew members intervene, and the captain has the crew tie up Merriam and put him in his bunk. The captain then has First Officer Bowns  administer a sedative to Merriam. Finn finally delivers the captain's radiogram to Bowns, who can read. Bowns becomes deeply alarmed. The first officer talks to several other crew members, all of whom now begin questioning the captain's sanity. Captain Stone overhears Bowns' conversation with the crew, and goes insane. He takes a knife and enters Merriam's cabin to kill the young officer, but Finn arrives to try to stop him. While the crew is up on deck singing, Finn and the captain engage in a desperate struggle in the dark, during which Finn kills the captain. After the captain's death, Merriam is reinstated and the ship returns to its home port of San Pedro.\n",
            "Recommended film has ID 688\n",
            "Its categories are ['\"Action/Adventure\",  \"Swashbuckler films\",  \"Action\",  \"Adventure\"']\n",
            "Its summary is: An English captain and his crew are dispatched to the Spanish-controlled island of Tortuga, where famed privateer Henry Morgan has defected from his support of the English Empire and is running a strictly piratical venture, stopping any and all vessels including English. Since the captain cannot attack the island without incurring the wrath of the Spanish government, he must go toe-to-toe with Morgan himself. A comely female has inadvertently ended up as a stowaway on the captain's vessel, and she becomes the de facto central focus of the story . She is initially deposited on the island, where she makes a half-hearted play for the governor, but eventually re-adjusts her sights on the captain himself. In the meantime, the captain is fully engaged in pursuing the pirate.\n",
            "Recommended film has ID 2807\n",
            "Its categories are ['\"Drama\",  \"Comedy\"']\n",
            "Its summary is: Sang-Man Cha Tae-Hyun attempts to commit suicide by jumping off a bridge and into a river. He fails, but the end result is that he starts seeing ghosts. Sang-Man then goes to the hospital and gets an examination. Is he going crazy? Meanwhile, Sang-Man meets nurse Jung Yun-Soo Kang Ye-Won at the hospital and quickly falls in love. But those pesky ghosts still haunt Sang-Man everywhere he goes. Sang-Man then attempts to help the ghosts fulfill their unrealized dreams to get them to leave him alone once and for all ...\n",
            "Recommended film has ID 2540\n",
            "Its categories are ['\"Short Film\",  \"Comedy film\",  \"Animation\"']\n",
            "Its summary is: The Pink Panther is a stowaway on the cruise ship Luxitania where a famous opera star is sailing. While the ship's captain courts her, the steward who is also assigned to her ([[The Little Man  finds the Panther and tries to capture him. However, the Panther's food-pilfering and the stewards attempts to catch him keep disrupting the opera star and Captain, and he feels the wrath of the Captain every time.\n",
            "Recommended film has ID 2741\n",
            "Its categories are ['\"Japanese Movies\",  \"Horror\",  \"Haunted House Film\"']\n",
            "Its summary is: In 1840, in the rural and wooded hillside region of Kushiata near Kyoto, Japan, a samurai, named Shigero, comes home to find his wife, Otami, in bed with another man, named Masanori. In a violent scene, Shigero kills them both and then himself. Flash-forward to the present day, an American family of three, whom includes writer Ted Fletcher, his wife Laura, and their 12-year-old daughter, Amy, moves into this since-abandoned house and starts to experience incidents of haunting and possession. The three murdered people still haunt the house and subject each of the Fletcher family to various harassment and mischief which gets more frequent and serious with each passing day. A Zen monk approaches Ted and tells him the story about the murders and urges him to leave the house. At the same time, Laura slowly becomes consumed by the evil presence of the three ghosts and begins an affair with Alex Curtis, a diplomat friend of Ted's whom introduced them to the house. The evil presence within the haunted house, including the ghosts briefly possessing each member of the family to do odd things, reveals that the ghosts are plotting to re-enact the mass murder-suicide so their souls could be free from the confines of the house. The supernatural incidents becomes more frequently when Ted is nearly drowned in a lake by Otami's ghost, and the ghosts of Shigero and Masanori take the form of giant spider crabs which attack Amy one evening and it leads her to falling from a tree when she tries to escape and is forced to be sent back to America. At the climax, Ted calls the Zen monk who exorcises the ghosts from the house and tells them to leave by the morning or the ghosts will return. When Laura tells Ted about her infidelity with Alex, he predictably takes it very badly and attacks her in which Alex arrives leading to the ghosts returning to the house where they possess all three of them and finally re-enact the gory confrontation from the opening leading to the deaths of Alex, Laura, and Ted, just as the ghosts planned. The end result has the three ghosts leaving the house for the afterlife... and implying that the souls of Ted, Laura and Alex now haunt the cursed house in their place.\n"
          ]
        }
      ],
      "source": [
        "id = 3605\n",
        "films = content_recommender(id, 5, corpus_tf_idf_2)\n",
        "print(\"Film to find recommendations has ID {}\".format(id))\n",
        "print(\"Its categories are {}\".format(categories[id]))\n",
        "print(\"Its summary is: {}\".format(summaries[id][0]))\n",
        "for film in films:\n",
        "  print(\"Recommended film has ID {}\".format(film))\n",
        "  print(\"Its categories are {}\".format(categories[film]))\n",
        "  print(\"Its summary is: {}\".format(summaries[film][0]))"
      ]
    },
    {
      "cell_type": "code",
      "execution_count": null,
      "metadata": {
        "colab": {
          "base_uri": "https://localhost:8080/"
        },
        "id": "WtnRZ0uSymgY",
        "outputId": "ce224a89-2f14-401f-8308-1f48401d4598"
      },
      "outputs": [
        {
          "name": "stderr",
          "output_type": "stream",
          "text": [
            "/usr/local/lib/python3.7/dist-packages/scipy/spatial/distance.py:720: RuntimeWarning: invalid value encountered in double_scalars\n",
            "  dist = 1.0 - uv / np.sqrt(uu * vv)\n"
          ]
        },
        {
          "name": "stdout",
          "output_type": "stream",
          "text": [
            "Film to find recommendations has ID 2070\n",
            "Its categories are ['\"Musical\",  \"Black-and-white\"']\n",
            "Its summary is: John \"Lucky\" Garnett  is a gambler and dancer. He is set to marry Margaret , but his friends hold him up so that he is late to the wedding. Margaret's father phones to call off the wedding, but Lucky doesn't get that message. His friends bet him that he won't be getting married and he agrees to the bet. Margaret's father tells Lucky that he must earn $25,000 in order to demonstrate his good intentions. He and his friend \"Pop\" Cardetti  try to buy train tickets, but his friends take his money - because he lost the bet. So they hitch the first freight train to New York. Broke, they wander around the city. Lucky meets Penny , a dance school instructor, when he asks for change for a quarter. It's his lucky quarter and Pop feels bad that Lucky lost it. They attempt to get it back, but Penny is in no mood to deal with them. When she drops her things, Pop sneaks the quarter out of her purse, and she thinks Lucky did it. They follow Penny to her work. In order to apologize, he needs to take a lesson from her. She's still furious at him. After a disastrous lesson, Penny tells him to \"save his money\" since he will never learn to dance. Her boss, Mr. Gordon , overhears her comment and fires her. Lucky dances with Penny to \"prove\" how much she's taught him. Not only does he give Penny her job back, Mr. Gordon sets up an audition with the owner of a local venue. They check into the same hotel where Penny is staying. Lucky does not have a tuxedo to wear to the audition. He tries to get a tuxedo off a drunk man, but he ends up loses his own clothes instead. They miss the audition and Penny gets mad at Lucky all over again. Lucky arranges another audition. He and Pop picket in front of Penny's door until she gives in and forgives him. But they cannot audition because the club has lost their band leader, Ricardo Romero , to a casino. They go to Club Raymond where Lucky gambles to win enough to get Ricky back. Meanwhile, Ricky declares his feelings for Penny. Lucky is about to win enough to marry Margaret, but his takes his last bet off in time... proving he is no longer interested in her, but in Penny, instead. The club owner bets him double or nothing and they gamble for Ricky's contract. Pop cheats and Lucky wins the contract. Lucky and Penny dance at the club. They are dancing together all the time, but Lucky does not trust himself around Penny because he feels guilty about not telling her about Margaret. He's avoiding her, which Penny notices, so she and her friend Mabel Anderson  conspire to get Lucky and Pop out to the country. Pop lets slip the information about Lucky and Margaret. Despite her best efforts, the two begin a romance, even as Ricky continues to woo Penny. When Margaret shows up, Lucky tries to avoid her, but, too late, Penny finds out. She agrees to marry Ricky. Margaret calls off her engagement to Lucky before he can. Lucky successfully stops Penny's wedding. And the two end up together, much to everyone's delight.\n",
            "Recommended film has ID 789\n",
            "Its categories are ['\"Drama\"']\n",
            "Its summary is: The movie focuses on Mahesh , an honest and diligent young man, who has no knowledge of his background as he was raised in an orphanage. One day, out with his friend Badru , he meets Reshma , who is also an orphan. Badru advices Mahesh to make a move on her, though as he approaches her, the two fall in love and Badru decides to get them married. They then live a harmonious life, and soon are proud parents of a healthy young boy who they name Lucky . Lucky grows up to be as honest and diligent as his dad, and his future appears to be very bright. When Lucky sees his father smoking, he starts to as well, but when his father stops him, he explains that an old man around his school sells him cigarettes. When Badru and Mahesh approach the old man, he tries to run. Badru chases after him, and is then run over by a truck. Badru tragically dies, leaving Mahesh, Reshma and Lucky on their own. Years later, when Lucky grows up, he falls in love with Lata , and both plan to marry soon with the blessings of their respective parents. Then Mahesh's world is turned upside down when he finds drugs in Lucky's pocket. He speaks to Lucky about this, and Lucky promises to give up drugs forever, and does live up to his promise. While driving home one day, Mahesh witnesses a drug peddler selling drugs to a group of youths which also included Lucky. He notifies the police, and they arrest the youths, but the peddler manages to escape. All the other youth tested positive for drugs, except for Lucky. When he returns home, his parents refuse to believe him, this angers him and he and his father come close to fisticuffs. Mahesh asks Lucky to leave, and he does so. Even Lata has left him and dumped him by now. Lucky regresses to drugs and his friends, until he runs out of money. Now he must either steal or even consider killing someone for money, - and the only ones he could think of taking money from are his parents. What will be Lucky's fate?\n",
            "Recommended film has ID 3137\n",
            "Its categories are ['\"Horse racing\",  \"History\",  \"Docudrama\",  \"Sports\",  \"Period piece\",  \"Biography\",  \"Drama\",  \"Family Film\"']\n",
            "Its summary is: Denver housewife and mother Penny Chenery  agrees to take over her ailing father’s Virginia-based Meadow Stables, despite her lack of horse racing knowledge. With the help of veteran trainer Lucien Laurin , Chenery manages to navigate the male-dominated business, ultimately fostering the first Triple Crown winner in 25 years and one of the greatest racehorses of all time. The film begins with Penny learning of her mother's death and returning to her childhood home. She reunites with Mrs. Ham, her father's secretary, and comforts her confused and elderly father. At her mother's funeral, Penny meets Arthur \"Bull\" Hancock and his son, Seth Hancock, of Claiborne Farm in Kentucky. The Hancocks offer to Penny any help she may need during her efforts to bring Meadow Stables back to profitability. Penny's brother Hollis informs her of a bad and dishonest sale that was about to be made by the trainer until their mother stopped him. Penny fires the trainer and asks Bull Hancock to help her find a new trainer. He recommends Lucien Laurin, an aging French Canadian, who initially turns down Penny's offer. Penny's father had made a deal with leading owner Ogden Phipps that if Phipps would breed his best stallion  with Chenerey's two best mares  that when the mares were close to term they would flip a coin to see who got which foal. Bold Ruler, the stallion, was fast but couldn't last over distances. Hasty Matilda was the obvious choice due to her young age, but Somethingroyal's bloodline was made up of many horses with good stamina. Penny hopes to win and choose Somethingroyal's foal due to the interesting mix of speed and stamina. Phipps picks Hasty Matilda and Penny wins Somethingroyal's foal, Secretariat. When Big Red  enters his first race at Aqueduct race track in Queens, New York, everyone has high expectations. The jockey, Paul , is very young with little experience which worries Penny but Lucien reassures her and says they will do fine. During the race, Red repeatedly is hit. First when he comes out of the gate, and repeatedly in the pack and on the rail. Red comes in 4th due to running like he was afraid of the other horses due to their hitting. Penny and Lucien fight and Lucien blames Paul for the loss. Penny realizes the only way Red could ever win is if he had an experienced jockey. Penny's flight back home is canceled on the day of the race and she misses her daughter Kate's solo in the play. Her son holds up the pay phone so Penny can hear her sing. The scene closes with Penny covering part of the phone and crying over missing important parts of her children's lives. Penny gets experienced jockey Ron Turcotte to ride Red who leads him to many victories. Secretariat is named horse of the year after a successful two-year-old year, but all the colts of Bold Ruler can't handle the distances that three-year-olds run. Penny's father suffers a stroke and dies, leaving Penny and her brother Hollis to inherit the estate. Penny needs six million dollars to pay estate taxes, but refuses to sell Secretariat. Instead she syndicates Red, selling 32 shares worth more than six million dollars, as long as he can win a three year old distance race. She tries to sell a share to Ogden Phipps, who instead offers to buy Red for eight million dollars. Penny refuses to sell him. When Phipps demands to know why, she tells him Red's value will triple when he wins the Triple Crown – a feat no horse has accomplished in twenty-five years. During this time Frank \"Pancho\" Martin, trainer of rival horse Sham, provokes a match race with Red. Red is taken to the Wood Memorial three weeks before the first of the Triple Crown races to take on Sham and attempt to earn Penny her syndication money. Ronnie notices that Red's breathing is heavy and he refuses to eat, and is reluctant to allow the bit into his mouth. Red loses the race, after which it's discovered he has an abscess which may have caused the loss. Red recovers and wins the Derby and Preakness in record time, then wins the Belmont by 31 lengths  to secure the Triple Crown.\n",
            "Recommended film has ID 2951\n",
            "Its categories are ['\"Crime Fiction\",  \"World cinema\",  \"Road movie\",  \"Musical\",  \"Adventure Comedy\",  \"Comedy\",  \"Romance Film\",  \"Action\",  \"Bollywood\"']\n",
            "Its summary is: Lakhan Singh , also called \"Lucky,\" is the \"kinng\" of the Australian underworld, and being a sikh, is the first \"Singh Is Kinng\" of the film's title. He is accompanied by his sikh mafia associates, Julie , Mika , Pankaj Udaas , Raftaar , Dilbaugh Singh  and Guruji Gurbaksh Singh . In a small village in Punjab, the birthplace of Lucky, lives another Sikh man more notorious than Lucky himself—Happy Singh . Happy has caused many problems and disastrous situations in the village, and the villagers are fed up with him. They decide to send Happy on a long trip to Australia with his friend Rangeela  to bring Lucky back to Punjab, which will keep Happy out of the village for some time and bring peace to the village. But at the airport, Happy's and Rangeela's tickets to Australia are accidentally exchanged with that of a man named Puneet  who was hoping to use them to fly to Egypt. In Egypt, Happy helps Sonia  and falls deeply in love with her. But he does not express his love to her. Leaving her behind, he heads to Australia to meet Lucky. Lucky refuses to return to his hometown and throws Happy and Rangeela out of his house. Penniless, Happy finds warmth and affection in an elderly sikh lady  who provides him with food in spite of being a stranger. Lucky winds up in hospital, paralyzed, after a series of violent incidents that Happy causes.  Happy unexpectedly receives the title of Kinng—thereby becoming the other \"Singh Is Kinng\" of the film's title. Alas, Happy is not proud of his rank and is kind-hearted. The lady who helped Happy is really worried and depressed as her daughter is returning from Egypt with her wealthy boyfriend, Puneet. The daughter does not know that after the death of her father years ago, her mother became poverty-stricken and was reduced to work as a flower seller. Happy gives the flower-seller Lucky's spacious house and makes all his mafia associates work under her. The lady's daughter arrives—and to Happy's horror, she is none other than Sonia. Happy, heart-broken, is forced to make a show of happiness to Sonia. Puneet says that he too would have had a good time with Happy and Sonia in Egypt had his ticket to Egypt not been exchanged in the airport, because of which he had ended up in Australia. Puneet had always been jealous of Sonia being with Happy. However, he doubts anything is going on between them. He and Sonia squabble about this topic; it is Happy who handles it. Meanwhile, after spending so much time with the kindhearted Happy, most of Lucky's gang members find themselves reformed and decide to become good. In spite of herself, Sonia falls in love with Happy—and the truth becomes difficult to hide. Sonia becomes aware of her poverty. Puneet sets his heart to marry Sonia. Sonia gets trapped in an emotional tug-of-war between Puneet, who loves her, and Happy, whom she loves. Puneet meets Mika, who is also the brother of the Kinng, and who agrees to kill Happy. Puneet's motives to kill Happy, however, differ from Mika's: Puneet wants to kill Happy to keep Sonia away from him, whereas Mika wants to kill Happy to make himself Kinng. The wedding day dawns and there is firing . Puneet hides while the pandit chants the mantras, his head totally covered by a pot, amidst gunfire all around. Meanwhile Happy takes Sonia's hand in order to save her and unknowingly both run around the fire seven times essentially getting married.  Suddenly, Mika turns up on the spot, ready to kill Happy, armed with a gang and his new special glasses and hearing aid. As he is about to shoot, Lucky steps up and stops him. Then a dialogue ensues between Mika, Happy, Lucky and the associates of the kinng . Then Happy tells him that being the \"king\" is no great thing and explains him the characteristics of a true Sikh. Lucky confesses that he always found sadness being Kinng, because a true king does not fight for himself, but for others. Overcome with remorse, Mika drops his revolver. The movie ends happily, with Happy and Sonia's marriage.\n",
            "Recommended film has ID 3401\n",
            "Its categories are ['\"Comedy\",  \"World cinema\",  \"Filipino Movies\"']\n",
            "Its summary is: Jenny Rose San Miguel was born lucky after so many years she has been so lucky but has a past she has a long lost sister. little did she know that Julia Rose  an unlucky woman with 3 kids from 3 relationships gone sour and ended with a curse of deaths is preparing to get married the same day at the same time as her but little did they know that as both encounter lives change and lead them to their key fate their past and as they both get married at the same church and same day bad things occur and lead them to seeing each other again what secrets unravel in this hilarious laugh trip.\n",
            "Recommended film has ID 2464\n",
            "Its categories are ['\"Family Film\",  \"Fantasy Comedy\",  \"Comedy\"']\n",
            "Its summary is: The film opens with John Dolittle as a child talking to his dog . He asks his dog questions, one being \"Why do dogs sniff each other's butts\"? Her response is that it's their way of shaking hands. His concerned father  hears the question and says that the dog doesn't have any idea what he said. He was wrong. He finds this out when John meets his new principal and sniffs his butt. The dog obviously knows something is going to happen. When his father hires a minister to remove the devil from John Dolittle, the dog saves John by biting the minister. The dog is then relinquished for adoption. John is very upset and stops talking to animals as his father teaches him to hate them. Thirty years later, we see John Dolittle  shooing a puppy out of his apartment in San Francisco, California. He is a doctor, married with two children, and an animal hater. His 13-year-old daughter Charisse  wants to be named Paprika. His youngest daughter Maya  is a nerdy girl who does experiments, such as raising what she believes to be a swan egg so it will bond with her. She also has a Guinea Pig named Rodney . John's wife Lisa  wants to spend time with him. Meanwhile at work, a large medical company owner named Calloway  wants to buy his practice. This is welcomed by the employees as they think it will bring financial gain. John takes his family out to the country for a vacation. After taking the family to the country, he has to stay late at work to give Mrs. Parkus , a woman who is addicted to shellfish in spite of the fact that she is highly allergic to it, medication. Driving home, he nearly hits a dog and bumps his head on the windshield. Alive and well, the mutt walks away and shouts \"Watch where you're going next time, you bone-head!\". This is the first time that John has understood an animal since his childhood. The next day, John is driving Rodney to the country and Rodney starts talking to him. Up in the country, an owl  asks him to remove a twig in her wing. He obliges and she tells all the animals about his kind act. Soon many animals start asking favors of John. Scared, he goes to see Dr. Sam Litvak  for a CAT scan, but nothing is wrong with him. The next day he finds the dog he nearly hit being taken to a kennel. John rescues the dog, and takes him to the vet. Slowly becoming friends, John and the later decide his name should be 'Lucky'. John makes a deal with Maya. If she stays at camp, John will give her Lucky. That night a number of animals come to see the Doctor for treatment, including a drunken circus monkey, two dysfunctional pigeons, a goat with a rash, an OCD dog , and a pair of cloned sheep with rectal trauma. In the process, John relearns to appreciate his gift and confides in Lucky that he feels more energized about his work than he has in years. After he fits a nearsighted police horse for special glasses, the drunken monkey tells the doctor about a sick circus tiger . They find the tiger, named Jake, on top of Coit Tower attempting to commit suicide. John and Lucky attempt to stop him, saying that everyone loves tigers  and that John can cure him. His work with animals distracts him from a meeting with Calloway and from spending time with his wife. Soon, Lisa discovers all the animals. She and Mark catch him giving CPR to a group of rats , which was a false alarm  while conversing with the other one. Thinking he is crazy, his friends and family send him to an asylum where he meets Blaine , an enemy of John from medical school. Meanwhile, the Tiger is getting sicker, so Lucky tries to break John out of the asylum. John is mad at all the animals for sending him to the asylum, but Lucky says that he is hiding from his true self. Declaring that he will not talk to animals anymore, John is released. Maya, at home because she did not fit in, tells her Grandpa that she believes her dad has the gift of gab. Overhearing this, he realizes his mistake and apologizes to Lucky. Later, during the party where Calloway will buy the company, John and Lucky go to the circus, pick up Jake, and take him to the clinic so they can cure him. Meanwhile, the police are after John, but Lucky gathers all the animals of San Francisco to help guard the building in which John is operating on the tiger. But because they need to go through the party, and because Rodney is there, Jake comes out from under the hospital bed and scares everyone. Soon everyone is watching the operation. Lisa is now upset that her husband thinks he can talk to animals. John's father finally reveals that he, in fact, can. With that said, she comes in the operating room to comfort Jake. John finds out that Jake is suffering from a blood clot stuck in his head, and with that, saves his life. Calloway is watching this and he is very impressed. He wants to buy the company, but John declines his offer. In the end, John is now a both human doctor and a veterinarian. Maya's egg hatches, revealing it to be an alligator. John and Lucky are seen walking to the circus to visit Jake and talking about their future as friends while the song \"Talk with the Animals\" plays in the background.\n"
          ]
        }
      ],
      "source": [
        "id = 2070\n",
        "films = content_recommender(id, 5, corpus_tf_idf_2)\n",
        "print(\"Film to find recommendations has ID {}\".format(id))\n",
        "print(\"Its categories are {}\".format(categories[id]))\n",
        "print(\"Its summary is: {}\".format(summaries[id][0]))\n",
        "for film in films:\n",
        "  print(\"Recommended film has ID {}\".format(film))\n",
        "  print(\"Its categories are {}\".format(categories[film]))\n",
        "  print(\"Its summary is: {}\".format(summaries[film][0]))"
      ]
    },
    {
      "cell_type": "markdown",
      "metadata": {
        "id": "H8JZD5vOymgZ"
      },
      "source": [
        "**<h4>Μοντέλο Word2Vec glove-twitter-25</h4>**"
      ]
    },
    {
      "cell_type": "code",
      "execution_count": null,
      "metadata": {
        "colab": {
          "base_uri": "https://localhost:8080/"
        },
        "id": "LW4dWkZwymga",
        "outputId": "544163d0-7abf-49cc-affe-979c51b4fc05"
      },
      "outputs": [
        {
          "name": "stdout",
          "output_type": "stream",
          "text": [
            "Film to find recommendations has ID 3605\n",
            "Its categories are ['\"Fantasy\",  \"Comedy\"']\n",
            "Its summary is: The film opens up with a distraught tensed up Ranjit watching his mother and his sister and their adopted brother closely. He is wearing a depressing look as he cannot earn and feed his family members properly being a handicapped person. He walks with help of walking stick. He decides that its better to commit suicide and die rather than giving trouble to others and also seeing his family members struggle for survival. His mother loves him a lot although he is limping and jobless. She asks him not to worry and be happy. Their landlord has asked them to vacate the premises the next day. Tension looming around his mind, Ranjit decides to go out early in the morning and jump from the bridge above the railway tracks and give away his life. Ranjit carries out his plan. In the next scenes, he starts walking without help from any stick. He meets a man who calls himself as Captain and he says that he is the only person who can see Ranjith right now. That fat man introduces himself as Swaraj Singh Captain and says that he is a ghost and that Ranjit has died and is now a ghost too. Captain takes him along everywhere and shows him how many other people are roaming as ghosts in the world after committing suicides. Captain says the ghosts attain salvation only when their unfulfilled wish gets fulfilled. Captain asks him why did he commit suicide. Ranjit tells him his story of how he was a badminton player and how rich they were. He had even fell in love with a richer girl. The rest of the story is about Ranjit's description of what drove him to poverty, how were they surviving, how his friends betrayed him and deprived him of any job, how he lost his leg and how much he feels betrayed of his girlfriend leaving him and joining hands with some one else. Captain just keeps listening to his story. The answers to the above question and rest of the story is full of suspense which needs to be seen in the movie directly.\n",
            "Recommended film has ID 1734\n",
            "Its categories are ['\"Buddy film\",  \"Family Film\",  \"Family Drama\",  \"Drama\",  \"Tragedy\"']\n",
            "Its summary is: Two old friends who fell out of touch are reunited by a chance meeting in post-9/11 New York City. When the Twin Towers went down on that fateful morning in 2001, Charlie Fineman  lost everything important in his life. Five years have passed since Charlie's wife and daughters died, and now the once-successful and sociable man has become a withdrawn shadow of his former self. When fate brings Charlie and his former college roommate Alan Johnson  together once again on a Manhattan street corner, Alan is shocked to see just how far his old friend has fallen. Charlie's hair is long and he wears headphones constantly to let music drown out the horrifying memories and images in his mind. Though on the surface it would appear that Alan, a successful dentist, has it all, the pressures of a family and career have been weighing heavily on him. At a pivotal moment when Charlie and Alan both need a trusted friend, the restorative power of a rekindled friendship provides a lifeline needed to move forward. Alan endeavors to bring Charlie out of his shell by convincing him to see a therapist . Charlie is barely communicative, however, ending their sessions after only a couple of minutes. His therapist says he needs to tell the story about his family to someone eventually. Charlie soon tells Alan his tragic story, but afterwards tries to commit suicide by cop and ends up in a sanitarium. Legal proceedings commence, where a judge  must determine whether to commit Charlie to psychiatric care against his will. The judge leaves the decision to Charlie's in-laws, asking them to think of what their daughter would want for Charlie. They decide that he should not be committed; instead, Charlie moves to a new apartment, leaving behind the painful memories associated with his former home. At the end of the film, Alan visits Charlie for the day and his wife calls and tells him \"I love you and just want you to come home.\"\n",
            "Recommended film has ID 2668\n",
            "Its categories are ['\"Romance Film\",  \"Comedy\"']\n",
            "Its summary is: Han-na is an overweight phone sex employee and a ghost singer for Amy, a famous pop singer who actually lip syncs. Instead of being famous for her own amazing vocal talent, Han-na hides behind Amy's performance stage and sings during Amy's concerts, and records all of Amy's songs. One day, Amy ungratefully humiliates her in front of the music company's director Sang-jun during his birthday party, knowing full well that Han-na has a crush on him. While crying in the bathroom, Han-na overhears Sang-jun telling Amy that even though they are just using Han-na for her voice, they must be kind to her so she will not walk out on them. Heartbroken, Han-na attempts suicide but is interrupted by a phone call from one of her phone sex regulars who happens to be a top plastic surgeon. She decides to get head-to-toe plastic surgery instead. The surgeon at first refuses to operate on Han-na, but Han-na threatens to blackmail the surgeon by telling his wife about his calls. Then, Han-na makes a moving speech that she does not want to undergo surgery merely to be beautiful, but for the sake of love and as a boost in confidence so that she can live a life, and the surgeon is deeply moved. Han-na puts herself in seclusion for a year as she recovers from the changes. When she comes back from the hospital, Han-na is incredibly beautiful and slender. Not even her best friend Jung-min recognizes her. With Jung-min's help, she creates a new identity for herself; she is now a Korean-American from California named Jenny. After auditioning to be Amy's secret vocalist again, she earns her own recording contract instead from Sang-jun, claiming that she is \"all-natural\". In the meantime, Amy, oblivious just like everyone else of Han-na's new identity, desperately tries to find Han-na so that she can record her own postponed album  by spending time with Han-na's father who is in a hospital due to mental problems, possibly Alzheimer's. Meanwhile, romance begins to blossom between Jenny and Sang-jun, as he continues to promote Jenny, in effect boosting Han-na's confidence in her new self. However, Amy, through spending time with Han-na's father and Jenny, eventually realizes that this Jenny is actually Han-na in disguise. During a date one night, Jenny refuses Sang-jun's advances, as the surgeon mentions that if he touches her breasts, he will immediately know they are fake. She instead offers a phone sex session. After Jenny has fallen asleep, he sees the African character Jenny had drawn on the glass and realizes that he had seen it before; Han-na had drawn exactly the same signs on a sheet of music. He then realizes as well that Jenny is actually Han-nam but he keeps this information to himself. Jenny's debut single \"Maria\" becomes a hit and the recording company holds a party to celebrate its release. On the day of the party however, Amy brings Han-na's father in an attempt to blow her cover. Han-na's father tries to return Han-na's Barbie doll to her, which had always been Han-na's favorite childhood gift from him. Startled by the sudden appearance of her father and not knowing how to react in front of all the people, including Sang-jun, Han-na denies knowing her father and calls him a fan instead when Sang-jun asks her if the old man is her guest. As her father keeps insisting on giving her the doll, Sang-jun drags him away from Jenny knocks him down onto the floor. Desperate to keep her true identity a secret, Han-na makes no move to help her father. It is Jung-min who finally helps him up, casts Jenny a furious look and leads Han-na's father away from the party. After the party, Sang-jun and Jenny are the only ones left in the room. Sang-jun reveals to Jenny that he knows her true identity but is now cold and distant. He seems unable to forgive her for lying to him but says that he will still work to promote Jenny and carry on with her concert scheduled the next day. Han-na breaks down at this point, heartbroken and unable to pretend to be someone else anymore. She tears down the posters and smashes her CDs that are placed on a table, cutting her fingers in the process. Han-na tells him that it is incredibly frustrating and painful not being able to just be herself but have to live a lie, especially in front of him. The surgery that took a whole year to recover from was not nearly as painful as realizing that she still could not be close to Sang-jun. As Sang-jun tries to comfort her, she brushes away his efforts saying, \"You broke my heart. Tissue paper cannot fix it.\" Sang-jun still insists on continuing with Jenny's first concert, despite protests from the company boss. Later, he encourages a distraught Jenny to do this concert, not for the sake of the fans or the company but for herself, thus implying that he has forgiven her and will continue to support her. At the concert, Jenny can't sing and later breaks down from the pressure of seeing her father being dragged away by security and tells everybody to stop. She then reveals to the public that Jenny is a \"fake,\" and that she is not \"all-natural\", as she had claimed. She proceeds tearfully to tell the large crowd her story: how she has abandoned everything that is dear to her - her best friend and father - to get to where she is. She also tells the crowd about how on the way to fame and fortune she has also lost her own identity and that she now no longer knows who she is. Sang-jun plays a tape of the old, obese Han-na, singing. Han-na turns around and sees her old image on the screen and tells the crowd that the image is the real her. The crowd, moved by her sincere confession, responds by chanting \"It's okay,\" and Han-na rekindles her relationships with her father and best friend. She drops the stage name Jenny and re-releases a CD with her own name, Han-na, and becomes a highly successful music artist, gaining many fans and anti-fans along the way. Sang-jun realizes the very thing about Han-na that had always drawn him to her was Han-na's innocence. At the end of the film, Jung-min also asks to get a head-to-toe plastic surgery.\n",
            "Recommended film has ID 1792\n",
            "Its categories are ['\"Romantic comedy\",  \"World cinema\",  \"Drama\",  \"Comedy\",  \"Romantic drama\",  \"Romance Film\",  \"Bollywood\"']\n",
            "Its summary is: Aarush  leaves his job to stay with his friend, Bob  and his wife, Hetal , who both work at a casino. Aarush is \"jinxed\", as everything he does is turned upon him. Desperate to get lucky, Aarush goes to a priest, who tells him that his luck will change once he gets married. Therefore, Bob and Hetal decide to get him married to their boss's daughter, Devika Samtani . After the marriage, on their honeymoon in Italy, Devika leaves him for her American boyfriend. Aarush decides to commit suicide by drowning in the sea but is saved by a Telugu girl Sandy . Aarush and Sandy fall in love and decide to get married. However, when Sandy finds out Aarush is already married, which she did not know before, she leaves him. It is only due to Aarush claiming his love to her on national TV that she returns to him. The only way Aarush can get married to Sandy however is convincing her elder brother, Major Krishna Rao , a strict army officer who loves and is over-protective of Sandy. Meanwhile, Bob has to lie to Hetal's father, Batuk Patel , that he is filthy rich and owns a mansion. The four live life perfectly, until Batuk actually shows up. The four rent a mansion to make him believe that Bob owns it. Due to a misunderstanding, Batuk starts believing that Aarush is married to Hetal, and Bob is married to Sandy. If the confusion wasn't enough, Krishna turns up, much to Aarush's horror. The four then struggle to keep Batuk and Krishna from finding out the truth. Things seem to be working until one day, Krishna catches sight of Bob and Hetal at the casino and gets suspicious. He uses a lie detector to find out the truth. Aarush answers all questions and when it is confirmed that he truly loves Sandy, Krishna agrees to the marriage. Aarush, Krishna and Bob go to a club for a bachelors night out and meet Dhanno , the club dancer. The whole family is invited to the Royal Palace, to see Krishna get rewarded by the Queen of England. While this is happening, 2 workers are meant to be installing air conditioning instead they accidentally supply the hall with laughing gas causing everyone to break into an outburst of laughter. During this laughter, the truth is let out but no one seems to be in their right state of mind. The 2 workers meanwhile stop the gas from spreading- everyone comes back to their senses. Aarush is stilling telling Krishna the truth, leading Krishna to break off Sandy's engagement. However, after Sandy tearfully pleads to him, Krishna lets the two get married. In the end, Hetal and Bob live together with Batuk Patel, and Aarush's luck changes for the better.\n",
            "Recommended film has ID 610\n",
            "Its categories are ['\"Thriller\",  \"Horror\",  \"Supernatural\",  \"Sci-Fi Horror\",  \"Psychological thriller\",  \"Mystery\",  \"Slasher\"']\n",
            "Its summary is: Ian Stone is an average man. He loves ice hockey but lives for his girlfriend, Jenny Walker. Late one night while driving home from a painful loss on the ice, Ian comes across a bewildering discovery; what looks like a dead body near the railroad tracks. Investigating the grisly discovery, Ian is attacked by the \"corpse\", forced onto the tracks and subsequently barreled over by an oncoming train. He wakes up in an office cubicle. He's still alive, but older and shacked up with a beautiful, but eerily mysterious woman by the name of Medea. Jenny is still there, but she's not his girlfriend, just a co-worker and one of a number of apparently familiar faces. Ian meets a strange old man who implies he is in danger. From this old man he learns that he is being hunted by the Harvesters; a group of mind-controlling vampire-like characters who cannot be killed and feed off human fear. He explains that everyday, at different times and different places, the clocks stop and they come after him to kill him. The only problem is that Ian won't stay dead. He wakes in a new life, a new place, only for the cycle to repeat itself. Suddenly one of the Harvesters attacks the old man and Ian runs. They chase Ian mercilessly, all the way back to his apartment where Medea, who is clearly one of them, is waiting. Once again, Ian is killed. He wakes to find he's a junkie in a rundown apartment, with Jenny living a few doors down. He implores her to remember him, desperately reaching out and searching for someone to help him make sense of what's going on. When the Harvesters come again Jenny and Ian have no choice but to run. As they seek refuge on a subway train heading out-of-town, Jenny confesses to her memories of Ian's former lives. Later on, the old man meets Ian in the train again while Jenny sleeps. It is then that the old man reveals that he is one of the Harvesters, and hints at Ian's involvement with them. When they disembark they are again confronted by a group of Harvesters, a seething mass of pulsating veins, pitch-black muscles and midnight flesh. We recognize some of the barely human faces from Ian's previous lives including Medea who reveals a shocking truth: That Ian was one of these monsters until he rebelled against the colony and managed to kill one other Harvester, and Medea used to be his \"mate\". Medea tries to force Ian to feed again with fear and pain and return back to the \"fold\", but Ian decides against this. Medea and the Harvesters attack once more, and she explains that his rebellion came after his first encounter with Jenny. So moved was he by the girl, that he wished to live a mortal life with her. Before Medea can harm Jenny, however, a final change comes over Ian with the help of Gray, the Harvester who had helped him before. Apparently Ian found a sustenance that was far superior to fear or pain, and so did the old man: Love. Making this connection to a human being changes the specific nature of a Harvester, which allowed the old man  to kill the members of their kind. Gray had beseeched Ian to protect Jenny out of experience; having lost his love to the Harvesters, he could only feed on fear once again and spent what remained of his life slowly starving himself while trying to find love another time. Imploring Ian to feed off him and tap into those emotions of affection and kinship, Gray passes while restoring Ian. In doing so, Ian regains his true power: His Harvester-self is finally born out of his human flesh, uniquely exuding goodness rather than malevolence. He now has the capacity to turn the tables on these creatures and to feed on their fear and to give life. He then goes after Jenny, who is being actively stalked by his former clan. After saving Jenny, Ian creates a new life for them, with Ian as a successful professional hockey player with Jenny at his side. While Jenny has no recollection of their harrowing adventure, Ian, having realized his abilities, will begin to take the fight to the Harvesters.\n",
            "Recommended film has ID 2826\n",
            "Its categories are ['\"Action\"']\n",
            "Its summary is: Radhakrishnan  alias Rocky is a 10th grade dropout youngster who is looked down upon by his father , because of his sharp contrast to the rest of the family, all educated and well placed people. Rocky spends most of his time in a mechanic shop with his group of friends . 'Padikathavan and 10th failed' as his father refers to him, doubles up as a petty goon when his family members are in trouble. Meanwhile, one of his relatives is nearly married. One of his friends suggest that he falls in love with a highly educated girl, so earnestly he looks around by hovering around women's colleges. So he makes himself fall in love with Gayathri  a rich girl who after a few misunderstandings falls for him. In turn, he starts to honestly love her.But, at first, things doesn't work out the way Rocky planned! Meanwhile there are some goons after her, as her father is Samarasinga Reddy  a notorious don in Andhra. The protagonist goes to Assult Arumugam , a thug-for-hire, to help him save Gayathri from her father. Our hero saves her from her dad's enemy  and follows to her home in Hyderabad, where he realizes that another Tirunelveli rowdy Kasi Anandan , whose brother he accidentally killed in a flashback, has put a price on his head. Rocky goes and settles the matter by fighting and winning against Kasi Anandan and killed him instead.\n",
            "Recommended film has ID 2513\n",
            "Its categories are ['\"Comedy\"']\n",
            "Its summary is: Subrahmanyam  is an intelligent, hardworking software engineer. He lives with his uncle , keeps the poster of Bill Gates in his room, spends most of his time with his girlfriend Madhu , and Busy Balraj . After getting drunk heavily one night, he wakes up with a girl Sanjana . Neither he nor does the girl remember how they got together, but both start to believe they did it. It isn't before too long that the girl's goon brothers , warn him of dire consequences if he doesn't get married to their innocent sister. No matter how hard he tries to escape the marriage, it seems he can't evade the brothers eyes. Just when he has given up all hope and agrees to the forced marriage, he stumbles upon a secret that turns the tables on the brothers. In spite of having the upper hand over the brothers, poor Subbu still finds himself in a drama of love and backbiting created by them. Who wins at last forms the rest of the story.\n",
            "Recommended film has ID 3263\n",
            "Its categories are ['\"Crime Fiction\",  \"Albino bias\",  \"Tragedy\",  \"Drama\",  \"Coming of age\",  \"Romance Film\"']\n",
            "Its summary is: The film is set in a small Georgia town in 1948. It follows the adventures of Buster Lane , a handsome, popular high-school senior, who is engaged to be married to his high-school sweetheart Margie Hooks . He is the 'big man on campus' and the leader of his group of friends. Buster, though, is different from these other young men. Buster's friends, being sexually repressed, often visit a girl from an underprivileged background named Billie-Jo Truluck  who dourly gives them what they want. In the meanwhile, Buster becomes disenchanted with Margie's refusal to have sex with him, and begins seeing Billie in secret. In the beginning, he sees Billie just for sex, but eventually finds himself falling in love with her. Buster is so taken with Billie that he decides to break off his engagement with Margie to be with Billie. Billie finds another lease on life with Buster, and they are happy for the first time in their lives. Happiness for them, though, is short-lived. Buster's friends are extremely jealous that they cannot have Billie for their own use anymore, and decide to teach Buster a lesson. They corner Billie one day when she is out, and when she refuses to submit to them, they rape and kill her in the heat of the moment. Buster eventually finds her dead, and is hysterical. He then goes to the pool hall where his friends are, with the guilt evident on the faces of the main perpetrators of the crime. Enraged, Buster kills two of them, while injuring the other two. He is then put into jail for this, but is released. He rips up entire garden beds in the town, and takes these flowers to Billie's graveside in her memory.\n",
            "Recommended film has ID 3772\n",
            "Its categories are ['\"Romance Film\",  \"Comedy film\"']\n",
            "Its summary is: After seven years of marriage, mild-mannered Doo-hyun  is at the end of his rope. Jung-in , his wife, is beautiful, sexy, and a fantastic cook, but drives her husband crazy with her endless nagging and complaining. He can’t even bring himself to ask for a divorce because of the fights that will follow. When Doo-hyun’s company transfers him out of state, it seems like his dream of getting away is coming true. But to his horror, Jung-in surprises him by moving across the country to be with him. Desperate but too afraid to ask for a divorce, Doo-hyun recruits his next-door neighbor and legendary Casanova Seong-ki  to seduce his wife and make her leave him first. After scoping her out, Seong-ki is intrigued by the challenge and confidently agrees to seduce Jung-in as his career finale. Meanwhile, to give her something to do, Doo-hyun has already arranged for Jung-in to get a spot on the local radio station, shooting her mouth off about life's injustices. True to his reputation, Seong-ki eventually succeeds in grabbing Jung-in’s attention, and the two slowly develop feelings for each other. But though Doo-hyun asked for it, he grows to regret his decision and decides to spy on his wife and her lover.CJ Entertainment Reveals Everything about my Wife HanCinema. June 12, 2012.All About My Wife Film Business Asia. May 23, 2012.2012.5.18 NOW Playing Korea JoongAng Daily. May 18, 2012.Trailer and stills for All About My Wife Dramabeans. May 13, 2012.\n"
          ]
        }
      ],
      "source": [
        "id = 3605\n",
        "films = content_recommender(id, 8, tfw2v_2)\n",
        "print(\"Film to find recommendations has ID {}\".format(id))\n",
        "print(\"Its categories are {}\".format(categories[id]))\n",
        "print(\"Its summary is: {}\".format(summaries[id][0]))\n",
        "for film in films:\n",
        "  print(\"Recommended film has ID {}\".format(film))\n",
        "  print(\"Its categories are {}\".format(categories[film]))\n",
        "  print(\"Its summary is: {}\".format(summaries[film][0]))"
      ]
    },
    {
      "cell_type": "code",
      "execution_count": null,
      "metadata": {
        "colab": {
          "base_uri": "https://localhost:8080/"
        },
        "id": "qadMj58Tymgb",
        "outputId": "ac0460f3-1560-4bea-da4e-1ebba1a57c2c"
      },
      "outputs": [
        {
          "name": "stdout",
          "output_type": "stream",
          "text": [
            "Film to find recommendations has ID 2070\n",
            "Its categories are ['\"Musical\",  \"Black-and-white\"']\n",
            "Its summary is: John \"Lucky\" Garnett  is a gambler and dancer. He is set to marry Margaret , but his friends hold him up so that he is late to the wedding. Margaret's father phones to call off the wedding, but Lucky doesn't get that message. His friends bet him that he won't be getting married and he agrees to the bet. Margaret's father tells Lucky that he must earn $25,000 in order to demonstrate his good intentions. He and his friend \"Pop\" Cardetti  try to buy train tickets, but his friends take his money - because he lost the bet. So they hitch the first freight train to New York. Broke, they wander around the city. Lucky meets Penny , a dance school instructor, when he asks for change for a quarter. It's his lucky quarter and Pop feels bad that Lucky lost it. They attempt to get it back, but Penny is in no mood to deal with them. When she drops her things, Pop sneaks the quarter out of her purse, and she thinks Lucky did it. They follow Penny to her work. In order to apologize, he needs to take a lesson from her. She's still furious at him. After a disastrous lesson, Penny tells him to \"save his money\" since he will never learn to dance. Her boss, Mr. Gordon , overhears her comment and fires her. Lucky dances with Penny to \"prove\" how much she's taught him. Not only does he give Penny her job back, Mr. Gordon sets up an audition with the owner of a local venue. They check into the same hotel where Penny is staying. Lucky does not have a tuxedo to wear to the audition. He tries to get a tuxedo off a drunk man, but he ends up loses his own clothes instead. They miss the audition and Penny gets mad at Lucky all over again. Lucky arranges another audition. He and Pop picket in front of Penny's door until she gives in and forgives him. But they cannot audition because the club has lost their band leader, Ricardo Romero , to a casino. They go to Club Raymond where Lucky gambles to win enough to get Ricky back. Meanwhile, Ricky declares his feelings for Penny. Lucky is about to win enough to marry Margaret, but his takes his last bet off in time... proving he is no longer interested in her, but in Penny, instead. The club owner bets him double or nothing and they gamble for Ricky's contract. Pop cheats and Lucky wins the contract. Lucky and Penny dance at the club. They are dancing together all the time, but Lucky does not trust himself around Penny because he feels guilty about not telling her about Margaret. He's avoiding her, which Penny notices, so she and her friend Mabel Anderson  conspire to get Lucky and Pop out to the country. Pop lets slip the information about Lucky and Margaret. Despite her best efforts, the two begin a romance, even as Ricky continues to woo Penny. When Margaret shows up, Lucky tries to avoid her, but, too late, Penny finds out. She agrees to marry Ricky. Margaret calls off her engagement to Lucky before he can. Lucky successfully stops Penny's wedding. And the two end up together, much to everyone's delight.\n",
            "Recommended film has ID 3122\n",
            "Its categories are ['\"Romantic comedy\",  \"Romance Film\",  \"Comedy\"']\n",
            "Its summary is: Zoe  has given up on finding the man of her dreams and decided to become a single mother and undergoes artificial insemination. The same day she meets Stan  when they both try to hail the same taxi. They run into each other twice more at a farmers market and a pet store. Stan convinces Zoe to go on a no-obligations date. Zoe is still uncertain whether she is pregnant or not and if she should tell Stan. The night she takes the test and Stan takes her for a romantic dinner in a garden. Things don't turn out as well as planned when he spills the wine and a fire occurs. At the end of the night Stan asks her to come to his farm during the weekend and Zoe finds out that she is pregnant. She goes to the farm determined to tell him that she is pregnant. They make love and afterwards Stan is confused and angry that she didn't tell him before and Zoe leaves the next morning believing that things are over between them. However, Stan decides he still wants to be with her and they reconcile. They go to the doctor and find out that Zoe is actually carrying twins. Overwhelmed, Stan goes to a children's playing area to figure out what it means to be a father, but is suspected to be a pervert; this is soon cleared up. He finds a friend there that he can talk to about the pregnancy throughout the movie, while Zoe gets little support from her Single Mothers and Proud group when the group members discover she is no longer single. Stan takes the next step to becoming a father and orders a stroller for the twins. After many misunderstandings and comedic revelations, Zoe and Stan are walking into the Market when they run into Stan's classmate. Due to Stan's remark that the twins are not his, Zoe believes that he is not ready to become a father to them, and breaks off the relationship. Later, the stroller that Stan ordered arrives and Zoe figures out that Stan was never planning to leave. At her grandmother's wedding, Zoe's water breaks and on the way to the hospital they make a pit stop at the Market. Zoe apologizes to Stan and they begin to work things out. He pulls out the penny that she turned over when they first met and Zoe promises to trust him more. In the end, Stan opens a store/restaurant next to Zoe's pet shop and after the Grand Opening speech Stan asks Zoe to marry him and she says yes. On their way home, she spontaneously throws up into a rubbish bin. The camera switches between Stan's and Zoe's faces and the viewer can see their shocked looks as they think of reasons why she would be throwing up for no apparent reason, leading the viewer to believe that Zoe is pregnant again.\n",
            "Recommended film has ID 3740\n",
            "Its categories are ['\"Sex comedy\",  \"Comedy\"']\n",
            "Its summary is: The film revolves around four male teenage friends in New Orleans, Louisiana: Matt, Zack, Jacob and Justin. As a celebratory routine, the boys purchase a bong and use that bong only when one of the four have sex for the first time. The boys are beginning to lose their virginity and Matt is the last one. Matt, as it is learned throughout the film, is the adopted brother of Zack after Matt's mother died from cancer when he was 9. Matt's father had drug issues and while still involved in his life, does not play a major role in it. Matt has been with his girlfriend Nicole for almost two years and the two decide to lose their virginity together on their second anniversary. Zack decides to videotape the entire process and it is portrayed as a documentary-type film. As Matt prepares for the big night, he discovers that Nicole has cheated on him with a college fraternity member, Harry. Zack goes to find Harry to confirm this but he would not confirm nor deny this. Matt and the guys assume she did in fact have sex with Harry and the plan for the big night is soon altered. Zack decides the best thing for Matt to do is still have sex with Nicole but break up with her immediately afterwards. He feels this would be great for the movie he is making. Matt and his friends set up a date for Matt at a hotel, but when Nicole realizes they are being filmed and recorded from the adjoining room, she becomes angry at Matt, and admits she did not go very far sexually with Harry. She claims he had only sucked on her breasts. Nicole's father then comes and takes Nicole away from Matt and then pushes Matt into a bush after he breaks up with her. The entire segment on the failed date soon becomes a YouTube classic. A young woman, Becca, sees the video and claims that she feels bad for Matt. She leaves a video response letting him know she is experienced and would love to be his first. Becca's first requirement for the date is that Matt buys a very expensive suit. Matt is then reminded by Zack that his mother left him a large amount of money and convinces Matt to withdraw it for the suit. Matt then learns that his father withdrew the money when he was younger and the funds are not available. Angered by this, Matt decides to confront his father about it. After doing so, he learns his father has no desire to pay him back and claims the money was used for drugs. The boys and Krysta, Zack and Matt's adopted other adopted sibling, get drunk and camp. During this time Krysta unsuccessfully tries to have sex with Matt. When the boys return home, they come up with a plot to steal the suit, which is successful. Matt finally meets Becca and she tells him that she has a son. They then plan the date and as she is leaving, hands Matt a note that lets him know he needs to be shaven in all parts of his body including his pubic region. Preparing for the date, Zack ends up shaving Matt's pubic region for him. When Matt arrives at Becca's residence, he is told by Becca the cameras cannot stay and film, and that he must practice sex on a blow-up doll, which has an inflatable penis as well. Instructed by Becca, Matt uses the doll's penis in place of the vagina. Becca then leaves for nearly 3 hours before Matt leaves. The film then shows Becca on a video blog admitting her name is not Becca and that she is actually a graduate student studying male behavior and notes that he waited over twice as long as any other male had in the past. She also admits that her child was not hers, but someone else that she used for her studies. The video of him with the blow up doll becomes a huge YouTube success and shamed and embarrassed, Matt stays in his room for two weeks. In an effort to get Matt out his funk, the boys come up with a plan for Matt to have sex with his favorite porn star, Sunny Leone. They contact her and she agrees as long as the funds are paid. The boys and others raise the funds and then come up with a plan that Jacob is going into the military to be able to get Matt out of the house. They go to a strip club and meet Sunny and then go out to her bus so Matt may have sex with her. In the bus, Sunny lets Matt know that she has changed her mind and says that he should find someone he loves to have sex with. He then requests to spend five minutes alone with her, which is granted. After a few minutes, Matt emerges from her bedroom and we see Sunny putting her shirt back on. He sucked on her breasts to even out what Nicole did to him. He then finds Nicole at a party, explains what he did, and the two have sex. The film ends with the boys celebrating Matt losing his virginity.\n",
            "Recommended film has ID 2894\n",
            "Its categories are ['\"Romantic comedy\",  \"Buddy film\",  \"Comedy-drama\",  \"Coming of age\",  \"Comedy\",  \"Drama\",  \"Romantic drama\",  \"Romance Film\",  \"Teen\"']\n",
            "Its summary is: Roland  is getting married  and Slim , who scoffs at the idea of marriage, but is furious at Roland for disappearing. The story reminisces back to Mike's (portrayed as a youth by [[Sean Nelson  first encounters with Roland  and Slim , his first real crush on a girl named Alicia , and the three young men's misadventures as teenagers. Shy and awkward, Mike sticks out like a sore thumb on his first day, but is quickly befriended by Slim and Roland. On a dare from Slim and Roland, Mike runs and grabs Alicia's butt, leading to a big fight with her big brother Stacey , a violent gang member. While he is thoroughly beat down, Mike earns Stacey's private respect for fighting back like a man. Meanwhile in present day, Mike and Slim go find Roland for his wedding, when they get a call from Tanya  saying that she has him with her and that he is very drunk. They get to her house to pick him up to take him back to the wedding to marry his bride Lisa  because they only have two hours before the ceremony begins. Back to their old school times, they go to their first dance of the year, go to a store that gets held up by Stacey, who recognizes the boys and offers them a ride to the dance. The boys almost get arrested by two cops due to Stacey's broken taillight. Mike's quick thinking prevents one of the cops from finding Stacey's gun and they are let go. Impressed, Stacey begins a new friendship with Mike by apologizing for their prior run in but explained that he was protecting his sister, and, seeing how much Mike likes her, gives him advice on how to win her heart. When they get back to the dance it is almost over and Mike gets to dance with Alicia and at the end of the dance he gets her number. In the present day while reminiscing Roland gets sick, throws up all over Slim and Mike and now they only have an hour left before the wedding and they have to get cleaned up, then they take their clothes to the cleaners. Mike returning back to their memories, they were now juniors in high school, thinking about sex, ways to get it and making a lot of bets. Mike, now hiding his still present shyness with a veil of over confidence, reconnects romantically with Alicia. It's revealed in the present time that after High School, Alicia and Mike went their separate ways for good. The boys finally make it to the ceremony to have Roland apologize to a furious Lisa for leaving her worried before the wedding ceremony. Before the ceremony begins Mike sees Alicia  his childhood crush, and finally Roland and Lisa get married. Mike tells his last childhood memory, and its when they go to a homecoming dance for their school and that they will be the boys from \"The Wood\".\n",
            "Recommended film has ID 808\n",
            "Its categories are ['\"Short Film\",  \"Silent film\",  \"Comedy\",  \"Black-and-white\"']\n",
            "Its summary is: The gang starts up their own barbershop, giving the neighborhood kids haircuts that wouldn't become popular for another sixty years. When they see Mickie in his Little Lord Fauntleroy outfit, they kidnap him and give him the works. Mickie then decides to join them in their enterprise.\n",
            "Recommended film has ID 722\n",
            "Its categories are ['\"Romantic comedy\",  \"Adventure\",  \"Comedy-drama\",  \"Musical\",  \"Coming of age\",  \"Comedy\",  \"Drama\",  \"Romantic drama\",  \"Romance Film\",  \"Teen\"']\n",
            "Its summary is: Lucy , Mimi  and Kit  are three friends who live in a small town located in the state of Georgia. While children, they bury a \"wish box\" in the ground, and vow to dig it up on the night of their high school graduation, also pledging to stay best friends forever. However, as they grow up, they focus on different aspects of their lives, and stop being friends. Lucy turns out to be the smart girl with perfect grades, Kit becomes the popular girl in school, and Mimi is a teenager who ends up being pregnant. On the night of their graduation, they keep their promise and get together to open the \"wish box\". As they start talking again, they remember their old wishes while burying the box: Mimi wanted to travel to California, Lucy wanted to see her mother again, and Kit wanted to get married. Mimi brings up the topic of going to Los Angeles for a record contract audition. They all decide to go together; Lucy to visit her mom in Tucson, Arizona and Kit to visit her fiance in Los Angeles. They set out on the road with little money in a yellow 1969 Buick Skylark convertible with a guy named Ben . Lucy, however, leaves without the permission of her father Pete , who wakes up the next day to find his daughter is gone. Shortly into their journey, the car breaks down. They realise that they don't have enough money between them for the travel nor the repair costs. Mimi then suggests that she sing karaoke at a local bar, where good singers are tipped well by the costumers. While at the bar, the girls dress up and go the stage to perform. However, when the song starts Mimi develops stage fright, being unable to sing. Seeing that they needed the money, Lucy takes her place, and quickly becomes a hit with the crowd. They make enough money to fix the car and continue on their way. Shortly after the group checks into a motel, Kit tells the girls that she heard a rumour about Ben, commenting that he had recently been released from jail, after killing someone. The girls then spend most of the journey feeling uneasy around him, until they confront him. Ben reveals that he in fact was in jail - for driving his step-sister across state borders without parental consent, after his father was abusing her. Having established that Ben was not the assassin they imagined him to be, Lucy and Ben grow closer. The girls talk properly to each other for the first time since they were kids. Lucy reveals that her mother abandoned her and her father when she was three. Kit, who was overweight as a child, has an overbearing mother who sent her to \"fat camp\" but now cannot stand that her daughter is more beautiful than her. Mimi reveals that the baby's father was not her boyfriend, but a guy who raped her after she got drunk at a party. After they arrive in Arizona, Lucy finally meets her mother Caroline  after eighteen years. However, Caroline reveals that she married again, and that she now has two sons. She reveals to Lucy that she never wanted to have her, and that she was a mistake. Lucy leaves the house and starts to cry in a motel bathroom, while Ben comforts her. The following day, Lucy rejoins the others and goes on to Los Angeles. When they arrive, Kit brings Mimi along to surprise her fiance, Dylan . However, it is revealed that Dylan is betraying Kit, after they see another girl in his apartment. Already upset, Kit suddenly realizes that it was Dylan who raped Mimi and got her pregnant, and she punches him. Scared, Mimi runs away. However, she falls down the stairs and, consequently, loses her baby. While alone in the hotel, Lucy has sex with Ben for the first time. Lucy and Ben fall in love, and against her father's wishes, she stays in Los Angeles and goes to the audition instead of Mimi, receiving a standing ovation at the end.\n"
          ]
        }
      ],
      "source": [
        "id = 2070\n",
        "films = content_recommender(id, 5, tfw2v_2)\n",
        "print(\"Film to find recommendations has ID {}\".format(id))\n",
        "print(\"Its categories are {}\".format(categories[id]))\n",
        "print(\"Its summary is: {}\".format(summaries[id][0]))\n",
        "for film in films:\n",
        "  print(\"Recommended film has ID {}\".format(film))\n",
        "  print(\"Its categories are {}\".format(categories[film]))\n",
        "  print(\"Its summary is: {}\".format(summaries[film][0]))"
      ]
    },
    {
      "cell_type": "markdown",
      "metadata": {
        "id": "cVYc4ahAymgc"
      },
      "source": [
        "**<h4>Μοντέλο Word2Vec glove-wiki-gigaword-100</h4>**"
      ]
    },
    {
      "cell_type": "code",
      "execution_count": null,
      "metadata": {
        "colab": {
          "base_uri": "https://localhost:8080/"
        },
        "id": "16jLN7pbymgd",
        "outputId": "7b2cdf59-b237-4393-abc5-652fcdabe839"
      },
      "outputs": [
        {
          "name": "stdout",
          "output_type": "stream",
          "text": [
            "Film to find recommendations has ID 3605\n",
            "Its categories are ['\"Fantasy\",  \"Comedy\"']\n",
            "Its summary is: The film opens up with a distraught tensed up Ranjit watching his mother and his sister and their adopted brother closely. He is wearing a depressing look as he cannot earn and feed his family members properly being a handicapped person. He walks with help of walking stick. He decides that its better to commit suicide and die rather than giving trouble to others and also seeing his family members struggle for survival. His mother loves him a lot although he is limping and jobless. She asks him not to worry and be happy. Their landlord has asked them to vacate the premises the next day. Tension looming around his mind, Ranjit decides to go out early in the morning and jump from the bridge above the railway tracks and give away his life. Ranjit carries out his plan. In the next scenes, he starts walking without help from any stick. He meets a man who calls himself as Captain and he says that he is the only person who can see Ranjith right now. That fat man introduces himself as Swaraj Singh Captain and says that he is a ghost and that Ranjit has died and is now a ghost too. Captain takes him along everywhere and shows him how many other people are roaming as ghosts in the world after committing suicides. Captain says the ghosts attain salvation only when their unfulfilled wish gets fulfilled. Captain asks him why did he commit suicide. Ranjit tells him his story of how he was a badminton player and how rich they were. He had even fell in love with a richer girl. The rest of the story is about Ranjit's description of what drove him to poverty, how were they surviving, how his friends betrayed him and deprived him of any job, how he lost his leg and how much he feels betrayed of his girlfriend leaving him and joining hands with some one else. Captain just keeps listening to his story. The answers to the above question and rest of the story is full of suspense which needs to be seen in the movie directly.\n",
            "Recommended film has ID 2513\n",
            "Its categories are ['\"Comedy\"']\n",
            "Its summary is: Subrahmanyam  is an intelligent, hardworking software engineer. He lives with his uncle , keeps the poster of Bill Gates in his room, spends most of his time with his girlfriend Madhu , and Busy Balraj . After getting drunk heavily one night, he wakes up with a girl Sanjana . Neither he nor does the girl remember how they got together, but both start to believe they did it. It isn't before too long that the girl's goon brothers , warn him of dire consequences if he doesn't get married to their innocent sister. No matter how hard he tries to escape the marriage, it seems he can't evade the brothers eyes. Just when he has given up all hope and agrees to the forced marriage, he stumbles upon a secret that turns the tables on the brothers. In spite of having the upper hand over the brothers, poor Subbu still finds himself in a drama of love and backbiting created by them. Who wins at last forms the rest of the story.\n",
            "Recommended film has ID 1493\n",
            "Its categories are ['\"Romantic drama\",  \"Romance Film\",  \"Drama\"']\n",
            "Its summary is: Edith Alice \"Breezy\" Breezerman , a teenage woman, wakes up in a stranger's bed, gets dressed, fails to brush her teeth for lack of tooth paste and walks out the door with her guitar. She catches a ride to the valley with another stranger. When he starts to drive in the wrong direction and talks about giving his last hitchiker something to yell about, she escapes the car when it stops for another car backing up in front of him. Frank Harmon  is introduced saying goodbye to a girl he met last night and never wants to see again. As he gets into his car to drive to work, Breezy jumps into his car asking for a ride to the valley. Breezy talks about her time with the stranger in bed last night and in the car this morning. When he stops and says he's going to Hollywood and not the valley, she says that's fine by me. She then tells him to stop when she sees a stray dog laying on the side of the road. When Frank says the dog is beyond help, she runs away crying. He carries the dog back to his car when it starts to move, and sees Breezy's guitar in his car. He makes it to his job as a realtor and makes a call to Betty , a woman he was going to have lunch with. They stop to look at a house which she says she would be happy in. Then she tells him that she is getting married to another man and would be interested in buying the house. When they sit down for lunch, he tells her he is sad to lose. She said he is sad losing. He makes it back home with Breezy waiting for him. She said she was there for the guitar. He seems annoyed by her presence, but she is persistant about keeping a conversation going. She then asks for some food. He says Breezy should get a job, but admits his ex-wife lives off his alimony check without working. She then asks to use his shower, starts to undress in front of him, but he leaves her to take her shower alone. She comes out to talk him wearing only a towel. He says she should try her games on someone else. She leaves with her guitar, saying I've never woke in the morning with someone I was sorry I was there, but I bet you have. Frank spends the next day at work thinking about Breezy. He then has dinner with Betty and her new fiancee, but tries to discourage him buying the house he and Betty looked at before. Betty asks to leave in frustration. Breezy shows up at his home in the middle of the night, claiming to be his neice. He takes her in, gives her an apple to eat, then relents to take her to see the ocean for the first time. He starts to feel an attraction toward her. He carries her asleep back to his house, removing only her boots to sleep. She admits that she loves him, but he asks if she would like to be loved back. She says she thought she was. Frank is sad that Breezy is gone in the morning. Breezy spends time with friends at a coffee shop while Frank plays golf with his friend Bob. Bob tells him his wife doesn't excite him anymore, but he is afraid to be alone. Frank drives home and Breezy is waiting for him. He says he must bring papers over for Betty and her new husband's new home before they leave on their honeymoon. He admits he was sad she left last night without saying goodbye and wouldn't mind if she waited for him at his home to come back. He says 10:00, but comes back much later after saying goodbye to Betty. Breezy is still waiting for him and asks him to make love to her. Frank tells Breezy they are spending the day together and it's a surprise what they are doing. Breezy says her parents died when she was young in Pennsylvania, and she came to California alone to start a new life. Frank takes her to see the dog from the side of the road who has made a full recovery. Breezy admits she will love Frank until the day she dies. Frank buys her new clothes, plays with the dog, always being reminded how much older he is then Breezy. When they go for dinner, they run into his ex-wife who makes him glad she's out of his life. Frank admits he has feelings for her when they spend the day at the ocean. Frank runs into he friend Bob and his wife at the movies. He feels self consious about being with such a young woman around his friend. Frank feels good about his life, but Bob makes him feel bad again about dating such a young woman when they see each other again at the gym. Frank watches Breezy with her young friends and feels distant from her. He starts to pull away from her when she makes dinner for them. The relationship breaks when he says he can't cope with the pressure of their large age difference. Breezy says he should keep the dog because she can't afford to take care of it, but don't teach the dog to roll over and play dead, alluding to her image of Frank's own life. After Frank starts to feel his lonliness, and learns Betty was in a car accident that killed her new husband, he seeks out Breezy again. He says that the relationship will only last a year, but Breezy reminds him a year is a long time and life is meant to be lived.\n",
            "Recommended film has ID 2692\n",
            "Its categories are ['\"Drama\",  \"World cinema\"']\n",
            "Its summary is: In the world of Armaan  and his girlfriend Gehna , life is truly beautiful, yet it's like walking on a tightrope. For Armaan, a debonair fashion photographer who is a charmer to the core and loved by all around him, life only gets better when he dates Gehna, a high-profile fashion magazine editor. Life is picture perfect &mdash; a doting girlfriend and a job where his expertise makes him the most-wanted photographer in the London fashion world! Armaan has learnt that his chronic insomnia is, however, not a function of any sleeping disorder. The truth is that he hears voices; voices that torture him; voices that are disturbing him. More importantly, voices that nobody else can hear! Life is less than picture perfect now! While his friends sympathize with his problems, his girlfriend Gehna is irritated with his weird behavior. Add to that her father Sinha  constantly berates him for his fondness for the bottle. No one seems to understand his predicament. What puzzles them is that he talks to himself… or, rather, he talks to people who no one can see simply because they don't live. Soon, Armaan becomes aware of his special ability to connect with the souls that haven't crossed over. Equipped with a will to fulfill the wishes of these spirits who hound him, Armaan sets out on a mission to help out two souls &mdash; an old man, Mr. Virender Kapoor , and a young woman, Carol . In this ensuing journey, Armaan discovers the lives of his two special companions and ends up frustrating Gehna. Yet, Armaan is on a journey where he discovers a lot about his own self and his own life. After he fulfils Kapoor's wish, he goes to find Carol's son Danny. He realizes that he is Danny but, when he tries to explain this to Gehna, she gets fed up and leaves him. She is then involved in a car crash and sadly dies. When Armaan finds out, he sees her as a ghost, and once he pleads to God, Gehna comes back to life. The two then get married and, straight after the marriage, Armaan's problem of seeing/hearing ghosts is freed.\n",
            "Recommended film has ID 2361\n",
            "Its categories are ['\"Thriller\",  \"Action\",  \"Drama\"']\n",
            "Its summary is: The movie begins with the opera Orpheus in the Underworld, introducing Dominik Santorski and his parent's life. His parents, Andrzej and Beata, are a minister and an ad executive, respectively. Dominik has a charmed life. He is popular at his private school, an orange belt in judo, and has a personal driver. He has been spoiled by the perks his parents give him. He demands strangers refer to him as 'sir' and constantly tells people to turn off their radios, whether he knows them or not, because he doesn't like techno. While at school, his friends stumble upon a self-harm video while using his computer. While picking up a jacket from his mother's office, he is accidentally locked in a hallway. He watches the rest of the self-harm video, and leaves comments for the poster. Later at prom, the parents show how removed they are from Dominik's life when the headmaster makes an appearance and they had no clue who he was. After the parents leave prom, the students begin their after party. While drinking, a girl admits to lesbian experimentation. She agrees to demonstrate for her friends, to their amusement. Dominik is then asked to kiss a boy, for the group's continued amusement. He agrees and makes out with one of his friends. They begin making out, as the joke wears on too long. A video of the kiss is posted to social media sites shortly after. Dominik's friends tease him about the make-up in the following days. He's plays along, returning his male friend's 'pretend' longing gaze. Dominik and his friend then go to judo practice. Dominik is quickly pinned beneath his friend, but does not try to escape. Being beneath his friend excites him to the point of ejaculation. The story quickly ends up on a Facebook-like site. This angers Dominik and he's invited to come speak on a 3D social network. He meets Sylwia , a suicidal girl who cuts and wears a mask, in 'Sala Samobójców' or The Suicide Room. Sylwia and Dominik share laughs and conversations that link them together, for better and worse. Dominik begins skipping school to spend more time with Sylwia. Dominik returns to The Suicide Room to meet Sylwia again only to be met by Sylwia's followers. Dominik challenges Jasper, the first follower to confront him, to a duel in F.E.A.R. 2: Project Origin. Dominik spends most of the fight running, but manages to win by using a rocket launcher at point-blank range as Jasper enters a room, despite the blast killing himself as well. Defeating Jasper earns the respect of the rest of Sylwia's followers, but Jasper acts out and is banished from the group. In The Suicide Room, the group watches films of people killing themselves. When Dominik is logging off, he says he has to go. Sylwia says he is like the ocean, and explains that they can't make him do anything. Dominik and his family go to see another opera, where they try to pair him with another family's daughter. Dominik acts out and says that he's gay and begins to make out with one of the male busts in the lobby. His parents, embarrassed by Dominik's outburst, are angry with him and force him to go back to school. He returns home and sees a video about the kissing incident, showing shadow puppets named after the two boys engage in various homosexual acts. The video drives Dominik to tears and causes him to rampage through his room. Sylwia mocks him for being upset. When he continues to cry, she calls him different. Because he is different, Sylwia encourages him to scare the normal people. Dominik changes his style, adopting the hair styles and clothing of the emo subculture, and takes his father's gun to school. When his judo partner approaches him with some friends after school, Dominik panics and runs to the safety of a taxi. When recounting the incident to Sylwia, he claims that he had scared his friend, and was in total control of the situation. She believes his lie, and is impressed with him. They return to The Suicide Room and Dominik finds out that Sylwia is a shut-in and hadn't left her room in 3 years. Dominik stays locked in his room for 10 days talking with her and refusing to eat. His parents, who often spend days out of the house on business, don't notice. Eventually, their housekeeper calls the police, who they break in to find Dominik sitting in a pool of his blood beside a broken mirror. He is sent to a hospital and kept in a psychiatric ward for 3 days. His parents, having finally returned home and found him missing, arrive to take him home. They claim he shouldn't be wasting time at the hospital when his final exams are so close. The doctor refuses to release him to their protective custody because Dominik refuses to talk to them, and they were obviously unaware he had quit going to school ten days ago. Eventually, Dominik agrees to go home. When he returns to The Suicide Room, he hears the group discussing their plans for suicide, but they refuse to discuss it with him. Upon hearing that his parents are trying to get him to speak with a psychologist, Sylwia opens up to him. She tells him a love story that ends with the lovers killing themselves with pills and alcohol. After telling Dominik that this is how she wants to die, she begs him to get pills for her from the doctor. Their talk is interrupted when footprints begin appearing in the sand. After a short fight, the invisible spy is revealed to be Jasper. Jasper admits to hacking The Suicide Room, and having learned the truth about many of the members. He gives examples of how their avatars in the game hide their personal shortcomings, such as a thin girl really being very fat, or the large Minotaur being a man in a wheelchair. Dominik kills him after he calls Sylwia a whore. Dominik's parents write Dominik a letter, at the doctor's behest. He reads it to Sylwia, who finds it hilarious. Dominik rips the letter up. His parents decide that the doctor's methods won't cure Dominik before his final exams, so they demand the name of one that with simply give him drugs. When the new doctor arrives and interviews Dominik, Sylwia feeds him answers that will lead the doctor to give him the right pills. He follows the lines Sylwia gives him, but continually remarks about how no one should want to die, in a plea to make her reconsider her suicide. As Dominik and Sylwia discuss where to meet and transfer the pills, she tells him that failure to show up would mean he could never talk to her again. Before the plans are set, Dominik's father rips out the router. Dominik panics, bouncing from threatening to kill his parents to begging his 'Mummy' to help her son. His mother attempts to plug the cords back in, but his father stops her physically. Dominik bursts from his room and collapses. Later, explains to his parents what The Suicide Room is. He tells them that the members are his new family, and is banned from returning, even to explain that he can't come back. Still wanting to see Sylwia, he takes the pills to the bar they had discussed. The bartender forces him to order something, which leads to Dominik drinking a large beer. He heads to the bathroom, and decides to dump the pills. After throwing a few handfuls into the toilet, Dominik takes one of the pills. Two handfuls of the medicine follow, and he quickly starts feeling ill. Dominik finds a couple making out, and starts filming them. They take the camera and begin filming Dominik's delirium. He mocks his father and himself, laughing at his own drunken imitations. He returns to the bar and sees Sylwia - this is an illusion from the pills Dominik has taken. He imagines they walk out onto the dance floor and kiss. Later at The Suicide Room Sylwia is talking to her followers and asks if he's ever been gone for so long before. They talk as Sylwia stays by herself. They see Dominik walk up and go to meet him, but it is his mother using his account. She thanks them for being there for him and supporting him, but announces that he was dead. While she talks, all of The Suicide Room's members log out. Sylwia rips the internet chord out from the wall and stumbles through her room, knocking over piles of garbage. She opens her door and goes outside for the first time in three years, bawling and screaming in the grass out front. The movie ends with Dominik's parents at a ballet, though divorced and sitting in different places. The drunk couple's footage of Dominik is interspersed with the ballet. It is revealed that, instead of returning to the bar, Dominik was screaming for his parents in the bathroom of the bar as he died from overdosing. The video ends up on The Suicide Room wall.\n",
            "Recommended film has ID 4843\n",
            "Its categories are ['\"Romantic drama\",  \"Romance Film\",  \"Drama\",  \"World cinema\"']\n",
            "Its summary is: Carmen and Antonio are a young couple in love, planning their upcoming wedding. Carmen works in an orange processing factory and Antonio is a long-distance truck driver for the same firm. While driving his truck on a stormy day, Antonio comes across an old picture of a group of people, among whom is Carmen looking friendly with a good-looking young man, who has his arm around her shoulder. When Antonio asks his girlfriend who was the man in the picture, Carmen quickly dismisses Antonio's doubts. The man in the shot was nobody important, she reassures him. In any case, the photograph was taken long before she met Antonio. Unhappy with that answer and feeling that his fiance is hiding something from him, Antonio looks for the truth elsewhere. He questions Luis, his best friend who introduced him to Carmen. Luis, a fellow truck driver, advises him to forget the man and the picture and instead thank his luck to be on the eve of marrying the best-looking girl in town who happens to love him. Unconvinced, Antonio visits Carmen's best friend, Cinta, a salesgirl in a shoe shop. She tells him that the guy was José—someone she, not Carmen, bedded. But Antonio is still suspicious. Knowing that Cinta is a big flirt now in a relationship with her boss after dumping Luis, Antonio does not really believe her. Consumed by increasing jealousy Antonio explodes and violently confronts Carmen who breaks up their engagement the same day she was trying out her wedding gown. Remorful of his actions, thinking that he went way too far, Antonio recruits the help of Luis and Cinta to ask Carmen to forgive him. Carmen still loves Antonio and they get back together. Though eaten up with jealousy, Antonio goes ahead and marries Carmen, who tries to distract him with passionate sex and promises that she wants only to be a perfect wife and get pregnant. The couple happily settle into their new home. However, once he is back on the road with his truck, Antonio plods ahead with his investigation into José's identity. From then on, he would not stop until he finds who is the man in the photograph and what was his relationship with Carmen. Antonio wants to know the truth that he feels everybody is hiding from him. Some fellow truck drivers have known José, and they lead Antonio to the small town of Montero. Apparently José has died recently in an accident. At peace knowing that his rival is dead, Antonio gives the news to Carmen, but she tells him that José is still alive. Cinta has received a letter from José. Shortly after, Cinta, who has broken her relationship with her boss to go back with Luis, is nowhere to be found. From a prostitute in bar where José used to work Antonio learns that José is a good-for-nothing who lives by deceiving women. Tired of hiding the truth, Carmen makes a painful confession. She was madly in love with José who took advantage of her even to the point of prostituting her for a time. She was rescued by her family. She had a child fathered by José, but the kid disappeared mysteriously, probably killed by José. When Antonio finally learns that José is in Oviedo he goes there to find him. Carmen drops everything and joins Antonio in the search. They take a rifle with them. They arrive in the middle of a rain storm. They spot José with Cinta hiding from the rain under an umbrella. When Carmen points at them Antonio aims his rifle at his rival, but ultimately is hesitant to shoot. Carmen, more resolute, takes the rifle from Antonio’s hand and shoots repeatedly at the couple under the umbrella. José and Cinta fall dead while the heavy rain keeps falling.\n",
            "Recommended film has ID 3723\n",
            "Its categories are ['\"Romantic comedy\",  \"World cinema\",  \"Musical\",  \"Drama\",  \"Comedy\",  \"Tollywood\",  \"Romantic drama\",  \"Romance Film\"']\n",
            "Its summary is: Geetanjali a.k.a. Geeta  goes to Kanyakumari on a trip. She finds a poem in a diary left on a beach and signs in it. Her anklet falls into the ocean and a guy jumps into the water in front of her eyes but no one sees him resurfacing. However, Geeta did not see who jumped in the ocean. She dreams about the incident frequently with the idea that the guy who jumped has died but her friends ask her to forget it. Ajay  is a spoiled brat, and is the son of local MP Avataram . He likes to flirt with beautiful girls and wants them to be his girlfriends. One day he sees Geeta and proposes to her. When she refuses, he threatens to jump from the top of college building. Being a weak-minded girl, Geeta accepts the proposal with the thought that as some guy has already died for her and she doesn't want someone to get hurt because of her and starts dating him. Arya  is a happy-go-lucky guy who enjoys his life with friends and kids. On his first day to the college, he sees Geeta who was just confessing her love to Ajay who was at the top of the college building, threatening her. Charmed by her beauty, Arya falls in love with her and proposes to her. She actually rejects his proposal saying that she is already committed to Ajay. One day Avataram arranges a party in his house and it so turns out that Ajay introduces Geeta to his father and persuades him to fix their marriage. Ajay's father, who initially pretended to accept his son's marriage with Geeta, turns tables upside down by introducing another girl Lalasa and announces that his son is going to marry Lalasa. He threatens his son not to marry anyone except Lalasa. Being embarrassed by the situation and helpless, Ajay sits down and starts to get frustrated. Arya, who loves Geeta so much that he never hesitated to help her, decides to bring Ajay to Geeta and helps them elope. On their way, they are followed by Avataram's henchmen. The three youngsters find a train and get into it. When they get down from the train in the night, they are shocked to see the leader of Avataram's henchmen who forces Geeta to come with him, defying his boss' order. On the other hand Ajay remains helpless, while Arya bravely fights all the men and finally defeats them, rescuing Ajay and Geeta. They walk on to the nearby town, Arya's hometown. Being tired, the three go to bed. The next morning they wake up and realize that Ajay is missing. Arya tries to convince Geeta that Ajay left to win over his father. This leaves private time for Arya and Geeta and they grow close to each other. Geetha starts liking Arya. But when she tries to reveal it to him, Ajay and his father return. Avataram agrees to get Ajay married to Geeta. On the day of wedding, Geeta finds out that Arya was the guy who dove into the sea for her anklet and realizes that he came into her life much before Ajay. She realizes that while Ajay blackmailed her into loving him, Arya just wanted to see her happy. Geeta also realizes that Arya truly loves her, while Ajay was just acting on his impulse of wanting what he couldn't have. She leaves the wedding hall in tears and confesses her love to Arya.\n",
            "Recommended film has ID 3232\n",
            "Its categories are ['\"Romance Film\"']\n",
            "Its summary is: This is a story of a boy and girl who meet for the first time in an airport and fall in love before they board their flights. Dhruv is the boy and Harika is the girl. They are distinctive individuals. Dhruv is a kind of boy who loves to take chances in life. Harika is one who likes to make right choices in life. She is doing Masters in Lifestyles Design Academy in Malaysia. Right now she is on her way to India to meet a prospective groom whom her parents have chosen for her. Dhruv falls in love at first sight with Harika when he sees her at the airport. But he has only two hours to make her fall in love with him. The rest of the story is about how he succeeds.\n",
            "Recommended film has ID 4077\n",
            "Its categories are ['\"Sci-Fi Horror\",  \"Science Fiction\",  \"Horror\",  \"Suspense\",  \"Psychological thriller\"']\n",
            "Its summary is:  The film starts with a driver  and his passenger  driving very late at night, singing along to Creedence Clearwater Revival's cover of \"Midnight Special\" on a cassette, and the song ends when the tape breaks. The driver talks about a scary game he finds amusing: he switches off the car's headlights and drives in the dark. After the passenger admits he's uncomfortable, the driver laughs it off and keeps the lights on. With no tape or radio, the pair start a Name That Tune game with television theme songs such as Sea Hunt and Hawaii Five-O, and eventually the classic theme to The Twilight Zone. The conversation turns to what episodes of the series they found most scary, such as Burgess Meredith in \"Time Enough at Last\" and other classics. The passenger then asks the driver, \"Do you want to see something really scary?\" The driver obliges and reluctantly pulls over. The passenger turns his face away, then turns back around having transformed into a demon, and attacks the driver. The scene then cuts to outside the car as the familiar Twilight Zone opening theme music and monologue begin, spoken by narrator Burgess Meredith.    The film's only original segment was the first, directed by John Landis. It is loosely based on the original Twilight Zone episode \"A Quality of Mercy\", with the opening narration borrowing from \"What You Need\" and \"A Nice Place to Visit\". Bill Connor  is an outspoken bigot who is bitter after being passed over for a promotion. Drinking in a bar after work with his friends, Bill makes prejudiced remarks and racial slurs towards Jews, Blacks and Asians, attracting the attention of a group of black men sitting near them who strongly resent his racist comments. Bill leaves the bar very angry, but when he walks outside, the supernatural tone begins. He inexplicably proceeds to assume the racial ethnicities of people against whom he was always prejudiced. First, he finds himself in occupied France during World War II. He is spotted by a pair of SS officers patrolling the streets, who see him as a Jewish man. A chase ensues around the city, and Bill is shot in his arm by one of the German officers. Bill falls from the ledge of a building and abruptly finds himself in the rural South during the 1940s. There a group of Ku Klux Klansmen  sees him as an African American whom they are about to whip and lynch. Bill is scared and confused; he vehemently tells them he is white. While trying to escape the Klansmen, he suddenly finds himself in a jungle during the Vietnam War, as a Vietnamese man is blown to bits by U.S. soldiers. Instead of killing him, the grenade thrown by the soldiers blasts Bill into occupied France again. There he is captured by Nazi soldiers and put into an enclosed railroad freight car, along with other Jewish Holocaust prisoners. With no apparent possibility of redemption or rescue, Bill sees and uselessly screams for help to his friends from the bar, who have come out to the parking lot and cannot hear his cries, nor see him or the train as it pulls away to a death camp, thus leaving them to wonder about his whereabouts and the viewer to wonder of his fate.   The second segment was directed by Steven Spielberg and is a remake of the episode \"Kick the Can.\" An old man named Mr. Bloom  has just moved into Sunnyvale Retirement Home. Upon his arrival, he sits around kindly and smiles as he listens to the other elders reminisce about the joys they experienced in their youth. Mr. Bloom implies to them just because they are old does not mean they cannot enjoy life anymore, and that feeling young and active has to do with your attitude, not your age. He tells them that later that night, he will wake them and that they can join him in a game of kick the can. All agree; however, Leo Conroy  disagrees, saying that now that they are all old they cannot engage in physical activity and play the games they once did as children. That night, Mr. Bloom gathers the rest of the optimistic residents outside and plays the game, during which they are transformed into childhood versions of themselves. Although they are extremely ecstatic to be young again and engage in the activities they once enjoyed so long ago, they also realize that being young again means you not only experience the good aspects of life again but also the bad. They request to be old again, which Mr. Bloom grants to them. Leo Conroy witnesses one resident, Mr. Agee  that still remains young, and says that he wants to go with him before the boy runs off. Conroy realizes that he does not have to stop enjoying life because of his old age. The segment ends with Mr. Bloom leaving to another retirement home, and Conroy outside happily kicking a can around the yard, having learned being young at heart is what really matters.   The third segment, a remake of the episode \"It's a Good Life,\" was directed by Joe Dante. Its opening narration is borrowed, in part, from \"Night Call.\" Mild-mannered Helen Foley , traveling to a new job, visits a rural bar for directions. While talking to the owner , she witnesses Anthony, a young boy  playing an arcade game, who is being blamed by a pair of locals  for \"accidentally\" causing interference on the TV by slapping the side of the game machine. When one of the men pushes Anthony away from the game and pulls the plug, Helen comes to the boy's defense, but Anthony runs out of the restaurant. As Helen leaves, she backs into the boy with her car in the parking lot, damaging his bicycle. Helen offers Anthony a ride home. They eventually arrive at Anthony's house, which is an immense home in the country. When Helen arrives, she meets Anthony's family: Uncle Walt ([[Kevin McCarthy ; sister Ethel ; and Anthony and Ethel's mother (Patricia Barry, who starred in \"I Dream of Genie\" and \"[[The Chaser  and father . Anthony's family seems overly welcoming, but Helen at first dismisses this. Anthony starts to show Helen around the house ; there is a television set in every room showing cartoons. She loses Anthony and comes to the room of another sister, Sara . Helen calls out to the girl, who is in a wheelchair and watching a television displaying cartoons, and gets no response. Anthony appears and explains that Sara had been in an accident; Helen isn't able to see that the girl has no mouth. After the tour, Anthony announces that it is time for dinner, which consists of Anthony's favorite foods: including ice cream, candy apples, and hamburgers topped with peanut butter. Confused at first at how the family eats, Helen thinks that this is a birthday dinner for Anthony. Ethel complains at the prospect of another birthday; Anthony glares at her, and her plate flies out of her hands onto the ground. Helen hurredly attempts to leave, but Anthony urges Helen to stay and see Uncle Walt's \"hat trick\". Helen is stunned to see that a top hat has suddenly appeared on top of the television set. Uncle Walt is very nervous about what could be in the hat, but he pulls an ordinary rabbit out of it. The family members are relieved, but Anthony insists on more, and a large, cartoonish rabbit springs from the hat. Helen screams, and Anthony orders it to go away. As she attempts to flee, she falls and spills the contents of her purse, and Anthony finds a note slipped in from one of the Fremonts stating \"Help us! Anthony is a monster!\" When the family points the finger at Ethel, Anthony wills her into the television set; there she is eaten by a large, dragon-like cartoon character. Helen attempts to escape only to have the door open up to a human eye. She closes it quickly only to see Anthony at the top of the stairs pleading her to stay. She then is led back into the room to see Anthony have a demonic cartoon that continuously contorted into various grotesque. After Helen demands the creature to disappear, in a fit of irritation, Anthony makes the entire house disappear instantly, and his family with it, leaving himself and Helen literally nowhere. Anthony explains that, since they were not happy living with him anymore, he sent them all back where they came from, including both his sisters. Now, at last, Anthony realizes the horrific loneliness that comes with being omnipotent. For once, he expresses the tremendous insecurity and pain that seethes within him instead of burying it. Helen offers to be his teacher and the two ride in her car as the nowhere landscape changes to a sunny field. Helen asks to be Anthony's teacher, and also his student; together, she says, they can find uses for his power that even he never dreamed of. Having been confronted with the true end results of his reign of terror, Anthony welcomes Helen's offer and makes her car reappear. Both ride off toward her new home and job, surrounded by bright meadows filled with flowers.   The fourth segment is a remake of the episode \"Nightmare at 20,000 Feet\", directed by George Miller. Nervous airline passenger Mr. John Valentine  is in an airplane lavatory as he tries to recover from what seems to be a panic attack. The flight attendants attempt to coax Mr. Valentine from the lavatory, and they repeatedly assure him that everything is going to be all right, but his nerves and antics disturb the surrounding passengers. As Mr. Valentine takes his seat, he notices a hideous gremlin on the wing of the plane and begins to spiral into another severe panic. He watches as the creature wreaks havoc on the wing, damaging the plane's engine, losing more control each time he sees it do something new. Valentine finally snaps, grabs a hand gun from another passenger, an air marshal, shoots out the window , and begins firing at the creature. This only serves to catch the attention of the gremlin, who rushes up to Valentine and promptly destroys the gun. After a tense moment, in which they notice that the plane is landing, the gremlin grabs Valentine's face, then simply scolds him by wagging its finger in his face. The creature leaps into the sky as the airplane begins its emergency landing. On the ground, as a straitjacketed Valentine is carried off in an ambulance, the police, crew and passengers begin to discuss the incident, writing off Valentine as insane. However, the aircraft maintenance crew soon arrives, and everyone gathers to examine the unexplained damage to the plane's engines, complete with claw marks.  The fourth segment ends with a scene reminiscent of the prologue. Valentine is in an ambulance when the driver  starts playing Creedence Clearwater Revival's \"Midnight Special\". The driver turns and says, \"Heard you had a big scare up there, huh? Wanna see something really scary?\" The scene fades out to a starry night sky accompanied by Rod Serling's opening monologue from the first season of The Twilight Zone: \n"
          ]
        }
      ],
      "source": [
        "id = 3605\n",
        "films = content_recommender(id, 8, tfw2v)\n",
        "print(\"Film to find recommendations has ID {}\".format(id))\n",
        "print(\"Its categories are {}\".format(categories[id]))\n",
        "print(\"Its summary is: {}\".format(summaries[id][0]))\n",
        "for film in films:\n",
        "  print(\"Recommended film has ID {}\".format(film))\n",
        "  print(\"Its categories are {}\".format(categories[film]))\n",
        "  print(\"Its summary is: {}\".format(summaries[film][0]))"
      ]
    },
    {
      "cell_type": "code",
      "execution_count": null,
      "metadata": {
        "colab": {
          "base_uri": "https://localhost:8080/"
        },
        "id": "1FC_Kj4_ymge",
        "outputId": "f4df68fe-9138-4823-c44c-6951410c6b86"
      },
      "outputs": [
        {
          "name": "stdout",
          "output_type": "stream",
          "text": [
            "Film to find recommendations has ID 2070\n",
            "Its categories are ['\"Musical\",  \"Black-and-white\"']\n",
            "Its summary is: John \"Lucky\" Garnett  is a gambler and dancer. He is set to marry Margaret , but his friends hold him up so that he is late to the wedding. Margaret's father phones to call off the wedding, but Lucky doesn't get that message. His friends bet him that he won't be getting married and he agrees to the bet. Margaret's father tells Lucky that he must earn $25,000 in order to demonstrate his good intentions. He and his friend \"Pop\" Cardetti  try to buy train tickets, but his friends take his money - because he lost the bet. So they hitch the first freight train to New York. Broke, they wander around the city. Lucky meets Penny , a dance school instructor, when he asks for change for a quarter. It's his lucky quarter and Pop feels bad that Lucky lost it. They attempt to get it back, but Penny is in no mood to deal with them. When she drops her things, Pop sneaks the quarter out of her purse, and she thinks Lucky did it. They follow Penny to her work. In order to apologize, he needs to take a lesson from her. She's still furious at him. After a disastrous lesson, Penny tells him to \"save his money\" since he will never learn to dance. Her boss, Mr. Gordon , overhears her comment and fires her. Lucky dances with Penny to \"prove\" how much she's taught him. Not only does he give Penny her job back, Mr. Gordon sets up an audition with the owner of a local venue. They check into the same hotel where Penny is staying. Lucky does not have a tuxedo to wear to the audition. He tries to get a tuxedo off a drunk man, but he ends up loses his own clothes instead. They miss the audition and Penny gets mad at Lucky all over again. Lucky arranges another audition. He and Pop picket in front of Penny's door until she gives in and forgives him. But they cannot audition because the club has lost their band leader, Ricardo Romero , to a casino. They go to Club Raymond where Lucky gambles to win enough to get Ricky back. Meanwhile, Ricky declares his feelings for Penny. Lucky is about to win enough to marry Margaret, but his takes his last bet off in time... proving he is no longer interested in her, but in Penny, instead. The club owner bets him double or nothing and they gamble for Ricky's contract. Pop cheats and Lucky wins the contract. Lucky and Penny dance at the club. They are dancing together all the time, but Lucky does not trust himself around Penny because he feels guilty about not telling her about Margaret. He's avoiding her, which Penny notices, so she and her friend Mabel Anderson  conspire to get Lucky and Pop out to the country. Pop lets slip the information about Lucky and Margaret. Despite her best efforts, the two begin a romance, even as Ricky continues to woo Penny. When Margaret shows up, Lucky tries to avoid her, but, too late, Penny finds out. She agrees to marry Ricky. Margaret calls off her engagement to Lucky before he can. Lucky successfully stops Penny's wedding. And the two end up together, much to everyone's delight.\n",
            "Recommended film has ID 886\n",
            "Its categories are ['\"Dance\",  \"Indie\",  \"Period piece\",  \"Musical\",  \"Coming of age\",  \"Drama\",  \"Romantic drama\",  \"Romance Film\",  \"Musical Drama\",  \"Teen\"']\n",
            "Its summary is: In the summer of 1963, 17-year-old New Yorker Frances \"Baby\" Houseman  is vacationing with her affluent family at Kellerman's, a resort in the Catskill Mountains. Baby is planning to attend Mount Holyoke College to study the economics of underdeveloped countries and then enter the Peace Corps. She was named after Frances Perkins, the first woman in the U.S. Cabinet. Her father, Dr. Jake Houseman , is the personal physician of Max Kellerman , the resort's owner. Baby develops a crush on the resort's dance instructor Johnny Castle , leader of the working-class entertainment staff. While carrying a watermelon for Billy , Baby is invited to one of the staff's secret after-hours parties and observes the \"dirty dancing\" (i.e., the [[Mambo  for the first time. She is intrigued by the sexy dancing, and receives a brief, impromptu lesson from Johnny. Later, Baby discovers that Johnny's dance partner, Penny Johnson , is pregnant by Robbie Gould , a womanizing waiter who dates  Baby's sister Lisa. Baby learns that Robbie plans to do nothing about the pregnancy , so Baby secures the money from her father to pay for Penny's illegal abortion. Jake agrees to give the money to Baby despite her secrecy regarding what it will be used for, because of the trust Jake has always held in her. In her efforts to help, Baby also becomes Penny's substitute dancer for an important performance at the Sheldrake, a nearby resort where Johnny and Penny perform annually. The upcoming show requires Johnny to train Baby to learn the required routine. As Johnny teaches Baby to dance, tempers flare and a romance begins to develop. Their performance at the Sheldrake goes reasonably well, though Baby is too nervous to accomplish the dance's climactic lift. When they return to Kellerman's, they learn that Penny's backstreet abortion was botched, leaving her in agonizing pain. Baby brings her father to help, but he misinterprets Johnny's answer to a question he asked while treating Penny, and thus believes it is Johnny who impregnated her. For that reason, after Jake saves Penny's life, he forbids Baby to have anything to do with Johnny or his friends. Jake is furious at Baby for lying to him and betraying his trust. Baby, however, defies him and sneaks out to visit Johnny in his room that same night, where they consummate their blossoming romance with some intimate dancing. [[Image:Dirty-dancing-coverx-large.jpg|left|thumb|An iconic scene from the dancing finale<ref nameVernon, Polly|urlHey Baby&nbsp;– we're all Swayze now|dateThe Guardian|accessdateLondon}}Johnny: \"Nobody puts Baby in a corner. Sorry about the disruption, folks, but I always do the last dance of the season. This year somebody told me not to. So I'm gonna do my kind of dancin' with a great partner, who's not only a terrific dancer, but somebody who taught me that there are people willing to stand up for other people no matter what it costs them. Somebody who taught me about the kind of person I want to be: Miss Frances Houseman.\" At the final talent show of the season, Jake gives Robbie a check to help defray the costs of medical school. Robbie then willingly confesses to getting Penny pregnant and insults her in the process, leading Jake to angrily snatch the envelope back. Also, to everyone's surprise, although Johnny's been fired and left the premises, he returns to the resort to perform the final dance of the season with Baby. Criticizing the Housemans for their choice of Baby's seat at the table, Johnny declares the now-famous line, \"Nobody puts Baby in a corner,\" as he pulls her up from their table. He leads her onstage, interrupting the show which is already in progress. After Johnny makes a brief speech about how \"Frances\" has made him a better man, he and Baby dazzle the audience with a stunning dance performance to the song \"The Time of My Life\", which ends with Baby doing the lift successfully for the first time. After the dance, Jake apologizes to Johnny and admits that he was wrong to assume Johnny had gotten Penny \"in trouble\". Jake also praises Baby for her dancing. The film ends as the dance sequence continues and the room is transformed into a nightclub, where everyone  dances together.\n",
            "Recommended film has ID 27\n",
            "Its categories are ['\"Fantasy\",  \"Family Film\",  \"Drama\",  \"Adventure\"']\n",
            "Its summary is: In the small Irish town of Rathcullen, County Kerry, Darby O'Gill  is the aging caretaker of Lord Fitzpatrick's  estate, where he lives in the nearby gatehouse with his lovely, almost grown, daughter Katie . Darby spends most of his time in the town pub, regaling his friends with tales of his attempts to catch the leprechauns, in particular, their king, Brian Connors . Darby is past his prime as a laborer, so Lord Fitzpatrick decides to retire him on half-pay and give him and Katie another cottage to live in, rent-free, and give his job to a young Dubliner named Michael McBride . Darby begs Michael not to tell Katie that he is being replaced, to which Michael reluctantly agrees. That very night, Darby is captured by the leprechauns while chasing Cleopatra, his runaway horse , on top of the fairy mountain Knocknasheega. Darby learns that King Brian has brought him into the mountain so that Darby can avoid the shameful admission to Katie about losing his job. However, Darby tricks the leprechauns into embarking on a fox hunt by playing \"The Fox Chase\" for them on a beautiful Stradivarius violin, loaned to him by King Brian. The leprechauns mount their tiny white horses and leave through a large crack in the mountainside wall, from which Darby escapes. King Brian, angry for being made a fool of, comes to fetch Darby, and another battle of wits ensues over a jug of poitín. Darby traps King Brian by getting him so drunk that he does not notice the sunrise, which strips him of his powers until the next sunset. Trapped, Brian is forced to grant Darby three wishes before he can return home. Darby wisely makes his first wish be that King Brian not return to Knocknasheega, but to remain at his beck and call for a fortnight , giving him time to think of two other, equally wise wishes. King Brian is furious, but forced to comply. The wily leprechaun king manages to trick Darby into  wasting his second wish by appearing only as a rabbit in Darby's burlap sack, causing Darby unwittingly to say to Michael: \"I wish you could see him [the King]\". King Brian meets Darby halfway by appearing to both Michael and Katie in his true form in their dreams. Darby decides that he wants to use his third and last wish to ensure Katie's happiness. King Brian says to Darby that what Katie probably wants most of all is a \"good, steady lad with temperate ways\". Someone, in short, like Michael. After a rocky beginning, Katie and Michael begin to show signs of growing affection for each other. Katie believes Michael is merely seasonal help, as her father could not bring himself to break the news of his retirement . However, Michael has an arrogant rival in Pony Sugrue , the town bully with his eyes on both Katie and Michael's job. Katie, angered at finding out the truth about her father's retirement from Pony's unpleasantly meddlesome mother , injures herself in a fall on Knocknasheega while trying to catch Cleopatra at night. The banshee appears, heralding Katie's death and sending the cóiste-bodhar, a spectral coach driven by a dullahan, to carry her soul off to the land of the dead. Desperate, Darby elects to use his final wish to go in his daughter's place. King Brian is deeply saddened at Darby's wish, but grants it, but once Darby is on his way to the next world, King Brian reappears in the Death Coach and tricks Darby into making a final fourth wish . Because he is only allowed three wishes, this negates all the previous wishes and spares Darby's life. Darby is saved and King Brian has  the last laugh in their running battle of wits. Katie's fever has broken and she and Michael reveal their love for each other. Michael also fights Pony Sugrue at the pub; getting his just revenge for Pony's attempt to get him fired by clubbing him on the head and pouring whiskey all over him to make him appear drunken and incompetent. Michael soundly thrashes Pony and knocks him cold. Finally, Darby and Michael depart arm-in-arm, joining Katie outside in the wagon for a happy ending, with Michael and Katie singing a final duet together of \"Pretty Irish Girl\" .\n",
            "Recommended film has ID 4294\n",
            "Its categories are ['\"Thriller\",  \"Crime Fiction\",  \"Psychological thriller\",  \"Mystery\",  \"Drama\",  \"Crime Thriller\"']\n",
            "Its summary is: Margaret Ford  is a psychiatrist. She has published a book, Driven: Compulsion and Obsession in Everyday Life, which has made her financially well off. One day, she's in a session with Billy, a compulsive gambler who informs her that his life is in danger. He owes $25,000 to a criminal figure&nbsp;— money he doesn't have&nbsp;— and if he doesn't pay, he will be killed. Margaret visits a pool hall and bar called the House of Games and confronts the man Billy owes, Mike . After a brief conversation, Margaret sizes Mike up as a tough talker, but not a violent gangster. Mike reveals that Billy's debt is only eight hundred dollars and agrees to forgive the debt if Margaret accompanies him to a high-stakes poker game as his girlfriend, using her to help spot the tell of another gambler . Exhilarated at the chance to take part, Margaret even volunteers $6,000 of her own money to back up Mike's bet because she’s spotted the tell that Mike’s opponent is bluffing. Things go wrong. Not only does the player have a winning hand, he also brandishes a gun, demanding the $6,000 she promised as collateral. It is only when Margaret sees a drop of water fall from the pistol barrel that she realizes the whole setup is a con&nbsp;– designed strictly to take her money. Mike and his men see that the jig is up, and nonchalantly pack up the con. Mike apologizes, saying it was “only business ... nothing personal.” Back in her normal routine, Margaret continues to think about her night at the House of Games. She returns, proposing to Mike that she follow him around, learn the ins and outs of his world, perhaps write a book on the experience. Mike is skeptical but agrees. He shows her first-hand how a con game works. Her fascination grows. The pair end up going to a hotel room and making love. Mike mentions that he has a role in another con that night. Margaret begs to tag along. Mike, his associate Joey , and their mark  come upon a briefcase of money that someone seems to have accidentally left on the street before getting into a cab. The three men go to the mark's hotel room to keep an eye on each other and discuss what to do with the cash. Mike confides to Margaret that the $80,000 in cash is real, borrowed from the mob and due back the next day. The plan is to have the mark propose paying Mike and Joey a percentage in exchange for taking the briefcase, but then they will switch the case at the last minute. The mark does as planned, but Margaret sees and hears what no one else does: that he has a gun on his belt, and that he is planning with others over a two-way radio to arrest the trio. Margaret warns Mike and Joey that the mark is a cop and it's a trap, and she is desperate not to get caught herself. A scuffle develops and the cop/mark is killed when his gun discharges. Mike makes a run for it with Joey and Margaret. They steal a car and escape. But the briefcase is nowhere to be found: it's been left behind in the commotion. Mike blurts out that the mob will turn them all in for the cop's murder if they fail to return the mob's money. Margaret, who has now fallen for Mike and fears for his safety, as well as her own, offers to replace the $80,000. Overwhelmed by the experience, Margaret is visited by Billy, her patient, but is too distressed to have a session with him. By sheer chance, she spots Billy leaving her place and sees that his car is the very escape vehicle she was pressed into using during the hotel getaway. Margaret puts the pieces together. She spies on the con men—among whom is the \"dead\" cop/mark—and sees for herself that everything was a ruse to swindle her out of $80,000; making love to her, she overhears Mike say, was \"a small price to pay.\" Margaret has a gun . She has overheard when Mike is leaving town and lies in wait for him at the airport. At first she puts on an act, pleading to travel with him with the additional $250,000 she says she has brought. Mike coaxes her into a deserted dock of the airport where they can be alone. When she misspeaks, Mike realizes that Margaret knows the score. He tells her there's nothing she can do about it and turns to leave. Margaret pulls out her gun and demands that Mike beg her for his life. He refuses and she shoots him to death. Later, we see that Margaret has gone on with her life, a changed woman, now able to \"forgive herself,\" as her mentor had urged her to do. She shows no sign of guilt or remorse for murdering Mike. She steals a gold lighter out of the purse of another woman in a restaurant and relishes the acquisition.\n",
            "Recommended film has ID 2894\n",
            "Its categories are ['\"Romantic comedy\",  \"Buddy film\",  \"Comedy-drama\",  \"Coming of age\",  \"Comedy\",  \"Drama\",  \"Romantic drama\",  \"Romance Film\",  \"Teen\"']\n",
            "Its summary is: Roland  is getting married  and Slim , who scoffs at the idea of marriage, but is furious at Roland for disappearing. The story reminisces back to Mike's (portrayed as a youth by [[Sean Nelson  first encounters with Roland  and Slim , his first real crush on a girl named Alicia , and the three young men's misadventures as teenagers. Shy and awkward, Mike sticks out like a sore thumb on his first day, but is quickly befriended by Slim and Roland. On a dare from Slim and Roland, Mike runs and grabs Alicia's butt, leading to a big fight with her big brother Stacey , a violent gang member. While he is thoroughly beat down, Mike earns Stacey's private respect for fighting back like a man. Meanwhile in present day, Mike and Slim go find Roland for his wedding, when they get a call from Tanya  saying that she has him with her and that he is very drunk. They get to her house to pick him up to take him back to the wedding to marry his bride Lisa  because they only have two hours before the ceremony begins. Back to their old school times, they go to their first dance of the year, go to a store that gets held up by Stacey, who recognizes the boys and offers them a ride to the dance. The boys almost get arrested by two cops due to Stacey's broken taillight. Mike's quick thinking prevents one of the cops from finding Stacey's gun and they are let go. Impressed, Stacey begins a new friendship with Mike by apologizing for their prior run in but explained that he was protecting his sister, and, seeing how much Mike likes her, gives him advice on how to win her heart. When they get back to the dance it is almost over and Mike gets to dance with Alicia and at the end of the dance he gets her number. In the present day while reminiscing Roland gets sick, throws up all over Slim and Mike and now they only have an hour left before the wedding and they have to get cleaned up, then they take their clothes to the cleaners. Mike returning back to their memories, they were now juniors in high school, thinking about sex, ways to get it and making a lot of bets. Mike, now hiding his still present shyness with a veil of over confidence, reconnects romantically with Alicia. It's revealed in the present time that after High School, Alicia and Mike went their separate ways for good. The boys finally make it to the ceremony to have Roland apologize to a furious Lisa for leaving her worried before the wedding ceremony. Before the ceremony begins Mike sees Alicia  his childhood crush, and finally Roland and Lisa get married. Mike tells his last childhood memory, and its when they go to a homecoming dance for their school and that they will be the boys from \"The Wood\".\n",
            "Recommended film has ID 1655\n",
            "Its categories are ['\"Romance Film\",  \"Comedy film\"']\n",
            "Its summary is:  'No Game' Marcus is the Mayflower Bar’s only regular customer – and he doesn’t even drink. LaMont, Marcus’s best friend and the only employee of the bar, has everything in order but his music career, and Marcus has everything in order but his ability to speak to women – yet alone be in relationship with them. But in one wild day at the Mayflower – everything will change. We begin in the morning, the Mayflower opens to Marcus arriving to hang out with his best friend LaMont. After teasing Marcus about his failed dating past that includes “Crazy Peaches”, Breathalyzer Barbara”, “That Girl that Cried all the Time”, “Dominatrix Donna”, and “Victor” , the owner Chris and Lamont are challenged to a bet by “No Game” Marcus – that the next woman through the doors of the Mayflower he’ll go out with. Fortunately for him, it’s not Sasquatch – it’s the gorgeous Rhonda – who senses another lame pickup and diffuses it with a quick, crafty lie – she says she’s a prostitute and would gladly go out with him – for $1000. Happy with her avoidance tactic, Rhonda flutters away, but Marcus is hooked and gullible, undaunted by her fake profession. The loyal friends decide to support Marcus in getting his dream date – Chris promises the day’s take at the register if LaMont will get on stage, and soon, the reluctant LaMont agrees to help raise the $1000 for his friend. Added motivation coming after learning his girlfriend is pregnant. Rhonda soon begins to regret her falsity – Marcus’s genuine sweetness is settling in on her. Her stalker on-again-off-again boyfriend “overhears” her tell her friend this and isn’t very happy. Meanwhile, the boys are in promotion mode – which means they aren’t doing much at all – passing out fliers and harassing the town folk. LaMont’s girlfriend has painted the house a few times, demanded sexual acts, cuddling and cried – a lot – wearing him down and giving him less certainty about everything, particularly his music. Chris has sidetracked into his own campaign to invent a new drink – the “Mary Poppins” – and won’t rest until he discovers something strong enough to produce hallucinatory cartoon animals. Soon, Chris is smashed, LaMont is withdrawing into negativity about everything, and Marcus is losing whatever confidence he had. To make financial matters worse, the bar’s only customer is Aaron, a robber who discovers an empty register, sits down to lament over hard times with them all, and ends up spending $5 on a beer. Fortunately, Marcus gets his first concussion of the day when Chris sees a pink Unicorn and accidentally knocks Marcus out in excitement. He awakens on a rooftop in San Francisco, visited by a woman with an umbrella – not Mary Poppins, but San Francisco’s own Vagina Lady, who sets Marcus back on the right path by reminding him that if he wants the girl, he must “follow her vagina.” Marcus awakens back at the bar, reborn. He marches to the wax salon , finds Rhonda, and tells her to be at the Bar that night. She agrees, but as Marcus leaves, the stalker confronts him. Concussion #2. LaMont, meanwhile, takes a sip of the prototype “Mary Poppins” and is instantly transported to a dark room where he meet’s not Burt, but Dirt, the English chimney sweeper that won’t stop offering LaMont food. LaMont’s last adamant refusal is the same as his first – “I’m not hungry”, and Dirt’s mood grows instantly somber – “That’s your problem, you’re not hungry.” LaMont is suddenly back at the bar, drink still in hand. He too, is reborn, hungry and ready to Rock the Stage. Chris has done some good among his drunken quest – he called LaMont’s fans in Modesto, and they pack the bar. Cover alone clears the $1000. All that’s left is for LaMont to rock the house and for Marcus to confront Rhonda. LaMont delivers tremendously, and an undercover record producer that sees him wants to ink a deal. Marcus confronts the woman of his dreams, and when she finds out he still wanted to just go out with her despite thinking he was a prostitute - and that he would pay $1000 to do so, she is overwhelmed with joy. She won’t take the money, but she definitely takes the date – the first of many. The #2 concussion must have really connected because Marcus forgot about the stalker boyfriend. He came to the show to catch Rhonda in the act. After LaMont's performance he approaches the new couple. But before he can drag Rhonda off he's placed under citizen's arrest by John, the jobless rent-a-cop that everyone hates - until now. John 'drags' the stalker boyfriend off leaving Marcus overjoyed that he didn't have to rescue his damsel in distress.\n"
          ]
        }
      ],
      "source": [
        "id = 2070\n",
        "films = content_recommender(id, 5, tfw2v)\n",
        "print(\"Film to find recommendations has ID {}\".format(id))\n",
        "print(\"Its categories are {}\".format(categories[id]))\n",
        "print(\"Its summary is: {}\".format(summaries[id][0]))\n",
        "for film in films:\n",
        "  print(\"Recommended film has ID {}\".format(film))\n",
        "  print(\"Its categories are {}\".format(categories[film]))\n",
        "  print(\"Its summary is: {}\".format(summaries[film][0]))"
      ]
    },
    {
      "cell_type": "markdown",
      "metadata": {
        "id": "GlqU84O_y8AQ"
      },
      "source": [
        "Σε όλα τα παραδείγματα φαίνεται πως οι recommenders που αναπτύξαμε με βάση το Word2Vec δίνουν πολύ καλύτερες προτάσεις για τις ταινίες συγκριτικά με τον tfidf recommender. Τώρα συγκρίνοντας τους δυό Word2Vec recommenders που κατασκευάσαμε αν και η επίδοση και των δύο φαίνεται να είναι καλή, ο δεύτερος recommender που έχει για βάση το μοντέλο glove-twitter-25 δίνει καλύτερες προτάσεις αν κοιτάξουμε τα genres από τον άλλο, ενώ μάλιστα έχει το 1/4 των διαστάσεών του, πράγμα το οποίο μπορεί να είναι ωφέλιμο για μεγαλύτερα datasets, αφού και ο πίνακας των χαρακτηριστικών των ταινιών είναι κατά συνέπεια 4 φορές μεγαλύτερος για τον πρώτο recommender με το μοντέλο glove-wiki-gigaword-100. "
      ]
    },
    {
      "cell_type": "markdown",
      "metadata": {
        "id": "zHOQtO83PSy9"
      },
      "source": [
        "# Εφαρμογή 2.  Τοπολογική και σημασιολογική απεικόνιση της ταινιών με χρήση SOM\n",
        "<img src=\"https://i.imgur.com/Z4FdurD.jpg\" width=\"60%\">"
      ]
    },
    {
      "cell_type": "markdown",
      "metadata": {
        "id": "UB_clmizPSy-"
      },
      "source": [
        "## Δημιουργία dataset\n",
        "Στη δεύτερη εφαρμογή θα βασιστούμε στις τοπολογικές ιδιότητες των Self Organizing Maps (SOM) για να φτιάξουμε ενά χάρτη (grid) δύο διαστάσεων όπου θα απεικονίζονται όλες οι ταινίες της συλλογής της ομάδας με τρόπο χωρικά συνεκτικό ως προς το περιεχόμενο και κυρίως το είδος τους (ο παραπάνω χάρτης είναι ενδεικτικός, δεν αντιστοιχεί στο dataset μας). \n",
        "\n",
        "Διαλέξτε για την αναπαράσταση των documents αυτήν που πιστεύετε απέδωσε καλύτερα στο πρώτο σκέλος της άσκησης. Έστω ότι αυτή είναι η `my_best_corpus`.\n",
        "\n",
        "Η έτοιμη συνάρτηση `build_final_set` θα ενώσει την αναπαράσταση που θα της δώσετε ως όρισμα `mycorpus` με τις binarized κατηγορίες `catbins` των ταινιών ως επιπλέον κολόνες (χαρακτηριστικά). Συνεπώς, κάθε ταινία αναπαρίσταται στο Vector Space Model από τα χαρακτηριστικά της αναπαράστασης `mycorpus` και τις κατηγορίες της.\n",
        "\n",
        "Τέλος, η συνάρτηση δέχεται ένα ορισμα για το πόσες ταινίες να επιστρέψει, με default τιμή όλες τις ταινίες (5000). Αυτό είναι χρήσιμο για να μπορείτε αν θέλετε να φτιάχνετε μικρότερα σύνολα δεδομένων ώστε να εκπαιδεύεται ταχύτερα το SOM. \n",
        "\n",
        "Θα τρέχουμε τη συνάρτηση με `final_set = build_final_set(my_best_corpus)`."
      ]
    },
    {
      "cell_type": "code",
      "execution_count": null,
      "metadata": {
        "id": "U-FDDOkQPSzA"
      },
      "outputs": [],
      "source": [
        "def build_final_set(mycorpus, doc_limit = 5000, tf_idf_only=False):\n",
        "    # convert sparse tf_idf to dense tf_idf representation\n",
        "    dense_tf_idf = mycorpus.toarray()[0:doc_limit,:]\n",
        "    if tf_idf_only:\n",
        "        # use only tf_idf\n",
        "        final_set = dense_tf_idf\n",
        "    else:\n",
        "        # append the binary categories features horizontaly to the (dense) tf_idf features\n",
        "        final_set = np.hstack((dense_tf_idf, catbins[0:doc_limit,:]))\n",
        "    # η somoclu θέλει δεδομ΄ένα σε float32\n",
        "    return np.array(final_set, dtype=np.float32)"
      ]
    },
    {
      "cell_type": "markdown",
      "metadata": {
        "id": "KjvPPENS_dYL"
      },
      "source": [
        "Στο επόμενο κελί, τυπώνουμε τις διαστάσεις του τελικού dataset μας. **Χωρίς βελτιστοποίηση του TFIDF** θα έχουμε περίπου 50.000 χαρακτηριστικά και ο θα είναι ανέφικτο να προχωρήσουμε στην εκπαίδευση του SOM."
      ]
    },
    {
      "cell_type": "code",
      "execution_count": null,
      "metadata": {
        "colab": {
          "base_uri": "https://localhost:8080/"
        },
        "id": "fvEgNn-L-jEw",
        "outputId": "c24161cb-8c8c-42aa-f138-0123ffe7614f"
      },
      "outputs": [
        {
          "data": {
            "text/plain": [
              "(5000, 10322)"
            ]
          },
          "execution_count": 60,
          "metadata": {},
          "output_type": "execute_result"
        }
      ],
      "source": [
        "final_set = build_final_set(corpus_tf_idf_2)\n",
        "final_set.shape"
      ]
    },
    {
      "cell_type": "markdown",
      "metadata": {
        "id": "8tikdip0PSzQ"
      },
      "source": [
        "## Εκπαίδευση χάρτη SOM\n",
        "\n",
        "Θα δουλέψουμε με τη βιβλιοθήκη SOM [\"Somoclu\"](http://somoclu.readthedocs.io/en/stable/index.html). Εισάγουμε τις somoclu και matplotlib και λέμε στη matplotlib να τυπώνει εντός του notebook (κι όχι σε pop up window)."
      ]
    },
    {
      "cell_type": "code",
      "execution_count": null,
      "metadata": {
        "colab": {
          "base_uri": "https://localhost:8080/"
        },
        "id": "oX9rzxGSPSzR",
        "outputId": "61b4dcbd-f1a6-44a0-a0fd-f7d03cadf3bf"
      },
      "outputs": [
        {
          "name": "stdout",
          "output_type": "stream",
          "text": [
            "Collecting somoclu\n",
            "  Downloading somoclu-1.7.5.1.tar.gz (6.1 MB)\n",
            "\u001b[K     |████████████████████████████████| 6.1 MB 10.2 MB/s \n",
            "\u001b[?25hRequirement already satisfied: numpy in /usr/local/lib/python3.7/dist-packages (from somoclu) (1.19.5)\n",
            "Requirement already satisfied: matplotlib in /usr/local/lib/python3.7/dist-packages (from somoclu) (3.2.2)\n",
            "Requirement already satisfied: scipy in /usr/local/lib/python3.7/dist-packages (from somoclu) (1.4.1)\n",
            "Requirement already satisfied: kiwisolver>=1.0.1 in /usr/local/lib/python3.7/dist-packages (from matplotlib->somoclu) (1.3.2)\n",
            "Requirement already satisfied: cycler>=0.10 in /usr/local/lib/python3.7/dist-packages (from matplotlib->somoclu) (0.11.0)\n",
            "Requirement already satisfied: pyparsing!=2.0.4,!=2.1.2,!=2.1.6,>=2.0.1 in /usr/local/lib/python3.7/dist-packages (from matplotlib->somoclu) (3.0.6)\n",
            "Requirement already satisfied: python-dateutil>=2.1 in /usr/local/lib/python3.7/dist-packages (from matplotlib->somoclu) (2.8.2)\n",
            "Requirement already satisfied: six>=1.5 in /usr/local/lib/python3.7/dist-packages (from python-dateutil>=2.1->matplotlib->somoclu) (1.15.0)\n",
            "Building wheels for collected packages: somoclu\n",
            "  Building wheel for somoclu (setup.py) ... \u001b[?25l\u001b[?25hdone\n",
            "  Created wheel for somoclu: filename=somoclu-1.7.5.1-cp37-cp37m-linux_x86_64.whl size=481030 sha256=ca3b6b43c58c47bfa5ade1b724ea7c0dc28e69359d9f56f5e702f760b67bf4cf\n",
            "  Stored in directory: /root/.cache/pip/wheels/d5/81/eb/22b023e9cac575c4b87d3f9a7318094124e5d8cf90600726fa\n",
            "Successfully built somoclu\n",
            "Installing collected packages: somoclu\n",
            "Successfully installed somoclu-1.7.5.1\n"
          ]
        }
      ],
      "source": [
        "# install somoclu\n",
        "!pip install --upgrade somoclu\n",
        "# import sompoclu, matplotlib\n",
        "import somoclu\n",
        "import matplotlib\n",
        "# we will plot inside the notebook and not in separate window\n",
        "%matplotlib inline"
      ]
    },
    {
      "cell_type": "markdown",
      "metadata": {
        "id": "EqBfn0ijPSzX"
      },
      "source": [
        "Καταρχάς διαβάστε το [function reference](http://somoclu.readthedocs.io/en/stable/reference.html) του somoclu. Θα δoυλέψουμε με χάρτη τύπου planar, παραλληλόγραμμου σχήματος νευρώνων με τυχαία αρχικοποίηση (όλα αυτά είναι default). Μπορείτε να δοκιμάσετε διάφορα μεγέθη χάρτη ωστόσο όσο ο αριθμός των νευρώνων μεγαλώνει, μεγαλώνει και ο χρόνος εκπαίδευσης. Για το training δεν χρειάζεται να ξεπεράσετε τα 100 epochs. Σε γενικές γραμμές μπορούμε να βασιστούμε στις default παραμέτρους μέχρι να έχουμε τη δυνατότητα να οπτικοποιήσουμε και να αναλύσουμε ποιοτικά τα αποτελέσματα. Ξεκινήστε με ένα χάρτη 10 x 10, 100 epochs training και ένα υποσύνολο των ταινιών (π.χ. 2000). Χρησιμοποιήστε την `time` για να έχετε μια εικόνα των χρόνων εκπαίδευσης. "
      ]
    },
    {
      "cell_type": "markdown",
      "metadata": {
        "id": "HaGpxdNU9uJ_"
      },
      "source": [
        "Στο σημείο αυτό θα κάνουμε εκπαίδευση του SOM για τις πρώτες 2000 ταινίες του dataset μας και ενός μικρού χάρτη μεγέθους 10x10 ώστε να αξιολογήσουμε τα αποτελέσματά του."
      ]
    },
    {
      "cell_type": "code",
      "execution_count": null,
      "metadata": {
        "colab": {
          "base_uri": "https://localhost:8080/"
        },
        "id": "P-0AiM-1-FwD",
        "outputId": "0bfa0dc2-2073-43e3-bfe6-158ac84265fd"
      },
      "outputs": [
        {
          "output_type": "stream",
          "name": "stdout",
          "text": [
            "CPU times: user 10min, sys: 2.38 s, total: 10min 3s\n",
            "Wall time: 5min 10s\n"
          ]
        }
      ],
      "source": [
        "n_rows, n_cols = 10, 10\n",
        "som = somoclu.Somoclu(n_cols, n_rows)\n",
        "sub_final_set = build_final_set(corpus_tf_idf_2, 2000)\n",
        "%time som.train(sub_final_set, epochs=100)"
      ]
    },
    {
      "cell_type": "code",
      "execution_count": null,
      "metadata": {
        "id": "f21i0hk0-ftM"
      },
      "outputs": [],
      "source": [
        "with open('drive/MyDrive/som_2000.dump', 'wb') as fid:\n",
        "      pickle.dump(som, fid)"
      ]
    },
    {
      "cell_type": "markdown",
      "metadata": {
        "id": "ntd2GE9SaHiS"
      },
      "source": [
        "\n",
        "## Best matching units\n",
        "\n",
        "Μετά από κάθε εκπαίδευση αποθηκεύστε σε μια μεταβλητή τα best matching units (bmus) για κάθε ταινία. Τα bmus μας δείχνουν σε ποιο νευρώνα ανήκει η κάθε ταινία. **Προσοχή: η σύμβαση των συντεταγμένων των νευρώνων στη Somoclu είναι (στήλη, γραμμή) δηλαδή το ανάποδο από την Python**. Με χρήση της [np.unique](https://docs.scipy.org/doc/numpy-1.13.0/reference/generated/numpy.unique.html) (μια πολύ χρήσιμη συνάρτηση στην άσκηση) αποθηκεύστε τα μοναδικά best matching units και τους δείκτες τους (indices) προς τις ταινίες. \n",
        "\n",
        "Σημειώστε ότι μπορεί να έχετε λιγότερα μοναδικά bmus από αριθμό νευρώνων γιατί μπορεί σε κάποιους νευρώνες να μην έχουν ανατεθεί ταινίες. Ως αριθμό νευρώνα θα θεωρήσουμε τον αριθμό γραμμής στον πίνακα μοναδικών bmus.\n"
      ]
    },
    {
      "cell_type": "markdown",
      "source": [
        "Αποθηκεύουμε τα best matching units στη μεταβλητή bmus. Κάθε γραμμή του πίνακα των bmus αντιστοιχεί σε μία ταινία και οι στήλες του αντιστοιχούν στις συντεταγμένες του νευρώνα στον οποίο έχουν αντιστοιχηθεί οι ταινίες."
      ],
      "metadata": {
        "id": "SKHU1rruB0No"
      }
    },
    {
      "cell_type": "code",
      "source": [
        "bmus = som.bmus\n",
        "bmus.shape"
      ],
      "metadata": {
        "colab": {
          "base_uri": "https://localhost:8080/"
        },
        "id": "AAUHfz3gB_zj",
        "outputId": "8861708f-9d98-4f01-8fe8-d7cfb6fd1821"
      },
      "execution_count": null,
      "outputs": [
        {
          "output_type": "execute_result",
          "data": {
            "text/plain": [
              "(2000, 2)"
            ]
          },
          "metadata": {},
          "execution_count": 80
        }
      ]
    },
    {
      "cell_type": "markdown",
      "source": [
        "Στη μεταβλητή unique_bmus αποθηκεύουμε τις μοναδικές συντεταγμένες του χάρτη στις οποίες αντιστοιχεί κάποια ταινία και στη μεταβλητή indices αποθηκεύονται οι συντεταγμένες που αντιστοιχούν σε κάθε μία από τις 2000 ταινίες."
      ],
      "metadata": {
        "id": "A2U4ZXBvGIfJ"
      }
    },
    {
      "cell_type": "code",
      "source": [
        "unique_bmus, indices = np.unique(bmus, return_inverse=True, axis=0)\n",
        "print(unique_bmus.shape)\n",
        "print(indices.shape)"
      ],
      "metadata": {
        "colab": {
          "base_uri": "https://localhost:8080/"
        },
        "id": "5Ehp6lvlFkvz",
        "outputId": "9ce4e861-0a44-4202-b765-a91cdf33ad67"
      },
      "execution_count": null,
      "outputs": [
        {
          "output_type": "stream",
          "name": "stdout",
          "text": [
            "(96, 2)\n",
            "(2000,)\n"
          ]
        }
      ]
    },
    {
      "cell_type": "markdown",
      "metadata": {
        "id": "grzqcyHyaKdg"
      },
      "source": [
        "\n",
        "## Ομαδοποίηση (clustering)\n",
        "\n",
        "Τυπικά, η ομαδοποίηση σε ένα χάρτη SOM προκύπτει από το unified distance matrix (U-matrix): για κάθε κόμβο υπολογίζεται η μέση απόστασή του από τους γειτονικούς κόμβους. Εάν χρησιμοποιηθεί μπλε χρώμα στις περιοχές του χάρτη όπου η τιμή αυτή είναι χαμηλή (μικρή απόσταση) και κόκκινο εκεί που η τιμή είναι υψηλή (μεγάλη απόσταση), τότε μπορούμε να πούμε ότι οι μπλε περιοχές αποτελούν clusters και οι κόκκινες αποτελούν σύνορα μεταξύ clusters.\n",
        "\n",
        "To somoclu δίνει την επιπρόσθετη δυνατότητα να κάνουμε ομαδοποίηση των νευρώνων χρησιμοποιώντας οποιονδήποτε αλγόριθμο ομαδοποίησης του scikit-learn. Στην άσκηση θα χρησιμοποιήσουμε τον k-Means. Για τον αρχικό σας χάρτη δοκιμάστε ένα k=20 ή 25. Οι δύο προσεγγίσεις ομαδοποίησης είναι διαφορετικές, οπότε περιμένουμε τα αποτελέσματα να είναι κοντά αλλά όχι τα ίδια.\n"
      ]
    },
    {
      "cell_type": "code",
      "source": [
        "from sklearn.cluster import KMeans\n",
        "som.cluster(algorithm=KMeans(n_clusters=20))"
      ],
      "metadata": {
        "id": "lRlii8IMIMkN"
      },
      "execution_count": null,
      "outputs": []
    },
    {
      "cell_type": "markdown",
      "metadata": {
        "id": "2nupuqcuaMe3"
      },
      "source": [
        "\n",
        "## Αποθήκευση του SOM\n",
        "\n",
        "Επειδή η αρχικοποίηση του SOM γίνεται τυχαία και το clustering είναι και αυτό στοχαστική διαδικασία, οι θέσεις και οι ετικέτες των νευρώνων και των clusters θα είναι διαφορετικές κάθε φορά που τρέχετε τον χάρτη, ακόμα και με τις ίδιες παραμέτρους. Για να αποθηκεύσετε ένα συγκεκριμένο som και clustering χρησιμοποιήστε και πάλι την `joblib`. Μετά την ανάκληση ενός SOM θυμηθείτε να ακολουθήσετε τη διαδικασία για τα bmus.\n"
      ]
    },
    {
      "cell_type": "code",
      "source": [
        "with open('drive/MyDrive/som_2000.dump', 'wb') as fid:\n",
        "      pickle.dump(som, fid)"
      ],
      "metadata": {
        "id": "-q0aF-MmIgKl"
      },
      "execution_count": null,
      "outputs": []
    },
    {
      "cell_type": "markdown",
      "metadata": {
        "id": "ejX0Qs18aRHU"
      },
      "source": [
        "\n",
        "## Οπτικοποίηση U-matrix, clustering και μέγεθος clusters\n",
        "\n",
        "Για την εκτύπωση του U-matrix χρησιμοποιήστε τη `view_umatrix` με ορίσματα `bestmatches=True` και `figsize=(15, 15)` ή `figsize=(20, 20)`. Τα διαφορετικά χρώματα που εμφανίζονται στους κόμβους αντιπροσωπεύουν τα διαφορετικά clusters που προκύπτουν από τον k-Means. Μπορείτε να εμφανίσετε τη λεζάντα του U-matrix με το όρισμα `colorbar`. Μην τυπώνετε τις ετικέτες (labels) των δειγμάτων, είναι πολύ μεγάλος ο αριθμός τους.\n",
        "\n",
        "Για μια δεύτερη πιο ξεκάθαρη οπτικοποίηση του clustering τυπώστε απευθείας τη μεταβλητή `clusters`.\n",
        "\n",
        "Τέλος, χρησιμοποιώντας πάλι την `np.unique` (με διαφορετικό όρισμα) και την `np.argsort` (υπάρχουν και άλλοι τρόποι υλοποίησης) εκτυπώστε τις ετικέτες των clusters (αριθμοί από 0 έως k-1) και τον αριθμό των νευρώνων σε κάθε cluster, με φθίνουσα ή αύξουσα σειρά ως προς τον αριθμό των νευρώνων. Ουσιαστικά είναι ένα εργαλείο για να βρίσκετε εύκολα τα μεγάλα και μικρά clusters. \n",
        "\n",
        "Ακολουθεί ένα μη βελτιστοποιημένο παράδειγμα για τις τρεις προηγούμενες εξόδους:\n",
        "\n",
        "<img src=\"https://image.ibb.co/i0tsfR/umatrix_s.jpg\" width=\"35%\">\n",
        "<img src=\"https://image.ibb.co/nLgHEm/clusters.png\" width=\"35%\">\n",
        "\n"
      ]
    },
    {
      "cell_type": "code",
      "source": [
        "def cluster_info(arr):\n",
        "  clusters = np.unique(arr)\n",
        "  count = []\n",
        "  for cluster in clusters:\n",
        "    count.append(np.count_nonzero(arr==cluster))\n",
        "  sort_ind = np.argsort(count)\n",
        "  res = []\n",
        "  for i in sort_ind:\n",
        "    res.append((clusters[i], count[i]))\n",
        "  return res"
      ],
      "metadata": {
        "id": "oRPOu5yvJNNx"
      },
      "execution_count": null,
      "outputs": []
    },
    {
      "cell_type": "code",
      "source": [
        "cluster_info(som.clusters)"
      ],
      "metadata": {
        "colab": {
          "base_uri": "https://localhost:8080/"
        },
        "id": "7hK__F6MJWU_",
        "outputId": "007a3265-5512-42a5-b1df-454f4f6a0797"
      },
      "execution_count": null,
      "outputs": [
        {
          "output_type": "execute_result",
          "data": {
            "text/plain": [
              "array([ 0,  1,  2,  3,  4,  5,  6,  7,  8,  9, 10, 11, 12, 13, 14, 15, 16,\n",
              "       17, 18, 19])"
            ]
          },
          "metadata": {},
          "execution_count": 93
        }
      ]
    },
    {
      "cell_type": "markdown",
      "metadata": {
        "id": "fMO_KcQYaTv-"
      },
      "source": [
        "\n",
        "## Σημασιολογική ερμηνεία των clusters\n",
        "\n",
        "Προκειμένου να μελετήσουμε τις τοπολογικές ιδιότητες του SOM και το αν έχουν ενσωματώσει σημασιολογική πληροφορία για τις ταινίες διαμέσου της διανυσματικής αναπαράστασης του tf-idf, των εμφυτευμάτων και των κατηγοριών, χρειαζόμαστε ένα κριτήριο ποιοτικής επισκόπησης των clusters. \n",
        "\n",
        "Θα υλοποιήσουμε το εξής κριτήριο: Λαμβάνουμε όρισμα έναν αριθμό (ετικέτα) cluster. Για το cluster αυτό βρίσκουμε όλους τους νευρώνες που του έχουν ανατεθεί από τον k-Means. Για όλους τους νευρώνες αυτούς βρίσκουμε όλες τις ταινίες που τους έχουν ανατεθεί (για τις οποίες αποτελούν bmus). Για όλες αυτές τις ταινίες τυπώνουμε ταξινομημένη τη συνολική στατιστική όλων των ειδών (κατηγοριών) και τις συχνότητές τους. Αν το cluster διαθέτει καλή συνοχή και εξειδίκευση, θα πρέπει κάποιες κατηγορίες να έχουν σαφώς μεγαλύτερη συχνότητα από τις υπόλοιπες. Θα μπορούμε τότε να αναθέσουμε αυτήν/ές την/τις κατηγορία/ες ως ετικέτες κινηματογραφικού είδους στο cluster.\n",
        "\n",
        "Μπορείτε να υλοποιήσετε τη συνάρτηση αυτή όπως θέλετε. Μια πιθανή διαδικασία θα μπορούσε να είναι η ακόλουθη:\n",
        "\n",
        "1. Ορίζουμε συνάρτηση `print_categories_stats` που δέχεται ως είσοδο λίστα με ids ταινιών. Δημιουργούμε μια κενή λίστα συνολικών κατηγοριών. Στη συνέχεια, για κάθε ταινία επεξεργαζόμαστε το string `categories` ως εξής: δημιουργούμε μια λίστα διαχωρίζοντας το string κατάλληλα με την `split` και αφαιρούμε τα whitespaces μεταξύ ετικετών με την `strip`. Προσθέτουμε τη λίστα αυτή στη συνολική λίστα κατηγοριών με την `extend`. Τέλος χρησιμοποιούμε πάλι την `np.unique` για να μετρήσουμε συχνότητα μοναδικών ετικετών κατηγοριών και ταξινομούμε με την `np.argsort`. Τυπώνουμε τις κατηγορίες και τις συχνότητες εμφάνισης ταξινομημένα. Χρήσιμες μπορεί να σας φανούν και οι `np.ravel`, `np.nditer`, `np.array2string` και `zip`.\n",
        "\n",
        "2. Ορίζουμε τη βασική μας συνάρτηση `print_cluster_neurons_movies_report` που δέχεται ως όρισμα τον αριθμό ενός cluster. Με τη χρήση της `np.where` μπορούμε να βρούμε τις συντεταγμένες των bmus που αντιστοιχούν στο cluster και με την `column_stack` να φτιάξουμε έναν πίνακα bmus για το cluster. Προσοχή στη σειρά (στήλη - σειρά) στον πίνακα bmus. Για κάθε bmu αυτού του πίνακα ελέγχουμε αν υπάρχει στον πίνακα μοναδικών bmus που έχουμε υπολογίσει στην αρχή συνολικά και αν ναι προσθέτουμε το αντίστοιχο index του νευρώνα σε μια λίστα. Χρήσιμες μπορεί να είναι και οι `np.rollaxis`, `np.append`, `np.asscalar`. Επίσης πιθανώς να πρέπει να υλοποιήσετε ένα κριτήριο ομοιότητας μεταξύ ενός bmu και ενός μοναδικού bmu από τον αρχικό πίνακα bmus.\n",
        "\n",
        "3. Υλοποιούμε μια βοηθητική συνάρτηση `neuron_movies_report`. Λαμβάνει ένα σύνολο νευρώνων από την `print_cluster_neurons_movies_report` και μέσω της `indices` φτιάχνει μια λίστα με το σύνολο ταινιών που ανήκουν σε αυτούς τους νευρώνες. Στο τέλος καλεί με αυτή τη λίστα την `print_categories_stats` που τυπώνει τις στατιστικές των κατηγοριών.\n",
        "\n",
        "Μπορείτε βέβαια να προσθέσετε οποιαδήποτε επιπλέον έξοδο σας βοηθάει. Μια χρήσιμη έξοδος είναι πόσοι νευρώνες ανήκουν στο cluster και σε πόσους και ποιους από αυτούς έχουν ανατεθεί ταινίες.\n",
        "\n",
        "Θα επιτελούμε τη σημασιολογική ερμηνεία του χάρτη καλώντας την `print_cluster_neurons_movies_report` με τον αριθμός ενός cluster που μας ενδιαφέρει. \n",
        "\n",
        "Παράδειγμα εξόδου για ένα cluster (μη βελτιστοποιημένος χάρτης, ωστόσο βλέπετε ότι οι μεγάλες κατηγορίες έχουν σημασιολογική  συνάφεια):\n",
        "\n",
        "```\n",
        "Overall Cluster Genres stats:  \n",
        "[('\"Horror\"', 86), ('\"Science Fiction\"', 24), ('\"B-movie\"', 16), ('\"Monster movie\"', 10), ('\"Creature Film\"', 10), ('\"Indie\"', 9), ('\"Zombie Film\"', 9), ('\"Slasher\"', 8), ('\"World cinema\"', 8), ('\"Sci-Fi Horror\"', 7), ('\"Natural horror films\"', 6), ('\"Supernatural\"', 6), ('\"Thriller\"', 6), ('\"Cult\"', 5), ('\"Black-and-white\"', 5), ('\"Japanese Movies\"', 4), ('\"Short Film\"', 3), ('\"Drama\"', 3), ('\"Psychological thriller\"', 3), ('\"Crime Fiction\"', 3), ('\"Monster\"', 3), ('\"Comedy\"', 2), ('\"Western\"', 2), ('\"Horror Comedy\"', 2), ('\"Archaeology\"', 2), ('\"Alien Film\"', 2), ('\"Teen\"', 2), ('\"Mystery\"', 2), ('\"Adventure\"', 2), ('\"Comedy film\"', 2), ('\"Combat Films\"', 1), ('\"Chinese Movies\"', 1), ('\"Action/Adventure\"', 1), ('\"Gothic Film\"', 1), ('\"Costume drama\"', 1), ('\"Disaster\"', 1), ('\"Docudrama\"', 1), ('\"Film adaptation\"', 1), ('\"Film noir\"', 1), ('\"Parody\"', 1), ('\"Period piece\"', 1), ('\"Action\"', 1)]```\n",
        "   "
      ]
    },
    {
      "cell_type": "markdown",
      "metadata": {
        "id": "lq4QrImhaa7E"
      },
      "source": [
        "\n",
        "## Tips για το SOM και το clustering\n",
        "\n",
        "- Για την ομαδοποίηση ένα U-matrix καλό είναι να εμφανίζει και μπλε-πράσινες περιοχές (clusters) και κόκκινες περιοχές (ορίων). Παρατηρήστε ποια σχέση υπάρχει μεταξύ αριθμού ταινιών στο final set, μεγέθους grid και ποιότητας U-matrix.\n",
        "- Για το k του k-Means προσπαθήστε να προσεγγίζει σχετικά τα clusters του U-matrix (όπως είπαμε είναι διαφορετικοί μέθοδοι clustering). Μικρός αριθμός k δεν θα σέβεται τα όρια. Μεγάλος αριθμός θα δημιουργεί υπο-clusters εντός των clusters που φαίνονται στο U-matrix. Το τελευταίο δεν είναι απαραίτητα κακό, αλλά μεγαλώνει τον αριθμό clusters που πρέπει να αναλυθούν σημασιολογικά.\n",
        "- Σε μικρούς χάρτες και με μικρά final sets δοκιμάστε διαφορετικές παραμέτρους για την εκπαίδευση του SOM. Σημειώστε τυχόν παραμέτρους που επηρεάζουν την ποιότητα του clustering για το dataset σας ώστε να τις εφαρμόσετε στους μεγάλους χάρτες.\n",
        "- Κάποια τοπολογικά χαρακτηριστικά εμφανίζονται ήδη σε μικρούς χάρτες. Κάποια άλλα χρειάζονται μεγαλύτερους χάρτες. Δοκιμάστε μεγέθη 20x20, 25x25 ή και 30x30 και αντίστοιχη προσαρμογή των k. Όσο μεγαλώνουν οι χάρτες, μεγαλώνει η ανάλυση του χάρτη αλλά μεγαλώνει και ο αριθμός clusters που πρέπει να αναλυθούν.\n"
      ]
    },
    {
      "cell_type": "markdown",
      "metadata": {
        "id": "x4IUl8O8ayVf"
      },
      "source": [
        "\n",
        "\n",
        "## Ανάλυση τοπολογικών ιδιοτήτων χάρτη SOM\n",
        "\n",
        "Μετά το πέρας της εκπαίδευσης και του clustering θα έχετε ένα χάρτη με τοπολογικές ιδιότητες ως προς τα είδη των ταίνιών της συλλογής σας, κάτι αντίστοιχο με την εικόνα στην αρχή της Εφαρμογής 2 αυτού του notebook. Η συγκεκριμένη εικόνα είναι μόνο για εικονογράφιση, δεν είναι χάρτης SOM καιδεν έχει καμία σχέση με τη συλλογή δεδομένων και τις κατηγορίες μας.\n",
        "\n",
        "Για τον τελικό χάρτη SOM που θα παράξετε για τη συλλογή σας, αναλύστε σε markdown με συγκεκριμένη αναφορά σε αριθμούς clusters και τη σημασιολογική ερμηνεία τους τις εξής τρεις τοπολογικές ιδιότητες του SOM: \n",
        "\n",
        "1. Δεδομένα που έχουν μεγαλύτερη πυκνότητα πιθανότητας στο χώρο εισόδου τείνουν να απεικονίζονται με περισσότερους νευρώνες στο χώρο μειωμένης διαστατικότητας. Δώστε παραδείγματα από συχνές και λιγότερο συχνές κατηγορίες ταινιών. Χρησιμοποιήστε τις στατιστικές των κατηγοριών στη συλλογή σας και τον αριθμό κόμβων που χαρακτηρίζουν.\n",
        "2. Μακρινά πρότυπα εισόδου τείνουν να απεικονίζονται απομακρυσμένα στο χάρτη. Υπάρχουν χαρακτηριστικές κατηγορίες ταινιών που ήδη από μικρούς χάρτες τείνουν να τοποθετούνται σε διαφορετικά ή απομονωμένα σημεία του χάρτη.\n",
        "3. Κοντινά πρότυπα εισόδου τείνουν να απεικονίζονται κοντά στο χάρτη. Σε μεγάλους χάρτες εντοπίστε είδη ταινιών και κοντινά τους υποείδη.\n",
        "\n",
        "Προφανώς τοποθέτηση σε 2 διαστάσεις που να σέβεται μια απόλυτη τοπολογία δεν είναι εφικτή, αφενός γιατί δεν υπάρχει κάποια απόλυτη εξ ορισμού για τα κινηματογραφικά είδη ακόμα και σε πολλές διαστάσεις, αφετέρου γιατί πραγματοποιούμε μείωση διαστατικότητας.\n",
        "\n",
        "Εντοπίστε μεγάλα clusters και μικρά clusters που δεν έχουν σαφή χαρακτηριστικά. Εντοπίστε clusters συγκεκριμένων ειδών που μοιάζουν να μην έχουν τοπολογική συνάφεια με γύρω περιοχές. Προτείνετε πιθανές ερμηνείες.\n",
        "\n",
        "\n",
        "Τέλος, εντοπίστε clusters που έχουν κατά την άποψή σας ιδιαίτερο ενδιαφέρον στη συλλογή της ομάδας σας (data exploration / discovery value) και σχολιάστε.\n"
      ]
    },
    {
      "cell_type": "markdown",
      "metadata": {
        "id": "tYjxGR5DawIy"
      },
      "source": [
        "\n",
        "# Τελική παράδοση άσκησης\n",
        "\n",
        "- Θα παραδώσετε στο helios το παρόν notebook επεξεργασμένο ή ένα ή δύο νέα zipαρισμένα με τις απαντήσεις σας για τα ζητούμενα και των δύο εφαρμογών. \n",
        "- Θυμηθείτε ότι η ανάλυση του χάρτη στο markdown με αναφορά σε αριθμούς clusters πρέπει να αναφέρεται στον τελικό χάρτη με τα κελιά ορατά που θα παραδώσετε αλλιώς ο χάρτης που θα προκύψει θα είναι διαφορετικός και τα labels των clusters δεν θα αντιστοιχούν στην ανάλυσή σας. \n",
        "- Μην ξεχάσετε στην αρχή ένα κελί markdown με **τα στοιχεία της ομάδας σας**."
      ]
    },
    {
      "cell_type": "markdown",
      "metadata": {
        "id": "UHhCkvxjnitd"
      },
      "source": [
        "<table>\n",
        "  <tr><td align=\"center\">\n",
        "    <font size=\"4\">Παρακαλούμε διατρέξτε βήμα-βήμα το notebook για να μην ξεχάσετε παραδοτέα</font>\n",
        "</td>\n",
        "  </tr>\n",
        "</table>"
      ]
    }
  ],
  "metadata": {
    "colab": {
      "collapsed_sections": [],
      "name": "NN_Lab2.ipynb",
      "provenance": [],
      "toc_visible": true
    },
    "kernelspec": {
      "display_name": "Python 3.5",
      "language": "python",
      "name": "python3"
    },
    "widgets": {
      "application/vnd.jupyter.widget-state+json": {
        "014192a742b04bc89b2b2f838f881b7b": {
          "model_module": "@jupyter-widgets/controls",
          "model_module_version": "1.5.0",
          "model_name": "FloatProgressModel",
          "state": {
            "_dom_classes": [],
            "_model_module": "@jupyter-widgets/controls",
            "_model_module_version": "1.5.0",
            "_model_name": "FloatProgressModel",
            "_view_count": null,
            "_view_module": "@jupyter-widgets/controls",
            "_view_module_version": "1.5.0",
            "_view_name": "ProgressView",
            "bar_style": "success",
            "description": "",
            "description_tooltip": null,
            "layout": "IPY_MODEL_d55f26868c7343b4b626d4740bbfdb9f",
            "max": 5000,
            "min": 0,
            "orientation": "horizontal",
            "style": "IPY_MODEL_0711163b7d254433ad92679385612b78",
            "value": 5000
          }
        },
        "0387ac46697040de9b66ec7439495378": {
          "model_module": "@jupyter-widgets/base",
          "model_module_version": "1.2.0",
          "model_name": "LayoutModel",
          "state": {
            "_model_module": "@jupyter-widgets/base",
            "_model_module_version": "1.2.0",
            "_model_name": "LayoutModel",
            "_view_count": null,
            "_view_module": "@jupyter-widgets/base",
            "_view_module_version": "1.2.0",
            "_view_name": "LayoutView",
            "align_content": null,
            "align_items": null,
            "align_self": null,
            "border": null,
            "bottom": null,
            "display": null,
            "flex": null,
            "flex_flow": null,
            "grid_area": null,
            "grid_auto_columns": null,
            "grid_auto_flow": null,
            "grid_auto_rows": null,
            "grid_column": null,
            "grid_gap": null,
            "grid_row": null,
            "grid_template_areas": null,
            "grid_template_columns": null,
            "grid_template_rows": null,
            "height": null,
            "justify_content": null,
            "justify_items": null,
            "left": null,
            "margin": null,
            "max_height": null,
            "max_width": null,
            "min_height": null,
            "min_width": null,
            "object_fit": null,
            "object_position": null,
            "order": null,
            "overflow": null,
            "overflow_x": null,
            "overflow_y": null,
            "padding": null,
            "right": null,
            "top": null,
            "visibility": null,
            "width": null
          }
        },
        "0711163b7d254433ad92679385612b78": {
          "model_module": "@jupyter-widgets/controls",
          "model_module_version": "1.5.0",
          "model_name": "ProgressStyleModel",
          "state": {
            "_model_module": "@jupyter-widgets/controls",
            "_model_module_version": "1.5.0",
            "_model_name": "ProgressStyleModel",
            "_view_count": null,
            "_view_module": "@jupyter-widgets/base",
            "_view_module_version": "1.2.0",
            "_view_name": "StyleView",
            "bar_color": null,
            "description_width": ""
          }
        },
        "074f2156e7764ca0b2df3f2ab495a836": {
          "model_module": "@jupyter-widgets/base",
          "model_module_version": "1.2.0",
          "model_name": "LayoutModel",
          "state": {
            "_model_module": "@jupyter-widgets/base",
            "_model_module_version": "1.2.0",
            "_model_name": "LayoutModel",
            "_view_count": null,
            "_view_module": "@jupyter-widgets/base",
            "_view_module_version": "1.2.0",
            "_view_name": "LayoutView",
            "align_content": null,
            "align_items": null,
            "align_self": null,
            "border": null,
            "bottom": null,
            "display": null,
            "flex": null,
            "flex_flow": null,
            "grid_area": null,
            "grid_auto_columns": null,
            "grid_auto_flow": null,
            "grid_auto_rows": null,
            "grid_column": null,
            "grid_gap": null,
            "grid_row": null,
            "grid_template_areas": null,
            "grid_template_columns": null,
            "grid_template_rows": null,
            "height": null,
            "justify_content": null,
            "justify_items": null,
            "left": null,
            "margin": null,
            "max_height": null,
            "max_width": null,
            "min_height": null,
            "min_width": null,
            "object_fit": null,
            "object_position": null,
            "order": null,
            "overflow": null,
            "overflow_x": null,
            "overflow_y": null,
            "padding": null,
            "right": null,
            "top": null,
            "visibility": null,
            "width": null
          }
        },
        "0c8a62b939b14c8fb9544800f018ee97": {
          "model_module": "@jupyter-widgets/controls",
          "model_module_version": "1.5.0",
          "model_name": "ProgressStyleModel",
          "state": {
            "_model_module": "@jupyter-widgets/controls",
            "_model_module_version": "1.5.0",
            "_model_name": "ProgressStyleModel",
            "_view_count": null,
            "_view_module": "@jupyter-widgets/base",
            "_view_module_version": "1.2.0",
            "_view_name": "StyleView",
            "bar_color": null,
            "description_width": ""
          }
        },
        "2726fd88205c4db1bda915bd496a1bba": {
          "model_module": "@jupyter-widgets/controls",
          "model_module_version": "1.5.0",
          "model_name": "HTMLModel",
          "state": {
            "_dom_classes": [],
            "_model_module": "@jupyter-widgets/controls",
            "_model_module_version": "1.5.0",
            "_model_name": "HTMLModel",
            "_view_count": null,
            "_view_module": "@jupyter-widgets/controls",
            "_view_module_version": "1.5.0",
            "_view_name": "HTMLView",
            "description": "",
            "description_tooltip": null,
            "layout": "IPY_MODEL_d82ba295524d4bc4b494a78fcd72e710",
            "placeholder": "​",
            "style": "IPY_MODEL_78233042f01044eebda7f8f851794a70",
            "value": " 5000/5000 [00:03&lt;00:00, 1342.89it/s]"
          }
        },
        "3a2a7639d33a4dd08cfb7e53ecf5b0d0": {
          "model_module": "@jupyter-widgets/base",
          "model_module_version": "1.2.0",
          "model_name": "LayoutModel",
          "state": {
            "_model_module": "@jupyter-widgets/base",
            "_model_module_version": "1.2.0",
            "_model_name": "LayoutModel",
            "_view_count": null,
            "_view_module": "@jupyter-widgets/base",
            "_view_module_version": "1.2.0",
            "_view_name": "LayoutView",
            "align_content": null,
            "align_items": null,
            "align_self": null,
            "border": null,
            "bottom": null,
            "display": null,
            "flex": null,
            "flex_flow": null,
            "grid_area": null,
            "grid_auto_columns": null,
            "grid_auto_flow": null,
            "grid_auto_rows": null,
            "grid_column": null,
            "grid_gap": null,
            "grid_row": null,
            "grid_template_areas": null,
            "grid_template_columns": null,
            "grid_template_rows": null,
            "height": null,
            "justify_content": null,
            "justify_items": null,
            "left": null,
            "margin": null,
            "max_height": null,
            "max_width": null,
            "min_height": null,
            "min_width": null,
            "object_fit": null,
            "object_position": null,
            "order": null,
            "overflow": null,
            "overflow_x": null,
            "overflow_y": null,
            "padding": null,
            "right": null,
            "top": null,
            "visibility": null,
            "width": null
          }
        },
        "3bf82561872443068a7394fea3576853": {
          "model_module": "@jupyter-widgets/controls",
          "model_module_version": "1.5.0",
          "model_name": "HBoxModel",
          "state": {
            "_dom_classes": [],
            "_model_module": "@jupyter-widgets/controls",
            "_model_module_version": "1.5.0",
            "_model_name": "HBoxModel",
            "_view_count": null,
            "_view_module": "@jupyter-widgets/controls",
            "_view_module_version": "1.5.0",
            "_view_name": "HBoxView",
            "box_style": "",
            "children": [
              "IPY_MODEL_92da2841df714e809b8282b0076e51d8",
              "IPY_MODEL_412478dc91bc447e82655f5e5a823f21",
              "IPY_MODEL_2726fd88205c4db1bda915bd496a1bba"
            ],
            "layout": "IPY_MODEL_93c75e7ac2a54528a9ae794cc6aea715"
          }
        },
        "412478dc91bc447e82655f5e5a823f21": {
          "model_module": "@jupyter-widgets/controls",
          "model_module_version": "1.5.0",
          "model_name": "FloatProgressModel",
          "state": {
            "_dom_classes": [],
            "_model_module": "@jupyter-widgets/controls",
            "_model_module_version": "1.5.0",
            "_model_name": "FloatProgressModel",
            "_view_count": null,
            "_view_module": "@jupyter-widgets/controls",
            "_view_module_version": "1.5.0",
            "_view_name": "ProgressView",
            "bar_style": "success",
            "description": "",
            "description_tooltip": null,
            "layout": "IPY_MODEL_cd5ce6e35c1a428e8888144efe28efd2",
            "max": 5000,
            "min": 0,
            "orientation": "horizontal",
            "style": "IPY_MODEL_0c8a62b939b14c8fb9544800f018ee97",
            "value": 5000
          }
        },
        "4987e09e36394feeaaba2db9b2296724": {
          "model_module": "@jupyter-widgets/controls",
          "model_module_version": "1.5.0",
          "model_name": "HTMLModel",
          "state": {
            "_dom_classes": [],
            "_model_module": "@jupyter-widgets/controls",
            "_model_module_version": "1.5.0",
            "_model_name": "HTMLModel",
            "_view_count": null,
            "_view_module": "@jupyter-widgets/controls",
            "_view_module_version": "1.5.0",
            "_view_name": "HTMLView",
            "description": "",
            "description_tooltip": null,
            "layout": "IPY_MODEL_074f2156e7764ca0b2df3f2ab495a836",
            "placeholder": "​",
            "style": "IPY_MODEL_8152db4d18a04938a2783e7c847554b6",
            "value": " 5000/5000 [00:00&lt;00:00, 17894.72it/s]"
          }
        },
        "5335d4367c0d4459ba7a5db4c1c6a175": {
          "model_module": "@jupyter-widgets/controls",
          "model_module_version": "1.5.0",
          "model_name": "HBoxModel",
          "state": {
            "_dom_classes": [],
            "_model_module": "@jupyter-widgets/controls",
            "_model_module_version": "1.5.0",
            "_model_name": "HBoxModel",
            "_view_count": null,
            "_view_module": "@jupyter-widgets/controls",
            "_view_module_version": "1.5.0",
            "_view_name": "HBoxView",
            "box_style": "",
            "children": [
              "IPY_MODEL_7400ccfd55f8470ab14a4cae6a654873",
              "IPY_MODEL_014192a742b04bc89b2b2f838f881b7b",
              "IPY_MODEL_4987e09e36394feeaaba2db9b2296724"
            ],
            "layout": "IPY_MODEL_3a2a7639d33a4dd08cfb7e53ecf5b0d0"
          }
        },
        "6b960084ff9c4e22b2fce9dc93ecd3be": {
          "model_module": "@jupyter-widgets/controls",
          "model_module_version": "1.5.0",
          "model_name": "DescriptionStyleModel",
          "state": {
            "_model_module": "@jupyter-widgets/controls",
            "_model_module_version": "1.5.0",
            "_model_name": "DescriptionStyleModel",
            "_view_count": null,
            "_view_module": "@jupyter-widgets/base",
            "_view_module_version": "1.2.0",
            "_view_name": "StyleView",
            "description_width": ""
          }
        },
        "7400ccfd55f8470ab14a4cae6a654873": {
          "model_module": "@jupyter-widgets/controls",
          "model_module_version": "1.5.0",
          "model_name": "HTMLModel",
          "state": {
            "_dom_classes": [],
            "_model_module": "@jupyter-widgets/controls",
            "_model_module_version": "1.5.0",
            "_model_name": "HTMLModel",
            "_view_count": null,
            "_view_module": "@jupyter-widgets/controls",
            "_view_module_version": "1.5.0",
            "_view_name": "HTMLView",
            "description": "",
            "description_tooltip": null,
            "layout": "IPY_MODEL_0387ac46697040de9b66ec7439495378",
            "placeholder": "​",
            "style": "IPY_MODEL_9285f6437f1c4ba68dbc504e3c83b283",
            "value": "100%"
          }
        },
        "78233042f01044eebda7f8f851794a70": {
          "model_module": "@jupyter-widgets/controls",
          "model_module_version": "1.5.0",
          "model_name": "DescriptionStyleModel",
          "state": {
            "_model_module": "@jupyter-widgets/controls",
            "_model_module_version": "1.5.0",
            "_model_name": "DescriptionStyleModel",
            "_view_count": null,
            "_view_module": "@jupyter-widgets/base",
            "_view_module_version": "1.2.0",
            "_view_name": "StyleView",
            "description_width": ""
          }
        },
        "8152db4d18a04938a2783e7c847554b6": {
          "model_module": "@jupyter-widgets/controls",
          "model_module_version": "1.5.0",
          "model_name": "DescriptionStyleModel",
          "state": {
            "_model_module": "@jupyter-widgets/controls",
            "_model_module_version": "1.5.0",
            "_model_name": "DescriptionStyleModel",
            "_view_count": null,
            "_view_module": "@jupyter-widgets/base",
            "_view_module_version": "1.2.0",
            "_view_name": "StyleView",
            "description_width": ""
          }
        },
        "9285f6437f1c4ba68dbc504e3c83b283": {
          "model_module": "@jupyter-widgets/controls",
          "model_module_version": "1.5.0",
          "model_name": "DescriptionStyleModel",
          "state": {
            "_model_module": "@jupyter-widgets/controls",
            "_model_module_version": "1.5.0",
            "_model_name": "DescriptionStyleModel",
            "_view_count": null,
            "_view_module": "@jupyter-widgets/base",
            "_view_module_version": "1.2.0",
            "_view_name": "StyleView",
            "description_width": ""
          }
        },
        "92da2841df714e809b8282b0076e51d8": {
          "model_module": "@jupyter-widgets/controls",
          "model_module_version": "1.5.0",
          "model_name": "HTMLModel",
          "state": {
            "_dom_classes": [],
            "_model_module": "@jupyter-widgets/controls",
            "_model_module_version": "1.5.0",
            "_model_name": "HTMLModel",
            "_view_count": null,
            "_view_module": "@jupyter-widgets/controls",
            "_view_module_version": "1.5.0",
            "_view_name": "HTMLView",
            "description": "",
            "description_tooltip": null,
            "layout": "IPY_MODEL_d9ee791a293b4c6bb19924e1ebb4fc25",
            "placeholder": "​",
            "style": "IPY_MODEL_6b960084ff9c4e22b2fce9dc93ecd3be",
            "value": "100%"
          }
        },
        "93c75e7ac2a54528a9ae794cc6aea715": {
          "model_module": "@jupyter-widgets/base",
          "model_module_version": "1.2.0",
          "model_name": "LayoutModel",
          "state": {
            "_model_module": "@jupyter-widgets/base",
            "_model_module_version": "1.2.0",
            "_model_name": "LayoutModel",
            "_view_count": null,
            "_view_module": "@jupyter-widgets/base",
            "_view_module_version": "1.2.0",
            "_view_name": "LayoutView",
            "align_content": null,
            "align_items": null,
            "align_self": null,
            "border": null,
            "bottom": null,
            "display": null,
            "flex": null,
            "flex_flow": null,
            "grid_area": null,
            "grid_auto_columns": null,
            "grid_auto_flow": null,
            "grid_auto_rows": null,
            "grid_column": null,
            "grid_gap": null,
            "grid_row": null,
            "grid_template_areas": null,
            "grid_template_columns": null,
            "grid_template_rows": null,
            "height": null,
            "justify_content": null,
            "justify_items": null,
            "left": null,
            "margin": null,
            "max_height": null,
            "max_width": null,
            "min_height": null,
            "min_width": null,
            "object_fit": null,
            "object_position": null,
            "order": null,
            "overflow": null,
            "overflow_x": null,
            "overflow_y": null,
            "padding": null,
            "right": null,
            "top": null,
            "visibility": null,
            "width": null
          }
        },
        "cd5ce6e35c1a428e8888144efe28efd2": {
          "model_module": "@jupyter-widgets/base",
          "model_module_version": "1.2.0",
          "model_name": "LayoutModel",
          "state": {
            "_model_module": "@jupyter-widgets/base",
            "_model_module_version": "1.2.0",
            "_model_name": "LayoutModel",
            "_view_count": null,
            "_view_module": "@jupyter-widgets/base",
            "_view_module_version": "1.2.0",
            "_view_name": "LayoutView",
            "align_content": null,
            "align_items": null,
            "align_self": null,
            "border": null,
            "bottom": null,
            "display": null,
            "flex": null,
            "flex_flow": null,
            "grid_area": null,
            "grid_auto_columns": null,
            "grid_auto_flow": null,
            "grid_auto_rows": null,
            "grid_column": null,
            "grid_gap": null,
            "grid_row": null,
            "grid_template_areas": null,
            "grid_template_columns": null,
            "grid_template_rows": null,
            "height": null,
            "justify_content": null,
            "justify_items": null,
            "left": null,
            "margin": null,
            "max_height": null,
            "max_width": null,
            "min_height": null,
            "min_width": null,
            "object_fit": null,
            "object_position": null,
            "order": null,
            "overflow": null,
            "overflow_x": null,
            "overflow_y": null,
            "padding": null,
            "right": null,
            "top": null,
            "visibility": null,
            "width": null
          }
        },
        "d55f26868c7343b4b626d4740bbfdb9f": {
          "model_module": "@jupyter-widgets/base",
          "model_module_version": "1.2.0",
          "model_name": "LayoutModel",
          "state": {
            "_model_module": "@jupyter-widgets/base",
            "_model_module_version": "1.2.0",
            "_model_name": "LayoutModel",
            "_view_count": null,
            "_view_module": "@jupyter-widgets/base",
            "_view_module_version": "1.2.0",
            "_view_name": "LayoutView",
            "align_content": null,
            "align_items": null,
            "align_self": null,
            "border": null,
            "bottom": null,
            "display": null,
            "flex": null,
            "flex_flow": null,
            "grid_area": null,
            "grid_auto_columns": null,
            "grid_auto_flow": null,
            "grid_auto_rows": null,
            "grid_column": null,
            "grid_gap": null,
            "grid_row": null,
            "grid_template_areas": null,
            "grid_template_columns": null,
            "grid_template_rows": null,
            "height": null,
            "justify_content": null,
            "justify_items": null,
            "left": null,
            "margin": null,
            "max_height": null,
            "max_width": null,
            "min_height": null,
            "min_width": null,
            "object_fit": null,
            "object_position": null,
            "order": null,
            "overflow": null,
            "overflow_x": null,
            "overflow_y": null,
            "padding": null,
            "right": null,
            "top": null,
            "visibility": null,
            "width": null
          }
        },
        "d82ba295524d4bc4b494a78fcd72e710": {
          "model_module": "@jupyter-widgets/base",
          "model_module_version": "1.2.0",
          "model_name": "LayoutModel",
          "state": {
            "_model_module": "@jupyter-widgets/base",
            "_model_module_version": "1.2.0",
            "_model_name": "LayoutModel",
            "_view_count": null,
            "_view_module": "@jupyter-widgets/base",
            "_view_module_version": "1.2.0",
            "_view_name": "LayoutView",
            "align_content": null,
            "align_items": null,
            "align_self": null,
            "border": null,
            "bottom": null,
            "display": null,
            "flex": null,
            "flex_flow": null,
            "grid_area": null,
            "grid_auto_columns": null,
            "grid_auto_flow": null,
            "grid_auto_rows": null,
            "grid_column": null,
            "grid_gap": null,
            "grid_row": null,
            "grid_template_areas": null,
            "grid_template_columns": null,
            "grid_template_rows": null,
            "height": null,
            "justify_content": null,
            "justify_items": null,
            "left": null,
            "margin": null,
            "max_height": null,
            "max_width": null,
            "min_height": null,
            "min_width": null,
            "object_fit": null,
            "object_position": null,
            "order": null,
            "overflow": null,
            "overflow_x": null,
            "overflow_y": null,
            "padding": null,
            "right": null,
            "top": null,
            "visibility": null,
            "width": null
          }
        },
        "d9ee791a293b4c6bb19924e1ebb4fc25": {
          "model_module": "@jupyter-widgets/base",
          "model_module_version": "1.2.0",
          "model_name": "LayoutModel",
          "state": {
            "_model_module": "@jupyter-widgets/base",
            "_model_module_version": "1.2.0",
            "_model_name": "LayoutModel",
            "_view_count": null,
            "_view_module": "@jupyter-widgets/base",
            "_view_module_version": "1.2.0",
            "_view_name": "LayoutView",
            "align_content": null,
            "align_items": null,
            "align_self": null,
            "border": null,
            "bottom": null,
            "display": null,
            "flex": null,
            "flex_flow": null,
            "grid_area": null,
            "grid_auto_columns": null,
            "grid_auto_flow": null,
            "grid_auto_rows": null,
            "grid_column": null,
            "grid_gap": null,
            "grid_row": null,
            "grid_template_areas": null,
            "grid_template_columns": null,
            "grid_template_rows": null,
            "height": null,
            "justify_content": null,
            "justify_items": null,
            "left": null,
            "margin": null,
            "max_height": null,
            "max_width": null,
            "min_height": null,
            "min_width": null,
            "object_fit": null,
            "object_position": null,
            "order": null,
            "overflow": null,
            "overflow_x": null,
            "overflow_y": null,
            "padding": null,
            "right": null,
            "top": null,
            "visibility": null,
            "width": null
          }
        }
      }
    }
  },
  "nbformat": 4,
  "nbformat_minor": 0
}