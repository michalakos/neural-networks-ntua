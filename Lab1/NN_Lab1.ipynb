{
  "nbformat": 4,
  "nbformat_minor": 0,
  "metadata": {
    "colab": {
      "name": "NN-Lab1.ipynb",
      "provenance": [],
      "collapsed_sections": [],
      "toc_visible": true
    },
    "kernelspec": {
      "name": "python3",
      "display_name": "Python 3"
    },
    "language_info": {
      "name": "python"
    }
  },
  "cells": [
    {
      "cell_type": "markdown",
      "metadata": {
        "id": "9IZL-BYLirpn"
      },
      "source": [
        "# Νευρωνικά Δίκτυα και Ευφυή Υπολογιστικά Συστήματα\n",
        "## Εργασία 1: Επιβλεπόμενη Μάθηση - Ταξινόμηση\n",
        "### Ομάδα 44\n",
        "* Βασιλάκος Μιχαήλ <br>\n",
        "Α.Μ.: 03117069\n",
        "* Γαβαλάς Παντελεήμων <br>\n",
        "Α.Μ.: 03117075"
      ]
    },
    {
      "cell_type": "code",
      "metadata": {
        "id": "4I_wioxunXgh",
        "colab": {
          "base_uri": "https://localhost:8080/"
        },
        "outputId": "42541ff3-16a1-4192-f572-daa7454ec5ab"
      },
      "source": [
        "# import used modules\n",
        "!pip install --upgrade imbalanced-learn\n",
        "import pandas as pd\n",
        "import numpy as np\n",
        "import seaborn as sns\n",
        "import matplotlib.pyplot as plt\n",
        "import time\n",
        "from sklearn.model_selection import train_test_split\n",
        "from sklearn.impute import SimpleImputer\n",
        "from sklearn.dummy import DummyClassifier\n",
        "from sklearn.naive_bayes import GaussianNB\n",
        "from sklearn.neighbors import KNeighborsClassifier\n",
        "from sklearn.linear_model import LogisticRegression\n",
        "from sklearn.metrics import accuracy_score, f1_score\n",
        "from imblearn.pipeline import Pipeline\n",
        "from sklearn.feature_selection import VarianceThreshold\n",
        "from sklearn.preprocessing import StandardScaler\n",
        "from sklearn.preprocessing import MinMaxScaler\n",
        "from imblearn.over_sampling import RandomOverSampler\n",
        "from sklearn.decomposition import PCA\n",
        "from sklearn.metrics import classification_report\n",
        "from sklearn.metrics import ConfusionMatrixDisplay, confusion_matrix\n",
        "from sklearn.model_selection import GridSearchCV"
      ],
      "execution_count": null,
      "outputs": [
        {
          "output_type": "stream",
          "name": "stdout",
          "text": [
            "Requirement already satisfied: imbalanced-learn in /usr/local/lib/python3.7/dist-packages (0.8.1)\n",
            "Requirement already satisfied: scikit-learn>=0.24 in /usr/local/lib/python3.7/dist-packages (from imbalanced-learn) (1.0.1)\n",
            "Requirement already satisfied: numpy>=1.13.3 in /usr/local/lib/python3.7/dist-packages (from imbalanced-learn) (1.19.5)\n",
            "Requirement already satisfied: joblib>=0.11 in /usr/local/lib/python3.7/dist-packages (from imbalanced-learn) (1.1.0)\n",
            "Requirement already satisfied: scipy>=0.19.1 in /usr/local/lib/python3.7/dist-packages (from imbalanced-learn) (1.4.1)\n",
            "Requirement already satisfied: threadpoolctl>=2.0.0 in /usr/local/lib/python3.7/dist-packages (from scikit-learn>=0.24->imbalanced-learn) (3.0.0)\n"
          ]
        }
      ]
    },
    {
      "cell_type": "markdown",
      "metadata": {
        "id": "eaVWoqxxkYBr"
      },
      "source": [
        "## Μέρος 1: UCI dataset\n",
        "Το dataset του UCI Machine Learning Repository που αντιστοιχεί στην ομάδα μας είναι το [HCC Survival Data Set](https://archive.ics.uci.edu/ml/datasets/HCC+Survival). Το συγκεκριμένο dataset περιέχει πληροφορίες σχετικά με την επιβίωση ασθενών με Ηπατοκυτταρικό καρκίνωμα (HCC) σε διάστημα ενός χρόνου από τη συλλογή των στοιχείων που δίνονται στο dataset. Δίνονται 49 features, 23 εκ των οποίων είναι κατηγορικά ενώ τα υπόλοιπα 26 είναι διατεταγμένα."
      ]
    },
    {
      "cell_type": "markdown",
      "metadata": {
        "id": "pKIuHXIh6pQj"
      },
      "source": [
        "### Εισαγωγή και επισκόπηση δεδομένων"
      ]
    },
    {
      "cell_type": "markdown",
      "metadata": {
        "id": "LOglVdfnm3Vb"
      },
      "source": [
        "Αρχικά φορτώνουμε το dataset στο notebook και ελέγχουμε τα πρώτα στοιχεία του καθώς και τις διαστάσεις του."
      ]
    },
    {
      "cell_type": "code",
      "metadata": {
        "colab": {
          "base_uri": "https://localhost:8080/"
        },
        "id": "MB72FbM0irBG",
        "outputId": "bde25220-b6e7-4c6d-ba4c-2a9f8aa51da6"
      },
      "source": [
        "# read dataset\n",
        "df = pd.read_csv(\"hcc-data.txt\", header=None, na_values=[\"?\"])\n",
        "print(df.head(), df.shape)"
      ],
      "execution_count": null,
      "outputs": [
        {
          "output_type": "stream",
          "name": "stdout",
          "text": [
            "   0    1   2    3    4    5    6   ...   43    44   45    46    47    48  49\n",
            "0   1  0.0   1  0.0  0.0  0.0  0.0  ...  1.0   3.5  0.5   NaN   NaN   NaN   1\n",
            "1   0  NaN   0  0.0  0.0  0.0  1.0  ...  1.0   1.8  NaN   NaN   NaN   NaN   1\n",
            "2   1  0.0   1  1.0  0.0  1.0  0.0  ...  5.0  13.0  0.1  28.0   6.0  16.0   1\n",
            "3   1  1.0   1  0.0  0.0  0.0  0.0  ...  2.0  15.7  0.2   NaN   NaN   NaN   0\n",
            "4   1  1.0   1  1.0  0.0  1.0  0.0  ...  1.0   9.0  NaN  59.0  15.0  22.0   1\n",
            "\n",
            "[5 rows x 50 columns] (165, 50)\n"
          ]
        }
      ]
    },
    {
      "cell_type": "markdown",
      "metadata": {
        "id": "VGgDb1O6pIUo"
      },
      "source": [
        "Το αρχείο text δεν χρειάστηκε κάποια μετατροπή για να εισαχθεί στο notebook. Βλέπουμε πως υπάρχουν 50 στήλες στο dataframe, το οποίο σημαίνει πως έχουμε 49 χαρακτηριστικά και 1 ετικέτα. Από την περιγραφή των χαρακτηριστικών στο UCI Repository βλέπουμε πως τα πρώτα 23 χαρακτηριστικά είναι μη διατεταγμένα (κατηγορικά) και είναι:\n",
        "* Gender (1: Άνδρας; 0: Γυναίκα)\n",
        "* Symptoms (1: Ναι; 0: Όχι)\n",
        "* Alcohol (1: Ναι; 0: Όχι)\n",
        "* Hepatitis B Surface Antigen (1: Ναι; 0: Όχι)\n",
        "* Hepatitis B e Antigen (1: Ναι; 0: Όχι)\n",
        "* Hepatitis B Core Antibody (1: Ναι; 0: Όχι)\n",
        "* Hepatitis C Virus Antibody (1: Ναι; 0: Όχι)\n",
        "* Cirrhosis (1: Ναι; 0: Όχι)\n",
        "* Endemic Countries (1: Ναι; 0: Όχι)\n",
        "* Smoking (1: Ναι; 0: Όχι)\n",
        "* Diabetes (1: Ναι; 0: Όχι)\n",
        "* Obesity (1: Ναι; 0: Όχι)\n",
        "* Hemochromatosis (1: Ναι; 0: Όχι)\n",
        "* Arterial Hypertension (1: Ναι; 0: Όχι)\n",
        "* Chronic Renal Insufficiency (1: Ναι; 0: Όχι)\n",
        "* Human Immunodeficiency Virus (1: Ναι; 0: Όχι)\n",
        "* Nonalcoholic Steatohepatitis (1: Ναι; 0: Όχι)\n",
        "* Esophageal Varices (1: Ναι; 0: Όχι)\n",
        "* Splenomegaly (1: Ναι; 0: Όχι)\n",
        "* Portal Hypertension (1: Ναι; 0: Όχι)\n",
        "* Portal Vein Thrombosis (1: Ναι; 0: Όχι)\n",
        "* Liver Metastasis (1: Ναι; 0: Όχι)\n",
        "* Radiological Hallmark  (1: Ναι; 0: Όχι)\n",
        "\n",
        "Το dataset δεν περιέχει επικεφαλίδες ούτε αρίθμηση σειρών. Οι ετικέτες των κλάσεων είναι στην 50η στήλη και λαμβάνουν τιμές 1 και 0, όπου το 1 εκφράζει την επιβίωση του ασθενή στον 1 χρόνο ενώ το 0 το αντίθετο."
      ]
    },
    {
      "cell_type": "code",
      "metadata": {
        "colab": {
          "base_uri": "https://localhost:8080/"
        },
        "id": "EdFYpN04sYW_",
        "outputId": "7a0d23c9-bb52-4a5d-f4a3-bfbdf0cea3ab"
      },
      "source": [
        "# find missing values\n",
        "print(\"Total missing values:\", df.isnull().sum(axis=1).sum())\n",
        "# find samples with missing values\n",
        "missing_samples = df.isnull().any(axis=1).sum()\n",
        "print(\"Number of samples with missing values: {} which represents {:.2f}% \\\n",
        "of total samples\".format(missing_samples, missing_samples/df.shape[0]*100))\n",
        "# find features with missing values\n",
        "missing_cols = df.isnull().sum(axis=0)\n",
        "missing_cols_percent = [\"{:.1f}%\".format(x/df.shape[0]*100) for x in missing_cols]\n",
        "print(\"Percentage of samples with missing features:\")\n",
        "for i in range(len(missing_cols_percent)-1):\n",
        "  print(\"Feature {}: {}\".format(i, missing_cols_percent[i]))"
      ],
      "execution_count": null,
      "outputs": [
        {
          "output_type": "stream",
          "name": "stdout",
          "text": [
            "Total missing values: 826\n",
            "Number of samples with missing values: 157 which represents 95.15% of total samples\n",
            "Percentage of samples with missing features:\n",
            "Feature 0: 0.0%\n",
            "Feature 1: 10.9%\n",
            "Feature 2: 0.0%\n",
            "Feature 3: 10.3%\n",
            "Feature 4: 23.6%\n",
            "Feature 5: 14.5%\n",
            "Feature 6: 5.5%\n",
            "Feature 7: 0.0%\n",
            "Feature 8: 23.6%\n",
            "Feature 9: 24.8%\n",
            "Feature 10: 1.8%\n",
            "Feature 11: 6.1%\n",
            "Feature 12: 13.9%\n",
            "Feature 13: 1.8%\n",
            "Feature 14: 1.2%\n",
            "Feature 15: 8.5%\n",
            "Feature 16: 13.3%\n",
            "Feature 17: 31.5%\n",
            "Feature 18: 9.1%\n",
            "Feature 19: 6.7%\n",
            "Feature 20: 1.8%\n",
            "Feature 21: 2.4%\n",
            "Feature 22: 1.2%\n",
            "Feature 23: 0.0%\n",
            "Feature 24: 29.1%\n",
            "Feature 25: 32.1%\n",
            "Feature 26: 0.0%\n",
            "Feature 27: 0.6%\n",
            "Feature 28: 1.2%\n",
            "Feature 29: 2.4%\n",
            "Feature 30: 4.8%\n",
            "Feature 31: 1.8%\n",
            "Feature 32: 1.8%\n",
            "Feature 33: 1.8%\n",
            "Feature 34: 1.8%\n",
            "Feature 35: 3.6%\n",
            "Feature 36: 3.0%\n",
            "Feature 37: 2.4%\n",
            "Feature 38: 1.8%\n",
            "Feature 39: 1.8%\n",
            "Feature 40: 1.8%\n",
            "Feature 41: 6.7%\n",
            "Feature 42: 4.2%\n",
            "Feature 43: 1.2%\n",
            "Feature 44: 12.1%\n",
            "Feature 45: 26.7%\n",
            "Feature 46: 47.9%\n",
            "Feature 47: 48.5%\n",
            "Feature 48: 48.5%\n"
          ]
        }
      ]
    },
    {
      "cell_type": "markdown",
      "metadata": {
        "id": "_Fb5ZW1TvKkC"
      },
      "source": [
        "Παρατηρούμε πως μας λείπουν 826 τιμές συνολικά. Δεδομένου ότι έχουμε 49 χαρακτηριστικά και 165 δείγματα μας λείπουν $\\frac{826}{49*165}*100\\% = 10.2\\%$ των τιμών του dataset. Επιπλέον, είδαμε πως πάνω από το 95% των δειγμάτων έχουν τουλάχιστον μία τιμή που απουσιάζει, οπότε δεν είναι δυνατή η αφαίρεση των δειγμάτων των οποίων οι τιμές απουσιάζουν. Επίσης είδαμε πως 7 από τα 49 χαρακτηριστικά απουσιάζουν για πάνω από το 25% των δειγμάτων, ενώ 3 εξ αυτών απουσιάζουν για περίπου τα μισά δείγματα."
      ]
    },
    {
      "cell_type": "code",
      "metadata": {
        "colab": {
          "base_uri": "https://localhost:8080/"
        },
        "id": "IR3tEJBAzyvS",
        "outputId": "f7cdec30-fd37-49e7-a760-06dea1a95d20"
      },
      "source": [
        "# count instances of each class\n",
        "class1 = df.iloc[:,49].sum()\n",
        "class0 = df.shape[0] - class1\n",
        "print(\"Class 0 has {} samples which represents {:.1f}% of all samples\".format\n",
        "      (class0, class0/df.shape[0]*100))\n",
        "print(\"Class 1 has {} samples which represents {:.1f}% of all samples\".format\n",
        "      (class1, class1/df.shape[0]*100))"
      ],
      "execution_count": null,
      "outputs": [
        {
          "output_type": "stream",
          "name": "stdout",
          "text": [
            "Class 0 has 63 samples which represents 38.2% of all samples\n",
            "Class 1 has 102 samples which represents 61.8% of all samples\n"
          ]
        }
      ]
    },
    {
      "cell_type": "markdown",
      "metadata": {
        "id": "XgZuG0nF1JLt"
      },
      "source": [
        "Παρατηρούμε πως η κλάση 1 (ο ασθενής ζει) αντιπροσωπεύει το 61.8% των δειγμάτων του dataset, έναντι του 38.2% που αντιστοιχεί στην κλάση 0 (ο ασθενής πεθαίνει). Αυτό σημαίνει πως το dataset δεν είναι ισορροπημένο και συνεπώς απαιτείται ειδικός χειρισμός για την αποτελεσματικότερη χρήση του."
      ]
    },
    {
      "cell_type": "code",
      "metadata": {
        "colab": {
          "base_uri": "https://localhost:8080/",
          "height": 226
        },
        "id": "7IPQItf92V0g",
        "outputId": "f6fd5248-5c82-454e-96a1-5aa1bbf8daf3"
      },
      "source": [
        "df.head()"
      ],
      "execution_count": null,
      "outputs": [
        {
          "output_type": "execute_result",
          "data": {
            "text/html": [
              "<div>\n",
              "<style scoped>\n",
              "    .dataframe tbody tr th:only-of-type {\n",
              "        vertical-align: middle;\n",
              "    }\n",
              "\n",
              "    .dataframe tbody tr th {\n",
              "        vertical-align: top;\n",
              "    }\n",
              "\n",
              "    .dataframe thead th {\n",
              "        text-align: right;\n",
              "    }\n",
              "</style>\n",
              "<table border=\"1\" class=\"dataframe\">\n",
              "  <thead>\n",
              "    <tr style=\"text-align: right;\">\n",
              "      <th></th>\n",
              "      <th>0</th>\n",
              "      <th>1</th>\n",
              "      <th>2</th>\n",
              "      <th>3</th>\n",
              "      <th>4</th>\n",
              "      <th>5</th>\n",
              "      <th>6</th>\n",
              "      <th>7</th>\n",
              "      <th>8</th>\n",
              "      <th>9</th>\n",
              "      <th>10</th>\n",
              "      <th>11</th>\n",
              "      <th>12</th>\n",
              "      <th>13</th>\n",
              "      <th>14</th>\n",
              "      <th>15</th>\n",
              "      <th>16</th>\n",
              "      <th>17</th>\n",
              "      <th>18</th>\n",
              "      <th>19</th>\n",
              "      <th>20</th>\n",
              "      <th>21</th>\n",
              "      <th>22</th>\n",
              "      <th>23</th>\n",
              "      <th>24</th>\n",
              "      <th>25</th>\n",
              "      <th>26</th>\n",
              "      <th>27</th>\n",
              "      <th>28</th>\n",
              "      <th>29</th>\n",
              "      <th>30</th>\n",
              "      <th>31</th>\n",
              "      <th>32</th>\n",
              "      <th>33</th>\n",
              "      <th>34</th>\n",
              "      <th>35</th>\n",
              "      <th>36</th>\n",
              "      <th>37</th>\n",
              "      <th>38</th>\n",
              "      <th>39</th>\n",
              "      <th>40</th>\n",
              "      <th>41</th>\n",
              "      <th>42</th>\n",
              "      <th>43</th>\n",
              "      <th>44</th>\n",
              "      <th>45</th>\n",
              "      <th>46</th>\n",
              "      <th>47</th>\n",
              "      <th>48</th>\n",
              "      <th>49</th>\n",
              "    </tr>\n",
              "  </thead>\n",
              "  <tbody>\n",
              "    <tr>\n",
              "      <th>0</th>\n",
              "      <td>1</td>\n",
              "      <td>0.0</td>\n",
              "      <td>1</td>\n",
              "      <td>0.0</td>\n",
              "      <td>0.0</td>\n",
              "      <td>0.0</td>\n",
              "      <td>0.0</td>\n",
              "      <td>1</td>\n",
              "      <td>0.0</td>\n",
              "      <td>1.0</td>\n",
              "      <td>1.0</td>\n",
              "      <td>NaN</td>\n",
              "      <td>1.0</td>\n",
              "      <td>0.0</td>\n",
              "      <td>0.0</td>\n",
              "      <td>0.0</td>\n",
              "      <td>0.0</td>\n",
              "      <td>1.0</td>\n",
              "      <td>0.0</td>\n",
              "      <td>0.0</td>\n",
              "      <td>0.0</td>\n",
              "      <td>0.0</td>\n",
              "      <td>1.0</td>\n",
              "      <td>67</td>\n",
              "      <td>137.0</td>\n",
              "      <td>15.0</td>\n",
              "      <td>0</td>\n",
              "      <td>1.0</td>\n",
              "      <td>1.0</td>\n",
              "      <td>1.53</td>\n",
              "      <td>95.0</td>\n",
              "      <td>13.7</td>\n",
              "      <td>106.6</td>\n",
              "      <td>4.9</td>\n",
              "      <td>99.0</td>\n",
              "      <td>3.4</td>\n",
              "      <td>2.1</td>\n",
              "      <td>34.0</td>\n",
              "      <td>41.0</td>\n",
              "      <td>183.0</td>\n",
              "      <td>150.0</td>\n",
              "      <td>7.1</td>\n",
              "      <td>0.70</td>\n",
              "      <td>1.0</td>\n",
              "      <td>3.5</td>\n",
              "      <td>0.5</td>\n",
              "      <td>NaN</td>\n",
              "      <td>NaN</td>\n",
              "      <td>NaN</td>\n",
              "      <td>1</td>\n",
              "    </tr>\n",
              "    <tr>\n",
              "      <th>1</th>\n",
              "      <td>0</td>\n",
              "      <td>NaN</td>\n",
              "      <td>0</td>\n",
              "      <td>0.0</td>\n",
              "      <td>0.0</td>\n",
              "      <td>0.0</td>\n",
              "      <td>1.0</td>\n",
              "      <td>1</td>\n",
              "      <td>NaN</td>\n",
              "      <td>NaN</td>\n",
              "      <td>1.0</td>\n",
              "      <td>0.0</td>\n",
              "      <td>0.0</td>\n",
              "      <td>1.0</td>\n",
              "      <td>0.0</td>\n",
              "      <td>0.0</td>\n",
              "      <td>0.0</td>\n",
              "      <td>1.0</td>\n",
              "      <td>0.0</td>\n",
              "      <td>0.0</td>\n",
              "      <td>0.0</td>\n",
              "      <td>0.0</td>\n",
              "      <td>1.0</td>\n",
              "      <td>62</td>\n",
              "      <td>0.0</td>\n",
              "      <td>NaN</td>\n",
              "      <td>0</td>\n",
              "      <td>1.0</td>\n",
              "      <td>1.0</td>\n",
              "      <td>NaN</td>\n",
              "      <td>NaN</td>\n",
              "      <td>NaN</td>\n",
              "      <td>NaN</td>\n",
              "      <td>NaN</td>\n",
              "      <td>NaN</td>\n",
              "      <td>NaN</td>\n",
              "      <td>NaN</td>\n",
              "      <td>NaN</td>\n",
              "      <td>NaN</td>\n",
              "      <td>NaN</td>\n",
              "      <td>NaN</td>\n",
              "      <td>NaN</td>\n",
              "      <td>NaN</td>\n",
              "      <td>1.0</td>\n",
              "      <td>1.8</td>\n",
              "      <td>NaN</td>\n",
              "      <td>NaN</td>\n",
              "      <td>NaN</td>\n",
              "      <td>NaN</td>\n",
              "      <td>1</td>\n",
              "    </tr>\n",
              "    <tr>\n",
              "      <th>2</th>\n",
              "      <td>1</td>\n",
              "      <td>0.0</td>\n",
              "      <td>1</td>\n",
              "      <td>1.0</td>\n",
              "      <td>0.0</td>\n",
              "      <td>1.0</td>\n",
              "      <td>0.0</td>\n",
              "      <td>1</td>\n",
              "      <td>0.0</td>\n",
              "      <td>1.0</td>\n",
              "      <td>0.0</td>\n",
              "      <td>0.0</td>\n",
              "      <td>0.0</td>\n",
              "      <td>1.0</td>\n",
              "      <td>1.0</td>\n",
              "      <td>0.0</td>\n",
              "      <td>0.0</td>\n",
              "      <td>0.0</td>\n",
              "      <td>0.0</td>\n",
              "      <td>1.0</td>\n",
              "      <td>0.0</td>\n",
              "      <td>1.0</td>\n",
              "      <td>1.0</td>\n",
              "      <td>78</td>\n",
              "      <td>50.0</td>\n",
              "      <td>50.0</td>\n",
              "      <td>2</td>\n",
              "      <td>1.0</td>\n",
              "      <td>2.0</td>\n",
              "      <td>0.96</td>\n",
              "      <td>5.8</td>\n",
              "      <td>8.9</td>\n",
              "      <td>79.8</td>\n",
              "      <td>8.4</td>\n",
              "      <td>472.0</td>\n",
              "      <td>3.3</td>\n",
              "      <td>0.4</td>\n",
              "      <td>58.0</td>\n",
              "      <td>68.0</td>\n",
              "      <td>202.0</td>\n",
              "      <td>109.0</td>\n",
              "      <td>7.0</td>\n",
              "      <td>2.10</td>\n",
              "      <td>5.0</td>\n",
              "      <td>13.0</td>\n",
              "      <td>0.1</td>\n",
              "      <td>28.0</td>\n",
              "      <td>6.0</td>\n",
              "      <td>16.0</td>\n",
              "      <td>1</td>\n",
              "    </tr>\n",
              "    <tr>\n",
              "      <th>3</th>\n",
              "      <td>1</td>\n",
              "      <td>1.0</td>\n",
              "      <td>1</td>\n",
              "      <td>0.0</td>\n",
              "      <td>0.0</td>\n",
              "      <td>0.0</td>\n",
              "      <td>0.0</td>\n",
              "      <td>1</td>\n",
              "      <td>0.0</td>\n",
              "      <td>1.0</td>\n",
              "      <td>1.0</td>\n",
              "      <td>0.0</td>\n",
              "      <td>0.0</td>\n",
              "      <td>1.0</td>\n",
              "      <td>0.0</td>\n",
              "      <td>0.0</td>\n",
              "      <td>0.0</td>\n",
              "      <td>0.0</td>\n",
              "      <td>0.0</td>\n",
              "      <td>0.0</td>\n",
              "      <td>0.0</td>\n",
              "      <td>1.0</td>\n",
              "      <td>1.0</td>\n",
              "      <td>77</td>\n",
              "      <td>40.0</td>\n",
              "      <td>30.0</td>\n",
              "      <td>0</td>\n",
              "      <td>1.0</td>\n",
              "      <td>1.0</td>\n",
              "      <td>0.95</td>\n",
              "      <td>2440.0</td>\n",
              "      <td>13.4</td>\n",
              "      <td>97.1</td>\n",
              "      <td>9.0</td>\n",
              "      <td>279.0</td>\n",
              "      <td>3.7</td>\n",
              "      <td>0.4</td>\n",
              "      <td>16.0</td>\n",
              "      <td>64.0</td>\n",
              "      <td>94.0</td>\n",
              "      <td>174.0</td>\n",
              "      <td>8.1</td>\n",
              "      <td>1.11</td>\n",
              "      <td>2.0</td>\n",
              "      <td>15.7</td>\n",
              "      <td>0.2</td>\n",
              "      <td>NaN</td>\n",
              "      <td>NaN</td>\n",
              "      <td>NaN</td>\n",
              "      <td>0</td>\n",
              "    </tr>\n",
              "    <tr>\n",
              "      <th>4</th>\n",
              "      <td>1</td>\n",
              "      <td>1.0</td>\n",
              "      <td>1</td>\n",
              "      <td>1.0</td>\n",
              "      <td>0.0</td>\n",
              "      <td>1.0</td>\n",
              "      <td>0.0</td>\n",
              "      <td>1</td>\n",
              "      <td>0.0</td>\n",
              "      <td>1.0</td>\n",
              "      <td>0.0</td>\n",
              "      <td>0.0</td>\n",
              "      <td>0.0</td>\n",
              "      <td>1.0</td>\n",
              "      <td>1.0</td>\n",
              "      <td>0.0</td>\n",
              "      <td>0.0</td>\n",
              "      <td>0.0</td>\n",
              "      <td>0.0</td>\n",
              "      <td>0.0</td>\n",
              "      <td>0.0</td>\n",
              "      <td>0.0</td>\n",
              "      <td>1.0</td>\n",
              "      <td>76</td>\n",
              "      <td>100.0</td>\n",
              "      <td>30.0</td>\n",
              "      <td>0</td>\n",
              "      <td>1.0</td>\n",
              "      <td>1.0</td>\n",
              "      <td>0.94</td>\n",
              "      <td>49.0</td>\n",
              "      <td>14.3</td>\n",
              "      <td>95.1</td>\n",
              "      <td>6.4</td>\n",
              "      <td>199.0</td>\n",
              "      <td>4.1</td>\n",
              "      <td>0.7</td>\n",
              "      <td>147.0</td>\n",
              "      <td>306.0</td>\n",
              "      <td>173.0</td>\n",
              "      <td>109.0</td>\n",
              "      <td>6.9</td>\n",
              "      <td>1.80</td>\n",
              "      <td>1.0</td>\n",
              "      <td>9.0</td>\n",
              "      <td>NaN</td>\n",
              "      <td>59.0</td>\n",
              "      <td>15.0</td>\n",
              "      <td>22.0</td>\n",
              "      <td>1</td>\n",
              "    </tr>\n",
              "  </tbody>\n",
              "</table>\n",
              "</div>"
            ],
            "text/plain": [
              "   0    1   2    3    4    5    6   ...   43    44   45    46    47    48  49\n",
              "0   1  0.0   1  0.0  0.0  0.0  0.0  ...  1.0   3.5  0.5   NaN   NaN   NaN   1\n",
              "1   0  NaN   0  0.0  0.0  0.0  1.0  ...  1.0   1.8  NaN   NaN   NaN   NaN   1\n",
              "2   1  0.0   1  1.0  0.0  1.0  0.0  ...  5.0  13.0  0.1  28.0   6.0  16.0   1\n",
              "3   1  1.0   1  0.0  0.0  0.0  0.0  ...  2.0  15.7  0.2   NaN   NaN   NaN   0\n",
              "4   1  1.0   1  1.0  0.0  1.0  0.0  ...  1.0   9.0  NaN  59.0  15.0  22.0   1\n",
              "\n",
              "[5 rows x 50 columns]"
            ]
          },
          "metadata": {},
          "execution_count": 5
        }
      ]
    },
    {
      "cell_type": "markdown",
      "metadata": {
        "id": "VUoqdAtd6xGQ"
      },
      "source": [
        "### Προετοιμασία δεδομένων"
      ]
    },
    {
      "cell_type": "markdown",
      "metadata": {
        "id": "scAQJeLh3Q_e"
      },
      "source": [
        "Χωρίζουμε το dataset σε δύο μέρη ώστε να δημιουργήσουμε τα train και test sets με το test set να αποτελεί το 30% των δειγμάτων."
      ]
    },
    {
      "cell_type": "code",
      "metadata": {
        "id": "qLxW53Q22NTt"
      },
      "source": [
        "# differentiate labels from features\n",
        "X_df = df.iloc[:,:49].copy()\n",
        "y_df = df.iloc[:,49].copy()\n",
        "\n",
        "# create train and test sets\n",
        "X_train, X_test, y_train, y_test = train_test_split(X_df, y_df, test_size=.3)"
      ],
      "execution_count": null,
      "outputs": []
    },
    {
      "cell_type": "markdown",
      "metadata": {
        "id": "0BmIQ-Eg36BI"
      },
      "source": [
        "Επειδή όπως δείξαμε παραπάνω στα features 46, 47 και 48 λείπουν οι τιμές για περίπου τα μισά δείγματα, η συμπλήρωσή τους δεν αποτελεί καλή πρακτική και για τον λόγο αυτό τα αφαιρούμε από τα δεδομένα μας."
      ]
    },
    {
      "cell_type": "code",
      "metadata": {
        "colab": {
          "base_uri": "https://localhost:8080/",
          "height": 226
        },
        "id": "9KR5J3m04dHM",
        "outputId": "fe2af00e-b527-4ebd-a96f-496bc9a6a023"
      },
      "source": [
        "X_train.drop([46, 47, 48], axis=1, inplace=True)\n",
        "X_test.drop([46, 47, 48], axis=1, inplace=True)\n",
        "X_train.head()"
      ],
      "execution_count": null,
      "outputs": [
        {
          "output_type": "execute_result",
          "data": {
            "text/html": [
              "<div>\n",
              "<style scoped>\n",
              "    .dataframe tbody tr th:only-of-type {\n",
              "        vertical-align: middle;\n",
              "    }\n",
              "\n",
              "    .dataframe tbody tr th {\n",
              "        vertical-align: top;\n",
              "    }\n",
              "\n",
              "    .dataframe thead th {\n",
              "        text-align: right;\n",
              "    }\n",
              "</style>\n",
              "<table border=\"1\" class=\"dataframe\">\n",
              "  <thead>\n",
              "    <tr style=\"text-align: right;\">\n",
              "      <th></th>\n",
              "      <th>0</th>\n",
              "      <th>1</th>\n",
              "      <th>2</th>\n",
              "      <th>3</th>\n",
              "      <th>4</th>\n",
              "      <th>5</th>\n",
              "      <th>6</th>\n",
              "      <th>7</th>\n",
              "      <th>8</th>\n",
              "      <th>9</th>\n",
              "      <th>10</th>\n",
              "      <th>11</th>\n",
              "      <th>12</th>\n",
              "      <th>13</th>\n",
              "      <th>14</th>\n",
              "      <th>15</th>\n",
              "      <th>16</th>\n",
              "      <th>17</th>\n",
              "      <th>18</th>\n",
              "      <th>19</th>\n",
              "      <th>20</th>\n",
              "      <th>21</th>\n",
              "      <th>22</th>\n",
              "      <th>23</th>\n",
              "      <th>24</th>\n",
              "      <th>25</th>\n",
              "      <th>26</th>\n",
              "      <th>27</th>\n",
              "      <th>28</th>\n",
              "      <th>29</th>\n",
              "      <th>30</th>\n",
              "      <th>31</th>\n",
              "      <th>32</th>\n",
              "      <th>33</th>\n",
              "      <th>34</th>\n",
              "      <th>35</th>\n",
              "      <th>36</th>\n",
              "      <th>37</th>\n",
              "      <th>38</th>\n",
              "      <th>39</th>\n",
              "      <th>40</th>\n",
              "      <th>41</th>\n",
              "      <th>42</th>\n",
              "      <th>43</th>\n",
              "      <th>44</th>\n",
              "      <th>45</th>\n",
              "    </tr>\n",
              "  </thead>\n",
              "  <tbody>\n",
              "    <tr>\n",
              "      <th>102</th>\n",
              "      <td>1</td>\n",
              "      <td>1.0</td>\n",
              "      <td>1</td>\n",
              "      <td>0.0</td>\n",
              "      <td>0.0</td>\n",
              "      <td>0.0</td>\n",
              "      <td>0.0</td>\n",
              "      <td>1</td>\n",
              "      <td>0.0</td>\n",
              "      <td>NaN</td>\n",
              "      <td>0.0</td>\n",
              "      <td>0.0</td>\n",
              "      <td>0.0</td>\n",
              "      <td>1.0</td>\n",
              "      <td>0.0</td>\n",
              "      <td>0.0</td>\n",
              "      <td>NaN</td>\n",
              "      <td>1.0</td>\n",
              "      <td>1.0</td>\n",
              "      <td>1.0</td>\n",
              "      <td>0.0</td>\n",
              "      <td>0.0</td>\n",
              "      <td>1.0</td>\n",
              "      <td>64</td>\n",
              "      <td>70.0</td>\n",
              "      <td>NaN</td>\n",
              "      <td>2</td>\n",
              "      <td>1.0</td>\n",
              "      <td>2.0</td>\n",
              "      <td>1.55</td>\n",
              "      <td>5.7</td>\n",
              "      <td>13.9</td>\n",
              "      <td>99.7</td>\n",
              "      <td>5200.0</td>\n",
              "      <td>124000.0</td>\n",
              "      <td>2.1</td>\n",
              "      <td>0.8</td>\n",
              "      <td>37.0</td>\n",
              "      <td>75.0</td>\n",
              "      <td>203.0</td>\n",
              "      <td>110.0</td>\n",
              "      <td>5.0</td>\n",
              "      <td>0.56</td>\n",
              "      <td>3.0</td>\n",
              "      <td>2.4</td>\n",
              "      <td>NaN</td>\n",
              "    </tr>\n",
              "    <tr>\n",
              "      <th>60</th>\n",
              "      <td>1</td>\n",
              "      <td>1.0</td>\n",
              "      <td>0</td>\n",
              "      <td>1.0</td>\n",
              "      <td>0.0</td>\n",
              "      <td>1.0</td>\n",
              "      <td>0.0</td>\n",
              "      <td>1</td>\n",
              "      <td>1.0</td>\n",
              "      <td>1.0</td>\n",
              "      <td>0.0</td>\n",
              "      <td>0.0</td>\n",
              "      <td>0.0</td>\n",
              "      <td>0.0</td>\n",
              "      <td>0.0</td>\n",
              "      <td>0.0</td>\n",
              "      <td>0.0</td>\n",
              "      <td>1.0</td>\n",
              "      <td>1.0</td>\n",
              "      <td>1.0</td>\n",
              "      <td>1.0</td>\n",
              "      <td>0.0</td>\n",
              "      <td>1.0</td>\n",
              "      <td>76</td>\n",
              "      <td>0.0</td>\n",
              "      <td>50.0</td>\n",
              "      <td>1</td>\n",
              "      <td>1.0</td>\n",
              "      <td>3.0</td>\n",
              "      <td>1.28</td>\n",
              "      <td>608.0</td>\n",
              "      <td>12.6</td>\n",
              "      <td>100.0</td>\n",
              "      <td>5.4</td>\n",
              "      <td>129.0</td>\n",
              "      <td>4.0</td>\n",
              "      <td>1.7</td>\n",
              "      <td>107.0</td>\n",
              "      <td>99.0</td>\n",
              "      <td>125.0</td>\n",
              "      <td>100.0</td>\n",
              "      <td>7.5</td>\n",
              "      <td>0.90</td>\n",
              "      <td>5.0</td>\n",
              "      <td>3.5</td>\n",
              "      <td>0.5</td>\n",
              "    </tr>\n",
              "    <tr>\n",
              "      <th>31</th>\n",
              "      <td>1</td>\n",
              "      <td>0.0</td>\n",
              "      <td>1</td>\n",
              "      <td>0.0</td>\n",
              "      <td>NaN</td>\n",
              "      <td>0.0</td>\n",
              "      <td>0.0</td>\n",
              "      <td>1</td>\n",
              "      <td>NaN</td>\n",
              "      <td>1.0</td>\n",
              "      <td>1.0</td>\n",
              "      <td>NaN</td>\n",
              "      <td>0.0</td>\n",
              "      <td>1.0</td>\n",
              "      <td>0.0</td>\n",
              "      <td>0.0</td>\n",
              "      <td>0.0</td>\n",
              "      <td>1.0</td>\n",
              "      <td>1.0</td>\n",
              "      <td>1.0</td>\n",
              "      <td>0.0</td>\n",
              "      <td>0.0</td>\n",
              "      <td>1.0</td>\n",
              "      <td>62</td>\n",
              "      <td>120.0</td>\n",
              "      <td>NaN</td>\n",
              "      <td>0</td>\n",
              "      <td>1.0</td>\n",
              "      <td>1.0</td>\n",
              "      <td>1.44</td>\n",
              "      <td>1237.0</td>\n",
              "      <td>12.2</td>\n",
              "      <td>94.0</td>\n",
              "      <td>6200.0</td>\n",
              "      <td>93000.0</td>\n",
              "      <td>4.2</td>\n",
              "      <td>1.0</td>\n",
              "      <td>35.0</td>\n",
              "      <td>85.0</td>\n",
              "      <td>191.0</td>\n",
              "      <td>129.0</td>\n",
              "      <td>58.0</td>\n",
              "      <td>1.06</td>\n",
              "      <td>5.0</td>\n",
              "      <td>7.0</td>\n",
              "      <td>NaN</td>\n",
              "    </tr>\n",
              "    <tr>\n",
              "      <th>37</th>\n",
              "      <td>1</td>\n",
              "      <td>1.0</td>\n",
              "      <td>1</td>\n",
              "      <td>0.0</td>\n",
              "      <td>0.0</td>\n",
              "      <td>0.0</td>\n",
              "      <td>0.0</td>\n",
              "      <td>1</td>\n",
              "      <td>NaN</td>\n",
              "      <td>1.0</td>\n",
              "      <td>1.0</td>\n",
              "      <td>0.0</td>\n",
              "      <td>NaN</td>\n",
              "      <td>1.0</td>\n",
              "      <td>0.0</td>\n",
              "      <td>0.0</td>\n",
              "      <td>NaN</td>\n",
              "      <td>NaN</td>\n",
              "      <td>0.0</td>\n",
              "      <td>1.0</td>\n",
              "      <td>0.0</td>\n",
              "      <td>0.0</td>\n",
              "      <td>1.0</td>\n",
              "      <td>84</td>\n",
              "      <td>200.0</td>\n",
              "      <td>30.0</td>\n",
              "      <td>1</td>\n",
              "      <td>1.0</td>\n",
              "      <td>2.0</td>\n",
              "      <td>1.24</td>\n",
              "      <td>633.0</td>\n",
              "      <td>13.0</td>\n",
              "      <td>96.5</td>\n",
              "      <td>7200.0</td>\n",
              "      <td>143000.0</td>\n",
              "      <td>2.3</td>\n",
              "      <td>1.1</td>\n",
              "      <td>40.0</td>\n",
              "      <td>58.0</td>\n",
              "      <td>322.0</td>\n",
              "      <td>209.0</td>\n",
              "      <td>6.7</td>\n",
              "      <td>1.40</td>\n",
              "      <td>5.0</td>\n",
              "      <td>4.9</td>\n",
              "      <td>0.2</td>\n",
              "    </tr>\n",
              "    <tr>\n",
              "      <th>33</th>\n",
              "      <td>1</td>\n",
              "      <td>1.0</td>\n",
              "      <td>1</td>\n",
              "      <td>0.0</td>\n",
              "      <td>NaN</td>\n",
              "      <td>0.0</td>\n",
              "      <td>0.0</td>\n",
              "      <td>1</td>\n",
              "      <td>NaN</td>\n",
              "      <td>NaN</td>\n",
              "      <td>0.0</td>\n",
              "      <td>0.0</td>\n",
              "      <td>0.0</td>\n",
              "      <td>1.0</td>\n",
              "      <td>0.0</td>\n",
              "      <td>0.0</td>\n",
              "      <td>NaN</td>\n",
              "      <td>0.0</td>\n",
              "      <td>0.0</td>\n",
              "      <td>0.0</td>\n",
              "      <td>0.0</td>\n",
              "      <td>0.0</td>\n",
              "      <td>1.0</td>\n",
              "      <td>77</td>\n",
              "      <td>NaN</td>\n",
              "      <td>NaN</td>\n",
              "      <td>0</td>\n",
              "      <td>1.0</td>\n",
              "      <td>1.0</td>\n",
              "      <td>1.24</td>\n",
              "      <td>266.0</td>\n",
              "      <td>13.7</td>\n",
              "      <td>97.7</td>\n",
              "      <td>13000.0</td>\n",
              "      <td>170000.0</td>\n",
              "      <td>4.2</td>\n",
              "      <td>0.5</td>\n",
              "      <td>68.0</td>\n",
              "      <td>85.0</td>\n",
              "      <td>232.0</td>\n",
              "      <td>227.0</td>\n",
              "      <td>16.8</td>\n",
              "      <td>1.72</td>\n",
              "      <td>1.0</td>\n",
              "      <td>5.9</td>\n",
              "      <td>NaN</td>\n",
              "    </tr>\n",
              "  </tbody>\n",
              "</table>\n",
              "</div>"
            ],
            "text/plain": [
              "     0    1   2    3    4    5    6   ...     39     40    41    42   43   44   45\n",
              "102   1  1.0   1  0.0  0.0  0.0  0.0  ...  203.0  110.0   5.0  0.56  3.0  2.4  NaN\n",
              "60    1  1.0   0  1.0  0.0  1.0  0.0  ...  125.0  100.0   7.5  0.90  5.0  3.5  0.5\n",
              "31    1  0.0   1  0.0  NaN  0.0  0.0  ...  191.0  129.0  58.0  1.06  5.0  7.0  NaN\n",
              "37    1  1.0   1  0.0  0.0  0.0  0.0  ...  322.0  209.0   6.7  1.40  5.0  4.9  0.2\n",
              "33    1  1.0   1  0.0  NaN  0.0  0.0  ...  232.0  227.0  16.8  1.72  1.0  5.9  NaN\n",
              "\n",
              "[5 rows x 46 columns]"
            ]
          },
          "metadata": {},
          "execution_count": 7
        }
      ]
    },
    {
      "cell_type": "markdown",
      "metadata": {
        "id": "ICISiaQg5IBq"
      },
      "source": [
        "Εφόσον τα features 0-22 είναι categorical επιλέγουμε να τα συμπληρώσουμε με τις πιο συχνές τιμές για κάθε feature στο training set, ενώ την ίδια τιμή συμπληρώνουμε και στο test set, αφού όποια αλλαγή κάνουμε στα δεδομένα μας πρέπει να γίνεται με βάση την επεξεργασία μόνο των δεδομένων στο training set."
      ]
    },
    {
      "cell_type": "markdown",
      "metadata": {
        "id": "A52We-p47SFh"
      },
      "source": [
        "Για τα υπόλοιπα features θα αντικαταστήσουμε τον μέσο όρο των τιμών στο training set."
      ]
    },
    {
      "cell_type": "code",
      "metadata": {
        "id": "wRICCCQX54gN"
      },
      "source": [
        "imp_freq = SimpleImputer(missing_values=np.nan, strategy=\"most_frequent\")\n",
        "imp_mean = SimpleImputer(missing_values=np.nan, strategy=\"mean\")"
      ],
      "execution_count": null,
      "outputs": []
    },
    {
      "cell_type": "code",
      "metadata": {
        "id": "QSXqwIcx7_ZO"
      },
      "source": [
        "X_train.iloc[:,:23] = imp_freq.fit_transform(X_train.iloc[:,:23])\n",
        "X_train.iloc[:,23:] = imp_mean.fit_transform(X_train.iloc[:,23:])"
      ],
      "execution_count": null,
      "outputs": []
    },
    {
      "cell_type": "markdown",
      "metadata": {
        "id": "7jQT-IKg5GJN"
      },
      "source": [
        "Επιβεβαιώνουμε πως δεν υπάρχουν πλέον κενά πεδία στο training set."
      ]
    },
    {
      "cell_type": "code",
      "metadata": {
        "colab": {
          "base_uri": "https://localhost:8080/"
        },
        "id": "H9V7-bD99BCl",
        "outputId": "38fe6993-b8ce-490a-e2cc-fa7114f1c17e"
      },
      "source": [
        "X_train.isnull().any().any()"
      ],
      "execution_count": null,
      "outputs": [
        {
          "output_type": "execute_result",
          "data": {
            "text/plain": [
              "False"
            ]
          },
          "metadata": {},
          "execution_count": 10
        }
      ]
    },
    {
      "cell_type": "markdown",
      "metadata": {
        "id": "g0O19q3B5rLs"
      },
      "source": [
        "Τα κατηγορικά δεδομένα δεν χρειάζεται να τα τροποποιήσουμε με κάποια τεχνική (π.χ. one-hot encoding) διότι ήδη βρίσκονται σε μορφή Ναι-Όχι (με το 1 να αναπαριστά το \"Ναι\" και το 0 το \"Όχι\")."
      ]
    },
    {
      "cell_type": "markdown",
      "metadata": {
        "id": "7kN9LGVQ6mTZ"
      },
      "source": [
        "Επαναλαμβάνουμε με τα δεδομένα του test set χρησιμοποιόντας πληροφορία αποκλειστικά από τα δεδομένα του training set ώστε να μην έχουμε απουσιάζουσες τιμές."
      ]
    },
    {
      "cell_type": "code",
      "metadata": {
        "id": "BvxQUtQ55qo5"
      },
      "source": [
        "X_test.iloc[:,:23] = imp_freq.transform(X_test.iloc[:,:23])\n",
        "X_test.iloc[:,23:] = imp_mean.transform(X_test.iloc[:,23:])"
      ],
      "execution_count": null,
      "outputs": []
    },
    {
      "cell_type": "markdown",
      "metadata": {
        "id": "xZGAry-G73wE"
      },
      "source": [
        "Ελέγχουμε ξανά για κενά πεδία."
      ]
    },
    {
      "cell_type": "code",
      "metadata": {
        "colab": {
          "base_uri": "https://localhost:8080/"
        },
        "id": "rpzsj9kz73YH",
        "outputId": "0ad43759-28ec-4d86-85c9-359d33bc3597"
      },
      "source": [
        "X_test.isnull().any().any()"
      ],
      "execution_count": null,
      "outputs": [
        {
          "output_type": "execute_result",
          "data": {
            "text/plain": [
              "False"
            ]
          },
          "metadata": {},
          "execution_count": 12
        }
      ]
    },
    {
      "cell_type": "markdown",
      "metadata": {
        "id": "H8B58JOU8Cmq"
      },
      "source": [
        "### Ταξινόμηση\n",
        "Οι ταξινομητές που θα μελετηθούν είναι οι:\n",
        "* dummy\n",
        "* Gaussian Naive Bayes (GNB)\n",
        "* KNearestNeighbors (kNN)\n",
        "* Logistic Regression (LR)\n",
        "\n",
        "Οι μετρικές αξιολόγησης που θα χρησιμοποιηθούν είναι οι:\n",
        "* Ορθότητα (accuracy)\n",
        "* F1-score\n",
        "\n",
        "Για όλα τα πειράματα θα χρησιμοποιήσουμε 10-fold cross-validation."
      ]
    },
    {
      "cell_type": "markdown",
      "metadata": {
        "id": "EjG-vbY1_U7E"
      },
      "source": [
        "#### Επίδοση out-of-the-box\n",
        "Για να έχουμε μία βάση σύγκρισης θα εκτελέσουμε αρχικά το πείραμα αφήνοντας τις υπερπαραμέτρους των ταξινομητών στις default τιμές τους."
      ]
    },
    {
      "cell_type": "markdown",
      "metadata": {
        "id": "-LvCjrZmBHX3"
      },
      "source": [
        "Αρχικά ορίζουμε τους ταξινομητές."
      ]
    },
    {
      "cell_type": "code",
      "metadata": {
        "id": "A7dy3Ep1_9zx"
      },
      "source": [
        "dummy_stratified = DummyClassifier(strategy=\"stratified\")\n",
        "dummy_most_frequent = DummyClassifier(strategy=\"most_frequent\")\n",
        "dummy_uniform = DummyClassifier(strategy=\"uniform\")\n",
        "dummy_const_0 = DummyClassifier(strategy=\"constant\", constant=0)\n",
        "dummy_const_1 = DummyClassifier(strategy=\"constant\", constant=1)\n",
        "\n",
        "gnb = GaussianNB()\n",
        "knn = KNeighborsClassifier()\n",
        "lr = LogisticRegression()"
      ],
      "execution_count": null,
      "outputs": []
    },
    {
      "cell_type": "markdown",
      "metadata": {
        "id": "fuDL9HzBBhGj"
      },
      "source": [
        "Στη συνέχεια εκπαιδεύουμε τους ταξινομητές και συγκρίνουμε τα αποτελέσματά τους."
      ]
    },
    {
      "cell_type": "code",
      "metadata": {
        "colab": {
          "base_uri": "https://localhost:8080/"
        },
        "id": "qZOKAhd0CJBe",
        "outputId": "8257ca3f-5584-42ca-edd7-2eebe38a159d"
      },
      "source": [
        "ootb_accuracy = {}\n",
        "\n",
        "dummy_stratified.fit(X_train, y_train)\n",
        "ootb_accuracy[\"Dummy Classifier (stratified)\"] = accuracy_score(y_test, dummy_stratified.predict(X_test))\n",
        "dummy_most_frequent.fit(X_train, y_train)\n",
        "ootb_accuracy[\"Dummy Classifier (most frequent)\"] = accuracy_score(y_test, dummy_most_frequent.predict(X_test))\n",
        "dummy_uniform.fit(X_train, y_train)\n",
        "ootb_accuracy[\"Dummy Classifier (uniform)\"] = accuracy_score(y_test, dummy_uniform.predict(X_test))\n",
        "dummy_const_0.fit(X_train, y_train)\n",
        "ootb_accuracy[\"Dummy Classifier (constant 0)\"] = accuracy_score(y_test, dummy_const_0.predict(X_test))\n",
        "dummy_const_1.fit(X_train, y_train)\n",
        "ootb_accuracy[\"Dummy Classifier (constant 1)\"] = accuracy_score(y_test, dummy_const_1.predict(X_test))\n",
        "\n",
        "gnb.fit(X_train, y_train)\n",
        "ootb_accuracy[\"Gaussian Naive-Bayes\"] = accuracy_score(y_test, gnb.predict(X_test))\n",
        "knn.fit(X_train, y_train)\n",
        "ootb_accuracy[\"K Nearest Neighbors\"] = accuracy_score(y_test, knn.predict(X_test))\n",
        "lr.fit(X_train, y_train)\n",
        "ootb_accuracy[\"Logistic Regression\"] = accuracy_score(y_test, lr.predict(X_test))"
      ],
      "execution_count": null,
      "outputs": [
        {
          "output_type": "stream",
          "name": "stderr",
          "text": [
            "/usr/local/lib/python3.7/dist-packages/sklearn/linear_model/_logistic.py:818: ConvergenceWarning: lbfgs failed to converge (status=1):\n",
            "STOP: TOTAL NO. of ITERATIONS REACHED LIMIT.\n",
            "\n",
            "Increase the number of iterations (max_iter) or scale the data as shown in:\n",
            "    https://scikit-learn.org/stable/modules/preprocessing.html\n",
            "Please also refer to the documentation for alternative solver options:\n",
            "    https://scikit-learn.org/stable/modules/linear_model.html#logistic-regression\n",
            "  extra_warning_msg=_LOGISTIC_SOLVER_CONVERGENCE_MSG,\n"
          ]
        }
      ]
    },
    {
      "cell_type": "markdown",
      "metadata": {
        "id": "9jtRvPRlweUg"
      },
      "source": [
        "Παρατηρούμε πως ο ταξινομητής logistic regression δεν συγκλίνει κατά την εκπαίδευσή του στην out-of-the-box έκδοσή του."
      ]
    },
    {
      "cell_type": "code",
      "metadata": {
        "colab": {
          "base_uri": "https://localhost:8080/",
          "height": 301
        },
        "id": "-1i5hqwmHliw",
        "outputId": "5afc89dd-15b7-450a-a9c0-bdaeb0eed839"
      },
      "source": [
        "sorted_accuracy = [(k, ootb_accuracy[k]) for k in sorted(ootb_accuracy, key=ootb_accuracy.get, reverse=True)]\n",
        "acc_df = pd.DataFrame.from_dict(sorted_accuracy)\n",
        "\n",
        "sns.set_theme(style=\"whitegrid\")\n",
        "sns.barplot(y=acc_df.iloc[:,0], x=acc_df.iloc[:,1], data=acc_df)\n",
        "plt.xlabel(\"Accuracy\")\n",
        "plt.ylabel(\"Estimator\")\n",
        "plt.title(\"Accuracy scores for out-of-the-box estimators (30% test set)\")\n",
        "plt.show()"
      ],
      "execution_count": null,
      "outputs": [
        {
          "output_type": "display_data",
          "data": {
            "image/png": "[encoded data removed]",
            "text/plain": [
              "<Figure size 432x288 with 1 Axes>"
            ]
          },
          "metadata": {}
        }
      ]
    },
    {
      "cell_type": "code",
      "metadata": {
        "colab": {
          "base_uri": "https://localhost:8080/"
        },
        "id": "m1atL1ZSKUOw",
        "outputId": "6aff725a-2d81-4ac8-9aca-dbfff0aba255"
      },
      "source": [
        "ootb_f1 = {}\n",
        "\n",
        "dummy_stratified.fit(X_train, y_train)\n",
        "ootb_f1[\"Dummy Classifier (stratified)\"] = f1_score(y_test, dummy_stratified.predict(X_test))\n",
        "dummy_most_frequent.fit(X_train, y_train)\n",
        "ootb_f1[\"Dummy Classifier (most frequent)\"] = f1_score(y_test, dummy_most_frequent.predict(X_test))\n",
        "dummy_uniform.fit(X_train, y_train)\n",
        "ootb_f1[\"Dummy Classifier (uniform)\"] = f1_score(y_test, dummy_uniform.predict(X_test))\n",
        "dummy_const_0.fit(X_train, y_train)\n",
        "ootb_f1[\"Dummy Classifier (constant 0)\"] = f1_score(y_test, dummy_const_0.predict(X_test))\n",
        "dummy_const_1.fit(X_train, y_train)\n",
        "ootb_f1[\"Dummy Classifier (constant 1)\"] = f1_score(y_test, dummy_const_1.predict(X_test))\n",
        "\n",
        "gnb.fit(X_train, y_train)\n",
        "ootb_f1[\"Gaussian Naive-Bayes\"] = f1_score(y_test, gnb.predict(X_test))\n",
        "knn.fit(X_train, y_train)\n",
        "ootb_f1[\"K Nearest Neighbors\"] = f1_score(y_test, knn.predict(X_test))\n",
        "lr.fit(X_train, y_train)\n",
        "ootb_f1[\"Logistic Regression\"] = f1_score(y_test, lr.predict(X_test))"
      ],
      "execution_count": null,
      "outputs": [
        {
          "output_type": "stream",
          "name": "stderr",
          "text": [
            "/usr/local/lib/python3.7/dist-packages/sklearn/linear_model/_logistic.py:818: ConvergenceWarning: lbfgs failed to converge (status=1):\n",
            "STOP: TOTAL NO. of ITERATIONS REACHED LIMIT.\n",
            "\n",
            "Increase the number of iterations (max_iter) or scale the data as shown in:\n",
            "    https://scikit-learn.org/stable/modules/preprocessing.html\n",
            "Please also refer to the documentation for alternative solver options:\n",
            "    https://scikit-learn.org/stable/modules/linear_model.html#logistic-regression\n",
            "  extra_warning_msg=_LOGISTIC_SOLVER_CONVERGENCE_MSG,\n"
          ]
        }
      ]
    },
    {
      "cell_type": "markdown",
      "metadata": {
        "id": "oVn0Bd0kwqUm"
      },
      "source": [
        "Ξανά, ο logistic regression δεν καταφέρει να συγκλίνει στην εκπαίδευσή του."
      ]
    },
    {
      "cell_type": "code",
      "metadata": {
        "colab": {
          "base_uri": "https://localhost:8080/",
          "height": 301
        },
        "id": "hnvmAbf0KXTQ",
        "outputId": "8178affc-2c56-44f2-dcc2-ca153c0a385d"
      },
      "source": [
        "sorted_f1 = [(k, ootb_f1[k]) for k in sorted(ootb_f1, key=ootb_f1.get, reverse=True)]\n",
        "f1_df = pd.DataFrame.from_dict(sorted_f1)\n",
        "\n",
        "sns.set_theme(style=\"whitegrid\")\n",
        "sns.barplot(y=f1_df.iloc[:,0], x=f1_df.iloc[:,1], data=f1_df)\n",
        "plt.xlabel(\"F1 score\")\n",
        "plt.ylabel(\"Estimator\")\n",
        "plt.title(\"F1 scores for out-of-the-box estimators (30% test set)\")\n",
        "plt.show()"
      ],
      "execution_count": null,
      "outputs": [
        {
          "output_type": "display_data",
          "data": {
            "image/png": "[encoded data removed]",
            "text/plain": [
              "<Figure size 432x288 with 1 Axes>"
            ]
          },
          "metadata": {}
        }
      ]
    },
    {
      "cell_type": "code",
      "metadata": {
        "colab": {
          "base_uri": "https://localhost:8080/"
        },
        "id": "d4VBLez3JFXO",
        "outputId": "1117f4fc-7c09-4c12-a9eb-7513dc5c8307"
      },
      "source": [
        "print(ootb_accuracy)\n",
        "print(ootb_f1)"
      ],
      "execution_count": null,
      "outputs": [
        {
          "output_type": "stream",
          "name": "stdout",
          "text": [
            "{'Dummy Classifier (stratified)': 0.46, 'Dummy Classifier (most frequent)': 0.54, 'Dummy Classifier (uniform)': 0.6, 'Dummy Classifier (constant 0)': 0.46, 'Dummy Classifier (constant 1)': 0.54, 'Gaussian Naive-Bayes': 0.68, 'K Nearest Neighbors': 0.6, 'Logistic Regression': 0.64}\n",
            "{'Dummy Classifier (stratified)': 0.5454545454545454, 'Dummy Classifier (most frequent)': 0.7012987012987013, 'Dummy Classifier (uniform)': 0.49056603773584906, 'Dummy Classifier (constant 0)': 0.0, 'Dummy Classifier (constant 1)': 0.7012987012987013, 'Gaussian Naive-Bayes': 0.7419354838709677, 'K Nearest Neighbors': 0.7142857142857142, 'Logistic Regression': 0.7187499999999999}\n"
          ]
        }
      ]
    },
    {
      "cell_type": "markdown",
      "metadata": {
        "id": "99HKwwnBJ8fG"
      },
      "source": [
        "|       Classifier      | Accuracy | F1 score |\n",
        "|:---------------------:|:--------:|:--------:|\n",
        "| Dummy (most frequent) |   0.54   |   0.70   |\n",
        "|   Dummy (constant 1)  |   0.54   |   0.70   |\n",
        "|   Dummy (stratified)  |   0.46   |   0.55   |\n",
        "|    Dummy (uniform)    |   0.60   |   0.49   |\n",
        "|   Dummy (constant 0)  |   0.46   |   0.00   |\n",
        "|  Logistic Regression  |   0.64   |   0.74   |\n",
        "|  Gaussian Naive-Bayes |   0.68   |   0.74   |\n",
        "|  K Nearest Neighbors  |   0.60   |   0.71   |"
      ]
    },
    {
      "cell_type": "markdown",
      "metadata": {
        "id": "_MCmH8vcH0iV"
      },
      "source": [
        "Παρατηρούμε πως οι ταξινομητές δεν έχουν ιδιαίτερα καλή επίδοση, καθώς οι dummy ταξινομητές uniform και most frequent έχουν αρκετά υψηλές επιδόσεις, συγκρίσιμες με αυτές των ταξινομητών που μελετάμε. Οι καλές επιδόσεις των dummy ταξινομητών οφείλονται στο έντονο class imbalance που εμφανίζεται στο dataset."
      ]
    },
    {
      "cell_type": "markdown",
      "metadata": {
        "id": "VGbUu6QGM9Ei"
      },
      "source": [
        "Από τους ταξινομητές, εξαιρώντας τους dummy, τις καλύτερες επιδόσεις και στις δύο μετρικές έχει ο Gaussian Naive-Bayes, ενώ αυτός με τις χειρότερες επιδόσεις είναι ο K Nearest Neighbors. "
      ]
    },
    {
      "cell_type": "markdown",
      "metadata": {
        "id": "Ox5TaGeMvU_q"
      },
      "source": [
        "#### Βελτιστοποίηση"
      ]
    },
    {
      "cell_type": "markdown",
      "metadata": {
        "id": "QEAQ2EHlpc4_"
      },
      "source": [
        "Σκοπός αυτής της ενότητας είναι η βελτίωση της επίδοσης των ταξινομητών με χρήση των διαδικασιών προεπεξεργασίας, ορισμού pipelines και εύρεσης βέλτιστων υπερπαραμέτρων με grid search με cross validation."
      ]
    },
    {
      "cell_type": "markdown",
      "metadata": {
        "id": "DO1mib7lsEAo"
      },
      "source": [
        "Στο στάδιο της προεπεξεργασίας έχουμε να αντιμετωπίσουμε τα προβλήματα της υψηλής διαστατικότητας, των outliers και του class imbalance. \n",
        "* Ξεκινώντας από το πρώτο, μπορούμε να μειώσουμε τις διαστάσεις των δεδομένων μας αρχικά ορίζοντας κάποιο threshold του variance κάθε χαρακτηριστικού, καθώς χαρακτηριστικά με μικρό variance συνήθως δεν συμβάλλουν σημαντικά στην ταξινόμηση. Επιπλέον, με εξαγωγή κύριων συνιστωσών (PCA) μπορούμε να μειώσουμε ακόμα περισσότερο το πλήθος των χαρακτηριστικών.\n",
        "* Βελτίωση των επιδόσεων των συστημάτων ταξινόμησης μπορούμε να επιτύχουμε και μέσω της κανονικοποίησης των τιμών των χαρακτηριστικών.\n",
        "* Τέλος, το πρόβλημα του class imbalance μπορεί να βελτιωθεί μέσω του oversampling (αποφεύγουμε το undersampling λόγω των λίγων δειγμάτων του dataset)."
      ]
    },
    {
      "cell_type": "markdown",
      "metadata": {
        "id": "LXiV7-mtvX5v"
      },
      "source": [
        "Στο επόμενο στάδιο ορίζουμε pipelines από τα οποία περνάνε τα δεδομένα για να εισέλθουν στους ταξινομητές και στα οποία εκτελούμε τις εργασίες που αναφέραμε παραπάνω στο στάδιο προεπεξεργασίας."
      ]
    },
    {
      "cell_type": "markdown",
      "metadata": {
        "id": "Dl_WdAK1vvR8"
      },
      "source": [
        "Τέλος, με χρήση του grid search cross validation επιλέγουμε τις καλύτερες τιμές για τις υπερπαραμέτρους του pipeline. "
      ]
    },
    {
      "cell_type": "markdown",
      "metadata": {
        "id": "jwhi8cR-06Ox"
      },
      "source": [
        "##### F1 score\n",
        "Αρχικά θα αξιολογήσουμε την επίδοση των μοντέλων με τη μετρική f1."
      ]
    },
    {
      "cell_type": "markdown",
      "metadata": {
        "id": "wUL2jtYEw2RT"
      },
      "source": [
        "Αρχικά, εκτελούμε τη διαδικασία βελτιστοποίησης στον ταξινομητή kNN, όπου και ελέγχουμε ένα πλήθος τιμών για τις παραμέτρους threshold του VarianceThreshold(), n_neighbors του KNeighborsClassifier() και n_components του PCA().<br>\n",
        "Επιπλέον, δοκιμάσαμε να κάνουμε χρήση των μετασχηματιστών MinMaxScaler() και StandardScaler() και βρήκαμε πως με τον πρώτο επιτυγχάνουμε καλύτερα αποτελέσματα στο training set.<br>\n",
        "Τέλος, δοκιμάσαμε να αφαιρέσουμε βήματα από το pipeline, όμως η επίδοση του ταξινομητή στο training set μειωνόταν."
      ]
    },
    {
      "cell_type": "code",
      "metadata": {
        "id": "U0Yz1FHU8Ec_",
        "colab": {
          "base_uri": "https://localhost:8080/"
        },
        "outputId": "952ca819-bd03-43c5-84c7-1604a47245ce"
      },
      "source": [
        "vthreshold = [0, 0.01, 0.1, 1, 10]\n",
        "k = [1, 5, 10, 20, 25, 30, 35, 50]\n",
        "n_components = [2, 4, 5, 7, 10]\n",
        "\n",
        "scaler_knn = MinMaxScaler()\n",
        "selector_knn = VarianceThreshold()\n",
        "ros_knn = RandomOverSampler()\n",
        "pca_knn = PCA()\n",
        "knn = KNeighborsClassifier()\n",
        "\n",
        "pipe_knn = Pipeline(\n",
        "    steps=[\n",
        "           ('selector', selector_knn),\n",
        "           ('scaler', scaler_knn),\n",
        "           ('sampler', ros_knn),\n",
        "           ('pca', pca_knn),\n",
        "           ('knn', knn)\n",
        "           ], \n",
        "    memory='tmp')\n",
        "estimator_knn_f1 = GridSearchCV(pipe_knn, \n",
        "                             dict(\n",
        "                                  selector__threshold=vthreshold, \n",
        "                                  knn__n_neighbors=k,\n",
        "                                  pca__n_components=n_components,\n",
        "                                  ), \n",
        "                             cv=10, \n",
        "                             scoring='f1', \n",
        "                             n_jobs=-1)\n",
        "\n",
        "start_time = time.time()\n",
        "estimator_knn_f1.fit(X_train, y_train)\n",
        "preds_knn = estimator_knn_f1.predict(X_test)\n",
        "print(\"Συνολικός χρόνος fit και predict για kNN με μετρική f1 score: {:.2f} seconds\".format(time.time() - start_time))\n",
        "\n",
        "print(\"Βέλτιστες παράμετροι:\",estimator_knn_f1.best_params_)\n",
        "print(\"Το καλύτερο f1 score του ταξινομητή ήταν {:.3f} στο training set\".format(estimator_knn_f1.best_score_))"
      ],
      "execution_count": null,
      "outputs": [
        {
          "output_type": "stream",
          "name": "stdout",
          "text": [
            "Συνολικός χρόνος fit και predict για kNN με μετρική f1 score: 31.12 seconds\n",
            "Βέλτιστες παράμετροι: {'knn__n_neighbors': 50, 'pca__n_components': 7, 'selector__threshold': 1}\n",
            "Το καλύτερο f1 score του ταξινομητή ήταν 0.795 στο training set\n"
          ]
        }
      ]
    },
    {
      "cell_type": "markdown",
      "metadata": {
        "id": "wWlwHF6Ox2dl"
      },
      "source": [
        "Επαναλαμβάνουμε την ίδια διαδικασία για τον ταξινομητή GNB με τη διαφορά πως αντί να μεταβάλλουμε την τιμή n_neighbors αλλάζουμε την τιμή της υπερπαραμέτρου var_smoothing του GaussianNB().<br>\n",
        "Όμοια με πριν δοκιμάσαμε τόσο τον MinMaxScaler() όσο και τον StandardScaler() και με τον δεύτερο πετύχαμε καλύτερα αποτελέσματα, ενώ επίσης δοκιμάσαμε να αφαιρέσουμε βήματα από το pipeline χωρίς να βελτιώσουμε την επίδοση του ταξινομητή στο training set."
      ]
    },
    {
      "cell_type": "code",
      "metadata": {
        "colab": {
          "base_uri": "https://localhost:8080/"
        },
        "id": "I4dQh-e_4ucG",
        "outputId": "1be77270-30d6-482d-9f87-5258ce85c72d"
      },
      "source": [
        "vthreshold = [0, 0.01, 0.1, 1, 10]\n",
        "var_smoothing = [0, 1e-13, 1e-11, 1e-9, 1e-8]\n",
        "n_components = [2, 4, 5, 7, 10]\n",
        "\n",
        "scaler_gnb = StandardScaler()\n",
        "selector_gnb = VarianceThreshold()\n",
        "ros_gnb = RandomOverSampler()\n",
        "pca_gnb = PCA()\n",
        "gnb = GaussianNB()\n",
        "\n",
        "pipe_gnb = Pipeline(\n",
        "    steps=[\n",
        "           ('selector', selector_gnb),\n",
        "           ('scaler', scaler_gnb),\n",
        "           ('sampler', ros_gnb),\n",
        "           ('pca', pca_gnb),\n",
        "           ('gnb', gnb)\n",
        "           ], \n",
        "    memory='tmp')\n",
        "estimator_gnb_f1 = GridSearchCV(pipe_gnb, \n",
        "                             dict(\n",
        "                                  selector__threshold=vthreshold, \n",
        "                                  gnb__var_smoothing=var_smoothing,\n",
        "                                  pca__n_components=n_components,\n",
        "                                  ), \n",
        "                             cv=10, \n",
        "                             scoring='f1', \n",
        "                             n_jobs=-1)\n",
        "\n",
        "start_time = time.time()\n",
        "estimator_gnb_f1.fit(X_train, y_train)\n",
        "preds_gnb = estimator_gnb_f1.predict(X_test)\n",
        "print(\"Συνολικός χρόνος fit και predict για GNB με μετρική f1 score: {:.2f} seconds\".format(time.time() - start_time))\n",
        "\n",
        "print(\"Βέλτιστες παράμετροι:\",estimator_gnb_f1.best_params_)\n",
        "print(\"Το καλύτερο f1 score του ταξινομητή ήταν {:.3f} στο training set\".format(estimator_gnb_f1.best_score_))"
      ],
      "execution_count": null,
      "outputs": [
        {
          "output_type": "stream",
          "name": "stdout",
          "text": [
            "Συνολικός χρόνος fit και predict για GNB με μετρική f1 score: 17.78 seconds\n",
            "Βέλτιστες παράμετροι: {'gnb__var_smoothing': 0, 'pca__n_components': 2, 'selector__threshold': 0.01}\n",
            "Το καλύτερο f1 score του ταξινομητή ήταν 0.792 στο training set\n"
          ]
        }
      ]
    },
    {
      "cell_type": "markdown",
      "metadata": {
        "id": "daSnTDAQzADo"
      },
      "source": [
        "Τέλος, επαναλαμβάνουμε για τον LR ψάχνοντας για τις καλύτερες τιμές στις υπερπαραμέτρους pen, tol, C, fit_intercept και max_iter του LogisticRegressor().<br>\n",
        "Ο scaler με την καλύτερη επίδοση εδώ είναι ο StandardScaler(), ενώ πάλι δεν είδαμε βελτίωση με την αφαίρεση βημάτων από το pipeline."
      ]
    },
    {
      "cell_type": "code",
      "metadata": {
        "colab": {
          "base_uri": "https://localhost:8080/"
        },
        "id": "fJp6a3-B7f9s",
        "outputId": "e05788c4-8baf-407c-bcef-272976a62136"
      },
      "source": [
        "vthreshold = [0, 0.1, 1]\n",
        "n_components = [2, 5, 7, 10]\n",
        "pen = ['l1', 'l2']\n",
        "tol = [1e-8, 1e-6, 1e-4, 1e-3]\n",
        "C = [0.5, 1.0, 1.5, 2.0, 2.5]\n",
        "fit_intercept = [True, False]\n",
        "max_iter = [50, 100, 200]\n",
        "\n",
        "scaler_lr = StandardScaler()\n",
        "selector_lr = VarianceThreshold()\n",
        "ros_lr = RandomOverSampler()\n",
        "pca_lr = PCA()\n",
        "lr = LogisticRegression()\n",
        "\n",
        "pipe_lr = Pipeline(\n",
        "    steps=[\n",
        "           ('selector', selector_lr),\n",
        "           ('scaler', scaler_lr),\n",
        "           ('sampler', ros_lr),\n",
        "           ('pca', pca_lr),\n",
        "           ('lr', lr)\n",
        "           ], \n",
        "    memory='tmp')\n",
        "estimator_lr_f1 = GridSearchCV(pipe_lr, \n",
        "                             dict(\n",
        "                                  selector__threshold=vthreshold,\n",
        "                                  pca__n_components=n_components,\n",
        "                                  lr__penalty=pen,\n",
        "                                  lr__tol=tol,\n",
        "                                  lr__C=C,\n",
        "                                  lr__fit_intercept=fit_intercept,\n",
        "                                  lr__max_iter=max_iter,\n",
        "                                  lr__solver=['liblinear']\n",
        "                                  ), \n",
        "                             cv=10, \n",
        "                             scoring='f1', \n",
        "                             n_jobs=-1)\n",
        "\n",
        "start_time = time.time()\n",
        "estimator_lr_f1.fit(X_train, y_train)\n",
        "preds_lr = estimator_lr_f1.predict(X_test)\n",
        "print(\"Συνολικός χρόνος fit και predict για LR με μετρική f1 score: {:.2f} seconds\".format(time.time() - start_time))\n",
        "\n",
        "print(\"Βέλτιστες παράμετροι:\",estimator_lr_f1.best_params_)\n",
        "print(\"Το καλύτερο f1 score του ταξινομητή ήταν {:.3f} στο training set\".format(estimator_lr_f1.best_score_))"
      ],
      "execution_count": null,
      "outputs": [
        {
          "output_type": "stream",
          "name": "stdout",
          "text": [
            "Συνολικός χρόνος fit και predict για LR με μετρική f1 score: 428.07 seconds\n",
            "Βέλτιστες παράμετροι: {'lr__C': 0.5, 'lr__fit_intercept': True, 'lr__max_iter': 50, 'lr__penalty': 'l2', 'lr__solver': 'liblinear', 'lr__tol': 1e-08, 'pca__n_components': 10, 'selector__threshold': 0.1}\n",
            "Το καλύτερο f1 score του ταξινομητή ήταν 0.770 στο training set\n"
          ]
        }
      ]
    },
    {
      "cell_type": "markdown",
      "metadata": {
        "id": "Gqfz-W_xzjDt"
      },
      "source": [
        "Εκπαιδεύουμε για κάθε ταξινομητή το μοντέλο με τις καλύτερες επιδόσεις σε ολόκληρο το training set και υπολογίζουμε το f1 score του στο test set ώστε να το συγκρίνουμε με το αντίστοιχο out-of-the-box μοντέλο. "
      ]
    },
    {
      "cell_type": "code",
      "metadata": {
        "id": "bIRf9wy7K_qV"
      },
      "source": [
        "knn_best_f1 = estimator_knn_f1.best_estimator_\n",
        "gnb_best_f1 = estimator_gnb_f1.best_estimator_\n",
        "lr_best_f1 = estimator_lr_f1.best_estimator_\n",
        "\n",
        "start_train_time_knn = time.time()\n",
        "knn_best_f1.fit(X_train, y_train)\n",
        "train_time_knn = time.time() - start_train_time_knn\n",
        "start_test_time_knn = time.time()\n",
        "knn_f1 = f1_score(y_test, knn_best_f1.predict(X_test))\n",
        "test_time_knn = time.time() - start_test_time_knn\n",
        "\n",
        "start_train_time_gnb = time.time()\n",
        "gnb_best_f1.fit(X_train, y_train)\n",
        "train_time_gnb = time.time() - start_train_time_gnb\n",
        "start_test_time_gnb = time.time()\n",
        "gnb_f1 = f1_score(y_test, gnb_best_f1.predict(X_test))\n",
        "test_time_gnb = time.time() - start_test_time_gnb\n",
        "\n",
        "start_train_time_lr = time.time()\n",
        "lr_best_f1.fit(X_train, y_train)\n",
        "train_time_lr = time.time() - start_train_time_lr\n",
        "start_test_time_lr = time.time()\n",
        "lr_f1 = f1_score(y_test, lr_best_f1.predict(X_test))\n",
        "test_time_lr = time.time() - start_test_time_lr\n",
        "\n",
        "optimized_f1 = {}\n",
        "optimized_f1[\"K Nearest Neighbors\"] = knn_f1\n",
        "optimized_f1[\"Gaussian Naive-Bayes\"] = gnb_f1\n",
        "optimized_f1[\"Logistic Regression\"] = lr_f1\n",
        "\n",
        "baseline_f1 = {}\n",
        "baseline_f1[\"K Nearest Neighbors\"] = ootb_f1[\"K Nearest Neighbors\"]\n",
        "baseline_f1[\"Gaussian Naive-Bayes\"] = ootb_f1[\"Gaussian Naive-Bayes\"]\n",
        "baseline_f1[\"Logistic Regression\"] = ootb_f1[\"Logistic Regression\"]"
      ],
      "execution_count": null,
      "outputs": []
    },
    {
      "cell_type": "code",
      "metadata": {
        "colab": {
          "base_uri": "https://localhost:8080/",
          "height": 301
        },
        "id": "fU4CxtGPrZa5",
        "outputId": "a03009c2-1699-4078-9705-17fe56cde335"
      },
      "source": [
        "xax = np.arange(len(optimized_f1))\n",
        "ax = plt.subplot(111)\n",
        "ax.bar(xax, optimized_f1.values(), width=0.2, color='b', align='center')\n",
        "ax.bar(xax-0.2, baseline_f1.values(), width=0.2, color='g', align='center')\n",
        "ax.legend(('Optimized f1','Baseline f1'))\n",
        "plt.xticks(xax, optimized_f1.keys())\n",
        "plt.ylabel(\"F1 score\")\n",
        "plt.xlabel(\"Estimators\")\n",
        "plt.title(\"F1 scores for estimators (30% test set)\")\n",
        "ax.set_ylim([0, 1])\n",
        "plt.show()"
      ],
      "execution_count": null,
      "outputs": [
        {
          "output_type": "display_data",
          "data": {
            "image/png": "[encoded data removed]",
            "text/plain": [
              "<Figure size 432x288 with 1 Axes>"
            ]
          },
          "metadata": {}
        }
      ]
    },
    {
      "cell_type": "code",
      "metadata": {
        "colab": {
          "base_uri": "https://localhost:8080/"
        },
        "id": "2Ae6Mpb11Xca",
        "outputId": "92c254e4-ff83-4369-c796-c5ab07093c89"
      },
      "source": [
        "print(\"Αρχικές επιδόσεις:\", baseline_f1)\n",
        "print(\"Επιδόσεις βελτιστοποιημένων ταξινομητών:\", optimized_f1)\n",
        "print(\"kNN train time {:.2f} ms\".format(train_time_knn*1000))\n",
        "print(\"kNN test time {:.2f} ms\".format(test_time_knn*1000))\n",
        "print(\"GNB train time {:.2f} ms\".format(train_time_gnb*1000))\n",
        "print(\"GNB test time {:.2f} ms\".format(test_time_gnb*1000))\n",
        "print(\"LR train time {:.2f} ms\".format(train_time_lr*1000))\n",
        "print(\"LR test time {:.2f} ms\".format(test_time_lr*1000))"
      ],
      "execution_count": null,
      "outputs": [
        {
          "output_type": "stream",
          "name": "stdout",
          "text": [
            "Αρχικές επιδόσεις: {'K Nearest Neighbors': 0.7142857142857142, 'Gaussian Naive-Bayes': 0.7419354838709677, 'Logistic Regression': 0.7187499999999999}\n",
            "Επιδόσεις βελτιστοποιημένων ταξινομητών: {'K Nearest Neighbors': 0.7428571428571429, 'Gaussian Naive-Bayes': 0.7213114754098361, 'Logistic Regression': 0.7547169811320754}\n",
            "kNN train time 24.52 ms\n",
            "kNN test time 10.96 ms\n",
            "GNB train time 15.63 ms\n",
            "GNB test time 4.10 ms\n",
            "LR train time 22.07 ms\n",
            "LR test time 5.22 ms\n"
          ]
        }
      ]
    },
    {
      "cell_type": "markdown",
      "metadata": {
        "id": "rbMb8fdU-m6X"
      },
      "source": [
        "| Classifier           | Best F1 score (training set) | F1 score (baseline) | F1 score (optimized) | Optimization time (sec) | Train time (ms) | Test time (ms) |\n",
        "|----------------------|------------------------------|---------------------|----------------------|-------------------------|-----------------|----------------|\n",
        "| K Nearest Neighbors  | 79.5%                        | 71.4%                 | 74.3%                | 31.12                   | 24.52           | 10.96          |\n",
        "| Gaussian Naive-Bayes | 79.2%                        | 74.2%               | 72.1%                | 17.78                   | 15.63           | 4.10           |\n",
        "| Logistic Regression  | 77.0%                        | 71.9%               | 75.5%                | 428.07                  | 22.07           | 5.22           |"
      ]
    },
    {
      "cell_type": "markdown",
      "metadata": {
        "id": "__3AuwUS-oFn"
      },
      "source": [
        "Παρατηρούμε πως στους ταξινομητές kNN και LR έχουμε μία μικρή αύξηση της μετρικής f1 έναντι των out-of-the-box εκδόσεών τους, ενώ ο GNB χειροτερεύει την απόδοσή του. Ο χρόνος που καταλαμβάνει η βελτιστοποίηση στον LR είναι εξαιρετικά μεγαλύτερος από τους άλλους δύο ταξινομητές, τόσο λόγω του τρόπου που αυτός λειτουργεί, όσο και λόγω του μεγαλύτερου πλήθους παραμέτρων που λαμβάνει. Ο χρόνος train και test είναι αρκετά κοντά για όλους τους ταξινομητές, το οποίο οφείλεται στο μικρό μέγεθος του dataset. Η βελτίωση στο f1 score δεν δικαιολογεί τον χρόνο του optimization, αφού ο GNB πετυχαίνει 74.2% πριν το optimization, με την καλύτερη τιμή μετά από αυτό να την πετυχαίνουμε με τον LR με 75.5% με optimization που διαρκεί 428 sec. Τέλος, με βάση τη μετρική f1 δεν έχουμε ξεκάθαρο νικητή, αφού τα αποτελέσματά τους βρίσκονται αρκετά κοντά μετά την βελτιστοποίηση."
      ]
    },
    {
      "cell_type": "markdown",
      "metadata": {
        "id": "cGsr9_OpMqVa"
      },
      "source": [
        "##### Accuracy\n",
        "Επαναλαμβάνουμε την ίδια ακριβώς διαδικασία χρησιμοποιώντας τη μετρική accuracy για την αξιολόγηση του μοντέλου."
      ]
    },
    {
      "cell_type": "code",
      "metadata": {
        "colab": {
          "base_uri": "https://localhost:8080/"
        },
        "id": "cH6IoD4BMxtV",
        "outputId": "09628479-b176-4393-c6dc-ada9152441ef"
      },
      "source": [
        "vthreshold = [0, 0.01, 0.1, 1, 10]\n",
        "k = [1, 5, 10, 20, 25, 30, 35, 50]\n",
        "n_components = [2, 4, 5, 7, 10]\n",
        "\n",
        "scaler_knn = MinMaxScaler()\n",
        "selector_knn = VarianceThreshold()\n",
        "ros_knn = RandomOverSampler()\n",
        "pca_knn = PCA()\n",
        "knn = KNeighborsClassifier()\n",
        "\n",
        "pipe_knn = Pipeline(\n",
        "    steps=[\n",
        "           ('selector', selector_knn),\n",
        "           ('scaler', scaler_knn),\n",
        "           ('sampler', ros_knn),\n",
        "           ('pca', pca_knn),\n",
        "           ('knn', knn)\n",
        "           ], \n",
        "    memory='tmp')\n",
        "estimator_knn_acc = GridSearchCV(pipe_knn, \n",
        "                             dict(\n",
        "                                  selector__threshold=vthreshold, \n",
        "                                  knn__n_neighbors=k,\n",
        "                                  pca__n_components=n_components,\n",
        "                                  ), \n",
        "                             cv=10, \n",
        "                             scoring='accuracy', \n",
        "                             n_jobs=-1)\n",
        "\n",
        "start_time = time.time()\n",
        "estimator_knn_acc.fit(X_train, y_train)\n",
        "preds_knn = estimator_knn_acc.predict(X_test)\n",
        "\n",
        "print(\"Συνολικός χρόνος fit και predict για kNN με μετρική accuracy: {:.2f} seconds\".format(time.time() - start_time))\n",
        "\n",
        "print(\"Βέλτιστες παράμετροι:\",estimator_knn_acc.best_params_)\n",
        "print(\"Το καλύτερο accuracy του ταξινομητή ήταν {:.3f} στο training set\".format(estimator_knn_acc.best_score_))"
      ],
      "execution_count": null,
      "outputs": [
        {
          "output_type": "stream",
          "name": "stdout",
          "text": [
            "Συνολικός χρόνος fit και predict για kNN με μετρική accuracy: 29.00 seconds\n",
            "Βέλτιστες παράμετροι: {'knn__n_neighbors': 35, 'pca__n_components': 4, 'selector__threshold': 1}\n",
            "Το καλύτερο accuracy του ταξινομητή ήταν 0.722 στο training set\n"
          ]
        }
      ]
    },
    {
      "cell_type": "code",
      "metadata": {
        "colab": {
          "base_uri": "https://localhost:8080/"
        },
        "id": "Xc_OJOKUM1MD",
        "outputId": "f3fa286f-4ffb-4ed8-ed57-03ec17187d5d"
      },
      "source": [
        "vthreshold = [0, 0.01, 0.1, 1, 10]\n",
        "var_smoothing = [0, 1e-13, 1e-11, 1e-9, 1e-8]\n",
        "n_components = [2, 4, 5, 7, 10]\n",
        "\n",
        "scaler_gnb = StandardScaler()\n",
        "selector_gnb = VarianceThreshold()\n",
        "ros_gnb = RandomOverSampler()\n",
        "pca_gnb = PCA()\n",
        "gnb = GaussianNB()\n",
        "\n",
        "pipe_gnb = Pipeline(\n",
        "    steps=[\n",
        "           ('selector', selector_gnb),\n",
        "           ('scaler', scaler_gnb),\n",
        "           ('sampler', ros_gnb),\n",
        "           ('pca', pca_gnb),\n",
        "           ('gnb', gnb)\n",
        "           ], \n",
        "    memory='tmp')\n",
        "estimator_gnb_acc = GridSearchCV(pipe_gnb, \n",
        "                             dict(\n",
        "                                  selector__threshold=vthreshold, \n",
        "                                  gnb__var_smoothing=var_smoothing,\n",
        "                                  pca__n_components=n_components,\n",
        "                                  ), \n",
        "                             cv=10, \n",
        "                             scoring='accuracy', \n",
        "                             n_jobs=-1)\n",
        "\n",
        "start_time = time.time()\n",
        "estimator_gnb_acc.fit(X_train, y_train)\n",
        "preds_gnb = estimator_gnb_acc.predict(X_test)\n",
        "print(\"Συνολικός χρόνος fit και predict για GNB με μετρική accuracy: {:.2f} seconds\".format(time.time() - start_time))\n",
        "\n",
        "print(\"Βέλτιστες παράμετροι:\",estimator_gnb_acc.best_params_)\n",
        "print(\"Το καλύτερο accuracy του ταξινομητή ήταν {:.3f} στο training set\".format(estimator_gnb_acc.best_score_))"
      ],
      "execution_count": null,
      "outputs": [
        {
          "output_type": "stream",
          "name": "stdout",
          "text": [
            "Συνολικός χρόνος fit και predict για GNB με μετρική accuracy: 16.74 seconds\n",
            "Βέλτιστες παράμετροι: {'gnb__var_smoothing': 0, 'pca__n_components': 2, 'selector__threshold': 0.01}\n",
            "Το καλύτερο accuracy του ταξινομητή ήταν 0.738 στο training set\n"
          ]
        }
      ]
    },
    {
      "cell_type": "code",
      "metadata": {
        "colab": {
          "base_uri": "https://localhost:8080/"
        },
        "id": "5256PaLKM4k8",
        "outputId": "2af7ee9b-8d15-4c0c-8805-25869830afe1"
      },
      "source": [
        "vthreshold = [0, 0.1, 1]\n",
        "n_components = [2, 5, 7]\n",
        "pen = ['l1', 'l2']\n",
        "tol = [1e-8, 1e-6, 1e-4, 1e-3]\n",
        "C = [0.5, 1.0, 1.5, 2.0, 2.5]\n",
        "fit_intercept = [True, False]\n",
        "max_iter = [50, 100, 200]\n",
        "\n",
        "scaler_lr = StandardScaler()\n",
        "selector_lr = VarianceThreshold()\n",
        "ros_lr = RandomOverSampler()\n",
        "pca_lr = PCA()\n",
        "lr = LogisticRegression()\n",
        "\n",
        "pipe_lr = Pipeline(\n",
        "    steps=[\n",
        "           ('selector', selector_lr),\n",
        "           ('scaler', scaler_lr),\n",
        "           ('sampler', ros_lr),\n",
        "           ('pca', pca_lr),\n",
        "           ('lr', lr)\n",
        "           ], \n",
        "    memory='tmp')\n",
        "estimator_lr_acc = GridSearchCV(pipe_lr, \n",
        "                             dict(\n",
        "                                  selector__threshold=vthreshold,\n",
        "                                  pca__n_components=n_components,\n",
        "                                  lr__penalty=pen,\n",
        "                                  lr__tol=tol,\n",
        "                                  lr__C=C,\n",
        "                                  lr__fit_intercept=fit_intercept,\n",
        "                                  lr__max_iter=max_iter,\n",
        "                                  lr__solver=['liblinear']\n",
        "                                  ), \n",
        "                             cv=10, \n",
        "                             scoring='accuracy', \n",
        "                             n_jobs=-1)\n",
        "\n",
        "start_time = time.time()\n",
        "estimator_lr_acc.fit(X_train, y_train)\n",
        "preds_lr = estimator_lr_acc.predict(X_test)\n",
        "print(\"Συνολικός χρόνος fit και predict για LR με μετρική accuracy: {:.2f} seconds\".format(time.time() - start_time))\n",
        "\n",
        "print(\"Βέλτιστες παράμετροι:\",estimator_lr_acc.best_params_)\n",
        "print(\"Το καλύτερο accuracy του ταξινομητή ήταν {:.3f} στο training set\".format(estimator_lr_acc.best_score_))"
      ],
      "execution_count": null,
      "outputs": [
        {
          "output_type": "stream",
          "name": "stdout",
          "text": [
            "Συνολικός χρόνος fit και predict για LR με μετρική accuracy: 292.20 seconds\n",
            "Βέλτιστες παράμετροι: {'lr__C': 0.5, 'lr__fit_intercept': False, 'lr__max_iter': 50, 'lr__penalty': 'l2', 'lr__solver': 'liblinear', 'lr__tol': 1e-08, 'pca__n_components': 2, 'selector__threshold': 1}\n",
            "Το καλύτερο accuracy του ταξινομητή ήταν 0.705 στο training set\n"
          ]
        }
      ]
    },
    {
      "cell_type": "markdown",
      "metadata": {
        "id": "EJjMOgWf3XTQ"
      },
      "source": [
        "Για κάθε ταξινομητή επιλέγουμε το μοντέλο που είχε τις καλύτερες επιδόσεις στη διαδικασία του cross validation και το εκπαιδεύουμε σε ολόκληρο το training set. Ύστερα συγκρίνουμε τα αποτελέσματά του στο test set με εκείνα των out-of-the-box ταξινομητών."
      ]
    },
    {
      "cell_type": "code",
      "metadata": {
        "id": "qH2wgbzqM63U"
      },
      "source": [
        "knn_best_accuracy = estimator_knn_acc.best_estimator_\n",
        "gnb_best_accuracy = estimator_gnb_acc.best_estimator_\n",
        "lr_best_accuracy = estimator_lr_acc.best_estimator_\n",
        "\n",
        "start_train_time_knn = time.time()\n",
        "knn_best_accuracy.fit(X_train, y_train)\n",
        "train_time_knn = time.time() - start_train_time_knn\n",
        "start_test_time_knn = time.time()\n",
        "knn_f1 = f1_score(y_test, knn_best_accuracy.predict(X_test))\n",
        "test_time_knn = time.time() - start_test_time_knn\n",
        "\n",
        "start_train_time_gnb = time.time()\n",
        "gnb_best_accuracy.fit(X_train, y_train)\n",
        "train_time_gnb = time.time() - start_train_time_gnb\n",
        "start_test_time_gnb = time.time()\n",
        "gnb_f1 = f1_score(y_test, gnb_best_accuracy.predict(X_test))\n",
        "test_time_gnb = time.time() - start_test_time_gnb\n",
        "\n",
        "start_train_time_lr = time.time()\n",
        "lr_best_accuracy.fit(X_train, y_train)\n",
        "train_time_lr = time.time() - start_train_time_lr\n",
        "start_test_time_lr = time.time()\n",
        "lr_f1 = f1_score(y_test, lr_best_accuracy.predict(X_test))\n",
        "test_time_lr = time.time() - start_test_time_lr\n",
        "\n",
        "optimized_acc = {}\n",
        "optimized_acc[\"K Nearest Neighbors\"] = knn_accuracy\n",
        "optimized_acc[\"Gaussian Naive-Bayes\"] = gnb_accuracy\n",
        "optimized_acc[\"Logistic Regression\"] = lr_accuracy\n",
        "\n",
        "baseline_acc = {}\n",
        "baseline_acc[\"K Nearest Neighbors\"] = ootb_accuracy[\"K Nearest Neighbors\"]\n",
        "baseline_acc[\"Gaussian Naive-Bayes\"] = ootb_accuracy[\"Gaussian Naive-Bayes\"]\n",
        "baseline_acc[\"Logistic Regression\"] = ootb_accuracy[\"Logistic Regression\"]"
      ],
      "execution_count": null,
      "outputs": []
    },
    {
      "cell_type": "code",
      "metadata": {
        "colab": {
          "base_uri": "https://localhost:8080/",
          "height": 301
        },
        "id": "Fn-kocmH0uTJ",
        "outputId": "cb5b998b-06b0-4e51-c350-80c1a641e1ef"
      },
      "source": [
        "xax = np.arange(len(optimized_acc))\n",
        "ax = plt.subplot(111)\n",
        "ax.bar(xax, optimized_acc.values(), width=0.2, color='b', align='center')\n",
        "ax.bar(xax-0.2, baseline_acc.values(), width=0.2, color='g', align='center')\n",
        "ax.legend(('Optimized accuracy','Baseline accuracy'))\n",
        "plt.xticks(xax, optimized_acc.keys())\n",
        "plt.ylabel(\"Accuracy\")\n",
        "plt.xlabel(\"Estimators\")\n",
        "plt.title(\"Acuracy scores for estimators (30% test set)\")\n",
        "ax.set_ylim([0, 1])\n",
        "plt.show()"
      ],
      "execution_count": null,
      "outputs": [
        {
          "output_type": "display_data",
          "data": {
            "image/png": "[encoded data removed]",
            "text/plain": [
              "<Figure size 432x288 with 1 Axes>"
            ]
          },
          "metadata": {}
        }
      ]
    },
    {
      "cell_type": "markdown",
      "metadata": {
        "id": "nEcUJU2WGPS0"
      },
      "source": [
        "Από τη γραφική παράσταση φαίνεται πως ο μόνος ταξινομητής του οποίο η επίδοση βελτιώνεται είναι ο LR, του οποίου το accuracy βελτιώνεται περίπου κατά 0.15, ενώ οι άλλοι δύο ταξινομητές δεν βελτιώνουν την επίδοσή τους στο test set. "
      ]
    },
    {
      "cell_type": "code",
      "metadata": {
        "colab": {
          "base_uri": "https://localhost:8080/"
        },
        "id": "J_H40pHN2uSH",
        "outputId": "8620c0cf-7552-406b-b658-1f3e7b68b2d5"
      },
      "source": [
        "print(\"Αρχικές επιδόσεις:\", baseline_acc)\n",
        "print(\"Επιδόσεις βελτιστοποιημένων ταξινομητών:\", optimized_acc)\n",
        "print(\"kNN train time {:.2f} ms\".format(train_time_knn*1000))\n",
        "print(\"kNN test time {:.2f} ms\".format(test_time_knn*1000))\n",
        "print(\"GNB train time {:.2f} ms\".format(train_time_gnb*1000))\n",
        "print(\"GNB test time {:.2f} ms\".format(test_time_gnb*1000))\n",
        "print(\"LR train time {:.2f} ms\".format(train_time_lr*1000))\n",
        "print(\"LR test time {:.2f} ms\".format(test_time_lr*1000))"
      ],
      "execution_count": null,
      "outputs": [
        {
          "output_type": "stream",
          "name": "stdout",
          "text": [
            "Αρχικές επιδόσεις: {'K Nearest Neighbors': 0.6, 'Gaussian Naive-Bayes': 0.68, 'Logistic Regression': 0.64}\n",
            "Επιδόσεις βελτιστοποιημένων ταξινομητών: {'K Nearest Neighbors': 0.58, 'Gaussian Naive-Bayes': 0.66, 'Logistic Regression': 0.78}\n",
            "kNN train time 15.95 ms\n",
            "kNN test time 6.36 ms\n",
            "GNB train time 11.72 ms\n",
            "GNB test time 3.57 ms\n",
            "LR train time 11.25 ms\n",
            "LR test time 3.47 ms\n"
          ]
        }
      ]
    },
    {
      "cell_type": "markdown",
      "metadata": {
        "id": "vQDGEW8LFrmY"
      },
      "source": [
        "| Classifier           | Best accuracy (training set) | Accuracy (baseline) | Accuracy (optimized) | Optimization time (sec) | Train time (ms) | Test time (ms) |\n",
        "|----------------------|------------------------------|---------------------|----------------------|-------------------------|-----------------|----------------|\n",
        "| K Nearest Neighbors  | 72.2%                        | 60%                 | 58%                  | 29.00                   | 15.95           | 6.36           |\n",
        "| Gaussian Naive-Bayes | 73.8%                        | 68%                 | 66%                  | 16.74                   | 11.72           | 3.57           |\n",
        "| Logistic Regression  | 70.5%                        | 64%                 | 78%                  | 292.20                  | 11.25           | 3.47           |"
      ]
    },
    {
      "cell_type": "markdown",
      "metadata": {
        "id": "ZrCafI2mGLW6"
      },
      "source": [
        "Όπως και πριν ο χρόνος που απαιτεί ο LR στο στάδιο optimization είναι αρκετά μεγαλύτερος των άλλων δύο ταξινομητών. Ωστόσο στο συγκεκριμένο dataset το train time και το test time έχουν πολύ κοντινές τιμές για όλους τους ταξινομητές. Η βελτίωση στο accuracy του LR δικαιολογεί το χρόνο που σπαταλήσαμε στο optimization, αφού η επίδοσή του πηγαίνει από το 64% στο 78%, ενώ η δεύτερη καλύτερη επίδοση είναι του GNB στην baseline έκδοσή του με 68%. Επομένως, με βάση τη μετρική accuracy ο LR είναι ξεκάθαρος νικητής."
      ]
    },
    {
      "cell_type": "markdown",
      "metadata": {
        "id": "tfbGFWuMJbcV"
      },
      "source": [
        "Παρακάτω δίνονται τα confusion matrices για τον καλύτερο (LR) και τον χειρότερο (kNN) ταξινομητή ως προς την ορθότητα."
      ]
    },
    {
      "cell_type": "code",
      "metadata": {
        "colab": {
          "base_uri": "https://localhost:8080/",
          "height": 301
        },
        "id": "h4DhmobDIQtO",
        "outputId": "8ec4d124-16d3-4f05-c0b2-710ba6e281ec"
      },
      "source": [
        "cm = confusion_matrix(y_test, lr_best_accuracy.predict(X_test), labels=lr_best_accuracy.classes_)\n",
        "disp = ConfusionMatrixDisplay(confusion_matrix=cm, display_labels=lr_best_accuracy.classes_)\n",
        "disp.plot()\n",
        "plt.title(\"Confusion matrix for LR predictor\")\n",
        "plt.show()"
      ],
      "execution_count": null,
      "outputs": [
        {
          "output_type": "display_data",
          "data": {
            "image/png": "[encoded data removed]",
            "text/plain": [
              "<Figure size 432x288 with 2 Axes>"
            ]
          },
          "metadata": {}
        }
      ]
    },
    {
      "cell_type": "code",
      "metadata": {
        "colab": {
          "base_uri": "https://localhost:8080/",
          "height": 301
        },
        "id": "UEtja-vmJt8-",
        "outputId": "9177d14b-3f2f-4da4-f01c-062c054421e5"
      },
      "source": [
        "cm = confusion_matrix(y_test, knn_best_accuracy.predict(X_test), labels=knn_best_accuracy.classes_)\n",
        "disp = ConfusionMatrixDisplay(confusion_matrix=cm, display_labels=knn_best_accuracy.classes_)\n",
        "disp.plot()\n",
        "plt.title(\"Confusion matrix for kNN predictor\")\n",
        "plt.show()"
      ],
      "execution_count": null,
      "outputs": [
        {
          "output_type": "display_data",
          "data": {
            "image/png": "[encoded data removed]",
            "text/plain": [
              "<Figure size 432x288 with 2 Axes>"
            ]
          },
          "metadata": {}
        }
      ]
    },
    {
      "cell_type": "markdown",
      "metadata": {
        "id": "rJfaDGnHJ1B_"
      },
      "source": [
        "Βλέπουμε πως ενώ ο LR κάνει missclassify 7 δείγματα από τη μία κατηγορία και 4 από την άλλη, ο kNN ουσιαστικά προβλέπει για όλα τα δείγματα την τιμή 1. Ο Logistic Regression ταξινομητής φαίνεται να δουλεύει καλύτερα στο πρόβλημα αυτό, καθώς τα χαρακτηριστικά των δεδομένων δεν ακολουθούν κανονική κατανομή με βάση την κλάση τους, ούτε βρίσκονται σχετικά συγκεντρωμένα στον πολυδιάστατο χώρο που βρίσκονται αλλά είναι διαχωρίσιμα. Έτσι, τα μοντέλα Gaussian Naive-Bayes και K Nearest Neighbors αντίστοιχα δεν επιτυγχάνουν υψηλές επιδόσεις ενώ το μοντέλο LR καταφέρνει να πετύχει υψηλά ποσοστά επιτυχίας."
      ]
    },
    {
      "cell_type": "markdown",
      "metadata": {
        "id": "1A9Ye6jDnkeF"
      },
      "source": [
        "## Μέρος 2: Kaggle dataset\n",
        "Το kaggle dataset που μας αντιστοιχεί είναι το [kdd cyberattack](https://www.kaggle.com/slashtea/kdd-cyberattack). Το dataset αυτό περιέχει πληροφορίες σχετικά με connections σε ένα LAN της U.S. Air Force. Κάθε εγγραφή αποτελεί μία σύνδεση στο LAN, ενώ δίνεται επίσης ο χαρακτηρισμός 'normal' για τις κανονικές συνδέσεις ή το όνομα του είδους της επίθεσης για κάθε κακόβουλη σύνδεση στο δίκτυο. Σκοπός μας είναι να ξεχωρίσουμε τις κανονικές από τις κακόβουλες συνδέσεις."
      ]
    },
    {
      "cell_type": "code",
      "metadata": {
        "colab": {
          "base_uri": "https://localhost:8080/"
        },
        "id": "fDGnjYplp6Er",
        "outputId": "920582f1-06e9-450c-d2cf-f03ab4c42df4"
      },
      "source": [
        "!pip install ray[tune] tune-sklearn\n",
        "import pandas as pd\n",
        "import numpy as np\n",
        "import seaborn as sns\n",
        "import matplotlib.pyplot as plt\n",
        "import time\n",
        "from google.colab import drive\n",
        "from sklearn.model_selection import train_test_split, StratifiedShuffleSplit\n",
        "from sklearn.preprocessing import OrdinalEncoder, OneHotEncoder, StandardScaler\n",
        "from sklearn.feature_selection import VarianceThreshold\n",
        "from sklearn.decomposition import PCA\n",
        "from sklearn.svm import SVC\n",
        "from sklearn.neural_network import MLPClassifier\n",
        "from sklearn.metrics import recall_score, f1_score\n",
        "from sklearn.pipeline import Pipeline\n",
        "from ray.tune.sklearn import TuneGridSearchCV"
      ],
      "execution_count": 2,
      "outputs": [
        {
          "output_type": "stream",
          "name": "stdout",
          "text": [
            "Collecting ray[tune]\n",
            "  Downloading ray-1.9.0-cp37-cp37m-manylinux2014_x86_64.whl (57.6 MB)\n",
            "\u001b[K     |████████████████████████████████| 57.6 MB 1.2 MB/s \n",
            "\u001b[?25hCollecting tune-sklearn\n",
            "  Downloading tune_sklearn-0.4.1-py3-none-any.whl (40 kB)\n",
            "\u001b[K     |████████████████████████████████| 40 kB 5.4 MB/s \n",
            "\u001b[?25hRequirement already satisfied: scipy in /usr/local/lib/python3.7/dist-packages (from tune-sklearn) (1.4.1)\n",
            "Requirement already satisfied: numpy>=1.16 in /usr/local/lib/python3.7/dist-packages (from tune-sklearn) (1.19.5)\n",
            "Requirement already satisfied: scikit-learn in /usr/local/lib/python3.7/dist-packages (from tune-sklearn) (1.0.1)\n",
            "Requirement already satisfied: attrs in /usr/local/lib/python3.7/dist-packages (from ray[tune]) (21.2.0)\n",
            "Requirement already satisfied: protobuf>=3.15.3 in /usr/local/lib/python3.7/dist-packages (from ray[tune]) (3.17.3)\n",
            "Requirement already satisfied: grpcio>=1.28.1 in /usr/local/lib/python3.7/dist-packages (from ray[tune]) (1.42.0)\n",
            "Requirement already satisfied: click>=7.0 in /usr/local/lib/python3.7/dist-packages (from ray[tune]) (7.1.2)\n",
            "Collecting redis>=3.5.0\n",
            "  Downloading redis-4.0.2-py3-none-any.whl (119 kB)\n",
            "\u001b[K     |████████████████████████████████| 119 kB 57.8 MB/s \n",
            "\u001b[?25hRequirement already satisfied: jsonschema in /usr/local/lib/python3.7/dist-packages (from ray[tune]) (2.6.0)\n",
            "Requirement already satisfied: filelock in /usr/local/lib/python3.7/dist-packages (from ray[tune]) (3.4.0)\n",
            "Requirement already satisfied: msgpack<2.0.0,>=1.0.0 in /usr/local/lib/python3.7/dist-packages (from ray[tune]) (1.0.3)\n",
            "Requirement already satisfied: pyyaml in /usr/local/lib/python3.7/dist-packages (from ray[tune]) (3.13)\n",
            "Requirement already satisfied: pandas in /usr/local/lib/python3.7/dist-packages (from ray[tune]) (1.1.5)\n",
            "Requirement already satisfied: tabulate in /usr/local/lib/python3.7/dist-packages (from ray[tune]) (0.8.9)\n",
            "Collecting tensorboardX>=1.9\n",
            "  Downloading tensorboardX-2.4.1-py2.py3-none-any.whl (124 kB)\n",
            "\u001b[K     |████████████████████████████████| 124 kB 79.9 MB/s \n",
            "\u001b[?25hRequirement already satisfied: requests in /usr/local/lib/python3.7/dist-packages (from ray[tune]) (2.23.0)\n",
            "Requirement already satisfied: six>=1.5.2 in /usr/local/lib/python3.7/dist-packages (from grpcio>=1.28.1->ray[tune]) (1.15.0)\n",
            "Collecting deprecated\n",
            "  Downloading Deprecated-1.2.13-py2.py3-none-any.whl (9.6 kB)\n",
            "Requirement already satisfied: wrapt<2,>=1.10 in /usr/local/lib/python3.7/dist-packages (from deprecated->redis>=3.5.0->ray[tune]) (1.13.3)\n",
            "Requirement already satisfied: pytz>=2017.2 in /usr/local/lib/python3.7/dist-packages (from pandas->ray[tune]) (2018.9)\n",
            "Requirement already satisfied: python-dateutil>=2.7.3 in /usr/local/lib/python3.7/dist-packages (from pandas->ray[tune]) (2.8.2)\n",
            "Requirement already satisfied: urllib3!=1.25.0,!=1.25.1,<1.26,>=1.21.1 in /usr/local/lib/python3.7/dist-packages (from requests->ray[tune]) (1.24.3)\n",
            "Requirement already satisfied: chardet<4,>=3.0.2 in /usr/local/lib/python3.7/dist-packages (from requests->ray[tune]) (3.0.4)\n",
            "Requirement already satisfied: certifi>=2017.4.17 in /usr/local/lib/python3.7/dist-packages (from requests->ray[tune]) (2021.10.8)\n",
            "Requirement already satisfied: idna<3,>=2.5 in /usr/local/lib/python3.7/dist-packages (from requests->ray[tune]) (2.10)\n",
            "Requirement already satisfied: joblib>=0.11 in /usr/local/lib/python3.7/dist-packages (from scikit-learn->tune-sklearn) (1.1.0)\n",
            "Requirement already satisfied: threadpoolctl>=2.0.0 in /usr/local/lib/python3.7/dist-packages (from scikit-learn->tune-sklearn) (3.0.0)\n",
            "Installing collected packages: deprecated, redis, tensorboardX, ray, tune-sklearn\n",
            "Successfully installed deprecated-1.2.13 ray-1.9.0 redis-4.0.2 tensorboardX-2.4.1 tune-sklearn-0.4.1\n"
          ]
        }
      ]
    },
    {
      "cell_type": "markdown",
      "metadata": {
        "id": "OQ6469qPpmAQ"
      },
      "source": [
        "### Εισαγωγή και επισκόπηση δεδομένων"
      ]
    },
    {
      "cell_type": "markdown",
      "metadata": {
        "id": "i3m9XukQpqwe"
      },
      "source": [
        "Όπως και στο προηγούμενο μέρος φορτώνουμε το dataset στο notebook και κάνουμε μία επισκόπηση στα δεδομένα του."
      ]
    },
    {
      "cell_type": "code",
      "metadata": {
        "colab": {
          "base_uri": "https://localhost:8080/"
        },
        "id": "3XnDwTN3yJiF",
        "outputId": "abbca0e2-a443-44b5-9abd-552ed1bc433d"
      },
      "source": [
        "drive.mount('/content/drive/')"
      ],
      "execution_count": 3,
      "outputs": [
        {
          "output_type": "stream",
          "name": "stdout",
          "text": [
            "Mounted at /content/drive/\n"
          ]
        }
      ]
    },
    {
      "cell_type": "code",
      "metadata": {
        "colab": {
          "base_uri": "https://localhost:8080/",
          "height": 244
        },
        "id": "aqF-8v-BqDNg",
        "outputId": "2653d8a6-f43e-4b6f-d78d-60bda083b1d6"
      },
      "source": [
        "path = '/content/drive/MyDrive/kaggle_datasets/kddcup.data_10_percent'\n",
        "df = pd.read_csv(path, header=None)\n",
        "df.columns = ['duration','protocol_type','service','flag','src_bytes','dst_bytes','land','wrong_fragment','urgent','hot',\n",
        "         'num_failed_logins','logged_in','num_compromised','root_shell','su_attempted','num_root','num_file_creations',\n",
        "         'num_shells','num_access_files','num_outbound_cmds','is_host_login','is_guest_login','count','srv_count',\n",
        "         'serror_rate','srv_serror_rate','rerror_rate','srv_rerror_rate','same_srv_rate','diff_srv_rate',\n",
        "         'srv_diff_host_rate','dst_host_count','dst_host_srv_count','dst_host_same_srv_rate',\n",
        "         'dst_host_diff_srv_rate','dst_host_same_src_port_rate','dst_host_srv_diff_host_rate','dst_host_serror_rate',\n",
        "         'dst_host_srv_serror_rate','dst_host_rerror_rate','dst_host_srv_rerror_rate','label']\n",
        "print(df.shape)\n",
        "df.head()"
      ],
      "execution_count": 4,
      "outputs": [
        {
          "output_type": "stream",
          "name": "stdout",
          "text": [
            "(494021, 42)\n"
          ]
        },
        {
          "output_type": "execute_result",
          "data": {
            "text/html": [
              "<div>\n",
              "<style scoped>\n",
              "    .dataframe tbody tr th:only-of-type {\n",
              "        vertical-align: middle;\n",
              "    }\n",
              "\n",
              "    .dataframe tbody tr th {\n",
              "        vertical-align: top;\n",
              "    }\n",
              "\n",
              "    .dataframe thead th {\n",
              "        text-align: right;\n",
              "    }\n",
              "</style>\n",
              "<table border=\"1\" class=\"dataframe\">\n",
              "  <thead>\n",
              "    <tr style=\"text-align: right;\">\n",
              "      <th></th>\n",
              "      <th>duration</th>\n",
              "      <th>protocol_type</th>\n",
              "      <th>service</th>\n",
              "      <th>flag</th>\n",
              "      <th>src_bytes</th>\n",
              "      <th>dst_bytes</th>\n",
              "      <th>land</th>\n",
              "      <th>wrong_fragment</th>\n",
              "      <th>urgent</th>\n",
              "      <th>hot</th>\n",
              "      <th>num_failed_logins</th>\n",
              "      <th>logged_in</th>\n",
              "      <th>num_compromised</th>\n",
              "      <th>root_shell</th>\n",
              "      <th>su_attempted</th>\n",
              "      <th>num_root</th>\n",
              "      <th>num_file_creations</th>\n",
              "      <th>num_shells</th>\n",
              "      <th>num_access_files</th>\n",
              "      <th>num_outbound_cmds</th>\n",
              "      <th>is_host_login</th>\n",
              "      <th>is_guest_login</th>\n",
              "      <th>count</th>\n",
              "      <th>srv_count</th>\n",
              "      <th>serror_rate</th>\n",
              "      <th>srv_serror_rate</th>\n",
              "      <th>rerror_rate</th>\n",
              "      <th>srv_rerror_rate</th>\n",
              "      <th>same_srv_rate</th>\n",
              "      <th>diff_srv_rate</th>\n",
              "      <th>srv_diff_host_rate</th>\n",
              "      <th>dst_host_count</th>\n",
              "      <th>dst_host_srv_count</th>\n",
              "      <th>dst_host_same_srv_rate</th>\n",
              "      <th>dst_host_diff_srv_rate</th>\n",
              "      <th>dst_host_same_src_port_rate</th>\n",
              "      <th>dst_host_srv_diff_host_rate</th>\n",
              "      <th>dst_host_serror_rate</th>\n",
              "      <th>dst_host_srv_serror_rate</th>\n",
              "      <th>dst_host_rerror_rate</th>\n",
              "      <th>dst_host_srv_rerror_rate</th>\n",
              "      <th>label</th>\n",
              "    </tr>\n",
              "  </thead>\n",
              "  <tbody>\n",
              "    <tr>\n",
              "      <th>0</th>\n",
              "      <td>0</td>\n",
              "      <td>tcp</td>\n",
              "      <td>http</td>\n",
              "      <td>SF</td>\n",
              "      <td>181</td>\n",
              "      <td>5450</td>\n",
              "      <td>0</td>\n",
              "      <td>0</td>\n",
              "      <td>0</td>\n",
              "      <td>0</td>\n",
              "      <td>0</td>\n",
              "      <td>1</td>\n",
              "      <td>0</td>\n",
              "      <td>0</td>\n",
              "      <td>0</td>\n",
              "      <td>0</td>\n",
              "      <td>0</td>\n",
              "      <td>0</td>\n",
              "      <td>0</td>\n",
              "      <td>0</td>\n",
              "      <td>0</td>\n",
              "      <td>0</td>\n",
              "      <td>8</td>\n",
              "      <td>8</td>\n",
              "      <td>0.0</td>\n",
              "      <td>0.0</td>\n",
              "      <td>0.0</td>\n",
              "      <td>0.0</td>\n",
              "      <td>1.0</td>\n",
              "      <td>0.0</td>\n",
              "      <td>0.0</td>\n",
              "      <td>9</td>\n",
              "      <td>9</td>\n",
              "      <td>1.0</td>\n",
              "      <td>0.0</td>\n",
              "      <td>0.11</td>\n",
              "      <td>0.0</td>\n",
              "      <td>0.0</td>\n",
              "      <td>0.0</td>\n",
              "      <td>0.0</td>\n",
              "      <td>0.0</td>\n",
              "      <td>normal.</td>\n",
              "    </tr>\n",
              "    <tr>\n",
              "      <th>1</th>\n",
              "      <td>0</td>\n",
              "      <td>tcp</td>\n",
              "      <td>http</td>\n",
              "      <td>SF</td>\n",
              "      <td>239</td>\n",
              "      <td>486</td>\n",
              "      <td>0</td>\n",
              "      <td>0</td>\n",
              "      <td>0</td>\n",
              "      <td>0</td>\n",
              "      <td>0</td>\n",
              "      <td>1</td>\n",
              "      <td>0</td>\n",
              "      <td>0</td>\n",
              "      <td>0</td>\n",
              "      <td>0</td>\n",
              "      <td>0</td>\n",
              "      <td>0</td>\n",
              "      <td>0</td>\n",
              "      <td>0</td>\n",
              "      <td>0</td>\n",
              "      <td>0</td>\n",
              "      <td>8</td>\n",
              "      <td>8</td>\n",
              "      <td>0.0</td>\n",
              "      <td>0.0</td>\n",
              "      <td>0.0</td>\n",
              "      <td>0.0</td>\n",
              "      <td>1.0</td>\n",
              "      <td>0.0</td>\n",
              "      <td>0.0</td>\n",
              "      <td>19</td>\n",
              "      <td>19</td>\n",
              "      <td>1.0</td>\n",
              "      <td>0.0</td>\n",
              "      <td>0.05</td>\n",
              "      <td>0.0</td>\n",
              "      <td>0.0</td>\n",
              "      <td>0.0</td>\n",
              "      <td>0.0</td>\n",
              "      <td>0.0</td>\n",
              "      <td>normal.</td>\n",
              "    </tr>\n",
              "    <tr>\n",
              "      <th>2</th>\n",
              "      <td>0</td>\n",
              "      <td>tcp</td>\n",
              "      <td>http</td>\n",
              "      <td>SF</td>\n",
              "      <td>235</td>\n",
              "      <td>1337</td>\n",
              "      <td>0</td>\n",
              "      <td>0</td>\n",
              "      <td>0</td>\n",
              "      <td>0</td>\n",
              "      <td>0</td>\n",
              "      <td>1</td>\n",
              "      <td>0</td>\n",
              "      <td>0</td>\n",
              "      <td>0</td>\n",
              "      <td>0</td>\n",
              "      <td>0</td>\n",
              "      <td>0</td>\n",
              "      <td>0</td>\n",
              "      <td>0</td>\n",
              "      <td>0</td>\n",
              "      <td>0</td>\n",
              "      <td>8</td>\n",
              "      <td>8</td>\n",
              "      <td>0.0</td>\n",
              "      <td>0.0</td>\n",
              "      <td>0.0</td>\n",
              "      <td>0.0</td>\n",
              "      <td>1.0</td>\n",
              "      <td>0.0</td>\n",
              "      <td>0.0</td>\n",
              "      <td>29</td>\n",
              "      <td>29</td>\n",
              "      <td>1.0</td>\n",
              "      <td>0.0</td>\n",
              "      <td>0.03</td>\n",
              "      <td>0.0</td>\n",
              "      <td>0.0</td>\n",
              "      <td>0.0</td>\n",
              "      <td>0.0</td>\n",
              "      <td>0.0</td>\n",
              "      <td>normal.</td>\n",
              "    </tr>\n",
              "    <tr>\n",
              "      <th>3</th>\n",
              "      <td>0</td>\n",
              "      <td>tcp</td>\n",
              "      <td>http</td>\n",
              "      <td>SF</td>\n",
              "      <td>219</td>\n",
              "      <td>1337</td>\n",
              "      <td>0</td>\n",
              "      <td>0</td>\n",
              "      <td>0</td>\n",
              "      <td>0</td>\n",
              "      <td>0</td>\n",
              "      <td>1</td>\n",
              "      <td>0</td>\n",
              "      <td>0</td>\n",
              "      <td>0</td>\n",
              "      <td>0</td>\n",
              "      <td>0</td>\n",
              "      <td>0</td>\n",
              "      <td>0</td>\n",
              "      <td>0</td>\n",
              "      <td>0</td>\n",
              "      <td>0</td>\n",
              "      <td>6</td>\n",
              "      <td>6</td>\n",
              "      <td>0.0</td>\n",
              "      <td>0.0</td>\n",
              "      <td>0.0</td>\n",
              "      <td>0.0</td>\n",
              "      <td>1.0</td>\n",
              "      <td>0.0</td>\n",
              "      <td>0.0</td>\n",
              "      <td>39</td>\n",
              "      <td>39</td>\n",
              "      <td>1.0</td>\n",
              "      <td>0.0</td>\n",
              "      <td>0.03</td>\n",
              "      <td>0.0</td>\n",
              "      <td>0.0</td>\n",
              "      <td>0.0</td>\n",
              "      <td>0.0</td>\n",
              "      <td>0.0</td>\n",
              "      <td>normal.</td>\n",
              "    </tr>\n",
              "    <tr>\n",
              "      <th>4</th>\n",
              "      <td>0</td>\n",
              "      <td>tcp</td>\n",
              "      <td>http</td>\n",
              "      <td>SF</td>\n",
              "      <td>217</td>\n",
              "      <td>2032</td>\n",
              "      <td>0</td>\n",
              "      <td>0</td>\n",
              "      <td>0</td>\n",
              "      <td>0</td>\n",
              "      <td>0</td>\n",
              "      <td>1</td>\n",
              "      <td>0</td>\n",
              "      <td>0</td>\n",
              "      <td>0</td>\n",
              "      <td>0</td>\n",
              "      <td>0</td>\n",
              "      <td>0</td>\n",
              "      <td>0</td>\n",
              "      <td>0</td>\n",
              "      <td>0</td>\n",
              "      <td>0</td>\n",
              "      <td>6</td>\n",
              "      <td>6</td>\n",
              "      <td>0.0</td>\n",
              "      <td>0.0</td>\n",
              "      <td>0.0</td>\n",
              "      <td>0.0</td>\n",
              "      <td>1.0</td>\n",
              "      <td>0.0</td>\n",
              "      <td>0.0</td>\n",
              "      <td>49</td>\n",
              "      <td>49</td>\n",
              "      <td>1.0</td>\n",
              "      <td>0.0</td>\n",
              "      <td>0.02</td>\n",
              "      <td>0.0</td>\n",
              "      <td>0.0</td>\n",
              "      <td>0.0</td>\n",
              "      <td>0.0</td>\n",
              "      <td>0.0</td>\n",
              "      <td>normal.</td>\n",
              "    </tr>\n",
              "  </tbody>\n",
              "</table>\n",
              "</div>"
            ],
            "text/plain": [
              "   duration protocol_type  ... dst_host_srv_rerror_rate    label\n",
              "0         0           tcp  ...                      0.0  normal.\n",
              "1         0           tcp  ...                      0.0  normal.\n",
              "2         0           tcp  ...                      0.0  normal.\n",
              "3         0           tcp  ...                      0.0  normal.\n",
              "4         0           tcp  ...                      0.0  normal.\n",
              "\n",
              "[5 rows x 42 columns]"
            ]
          },
          "metadata": {},
          "execution_count": 4
        }
      ]
    },
    {
      "cell_type": "code",
      "metadata": {
        "colab": {
          "base_uri": "https://localhost:8080/"
        },
        "id": "SOxUkUgb5GJA",
        "outputId": "a795a503-9d97-4f28-9de3-3fb360f7b41f"
      },
      "source": [
        "# get names of columns with categorical variables\n",
        "s = (df.dtypes=='object')\n",
        "object_cols = list(s[s].index)\n",
        "print(\"Categorical variables:\")\n",
        "print(object_cols)"
      ],
      "execution_count": 5,
      "outputs": [
        {
          "output_type": "stream",
          "name": "stdout",
          "text": [
            "Categorical variables:\n",
            "['protocol_type', 'service', 'flag', 'label']\n"
          ]
        }
      ]
    },
    {
      "cell_type": "markdown",
      "metadata": {
        "id": "Lqaf4BXBtFWJ"
      },
      "source": [
        "  Δεν χρειάστηκε κάποια αλλαγή για να καταφέρουμε να διαβάσουμε το αρχείο στο notebook. Παρατηρούμε πως τα δεδομένα του dataset είναι πολύ περισσότερα από αυτά του προηγούμενου μέρους της άσκησης. Στο dataset δεν έχουμε τιμές που απουσιάζουν, ενώ βλέπουμε πως έχουμε συνολικά 42 στήλες, δηλαδή 41 χαρακτηριστικά και 1 label (η τελευταία στήλη). Από το [description](http://kdd.ics.uci.edu/databases/kddcup99/kddcup.names) του dataset και μία γρήγορη επισκόπηση του dataset βλέπουμε ότι τα χαρακτηριστικά protocol_type, service, flag και το label είναι τα μόνα που δεν λαμβάνουν αριθμητικές τιμές, ενώ τα χαρακτηριστικά land, logged_in, is_host_login και is_guest_login είναι τα μόνα αριθμητικά δεδομένα που δεν λαμβάνουν συνεχείς τιμές (1:yes/0:no)."
      ]
    },
    {
      "cell_type": "code",
      "metadata": {
        "colab": {
          "base_uri": "https://localhost:8080/"
        },
        "id": "iDtOLCJvvoSW",
        "outputId": "7eaa1569-2e88-43fb-8990-90077813569b"
      },
      "source": [
        "# Επιβεβαιώνουμε πως δεν υπάρχουν κενά πεδία στο dataframe\n",
        "print(\"Total missing values:\", df.isnull().sum().sum())"
      ],
      "execution_count": 6,
      "outputs": [
        {
          "output_type": "stream",
          "name": "stdout",
          "text": [
            "Total missing values: 0\n"
          ]
        }
      ]
    },
    {
      "cell_type": "markdown",
      "metadata": {
        "id": "DR3MEX9Nz42T"
      },
      "source": [
        "Μετονομάζουμε τις τιμές 'normal.' του label σε 0 και τις υπόλοιπες σε 1, ώστε το 1 να συμβολίζει κακόβουλη σύνδεση και το 0 κανονική σύνδεση."
      ]
    },
    {
      "cell_type": "code",
      "metadata": {
        "id": "x8RmxAvvzG1J"
      },
      "source": [
        "df.loc[df.label == 'normal.', 'label'] = 0\n",
        "df.loc[df.label != 0, 'label'] = 1\n",
        "df['label'] = df['label'].astype(str).astype(int)"
      ],
      "execution_count": 7,
      "outputs": []
    },
    {
      "cell_type": "code",
      "metadata": {
        "colab": {
          "base_uri": "https://localhost:8080/"
        },
        "id": "mF1GIJM-wMUw",
        "outputId": "85c67663-9d6f-41db-d762-63fa46d3bac6"
      },
      "source": [
        "# count instances of each class\n",
        "class1 = df.iloc[:,41].sum()\n",
        "class0 = df.shape[0] - class1\n",
        "print(\"Class 0 has {} samples which represents {:.1f}% of all samples\".format\n",
        "      (class0, class0/df.shape[0]*100))\n",
        "print(\"Class 1 has {} samples which represents {:.1f}% of all samples\".format\n",
        "      (class1, class1/df.shape[0]*100))"
      ],
      "execution_count": 8,
      "outputs": [
        {
          "output_type": "stream",
          "name": "stdout",
          "text": [
            "Class 0 has 97278 samples which represents 19.7% of all samples\n",
            "Class 1 has 396743 samples which represents 80.3% of all samples\n"
          ]
        }
      ]
    },
    {
      "cell_type": "markdown",
      "metadata": {
        "id": "utVP8p1a0JwX"
      },
      "source": [
        "Παρατηρούμε πως έχουμε σημαντικό βαθμό class imbalance, καθώς 8 στα 10 περίπου δείγματα αποτελούν κακόβουλη σύνδεση."
      ]
    },
    {
      "cell_type": "markdown",
      "metadata": {
        "id": "zJ4EgtQQ6Pfu"
      },
      "source": [
        "Βλέπουμε όλες τις τιμές που λαμβάνουν τα κατηγορικά δεδομένα με σκοπό να αποφασίσουμε τι είδους κωδικοποίηση να ακολουθήσουμε."
      ]
    },
    {
      "cell_type": "code",
      "metadata": {
        "colab": {
          "base_uri": "https://localhost:8080/"
        },
        "id": "5g9Ijcmb0yGO",
        "outputId": "8052a092-6d85-446b-9a50-7d116d2e934d"
      },
      "source": [
        "print(\"protocol_type values:\")\n",
        "print(df.loc[:,'protocol_type'].unique(), end=\"\\n\\n\")\n",
        "print(\"service values:\")\n",
        "print(df.loc[:,'service'].unique(), end=\"\\n\\n\")\n",
        "print(\"flag values\")\n",
        "print(df.loc[:,'flag'].unique())"
      ],
      "execution_count": 9,
      "outputs": [
        {
          "output_type": "stream",
          "name": "stdout",
          "text": [
            "protocol_type values:\n",
            "['tcp' 'udp' 'icmp']\n",
            "\n",
            "service values:\n",
            "['http' 'smtp' 'finger' 'domain_u' 'auth' 'telnet' 'ftp' 'eco_i' 'ntp_u'\n",
            " 'ecr_i' 'other' 'private' 'pop_3' 'ftp_data' 'rje' 'time' 'mtp' 'link'\n",
            " 'remote_job' 'gopher' 'ssh' 'name' 'whois' 'domain' 'login' 'imap4'\n",
            " 'daytime' 'ctf' 'nntp' 'shell' 'IRC' 'nnsp' 'http_443' 'exec' 'printer'\n",
            " 'efs' 'courier' 'uucp' 'klogin' 'kshell' 'echo' 'discard' 'systat'\n",
            " 'supdup' 'iso_tsap' 'hostnames' 'csnet_ns' 'pop_2' 'sunrpc' 'uucp_path'\n",
            " 'netbios_ns' 'netbios_ssn' 'netbios_dgm' 'sql_net' 'vmnet' 'bgp' 'Z39_50'\n",
            " 'ldap' 'netstat' 'urh_i' 'X11' 'urp_i' 'pm_dump' 'tftp_u' 'tim_i' 'red_i']\n",
            "\n",
            "flag values\n",
            "['SF' 'S1' 'REJ' 'S2' 'S0' 'S3' 'RSTO' 'RSTR' 'RSTOS0' 'OTH' 'SH']\n"
          ]
        }
      ]
    },
    {
      "cell_type": "markdown",
      "metadata": {
        "id": "Kk0Dd23c6bkC"
      },
      "source": [
        "Τα δεδομένα του χαρακτηριστικού protocol_type λαμβάνουν μόνο 3 διαφορετικές τιμές, οπότε η κωδικοποίηση one-hot φαίνεται πως θα λειτουργήσει ικανοποιητικά για αυτό. Από την άλλη μεριά οι τιμές του χαρακτηριστικού service είναι πάρα πολλές και η one-hot κωδικοποίηση θα μεγαλώσει υπερβολικά τη διαστατικότητα του προβλήματος. Όμως για να μην αφαιρέσουμε την πληροφορία από το dataset μας επιλέγουμε να κάνουμε χρήση του ordinal encoding. Την ίδια απόφαση παίρνουμε και για το χαρακτηριστικό flag που εμφανίζει παρόμοια συμπεριφορά."
      ]
    },
    {
      "cell_type": "markdown",
      "metadata": {
        "id": "B2Kc8v8b0enA"
      },
      "source": [
        "### Προετοιμασία δεδομένων\n",
        "Στο στάδιο αυτό θα επεξεργαστούμε κατάλληλα τα δεδομένα ώστε να είναι κατάλληλα διαμορφωμένα για να δοθούν στα μοντέλα πρόβλεψης.\n",
        "\n"
      ]
    },
    {
      "cell_type": "markdown",
      "metadata": {
        "id": "An9TnHn18OpW"
      },
      "source": [
        "Αρχικά πριν από κάθε αλλαγή θα χωρίσουμε το dataset σε features και labels και ύστερα θα κάνουμε τον διαχωρισμό σε training και test set. Επιλέγουμε το test set να αποτελεί το 40% του συνολικού dataset διότι λόγω του μεγέθους του dataset έχουμε αρκετά δεδομένα στο υπόλοιπο 60% για να κάνουμε την εκπαίδευση και το αποτέλεσμα στο test set θα είναι πιο αντιπροσωπευτικό αν είναι μεγαλύτερο το μέγεθός του. Επιπλέον θα δημιουργήσουμε ένα υποσύνολο του training set για να χρησιμοποιήσουμε για ταχύτερη εκπαίδευση των μοντέλων πρόβλεψης καθώς το μεγάλο μέγεθος του dataset μας επιτρέπει κάτι τέτοιο."
      ]
    },
    {
      "cell_type": "markdown",
      "metadata": {
        "id": "xL-DlfDnzN_W"
      },
      "source": [
        "Λόγω του μεγάλου χρόνου εκπαίδευσης του SVM, για την εκπαίδευσή του θα χρησιμοποιήσουμε ένα subset του training set."
      ]
    },
    {
      "cell_type": "code",
      "metadata": {
        "id": "xo3wYHyl0hdn"
      },
      "source": [
        "# differentiate labels from features\n",
        "X_df = df.iloc[:,:41].copy()\n",
        "y_df = df.iloc[:,41].copy()\n",
        "\n",
        "# create train and test sets\n",
        "X_train, X_test, y_train, y_test = train_test_split(X_df, y_df, test_size=.4)\n",
        "X_train_red, X_test_red, y_train_red, y_test_red = train_test_split(X_train, y_train, train_size=0.25)"
      ],
      "execution_count": 10,
      "outputs": []
    },
    {
      "cell_type": "markdown",
      "metadata": {
        "id": "5zl8m1mM_QYp"
      },
      "source": [
        "Στο σημείο αυτό κάνουμε το encoding των κατηγορικών μεταβλητών όπως αναφέραμε παραπάνω. Για το ordinal encoding βρίσκουμε πόσες ξεχωριστές τιμές βρίσκονται στο training set και δίνουμε την τιμή n+1 στα δεδομένα που συναντάμε πρώτη φορά στο test set."
      ]
    },
    {
      "cell_type": "code",
      "metadata": {
        "colab": {
          "base_uri": "https://localhost:8080/"
        },
        "id": "YvRhVOyR80e9",
        "outputId": "da79fd90-a9da-4ae2-b614-be12b39e905b"
      },
      "source": [
        "print('Total service values to encode')\n",
        "print(len(X_train.loc[:,'service'].unique()), end='\\n\\n')\n",
        "print('Total flag values to encode')\n",
        "print(len(X_train.loc[:,'flag'].unique()))"
      ],
      "execution_count": 11,
      "outputs": [
        {
          "output_type": "stream",
          "name": "stdout",
          "text": [
            "Total service values to encode\n",
            "66\n",
            "\n",
            "Total flag values to encode\n",
            "11\n"
          ]
        }
      ]
    },
    {
      "cell_type": "code",
      "metadata": {
        "id": "I11Oag8YArtU"
      },
      "source": [
        "# first use ordinal encoder to handle 'service' and 'flag' features\n",
        "ord_encoder = OrdinalEncoder(handle_unknown='use_encoded_value', unknown_value=66)\n",
        "X_train[['service','flag']] = ord_encoder.fit_transform(X_train[['service','flag']])\n",
        "X_test[['service','flag']] = ord_encoder.transform(X_test[['service','flag']])\n",
        "X_train_red[['service','flag']] = ord_encoder.fit_transform(X_train_red[['service','flag']])\n",
        "\n",
        "# now use one-hot encodine on 'protocol_type' feature\n",
        "oh_encoder = OneHotEncoder(handle_unknown='ignore', sparse=False)\n",
        "oh_cols_train = pd.DataFrame(oh_encoder.fit_transform(X_train[['protocol_type']]))\n",
        "oh_cols_test = pd.DataFrame(oh_encoder.transform(X_test[['protocol_type']]))\n",
        "oh_cols_train_red = pd.DataFrame(oh_encoder.transform(X_train_red[['protocol_type']]))\n",
        "\n",
        "oh_cols_train.index = X_train.index\n",
        "oh_cols_test.index = X_test.index\n",
        "oh_cols_train_red.index = X_train_red.index\n",
        "num_X_train = X_train.drop(['protocol_type'], axis=1)\n",
        "num_X_test = X_test.drop(['protocol_type'], axis=1)\n",
        "num_X_train_red = X_train_red.drop(['protocol_type'], axis=1)\n",
        "X_train = pd.concat([num_X_train, oh_cols_train], axis=1)\n",
        "X_test = pd.concat([num_X_test, oh_cols_test], axis=1)\n",
        "X_train_red = pd.concat([num_X_train_red, oh_cols_train_red], axis=1)\n",
        "\n",
        "X_train.rename(columns={0: \"protocol_type_0\", 1: \"protocol_type_1\", 2: \"protocol_type_2\"}, inplace=True)\n",
        "X_test.rename(columns={0: \"protocol_type_0\", 1: \"protocol_type_1\", 2: \"protocol_type_2\"}, inplace=True)\n",
        "X_train_red.rename(columns={0: \"protocol_type_0\", 1: \"protocol_type_1\", 2: \"protocol_type_2\"}, inplace=True)"
      ],
      "execution_count": 12,
      "outputs": []
    },
    {
      "cell_type": "markdown",
      "metadata": {
        "id": "hfqyJmd9CkKW"
      },
      "source": [
        "Ελέγχουμε πως έχουμε μόνο αριθμητικά δεδομένα στα datasets και πως δεν χάσαμε δείγματα."
      ]
    },
    {
      "cell_type": "code",
      "metadata": {
        "colab": {
          "base_uri": "https://localhost:8080/",
          "height": 226
        },
        "id": "eCKSdjjCCRws",
        "outputId": "83cbd045-4233-4dd0-e190-399e8c0a0ece"
      },
      "source": [
        "X_train.head()"
      ],
      "execution_count": 13,
      "outputs": [
        {
          "output_type": "execute_result",
          "data": {
            "text/html": [
              "<div>\n",
              "<style scoped>\n",
              "    .dataframe tbody tr th:only-of-type {\n",
              "        vertical-align: middle;\n",
              "    }\n",
              "\n",
              "    .dataframe tbody tr th {\n",
              "        vertical-align: top;\n",
              "    }\n",
              "\n",
              "    .dataframe thead th {\n",
              "        text-align: right;\n",
              "    }\n",
              "</style>\n",
              "<table border=\"1\" class=\"dataframe\">\n",
              "  <thead>\n",
              "    <tr style=\"text-align: right;\">\n",
              "      <th></th>\n",
              "      <th>duration</th>\n",
              "      <th>service</th>\n",
              "      <th>flag</th>\n",
              "      <th>src_bytes</th>\n",
              "      <th>dst_bytes</th>\n",
              "      <th>land</th>\n",
              "      <th>wrong_fragment</th>\n",
              "      <th>urgent</th>\n",
              "      <th>hot</th>\n",
              "      <th>num_failed_logins</th>\n",
              "      <th>logged_in</th>\n",
              "      <th>num_compromised</th>\n",
              "      <th>root_shell</th>\n",
              "      <th>su_attempted</th>\n",
              "      <th>num_root</th>\n",
              "      <th>num_file_creations</th>\n",
              "      <th>num_shells</th>\n",
              "      <th>num_access_files</th>\n",
              "      <th>num_outbound_cmds</th>\n",
              "      <th>is_host_login</th>\n",
              "      <th>is_guest_login</th>\n",
              "      <th>count</th>\n",
              "      <th>srv_count</th>\n",
              "      <th>serror_rate</th>\n",
              "      <th>srv_serror_rate</th>\n",
              "      <th>rerror_rate</th>\n",
              "      <th>srv_rerror_rate</th>\n",
              "      <th>same_srv_rate</th>\n",
              "      <th>diff_srv_rate</th>\n",
              "      <th>srv_diff_host_rate</th>\n",
              "      <th>dst_host_count</th>\n",
              "      <th>dst_host_srv_count</th>\n",
              "      <th>dst_host_same_srv_rate</th>\n",
              "      <th>dst_host_diff_srv_rate</th>\n",
              "      <th>dst_host_same_src_port_rate</th>\n",
              "      <th>dst_host_srv_diff_host_rate</th>\n",
              "      <th>dst_host_serror_rate</th>\n",
              "      <th>dst_host_srv_serror_rate</th>\n",
              "      <th>dst_host_rerror_rate</th>\n",
              "      <th>dst_host_srv_rerror_rate</th>\n",
              "      <th>protocol_type_0</th>\n",
              "      <th>protocol_type_1</th>\n",
              "      <th>protocol_type_2</th>\n",
              "    </tr>\n",
              "  </thead>\n",
              "  <tbody>\n",
              "    <tr>\n",
              "      <th>301465</th>\n",
              "      <td>0</td>\n",
              "      <td>14.0</td>\n",
              "      <td>9.0</td>\n",
              "      <td>1032</td>\n",
              "      <td>0</td>\n",
              "      <td>0</td>\n",
              "      <td>0</td>\n",
              "      <td>0</td>\n",
              "      <td>0</td>\n",
              "      <td>0</td>\n",
              "      <td>0</td>\n",
              "      <td>0</td>\n",
              "      <td>0</td>\n",
              "      <td>0</td>\n",
              "      <td>0</td>\n",
              "      <td>0</td>\n",
              "      <td>0</td>\n",
              "      <td>0</td>\n",
              "      <td>0</td>\n",
              "      <td>0</td>\n",
              "      <td>0</td>\n",
              "      <td>511</td>\n",
              "      <td>511</td>\n",
              "      <td>0.0</td>\n",
              "      <td>0.0</td>\n",
              "      <td>0.0</td>\n",
              "      <td>0.0</td>\n",
              "      <td>1.00</td>\n",
              "      <td>0.00</td>\n",
              "      <td>0.0</td>\n",
              "      <td>255</td>\n",
              "      <td>255</td>\n",
              "      <td>1.00</td>\n",
              "      <td>0.00</td>\n",
              "      <td>1.0</td>\n",
              "      <td>0.0</td>\n",
              "      <td>0.0</td>\n",
              "      <td>0.0</td>\n",
              "      <td>0.0</td>\n",
              "      <td>0.0</td>\n",
              "      <td>1.0</td>\n",
              "      <td>0.0</td>\n",
              "      <td>0.0</td>\n",
              "    </tr>\n",
              "    <tr>\n",
              "      <th>339900</th>\n",
              "      <td>0</td>\n",
              "      <td>14.0</td>\n",
              "      <td>9.0</td>\n",
              "      <td>1032</td>\n",
              "      <td>0</td>\n",
              "      <td>0</td>\n",
              "      <td>0</td>\n",
              "      <td>0</td>\n",
              "      <td>0</td>\n",
              "      <td>0</td>\n",
              "      <td>0</td>\n",
              "      <td>0</td>\n",
              "      <td>0</td>\n",
              "      <td>0</td>\n",
              "      <td>0</td>\n",
              "      <td>0</td>\n",
              "      <td>0</td>\n",
              "      <td>0</td>\n",
              "      <td>0</td>\n",
              "      <td>0</td>\n",
              "      <td>0</td>\n",
              "      <td>511</td>\n",
              "      <td>511</td>\n",
              "      <td>0.0</td>\n",
              "      <td>0.0</td>\n",
              "      <td>0.0</td>\n",
              "      <td>0.0</td>\n",
              "      <td>1.00</td>\n",
              "      <td>0.00</td>\n",
              "      <td>0.0</td>\n",
              "      <td>255</td>\n",
              "      <td>255</td>\n",
              "      <td>1.00</td>\n",
              "      <td>0.00</td>\n",
              "      <td>1.0</td>\n",
              "      <td>0.0</td>\n",
              "      <td>0.0</td>\n",
              "      <td>0.0</td>\n",
              "      <td>0.0</td>\n",
              "      <td>0.0</td>\n",
              "      <td>1.0</td>\n",
              "      <td>0.0</td>\n",
              "      <td>0.0</td>\n",
              "    </tr>\n",
              "    <tr>\n",
              "      <th>210453</th>\n",
              "      <td>0</td>\n",
              "      <td>14.0</td>\n",
              "      <td>9.0</td>\n",
              "      <td>1032</td>\n",
              "      <td>0</td>\n",
              "      <td>0</td>\n",
              "      <td>0</td>\n",
              "      <td>0</td>\n",
              "      <td>0</td>\n",
              "      <td>0</td>\n",
              "      <td>0</td>\n",
              "      <td>0</td>\n",
              "      <td>0</td>\n",
              "      <td>0</td>\n",
              "      <td>0</td>\n",
              "      <td>0</td>\n",
              "      <td>0</td>\n",
              "      <td>0</td>\n",
              "      <td>0</td>\n",
              "      <td>0</td>\n",
              "      <td>0</td>\n",
              "      <td>511</td>\n",
              "      <td>511</td>\n",
              "      <td>0.0</td>\n",
              "      <td>0.0</td>\n",
              "      <td>0.0</td>\n",
              "      <td>0.0</td>\n",
              "      <td>1.00</td>\n",
              "      <td>0.00</td>\n",
              "      <td>0.0</td>\n",
              "      <td>255</td>\n",
              "      <td>255</td>\n",
              "      <td>1.00</td>\n",
              "      <td>0.00</td>\n",
              "      <td>1.0</td>\n",
              "      <td>0.0</td>\n",
              "      <td>0.0</td>\n",
              "      <td>0.0</td>\n",
              "      <td>0.0</td>\n",
              "      <td>0.0</td>\n",
              "      <td>1.0</td>\n",
              "      <td>0.0</td>\n",
              "      <td>0.0</td>\n",
              "    </tr>\n",
              "    <tr>\n",
              "      <th>226684</th>\n",
              "      <td>0</td>\n",
              "      <td>14.0</td>\n",
              "      <td>9.0</td>\n",
              "      <td>1032</td>\n",
              "      <td>0</td>\n",
              "      <td>0</td>\n",
              "      <td>0</td>\n",
              "      <td>0</td>\n",
              "      <td>0</td>\n",
              "      <td>0</td>\n",
              "      <td>0</td>\n",
              "      <td>0</td>\n",
              "      <td>0</td>\n",
              "      <td>0</td>\n",
              "      <td>0</td>\n",
              "      <td>0</td>\n",
              "      <td>0</td>\n",
              "      <td>0</td>\n",
              "      <td>0</td>\n",
              "      <td>0</td>\n",
              "      <td>0</td>\n",
              "      <td>511</td>\n",
              "      <td>511</td>\n",
              "      <td>0.0</td>\n",
              "      <td>0.0</td>\n",
              "      <td>0.0</td>\n",
              "      <td>0.0</td>\n",
              "      <td>1.00</td>\n",
              "      <td>0.00</td>\n",
              "      <td>0.0</td>\n",
              "      <td>255</td>\n",
              "      <td>255</td>\n",
              "      <td>1.00</td>\n",
              "      <td>0.00</td>\n",
              "      <td>1.0</td>\n",
              "      <td>0.0</td>\n",
              "      <td>0.0</td>\n",
              "      <td>0.0</td>\n",
              "      <td>0.0</td>\n",
              "      <td>0.0</td>\n",
              "      <td>1.0</td>\n",
              "      <td>0.0</td>\n",
              "      <td>0.0</td>\n",
              "    </tr>\n",
              "    <tr>\n",
              "      <th>462713</th>\n",
              "      <td>0</td>\n",
              "      <td>45.0</td>\n",
              "      <td>1.0</td>\n",
              "      <td>0</td>\n",
              "      <td>0</td>\n",
              "      <td>0</td>\n",
              "      <td>0</td>\n",
              "      <td>0</td>\n",
              "      <td>0</td>\n",
              "      <td>0</td>\n",
              "      <td>0</td>\n",
              "      <td>0</td>\n",
              "      <td>0</td>\n",
              "      <td>0</td>\n",
              "      <td>0</td>\n",
              "      <td>0</td>\n",
              "      <td>0</td>\n",
              "      <td>0</td>\n",
              "      <td>0</td>\n",
              "      <td>0</td>\n",
              "      <td>0</td>\n",
              "      <td>132</td>\n",
              "      <td>6</td>\n",
              "      <td>0.0</td>\n",
              "      <td>0.0</td>\n",
              "      <td>1.0</td>\n",
              "      <td>1.0</td>\n",
              "      <td>0.05</td>\n",
              "      <td>0.06</td>\n",
              "      <td>0.0</td>\n",
              "      <td>255</td>\n",
              "      <td>6</td>\n",
              "      <td>0.02</td>\n",
              "      <td>0.06</td>\n",
              "      <td>0.0</td>\n",
              "      <td>0.0</td>\n",
              "      <td>0.0</td>\n",
              "      <td>0.0</td>\n",
              "      <td>1.0</td>\n",
              "      <td>1.0</td>\n",
              "      <td>0.0</td>\n",
              "      <td>1.0</td>\n",
              "      <td>0.0</td>\n",
              "    </tr>\n",
              "  </tbody>\n",
              "</table>\n",
              "</div>"
            ],
            "text/plain": [
              "        duration  service  ...  protocol_type_1  protocol_type_2\n",
              "301465         0     14.0  ...              0.0              0.0\n",
              "339900         0     14.0  ...              0.0              0.0\n",
              "210453         0     14.0  ...              0.0              0.0\n",
              "226684         0     14.0  ...              0.0              0.0\n",
              "462713         0     45.0  ...              1.0              0.0\n",
              "\n",
              "[5 rows x 43 columns]"
            ]
          },
          "metadata": {},
          "execution_count": 13
        }
      ]
    },
    {
      "cell_type": "code",
      "metadata": {
        "colab": {
          "base_uri": "https://localhost:8080/",
          "height": 226
        },
        "id": "4ABJufSICvod",
        "outputId": "e556cc63-79d6-4428-d77a-ac2df31c6342"
      },
      "source": [
        "X_test.head()"
      ],
      "execution_count": 14,
      "outputs": [
        {
          "output_type": "execute_result",
          "data": {
            "text/html": [
              "<div>\n",
              "<style scoped>\n",
              "    .dataframe tbody tr th:only-of-type {\n",
              "        vertical-align: middle;\n",
              "    }\n",
              "\n",
              "    .dataframe tbody tr th {\n",
              "        vertical-align: top;\n",
              "    }\n",
              "\n",
              "    .dataframe thead th {\n",
              "        text-align: right;\n",
              "    }\n",
              "</style>\n",
              "<table border=\"1\" class=\"dataframe\">\n",
              "  <thead>\n",
              "    <tr style=\"text-align: right;\">\n",
              "      <th></th>\n",
              "      <th>duration</th>\n",
              "      <th>service</th>\n",
              "      <th>flag</th>\n",
              "      <th>src_bytes</th>\n",
              "      <th>dst_bytes</th>\n",
              "      <th>land</th>\n",
              "      <th>wrong_fragment</th>\n",
              "      <th>urgent</th>\n",
              "      <th>hot</th>\n",
              "      <th>num_failed_logins</th>\n",
              "      <th>logged_in</th>\n",
              "      <th>num_compromised</th>\n",
              "      <th>root_shell</th>\n",
              "      <th>su_attempted</th>\n",
              "      <th>num_root</th>\n",
              "      <th>num_file_creations</th>\n",
              "      <th>num_shells</th>\n",
              "      <th>num_access_files</th>\n",
              "      <th>num_outbound_cmds</th>\n",
              "      <th>is_host_login</th>\n",
              "      <th>is_guest_login</th>\n",
              "      <th>count</th>\n",
              "      <th>srv_count</th>\n",
              "      <th>serror_rate</th>\n",
              "      <th>srv_serror_rate</th>\n",
              "      <th>rerror_rate</th>\n",
              "      <th>srv_rerror_rate</th>\n",
              "      <th>same_srv_rate</th>\n",
              "      <th>diff_srv_rate</th>\n",
              "      <th>srv_diff_host_rate</th>\n",
              "      <th>dst_host_count</th>\n",
              "      <th>dst_host_srv_count</th>\n",
              "      <th>dst_host_same_srv_rate</th>\n",
              "      <th>dst_host_diff_srv_rate</th>\n",
              "      <th>dst_host_same_src_port_rate</th>\n",
              "      <th>dst_host_srv_diff_host_rate</th>\n",
              "      <th>dst_host_serror_rate</th>\n",
              "      <th>dst_host_srv_serror_rate</th>\n",
              "      <th>dst_host_rerror_rate</th>\n",
              "      <th>dst_host_srv_rerror_rate</th>\n",
              "      <th>protocol_type_0</th>\n",
              "      <th>protocol_type_1</th>\n",
              "      <th>protocol_type_2</th>\n",
              "    </tr>\n",
              "  </thead>\n",
              "  <tbody>\n",
              "    <tr>\n",
              "      <th>135770</th>\n",
              "      <td>0</td>\n",
              "      <td>14.0</td>\n",
              "      <td>9.0</td>\n",
              "      <td>1032</td>\n",
              "      <td>0</td>\n",
              "      <td>0</td>\n",
              "      <td>0</td>\n",
              "      <td>0</td>\n",
              "      <td>0</td>\n",
              "      <td>0</td>\n",
              "      <td>0</td>\n",
              "      <td>0</td>\n",
              "      <td>0</td>\n",
              "      <td>0</td>\n",
              "      <td>0</td>\n",
              "      <td>0</td>\n",
              "      <td>0</td>\n",
              "      <td>0</td>\n",
              "      <td>0</td>\n",
              "      <td>0</td>\n",
              "      <td>0</td>\n",
              "      <td>511</td>\n",
              "      <td>511</td>\n",
              "      <td>0.0</td>\n",
              "      <td>0.0</td>\n",
              "      <td>0.0</td>\n",
              "      <td>0.0</td>\n",
              "      <td>1.0</td>\n",
              "      <td>0.0</td>\n",
              "      <td>0.0</td>\n",
              "      <td>255</td>\n",
              "      <td>255</td>\n",
              "      <td>1.0</td>\n",
              "      <td>0.00</td>\n",
              "      <td>1.0</td>\n",
              "      <td>0.0</td>\n",
              "      <td>0.0</td>\n",
              "      <td>0.0</td>\n",
              "      <td>0.0</td>\n",
              "      <td>0.0</td>\n",
              "      <td>1.0</td>\n",
              "      <td>0.0</td>\n",
              "      <td>0.0</td>\n",
              "    </tr>\n",
              "    <tr>\n",
              "      <th>230201</th>\n",
              "      <td>0</td>\n",
              "      <td>14.0</td>\n",
              "      <td>9.0</td>\n",
              "      <td>1032</td>\n",
              "      <td>0</td>\n",
              "      <td>0</td>\n",
              "      <td>0</td>\n",
              "      <td>0</td>\n",
              "      <td>0</td>\n",
              "      <td>0</td>\n",
              "      <td>0</td>\n",
              "      <td>0</td>\n",
              "      <td>0</td>\n",
              "      <td>0</td>\n",
              "      <td>0</td>\n",
              "      <td>0</td>\n",
              "      <td>0</td>\n",
              "      <td>0</td>\n",
              "      <td>0</td>\n",
              "      <td>0</td>\n",
              "      <td>0</td>\n",
              "      <td>511</td>\n",
              "      <td>511</td>\n",
              "      <td>0.0</td>\n",
              "      <td>0.0</td>\n",
              "      <td>0.0</td>\n",
              "      <td>0.0</td>\n",
              "      <td>1.0</td>\n",
              "      <td>0.0</td>\n",
              "      <td>0.0</td>\n",
              "      <td>255</td>\n",
              "      <td>255</td>\n",
              "      <td>1.0</td>\n",
              "      <td>0.00</td>\n",
              "      <td>1.0</td>\n",
              "      <td>0.0</td>\n",
              "      <td>0.0</td>\n",
              "      <td>0.0</td>\n",
              "      <td>0.0</td>\n",
              "      <td>0.0</td>\n",
              "      <td>1.0</td>\n",
              "      <td>0.0</td>\n",
              "      <td>0.0</td>\n",
              "    </tr>\n",
              "    <tr>\n",
              "      <th>174747</th>\n",
              "      <td>0</td>\n",
              "      <td>14.0</td>\n",
              "      <td>9.0</td>\n",
              "      <td>1032</td>\n",
              "      <td>0</td>\n",
              "      <td>0</td>\n",
              "      <td>0</td>\n",
              "      <td>0</td>\n",
              "      <td>0</td>\n",
              "      <td>0</td>\n",
              "      <td>0</td>\n",
              "      <td>0</td>\n",
              "      <td>0</td>\n",
              "      <td>0</td>\n",
              "      <td>0</td>\n",
              "      <td>0</td>\n",
              "      <td>0</td>\n",
              "      <td>0</td>\n",
              "      <td>0</td>\n",
              "      <td>0</td>\n",
              "      <td>0</td>\n",
              "      <td>511</td>\n",
              "      <td>511</td>\n",
              "      <td>0.0</td>\n",
              "      <td>0.0</td>\n",
              "      <td>0.0</td>\n",
              "      <td>0.0</td>\n",
              "      <td>1.0</td>\n",
              "      <td>0.0</td>\n",
              "      <td>0.0</td>\n",
              "      <td>255</td>\n",
              "      <td>255</td>\n",
              "      <td>1.0</td>\n",
              "      <td>0.00</td>\n",
              "      <td>1.0</td>\n",
              "      <td>0.0</td>\n",
              "      <td>0.0</td>\n",
              "      <td>0.0</td>\n",
              "      <td>0.0</td>\n",
              "      <td>0.0</td>\n",
              "      <td>1.0</td>\n",
              "      <td>0.0</td>\n",
              "      <td>0.0</td>\n",
              "    </tr>\n",
              "    <tr>\n",
              "      <th>382704</th>\n",
              "      <td>0</td>\n",
              "      <td>45.0</td>\n",
              "      <td>5.0</td>\n",
              "      <td>0</td>\n",
              "      <td>0</td>\n",
              "      <td>0</td>\n",
              "      <td>0</td>\n",
              "      <td>0</td>\n",
              "      <td>0</td>\n",
              "      <td>0</td>\n",
              "      <td>0</td>\n",
              "      <td>0</td>\n",
              "      <td>0</td>\n",
              "      <td>0</td>\n",
              "      <td>0</td>\n",
              "      <td>0</td>\n",
              "      <td>0</td>\n",
              "      <td>0</td>\n",
              "      <td>0</td>\n",
              "      <td>0</td>\n",
              "      <td>0</td>\n",
              "      <td>1</td>\n",
              "      <td>1</td>\n",
              "      <td>1.0</td>\n",
              "      <td>1.0</td>\n",
              "      <td>0.0</td>\n",
              "      <td>0.0</td>\n",
              "      <td>1.0</td>\n",
              "      <td>0.0</td>\n",
              "      <td>0.0</td>\n",
              "      <td>255</td>\n",
              "      <td>1</td>\n",
              "      <td>0.0</td>\n",
              "      <td>0.07</td>\n",
              "      <td>0.0</td>\n",
              "      <td>0.0</td>\n",
              "      <td>1.0</td>\n",
              "      <td>1.0</td>\n",
              "      <td>0.0</td>\n",
              "      <td>0.0</td>\n",
              "      <td>0.0</td>\n",
              "      <td>1.0</td>\n",
              "      <td>0.0</td>\n",
              "    </tr>\n",
              "    <tr>\n",
              "      <th>434279</th>\n",
              "      <td>0</td>\n",
              "      <td>14.0</td>\n",
              "      <td>9.0</td>\n",
              "      <td>520</td>\n",
              "      <td>0</td>\n",
              "      <td>0</td>\n",
              "      <td>0</td>\n",
              "      <td>0</td>\n",
              "      <td>0</td>\n",
              "      <td>0</td>\n",
              "      <td>0</td>\n",
              "      <td>0</td>\n",
              "      <td>0</td>\n",
              "      <td>0</td>\n",
              "      <td>0</td>\n",
              "      <td>0</td>\n",
              "      <td>0</td>\n",
              "      <td>0</td>\n",
              "      <td>0</td>\n",
              "      <td>0</td>\n",
              "      <td>0</td>\n",
              "      <td>511</td>\n",
              "      <td>511</td>\n",
              "      <td>0.0</td>\n",
              "      <td>0.0</td>\n",
              "      <td>0.0</td>\n",
              "      <td>0.0</td>\n",
              "      <td>1.0</td>\n",
              "      <td>0.0</td>\n",
              "      <td>0.0</td>\n",
              "      <td>255</td>\n",
              "      <td>255</td>\n",
              "      <td>1.0</td>\n",
              "      <td>0.00</td>\n",
              "      <td>1.0</td>\n",
              "      <td>0.0</td>\n",
              "      <td>0.0</td>\n",
              "      <td>0.0</td>\n",
              "      <td>0.0</td>\n",
              "      <td>0.0</td>\n",
              "      <td>1.0</td>\n",
              "      <td>0.0</td>\n",
              "      <td>0.0</td>\n",
              "    </tr>\n",
              "  </tbody>\n",
              "</table>\n",
              "</div>"
            ],
            "text/plain": [
              "        duration  service  ...  protocol_type_1  protocol_type_2\n",
              "135770         0     14.0  ...              0.0              0.0\n",
              "230201         0     14.0  ...              0.0              0.0\n",
              "174747         0     14.0  ...              0.0              0.0\n",
              "382704         0     45.0  ...              1.0              0.0\n",
              "434279         0     14.0  ...              0.0              0.0\n",
              "\n",
              "[5 rows x 43 columns]"
            ]
          },
          "metadata": {},
          "execution_count": 14
        }
      ]
    },
    {
      "cell_type": "code",
      "metadata": {
        "colab": {
          "base_uri": "https://localhost:8080/",
          "height": 226
        },
        "id": "KtlHJQ_wzAhf",
        "outputId": "57a5412f-e861-45e3-8195-ca52537d30cd"
      },
      "source": [
        "X_train_red.head()"
      ],
      "execution_count": 15,
      "outputs": [
        {
          "output_type": "execute_result",
          "data": {
            "text/html": [
              "<div>\n",
              "<style scoped>\n",
              "    .dataframe tbody tr th:only-of-type {\n",
              "        vertical-align: middle;\n",
              "    }\n",
              "\n",
              "    .dataframe tbody tr th {\n",
              "        vertical-align: top;\n",
              "    }\n",
              "\n",
              "    .dataframe thead th {\n",
              "        text-align: right;\n",
              "    }\n",
              "</style>\n",
              "<table border=\"1\" class=\"dataframe\">\n",
              "  <thead>\n",
              "    <tr style=\"text-align: right;\">\n",
              "      <th></th>\n",
              "      <th>duration</th>\n",
              "      <th>service</th>\n",
              "      <th>flag</th>\n",
              "      <th>src_bytes</th>\n",
              "      <th>dst_bytes</th>\n",
              "      <th>land</th>\n",
              "      <th>wrong_fragment</th>\n",
              "      <th>urgent</th>\n",
              "      <th>hot</th>\n",
              "      <th>num_failed_logins</th>\n",
              "      <th>logged_in</th>\n",
              "      <th>num_compromised</th>\n",
              "      <th>root_shell</th>\n",
              "      <th>su_attempted</th>\n",
              "      <th>num_root</th>\n",
              "      <th>num_file_creations</th>\n",
              "      <th>num_shells</th>\n",
              "      <th>num_access_files</th>\n",
              "      <th>num_outbound_cmds</th>\n",
              "      <th>is_host_login</th>\n",
              "      <th>is_guest_login</th>\n",
              "      <th>count</th>\n",
              "      <th>srv_count</th>\n",
              "      <th>serror_rate</th>\n",
              "      <th>srv_serror_rate</th>\n",
              "      <th>rerror_rate</th>\n",
              "      <th>srv_rerror_rate</th>\n",
              "      <th>same_srv_rate</th>\n",
              "      <th>diff_srv_rate</th>\n",
              "      <th>srv_diff_host_rate</th>\n",
              "      <th>dst_host_count</th>\n",
              "      <th>dst_host_srv_count</th>\n",
              "      <th>dst_host_same_srv_rate</th>\n",
              "      <th>dst_host_diff_srv_rate</th>\n",
              "      <th>dst_host_same_src_port_rate</th>\n",
              "      <th>dst_host_srv_diff_host_rate</th>\n",
              "      <th>dst_host_serror_rate</th>\n",
              "      <th>dst_host_srv_serror_rate</th>\n",
              "      <th>dst_host_rerror_rate</th>\n",
              "      <th>dst_host_srv_rerror_rate</th>\n",
              "      <th>protocol_type_0</th>\n",
              "      <th>protocol_type_1</th>\n",
              "      <th>protocol_type_2</th>\n",
              "    </tr>\n",
              "  </thead>\n",
              "  <tbody>\n",
              "    <tr>\n",
              "      <th>339645</th>\n",
              "      <td>0</td>\n",
              "      <td>13.0</td>\n",
              "      <td>9.0</td>\n",
              "      <td>1032</td>\n",
              "      <td>0</td>\n",
              "      <td>0</td>\n",
              "      <td>0</td>\n",
              "      <td>0</td>\n",
              "      <td>0</td>\n",
              "      <td>0</td>\n",
              "      <td>0</td>\n",
              "      <td>0</td>\n",
              "      <td>0</td>\n",
              "      <td>0</td>\n",
              "      <td>0</td>\n",
              "      <td>0</td>\n",
              "      <td>0</td>\n",
              "      <td>0</td>\n",
              "      <td>0</td>\n",
              "      <td>0</td>\n",
              "      <td>0</td>\n",
              "      <td>511</td>\n",
              "      <td>511</td>\n",
              "      <td>0.0</td>\n",
              "      <td>0.0</td>\n",
              "      <td>0.0</td>\n",
              "      <td>0.0</td>\n",
              "      <td>1.00</td>\n",
              "      <td>0.00</td>\n",
              "      <td>0.0</td>\n",
              "      <td>255</td>\n",
              "      <td>255</td>\n",
              "      <td>1.00</td>\n",
              "      <td>0.00</td>\n",
              "      <td>1.0</td>\n",
              "      <td>0.0</td>\n",
              "      <td>0.0</td>\n",
              "      <td>0.0</td>\n",
              "      <td>0.0</td>\n",
              "      <td>0.0</td>\n",
              "      <td>1.0</td>\n",
              "      <td>0.0</td>\n",
              "      <td>0.0</td>\n",
              "    </tr>\n",
              "    <tr>\n",
              "      <th>402680</th>\n",
              "      <td>0</td>\n",
              "      <td>13.0</td>\n",
              "      <td>9.0</td>\n",
              "      <td>520</td>\n",
              "      <td>0</td>\n",
              "      <td>0</td>\n",
              "      <td>0</td>\n",
              "      <td>0</td>\n",
              "      <td>0</td>\n",
              "      <td>0</td>\n",
              "      <td>0</td>\n",
              "      <td>0</td>\n",
              "      <td>0</td>\n",
              "      <td>0</td>\n",
              "      <td>0</td>\n",
              "      <td>0</td>\n",
              "      <td>0</td>\n",
              "      <td>0</td>\n",
              "      <td>0</td>\n",
              "      <td>0</td>\n",
              "      <td>0</td>\n",
              "      <td>478</td>\n",
              "      <td>478</td>\n",
              "      <td>0.0</td>\n",
              "      <td>0.0</td>\n",
              "      <td>0.0</td>\n",
              "      <td>0.0</td>\n",
              "      <td>1.00</td>\n",
              "      <td>0.00</td>\n",
              "      <td>0.0</td>\n",
              "      <td>255</td>\n",
              "      <td>255</td>\n",
              "      <td>1.00</td>\n",
              "      <td>0.00</td>\n",
              "      <td>1.0</td>\n",
              "      <td>0.0</td>\n",
              "      <td>0.0</td>\n",
              "      <td>0.0</td>\n",
              "      <td>0.0</td>\n",
              "      <td>0.0</td>\n",
              "      <td>1.0</td>\n",
              "      <td>0.0</td>\n",
              "      <td>0.0</td>\n",
              "    </tr>\n",
              "    <tr>\n",
              "      <th>256156</th>\n",
              "      <td>0</td>\n",
              "      <td>13.0</td>\n",
              "      <td>9.0</td>\n",
              "      <td>1032</td>\n",
              "      <td>0</td>\n",
              "      <td>0</td>\n",
              "      <td>0</td>\n",
              "      <td>0</td>\n",
              "      <td>0</td>\n",
              "      <td>0</td>\n",
              "      <td>0</td>\n",
              "      <td>0</td>\n",
              "      <td>0</td>\n",
              "      <td>0</td>\n",
              "      <td>0</td>\n",
              "      <td>0</td>\n",
              "      <td>0</td>\n",
              "      <td>0</td>\n",
              "      <td>0</td>\n",
              "      <td>0</td>\n",
              "      <td>0</td>\n",
              "      <td>510</td>\n",
              "      <td>510</td>\n",
              "      <td>0.0</td>\n",
              "      <td>0.0</td>\n",
              "      <td>0.0</td>\n",
              "      <td>0.0</td>\n",
              "      <td>1.00</td>\n",
              "      <td>0.00</td>\n",
              "      <td>0.0</td>\n",
              "      <td>255</td>\n",
              "      <td>255</td>\n",
              "      <td>1.00</td>\n",
              "      <td>0.00</td>\n",
              "      <td>1.0</td>\n",
              "      <td>0.0</td>\n",
              "      <td>0.0</td>\n",
              "      <td>0.0</td>\n",
              "      <td>0.0</td>\n",
              "      <td>0.0</td>\n",
              "      <td>1.0</td>\n",
              "      <td>0.0</td>\n",
              "      <td>0.0</td>\n",
              "    </tr>\n",
              "    <tr>\n",
              "      <th>116644</th>\n",
              "      <td>0</td>\n",
              "      <td>43.0</td>\n",
              "      <td>5.0</td>\n",
              "      <td>0</td>\n",
              "      <td>0</td>\n",
              "      <td>0</td>\n",
              "      <td>0</td>\n",
              "      <td>0</td>\n",
              "      <td>0</td>\n",
              "      <td>0</td>\n",
              "      <td>0</td>\n",
              "      <td>0</td>\n",
              "      <td>0</td>\n",
              "      <td>0</td>\n",
              "      <td>0</td>\n",
              "      <td>0</td>\n",
              "      <td>0</td>\n",
              "      <td>0</td>\n",
              "      <td>0</td>\n",
              "      <td>0</td>\n",
              "      <td>0</td>\n",
              "      <td>284</td>\n",
              "      <td>13</td>\n",
              "      <td>1.0</td>\n",
              "      <td>1.0</td>\n",
              "      <td>0.0</td>\n",
              "      <td>0.0</td>\n",
              "      <td>0.05</td>\n",
              "      <td>0.06</td>\n",
              "      <td>0.0</td>\n",
              "      <td>255</td>\n",
              "      <td>13</td>\n",
              "      <td>0.05</td>\n",
              "      <td>0.07</td>\n",
              "      <td>0.0</td>\n",
              "      <td>0.0</td>\n",
              "      <td>1.0</td>\n",
              "      <td>1.0</td>\n",
              "      <td>0.0</td>\n",
              "      <td>0.0</td>\n",
              "      <td>0.0</td>\n",
              "      <td>1.0</td>\n",
              "      <td>0.0</td>\n",
              "    </tr>\n",
              "    <tr>\n",
              "      <th>442561</th>\n",
              "      <td>0</td>\n",
              "      <td>13.0</td>\n",
              "      <td>9.0</td>\n",
              "      <td>520</td>\n",
              "      <td>0</td>\n",
              "      <td>0</td>\n",
              "      <td>0</td>\n",
              "      <td>0</td>\n",
              "      <td>0</td>\n",
              "      <td>0</td>\n",
              "      <td>0</td>\n",
              "      <td>0</td>\n",
              "      <td>0</td>\n",
              "      <td>0</td>\n",
              "      <td>0</td>\n",
              "      <td>0</td>\n",
              "      <td>0</td>\n",
              "      <td>0</td>\n",
              "      <td>0</td>\n",
              "      <td>0</td>\n",
              "      <td>0</td>\n",
              "      <td>511</td>\n",
              "      <td>511</td>\n",
              "      <td>0.0</td>\n",
              "      <td>0.0</td>\n",
              "      <td>0.0</td>\n",
              "      <td>0.0</td>\n",
              "      <td>1.00</td>\n",
              "      <td>0.00</td>\n",
              "      <td>0.0</td>\n",
              "      <td>255</td>\n",
              "      <td>255</td>\n",
              "      <td>1.00</td>\n",
              "      <td>0.00</td>\n",
              "      <td>1.0</td>\n",
              "      <td>0.0</td>\n",
              "      <td>0.0</td>\n",
              "      <td>0.0</td>\n",
              "      <td>0.0</td>\n",
              "      <td>0.0</td>\n",
              "      <td>1.0</td>\n",
              "      <td>0.0</td>\n",
              "      <td>0.0</td>\n",
              "    </tr>\n",
              "  </tbody>\n",
              "</table>\n",
              "</div>"
            ],
            "text/plain": [
              "        duration  service  ...  protocol_type_1  protocol_type_2\n",
              "339645         0     13.0  ...              0.0              0.0\n",
              "402680         0     13.0  ...              0.0              0.0\n",
              "256156         0     13.0  ...              0.0              0.0\n",
              "116644         0     43.0  ...              1.0              0.0\n",
              "442561         0     13.0  ...              0.0              0.0\n",
              "\n",
              "[5 rows x 43 columns]"
            ]
          },
          "metadata": {},
          "execution_count": 15
        }
      ]
    },
    {
      "cell_type": "code",
      "metadata": {
        "colab": {
          "base_uri": "https://localhost:8080/"
        },
        "id": "FQze8sAhzCvm",
        "outputId": "d00fd400-e705-435f-d240-67a35cae53bd"
      },
      "source": [
        "print(X_train_red.shape, X_train.shape)"
      ],
      "execution_count": 16,
      "outputs": [
        {
          "output_type": "stream",
          "name": "stdout",
          "text": [
            "(74103, 43) (296412, 43)\n"
          ]
        }
      ]
    },
    {
      "cell_type": "code",
      "metadata": {
        "colab": {
          "base_uri": "https://localhost:8080/"
        },
        "id": "M7_0ghk3TE-b",
        "outputId": "cf6599d7-2838-4f92-a2a4-882061b30911"
      },
      "source": [
        "print(X_train.dtypes)\n",
        "print(X_test.dtypes)\n",
        "print(y_train.dtypes)\n",
        "print(y_test.dtypes)"
      ],
      "execution_count": 17,
      "outputs": [
        {
          "output_type": "stream",
          "name": "stdout",
          "text": [
            "duration                         int64\n",
            "service                        float64\n",
            "flag                           float64\n",
            "src_bytes                        int64\n",
            "dst_bytes                        int64\n",
            "land                             int64\n",
            "wrong_fragment                   int64\n",
            "urgent                           int64\n",
            "hot                              int64\n",
            "num_failed_logins                int64\n",
            "logged_in                        int64\n",
            "num_compromised                  int64\n",
            "root_shell                       int64\n",
            "su_attempted                     int64\n",
            "num_root                         int64\n",
            "num_file_creations               int64\n",
            "num_shells                       int64\n",
            "num_access_files                 int64\n",
            "num_outbound_cmds                int64\n",
            "is_host_login                    int64\n",
            "is_guest_login                   int64\n",
            "count                            int64\n",
            "srv_count                        int64\n",
            "serror_rate                    float64\n",
            "srv_serror_rate                float64\n",
            "rerror_rate                    float64\n",
            "srv_rerror_rate                float64\n",
            "same_srv_rate                  float64\n",
            "diff_srv_rate                  float64\n",
            "srv_diff_host_rate             float64\n",
            "dst_host_count                   int64\n",
            "dst_host_srv_count               int64\n",
            "dst_host_same_srv_rate         float64\n",
            "dst_host_diff_srv_rate         float64\n",
            "dst_host_same_src_port_rate    float64\n",
            "dst_host_srv_diff_host_rate    float64\n",
            "dst_host_serror_rate           float64\n",
            "dst_host_srv_serror_rate       float64\n",
            "dst_host_rerror_rate           float64\n",
            "dst_host_srv_rerror_rate       float64\n",
            "protocol_type_0                float64\n",
            "protocol_type_1                float64\n",
            "protocol_type_2                float64\n",
            "dtype: object\n",
            "duration                         int64\n",
            "service                        float64\n",
            "flag                           float64\n",
            "src_bytes                        int64\n",
            "dst_bytes                        int64\n",
            "land                             int64\n",
            "wrong_fragment                   int64\n",
            "urgent                           int64\n",
            "hot                              int64\n",
            "num_failed_logins                int64\n",
            "logged_in                        int64\n",
            "num_compromised                  int64\n",
            "root_shell                       int64\n",
            "su_attempted                     int64\n",
            "num_root                         int64\n",
            "num_file_creations               int64\n",
            "num_shells                       int64\n",
            "num_access_files                 int64\n",
            "num_outbound_cmds                int64\n",
            "is_host_login                    int64\n",
            "is_guest_login                   int64\n",
            "count                            int64\n",
            "srv_count                        int64\n",
            "serror_rate                    float64\n",
            "srv_serror_rate                float64\n",
            "rerror_rate                    float64\n",
            "srv_rerror_rate                float64\n",
            "same_srv_rate                  float64\n",
            "diff_srv_rate                  float64\n",
            "srv_diff_host_rate             float64\n",
            "dst_host_count                   int64\n",
            "dst_host_srv_count               int64\n",
            "dst_host_same_srv_rate         float64\n",
            "dst_host_diff_srv_rate         float64\n",
            "dst_host_same_src_port_rate    float64\n",
            "dst_host_srv_diff_host_rate    float64\n",
            "dst_host_serror_rate           float64\n",
            "dst_host_srv_serror_rate       float64\n",
            "dst_host_rerror_rate           float64\n",
            "dst_host_srv_rerror_rate       float64\n",
            "protocol_type_0                float64\n",
            "protocol_type_1                float64\n",
            "protocol_type_2                float64\n",
            "dtype: object\n",
            "int64\n",
            "int64\n"
          ]
        }
      ]
    },
    {
      "cell_type": "code",
      "metadata": {
        "colab": {
          "base_uri": "https://localhost:8080/"
        },
        "id": "K_XdIJfZCymd",
        "outputId": "2ccf1358-0217-4e74-c5b8-374400992248"
      },
      "source": [
        "print(X_train.shape, y_train.shape)\n",
        "print(X_test.shape, y_test.shape)"
      ],
      "execution_count": 18,
      "outputs": [
        {
          "output_type": "stream",
          "name": "stdout",
          "text": [
            "(296412, 43) (296412,)\n",
            "(197609, 43) (197609,)\n"
          ]
        }
      ]
    },
    {
      "cell_type": "markdown",
      "metadata": {
        "id": "drEf9WqnC8ML"
      },
      "source": [
        "Τώρα πια τα δεδομένα είναι έτοιμα για χρήση στα μοντέλα πρόβλεψης."
      ]
    },
    {
      "cell_type": "markdown",
      "metadata": {
        "id": "AkxHEDi1DCLt"
      },
      "source": [
        "### Ταξινόμηση\n",
        "Οι ταξινομητές που θα μελετήσουμε σε αυτό το μέρος της εργασίας είναι οι:\n",
        "* Multi-Layer Perceptron (MLP)\n",
        "* Support Vector Machines (SVM)\n",
        "Η μετρική που θα χρησιμοποιήσουμε θα είναι η recall, καθώς στο πρόβλημά μας απαιτούμε να έχουμε όσο το δυνατό λιγότερα false negatives (αν θεωρήσουμε positive την κακόβουλη σύνδεση), αφού ένα false negative σημαίνει πως μια επίθεση που δέχεται το δίκτυο θα τη θεωρήσουμε κανονική σύνδεση και θα της επιτρέψουμε να συμβεί."
      ]
    },
    {
      "cell_type": "markdown",
      "metadata": {
        "id": "ZX22QFXvEf61"
      },
      "source": [
        "#### Επίδοση out-of-the-box\n",
        "Αρχικά θα δοκιμάσουμε να πραγματοποιήσουμε εκπαίδευση των δύο ταξινομητών χωρίς να αλλάξουμε τις default υπερπαραμέτρους τους. Αυτό το κάνουμε ώστε να έχουμε μια πιο ξεκάθαρη εικόνα της βελτίωσης της επίδοσης του ταξινομητή στο στάδιο της βελτιστοποίησης."
      ]
    },
    {
      "cell_type": "code",
      "metadata": {
        "colab": {
          "base_uri": "https://localhost:8080/"
        },
        "id": "y6GDiWIROuWT",
        "outputId": "8c386edc-bc2f-4eb4-d9ff-23ef37543847"
      },
      "source": [
        "mlp = MLPClassifier()\n",
        "svm = SVC()\n",
        "\n",
        "mlp_ootb_fit_start = time.time()\n",
        "mlp.fit(X_train, y_train)\n",
        "mlp_ootb_fit_stop = time.time()\n",
        "mlp_ootb_preds = mlp.predict(X_test)\n",
        "mlp_ootb_pred_stop = time.time()\n",
        "\n",
        "print(\"MLP recall:\", recall_score(y_test, mlp_ootb_preds))\n",
        "print(\"MLP fit time: {}\".format(mlp_ootb_fit_stop - mlp_ootb_fit_start))"
      ],
      "execution_count": 19,
      "outputs": [
        {
          "output_type": "stream",
          "name": "stdout",
          "text": [
            "MLP recall: 0.9995145722877514\n",
            "MLP fit time: 193.39664721488953\n"
          ]
        }
      ]
    },
    {
      "cell_type": "code",
      "metadata": {
        "colab": {
          "base_uri": "https://localhost:8080/"
        },
        "id": "vQpFVVxMzeEm",
        "outputId": "32060a08-860c-4891-8a4e-3d24a39e454a"
      },
      "source": [
        "svm.fit(X_train_red, y_train_red)\n",
        "svm_ootb_fit_stop = time.time()\n",
        "svm_ootb_preds = svm.predict(X_test)\n",
        "svm_ootb_pred_stop = time.time()\n",
        "\n",
        "print(\"SVM recall:\", recall_score(y_test, svm_ootb_preds))\n",
        "print(\"SVM fit time: {}\".format(svm_ootb_fit_stop - mlp_ootb_pred_stop))"
      ],
      "execution_count": 20,
      "outputs": [
        {
          "output_type": "stream",
          "name": "stdout",
          "text": [
            "SVM recall: 0.9986193679352932\n",
            "SVM fit time: 151.1425313949585\n"
          ]
        }
      ]
    },
    {
      "cell_type": "code",
      "metadata": {
        "colab": {
          "base_uri": "https://localhost:8080/",
          "height": 295
        },
        "id": "QvmCdls9VfBD",
        "outputId": "f4467cb9-4941-41fc-dde3-d3e2ec5a542d"
      },
      "source": [
        "ootb_recall = {}\n",
        "ootb_recall['MLP'] = recall_score(y_test, mlp_ootb_preds)\n",
        "ootb_recall['SVM'] = recall_score(y_test, svm_ootb_preds)\n",
        "\n",
        "plt.bar(range(len(ootb_recall)), list(ootb_recall.values()), align='center')\n",
        "plt.xticks(range(len(ootb_recall)), list(ootb_recall.keys()))\n",
        "plt.xlabel(\"Estimator\")\n",
        "plt.ylabel(\"Recall\")\n",
        "plt.title(\"Recall scores for out-of-the-box estimators\")\n",
        "plt.show()"
      ],
      "execution_count": 21,
      "outputs": [
        {
          "output_type": "display_data",
          "data": {
            "image/png": "[encoded data removed]",
            "text/plain": [
              "<Figure size 432x288 with 1 Axes>"
            ]
          },
          "metadata": {
            "needs_background": "light"
          }
        }
      ]
    },
    {
      "cell_type": "markdown",
      "metadata": {
        "id": "Z_7QLV0l4jkh"
      },
      "source": [
        "Παρατηρούμε πως και οι δύο ταξινομητές επιτυγχάνουν πολύ καλές τιμές στο recall, με τον MLP να φτάνει το 99.95% και τον SVM το 99.86%. Η διαφορά των δύο ταξινομητών όμως φαίνεται στον χρόνο που χρειάζονται για να πραγματοποιήσουν τις προβλέψεις τους, καθώς ο SVM χρησιμοποιώντας μόλις το 1/4 του training set που χρησιμοποιεί ο MLP απαιτεί αντίστοιχο χρόνο για εκπαίδευσή του, ενώ χρειάζεται περίπου τον διπλάσιο χρόνο για να βγάλει τα αποτελέσματα που ζητάμε (predictions)."
      ]
    },
    {
      "cell_type": "code",
      "metadata": {
        "colab": {
          "base_uri": "https://localhost:8080/",
          "height": 295
        },
        "id": "V55TXiMN2vt6",
        "outputId": "4170f436-3ed3-4e47-9bd3-ceaf8b31a8d6"
      },
      "source": [
        "ootb_f1 = {}\n",
        "ootb_f1['MLP'] = f1_score(y_test, mlp_ootb_preds)\n",
        "ootb_f1['SVM'] = f1_score(y_test, svm_ootb_preds)\n",
        "\n",
        "plt.bar(range(len(ootb_f1)), list(ootb_f1.values()), align='center')\n",
        "plt.xticks(range(len(ootb_f1)), list(ootb_f1.keys()))\n",
        "plt.xlabel(\"Estimator\")\n",
        "plt.ylabel(\"F1\")\n",
        "plt.title(\"F1 scores for out-of-the-box estimators\")\n",
        "plt.show()"
      ],
      "execution_count": 22,
      "outputs": [
        {
          "output_type": "display_data",
          "data": {
            "image/png": "[encoded data removed]",
            "text/plain": [
              "<Figure size 432x288 with 1 Axes>"
            ]
          },
          "metadata": {
            "needs_background": "light"
          }
        }
      ]
    },
    {
      "cell_type": "markdown",
      "metadata": {
        "id": "pMwKaLxr5KpX"
      },
      "source": [
        "Ελέγχουμε επίσης τα f1 scores των ταξινομητών για να βεβαιωθούμε πως δεν κατηγοριοποιούν όλα τα δείγματα στο test set στην κατηγορία 1, το οποίο θα έδινε πολύ καλό recall αλλά όχι και τις άλλες τιμές. Όμως βλέπουμε πως και οι δύο έχουν πολύ καλές τιμές F1, με τον MLP να είναι λίγο καλύτερος από τον SVM που σε συνδυασμό με την ταχύτερη εκπαίδευση και πρόβλεψη που μας χαρίζει τον καθιστά την καλύτερη επιλογή για out-of-the-box ταξινομητή."
      ]
    },
    {
      "cell_type": "code",
      "metadata": {
        "colab": {
          "base_uri": "https://localhost:8080/"
        },
        "id": "P8rE3hmIaQYR",
        "outputId": "87fe3a53-a843-4ec4-bb44-595fc95fe99e"
      },
      "source": [
        "fit_times = [(mlp_ootb_fit_stop-mlp_ootb_fit_start), (svm_ootb_fit_stop-mlp_ootb_pred_stop)]\n",
        "pred_times = [mlp_ootb_pred_stop-mlp_ootb_fit_stop, svm_ootb_pred_stop-svm_ootb_fit_stop]\n",
        "print(\"MLP train time:{:.1f} and predict time:{:.1f}\".format(fit_times[0], pred_times[0]))\n",
        "print(\"SVM train time:{:.1f} and predict time:{:.1f}\".format(fit_times[1], pred_times[1]))"
      ],
      "execution_count": 23,
      "outputs": [
        {
          "output_type": "stream",
          "name": "stdout",
          "text": [
            "MLP train time:193.4 and predict time:0.8\n",
            "SVM train time:151.1 and predict time:392.5\n"
          ]
        }
      ]
    },
    {
      "cell_type": "markdown",
      "metadata": {
        "id": "5nZgWzpO6FKH"
      },
      "source": [
        "Το MLP βλέπουμε πως χρειάζεται πολύ λιγότερο χρόνο από τον ταξινομητή SVM τόσο στο training όσο και στο prediction των τιμών."
      ]
    },
    {
      "cell_type": "markdown",
      "metadata": {
        "id": "Sa72LtYIhMKs"
      },
      "source": [
        "Οι επιδόσεις όλων των μοντέλων φαίνονται συνοπτικά στην ενότητα 'Παρουσίαση αποτελεσμάτων' σε πίνακα markdown."
      ]
    },
    {
      "cell_type": "markdown",
      "metadata": {
        "id": "QAPvMr95iBm9"
      },
      "source": [
        "#### Βελτιστοποίηση\n",
        "Στο σημείο αυτό έχοντας ως baseline τα αποτελέσματα των out-of-the-box μοντέλων μπορούμε να προχωρήσουμε στο στάδιο της βελτιστοποίησης. Η βελτιστοποίηση θα επιτευχθεί μέσω των διαδικασιών:\n",
        "* προεπεξεργασίας (scaling, PCA)\n",
        "* ορισμού pipelines\n",
        "* hyperparameter optimization με grid search με cross validation\n",
        "\n",
        "Για την τρίτη διαδικασία θα κάνουμε χρήση της βιβλιοθήκης βελτιστοποίησης [Ray](https://docs.ray.io/en/latest/index.html) ώστε να βελτιώσουμε τον χρόνο που απαιτείται για τη διαδικασία."
      ]
    },
    {
      "cell_type": "markdown",
      "metadata": {
        "id": "EbOgD5FSj6xn"
      },
      "source": [
        "Για την βελτιστοποίηση των μοντέλων με χρήση προεπεξεργασίας θα κάνουμε χρήση των συναρτήσεων VarianceThreshold(), StandardScaler()και PCA(). Η VarianceThreshold() θα αφαιρέσει τα χαρακτηριστικά τα οποία δεν εμφανίζουν διακύμανση, τα οποία δεν βοηθάνε στην κατηγοριοποίηση. Η StandardScaler() θα μετατρέψει την κατανομή των χαρακτηριστικών σε κανονική, την οποία και υποθέτουν οι ταξινομητές MLP και SVM. Τέλος, με την PCA() θα μειώσουμε τη διαστατικότητα του προβλήματος το οποίο συνήθως οδηγεί σε καλύτερα αποτελέσματα."
      ]
    },
    {
      "cell_type": "markdown",
      "metadata": {
        "id": "1H7lRPqh63ME"
      },
      "source": [
        "Ορίζουμε ένα pipeline που περιέχει τις παραπάνω συναρτήσεις και τον εκάστοτε ταξινομητή και με τη βοήθεια της TuneGridSearchCV() της βιβλιοθήκης Ray εκτελούμε cross validation για να βρούμε τις βέλτιστες υπερπαραμέτρους με σκοπό την αύξηση του recall. Η TuneGridSearchCV() εκτελεί 5-fold cross validation με την default τιμή της παραμέτρου cv."
      ]
    },
    {
      "cell_type": "code",
      "metadata": {
        "colab": {
          "base_uri": "https://localhost:8080/"
        },
        "id": "xox8Y2C9kK0I",
        "outputId": "25721956-e316-4390-f606-2ec1f14f34ac"
      },
      "source": [
        "N_COMPONENTS = [10, 20, 30]\n",
        "ACTIVATION = ['relu']\n",
        "ALPHA = [0.00001, 0.0001, 0.001]\n",
        "TOL = [1e-5, 1e-4, 1e-3]\n",
        "EARLY_STOPPING = [True]\n",
        "N_ITER_NO_CHANGE = [5, 10]\n",
        "\n",
        "scaler_mlp = StandardScaler()\n",
        "selector_mlp = VarianceThreshold()\n",
        "pca_mlp = PCA()\n",
        "mlp = MLPClassifier()\n",
        "\n",
        "pipe_mlp = Pipeline([\n",
        "    (\"threshold\", scaler_mlp),\n",
        "    (\"scale\", scaler_mlp),\n",
        "    (\"reduce_dim\", pca_mlp),\n",
        "    (\"classify\", mlp)\n",
        "])\n",
        "\n",
        "param_grid_mlp = [{\n",
        "               \"reduce_dim__n_components\":N_COMPONENTS,\n",
        "               \"classify__activation\":ACTIVATION,\n",
        "               \"classify__alpha\":ALPHA,\n",
        "               \"classify__tol\":TOL,\n",
        "               \"classify__early_stopping\":EARLY_STOPPING,\n",
        "               \"classify__n_iter_no_change\":N_ITER_NO_CHANGE\n",
        "              }]\n",
        "\n",
        "estimator_mlp = TuneGridSearchCV(pipe_mlp, param_grid=param_grid_mlp, scoring='recall')\n",
        "\n",
        "fit_start_time_mlp = time.time()\n",
        "estimator_mlp.fit(X_train, y_train)\n",
        "fit_stop_time_mlp = time.time()\n",
        "\n",
        "pred_start_time_mlp = time.time()\n",
        "preds_mlp = estimator_mlp.predict(X_test)\n",
        "pred_stop_time_mlp = time.time()\n",
        "print(\"Συνολικός χρόνος fit για MLP: {:.1f} seconds\".format(fit_stop_time_mlp - fit_start_time_mlp))\n",
        "print(\"Συνολικός χρόνος predict για MLP: {:.1f} seconds\".format(pred_stop_time_mlp - pred_start_time_mlp))\n",
        "\n",
        "print(\"Βέλτιστες παράμετροι:\",estimator_mlp.best_params_)\n",
        "print(\"Το καλύτερο recall του ταξινομητή ήταν {:.4f} στο training set\".format(estimator_mlp.best_score_))\n",
        "\n",
        "best_mlp = estimator_mlp.best_estimator_\n",
        "print(estimator_mlp.cv_results_)"
      ],
      "execution_count": 27,
      "outputs": [
        {
          "output_type": "stream",
          "name": "stderr",
          "text": [
            "/usr/local/lib/python3.7/dist-packages/ray/tune/tune.py:374: UserWarning: The `loggers` argument is deprecated. Please pass the respective `LoggerCallback` classes to the `callbacks` argument instead. See https://docs.ray.io/en/latest/tune/api_docs/logging.html\n",
            "  \"The `loggers` argument is deprecated. Please pass the respective \"\n"
          ]
        },
        {
          "output_type": "stream",
          "name": "stdout",
          "text": [
            "Συνολικός χρόνος fit για MLP: 5252.6 seconds\n",
            "Συνολικός χρόνος predict για MLP: 1.0 seconds\n",
            "Βέλτιστες παράμετροι: {'classify__activation': 'relu', 'classify__alpha': 1e-05, 'classify__early_stopping': True, 'classify__n_iter_no_change': 10, 'classify__tol': 1e-05, 'reduce_dim__n_components': 30}\n",
            "Το καλύτερο recall του ταξινομητή ήταν 0.9994 στο training set\n",
            "{'params': [{'classify__activation': 'relu', 'classify__alpha': 1e-05, 'classify__early_stopping': True, 'classify__n_iter_no_change': 5, 'classify__tol': 1e-05, 'reduce_dim__n_components': 10}, {'classify__activation': 'relu', 'classify__alpha': 1e-05, 'classify__early_stopping': True, 'classify__n_iter_no_change': 5, 'classify__tol': 1e-05, 'reduce_dim__n_components': 20}, {'classify__activation': 'relu', 'classify__alpha': 1e-05, 'classify__early_stopping': True, 'classify__n_iter_no_change': 5, 'classify__tol': 1e-05, 'reduce_dim__n_components': 30}, {'classify__activation': 'relu', 'classify__alpha': 1e-05, 'classify__early_stopping': True, 'classify__n_iter_no_change': 5, 'classify__tol': 0.0001, 'reduce_dim__n_components': 10}, {'classify__activation': 'relu', 'classify__alpha': 1e-05, 'classify__early_stopping': True, 'classify__n_iter_no_change': 5, 'classify__tol': 0.0001, 'reduce_dim__n_components': 20}, {'classify__activation': 'relu', 'classify__alpha': 1e-05, 'classify__early_stopping': True, 'classify__n_iter_no_change': 5, 'classify__tol': 0.0001, 'reduce_dim__n_components': 30}, {'classify__activation': 'relu', 'classify__alpha': 1e-05, 'classify__early_stopping': True, 'classify__n_iter_no_change': 5, 'classify__tol': 0.001, 'reduce_dim__n_components': 10}, {'classify__activation': 'relu', 'classify__alpha': 1e-05, 'classify__early_stopping': True, 'classify__n_iter_no_change': 5, 'classify__tol': 0.001, 'reduce_dim__n_components': 20}, {'classify__activation': 'relu', 'classify__alpha': 1e-05, 'classify__early_stopping': True, 'classify__n_iter_no_change': 5, 'classify__tol': 0.001, 'reduce_dim__n_components': 30}, {'classify__activation': 'relu', 'classify__alpha': 1e-05, 'classify__early_stopping': True, 'classify__n_iter_no_change': 10, 'classify__tol': 1e-05, 'reduce_dim__n_components': 10}, {'classify__activation': 'relu', 'classify__alpha': 1e-05, 'classify__early_stopping': True, 'classify__n_iter_no_change': 10, 'classify__tol': 1e-05, 'reduce_dim__n_components': 20}, {'classify__activation': 'relu', 'classify__alpha': 1e-05, 'classify__early_stopping': True, 'classify__n_iter_no_change': 10, 'classify__tol': 1e-05, 'reduce_dim__n_components': 30}, {'classify__activation': 'relu', 'classify__alpha': 1e-05, 'classify__early_stopping': True, 'classify__n_iter_no_change': 10, 'classify__tol': 0.0001, 'reduce_dim__n_components': 10}, {'classify__activation': 'relu', 'classify__alpha': 1e-05, 'classify__early_stopping': True, 'classify__n_iter_no_change': 10, 'classify__tol': 0.0001, 'reduce_dim__n_components': 20}, {'classify__activation': 'relu', 'classify__alpha': 1e-05, 'classify__early_stopping': True, 'classify__n_iter_no_change': 10, 'classify__tol': 0.0001, 'reduce_dim__n_components': 30}, {'classify__activation': 'relu', 'classify__alpha': 1e-05, 'classify__early_stopping': True, 'classify__n_iter_no_change': 10, 'classify__tol': 0.001, 'reduce_dim__n_components': 10}, {'classify__activation': 'relu', 'classify__alpha': 1e-05, 'classify__early_stopping': True, 'classify__n_iter_no_change': 10, 'classify__tol': 0.001, 'reduce_dim__n_components': 20}, {'classify__activation': 'relu', 'classify__alpha': 1e-05, 'classify__early_stopping': True, 'classify__n_iter_no_change': 10, 'classify__tol': 0.001, 'reduce_dim__n_components': 30}, {'classify__activation': 'relu', 'classify__alpha': 0.0001, 'classify__early_stopping': True, 'classify__n_iter_no_change': 5, 'classify__tol': 1e-05, 'reduce_dim__n_components': 10}, {'classify__activation': 'relu', 'classify__alpha': 0.0001, 'classify__early_stopping': True, 'classify__n_iter_no_change': 5, 'classify__tol': 1e-05, 'reduce_dim__n_components': 20}, {'classify__activation': 'relu', 'classify__alpha': 0.0001, 'classify__early_stopping': True, 'classify__n_iter_no_change': 5, 'classify__tol': 1e-05, 'reduce_dim__n_components': 30}, {'classify__activation': 'relu', 'classify__alpha': 0.0001, 'classify__early_stopping': True, 'classify__n_iter_no_change': 5, 'classify__tol': 0.0001, 'reduce_dim__n_components': 10}, {'classify__activation': 'relu', 'classify__alpha': 0.0001, 'classify__early_stopping': True, 'classify__n_iter_no_change': 5, 'classify__tol': 0.0001, 'reduce_dim__n_components': 20}, {'classify__activation': 'relu', 'classify__alpha': 0.0001, 'classify__early_stopping': True, 'classify__n_iter_no_change': 5, 'classify__tol': 0.0001, 'reduce_dim__n_components': 30}, {'classify__activation': 'relu', 'classify__alpha': 0.0001, 'classify__early_stopping': True, 'classify__n_iter_no_change': 5, 'classify__tol': 0.001, 'reduce_dim__n_components': 10}, {'classify__activation': 'relu', 'classify__alpha': 0.0001, 'classify__early_stopping': True, 'classify__n_iter_no_change': 5, 'classify__tol': 0.001, 'reduce_dim__n_components': 20}, {'classify__activation': 'relu', 'classify__alpha': 0.0001, 'classify__early_stopping': True, 'classify__n_iter_no_change': 5, 'classify__tol': 0.001, 'reduce_dim__n_components': 30}, {'classify__activation': 'relu', 'classify__alpha': 0.0001, 'classify__early_stopping': True, 'classify__n_iter_no_change': 10, 'classify__tol': 1e-05, 'reduce_dim__n_components': 10}, {'classify__activation': 'relu', 'classify__alpha': 0.0001, 'classify__early_stopping': True, 'classify__n_iter_no_change': 10, 'classify__tol': 1e-05, 'reduce_dim__n_components': 20}, {'classify__activation': 'relu', 'classify__alpha': 0.0001, 'classify__early_stopping': True, 'classify__n_iter_no_change': 10, 'classify__tol': 1e-05, 'reduce_dim__n_components': 30}, {'classify__activation': 'relu', 'classify__alpha': 0.0001, 'classify__early_stopping': True, 'classify__n_iter_no_change': 10, 'classify__tol': 0.0001, 'reduce_dim__n_components': 10}, {'classify__activation': 'relu', 'classify__alpha': 0.0001, 'classify__early_stopping': True, 'classify__n_iter_no_change': 10, 'classify__tol': 0.0001, 'reduce_dim__n_components': 20}, {'classify__activation': 'relu', 'classify__alpha': 0.0001, 'classify__early_stopping': True, 'classify__n_iter_no_change': 10, 'classify__tol': 0.0001, 'reduce_dim__n_components': 30}, {'classify__activation': 'relu', 'classify__alpha': 0.0001, 'classify__early_stopping': True, 'classify__n_iter_no_change': 10, 'classify__tol': 0.001, 'reduce_dim__n_components': 10}, {'classify__activation': 'relu', 'classify__alpha': 0.0001, 'classify__early_stopping': True, 'classify__n_iter_no_change': 10, 'classify__tol': 0.001, 'reduce_dim__n_components': 20}, {'classify__activation': 'relu', 'classify__alpha': 0.0001, 'classify__early_stopping': True, 'classify__n_iter_no_change': 10, 'classify__tol': 0.001, 'reduce_dim__n_components': 30}, {'classify__activation': 'relu', 'classify__alpha': 0.001, 'classify__early_stopping': True, 'classify__n_iter_no_change': 5, 'classify__tol': 1e-05, 'reduce_dim__n_components': 10}, {'classify__activation': 'relu', 'classify__alpha': 0.001, 'classify__early_stopping': True, 'classify__n_iter_no_change': 5, 'classify__tol': 1e-05, 'reduce_dim__n_components': 20}, {'classify__activation': 'relu', 'classify__alpha': 0.001, 'classify__early_stopping': True, 'classify__n_iter_no_change': 5, 'classify__tol': 1e-05, 'reduce_dim__n_components': 30}, {'classify__activation': 'relu', 'classify__alpha': 0.001, 'classify__early_stopping': True, 'classify__n_iter_no_change': 5, 'classify__tol': 0.0001, 'reduce_dim__n_components': 10}, {'classify__activation': 'relu', 'classify__alpha': 0.001, 'classify__early_stopping': True, 'classify__n_iter_no_change': 5, 'classify__tol': 0.0001, 'reduce_dim__n_components': 20}, {'classify__activation': 'relu', 'classify__alpha': 0.001, 'classify__early_stopping': True, 'classify__n_iter_no_change': 5, 'classify__tol': 0.0001, 'reduce_dim__n_components': 30}, {'classify__activation': 'relu', 'classify__alpha': 0.001, 'classify__early_stopping': True, 'classify__n_iter_no_change': 5, 'classify__tol': 0.001, 'reduce_dim__n_components': 10}, {'classify__activation': 'relu', 'classify__alpha': 0.001, 'classify__early_stopping': True, 'classify__n_iter_no_change': 5, 'classify__tol': 0.001, 'reduce_dim__n_components': 20}, {'classify__activation': 'relu', 'classify__alpha': 0.001, 'classify__early_stopping': True, 'classify__n_iter_no_change': 5, 'classify__tol': 0.001, 'reduce_dim__n_components': 30}, {'classify__activation': 'relu', 'classify__alpha': 0.001, 'classify__early_stopping': True, 'classify__n_iter_no_change': 10, 'classify__tol': 1e-05, 'reduce_dim__n_components': 10}, {'classify__activation': 'relu', 'classify__alpha': 0.001, 'classify__early_stopping': True, 'classify__n_iter_no_change': 10, 'classify__tol': 1e-05, 'reduce_dim__n_components': 20}, {'classify__activation': 'relu', 'classify__alpha': 0.001, 'classify__early_stopping': True, 'classify__n_iter_no_change': 10, 'classify__tol': 1e-05, 'reduce_dim__n_components': 30}, {'classify__activation': 'relu', 'classify__alpha': 0.001, 'classify__early_stopping': True, 'classify__n_iter_no_change': 10, 'classify__tol': 0.0001, 'reduce_dim__n_components': 10}, {'classify__activation': 'relu', 'classify__alpha': 0.001, 'classify__early_stopping': True, 'classify__n_iter_no_change': 10, 'classify__tol': 0.0001, 'reduce_dim__n_components': 20}, {'classify__activation': 'relu', 'classify__alpha': 0.001, 'classify__early_stopping': True, 'classify__n_iter_no_change': 10, 'classify__tol': 0.0001, 'reduce_dim__n_components': 30}, {'classify__activation': 'relu', 'classify__alpha': 0.001, 'classify__early_stopping': True, 'classify__n_iter_no_change': 10, 'classify__tol': 0.001, 'reduce_dim__n_components': 10}, {'classify__activation': 'relu', 'classify__alpha': 0.001, 'classify__early_stopping': True, 'classify__n_iter_no_change': 10, 'classify__tol': 0.001, 'reduce_dim__n_components': 20}, {'classify__activation': 'relu', 'classify__alpha': 0.001, 'classify__early_stopping': True, 'classify__n_iter_no_change': 10, 'classify__tol': 0.001, 'reduce_dim__n_components': 30}], 'split0_test_score': array([0.99861414, 0.99884512, 0.99947505, 0.99863514, 0.99890811,\n",
            "       0.99945406, 0.9981102 , 0.99869814, 0.99928607, 0.99880312,\n",
            "       0.99909709, 0.99960104, 0.99823618, 0.99836217, 0.99928607,\n",
            "       0.99844616, 0.99874013, 0.99945406, 0.99857215, 0.9990761 ,\n",
            "       0.99951705, 0.99853015, 0.99846716, 0.99939106, 0.99771124,\n",
            "       0.99871913, 0.99926508, 0.99878213, 0.99890811, 0.99951705,\n",
            "       0.9990341 , 0.99897111, 0.99947505, 0.99844616, 0.99867714,\n",
            "       0.99945406, 0.99796321, 0.99863514, 0.99937007, 0.99874013,\n",
            "       0.9989921 , 0.99949605, 0.99790022, 0.99865614, 0.99932807,\n",
            "       0.99859315, 0.99882412, 0.99932807, 0.99836217, 0.99890811,\n",
            "       0.99937007, 0.9980682 , 0.99874013, 0.99945406]), 'split1_test_score': array([0.99871913, 0.99886612, 0.99932807, 0.99853015, 0.99867714,\n",
            "       0.99918109, 0.99819419, 0.99874013, 0.99911809, 0.99880312,\n",
            "       0.99937007, 0.99926508, 0.99871913, 0.99897111, 0.99937007,\n",
            "       0.99832017, 0.9990761 , 0.99926508, 0.99876113, 0.99890811,\n",
            "       0.9989921 , 0.99859315, 0.99882412, 0.99924408, 0.99798421,\n",
            "       0.99880312, 0.99918109, 0.99867714, 0.9990131 , 0.99926508,\n",
            "       0.99840417, 0.99865614, 0.99916009, 0.9981102 , 0.99876113,\n",
            "       0.99934907, 0.99880312, 0.99884512, 0.99926508, 0.99859315,\n",
            "       0.99865614, 0.99932807, 0.99834117, 0.99832017, 0.99890811,\n",
            "       0.99876113, 0.99884512, 0.99924408, 0.99867714, 0.99886612,\n",
            "       0.99922308, 0.99861414, 0.99892911, 0.99926508]), 'split2_test_score': array([0.99886612, 0.99892911, 0.99943306, 0.99865614, 0.99888712,\n",
            "       0.99943306, 0.99865614, 0.99878213, 0.99941206, 0.9990551 ,\n",
            "       0.9990761 , 0.99941206, 0.99876113, 0.99909709, 0.99930707,\n",
            "       0.99863514, 0.99880312, 0.99939106, 0.99861414, 0.99916009,\n",
            "       0.99934907, 0.99867714, 0.99878213, 0.99934907, 0.99863514,\n",
            "       0.99874013, 0.99941206, 0.9990341 , 0.99909709, 0.99945406,\n",
            "       0.99880312, 0.99888712, 0.99943306, 0.99892911, 0.99882412,\n",
            "       0.99939106, 0.99895011, 0.9989921 , 0.99943306, 0.99874013,\n",
            "       0.9990131 , 0.99945406, 0.99840417, 0.99880312, 0.99943306,\n",
            "       0.9990551 , 0.99880312, 0.99943306, 0.9989921 , 0.9990131 ,\n",
            "       0.99930707, 0.99867714, 0.99886612, 0.99932807]), 'split3_test_score': array([0.99949605, 0.9989921 , 0.99924408, 0.99880312, 0.9990131 ,\n",
            "       0.99951705, 0.99827818, 0.9990131 , 0.99939106, 0.9990761 ,\n",
            "       0.99960104, 0.99951705, 0.99926508, 0.9990341 , 0.99928607,\n",
            "       0.9990551 , 0.99890811, 0.99951705, 0.99941206, 0.9990341 ,\n",
            "       0.99947505, 0.99878213, 0.99869814, 0.99945406, 0.99871913,\n",
            "       0.9990341 , 0.99934907, 0.99922308, 0.99890811, 0.99947505,\n",
            "       0.9990341 , 0.99922308, 0.99941206, 0.99895011, 0.99890811,\n",
            "       0.99947505, 0.99924408, 0.99911809, 0.99943306, 0.99924408,\n",
            "       0.99897111, 0.99955905, 0.99865614, 0.99850916, 0.99937007,\n",
            "       0.99922308, 0.99941206, 0.99958004, 0.99920208, 0.99913909,\n",
            "       0.99945406, 0.99897111, 0.99928607, 0.99947505]), 'split4_test_score': array([0.99880312, 0.99890811, 0.99918109, 0.99855115, 0.9989921 ,\n",
            "       0.99922308, 0.99832017, 0.99836217, 0.99930707, 0.99878213,\n",
            "       0.99890811, 0.99930707, 0.99871913, 0.99876113, 0.99922308,\n",
            "       0.99838317, 0.9990131 , 0.99932807, 0.99895011, 0.9989921 ,\n",
            "       0.99932807, 0.99853015, 0.99867714, 0.99945406, 0.99850916,\n",
            "       0.99846716, 0.99920208, 0.99871913, 0.99909709, 0.99930707,\n",
            "       0.99865614, 0.99874013, 0.99939106, 0.99853015, 0.99857215,\n",
            "       0.99937007, 0.99895011, 0.99882412, 0.99932807, 0.99861414,\n",
            "       0.99880312, 0.99922308, 0.99819419, 0.99865614, 0.99924408,\n",
            "       0.99878213, 0.9990341 , 0.99913909, 0.99874013, 0.9990551 ,\n",
            "       0.99943306, 0.99878213, 0.99867714, 0.99924408]), 'mean_test_score': array([0.99889971, 0.99890811, 0.99933227, 0.99863514, 0.99889551,\n",
            "       0.99936167, 0.99831178, 0.99871913, 0.99930287, 0.99890391,\n",
            "       0.99921048, 0.99942046, 0.99874013, 0.99884512, 0.99929447,\n",
            "       0.99856795, 0.99890811, 0.99939106, 0.99886192, 0.9990341 ,\n",
            "       0.99933227, 0.99862254, 0.99868974, 0.99937846, 0.99831178,\n",
            "       0.99875273, 0.99928187, 0.99888712, 0.9990047 , 0.99940366,\n",
            "       0.99878633, 0.99889551, 0.99937427, 0.99859315, 0.99874853,\n",
            "       0.99940786, 0.99878213, 0.99888292, 0.99936587, 0.99878633,\n",
            "       0.99888712, 0.99941206, 0.99829918, 0.99858895, 0.99925668,\n",
            "       0.99888292, 0.99898371, 0.99934487, 0.99879473, 0.9989963 ,\n",
            "       0.99935747, 0.99862254, 0.99889971, 0.99935327]), 'std_test_score': array([3.09915248e-04, 5.14339355e-05, 1.10632789e-04, 9.66812064e-05,\n",
            "       1.19226185e-04, 1.33860049e-04, 1.86679916e-04, 2.09136563e-04,\n",
            "       1.04061076e-04, 1.32402845e-04, 2.45090483e-04, 1.25706615e-04,\n",
            "       3.25838480e-04, 2.66597854e-04, 4.71399805e-05, 2.65404423e-04,\n",
            "       1.25285015e-04, 8.90861895e-05, 3.05270987e-04, 8.39912649e-05,\n",
            "       1.84685314e-04, 9.63156807e-05, 1.23584235e-04, 7.81163919e-05,\n",
            "       3.94311930e-04, 1.81409466e-04, 8.74881012e-05, 2.08714491e-04,\n",
            "       8.46188547e-05, 9.90242409e-05, 2.39190843e-04, 1.97245398e-04,\n",
            "       1.10632789e-04, 3.15945622e-04, 1.16230073e-04, 4.86134592e-05,\n",
            "       4.33796792e-04, 1.63405648e-04, 6.42409648e-05, 2.36968520e-04,\n",
            "       1.37371302e-04, 1.20988244e-04, 2.49158357e-04, 1.63405648e-04,\n",
            "       1.84780783e-04, 2.25528668e-04, 2.29482212e-04, 1.52230547e-04,\n",
            "       2.85940610e-04, 9.88459793e-05, 8.46188547e-05, 3.02426875e-04,\n",
            "       2.12731818e-04, 9.52106841e-05]), 'rank_test_score': array([27, 24, 13, 46, 30,  9, 53, 44, 15, 26, 19,  1, 43, 36, 16, 51, 25,\n",
            "        5, 35, 20, 14, 47, 45,  6, 52, 41, 17, 31, 21,  4, 38, 29,  7, 49,\n",
            "       42,  3, 40, 33,  8, 38, 31,  2, 54, 50, 18, 33, 23, 12, 37, 22, 10,\n",
            "       47, 27, 11], dtype=int32), 'time_total_s': array([252.68838334, 203.42156148, 172.43735909, 154.14507198,\n",
            "       129.53468132, 179.12963438,  83.21422935,  97.26771045,\n",
            "       104.91314125, 415.51380324, 475.9248116 , 319.92605853,\n",
            "       198.16506529, 193.05992579, 180.49225163, 118.70873642,\n",
            "       134.20985913, 145.7337122 , 256.62209392, 245.02709436,\n",
            "       196.6841805 , 152.35926962, 142.27929664, 141.81556678,\n",
            "        85.4414053 ,  92.83508277, 101.39345407, 333.22626352,\n",
            "       348.631881  , 236.01575184, 211.85072994, 225.9671309 ,\n",
            "       205.96305823, 119.43257689, 135.87221909, 144.36394405,\n",
            "       261.7908709 , 208.68235207, 167.96969748, 173.59510231,\n",
            "       149.97901607, 134.1218698 ,  88.89232206,  91.11513805,\n",
            "        96.05874372, 352.03700137, 306.46542859, 256.82993126,\n",
            "       184.11442208, 258.56036878, 205.02525663, 147.66196895,\n",
            "       156.1015377 , 103.23811603]), 'training_iteration': array([1, 1, 1, 1, 1, 1, 1, 1, 1, 1, 1, 1, 1, 1, 1, 1, 1, 1, 1, 1, 1, 1,\n",
            "       1, 1, 1, 1, 1, 1, 1, 1, 1, 1, 1, 1, 1, 1, 1, 1, 1, 1, 1, 1, 1, 1,\n",
            "       1, 1, 1, 1, 1, 1, 1, 1, 1, 1]), 'param_classify__activation': masked_array(data=['relu', 'relu', 'relu', 'relu', 'relu', 'relu', 'relu',\n",
            "                   'relu', 'relu', 'relu', 'relu', 'relu', 'relu', 'relu',\n",
            "                   'relu', 'relu', 'relu', 'relu', 'relu', 'relu', 'relu',\n",
            "                   'relu', 'relu', 'relu', 'relu', 'relu', 'relu', 'relu',\n",
            "                   'relu', 'relu', 'relu', 'relu', 'relu', 'relu', 'relu',\n",
            "                   'relu', 'relu', 'relu', 'relu', 'relu', 'relu', 'relu',\n",
            "                   'relu', 'relu', 'relu', 'relu', 'relu', 'relu', 'relu',\n",
            "                   'relu', 'relu', 'relu', 'relu', 'relu'],\n",
            "             mask=[False, False, False, False, False, False, False, False,\n",
            "                   False, False, False, False, False, False, False, False,\n",
            "                   False, False, False, False, False, False, False, False,\n",
            "                   False, False, False, False, False, False, False, False,\n",
            "                   False, False, False, False, False, False, False, False,\n",
            "                   False, False, False, False, False, False, False, False,\n",
            "                   False, False, False, False, False, False],\n",
            "       fill_value='?',\n",
            "            dtype=object), 'param_classify__alpha': masked_array(data=[1e-05, 1e-05, 1e-05, 1e-05, 1e-05, 1e-05, 1e-05, 1e-05,\n",
            "                   1e-05, 1e-05, 1e-05, 1e-05, 1e-05, 1e-05, 1e-05, 1e-05,\n",
            "                   1e-05, 1e-05, 0.0001, 0.0001, 0.0001, 0.0001, 0.0001,\n",
            "                   0.0001, 0.0001, 0.0001, 0.0001, 0.0001, 0.0001, 0.0001,\n",
            "                   0.0001, 0.0001, 0.0001, 0.0001, 0.0001, 0.0001, 0.001,\n",
            "                   0.001, 0.001, 0.001, 0.001, 0.001, 0.001, 0.001, 0.001,\n",
            "                   0.001, 0.001, 0.001, 0.001, 0.001, 0.001, 0.001, 0.001,\n",
            "                   0.001],\n",
            "             mask=[False, False, False, False, False, False, False, False,\n",
            "                   False, False, False, False, False, False, False, False,\n",
            "                   False, False, False, False, False, False, False, False,\n",
            "                   False, False, False, False, False, False, False, False,\n",
            "                   False, False, False, False, False, False, False, False,\n",
            "                   False, False, False, False, False, False, False, False,\n",
            "                   False, False, False, False, False, False],\n",
            "       fill_value='?',\n",
            "            dtype=object), 'param_classify__early_stopping': masked_array(data=[True, True, True, True, True, True, True, True, True,\n",
            "                   True, True, True, True, True, True, True, True, True,\n",
            "                   True, True, True, True, True, True, True, True, True,\n",
            "                   True, True, True, True, True, True, True, True, True,\n",
            "                   True, True, True, True, True, True, True, True, True,\n",
            "                   True, True, True, True, True, True, True, True, True],\n",
            "             mask=[False, False, False, False, False, False, False, False,\n",
            "                   False, False, False, False, False, False, False, False,\n",
            "                   False, False, False, False, False, False, False, False,\n",
            "                   False, False, False, False, False, False, False, False,\n",
            "                   False, False, False, False, False, False, False, False,\n",
            "                   False, False, False, False, False, False, False, False,\n",
            "                   False, False, False, False, False, False],\n",
            "       fill_value='?',\n",
            "            dtype=object), 'param_classify__n_iter_no_change': masked_array(data=[5, 5, 5, 5, 5, 5, 5, 5, 5, 10, 10, 10, 10, 10, 10, 10,\n",
            "                   10, 10, 5, 5, 5, 5, 5, 5, 5, 5, 5, 10, 10, 10, 10, 10,\n",
            "                   10, 10, 10, 10, 5, 5, 5, 5, 5, 5, 5, 5, 5, 10, 10, 10,\n",
            "                   10, 10, 10, 10, 10, 10],\n",
            "             mask=[False, False, False, False, False, False, False, False,\n",
            "                   False, False, False, False, False, False, False, False,\n",
            "                   False, False, False, False, False, False, False, False,\n",
            "                   False, False, False, False, False, False, False, False,\n",
            "                   False, False, False, False, False, False, False, False,\n",
            "                   False, False, False, False, False, False, False, False,\n",
            "                   False, False, False, False, False, False],\n",
            "       fill_value='?',\n",
            "            dtype=object), 'param_classify__tol': masked_array(data=[1e-05, 1e-05, 1e-05, 0.0001, 0.0001, 0.0001, 0.001,\n",
            "                   0.001, 0.001, 1e-05, 1e-05, 1e-05, 0.0001, 0.0001,\n",
            "                   0.0001, 0.001, 0.001, 0.001, 1e-05, 1e-05, 1e-05,\n",
            "                   0.0001, 0.0001, 0.0001, 0.001, 0.001, 0.001, 1e-05,\n",
            "                   1e-05, 1e-05, 0.0001, 0.0001, 0.0001, 0.001, 0.001,\n",
            "                   0.001, 1e-05, 1e-05, 1e-05, 0.0001, 0.0001, 0.0001,\n",
            "                   0.001, 0.001, 0.001, 1e-05, 1e-05, 1e-05, 0.0001,\n",
            "                   0.0001, 0.0001, 0.001, 0.001, 0.001],\n",
            "             mask=[False, False, False, False, False, False, False, False,\n",
            "                   False, False, False, False, False, False, False, False,\n",
            "                   False, False, False, False, False, False, False, False,\n",
            "                   False, False, False, False, False, False, False, False,\n",
            "                   False, False, False, False, False, False, False, False,\n",
            "                   False, False, False, False, False, False, False, False,\n",
            "                   False, False, False, False, False, False],\n",
            "       fill_value='?',\n",
            "            dtype=object), 'param_reduce_dim__n_components': masked_array(data=[10, 20, 30, 10, 20, 30, 10, 20, 30, 10, 20, 30, 10, 20,\n",
            "                   30, 10, 20, 30, 10, 20, 30, 10, 20, 30, 10, 20, 30, 10,\n",
            "                   20, 30, 10, 20, 30, 10, 20, 30, 10, 20, 30, 10, 20, 30,\n",
            "                   10, 20, 30, 10, 20, 30, 10, 20, 30, 10, 20, 30],\n",
            "             mask=[False, False, False, False, False, False, False, False,\n",
            "                   False, False, False, False, False, False, False, False,\n",
            "                   False, False, False, False, False, False, False, False,\n",
            "                   False, False, False, False, False, False, False, False,\n",
            "                   False, False, False, False, False, False, False, False,\n",
            "                   False, False, False, False, False, False, False, False,\n",
            "                   False, False, False, False, False, False],\n",
            "       fill_value='?',\n",
            "            dtype=object)}\n"
          ]
        }
      ]
    },
    {
      "cell_type": "markdown",
      "metadata": {
        "id": "OGAArl49Z3bo"
      },
      "source": [
        "Λόγω των πολλών συνδυασμών των παραμέτρων, του μεγάλου μεγέθους του dataset αλλά και του χρόνου που απαιτείτει για την εκπαίδευση ενός MLP ταξινομητή παρατηρούμε πως ο χρόνος βελτιστοποίησης είναι εξαιρετικά μεγάλος."
      ]
    },
    {
      "cell_type": "markdown",
      "metadata": {
        "id": "mVWshN-laR0N"
      },
      "source": [
        "Για τον ταξινομητή SVM έχουμε λιγότερες παραμέτρους που πρέπει να ερευνήσουμε και τον εκπαιδεύουμε στο μικρό training set γιατί διαφορετικά ο χρόνος που απαιτεί η εκπαίδευσή του είναι απαγορευτικός."
      ]
    },
    {
      "cell_type": "code",
      "metadata": {
        "colab": {
          "base_uri": "https://localhost:8080/"
        },
        "id": "HShWiXgetj9G",
        "outputId": "474f3d69-5977-4f75-8c6f-f1e1399d230b"
      },
      "source": [
        "N_COMPONENTS = [10, 20, 30]\n",
        "C = [0.5, 1.0, 1.5]\n",
        "TOL = [1e-3, 1e-2]\n",
        "\n",
        "scaler_svm = StandardScaler()\n",
        "selector_svm = VarianceThreshold()\n",
        "pca_svm = PCA()\n",
        "svm = SVC()\n",
        "\n",
        "pipe_svm = Pipeline([\n",
        "    (\"threshold\", scaler_svm),\n",
        "    (\"scale\", scaler_svm),\n",
        "    (\"reduce_dim\", pca_svm),\n",
        "    (\"classify\", svm)\n",
        "])\n",
        "\n",
        "param_grid_svm = [{\n",
        "               \"reduce_dim__n_components\":N_COMPONENTS,\n",
        "               \"classify__C\":C,\n",
        "               \"classify__tol\":TOL\n",
        "              }]\n",
        "\n",
        "estimator_svm = TuneGridSearchCV(pipe_svm, param_grid_svm, scoring='recall')\n",
        "\n",
        "fit_start_time_svm = time.time()\n",
        "estimator_svm.fit(X_train_red, y_train_red)\n",
        "fit_stop_time_svm = time.time()\n",
        "\n",
        "pred_start_time_svm = time.time()\n",
        "preds_svm = estimator_svm.predict(X_test)\n",
        "pred_stop_time_svm = time.time()\n",
        "print(\"Συνολικός χρόνος fit για SVM: {:.1f} seconds\".format(fit_stop_time_svm - fit_start_time_svm))\n",
        "print(\"Συνολικός χρόνος predict για SVM: {:.1f} seconds\".format(pred_stop_time_svm - pred_start_time_svm))\n",
        "\n",
        "print(\"Βέλτιστες παράμετροι:\",estimator_svm.best_params_)\n",
        "print(\"Το καλύτερο recall του ταξινομητή ήταν {:.4f} στο training set\".format(estimator_svm.best_score_))\n",
        "\n",
        "best_svm = estimator_svm.best_estimator_\n",
        "print(estimator_svm.cv_results_)"
      ],
      "execution_count": 29,
      "outputs": [
        {
          "output_type": "stream",
          "name": "stderr",
          "text": [
            "/usr/local/lib/python3.7/dist-packages/ray/tune/tune.py:374: UserWarning: The `loggers` argument is deprecated. Please pass the respective `LoggerCallback` classes to the `callbacks` argument instead. See https://docs.ray.io/en/latest/tune/api_docs/logging.html\n",
            "  \"The `loggers` argument is deprecated. Please pass the respective \"\n"
          ]
        },
        {
          "output_type": "stream",
          "name": "stdout",
          "text": [
            "Συνολικός χρόνος fit για SVM: 357.6 seconds\n",
            "Συνολικός χρόνος predict για SVM: 10.6 seconds\n",
            "Βέλτιστες παράμετροι: {'classify__C': 1.5, 'classify__tol': 0.001, 'reduce_dim__n_components': 30}\n",
            "Το καλύτερο recall του ταξινομητή ήταν 0.9990 στο training set\n",
            "{'params': [{'classify__C': 0.5, 'classify__tol': 0.001, 'reduce_dim__n_components': 10}, {'classify__C': 0.5, 'classify__tol': 0.001, 'reduce_dim__n_components': 20}, {'classify__C': 0.5, 'classify__tol': 0.001, 'reduce_dim__n_components': 30}, {'classify__C': 0.5, 'classify__tol': 0.01, 'reduce_dim__n_components': 10}, {'classify__C': 0.5, 'classify__tol': 0.01, 'reduce_dim__n_components': 20}, {'classify__C': 0.5, 'classify__tol': 0.01, 'reduce_dim__n_components': 30}, {'classify__C': 1.0, 'classify__tol': 0.001, 'reduce_dim__n_components': 10}, {'classify__C': 1.0, 'classify__tol': 0.001, 'reduce_dim__n_components': 20}, {'classify__C': 1.0, 'classify__tol': 0.001, 'reduce_dim__n_components': 30}, {'classify__C': 1.0, 'classify__tol': 0.01, 'reduce_dim__n_components': 10}, {'classify__C': 1.0, 'classify__tol': 0.01, 'reduce_dim__n_components': 20}, {'classify__C': 1.0, 'classify__tol': 0.01, 'reduce_dim__n_components': 30}, {'classify__C': 1.5, 'classify__tol': 0.001, 'reduce_dim__n_components': 10}, {'classify__C': 1.5, 'classify__tol': 0.001, 'reduce_dim__n_components': 20}, {'classify__C': 1.5, 'classify__tol': 0.001, 'reduce_dim__n_components': 30}, {'classify__C': 1.5, 'classify__tol': 0.01, 'reduce_dim__n_components': 10}, {'classify__C': 1.5, 'classify__tol': 0.01, 'reduce_dim__n_components': 20}, {'classify__C': 1.5, 'classify__tol': 0.01, 'reduce_dim__n_components': 30}], 'split0_test_score': array([0.99656329, 0.99756915, 0.99832355, 0.99656329, 0.99756915,\n",
            "       0.99832355, 0.99740151, 0.99815591, 0.99882649, 0.99731769,\n",
            "       0.99815591, 0.99882649, 0.99782062, 0.99840738, 0.99891031,\n",
            "       0.9977368 , 0.99840738, 0.99891031]), 'split1_test_score': array([0.99723386, 0.99748533, 0.99857502, 0.99723386, 0.99748533,\n",
            "       0.99857502, 0.99748533, 0.99798826, 0.99882649, 0.99748533,\n",
            "       0.99798826, 0.99882649, 0.99765298, 0.99832355, 0.99907795,\n",
            "       0.99765298, 0.99832355, 0.99907795]), 'split2_test_score': array([0.99706622, 0.99740151, 0.9984912 , 0.99706622, 0.99740151,\n",
            "       0.9984912 , 0.99740151, 0.99790444, 0.99907795, 0.99740151,\n",
            "       0.99790444, 0.99907795, 0.99790444, 0.99823973, 0.99916178,\n",
            "       0.99790444, 0.99823973, 0.99916178]), 'split3_test_score': array([0.99681475, 0.99731769, 0.99815591, 0.99681475, 0.99731769,\n",
            "       0.99815591, 0.99715004, 0.99756915, 0.99823973, 0.99723386,\n",
            "       0.99756915, 0.99823973, 0.99740151, 0.99765298, 0.99840738,\n",
            "       0.99740151, 0.99765298, 0.99840738]), 'split4_test_score': array([0.99740151, 0.99756915, 0.99874267, 0.99740151, 0.99756915,\n",
            "       0.99874267, 0.99798826, 0.99790444, 0.99907795, 0.99798826,\n",
            "       0.99790444, 0.99907795, 0.99815591, 0.99815591, 0.99932942,\n",
            "       0.99815591, 0.99815591, 0.99932942]), 'mean_test_score': array([0.99701593, 0.99746857, 0.99845767, 0.99701593, 0.99746857,\n",
            "       0.99845767, 0.99748533, 0.99790444, 0.99880972, 0.99748533,\n",
            "       0.99790444, 0.99880972, 0.99778709, 0.99815591, 0.99897737,\n",
            "       0.99777033, 0.99815591, 0.99897737]), 'std_test_score': array([2.98011548e-04, 9.77527560e-05, 2.02565733e-04, 2.98011548e-04,\n",
            "       9.77527560e-05, 2.02565733e-04, 2.75468176e-04, 1.91144246e-04,\n",
            "       3.06381674e-04, 2.65069376e-04, 1.91144246e-04, 3.06381674e-04,\n",
            "       2.52025086e-04, 2.65069376e-04, 3.15421420e-04, 2.52025086e-04,\n",
            "       2.65069376e-04, 3.15421420e-04]), 'rank_test_score': array([17, 15,  5, 17, 15,  5, 13,  9,  3, 13,  9,  3, 11,  7,  1, 12,  7,\n",
            "        1], dtype=int32), 'time_total_s': array([33.19895196, 42.21418524, 44.8748703 , 32.84521794, 42.43279934,\n",
            "       45.57673311, 32.66889524, 41.44779348, 42.39334273, 29.44026923,\n",
            "       39.82828593, 42.08939981, 28.7040894 , 37.69849896, 41.22751164,\n",
            "       28.07360649, 38.97036266, 39.97158337]), 'training_iteration': array([1, 1, 1, 1, 1, 1, 1, 1, 1, 1, 1, 1, 1, 1, 1, 1, 1, 1]), 'param_classify__C': masked_array(data=[0.5, 0.5, 0.5, 0.5, 0.5, 0.5, 1.0, 1.0, 1.0, 1.0, 1.0,\n",
            "                   1.0, 1.5, 1.5, 1.5, 1.5, 1.5, 1.5],\n",
            "             mask=[False, False, False, False, False, False, False, False,\n",
            "                   False, False, False, False, False, False, False, False,\n",
            "                   False, False],\n",
            "       fill_value='?',\n",
            "            dtype=object), 'param_classify__tol': masked_array(data=[0.001, 0.001, 0.001, 0.01, 0.01, 0.01, 0.001, 0.001,\n",
            "                   0.001, 0.01, 0.01, 0.01, 0.001, 0.001, 0.001, 0.01,\n",
            "                   0.01, 0.01],\n",
            "             mask=[False, False, False, False, False, False, False, False,\n",
            "                   False, False, False, False, False, False, False, False,\n",
            "                   False, False],\n",
            "       fill_value='?',\n",
            "            dtype=object), 'param_reduce_dim__n_components': masked_array(data=[10, 20, 30, 10, 20, 30, 10, 20, 30, 10, 20, 30, 10, 20,\n",
            "                   30, 10, 20, 30],\n",
            "             mask=[False, False, False, False, False, False, False, False,\n",
            "                   False, False, False, False, False, False, False, False,\n",
            "                   False, False],\n",
            "       fill_value='?',\n",
            "            dtype=object)}\n"
          ]
        }
      ]
    },
    {
      "cell_type": "code",
      "metadata": {
        "colab": {
          "base_uri": "https://localhost:8080/"
        },
        "id": "9s_2JTKN9AMx",
        "outputId": "f9da2ca0-a1d3-422e-a022-5a2d41d2d1c8"
      },
      "source": [
        "print(ootb_recall)\n",
        "print(ootb_f1)"
      ],
      "execution_count": 30,
      "outputs": [
        {
          "output_type": "stream",
          "name": "stdout",
          "text": [
            "{'MLP': 0.9995145722877514, 'SVM': 0.9986193679352932}\n",
            "{'MLP': 0.9975430439200561, 'SVM': 0.9478969068463475}\n"
          ]
        }
      ]
    },
    {
      "cell_type": "markdown",
      "metadata": {
        "id": "QmuGtqnCamNf"
      },
      "source": [
        "Διαλέγουμε τα καλύτερα μοντέλα όπως αυτά προέκυψαν από το cross validation και τα εκπαιδεύουμε στο training set. Στη συνέχεια εκτελούμε τις προβλέψεις για το test set ώστε να συγκρίνουμε την επίδοσή τους."
      ]
    },
    {
      "cell_type": "code",
      "metadata": {
        "id": "s0k-bL1nAaxs"
      },
      "source": [
        "best_mlp_start_train = time.time()\n",
        "best_mlp.fit(X_train, y_train)\n",
        "best_mlp_stop_train = time.time()\n",
        "fin_preds_mlp = best_mlp.predict(X_test)\n",
        "best_mlp_stop_pred = time.time()\n",
        "\n",
        "best_svm.fit(X_train_red, y_train_red)\n",
        "best_svm_stop_train = time.time()\n",
        "fin_preds_svm = best_svm.predict(X_test)\n",
        "best_svm_stop_pred = time.time()"
      ],
      "execution_count": 31,
      "outputs": []
    },
    {
      "cell_type": "code",
      "metadata": {
        "colab": {
          "base_uri": "https://localhost:8080/"
        },
        "id": "lQCxDkJrA30G",
        "outputId": "b7149d2f-e064-4598-a08d-985360792a0a"
      },
      "source": [
        "print(\"MLP fit time: {:.1f} and predict time: {:.1f}\".\n",
        "      format(best_mlp_stop_train-best_mlp_start_train, best_mlp_stop_pred-best_mlp_stop_train))\n",
        "print(\"MLP recall score: {:.2f}%\".format(recall_score(y_test, fin_preds_mlp)*100))\n",
        "print(\"MLP f1 score: {:.2f}%\".format(f1_score(y_test, fin_preds_mlp)*100))\n",
        "\n",
        "print(\"SVM fit time: {:.1f} and predict time: {:.1f}\".\n",
        "      format(best_svm_stop_train-best_mlp_stop_pred, best_svm_stop_pred-best_svm_stop_train))\n",
        "print(\"SVM recall score: {:.2f}%\".format(recall_score(y_test, fin_preds_svm)*100))\n",
        "print(\"SVM f1 score: {:.2f}%\".format(f1_score(y_test, fin_preds_svm)*100))"
      ],
      "execution_count": 32,
      "outputs": [
        {
          "output_type": "stream",
          "name": "stdout",
          "text": [
            "MLP fit time: 63.9 and predict time: 0.6\n",
            "MLP recall score: 99.96%\n",
            "MLP f1 score: 99.96%\n",
            "SVM fit time: 7.0 and predict time: 10.8\n",
            "SVM recall score: 99.93%\n",
            "SVM f1 score: 99.94%\n"
          ]
        }
      ]
    },
    {
      "cell_type": "markdown",
      "metadata": {
        "id": "_WIiiHG4azxT"
      },
      "source": [
        "Όπως ήταν αναμενόμενο οι επιδόσεις του MLP δεν βελτιώθηκαν ιδιαίτερα αφού το out-of-the-box μοντέλο ήταν ήδη κοντά στο 99% στις μετρικές recall και f1. Εκεί που παρατηρούμε βελτίωση είναι η επίδοση του SVM, η οποία βελτιώθηκε στη μετρική f1 score. Οι χρόνοι εκπαίδευσης των τελικών μοντέλων είναι αρκετά μικροί και για τους δύο ταξινομητές."
      ]
    },
    {
      "cell_type": "code",
      "metadata": {
        "id": "yCQdaldmF_bU"
      },
      "source": [
        "fin_recall = {}\n",
        "fin_recall['MLP'] = recall_score(y_test, fin_preds_mlp)\n",
        "fin_recall['SVM'] = recall_score(y_test, fin_preds_svm)"
      ],
      "execution_count": 33,
      "outputs": []
    },
    {
      "cell_type": "markdown",
      "metadata": {
        "id": "aX78ZkI2btLS"
      },
      "source": [
        "Δημιουργούμε γραφικές παραστάσεις για τις μετρικές recall η οποία και είναι η μετρική με την οποία αποφασίσαμε να συγκρίνουμε τα μοντέλα στο συγκεκριμένο dataset αλλά και f1 η οποία φανερώνει αν οι προβλέψεις του ταξινομητή είναι πράγματι σωστές."
      ]
    },
    {
      "cell_type": "code",
      "metadata": {
        "colab": {
          "base_uri": "https://localhost:8080/",
          "height": 295
        },
        "id": "0PElt6t7Fy8C",
        "outputId": "e32aa562-3017-4c0a-ad38-a2aab110f348"
      },
      "source": [
        "xax = np.arange(len(fin_recall))\n",
        "ax = plt.subplot(111)\n",
        "ax.bar(xax, fin_recall.values(), width=0.2, color='b', align='center')\n",
        "ax.bar(xax-0.2, ootb_recall.values(), width=0.2, color='g', align='center')\n",
        "ax.legend(('Optimized recall','Baseline recall'))\n",
        "plt.xticks(xax, fin_recall.keys())\n",
        "plt.ylabel(\"Recall\")\n",
        "plt.xlabel(\"Estimators\")\n",
        "plt.title(\"Recall scores for estimators (40% test set)\")\n",
        "ax.set_ylim([0, 1])\n",
        "plt.show()"
      ],
      "execution_count": 34,
      "outputs": [
        {
          "output_type": "display_data",
          "data": {
            "image/png": "[encoded data removed]",
            "text/plain": [
              "<Figure size 432x288 with 1 Axes>"
            ]
          },
          "metadata": {
            "needs_background": "light"
          }
        }
      ]
    },
    {
      "cell_type": "markdown",
      "metadata": {
        "id": "GO6fmiRVbV8Y"
      },
      "source": [
        "Όπως είπαμε και παραπάνω οι τιμές των δύο ταξινομητών ήταν ήδη πολύ μεγάλες για τις out-of-the-box εκδόσεις τους οπότε και δεν παρατηρείται διαφορά."
      ]
    },
    {
      "cell_type": "code",
      "metadata": {
        "id": "_TM6QADVGSbe"
      },
      "source": [
        "fin_f1 = {}\n",
        "fin_f1['MLP'] = f1_score(y_test, fin_preds_mlp)\n",
        "fin_f1['SVM'] = f1_score(y_test, fin_preds_svm)"
      ],
      "execution_count": 35,
      "outputs": []
    },
    {
      "cell_type": "code",
      "metadata": {
        "colab": {
          "base_uri": "https://localhost:8080/",
          "height": 295
        },
        "id": "DmLYc8UPGWyk",
        "outputId": "8648cf6b-2d5d-4813-dd1b-948f015a9489"
      },
      "source": [
        "xax = np.arange(len(fin_f1))\n",
        "ax = plt.subplot(111)\n",
        "ax.bar(xax, fin_f1.values(), width=0.2, color='b', align='center')\n",
        "ax.bar(xax-0.2, ootb_f1.values(), width=0.2, color='g', align='center')\n",
        "ax.legend(('Optimized recall','Baseline recall'))\n",
        "plt.xticks(xax, fin_f1.keys())\n",
        "plt.ylabel(\"F1 score\")\n",
        "plt.xlabel(\"Estimators\")\n",
        "plt.title(\"F1 scores for estimators (40% test set)\")\n",
        "ax.set_ylim([0, 1])\n",
        "plt.show()"
      ],
      "execution_count": 36,
      "outputs": [
        {
          "output_type": "display_data",
          "data": {
            "image/png": "[encoded data removed]",
            "text/plain": [
              "<Figure size 432x288 with 1 Axes>"
            ]
          },
          "metadata": {
            "needs_background": "light"
          }
        }
      ]
    },
    {
      "cell_type": "markdown",
      "metadata": {
        "id": "figl7MW3bfzN"
      },
      "source": [
        "Εδώ βλέπουμε τη βελτίωση της επίδοσης του μοντέλου SVM για τη μετρική f1 σε σύγκριση με το baseline μοντέλο."
      ]
    },
    {
      "cell_type": "markdown",
      "metadata": {
        "id": "ihpl_4NxcXnX"
      },
      "source": [
        "### Παρουσίαση αποτελεσμάτων"
      ]
    },
    {
      "cell_type": "markdown",
      "metadata": {
        "id": "otd9tQqFeR9d"
      },
      "source": [
        "Παρακάτω φαίνονται τα αποτελέσματα των πειραμάτων για τους δύο ταξινομητές."
      ]
    },
    {
      "cell_type": "markdown",
      "metadata": {
        "id": "i8Mya8EEgu44"
      },
      "source": [
        "| Classifier                                   | ootb train time | ootb predict time | ootb recall | ootb f1 | Optimization time | CV training best recall | Best model training time | Best model predict time | Best model recall | Best model f1 |\n",
        "|----------------------------------------------|-----------------|-------------------|-------------|---------|-------------------|-----------------------------|--------------------------|-------------------------|-------------------|---------------|\n",
        "| Multi-Layer Perceptron                       | 193.4 sec       | 0.8 sec           | 99.95%      | 99.75%  | 5252.6 sec        | 99.94%                      | 63.9 sec                 | 0.6 sec                 | 99.96%            | 99.96%        |\n",
        "| SVM (25% of training set) | 151.1 sec       | 392.5 sec         | 99.86%      | 94.79%  | 357.6 sec         | 99.90%                      | 7.0 sec                  | 10.8 sec                | 99.93%            | 99.94%        |"
      ]
    },
    {
      "cell_type": "markdown",
      "metadata": {
        "id": "M3aozMHmcbaH"
      },
      "source": [
        "Η απόδοση του ταξινομητή Multi Layer Perceptron είναι εξαιρετική στο συγκεκριμένο dataset χωρίς να απαιτείται καμία βελτιστοποίηση. Η εκπαίδευση του μοντέλου είναι αρκετά γρήγορη δεδομένου του μεγέθους του dataset."
      ]
    },
    {
      "cell_type": "markdown",
      "metadata": {
        "id": "-sCxgPY1dLgO"
      },
      "source": [
        "Η απόδοση του ταξινομητή Support Vector Machine είναι καλή στο dataset αυτό χωρίς βελτιστοποίηση, ενώ μετά από τη βελτιστοποίηση πετυχαίνει τιμές αντίστοιχες με αυτές του MLP. Η εκπαίδευσή του είναι αρκετά αργή, όμως αν αντί για όλο το training set λάβει ένα υποσύνολο αυτού (τυχαίο ώστε να μην επηρεαστούν οι κατανομές των χαρακτηριστικών) πετυχαίνει καλή εκπαίδευση πολύ γρήγορα. Μάλιστα, το κομμάτι της βελτιστοποίησης ήταν πολύ ταχύτερο για το SVM από αυτό του MLP λόγω του μικρότερου training set και των λιγότερων υπερπαραμέτρων."
      ]
    },
    {
      "cell_type": "markdown",
      "metadata": {
        "id": "LHGILaZkd7J-"
      },
      "source": [
        "Το μοντέλο που προτείνουμε για το dataset είναι το Multi-Layer Perceptron καθώς χωρίς καμία βελτιστοποίηση και σε πολύ μικρό χρόνο πετυχαίνει εξαιρετικά αποτελέσματα σε όλες τις μετρικές."
      ]
    },
    {
      "cell_type": "markdown",
      "metadata": {
        "id": "PZB7N5zol6eH"
      },
      "source": [
        "Παρακάτω δίνονται και τα confusion matrices για τους δύο ταξινομητές. Υπενθυμίζουμε πως με label '1' συμβολίζονται οι κακόβουλες συνδέσεις και με '0' οι κανονικές."
      ]
    },
    {
      "cell_type": "code",
      "metadata": {
        "colab": {
          "base_uri": "https://localhost:8080/",
          "height": 295
        },
        "id": "yM801gEejwKt",
        "outputId": "d8d9353a-eba8-4e27-a2b2-9a4e7616b4fe"
      },
      "source": [
        "cm = confusion_matrix(y_test, fin_preds_mlp, labels=best_mlp.classes_)\n",
        "disp = ConfusionMatrixDisplay(confusion_matrix=cm, display_labels=best_mlp.classes_)\n",
        "disp.plot()\n",
        "plt.title(\"Confusion matrix for MLP\")\n",
        "plt.show()"
      ],
      "execution_count": 42,
      "outputs": [
        {
          "output_type": "display_data",
          "data": {
            "image/png": "[encoded data removed]",
            "text/plain": [
              "<Figure size 432x288 with 2 Axes>"
            ]
          },
          "metadata": {
            "needs_background": "light"
          }
        }
      ]
    },
    {
      "cell_type": "code",
      "metadata": {
        "colab": {
          "base_uri": "https://localhost:8080/",
          "height": 295
        },
        "id": "b3mxLpm-kPfe",
        "outputId": "424ae116-558c-4a17-aa1f-cc277bba3d08"
      },
      "source": [
        "cm = confusion_matrix(y_test, fin_preds_svm, labels=best_svm.classes_)\n",
        "disp = ConfusionMatrixDisplay(confusion_matrix=cm, display_labels=best_svm.classes_)\n",
        "disp.plot()\n",
        "plt.title(\"Confusion matrix for SVM\")\n",
        "plt.show()"
      ],
      "execution_count": 41,
      "outputs": [
        {
          "output_type": "display_data",
          "data": {
            "image/png": "[encoded data removed]",
            "text/plain": [
              "<Figure size 432x288 with 2 Axes>"
            ]
          },
          "metadata": {
            "needs_background": "light"
          }
        }
      ]
    }
  ]
}