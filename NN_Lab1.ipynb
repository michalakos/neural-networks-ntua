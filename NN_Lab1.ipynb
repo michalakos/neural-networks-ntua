{
  "nbformat": 4,
  "nbformat_minor": 0,
  "metadata": {
    "colab": {
      "name": "NN_Lab1.ipynb",
      "provenance": [],
      "collapsed_sections": [
        "VUoqdAtd6xGQ"
      ],
      "toc_visible": true
    },
    "kernelspec": {
      "name": "python3",
      "display_name": "Python 3"
    },
    "language_info": {
      "name": "python"
    }
  },
  "cells": [
    {
      "cell_type": "markdown",
      "metadata": {
        "id": "9IZL-BYLirpn"
      },
      "source": [
        "# Νευρωνικά Δίκτυα και Ευφυή Υπολογιστικά Συστήματα\n",
        "## Εργασία 1: Επιβλεπόμενη Μάθηση - Ταξινόμηση\n",
        "### Ομάδα 44\n",
        "* Βασιλάκος Μιχαήλ <br>\n",
        "Α.Μ.: 03117069\n",
        "* Γαβαλάς Παντελεήμων <br>\n",
        "Α.Μ.: 03117075"
      ]
    },
    {
      "cell_type": "code",
      "metadata": {
        "id": "4I_wioxunXgh"
      },
      "source": [
        "# import used modules\n",
        "import pandas as pd\n",
        "import numpy as np\n",
        "import seaborn as sns\n",
        "import matplotlib.pyplot as plt"
      ],
      "execution_count": 1,
      "outputs": []
    },
    {
      "cell_type": "markdown",
      "metadata": {
        "id": "eaVWoqxxkYBr"
      },
      "source": [
        "## Μέρος 1: UCI dataset\n",
        "Το dataset του UCI Machine Learning Repository που αντιστοιχεί στην ομάδα μας είναι το [HCC Survival Data Set](https://archive.ics.uci.edu/ml/datasets/HCC+Survival). Το συγκεκριμένο dataset περιέχει πληροφορίες σχετικά με την επιβίωση ασθενών με Ηπατοκυτταρικό καρκίνωμα (HCC) σε διάστημα ενός χρόνου από τη συλλογή των στοιχείων που δίνονται στο dataset. Δίνονται 49 features, 23 εκ των οποίων είναι κατηγορικά ενώ τα υπόλοιπα 26 είναι διατεταγμένα."
      ]
    },
    {
      "cell_type": "markdown",
      "metadata": {
        "id": "pKIuHXIh6pQj"
      },
      "source": [
        "### Εισαγωγή και επισκόπηση δεδομένων"
      ]
    },
    {
      "cell_type": "markdown",
      "metadata": {
        "id": "LOglVdfnm3Vb"
      },
      "source": [
        "Αρχικά φορτώνουμε το dataset στο notebook και ελέγχουμε τα πρώτα στοιχεία του καθώς και τις διαστάσεις του."
      ]
    },
    {
      "cell_type": "code",
      "metadata": {
        "colab": {
          "base_uri": "https://localhost:8080/"
        },
        "id": "MB72FbM0irBG",
        "outputId": "0d34072c-45dd-40cd-95f2-b1cdfd96b749"
      },
      "source": [
        "# read dataset\n",
        "df = pd.read_csv(\"hcc-data.txt\", header=None, na_values=[\"?\"])\n",
        "print(df.head(), df.shape)"
      ],
      "execution_count": 2,
      "outputs": [
        {
          "output_type": "stream",
          "name": "stdout",
          "text": [
            "   0    1   2    3    4    5    6   ...   43    44   45    46    47    48  49\n",
            "0   1  0.0   1  0.0  0.0  0.0  0.0  ...  1.0   3.5  0.5   NaN   NaN   NaN   1\n",
            "1   0  NaN   0  0.0  0.0  0.0  1.0  ...  1.0   1.8  NaN   NaN   NaN   NaN   1\n",
            "2   1  0.0   1  1.0  0.0  1.0  0.0  ...  5.0  13.0  0.1  28.0   6.0  16.0   1\n",
            "3   1  1.0   1  0.0  0.0  0.0  0.0  ...  2.0  15.7  0.2   NaN   NaN   NaN   0\n",
            "4   1  1.0   1  1.0  0.0  1.0  0.0  ...  1.0   9.0  NaN  59.0  15.0  22.0   1\n",
            "\n",
            "[5 rows x 50 columns] (165, 50)\n"
          ]
        }
      ]
    },
    {
      "cell_type": "markdown",
      "metadata": {
        "id": "VGgDb1O6pIUo"
      },
      "source": [
        "Το αρχείο text δεν χρειάστηκε κάποια μετατροπή για να εισαχθεί στο notebook. Βλέπουμε πως υπάρχουν 50 στήλες στο dataframe, το οποίο σημαίνει πως έχουμε 49 χαρακτηριστικά και 1 ετικέτα. Από την περιγραφή των χαρακτηριστικών στο UCI Repository βλέπουμε πως τα πρώτα 23 χαρακτηριστικά είναι μη διατεταγμένα (κατηγορικά) και είναι:\n",
        "* Gender (1: Άνδρας; 0: Γυναίκα)\n",
        "* Symptoms (1: Ναι; 0: Όχι)\n",
        "* Alcohol (1: Ναι; 0: Όχι)\n",
        "* Hepatitis B Surface Antigen (1: Ναι; 0: Όχι)\n",
        "* Hepatitis B e Antigen (1: Ναι; 0: Όχι)\n",
        "* Hepatitis B Core Antibody (1: Ναι; 0: Όχι)\n",
        "* Hepatitis C Virus Antibody (1: Ναι; 0: Όχι)\n",
        "* Cirrhosis (1: Ναι; 0: Όχι)\n",
        "* Endemic Countries (1: Ναι; 0: Όχι)\n",
        "* Smoking (1: Ναι; 0: Όχι)\n",
        "* Diabetes (1: Ναι; 0: Όχι)\n",
        "* Obesity (1: Ναι; 0: Όχι)\n",
        "* Hemochromatosis (1: Ναι; 0: Όχι)\n",
        "* Arterial Hypertension (1: Ναι; 0: Όχι)\n",
        "* Chronic Renal Insufficiency (1: Ναι; 0: Όχι)\n",
        "* Human Immunodeficiency Virus (1: Ναι; 0: Όχι)\n",
        "* Nonalcoholic Steatohepatitis (1: Ναι; 0: Όχι)\n",
        "* Esophageal Varices (1: Ναι; 0: Όχι)\n",
        "* Splenomegaly (1: Ναι; 0: Όχι)\n",
        "* Portal Hypertension (1: Ναι; 0: Όχι)\n",
        "* Portal Vein Thrombosis (1: Ναι; 0: Όχι)\n",
        "* Liver Metastasis (1: Ναι; 0: Όχι)\n",
        "* Radiological Hallmark  (1: Ναι; 0: Όχι)\n",
        "\n",
        "Το dataset δεν περιέχει επικεφαλίδες ούτε αρίθμηση σειρών. Οι ετικέτες των κλάσεων είναι στην 50η στήλη και λαμβάνουν τιμές 1 και 0, όπου το 1 εκφράζει την επιβίωση του ασθενή στον 1 χρόνο ενώ το 0 το αντίθετο."
      ]
    },
    {
      "cell_type": "code",
      "metadata": {
        "colab": {
          "base_uri": "https://localhost:8080/"
        },
        "id": "EdFYpN04sYW_",
        "outputId": "9e0b2b72-456a-49fc-fd04-15d576c2f089"
      },
      "source": [
        "# find missing values\n",
        "print(\"Total missing values:\", df.isnull().sum(axis=1).sum())\n",
        "# find samples with missing values\n",
        "missing_samples = df.isnull().any(axis=1).sum()\n",
        "print(\"Number of samples with missing values: {} which represents {:.2f}% \\\n",
        "of total samples\".format(missing_samples, missing_samples/df.shape[0]*100))\n",
        "# find features with missing values\n",
        "missing_cols = df.isnull().sum(axis=0)\n",
        "missing_cols_percent = [\"{:.1f}%\".format(x/df.shape[0]*100) for x in missing_cols]\n",
        "print(\"Percentage of samples with missing features:\")\n",
        "for i in range(len(missing_cols_percent)-1):\n",
        "  print(\"Feature {}: {}\".format(i, missing_cols_percent[i]))"
      ],
      "execution_count": 3,
      "outputs": [
        {
          "output_type": "stream",
          "name": "stdout",
          "text": [
            "Total missing values: 826\n",
            "Number of samples with missing values: 157 which represents 95.15% of total samples\n",
            "Percentage of samples with missing features:\n",
            "Feature 0: 0.0%\n",
            "Feature 1: 10.9%\n",
            "Feature 2: 0.0%\n",
            "Feature 3: 10.3%\n",
            "Feature 4: 23.6%\n",
            "Feature 5: 14.5%\n",
            "Feature 6: 5.5%\n",
            "Feature 7: 0.0%\n",
            "Feature 8: 23.6%\n",
            "Feature 9: 24.8%\n",
            "Feature 10: 1.8%\n",
            "Feature 11: 6.1%\n",
            "Feature 12: 13.9%\n",
            "Feature 13: 1.8%\n",
            "Feature 14: 1.2%\n",
            "Feature 15: 8.5%\n",
            "Feature 16: 13.3%\n",
            "Feature 17: 31.5%\n",
            "Feature 18: 9.1%\n",
            "Feature 19: 6.7%\n",
            "Feature 20: 1.8%\n",
            "Feature 21: 2.4%\n",
            "Feature 22: 1.2%\n",
            "Feature 23: 0.0%\n",
            "Feature 24: 29.1%\n",
            "Feature 25: 32.1%\n",
            "Feature 26: 0.0%\n",
            "Feature 27: 0.6%\n",
            "Feature 28: 1.2%\n",
            "Feature 29: 2.4%\n",
            "Feature 30: 4.8%\n",
            "Feature 31: 1.8%\n",
            "Feature 32: 1.8%\n",
            "Feature 33: 1.8%\n",
            "Feature 34: 1.8%\n",
            "Feature 35: 3.6%\n",
            "Feature 36: 3.0%\n",
            "Feature 37: 2.4%\n",
            "Feature 38: 1.8%\n",
            "Feature 39: 1.8%\n",
            "Feature 40: 1.8%\n",
            "Feature 41: 6.7%\n",
            "Feature 42: 4.2%\n",
            "Feature 43: 1.2%\n",
            "Feature 44: 12.1%\n",
            "Feature 45: 26.7%\n",
            "Feature 46: 47.9%\n",
            "Feature 47: 48.5%\n",
            "Feature 48: 48.5%\n"
          ]
        }
      ]
    },
    {
      "cell_type": "markdown",
      "metadata": {
        "id": "_Fb5ZW1TvKkC"
      },
      "source": [
        "Παρατηρούμε πως μας λείπουν 826 τιμές συνολικά. Δεδομένου ότι έχουμε 49 χαρακτηριστικά και 165 δείγματα μας λείπουν $\\frac{826}{49*165}*100\\% = 10.2\\%$ των τιμών του dataset. Επιπλέον, είδαμε πως πάνω από το 95% των δειγμάτων έχουν τουλάχιστον μία τιμή που απουσιάζει, οπότε δεν είναι δυνατή η αφαίρεση των δειγμάτων των οποίων οι τιμές απουσιάζουν. Επίσης είδαμε πως 7 από τα 49 χαρακτηριστικά απουσιάζουν για πάνω από το 25% των δειγμάτων, ενώ 3 εξ αυτών απουσιάζουν για περίπου τα μισά δείγματα."
      ]
    },
    {
      "cell_type": "code",
      "metadata": {
        "colab": {
          "base_uri": "https://localhost:8080/"
        },
        "id": "IR3tEJBAzyvS",
        "outputId": "0afd1780-3402-4127-c318-b3a3fdc0f598"
      },
      "source": [
        "# count instances of each class\n",
        "class1 = df.iloc[:,49].sum()\n",
        "class0 = df.shape[0] - class1\n",
        "print(\"Class 0 has {} samples which represents {:.1f}% of all samples\".format\n",
        "      (class0, class0/df.shape[0]*100))\n",
        "print(\"Class 1 has {} samples which represents {:.1f}% of all samples\".format\n",
        "      (class1, class1/df.shape[0]*100))"
      ],
      "execution_count": 4,
      "outputs": [
        {
          "output_type": "stream",
          "name": "stdout",
          "text": [
            "Class 0 has 63 samples which represents 38.2% of all samples\n",
            "Class 1 has 102 samples which represents 61.8% of all samples\n"
          ]
        }
      ]
    },
    {
      "cell_type": "markdown",
      "metadata": {
        "id": "XgZuG0nF1JLt"
      },
      "source": [
        "Παρατηρούμε πως η κλάση 1 (ο ασθενής ζει) αντιπροσωπεύει το 61.8% των δειγμάτων του dataset, έναντι του 38.2% που αντιστοιχεί στην κλάση 0 (ο ασθενής πεθαίνει). Αυτό σημαίνει πως το dataset δεν είναι ισορροπημένο και συνεπώς απαιτείται ειδικός χειρισμός για την αποτελεσματικότερη χρήση του."
      ]
    },
    {
      "cell_type": "code",
      "metadata": {
        "colab": {
          "base_uri": "https://localhost:8080/",
          "height": 226
        },
        "id": "7IPQItf92V0g",
        "outputId": "14337cc5-6635-497e-a67e-534b71daab94"
      },
      "source": [
        "df.head()"
      ],
      "execution_count": 5,
      "outputs": [
        {
          "output_type": "execute_result",
          "data": {
            "text/html": [
              "<div>\n",
              "<style scoped>\n",
              "    .dataframe tbody tr th:only-of-type {\n",
              "        vertical-align: middle;\n",
              "    }\n",
              "\n",
              "    .dataframe tbody tr th {\n",
              "        vertical-align: top;\n",
              "    }\n",
              "\n",
              "    .dataframe thead th {\n",
              "        text-align: right;\n",
              "    }\n",
              "</style>\n",
              "<table border=\"1\" class=\"dataframe\">\n",
              "  <thead>\n",
              "    <tr style=\"text-align: right;\">\n",
              "      <th></th>\n",
              "      <th>0</th>\n",
              "      <th>1</th>\n",
              "      <th>2</th>\n",
              "      <th>3</th>\n",
              "      <th>4</th>\n",
              "      <th>5</th>\n",
              "      <th>6</th>\n",
              "      <th>7</th>\n",
              "      <th>8</th>\n",
              "      <th>9</th>\n",
              "      <th>10</th>\n",
              "      <th>11</th>\n",
              "      <th>12</th>\n",
              "      <th>13</th>\n",
              "      <th>14</th>\n",
              "      <th>15</th>\n",
              "      <th>16</th>\n",
              "      <th>17</th>\n",
              "      <th>18</th>\n",
              "      <th>19</th>\n",
              "      <th>20</th>\n",
              "      <th>21</th>\n",
              "      <th>22</th>\n",
              "      <th>23</th>\n",
              "      <th>24</th>\n",
              "      <th>25</th>\n",
              "      <th>26</th>\n",
              "      <th>27</th>\n",
              "      <th>28</th>\n",
              "      <th>29</th>\n",
              "      <th>30</th>\n",
              "      <th>31</th>\n",
              "      <th>32</th>\n",
              "      <th>33</th>\n",
              "      <th>34</th>\n",
              "      <th>35</th>\n",
              "      <th>36</th>\n",
              "      <th>37</th>\n",
              "      <th>38</th>\n",
              "      <th>39</th>\n",
              "      <th>40</th>\n",
              "      <th>41</th>\n",
              "      <th>42</th>\n",
              "      <th>43</th>\n",
              "      <th>44</th>\n",
              "      <th>45</th>\n",
              "      <th>46</th>\n",
              "      <th>47</th>\n",
              "      <th>48</th>\n",
              "      <th>49</th>\n",
              "    </tr>\n",
              "  </thead>\n",
              "  <tbody>\n",
              "    <tr>\n",
              "      <th>0</th>\n",
              "      <td>1</td>\n",
              "      <td>0.0</td>\n",
              "      <td>1</td>\n",
              "      <td>0.0</td>\n",
              "      <td>0.0</td>\n",
              "      <td>0.0</td>\n",
              "      <td>0.0</td>\n",
              "      <td>1</td>\n",
              "      <td>0.0</td>\n",
              "      <td>1.0</td>\n",
              "      <td>1.0</td>\n",
              "      <td>NaN</td>\n",
              "      <td>1.0</td>\n",
              "      <td>0.0</td>\n",
              "      <td>0.0</td>\n",
              "      <td>0.0</td>\n",
              "      <td>0.0</td>\n",
              "      <td>1.0</td>\n",
              "      <td>0.0</td>\n",
              "      <td>0.0</td>\n",
              "      <td>0.0</td>\n",
              "      <td>0.0</td>\n",
              "      <td>1.0</td>\n",
              "      <td>67</td>\n",
              "      <td>137.0</td>\n",
              "      <td>15.0</td>\n",
              "      <td>0</td>\n",
              "      <td>1.0</td>\n",
              "      <td>1.0</td>\n",
              "      <td>1.53</td>\n",
              "      <td>95.0</td>\n",
              "      <td>13.7</td>\n",
              "      <td>106.6</td>\n",
              "      <td>4.9</td>\n",
              "      <td>99.0</td>\n",
              "      <td>3.4</td>\n",
              "      <td>2.1</td>\n",
              "      <td>34.0</td>\n",
              "      <td>41.0</td>\n",
              "      <td>183.0</td>\n",
              "      <td>150.0</td>\n",
              "      <td>7.1</td>\n",
              "      <td>0.70</td>\n",
              "      <td>1.0</td>\n",
              "      <td>3.5</td>\n",
              "      <td>0.5</td>\n",
              "      <td>NaN</td>\n",
              "      <td>NaN</td>\n",
              "      <td>NaN</td>\n",
              "      <td>1</td>\n",
              "    </tr>\n",
              "    <tr>\n",
              "      <th>1</th>\n",
              "      <td>0</td>\n",
              "      <td>NaN</td>\n",
              "      <td>0</td>\n",
              "      <td>0.0</td>\n",
              "      <td>0.0</td>\n",
              "      <td>0.0</td>\n",
              "      <td>1.0</td>\n",
              "      <td>1</td>\n",
              "      <td>NaN</td>\n",
              "      <td>NaN</td>\n",
              "      <td>1.0</td>\n",
              "      <td>0.0</td>\n",
              "      <td>0.0</td>\n",
              "      <td>1.0</td>\n",
              "      <td>0.0</td>\n",
              "      <td>0.0</td>\n",
              "      <td>0.0</td>\n",
              "      <td>1.0</td>\n",
              "      <td>0.0</td>\n",
              "      <td>0.0</td>\n",
              "      <td>0.0</td>\n",
              "      <td>0.0</td>\n",
              "      <td>1.0</td>\n",
              "      <td>62</td>\n",
              "      <td>0.0</td>\n",
              "      <td>NaN</td>\n",
              "      <td>0</td>\n",
              "      <td>1.0</td>\n",
              "      <td>1.0</td>\n",
              "      <td>NaN</td>\n",
              "      <td>NaN</td>\n",
              "      <td>NaN</td>\n",
              "      <td>NaN</td>\n",
              "      <td>NaN</td>\n",
              "      <td>NaN</td>\n",
              "      <td>NaN</td>\n",
              "      <td>NaN</td>\n",
              "      <td>NaN</td>\n",
              "      <td>NaN</td>\n",
              "      <td>NaN</td>\n",
              "      <td>NaN</td>\n",
              "      <td>NaN</td>\n",
              "      <td>NaN</td>\n",
              "      <td>1.0</td>\n",
              "      <td>1.8</td>\n",
              "      <td>NaN</td>\n",
              "      <td>NaN</td>\n",
              "      <td>NaN</td>\n",
              "      <td>NaN</td>\n",
              "      <td>1</td>\n",
              "    </tr>\n",
              "    <tr>\n",
              "      <th>2</th>\n",
              "      <td>1</td>\n",
              "      <td>0.0</td>\n",
              "      <td>1</td>\n",
              "      <td>1.0</td>\n",
              "      <td>0.0</td>\n",
              "      <td>1.0</td>\n",
              "      <td>0.0</td>\n",
              "      <td>1</td>\n",
              "      <td>0.0</td>\n",
              "      <td>1.0</td>\n",
              "      <td>0.0</td>\n",
              "      <td>0.0</td>\n",
              "      <td>0.0</td>\n",
              "      <td>1.0</td>\n",
              "      <td>1.0</td>\n",
              "      <td>0.0</td>\n",
              "      <td>0.0</td>\n",
              "      <td>0.0</td>\n",
              "      <td>0.0</td>\n",
              "      <td>1.0</td>\n",
              "      <td>0.0</td>\n",
              "      <td>1.0</td>\n",
              "      <td>1.0</td>\n",
              "      <td>78</td>\n",
              "      <td>50.0</td>\n",
              "      <td>50.0</td>\n",
              "      <td>2</td>\n",
              "      <td>1.0</td>\n",
              "      <td>2.0</td>\n",
              "      <td>0.96</td>\n",
              "      <td>5.8</td>\n",
              "      <td>8.9</td>\n",
              "      <td>79.8</td>\n",
              "      <td>8.4</td>\n",
              "      <td>472.0</td>\n",
              "      <td>3.3</td>\n",
              "      <td>0.4</td>\n",
              "      <td>58.0</td>\n",
              "      <td>68.0</td>\n",
              "      <td>202.0</td>\n",
              "      <td>109.0</td>\n",
              "      <td>7.0</td>\n",
              "      <td>2.10</td>\n",
              "      <td>5.0</td>\n",
              "      <td>13.0</td>\n",
              "      <td>0.1</td>\n",
              "      <td>28.0</td>\n",
              "      <td>6.0</td>\n",
              "      <td>16.0</td>\n",
              "      <td>1</td>\n",
              "    </tr>\n",
              "    <tr>\n",
              "      <th>3</th>\n",
              "      <td>1</td>\n",
              "      <td>1.0</td>\n",
              "      <td>1</td>\n",
              "      <td>0.0</td>\n",
              "      <td>0.0</td>\n",
              "      <td>0.0</td>\n",
              "      <td>0.0</td>\n",
              "      <td>1</td>\n",
              "      <td>0.0</td>\n",
              "      <td>1.0</td>\n",
              "      <td>1.0</td>\n",
              "      <td>0.0</td>\n",
              "      <td>0.0</td>\n",
              "      <td>1.0</td>\n",
              "      <td>0.0</td>\n",
              "      <td>0.0</td>\n",
              "      <td>0.0</td>\n",
              "      <td>0.0</td>\n",
              "      <td>0.0</td>\n",
              "      <td>0.0</td>\n",
              "      <td>0.0</td>\n",
              "      <td>1.0</td>\n",
              "      <td>1.0</td>\n",
              "      <td>77</td>\n",
              "      <td>40.0</td>\n",
              "      <td>30.0</td>\n",
              "      <td>0</td>\n",
              "      <td>1.0</td>\n",
              "      <td>1.0</td>\n",
              "      <td>0.95</td>\n",
              "      <td>2440.0</td>\n",
              "      <td>13.4</td>\n",
              "      <td>97.1</td>\n",
              "      <td>9.0</td>\n",
              "      <td>279.0</td>\n",
              "      <td>3.7</td>\n",
              "      <td>0.4</td>\n",
              "      <td>16.0</td>\n",
              "      <td>64.0</td>\n",
              "      <td>94.0</td>\n",
              "      <td>174.0</td>\n",
              "      <td>8.1</td>\n",
              "      <td>1.11</td>\n",
              "      <td>2.0</td>\n",
              "      <td>15.7</td>\n",
              "      <td>0.2</td>\n",
              "      <td>NaN</td>\n",
              "      <td>NaN</td>\n",
              "      <td>NaN</td>\n",
              "      <td>0</td>\n",
              "    </tr>\n",
              "    <tr>\n",
              "      <th>4</th>\n",
              "      <td>1</td>\n",
              "      <td>1.0</td>\n",
              "      <td>1</td>\n",
              "      <td>1.0</td>\n",
              "      <td>0.0</td>\n",
              "      <td>1.0</td>\n",
              "      <td>0.0</td>\n",
              "      <td>1</td>\n",
              "      <td>0.0</td>\n",
              "      <td>1.0</td>\n",
              "      <td>0.0</td>\n",
              "      <td>0.0</td>\n",
              "      <td>0.0</td>\n",
              "      <td>1.0</td>\n",
              "      <td>1.0</td>\n",
              "      <td>0.0</td>\n",
              "      <td>0.0</td>\n",
              "      <td>0.0</td>\n",
              "      <td>0.0</td>\n",
              "      <td>0.0</td>\n",
              "      <td>0.0</td>\n",
              "      <td>0.0</td>\n",
              "      <td>1.0</td>\n",
              "      <td>76</td>\n",
              "      <td>100.0</td>\n",
              "      <td>30.0</td>\n",
              "      <td>0</td>\n",
              "      <td>1.0</td>\n",
              "      <td>1.0</td>\n",
              "      <td>0.94</td>\n",
              "      <td>49.0</td>\n",
              "      <td>14.3</td>\n",
              "      <td>95.1</td>\n",
              "      <td>6.4</td>\n",
              "      <td>199.0</td>\n",
              "      <td>4.1</td>\n",
              "      <td>0.7</td>\n",
              "      <td>147.0</td>\n",
              "      <td>306.0</td>\n",
              "      <td>173.0</td>\n",
              "      <td>109.0</td>\n",
              "      <td>6.9</td>\n",
              "      <td>1.80</td>\n",
              "      <td>1.0</td>\n",
              "      <td>9.0</td>\n",
              "      <td>NaN</td>\n",
              "      <td>59.0</td>\n",
              "      <td>15.0</td>\n",
              "      <td>22.0</td>\n",
              "      <td>1</td>\n",
              "    </tr>\n",
              "  </tbody>\n",
              "</table>\n",
              "</div>"
            ],
            "text/plain": [
              "   0    1   2    3    4    5    6   ...   43    44   45    46    47    48  49\n",
              "0   1  0.0   1  0.0  0.0  0.0  0.0  ...  1.0   3.5  0.5   NaN   NaN   NaN   1\n",
              "1   0  NaN   0  0.0  0.0  0.0  1.0  ...  1.0   1.8  NaN   NaN   NaN   NaN   1\n",
              "2   1  0.0   1  1.0  0.0  1.0  0.0  ...  5.0  13.0  0.1  28.0   6.0  16.0   1\n",
              "3   1  1.0   1  0.0  0.0  0.0  0.0  ...  2.0  15.7  0.2   NaN   NaN   NaN   0\n",
              "4   1  1.0   1  1.0  0.0  1.0  0.0  ...  1.0   9.0  NaN  59.0  15.0  22.0   1\n",
              "\n",
              "[5 rows x 50 columns]"
            ]
          },
          "metadata": {},
          "execution_count": 5
        }
      ]
    },
    {
      "cell_type": "markdown",
      "metadata": {
        "id": "VUoqdAtd6xGQ"
      },
      "source": [
        "### Προετοιμασία δεδομένων"
      ]
    },
    {
      "cell_type": "markdown",
      "metadata": {
        "id": "scAQJeLh3Q_e"
      },
      "source": [
        "Χωρίζουμε το dataset σε δύο μέρη ώστε να δημιουργήσουμε τα train και test sets με το test set να αποτελεί το 30% των δειγμάτων."
      ]
    },
    {
      "cell_type": "code",
      "metadata": {
        "id": "qLxW53Q22NTt"
      },
      "source": [
        "from sklearn.model_selection import train_test_split\n",
        "\n",
        "# differentiate labels from features\n",
        "X_df = df.iloc[:,:49].copy()\n",
        "y_df = df.iloc[:,49].copy()\n",
        "\n",
        "# create train and test sets\n",
        "X_train, X_test, y_train, y_test = train_test_split(X_df, y_df, test_size=.3)"
      ],
      "execution_count": 6,
      "outputs": []
    },
    {
      "cell_type": "markdown",
      "metadata": {
        "id": "0BmIQ-Eg36BI"
      },
      "source": [
        "Επειδή όπως δείξαμε παραπάνω στα features 46, 47 και 48 λείπουν οι τιμές για περίπου τα μισά δείγματα, η συμπλήρωσή τους δεν αποτελεί καλή πρακτική και για τον λόγο αυτό τα αφαιρούμε από τα δεδομένα μας."
      ]
    },
    {
      "cell_type": "code",
      "metadata": {
        "colab": {
          "base_uri": "https://localhost:8080/",
          "height": 226
        },
        "id": "9KR5J3m04dHM",
        "outputId": "786fe80b-6ef0-4cd3-cda4-c96833a86698"
      },
      "source": [
        "X_train.drop([46, 47, 48], axis=1, inplace=True)\n",
        "X_test.drop([46, 47, 48], axis=1, inplace=True)\n",
        "X_train.head()"
      ],
      "execution_count": 7,
      "outputs": [
        {
          "output_type": "execute_result",
          "data": {
            "text/html": [
              "<div>\n",
              "<style scoped>\n",
              "    .dataframe tbody tr th:only-of-type {\n",
              "        vertical-align: middle;\n",
              "    }\n",
              "\n",
              "    .dataframe tbody tr th {\n",
              "        vertical-align: top;\n",
              "    }\n",
              "\n",
              "    .dataframe thead th {\n",
              "        text-align: right;\n",
              "    }\n",
              "</style>\n",
              "<table border=\"1\" class=\"dataframe\">\n",
              "  <thead>\n",
              "    <tr style=\"text-align: right;\">\n",
              "      <th></th>\n",
              "      <th>0</th>\n",
              "      <th>1</th>\n",
              "      <th>2</th>\n",
              "      <th>3</th>\n",
              "      <th>4</th>\n",
              "      <th>5</th>\n",
              "      <th>6</th>\n",
              "      <th>7</th>\n",
              "      <th>8</th>\n",
              "      <th>9</th>\n",
              "      <th>10</th>\n",
              "      <th>11</th>\n",
              "      <th>12</th>\n",
              "      <th>13</th>\n",
              "      <th>14</th>\n",
              "      <th>15</th>\n",
              "      <th>16</th>\n",
              "      <th>17</th>\n",
              "      <th>18</th>\n",
              "      <th>19</th>\n",
              "      <th>20</th>\n",
              "      <th>21</th>\n",
              "      <th>22</th>\n",
              "      <th>23</th>\n",
              "      <th>24</th>\n",
              "      <th>25</th>\n",
              "      <th>26</th>\n",
              "      <th>27</th>\n",
              "      <th>28</th>\n",
              "      <th>29</th>\n",
              "      <th>30</th>\n",
              "      <th>31</th>\n",
              "      <th>32</th>\n",
              "      <th>33</th>\n",
              "      <th>34</th>\n",
              "      <th>35</th>\n",
              "      <th>36</th>\n",
              "      <th>37</th>\n",
              "      <th>38</th>\n",
              "      <th>39</th>\n",
              "      <th>40</th>\n",
              "      <th>41</th>\n",
              "      <th>42</th>\n",
              "      <th>43</th>\n",
              "      <th>44</th>\n",
              "      <th>45</th>\n",
              "    </tr>\n",
              "  </thead>\n",
              "  <tbody>\n",
              "    <tr>\n",
              "      <th>5</th>\n",
              "      <td>1</td>\n",
              "      <td>0.0</td>\n",
              "      <td>1</td>\n",
              "      <td>0.0</td>\n",
              "      <td>NaN</td>\n",
              "      <td>0.0</td>\n",
              "      <td>0.0</td>\n",
              "      <td>1</td>\n",
              "      <td>0.0</td>\n",
              "      <td>NaN</td>\n",
              "      <td>0.0</td>\n",
              "      <td>1.0</td>\n",
              "      <td>0.0</td>\n",
              "      <td>0.0</td>\n",
              "      <td>0.0</td>\n",
              "      <td>0.0</td>\n",
              "      <td>0.0</td>\n",
              "      <td>1.0</td>\n",
              "      <td>1.0</td>\n",
              "      <td>1.0</td>\n",
              "      <td>0.0</td>\n",
              "      <td>0.0</td>\n",
              "      <td>1.0</td>\n",
              "      <td>75</td>\n",
              "      <td>NaN</td>\n",
              "      <td>NaN</td>\n",
              "      <td>1</td>\n",
              "      <td>1.0</td>\n",
              "      <td>2.0</td>\n",
              "      <td>1.58</td>\n",
              "      <td>110.0</td>\n",
              "      <td>13.4</td>\n",
              "      <td>91.5</td>\n",
              "      <td>5.4</td>\n",
              "      <td>85.0</td>\n",
              "      <td>3.40</td>\n",
              "      <td>3.5</td>\n",
              "      <td>91.0</td>\n",
              "      <td>122.0</td>\n",
              "      <td>242.0</td>\n",
              "      <td>396.0</td>\n",
              "      <td>5.6</td>\n",
              "      <td>0.90</td>\n",
              "      <td>1.0</td>\n",
              "      <td>10.0</td>\n",
              "      <td>1.4</td>\n",
              "    </tr>\n",
              "    <tr>\n",
              "      <th>155</th>\n",
              "      <td>1</td>\n",
              "      <td>1.0</td>\n",
              "      <td>1</td>\n",
              "      <td>0.0</td>\n",
              "      <td>0.0</td>\n",
              "      <td>0.0</td>\n",
              "      <td>0.0</td>\n",
              "      <td>1</td>\n",
              "      <td>NaN</td>\n",
              "      <td>1.0</td>\n",
              "      <td>0.0</td>\n",
              "      <td>0.0</td>\n",
              "      <td>1.0</td>\n",
              "      <td>0.0</td>\n",
              "      <td>0.0</td>\n",
              "      <td>0.0</td>\n",
              "      <td>0.0</td>\n",
              "      <td>NaN</td>\n",
              "      <td>1.0</td>\n",
              "      <td>1.0</td>\n",
              "      <td>1.0</td>\n",
              "      <td>0.0</td>\n",
              "      <td>1.0</td>\n",
              "      <td>64</td>\n",
              "      <td>75.0</td>\n",
              "      <td>25.0</td>\n",
              "      <td>3</td>\n",
              "      <td>2.0</td>\n",
              "      <td>3.0</td>\n",
              "      <td>1.63</td>\n",
              "      <td>1671.0</td>\n",
              "      <td>12.8</td>\n",
              "      <td>101.6</td>\n",
              "      <td>4.4</td>\n",
              "      <td>172000.0</td>\n",
              "      <td>3.44</td>\n",
              "      <td>5.8</td>\n",
              "      <td>38.0</td>\n",
              "      <td>95.0</td>\n",
              "      <td>92.0</td>\n",
              "      <td>139.0</td>\n",
              "      <td>7.6</td>\n",
              "      <td>0.90</td>\n",
              "      <td>3.0</td>\n",
              "      <td>9.0</td>\n",
              "      <td>2.9</td>\n",
              "    </tr>\n",
              "    <tr>\n",
              "      <th>46</th>\n",
              "      <td>0</td>\n",
              "      <td>1.0</td>\n",
              "      <td>0</td>\n",
              "      <td>0.0</td>\n",
              "      <td>0.0</td>\n",
              "      <td>0.0</td>\n",
              "      <td>0.0</td>\n",
              "      <td>0</td>\n",
              "      <td>0.0</td>\n",
              "      <td>0.0</td>\n",
              "      <td>0.0</td>\n",
              "      <td>0.0</td>\n",
              "      <td>0.0</td>\n",
              "      <td>0.0</td>\n",
              "      <td>0.0</td>\n",
              "      <td>0.0</td>\n",
              "      <td>0.0</td>\n",
              "      <td>0.0</td>\n",
              "      <td>0.0</td>\n",
              "      <td>0.0</td>\n",
              "      <td>NaN</td>\n",
              "      <td>NaN</td>\n",
              "      <td>NaN</td>\n",
              "      <td>45</td>\n",
              "      <td>0.0</td>\n",
              "      <td>0.0</td>\n",
              "      <td>0</td>\n",
              "      <td>1.0</td>\n",
              "      <td>1.0</td>\n",
              "      <td>NaN</td>\n",
              "      <td>NaN</td>\n",
              "      <td>NaN</td>\n",
              "      <td>NaN</td>\n",
              "      <td>NaN</td>\n",
              "      <td>NaN</td>\n",
              "      <td>NaN</td>\n",
              "      <td>NaN</td>\n",
              "      <td>NaN</td>\n",
              "      <td>NaN</td>\n",
              "      <td>NaN</td>\n",
              "      <td>NaN</td>\n",
              "      <td>NaN</td>\n",
              "      <td>NaN</td>\n",
              "      <td>NaN</td>\n",
              "      <td>NaN</td>\n",
              "      <td>NaN</td>\n",
              "    </tr>\n",
              "    <tr>\n",
              "      <th>30</th>\n",
              "      <td>1</td>\n",
              "      <td>1.0</td>\n",
              "      <td>1</td>\n",
              "      <td>1.0</td>\n",
              "      <td>0.0</td>\n",
              "      <td>NaN</td>\n",
              "      <td>0.0</td>\n",
              "      <td>1</td>\n",
              "      <td>1.0</td>\n",
              "      <td>1.0</td>\n",
              "      <td>0.0</td>\n",
              "      <td>0.0</td>\n",
              "      <td>0.0</td>\n",
              "      <td>0.0</td>\n",
              "      <td>0.0</td>\n",
              "      <td>0.0</td>\n",
              "      <td>0.0</td>\n",
              "      <td>NaN</td>\n",
              "      <td>1.0</td>\n",
              "      <td>1.0</td>\n",
              "      <td>1.0</td>\n",
              "      <td>0.0</td>\n",
              "      <td>1.0</td>\n",
              "      <td>60</td>\n",
              "      <td>20.0</td>\n",
              "      <td>8.0</td>\n",
              "      <td>2</td>\n",
              "      <td>1.0</td>\n",
              "      <td>1.0</td>\n",
              "      <td>1.19</td>\n",
              "      <td>11.0</td>\n",
              "      <td>13.1</td>\n",
              "      <td>87.9</td>\n",
              "      <td>7.8</td>\n",
              "      <td>212.0</td>\n",
              "      <td>3.50</td>\n",
              "      <td>0.7</td>\n",
              "      <td>27.0</td>\n",
              "      <td>26.0</td>\n",
              "      <td>143.0</td>\n",
              "      <td>158.0</td>\n",
              "      <td>8.2</td>\n",
              "      <td>0.71</td>\n",
              "      <td>1.0</td>\n",
              "      <td>16.0</td>\n",
              "      <td>NaN</td>\n",
              "    </tr>\n",
              "    <tr>\n",
              "      <th>98</th>\n",
              "      <td>1</td>\n",
              "      <td>0.0</td>\n",
              "      <td>1</td>\n",
              "      <td>0.0</td>\n",
              "      <td>NaN</td>\n",
              "      <td>0.0</td>\n",
              "      <td>0.0</td>\n",
              "      <td>1</td>\n",
              "      <td>0.0</td>\n",
              "      <td>NaN</td>\n",
              "      <td>0.0</td>\n",
              "      <td>0.0</td>\n",
              "      <td>0.0</td>\n",
              "      <td>1.0</td>\n",
              "      <td>0.0</td>\n",
              "      <td>0.0</td>\n",
              "      <td>0.0</td>\n",
              "      <td>0.0</td>\n",
              "      <td>0.0</td>\n",
              "      <td>0.0</td>\n",
              "      <td>0.0</td>\n",
              "      <td>0.0</td>\n",
              "      <td>0.0</td>\n",
              "      <td>73</td>\n",
              "      <td>NaN</td>\n",
              "      <td>NaN</td>\n",
              "      <td>0</td>\n",
              "      <td>1.0</td>\n",
              "      <td>1.0</td>\n",
              "      <td>1.23</td>\n",
              "      <td>5.5</td>\n",
              "      <td>13.1</td>\n",
              "      <td>89.6</td>\n",
              "      <td>6.1</td>\n",
              "      <td>160000.0</td>\n",
              "      <td>3.20</td>\n",
              "      <td>0.8</td>\n",
              "      <td>28.0</td>\n",
              "      <td>30.0</td>\n",
              "      <td>90.0</td>\n",
              "      <td>92.0</td>\n",
              "      <td>6.3</td>\n",
              "      <td>0.86</td>\n",
              "      <td>5.0</td>\n",
              "      <td>NaN</td>\n",
              "      <td>NaN</td>\n",
              "    </tr>\n",
              "  </tbody>\n",
              "</table>\n",
              "</div>"
            ],
            "text/plain": [
              "     0    1   2    3    4    5    6   ...     39     40   41    42   43    44   45\n",
              "5     1  0.0   1  0.0  NaN  0.0  0.0  ...  242.0  396.0  5.6  0.90  1.0  10.0  1.4\n",
              "155   1  1.0   1  0.0  0.0  0.0  0.0  ...   92.0  139.0  7.6  0.90  3.0   9.0  2.9\n",
              "46    0  1.0   0  0.0  0.0  0.0  0.0  ...    NaN    NaN  NaN   NaN  NaN   NaN  NaN\n",
              "30    1  1.0   1  1.0  0.0  NaN  0.0  ...  143.0  158.0  8.2  0.71  1.0  16.0  NaN\n",
              "98    1  0.0   1  0.0  NaN  0.0  0.0  ...   90.0   92.0  6.3  0.86  5.0   NaN  NaN\n",
              "\n",
              "[5 rows x 46 columns]"
            ]
          },
          "metadata": {},
          "execution_count": 7
        }
      ]
    },
    {
      "cell_type": "markdown",
      "metadata": {
        "id": "ICISiaQg5IBq"
      },
      "source": [
        "Εφόσον τα features 0-22 είναι categorical επιλέγουμε να τα συμπληρώσουμε με τις πιο συχνές τιμές για κάθε feature στο training set, ενώ την ίδια τιμή συμπληρώνουμε και στο test set, αφού όποια αλλαγή κάνουμε στα δεδομένα μας πρέπει να γίνεται με βάση την επεξεργασία μόνο των δεδομένων στο training set."
      ]
    },
    {
      "cell_type": "markdown",
      "metadata": {
        "id": "A52We-p47SFh"
      },
      "source": [
        "Για τα υπόλοιπα features θα αντικαταστήσουμε τον μέσο όρο των τιμών στο training set."
      ]
    },
    {
      "cell_type": "code",
      "metadata": {
        "id": "wRICCCQX54gN"
      },
      "source": [
        "from sklearn.impute import SimpleImputer\n",
        "imp_freq = SimpleImputer(missing_values=np.nan, strategy=\"most_frequent\")\n",
        "imp_mean = SimpleImputer(missing_values=np.nan, strategy=\"mean\")"
      ],
      "execution_count": 8,
      "outputs": []
    },
    {
      "cell_type": "code",
      "metadata": {
        "id": "QSXqwIcx7_ZO"
      },
      "source": [
        "X_train.iloc[:,:23] = imp_freq.fit_transform(X_train.iloc[:,:23])\n",
        "X_train.iloc[:,23:] = imp_mean.fit_transform(X_train.iloc[:,23:])"
      ],
      "execution_count": 9,
      "outputs": []
    },
    {
      "cell_type": "markdown",
      "metadata": {
        "id": "7jQT-IKg5GJN"
      },
      "source": [
        "Επιβεβαιώνουμε πως δεν υπάρχουν πλέον κενά πεδία στο training set."
      ]
    },
    {
      "cell_type": "code",
      "metadata": {
        "colab": {
          "base_uri": "https://localhost:8080/"
        },
        "id": "H9V7-bD99BCl",
        "outputId": "4bcceaa2-2718-46cb-b14c-59f44c6d1779"
      },
      "source": [
        "X_train.isnull().any().any()"
      ],
      "execution_count": 10,
      "outputs": [
        {
          "output_type": "execute_result",
          "data": {
            "text/plain": [
              "False"
            ]
          },
          "metadata": {},
          "execution_count": 10
        }
      ]
    },
    {
      "cell_type": "markdown",
      "metadata": {
        "id": "g0O19q3B5rLs"
      },
      "source": [
        "Τα κατηγορικά δεδομένα δεν χρειάζεται να τα τροποποιήσουμε με κάποια τεχνική (π.χ. one-hot encoding) διότι ήδη βρίσκονται σε μορφή Ναι-Όχι (με το 1 να αναπαριστά το \"Ναι\" και το 0 το \"Όχι\")."
      ]
    },
    {
      "cell_type": "markdown",
      "metadata": {
        "id": "7kN9LGVQ6mTZ"
      },
      "source": [
        "Επαναλαμβάνουμε με τα δεδομένα του test set χρησιμοποιόντας πληροφορία αποκλειστικά από τα δεδομένα του training set ώστε να μην έχουμε απουσιάζουσες τιμές."
      ]
    },
    {
      "cell_type": "code",
      "metadata": {
        "id": "BvxQUtQ55qo5"
      },
      "source": [
        "X_test.iloc[:,:23] = imp_freq.transform(X_test.iloc[:,:23])\n",
        "X_test.iloc[:,23:] = imp_mean.transform(X_test.iloc[:,23:])"
      ],
      "execution_count": 11,
      "outputs": []
    },
    {
      "cell_type": "markdown",
      "metadata": {
        "id": "xZGAry-G73wE"
      },
      "source": [
        "Ελέγχουμε ξανά για κενά πεδία."
      ]
    },
    {
      "cell_type": "code",
      "metadata": {
        "colab": {
          "base_uri": "https://localhost:8080/"
        },
        "id": "rpzsj9kz73YH",
        "outputId": "dbded968-65cd-4fa2-cd42-cd3cb29a3a6f"
      },
      "source": [
        "X_test.isnull().any().any()"
      ],
      "execution_count": 12,
      "outputs": [
        {
          "output_type": "execute_result",
          "data": {
            "text/plain": [
              "False"
            ]
          },
          "metadata": {},
          "execution_count": 12
        }
      ]
    },
    {
      "cell_type": "markdown",
      "metadata": {
        "id": "H8B58JOU8Cmq"
      },
      "source": [
        "### Ταξινόμηση\n",
        "Οι ταξινομητές που θα μελετηθούν είναι οι:\n",
        "* dummy\n",
        "* Gaussian Naive Bayes (GNB)\n",
        "* KNearestNeighbors (kNN)\n",
        "* Logistic Regression (LR)\n",
        "\n",
        "Οι μετρικές αξιολόγησης που θα χρησιμοποιηθούν είναι οι:\n",
        "* Ορθότητα (accuracy)\n",
        "* F1-score\n",
        "\n",
        "Για όλα τα πειράματα θα χρησιμοποιήσουμε 10-fold cross-validation."
      ]
    },
    {
      "cell_type": "markdown",
      "metadata": {
        "id": "EjG-vbY1_U7E"
      },
      "source": [
        "#### Επίδοση out-of-the-box\n",
        "Για να έχουμε μία βάση σύγκρισης θα εκτελέσουμε αρχικά το πείραμα αφήνοντας τις υπερπαραμέτρους των ταξινομητών στις default τιμές τους."
      ]
    },
    {
      "cell_type": "markdown",
      "metadata": {
        "id": "-LvCjrZmBHX3"
      },
      "source": [
        "Αρχικά ορίζουμε τους ταξινομητές."
      ]
    },
    {
      "cell_type": "code",
      "metadata": {
        "id": "A7dy3Ep1_9zx"
      },
      "source": [
        "from sklearn.dummy import DummyClassifier\n",
        "from sklearn.naive_bayes import GaussianNB\n",
        "from sklearn.neighbors import KNeighborsClassifier\n",
        "from sklearn.linear_model import LogisticRegression\n",
        "\n",
        "dummy_stratified = DummyClassifier(strategy=\"stratified\")\n",
        "dummy_most_frequent = DummyClassifier(strategy=\"most_frequent\")\n",
        "dummy_uniform = DummyClassifier(strategy=\"uniform\")\n",
        "dummy_const_0 = DummyClassifier(strategy=\"constant\", constant=0)\n",
        "dummy_const_1 = DummyClassifier(strategy=\"constant\", constant=1)\n",
        "\n",
        "gnb = GaussianNB()\n",
        "knn = KNeighborsClassifier()\n",
        "lr = LogisticRegression()"
      ],
      "execution_count": 13,
      "outputs": []
    },
    {
      "cell_type": "markdown",
      "metadata": {
        "id": "fuDL9HzBBhGj"
      },
      "source": [
        "Στη συνέχεια εκπαιδεύουμε τους ταξινομητές και συγκρίνουμε τα αποτελέσματά τους."
      ]
    },
    {
      "cell_type": "code",
      "metadata": {
        "colab": {
          "base_uri": "https://localhost:8080/"
        },
        "id": "qZOKAhd0CJBe",
        "outputId": "8870049c-892e-4eb3-a376-d4eeba93ac65"
      },
      "source": [
        "from sklearn.metrics import accuracy_score, f1_score\n",
        "\n",
        "ootb_accuracy = {}\n",
        "\n",
        "dummy_stratified.fit(X_train, y_train)\n",
        "ootb_accuracy[\"Dummy Classifier (stratified)\"] = accuracy_score(y_test, dummy_stratified.predict(X_test))\n",
        "dummy_most_frequent.fit(X_train, y_train)\n",
        "ootb_accuracy[\"Dummy Classifier (most frequent)\"] = accuracy_score(y_test, dummy_most_frequent.predict(X_test))\n",
        "dummy_uniform.fit(X_train, y_train)\n",
        "ootb_accuracy[\"Dummy Classifier (uniform)\"] = accuracy_score(y_test, dummy_uniform.predict(X_test))\n",
        "dummy_const_0.fit(X_train, y_train)\n",
        "ootb_accuracy[\"Dummy Classifier (constant 0)\"] = accuracy_score(y_test, dummy_const_0.predict(X_test))\n",
        "dummy_const_1.fit(X_train, y_train)\n",
        "ootb_accuracy[\"Dummy Classifier (constant 1)\"] = accuracy_score(y_test, dummy_const_1.predict(X_test))\n",
        "\n",
        "gnb.fit(X_train, y_train)\n",
        "ootb_accuracy[\"Gaussian Naive-Bayes\"] = accuracy_score(y_test, gnb.predict(X_test))\n",
        "knn.fit(X_train, y_train)\n",
        "ootb_accuracy[\"K Nearest Neighbors\"] = accuracy_score(y_test, knn.predict(X_test))\n",
        "lr.fit(X_train, y_train)\n",
        "ootb_accuracy[\"Logistic Regression\"] = accuracy_score(y_test, lr.predict(X_test))"
      ],
      "execution_count": 14,
      "outputs": [
        {
          "output_type": "stream",
          "name": "stderr",
          "text": [
            "/usr/local/lib/python3.7/dist-packages/sklearn/linear_model/_logistic.py:818: ConvergenceWarning: lbfgs failed to converge (status=1):\n",
            "STOP: TOTAL NO. of ITERATIONS REACHED LIMIT.\n",
            "\n",
            "Increase the number of iterations (max_iter) or scale the data as shown in:\n",
            "    https://scikit-learn.org/stable/modules/preprocessing.html\n",
            "Please also refer to the documentation for alternative solver options:\n",
            "    https://scikit-learn.org/stable/modules/linear_model.html#logistic-regression\n",
            "  extra_warning_msg=_LOGISTIC_SOLVER_CONVERGENCE_MSG,\n"
          ]
        }
      ]
    },
    {
      "cell_type": "code",
      "metadata": {
        "colab": {
          "base_uri": "https://localhost:8080/",
          "height": 301
        },
        "id": "-1i5hqwmHliw",
        "outputId": "3efc2ae4-2ad1-49e9-d100-d76873f14571"
      },
      "source": [
        "sorted_accuracy = [(k, ootb_accuracy[k]) for k in sorted(ootb_accuracy, key=ootb_accuracy.get, reverse=True)]\n",
        "acc_df = pd.DataFrame.from_dict(sorted_accuracy)\n",
        "\n",
        "sns.set_theme(style=\"whitegrid\")\n",
        "sns.barplot(y=acc_df.iloc[:,0], x=acc_df.iloc[:,1], data=acc_df)\n",
        "plt.xlabel(\"Accuracy\")\n",
        "plt.ylabel(\"Estimator\")\n",
        "plt.title(\"Accuracy scores for out-of-the-box estimators (30% test set)\")\n",
        "plt.show()"
      ],
      "execution_count": 15,
      "outputs": [
        {
          "output_type": "display_data",
          "data": {
            "image/png": "[encoded data removed]",
            "text/plain": [
              "<Figure size 432x288 with 1 Axes>"
            ]
          },
          "metadata": {}
        }
      ]
    },
    {
      "cell_type": "code",
      "metadata": {
        "colab": {
          "base_uri": "https://localhost:8080/"
        },
        "id": "m1atL1ZSKUOw",
        "outputId": "31f29075-ceed-4710-c148-886d823a49d1"
      },
      "source": [
        "ootb_f1 = {}\n",
        "\n",
        "dummy_stratified = DummyClassifier(strategy=\"stratified\")\n",
        "dummy_most_frequent = DummyClassifier(strategy=\"most_frequent\")\n",
        "dummy_uniform = DummyClassifier(strategy=\"uniform\")\n",
        "dummy_const_0 = DummyClassifier(strategy=\"constant\", constant=0)\n",
        "dummy_const_1 = DummyClassifier(strategy=\"constant\", constant=1)\n",
        "\n",
        "gnb = GaussianNB()\n",
        "knn = KNeighborsClassifier()\n",
        "lr = LogisticRegression()\n",
        "\n",
        "dummy_stratified.fit(X_train, y_train)\n",
        "ootb_f1[\"Dummy Classifier (stratified)\"] = f1_score(y_test, dummy_stratified.predict(X_test))\n",
        "dummy_most_frequent.fit(X_train, y_train)\n",
        "ootb_f1[\"Dummy Classifier (most frequent)\"] = f1_score(y_test, dummy_most_frequent.predict(X_test))\n",
        "dummy_uniform.fit(X_train, y_train)\n",
        "ootb_f1[\"Dummy Classifier (uniform)\"] = f1_score(y_test, dummy_uniform.predict(X_test))\n",
        "dummy_const_0.fit(X_train, y_train)\n",
        "ootb_f1[\"Dummy Classifier (constant 0)\"] = f1_score(y_test, dummy_const_0.predict(X_test))\n",
        "dummy_const_1.fit(X_train, y_train)\n",
        "ootb_f1[\"Dummy Classifier (constant 1)\"] = f1_score(y_test, dummy_const_1.predict(X_test))\n",
        "\n",
        "gnb.fit(X_train, y_train)\n",
        "ootb_f1[\"Gaussian Naive-Bayes\"] = f1_score(y_test, gnb.predict(X_test))\n",
        "knn.fit(X_train, y_train)\n",
        "ootb_f1[\"K Nearest Neighbors\"] = f1_score(y_test, knn.predict(X_test))\n",
        "lr.fit(X_train, y_train)\n",
        "ootb_f1[\"Logistic Regression\"] = f1_score(y_test, lr.predict(X_test))"
      ],
      "execution_count": 16,
      "outputs": [
        {
          "output_type": "stream",
          "name": "stderr",
          "text": [
            "/usr/local/lib/python3.7/dist-packages/sklearn/linear_model/_logistic.py:818: ConvergenceWarning: lbfgs failed to converge (status=1):\n",
            "STOP: TOTAL NO. of ITERATIONS REACHED LIMIT.\n",
            "\n",
            "Increase the number of iterations (max_iter) or scale the data as shown in:\n",
            "    https://scikit-learn.org/stable/modules/preprocessing.html\n",
            "Please also refer to the documentation for alternative solver options:\n",
            "    https://scikit-learn.org/stable/modules/linear_model.html#logistic-regression\n",
            "  extra_warning_msg=_LOGISTIC_SOLVER_CONVERGENCE_MSG,\n"
          ]
        }
      ]
    },
    {
      "cell_type": "code",
      "metadata": {
        "colab": {
          "base_uri": "https://localhost:8080/",
          "height": 301
        },
        "id": "hnvmAbf0KXTQ",
        "outputId": "110acf91-259d-4b28-ebeb-c8e9a50f6444"
      },
      "source": [
        "sorted_f1 = [(k, ootb_f1[k]) for k in sorted(ootb_f1, key=ootb_f1.get, reverse=True)]\n",
        "f1_df = pd.DataFrame.from_dict(sorted_f1)\n",
        "\n",
        "sns.set_theme(style=\"whitegrid\")\n",
        "sns.barplot(y=f1_df.iloc[:,0], x=f1_df.iloc[:,1], data=f1_df)\n",
        "plt.xlabel(\"F1 score\")\n",
        "plt.ylabel(\"Estimator\")\n",
        "plt.title(\"F1 scores for out-of-the-box estimators (30% test set)\")\n",
        "plt.show()"
      ],
      "execution_count": 17,
      "outputs": [
        {
          "output_type": "display_data",
          "data": {
            "image/png": "[encoded data removed]",
            "text/plain": [
              "<Figure size 432x288 with 1 Axes>"
            ]
          },
          "metadata": {}
        }
      ]
    },
    {
      "cell_type": "code",
      "metadata": {
        "colab": {
          "base_uri": "https://localhost:8080/"
        },
        "id": "d4VBLez3JFXO",
        "outputId": "4a8f70c5-f771-4961-dae3-23d5994840de"
      },
      "source": [
        "print(ootb_accuracy)\n",
        "print(ootb_f1)"
      ],
      "execution_count": 18,
      "outputs": [
        {
          "output_type": "stream",
          "name": "stdout",
          "text": [
            "{'Dummy Classifier (stratified)': 0.6, 'Dummy Classifier (most frequent)': 0.66, 'Dummy Classifier (uniform)': 0.5, 'Dummy Classifier (constant 0)': 0.34, 'Dummy Classifier (constant 1)': 0.66, 'Gaussian Naive-Bayes': 0.68, 'K Nearest Neighbors': 0.58, 'Logistic Regression': 0.7}\n",
            "{'Dummy Classifier (stratified)': 0.5666666666666667, 'Dummy Classifier (most frequent)': 0.7951807228915663, 'Dummy Classifier (uniform)': 0.6, 'Dummy Classifier (constant 0)': 0.0, 'Dummy Classifier (constant 1)': 0.7951807228915663, 'Gaussian Naive-Bayes': 0.7575757575757576, 'K Nearest Neighbors': 0.6865671641791046, 'Logistic Regression': 0.7692307692307692}\n"
          ]
        }
      ]
    },
    {
      "cell_type": "markdown",
      "metadata": {
        "id": "99HKwwnBJ8fG"
      },
      "source": [
        "|       Classifier      | Accuracy | F1 score |\n",
        "|:---------------------:|:--------:|:--------:|\n",
        "| Dummy (most frequent) |   0.62   |   0.77   |\n",
        "|   Dummy (constant 1)  |   0.62   |   0.77   |\n",
        "|  Logistic Regression  |   0.62   |   0.74   |\n",
        "|  Gaussian Naive-Bayes |   0.58   |   0.70   |\n",
        "|  K Nearest Neighbors  |   0.54   |   0.69   |\n",
        "|   Dummy (stratified)  |   0.41   |   0.67   |\n",
        "|    Dummy (uniform)    |   0.48   |   0.60   |\n",
        "|   Dummy (constant 0)  |   0.38   |   0.00   |"
      ]
    },
    {
      "cell_type": "markdown",
      "metadata": {
        "id": "_MCmH8vcH0iV"
      },
      "source": [
        "Παρατηρούμε πως οι ταξινομητές δεν έχουν ιδιαίτερα καλή επίδοση, καθώς ο dummy ταξινομητής που προβλέπει πάντα 1 έχει τη μεγαλύτερη ακρίβεια (62%) και το καλύτερο f1-score (77%), ενώ οι ταξινομητές μας έχουν ακρίβεια που κυμαίνεται από 62% μέχρι 54% και f1-score από 70% μέχρι 69%. Οι καλές επιδόσεις του dummy ταξινομητή που ακολουθεί τη στρατηγική most frequent οφείλονται στο έντονο class imbalance που εμφανίζεται στο dataset."
      ]
    },
    {
      "cell_type": "markdown",
      "metadata": {
        "id": "VGbUu6QGM9Ei"
      },
      "source": [
        "Από τους ταξινομητές, εξαιρώντας τους dummy, τις καλύτερες επιδόσεις και στις δύο μετρικές έχει ο Logistic Regression, ενώ αυτός με τις χειρότερες επιδόσεις είναι ο K Nearest Neighbors. "
      ]
    },
    {
      "cell_type": "markdown",
      "metadata": {
        "id": "ON9JdDp1hXYD"
      },
      "source": [
        "#### Βελτιστοποίηση"
      ]
    },
    {
      "cell_type": "markdown",
      "metadata": {
        "id": "J_15EJu3foKj"
      },
      "source": [
        "Στο πρώτο στάδιο της βελτιστοποίησης θα συνεχίσουμε τη διαδικασία προεπεξεργασίας δεδομένων. Ένας τρόπος να βελτιώσουμε την ποιότητα των δεδομένων είναι η μείωση της διαστατικότητάς τους, το οποίο γίνεται με τη μείωση του πλήθους των features που λαμβάνει υπόψη ο ταξινομητής. Για να το επιτύχουμε αυτό θα κάνουμε χρήση της συνάρτησης VarianceThreshold της βιβλιοθήκης scikit-learn ώστε να απορρίψουμε τα δεδομένα τα οποία εμφανίζουν χαμηλή διακύμανση. Αυτό το κάνουμε διότι τα χαρακτηριστικά που εμφανίζουν χαμηλή διακύμανση συνήθως δεν συμβάλουν σημαντικά στη διαχωριστική δυνατότητα του ταξινομητή."
      ]
    },
    {
      "cell_type": "code",
      "metadata": {
        "colab": {
          "base_uri": "https://localhost:8080/"
        },
        "id": "dDMzvneNhZEY",
        "outputId": "52bd7e7e-0f9d-4dd6-f32e-d7c6af972616"
      },
      "source": [
        "from sklearn.feature_selection import SelectKBest, chi2\n",
        "\n",
        "selector = SelectKBest(chi2, k=25)\n",
        "X_train_reduced = selector.fit_transform(X_train, y_train)\n",
        "X_test_reduced = selector.transform(X_test)\n",
        "print(X_train.shape, X_train_reduced.shape)"
      ],
      "execution_count": 43,
      "outputs": [
        {
          "output_type": "stream",
          "name": "stdout",
          "text": [
            "(115, 46) (115, 25)\n"
          ]
        }
      ]
    },
    {
      "cell_type": "code",
      "metadata": {
        "colab": {
          "base_uri": "https://localhost:8080/"
        },
        "id": "W6vLsvvzsPSp",
        "outputId": "e1bb4889-4471-477d-85fd-b8920ecf7585"
      },
      "source": [
        "reduced_labels = selector.get_support()\n",
        "print(\"{} out of {} columns are removed\".format(reduced_labels.shape[0]-reduced_labels.sum(), X_train.shape[1]))"
      ],
      "execution_count": 29,
      "outputs": [
        {
          "output_type": "stream",
          "name": "stdout",
          "text": [
            "26 out of 46 columns are removed\n"
          ]
        }
      ]
    },
    {
      "cell_type": "code",
      "metadata": {
        "colab": {
          "base_uri": "https://localhost:8080/"
        },
        "id": "_IPd0sMSw6XO",
        "outputId": "de7513ce-7777-4b45-9e27-1f66c6592fef"
      },
      "source": [
        "reduced_labels"
      ],
      "execution_count": 33,
      "outputs": [
        {
          "output_type": "execute_result",
          "data": {
            "text/plain": [
              "array([False, False, False, False, False, False, False, False,  True,\n",
              "        True, False, False, False, False, False, False, False, False,\n",
              "       False, False,  True,  True, False,  True,  True,  True,  True,\n",
              "       False,  True, False,  True,  True, False,  True,  True, False,\n",
              "        True,  True,  True,  True,  True,  True, False, False, False,\n",
              "        True])"
            ]
          },
          "metadata": {},
          "execution_count": 33
        }
      ]
    },
    {
      "cell_type": "markdown",
      "metadata": {
        "id": "A8V93wGlkZEg"
      },
      "source": [
        "Επαναλαμβάνουμε τη διαδικασία εκπαίδευσης με τα μειωμένα datasets."
      ]
    },
    {
      "cell_type": "code",
      "metadata": {
        "colab": {
          "base_uri": "https://localhost:8080/",
          "height": 440
        },
        "id": "LMvx-UTikd-G",
        "outputId": "a279dc1d-0153-43ee-a1f8-a88e184e10d0"
      },
      "source": [
        "reduced_acc = {}\n",
        "\n",
        "dummy_stratified = DummyClassifier(strategy=\"stratified\")\n",
        "dummy_most_frequent = DummyClassifier(strategy=\"most_frequent\")\n",
        "dummy_uniform = DummyClassifier(strategy=\"uniform\")\n",
        "dummy_const_0 = DummyClassifier(strategy=\"constant\", constant=0)\n",
        "dummy_const_1 = DummyClassifier(strategy=\"constant\", constant=1)\n",
        "\n",
        "gnb = GaussianNB()\n",
        "knn = KNeighborsClassifier()\n",
        "lr = LogisticRegression()\n",
        "\n",
        "dummy_stratified.fit(X_train_reduced, y_train)\n",
        "reduced_acc[\"Dummy Classifier (stratified)\"] = accuracy_score(y_test, dummy_stratified.predict(X_test_reduced))\n",
        "dummy_most_frequent.fit(X_train_reduced, y_train)\n",
        "reduced_acc[\"Dummy Classifier (most frequent)\"] = accuracy_score(y_test, dummy_most_frequent.predict(X_test_reduced))\n",
        "dummy_uniform.fit(X_train_reduced, y_train)\n",
        "reduced_acc[\"Dummy Classifier (uniform)\"] = accuracy_score(y_test, dummy_uniform.predict(X_test_reduced))\n",
        "dummy_const_0.fit(X_train_reduced, y_train)\n",
        "reduced_acc[\"Dummy Classifier (constant 0)\"] = accuracy_score(y_test, dummy_const_0.predict(X_test_reduced))\n",
        "dummy_const_1.fit(X_train_reduced, y_train)\n",
        "reduced_acc[\"Dummy Classifier (constant 1)\"] = accuracy_score(y_test, dummy_const_1.predict(X_test_reduced))\n",
        "\n",
        "gnb.fit(X_train_reduced, y_train)\n",
        "reduced_acc[\"Gaussian Naive-Bayes\"] = accuracy_score(y_test, gnb.predict(X_test_reduced))\n",
        "knn.fit(X_train_reduced, y_train)\n",
        "reduced_acc[\"K Nearest Neighbors\"] = accuracy_score(y_test, knn.predict(X_test_reduced))\n",
        "lr.fit(X_train_reduced, y_train)\n",
        "reduced_acc[\"Logistic Regression\"] = accuracy_score(y_test, lr.predict(X_test_reduced))\n",
        "\n",
        "sorted_accuracy = [(k, reduced_acc[k]) for k in sorted(reduced_acc, key=reduced_acc.get, reverse=True)]\n",
        "acc_df = pd.DataFrame.from_dict(sorted_accuracy)\n",
        "\n",
        "sns.set_theme(style=\"whitegrid\")\n",
        "sns.barplot(y=acc_df.iloc[:,0], x=acc_df.iloc[:,1], data=acc_df)\n",
        "plt.xlabel(\"Accuracy\")\n",
        "plt.ylabel(\"Estimator\")\n",
        "plt.title(\"Accuracy scores for out-of-the-box estimators with reduced dataset (30% test set)\")\n",
        "plt.show()"
      ],
      "execution_count": 44,
      "outputs": [
        {
          "output_type": "stream",
          "name": "stderr",
          "text": [
            "/usr/local/lib/python3.7/dist-packages/sklearn/linear_model/_logistic.py:818: ConvergenceWarning: lbfgs failed to converge (status=1):\n",
            "STOP: TOTAL NO. of ITERATIONS REACHED LIMIT.\n",
            "\n",
            "Increase the number of iterations (max_iter) or scale the data as shown in:\n",
            "    https://scikit-learn.org/stable/modules/preprocessing.html\n",
            "Please also refer to the documentation for alternative solver options:\n",
            "    https://scikit-learn.org/stable/modules/linear_model.html#logistic-regression\n",
            "  extra_warning_msg=_LOGISTIC_SOLVER_CONVERGENCE_MSG,\n"
          ]
        },
        {
          "output_type": "display_data",
          "data": {
            "image/png": "[encoded data removed]",
            "text/plain": [
              "<Figure size 432x288 with 1 Axes>"
            ]
          },
          "metadata": {}
        }
      ]
    },
    {
      "cell_type": "code",
      "metadata": {
        "colab": {
          "base_uri": "https://localhost:8080/",
          "height": 440
        },
        "id": "8do-O25ixcMQ",
        "outputId": "f0035664-7fff-460e-d979-2f9d54c1d924"
      },
      "source": [
        "reduced_f1 = {}\n",
        "\n",
        "dummy_stratified = DummyClassifier(strategy=\"stratified\")\n",
        "dummy_most_frequent = DummyClassifier(strategy=\"most_frequent\")\n",
        "dummy_uniform = DummyClassifier(strategy=\"uniform\")\n",
        "dummy_const_0 = DummyClassifier(strategy=\"constant\", constant=0)\n",
        "dummy_const_1 = DummyClassifier(strategy=\"constant\", constant=1)\n",
        "\n",
        "gnb = GaussianNB()\n",
        "knn = KNeighborsClassifier()\n",
        "lr = LogisticRegression()\n",
        "\n",
        "dummy_stratified.fit(X_train_reduced, y_train)\n",
        "reduced_f1[\"Dummy Classifier (stratified)\"] = f1_score(y_test, dummy_stratified.predict(X_test_reduced))\n",
        "dummy_most_frequent.fit(X_train_reduced, y_train)\n",
        "reduced_f1[\"Dummy Classifier (most frequent)\"] = f1_score(y_test, dummy_most_frequent.predict(X_test_reduced))\n",
        "dummy_uniform.fit(X_train_reduced, y_train)\n",
        "reduced_f1[\"Dummy Classifier (uniform)\"] = f1_score(y_test, dummy_uniform.predict(X_test_reduced))\n",
        "dummy_const_0.fit(X_train_reduced, y_train)\n",
        "reduced_f1[\"Dummy Classifier (constant 0)\"] = f1_score(y_test, dummy_const_0.predict(X_test_reduced))\n",
        "dummy_const_1.fit(X_train_reduced, y_train)\n",
        "reduced_f1[\"Dummy Classifier (constant 1)\"] = f1_score(y_test, dummy_const_1.predict(X_test_reduced))\n",
        "\n",
        "gnb.fit(X_train_reduced, y_train)\n",
        "reduced_f1[\"Gaussian Naive-Bayes\"] = f1_score(y_test, gnb.predict(X_test_reduced))\n",
        "knn.fit(X_train_reduced, y_train)\n",
        "reduced_f1[\"K Nearest Neighbors\"] = f1_score(y_test, knn.predict(X_test_reduced))\n",
        "lr.fit(X_train_reduced, y_train)\n",
        "reduced_f1[\"Logistic Regression\"] = f1_score(y_test, lr.predict(X_test_reduced))\n",
        "\n",
        "sorted_f1 = [(k, reduced_f1[k]) for k in sorted(reduced_f1, key=reduced_f1.get, reverse=True)]\n",
        "f1_df = pd.DataFrame.from_dict(sorted_f1)\n",
        "\n",
        "sns.set_theme(style=\"whitegrid\")\n",
        "sns.barplot(y=f1_df.iloc[:,0], x=f1_df.iloc[:,1], data=f1_df)\n",
        "plt.xlabel(\"F1 score\")\n",
        "plt.ylabel(\"Estimator\")\n",
        "plt.title(\"F1 scores for out-of-the-box estimators with reduced dataset (30% test set)\")\n",
        "plt.show()"
      ],
      "execution_count": 45,
      "outputs": [
        {
          "output_type": "stream",
          "name": "stderr",
          "text": [
            "/usr/local/lib/python3.7/dist-packages/sklearn/linear_model/_logistic.py:818: ConvergenceWarning: lbfgs failed to converge (status=1):\n",
            "STOP: TOTAL NO. of ITERATIONS REACHED LIMIT.\n",
            "\n",
            "Increase the number of iterations (max_iter) or scale the data as shown in:\n",
            "    https://scikit-learn.org/stable/modules/preprocessing.html\n",
            "Please also refer to the documentation for alternative solver options:\n",
            "    https://scikit-learn.org/stable/modules/linear_model.html#logistic-regression\n",
            "  extra_warning_msg=_LOGISTIC_SOLVER_CONVERGENCE_MSG,\n"
          ]
        },
        {
          "output_type": "display_data",
          "data": {
            "image/png": "[encoded data removed]",
            "text/plain": [
              "<Figure size 432x288 with 1 Axes>"
            ]
          },
          "metadata": {}
        }
      ]
    },
    {
      "cell_type": "code",
      "metadata": {
        "colab": {
          "base_uri": "https://localhost:8080/"
        },
        "id": "2TgwY1wymZQL",
        "outputId": "97247bf8-8b1d-4347-82b6-cde06ae2088d"
      },
      "source": [
        "reduced_acc"
      ],
      "execution_count": 41,
      "outputs": [
        {
          "output_type": "execute_result",
          "data": {
            "text/plain": [
              "{'Dummy Classifier (constant 0)': 0.34,\n",
              " 'Dummy Classifier (constant 1)': 0.66,\n",
              " 'Dummy Classifier (most frequent)': 0.66,\n",
              " 'Dummy Classifier (stratified)': 0.54,\n",
              " 'Dummy Classifier (uniform)': 0.5,\n",
              " 'Gaussian Naive-Bayes': 0.66,\n",
              " 'K Nearest Neighbors': 0.58,\n",
              " 'Logistic Regression': 0.68}"
            ]
          },
          "metadata": {},
          "execution_count": 41
        }
      ]
    },
    {
      "cell_type": "code",
      "metadata": {
        "colab": {
          "base_uri": "https://localhost:8080/"
        },
        "id": "A9q29S3Pmb7K",
        "outputId": "259a8d97-cea2-4395-e6c6-e28f9facc65d"
      },
      "source": [
        "ootb_accuracy"
      ],
      "execution_count": 23,
      "outputs": [
        {
          "output_type": "execute_result",
          "data": {
            "text/plain": [
              "{'Dummy Classifier (constant 0)': 0.34,\n",
              " 'Dummy Classifier (constant 1)': 0.66,\n",
              " 'Dummy Classifier (most frequent)': 0.66,\n",
              " 'Dummy Classifier (stratified)': 0.6,\n",
              " 'Dummy Classifier (uniform)': 0.5,\n",
              " 'Gaussian Naive-Bayes': 0.68,\n",
              " 'K Nearest Neighbors': 0.58,\n",
              " 'Logistic Regression': 0.7}"
            ]
          },
          "metadata": {},
          "execution_count": 23
        }
      ]
    },
    {
      "cell_type": "markdown",
      "metadata": {
        "id": "Bn_Gpi2lzPQ8"
      },
      "source": [
        "Στο στάδιο αυτό θα πραγματοποιήσουμε κανονικοποιήση των χαρακτηριστικών. Η κανονικοποίηση που θα κάνουμε θα είναι ο μετασχηματισμός z-score καθώς είναι πιο ανθεκτικός στους outliers."
      ]
    },
    {
      "cell_type": "code",
      "metadata": {
        "colab": {
          "base_uri": "https://localhost:8080/",
          "height": 301
        },
        "id": "1lCHUg9szn4f",
        "outputId": "23a73257-91c6-4dcd-8cb9-ff119fabc83b"
      },
      "source": [
        "from sklearn import preprocessing\n",
        "\n",
        "scaler = preprocessing.StandardScaler()\n",
        "X_train_scaled = scaler.fit_transform(X_train_reduced)\n",
        "X_test_scaled = scaler.transform(X_test_reduced)\n",
        "\n",
        "scaled_acc = {}\n",
        "\n",
        "dummy_stratified = DummyClassifier(strategy=\"stratified\")\n",
        "dummy_most_frequent = DummyClassifier(strategy=\"most_frequent\")\n",
        "dummy_uniform = DummyClassifier(strategy=\"uniform\")\n",
        "dummy_const_0 = DummyClassifier(strategy=\"constant\", constant=0)\n",
        "dummy_const_1 = DummyClassifier(strategy=\"constant\", constant=1)\n",
        "\n",
        "gnb = GaussianNB()\n",
        "knn = KNeighborsClassifier()\n",
        "lr = LogisticRegression()\n",
        "\n",
        "dummy_stratified.fit(X_train_scaled, y_train)\n",
        "scaled_acc[\"Dummy Classifier (stratified)\"] = accuracy_score(y_test, dummy_stratified.predict(X_test_scaled))\n",
        "dummy_most_frequent.fit(X_train_scaled, y_train)\n",
        "scaled_acc[\"Dummy Classifier (most frequent)\"] = accuracy_score(y_test, dummy_most_frequent.predict(X_test_scaled))\n",
        "dummy_uniform.fit(X_train_scaled, y_train)\n",
        "scaled_acc[\"Dummy Classifier (uniform)\"] = accuracy_score(y_test, dummy_uniform.predict(X_test_scaled))\n",
        "dummy_const_0.fit(X_train_scaled, y_train)\n",
        "scaled_acc[\"Dummy Classifier (constant 0)\"] = accuracy_score(y_test, dummy_const_0.predict(X_test_scaled))\n",
        "dummy_const_1.fit(X_train_scaled, y_train)\n",
        "scaled_acc[\"Dummy Classifier (constant 1)\"] = accuracy_score(y_test, dummy_const_1.predict(X_test_scaled))\n",
        "\n",
        "gnb.fit(X_train_scaled, y_train)\n",
        "scaled_acc[\"Gaussian Naive-Bayes\"] = accuracy_score(y_test, gnb.predict(X_test_scaled))\n",
        "knn.fit(X_train_scaled, y_train)\n",
        "scaled_acc[\"K Nearest Neighbors\"] = accuracy_score(y_test, knn.predict(X_test_scaled))\n",
        "lr.fit(X_train_scaled, y_train)\n",
        "scaled_acc[\"Logistic Regression\"] = accuracy_score(y_test, lr.predict(X_test_scaled))\n",
        "\n",
        "sorted_accuracy = [(k, scaled_acc[k]) for k in sorted(scaled_acc, key=scaled_acc.get, reverse=True)]\n",
        "acc_df = pd.DataFrame.from_dict(sorted_accuracy)\n",
        "\n",
        "sns.set_theme(style=\"whitegrid\")\n",
        "sns.barplot(y=acc_df.iloc[:,0], x=acc_df.iloc[:,1], data=acc_df)\n",
        "plt.xlabel(\"Accuracy\")\n",
        "plt.ylabel(\"Estimator\")\n",
        "plt.title(\"Accuracy scores for out-of-the-box estimators with scaled dataset (30% test set)\")\n",
        "plt.show()"
      ],
      "execution_count": 54,
      "outputs": [
        {
          "output_type": "display_data",
          "data": {
            "image/png": "[encoded data removed]",
            "text/plain": [
              "<Figure size 432x288 with 1 Axes>"
            ]
          },
          "metadata": {}
        }
      ]
    },
    {
      "cell_type": "markdown",
      "metadata": {
        "id": "JXR_xcSP2Vpu"
      },
      "source": [
        "#### TODO: min-max scaling before variance threshold"
      ]
    }
  ]
}