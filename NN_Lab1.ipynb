{
  "nbformat": 4,
  "nbformat_minor": 0,
  "metadata": {
    "colab": {
      "name": "NN-Lab1.ipynb",
      "provenance": [],
      "collapsed_sections": []
    },
    "kernelspec": {
      "name": "python3",
      "display_name": "Python 3"
    },
    "language_info": {
      "name": "python"
    }
  },
  "cells": [
    {
      "cell_type": "markdown",
      "metadata": {
        "id": "9IZL-BYLirpn"
      },
      "source": [
        "# Νευρωνικά Δίκτυα και Ευφυή Υπολογιστικά Συστήματα\n",
        "## Εργασία 1: Επιβλεπόμενη Μάθηση - Ταξινόμηση\n",
        "### Ομάδα 44\n",
        "* Βασιλάκος Μιχαήλ <br>\n",
        "Α.Μ.: 03117069\n",
        "* Γαβαλάς Παντελεήμων <br>\n",
        "Α.Μ.: 03117075"
      ]
    },
    {
      "cell_type": "code",
      "metadata": {
        "id": "4I_wioxunXgh"
      },
      "source": [
        "# import used modules\n",
        "import pandas as pd\n",
        "import numpy as np\n",
        "import seaborn as sns\n",
        "import matplotlib.pyplot as plt"
      ],
      "execution_count": 1,
      "outputs": []
    },
    {
      "cell_type": "markdown",
      "metadata": {
        "id": "eaVWoqxxkYBr"
      },
      "source": [
        "## Μέρος 1: UCI dataset\n",
        "Το dataset του UCI Machine Learning Repository που αντιστοιχεί στην ομάδα μας είναι το [HCC Survival Data Set](https://archive.ics.uci.edu/ml/datasets/HCC+Survival). Το συγκεκριμένο dataset περιέχει πληροφορίες σχετικά με την επιβίωση ασθενών με Ηπατοκυτταρικό καρκίνωμα (HCC) σε διάστημα ενός χρόνου από τη συλλογή των στοιχείων που δίνονται στο dataset. Δίνονται 49 features, 23 εκ των οποίων είναι κατηγορικά ενώ τα υπόλοιπα 26 είναι διατεταγμένα."
      ]
    },
    {
      "cell_type": "markdown",
      "metadata": {
        "id": "LOglVdfnm3Vb"
      },
      "source": [
        "Αρχικά φορτώνουμε το dataset στο notebook και ελέγχουμε τα πρώτα στοιχεία του καθώς και τις διαστάσεις του."
      ]
    },
    {
      "cell_type": "code",
      "metadata": {
        "colab": {
          "base_uri": "https://localhost:8080/"
        },
        "id": "MB72FbM0irBG",
        "outputId": "31566074-c096-4994-b687-4e478f095adc"
      },
      "source": [
        "# read dataset\n",
        "df = pd.read_csv(\"hcc-data.txt\", header=None)\n",
        "print(df.head(), df.shape)"
      ],
      "execution_count": 26,
      "outputs": [
        {
          "output_type": "stream",
          "name": "stdout",
          "text": [
            "   0  1   2  3  4  5  6   7  8   ...   41    42 43    44   45  46  47  48 49\n",
            "0   1  0   1  0  0  0  0   1  0  ...  7.1   0.7  1   3.5  0.5   ?   ?   ?  1\n",
            "1   0  ?   0  0  0  0  1   1  ?  ...    ?     ?  1   1.8    ?   ?   ?   ?  1\n",
            "2   1  0   1  1  0  1  0   1  0  ...    7   2.1  5    13  0.1  28   6  16  1\n",
            "3   1  1   1  0  0  0  0   1  0  ...  8.1  1.11  2  15.7  0.2   ?   ?   ?  0\n",
            "4   1  1   1  1  0  1  0   1  0  ...  6.9   1.8  1     9    ?  59  15  22  1\n",
            "\n",
            "[5 rows x 50 columns] (165, 50)\n"
          ]
        }
      ]
    },
    {
      "cell_type": "markdown",
      "metadata": {
        "id": "VGgDb1O6pIUo"
      },
      "source": [
        "Το αρχείο text δεν χρειάστηκε κάποια μετατροπή για να εισαχθεί στο notebook. Βλέπουμε πως υπάρχουν 50 στήλες στο dataframe, το οποίο σημαίνει πως έχουμε 49 χαρακτηριστικά και 1 ετικέτα. Από την περιγραφή των χαρακτηριστικών στο UCI Repository βλέπουμε πως τα πρώτα 23 χαρακτηριστικά είναι μη διατεταγμένα (κατηγορικά) και είναι:\n",
        "* Gender (1: Άνδρας; 0: Γυναίκα)\n",
        "* Symptoms (1: Ναι; 0: Όχι)\n",
        "* Alcohol (1: Ναι; 0: Όχι)\n",
        "* Hepatitis B Surface Antigen (1: Ναι; 0: Όχι)\n",
        "* Hepatitis B e Antigen (1: Ναι; 0: Όχι)\n",
        "* Hepatitis B Core Antibody (1: Ναι; 0: Όχι)\n",
        "* Hepatitis C Virus Antibody (1: Ναι; 0: Όχι)\n",
        "* Cirrhosis (1: Ναι; 0: Όχι)\n",
        "* Endemic Countries (1: Ναι; 0: Όχι)\n",
        "* Smoking (1: Ναι; 0: Όχι)\n",
        "* Diabetes (1: Ναι; 0: Όχι)\n",
        "* Obesity (1: Ναι; 0: Όχι)\n",
        "* Hemochromatosis (1: Ναι; 0: Όχι)\n",
        "* Arterial Hypertension (1: Ναι; 0: Όχι)\n",
        "* Chronic Renal Insufficiency (1: Ναι; 0: Όχι)\n",
        "* Human Immunodeficiency Virus (1: Ναι; 0: Όχι)\n",
        "* Nonalcoholic Steatohepatitis (1: Ναι; 0: Όχι)\n",
        "* Esophageal Varices (1: Ναι; 0: Όχι)\n",
        "* Splenomegaly (1: Ναι; 0: Όχι)\n",
        "* Portal Hypertension (1: Ναι; 0: Όχι)\n",
        "* Portal Vein Thrombosis (1: Ναι; 0: Όχι)\n",
        "* Liver Metastasis (1: Ναι; 0: Όχι)\n",
        "* Radiological Hallmark  (1: Ναι; 0: Όχι)\n",
        "\n",
        "Το dataset δεν περιέχει επικεφαλίδες ούτε αρίθμηση σειρών. Οι ετικέτες των κλάσεων είναι στην 50η στήλη και λαμβάνουν τιμές 1 και 0, όπου το 1 εκφράζει την επιβίωση του ασθενή στον 1 χρόνο ενώ το 0 το αντίθετο."
      ]
    },
    {
      "cell_type": "code",
      "metadata": {
        "colab": {
          "base_uri": "https://localhost:8080/"
        },
        "id": "EdFYpN04sYW_",
        "outputId": "1b0fd33b-7015-4197-cd7d-695d2df8eafc"
      },
      "source": [
        "# missing values are marked with a '?'\n",
        "df.replace('?', np.nan, inplace=True)\n",
        "# find missing values\n",
        "print(\"Total missing values:\", df.isnull().sum(axis=1).sum())\n",
        "# find samples with missing values\n",
        "missing_samples = df.isnull().any(axis=1).sum()\n",
        "print(\"Number of samples with missing values: {} which represents {:.2f}% \\\n",
        "of total samples\".format(missing_samples, missing_samples/df.shape[0]*100))\n",
        "# find features with missing values\n",
        "missing_cols = df.isnull().sum(axis=0)\n",
        "missing_cols_percent = [\"{:.1f}%\".format(x/df.shape[0]*100) for x in missing_cols]\n",
        "print(\"Percentage of samples with missing features:\")\n",
        "for i in range(len(missing_cols_percent)-1):\n",
        "  print(\"Feature {}: {}\".format(i, missing_cols_percent[i]))"
      ],
      "execution_count": 52,
      "outputs": [
        {
          "output_type": "stream",
          "name": "stdout",
          "text": [
            "Total missing values: 826\n",
            "Number of samples with missing values: 157 which represents 95.15% of total samples\n",
            "Percentage of samples with missing features:\n",
            "Feature 0: 0.0%\n",
            "Feature 1: 10.9%\n",
            "Feature 2: 0.0%\n",
            "Feature 3: 10.3%\n",
            "Feature 4: 23.6%\n",
            "Feature 5: 14.5%\n",
            "Feature 6: 5.5%\n",
            "Feature 7: 0.0%\n",
            "Feature 8: 23.6%\n",
            "Feature 9: 24.8%\n",
            "Feature 10: 1.8%\n",
            "Feature 11: 6.1%\n",
            "Feature 12: 13.9%\n",
            "Feature 13: 1.8%\n",
            "Feature 14: 1.2%\n",
            "Feature 15: 8.5%\n",
            "Feature 16: 13.3%\n",
            "Feature 17: 31.5%\n",
            "Feature 18: 9.1%\n",
            "Feature 19: 6.7%\n",
            "Feature 20: 1.8%\n",
            "Feature 21: 2.4%\n",
            "Feature 22: 1.2%\n",
            "Feature 23: 0.0%\n",
            "Feature 24: 29.1%\n",
            "Feature 25: 32.1%\n",
            "Feature 26: 0.0%\n",
            "Feature 27: 0.6%\n",
            "Feature 28: 1.2%\n",
            "Feature 29: 2.4%\n",
            "Feature 30: 4.8%\n",
            "Feature 31: 1.8%\n",
            "Feature 32: 1.8%\n",
            "Feature 33: 1.8%\n",
            "Feature 34: 1.8%\n",
            "Feature 35: 3.6%\n",
            "Feature 36: 3.0%\n",
            "Feature 37: 2.4%\n",
            "Feature 38: 1.8%\n",
            "Feature 39: 1.8%\n",
            "Feature 40: 1.8%\n",
            "Feature 41: 6.7%\n",
            "Feature 42: 4.2%\n",
            "Feature 43: 1.2%\n",
            "Feature 44: 12.1%\n",
            "Feature 45: 26.7%\n",
            "Feature 46: 47.9%\n",
            "Feature 47: 48.5%\n",
            "Feature 48: 48.5%\n"
          ]
        }
      ]
    },
    {
      "cell_type": "markdown",
      "metadata": {
        "id": "_Fb5ZW1TvKkC"
      },
      "source": [
        "Παρατηρούμε πως μας λείπουν 826 τιμές συνολικά. Δεδομένου ότι έχουμε 49 χαρακτηριστικά και 165 δείγματα μας λείπουν $\\frac{826}{49*165}*100\\% = 10.2\\%$ των τιμών του dataset. Επιπλέον, είδαμε πως πάνω από το 95% των δειγμάτων έχουν τουλάχιστον μία τιμή που απουσιάζει, ενώ επίσης είδαμε πως 7 από τα 49 χαρακτηριστικά απουσιάζουν για πάνω από το 25% των δειγμάτων, ενώ 3 εξ αυτών απουσιάζουν για περίπου τα μισά δείγματα."
      ]
    },
    {
      "cell_type": "code",
      "metadata": {
        "colab": {
          "base_uri": "https://localhost:8080/"
        },
        "id": "IR3tEJBAzyvS",
        "outputId": "1794e255-906f-4ce9-adea-2e08fed986c4"
      },
      "source": [
        "# count instances of each class\n",
        "class1 = df.iloc[:,49].sum()\n",
        "class0 = df.shape[0] - class1\n",
        "print(\"Class 0 has {} samples which represents {:.1f}% of all samples\".format\n",
        "      (class0, class0/df.shape[0]*100))\n",
        "print(\"Class 1 has {} samples which represents {:.1f}% of all samples\".format\n",
        "      (class1, class1/df.shape[0]*100))"
      ],
      "execution_count": 59,
      "outputs": [
        {
          "output_type": "stream",
          "name": "stdout",
          "text": [
            "Class 0 has 63 samples which represents 38.2% of all samples\n",
            "Class 1 has 102 samples which represents 61.8% of all samples\n"
          ]
        }
      ]
    },
    {
      "cell_type": "markdown",
      "metadata": {
        "id": "XgZuG0nF1JLt"
      },
      "source": [
        "Παρατηρούμε πως η κλάση 1 (ο ασθενής ζει) αντιπροσωπεύει το 61.8% των δειγμάτων του dataset, έναντι του 38.2% που αντιστοιχεί στην κλάση 0 (ο ασθενής πεθαίνει). Αυτό σημαίνει πως το dataset δεν είναι ισορροπημένο και συνεπώς απαιτείται ειδικός χειρισμός για την αποτελεσματικότερη χρήση του."
      ]
    }
  ]
}