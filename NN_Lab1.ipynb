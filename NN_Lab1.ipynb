{
  "nbformat": 4,
  "nbformat_minor": 0,
  "metadata": {
    "colab": {
      "name": "NN-Lab1.ipynb",
      "provenance": [],
      "collapsed_sections": [],
      "toc_visible": true
    },
    "kernelspec": {
      "name": "python3",
      "display_name": "Python 3"
    },
    "language_info": {
      "name": "python"
    }
  },
  "cells": [
    {
      "cell_type": "markdown",
      "metadata": {
        "id": "9IZL-BYLirpn"
      },
      "source": [
        "# Νευρωνικά Δίκτυα και Ευφυή Υπολογιστικά Συστήματα\n",
        "## Εργασία 1: Επιβλεπόμενη Μάθηση - Ταξινόμηση\n",
        "### Ομάδα 44\n",
        "* Βασιλάκος Μιχαήλ <br>\n",
        "Α.Μ.: 03117069\n",
        "* Γαβαλάς Παντελεήμων <br>\n",
        "Α.Μ.: 03117075"
      ]
    },
    {
      "cell_type": "code",
      "metadata": {
        "id": "4I_wioxunXgh",
        "colab": {
          "base_uri": "https://localhost:8080/"
        },
        "outputId": "42541ff3-16a1-4192-f572-daa7454ec5ab"
      },
      "source": [
        "# import used modules\n",
        "!pip install --upgrade imbalanced-learn\n",
        "import pandas as pd\n",
        "import numpy as np\n",
        "import seaborn as sns\n",
        "import matplotlib.pyplot as plt\n",
        "import time\n",
        "from sklearn.model_selection import train_test_split\n",
        "from sklearn.impute import SimpleImputer\n",
        "from sklearn.dummy import DummyClassifier\n",
        "from sklearn.naive_bayes import GaussianNB\n",
        "from sklearn.neighbors import KNeighborsClassifier\n",
        "from sklearn.linear_model import LogisticRegression\n",
        "from sklearn.metrics import accuracy_score, f1_score\n",
        "from imblearn.pipeline import Pipeline\n",
        "from sklearn.feature_selection import VarianceThreshold\n",
        "from sklearn.preprocessing import StandardScaler\n",
        "from sklearn.preprocessing import MinMaxScaler\n",
        "from imblearn.over_sampling import RandomOverSampler\n",
        "from sklearn.decomposition import PCA\n",
        "from sklearn.metrics import classification_report\n",
        "from sklearn.metrics import ConfusionMatrixDisplay, confusion_matrix\n",
        "from sklearn.model_selection import GridSearchCV"
      ],
      "execution_count": 111,
      "outputs": [
        {
          "output_type": "stream",
          "name": "stdout",
          "text": [
            "Requirement already satisfied: imbalanced-learn in /usr/local/lib/python3.7/dist-packages (0.8.1)\n",
            "Requirement already satisfied: scikit-learn>=0.24 in /usr/local/lib/python3.7/dist-packages (from imbalanced-learn) (1.0.1)\n",
            "Requirement already satisfied: numpy>=1.13.3 in /usr/local/lib/python3.7/dist-packages (from imbalanced-learn) (1.19.5)\n",
            "Requirement already satisfied: joblib>=0.11 in /usr/local/lib/python3.7/dist-packages (from imbalanced-learn) (1.1.0)\n",
            "Requirement already satisfied: scipy>=0.19.1 in /usr/local/lib/python3.7/dist-packages (from imbalanced-learn) (1.4.1)\n",
            "Requirement already satisfied: threadpoolctl>=2.0.0 in /usr/local/lib/python3.7/dist-packages (from scikit-learn>=0.24->imbalanced-learn) (3.0.0)\n"
          ]
        }
      ]
    },
    {
      "cell_type": "markdown",
      "metadata": {
        "id": "eaVWoqxxkYBr"
      },
      "source": [
        "## Μέρος 1: UCI dataset\n",
        "Το dataset του UCI Machine Learning Repository που αντιστοιχεί στην ομάδα μας είναι το [HCC Survival Data Set](https://archive.ics.uci.edu/ml/datasets/HCC+Survival). Το συγκεκριμένο dataset περιέχει πληροφορίες σχετικά με την επιβίωση ασθενών με Ηπατοκυτταρικό καρκίνωμα (HCC) σε διάστημα ενός χρόνου από τη συλλογή των στοιχείων που δίνονται στο dataset. Δίνονται 49 features, 23 εκ των οποίων είναι κατηγορικά ενώ τα υπόλοιπα 26 είναι διατεταγμένα."
      ]
    },
    {
      "cell_type": "markdown",
      "metadata": {
        "id": "pKIuHXIh6pQj"
      },
      "source": [
        "### Εισαγωγή και επισκόπηση δεδομένων"
      ]
    },
    {
      "cell_type": "markdown",
      "metadata": {
        "id": "LOglVdfnm3Vb"
      },
      "source": [
        "Αρχικά φορτώνουμε το dataset στο notebook και ελέγχουμε τα πρώτα στοιχεία του καθώς και τις διαστάσεις του."
      ]
    },
    {
      "cell_type": "code",
      "metadata": {
        "colab": {
          "base_uri": "https://localhost:8080/"
        },
        "id": "MB72FbM0irBG",
        "outputId": "bde25220-b6e7-4c6d-ba4c-2a9f8aa51da6"
      },
      "source": [
        "# read dataset\n",
        "df = pd.read_csv(\"hcc-data.txt\", header=None, na_values=[\"?\"])\n",
        "print(df.head(), df.shape)"
      ],
      "execution_count": 2,
      "outputs": [
        {
          "output_type": "stream",
          "name": "stdout",
          "text": [
            "   0    1   2    3    4    5    6   ...   43    44   45    46    47    48  49\n",
            "0   1  0.0   1  0.0  0.0  0.0  0.0  ...  1.0   3.5  0.5   NaN   NaN   NaN   1\n",
            "1   0  NaN   0  0.0  0.0  0.0  1.0  ...  1.0   1.8  NaN   NaN   NaN   NaN   1\n",
            "2   1  0.0   1  1.0  0.0  1.0  0.0  ...  5.0  13.0  0.1  28.0   6.0  16.0   1\n",
            "3   1  1.0   1  0.0  0.0  0.0  0.0  ...  2.0  15.7  0.2   NaN   NaN   NaN   0\n",
            "4   1  1.0   1  1.0  0.0  1.0  0.0  ...  1.0   9.0  NaN  59.0  15.0  22.0   1\n",
            "\n",
            "[5 rows x 50 columns] (165, 50)\n"
          ]
        }
      ]
    },
    {
      "cell_type": "markdown",
      "metadata": {
        "id": "VGgDb1O6pIUo"
      },
      "source": [
        "Το αρχείο text δεν χρειάστηκε κάποια μετατροπή για να εισαχθεί στο notebook. Βλέπουμε πως υπάρχουν 50 στήλες στο dataframe, το οποίο σημαίνει πως έχουμε 49 χαρακτηριστικά και 1 ετικέτα. Από την περιγραφή των χαρακτηριστικών στο UCI Repository βλέπουμε πως τα πρώτα 23 χαρακτηριστικά είναι μη διατεταγμένα (κατηγορικά) και είναι:\n",
        "* Gender (1: Άνδρας; 0: Γυναίκα)\n",
        "* Symptoms (1: Ναι; 0: Όχι)\n",
        "* Alcohol (1: Ναι; 0: Όχι)\n",
        "* Hepatitis B Surface Antigen (1: Ναι; 0: Όχι)\n",
        "* Hepatitis B e Antigen (1: Ναι; 0: Όχι)\n",
        "* Hepatitis B Core Antibody (1: Ναι; 0: Όχι)\n",
        "* Hepatitis C Virus Antibody (1: Ναι; 0: Όχι)\n",
        "* Cirrhosis (1: Ναι; 0: Όχι)\n",
        "* Endemic Countries (1: Ναι; 0: Όχι)\n",
        "* Smoking (1: Ναι; 0: Όχι)\n",
        "* Diabetes (1: Ναι; 0: Όχι)\n",
        "* Obesity (1: Ναι; 0: Όχι)\n",
        "* Hemochromatosis (1: Ναι; 0: Όχι)\n",
        "* Arterial Hypertension (1: Ναι; 0: Όχι)\n",
        "* Chronic Renal Insufficiency (1: Ναι; 0: Όχι)\n",
        "* Human Immunodeficiency Virus (1: Ναι; 0: Όχι)\n",
        "* Nonalcoholic Steatohepatitis (1: Ναι; 0: Όχι)\n",
        "* Esophageal Varices (1: Ναι; 0: Όχι)\n",
        "* Splenomegaly (1: Ναι; 0: Όχι)\n",
        "* Portal Hypertension (1: Ναι; 0: Όχι)\n",
        "* Portal Vein Thrombosis (1: Ναι; 0: Όχι)\n",
        "* Liver Metastasis (1: Ναι; 0: Όχι)\n",
        "* Radiological Hallmark  (1: Ναι; 0: Όχι)\n",
        "\n",
        "Το dataset δεν περιέχει επικεφαλίδες ούτε αρίθμηση σειρών. Οι ετικέτες των κλάσεων είναι στην 50η στήλη και λαμβάνουν τιμές 1 και 0, όπου το 1 εκφράζει την επιβίωση του ασθενή στον 1 χρόνο ενώ το 0 το αντίθετο."
      ]
    },
    {
      "cell_type": "code",
      "metadata": {
        "colab": {
          "base_uri": "https://localhost:8080/"
        },
        "id": "EdFYpN04sYW_",
        "outputId": "7a0d23c9-bb52-4a5d-f4a3-bfbdf0cea3ab"
      },
      "source": [
        "# find missing values\n",
        "print(\"Total missing values:\", df.isnull().sum(axis=1).sum())\n",
        "# find samples with missing values\n",
        "missing_samples = df.isnull().any(axis=1).sum()\n",
        "print(\"Number of samples with missing values: {} which represents {:.2f}% \\\n",
        "of total samples\".format(missing_samples, missing_samples/df.shape[0]*100))\n",
        "# find features with missing values\n",
        "missing_cols = df.isnull().sum(axis=0)\n",
        "missing_cols_percent = [\"{:.1f}%\".format(x/df.shape[0]*100) for x in missing_cols]\n",
        "print(\"Percentage of samples with missing features:\")\n",
        "for i in range(len(missing_cols_percent)-1):\n",
        "  print(\"Feature {}: {}\".format(i, missing_cols_percent[i]))"
      ],
      "execution_count": 3,
      "outputs": [
        {
          "output_type": "stream",
          "name": "stdout",
          "text": [
            "Total missing values: 826\n",
            "Number of samples with missing values: 157 which represents 95.15% of total samples\n",
            "Percentage of samples with missing features:\n",
            "Feature 0: 0.0%\n",
            "Feature 1: 10.9%\n",
            "Feature 2: 0.0%\n",
            "Feature 3: 10.3%\n",
            "Feature 4: 23.6%\n",
            "Feature 5: 14.5%\n",
            "Feature 6: 5.5%\n",
            "Feature 7: 0.0%\n",
            "Feature 8: 23.6%\n",
            "Feature 9: 24.8%\n",
            "Feature 10: 1.8%\n",
            "Feature 11: 6.1%\n",
            "Feature 12: 13.9%\n",
            "Feature 13: 1.8%\n",
            "Feature 14: 1.2%\n",
            "Feature 15: 8.5%\n",
            "Feature 16: 13.3%\n",
            "Feature 17: 31.5%\n",
            "Feature 18: 9.1%\n",
            "Feature 19: 6.7%\n",
            "Feature 20: 1.8%\n",
            "Feature 21: 2.4%\n",
            "Feature 22: 1.2%\n",
            "Feature 23: 0.0%\n",
            "Feature 24: 29.1%\n",
            "Feature 25: 32.1%\n",
            "Feature 26: 0.0%\n",
            "Feature 27: 0.6%\n",
            "Feature 28: 1.2%\n",
            "Feature 29: 2.4%\n",
            "Feature 30: 4.8%\n",
            "Feature 31: 1.8%\n",
            "Feature 32: 1.8%\n",
            "Feature 33: 1.8%\n",
            "Feature 34: 1.8%\n",
            "Feature 35: 3.6%\n",
            "Feature 36: 3.0%\n",
            "Feature 37: 2.4%\n",
            "Feature 38: 1.8%\n",
            "Feature 39: 1.8%\n",
            "Feature 40: 1.8%\n",
            "Feature 41: 6.7%\n",
            "Feature 42: 4.2%\n",
            "Feature 43: 1.2%\n",
            "Feature 44: 12.1%\n",
            "Feature 45: 26.7%\n",
            "Feature 46: 47.9%\n",
            "Feature 47: 48.5%\n",
            "Feature 48: 48.5%\n"
          ]
        }
      ]
    },
    {
      "cell_type": "markdown",
      "metadata": {
        "id": "_Fb5ZW1TvKkC"
      },
      "source": [
        "Παρατηρούμε πως μας λείπουν 826 τιμές συνολικά. Δεδομένου ότι έχουμε 49 χαρακτηριστικά και 165 δείγματα μας λείπουν $\\frac{826}{49*165}*100\\% = 10.2\\%$ των τιμών του dataset. Επιπλέον, είδαμε πως πάνω από το 95% των δειγμάτων έχουν τουλάχιστον μία τιμή που απουσιάζει, οπότε δεν είναι δυνατή η αφαίρεση των δειγμάτων των οποίων οι τιμές απουσιάζουν. Επίσης είδαμε πως 7 από τα 49 χαρακτηριστικά απουσιάζουν για πάνω από το 25% των δειγμάτων, ενώ 3 εξ αυτών απουσιάζουν για περίπου τα μισά δείγματα."
      ]
    },
    {
      "cell_type": "code",
      "metadata": {
        "colab": {
          "base_uri": "https://localhost:8080/"
        },
        "id": "IR3tEJBAzyvS",
        "outputId": "f7cdec30-fd37-49e7-a760-06dea1a95d20"
      },
      "source": [
        "# count instances of each class\n",
        "class1 = df.iloc[:,49].sum()\n",
        "class0 = df.shape[0] - class1\n",
        "print(\"Class 0 has {} samples which represents {:.1f}% of all samples\".format\n",
        "      (class0, class0/df.shape[0]*100))\n",
        "print(\"Class 1 has {} samples which represents {:.1f}% of all samples\".format\n",
        "      (class1, class1/df.shape[0]*100))"
      ],
      "execution_count": 4,
      "outputs": [
        {
          "output_type": "stream",
          "name": "stdout",
          "text": [
            "Class 0 has 63 samples which represents 38.2% of all samples\n",
            "Class 1 has 102 samples which represents 61.8% of all samples\n"
          ]
        }
      ]
    },
    {
      "cell_type": "markdown",
      "metadata": {
        "id": "XgZuG0nF1JLt"
      },
      "source": [
        "Παρατηρούμε πως η κλάση 1 (ο ασθενής ζει) αντιπροσωπεύει το 61.8% των δειγμάτων του dataset, έναντι του 38.2% που αντιστοιχεί στην κλάση 0 (ο ασθενής πεθαίνει). Αυτό σημαίνει πως το dataset δεν είναι ισορροπημένο και συνεπώς απαιτείται ειδικός χειρισμός για την αποτελεσματικότερη χρήση του."
      ]
    },
    {
      "cell_type": "code",
      "metadata": {
        "colab": {
          "base_uri": "https://localhost:8080/",
          "height": 226
        },
        "id": "7IPQItf92V0g",
        "outputId": "f6fd5248-5c82-454e-96a1-5aa1bbf8daf3"
      },
      "source": [
        "df.head()"
      ],
      "execution_count": 5,
      "outputs": [
        {
          "output_type": "execute_result",
          "data": {
            "text/html": [
              "<div>\n",
              "<style scoped>\n",
              "    .dataframe tbody tr th:only-of-type {\n",
              "        vertical-align: middle;\n",
              "    }\n",
              "\n",
              "    .dataframe tbody tr th {\n",
              "        vertical-align: top;\n",
              "    }\n",
              "\n",
              "    .dataframe thead th {\n",
              "        text-align: right;\n",
              "    }\n",
              "</style>\n",
              "<table border=\"1\" class=\"dataframe\">\n",
              "  <thead>\n",
              "    <tr style=\"text-align: right;\">\n",
              "      <th></th>\n",
              "      <th>0</th>\n",
              "      <th>1</th>\n",
              "      <th>2</th>\n",
              "      <th>3</th>\n",
              "      <th>4</th>\n",
              "      <th>5</th>\n",
              "      <th>6</th>\n",
              "      <th>7</th>\n",
              "      <th>8</th>\n",
              "      <th>9</th>\n",
              "      <th>10</th>\n",
              "      <th>11</th>\n",
              "      <th>12</th>\n",
              "      <th>13</th>\n",
              "      <th>14</th>\n",
              "      <th>15</th>\n",
              "      <th>16</th>\n",
              "      <th>17</th>\n",
              "      <th>18</th>\n",
              "      <th>19</th>\n",
              "      <th>20</th>\n",
              "      <th>21</th>\n",
              "      <th>22</th>\n",
              "      <th>23</th>\n",
              "      <th>24</th>\n",
              "      <th>25</th>\n",
              "      <th>26</th>\n",
              "      <th>27</th>\n",
              "      <th>28</th>\n",
              "      <th>29</th>\n",
              "      <th>30</th>\n",
              "      <th>31</th>\n",
              "      <th>32</th>\n",
              "      <th>33</th>\n",
              "      <th>34</th>\n",
              "      <th>35</th>\n",
              "      <th>36</th>\n",
              "      <th>37</th>\n",
              "      <th>38</th>\n",
              "      <th>39</th>\n",
              "      <th>40</th>\n",
              "      <th>41</th>\n",
              "      <th>42</th>\n",
              "      <th>43</th>\n",
              "      <th>44</th>\n",
              "      <th>45</th>\n",
              "      <th>46</th>\n",
              "      <th>47</th>\n",
              "      <th>48</th>\n",
              "      <th>49</th>\n",
              "    </tr>\n",
              "  </thead>\n",
              "  <tbody>\n",
              "    <tr>\n",
              "      <th>0</th>\n",
              "      <td>1</td>\n",
              "      <td>0.0</td>\n",
              "      <td>1</td>\n",
              "      <td>0.0</td>\n",
              "      <td>0.0</td>\n",
              "      <td>0.0</td>\n",
              "      <td>0.0</td>\n",
              "      <td>1</td>\n",
              "      <td>0.0</td>\n",
              "      <td>1.0</td>\n",
              "      <td>1.0</td>\n",
              "      <td>NaN</td>\n",
              "      <td>1.0</td>\n",
              "      <td>0.0</td>\n",
              "      <td>0.0</td>\n",
              "      <td>0.0</td>\n",
              "      <td>0.0</td>\n",
              "      <td>1.0</td>\n",
              "      <td>0.0</td>\n",
              "      <td>0.0</td>\n",
              "      <td>0.0</td>\n",
              "      <td>0.0</td>\n",
              "      <td>1.0</td>\n",
              "      <td>67</td>\n",
              "      <td>137.0</td>\n",
              "      <td>15.0</td>\n",
              "      <td>0</td>\n",
              "      <td>1.0</td>\n",
              "      <td>1.0</td>\n",
              "      <td>1.53</td>\n",
              "      <td>95.0</td>\n",
              "      <td>13.7</td>\n",
              "      <td>106.6</td>\n",
              "      <td>4.9</td>\n",
              "      <td>99.0</td>\n",
              "      <td>3.4</td>\n",
              "      <td>2.1</td>\n",
              "      <td>34.0</td>\n",
              "      <td>41.0</td>\n",
              "      <td>183.0</td>\n",
              "      <td>150.0</td>\n",
              "      <td>7.1</td>\n",
              "      <td>0.70</td>\n",
              "      <td>1.0</td>\n",
              "      <td>3.5</td>\n",
              "      <td>0.5</td>\n",
              "      <td>NaN</td>\n",
              "      <td>NaN</td>\n",
              "      <td>NaN</td>\n",
              "      <td>1</td>\n",
              "    </tr>\n",
              "    <tr>\n",
              "      <th>1</th>\n",
              "      <td>0</td>\n",
              "      <td>NaN</td>\n",
              "      <td>0</td>\n",
              "      <td>0.0</td>\n",
              "      <td>0.0</td>\n",
              "      <td>0.0</td>\n",
              "      <td>1.0</td>\n",
              "      <td>1</td>\n",
              "      <td>NaN</td>\n",
              "      <td>NaN</td>\n",
              "      <td>1.0</td>\n",
              "      <td>0.0</td>\n",
              "      <td>0.0</td>\n",
              "      <td>1.0</td>\n",
              "      <td>0.0</td>\n",
              "      <td>0.0</td>\n",
              "      <td>0.0</td>\n",
              "      <td>1.0</td>\n",
              "      <td>0.0</td>\n",
              "      <td>0.0</td>\n",
              "      <td>0.0</td>\n",
              "      <td>0.0</td>\n",
              "      <td>1.0</td>\n",
              "      <td>62</td>\n",
              "      <td>0.0</td>\n",
              "      <td>NaN</td>\n",
              "      <td>0</td>\n",
              "      <td>1.0</td>\n",
              "      <td>1.0</td>\n",
              "      <td>NaN</td>\n",
              "      <td>NaN</td>\n",
              "      <td>NaN</td>\n",
              "      <td>NaN</td>\n",
              "      <td>NaN</td>\n",
              "      <td>NaN</td>\n",
              "      <td>NaN</td>\n",
              "      <td>NaN</td>\n",
              "      <td>NaN</td>\n",
              "      <td>NaN</td>\n",
              "      <td>NaN</td>\n",
              "      <td>NaN</td>\n",
              "      <td>NaN</td>\n",
              "      <td>NaN</td>\n",
              "      <td>1.0</td>\n",
              "      <td>1.8</td>\n",
              "      <td>NaN</td>\n",
              "      <td>NaN</td>\n",
              "      <td>NaN</td>\n",
              "      <td>NaN</td>\n",
              "      <td>1</td>\n",
              "    </tr>\n",
              "    <tr>\n",
              "      <th>2</th>\n",
              "      <td>1</td>\n",
              "      <td>0.0</td>\n",
              "      <td>1</td>\n",
              "      <td>1.0</td>\n",
              "      <td>0.0</td>\n",
              "      <td>1.0</td>\n",
              "      <td>0.0</td>\n",
              "      <td>1</td>\n",
              "      <td>0.0</td>\n",
              "      <td>1.0</td>\n",
              "      <td>0.0</td>\n",
              "      <td>0.0</td>\n",
              "      <td>0.0</td>\n",
              "      <td>1.0</td>\n",
              "      <td>1.0</td>\n",
              "      <td>0.0</td>\n",
              "      <td>0.0</td>\n",
              "      <td>0.0</td>\n",
              "      <td>0.0</td>\n",
              "      <td>1.0</td>\n",
              "      <td>0.0</td>\n",
              "      <td>1.0</td>\n",
              "      <td>1.0</td>\n",
              "      <td>78</td>\n",
              "      <td>50.0</td>\n",
              "      <td>50.0</td>\n",
              "      <td>2</td>\n",
              "      <td>1.0</td>\n",
              "      <td>2.0</td>\n",
              "      <td>0.96</td>\n",
              "      <td>5.8</td>\n",
              "      <td>8.9</td>\n",
              "      <td>79.8</td>\n",
              "      <td>8.4</td>\n",
              "      <td>472.0</td>\n",
              "      <td>3.3</td>\n",
              "      <td>0.4</td>\n",
              "      <td>58.0</td>\n",
              "      <td>68.0</td>\n",
              "      <td>202.0</td>\n",
              "      <td>109.0</td>\n",
              "      <td>7.0</td>\n",
              "      <td>2.10</td>\n",
              "      <td>5.0</td>\n",
              "      <td>13.0</td>\n",
              "      <td>0.1</td>\n",
              "      <td>28.0</td>\n",
              "      <td>6.0</td>\n",
              "      <td>16.0</td>\n",
              "      <td>1</td>\n",
              "    </tr>\n",
              "    <tr>\n",
              "      <th>3</th>\n",
              "      <td>1</td>\n",
              "      <td>1.0</td>\n",
              "      <td>1</td>\n",
              "      <td>0.0</td>\n",
              "      <td>0.0</td>\n",
              "      <td>0.0</td>\n",
              "      <td>0.0</td>\n",
              "      <td>1</td>\n",
              "      <td>0.0</td>\n",
              "      <td>1.0</td>\n",
              "      <td>1.0</td>\n",
              "      <td>0.0</td>\n",
              "      <td>0.0</td>\n",
              "      <td>1.0</td>\n",
              "      <td>0.0</td>\n",
              "      <td>0.0</td>\n",
              "      <td>0.0</td>\n",
              "      <td>0.0</td>\n",
              "      <td>0.0</td>\n",
              "      <td>0.0</td>\n",
              "      <td>0.0</td>\n",
              "      <td>1.0</td>\n",
              "      <td>1.0</td>\n",
              "      <td>77</td>\n",
              "      <td>40.0</td>\n",
              "      <td>30.0</td>\n",
              "      <td>0</td>\n",
              "      <td>1.0</td>\n",
              "      <td>1.0</td>\n",
              "      <td>0.95</td>\n",
              "      <td>2440.0</td>\n",
              "      <td>13.4</td>\n",
              "      <td>97.1</td>\n",
              "      <td>9.0</td>\n",
              "      <td>279.0</td>\n",
              "      <td>3.7</td>\n",
              "      <td>0.4</td>\n",
              "      <td>16.0</td>\n",
              "      <td>64.0</td>\n",
              "      <td>94.0</td>\n",
              "      <td>174.0</td>\n",
              "      <td>8.1</td>\n",
              "      <td>1.11</td>\n",
              "      <td>2.0</td>\n",
              "      <td>15.7</td>\n",
              "      <td>0.2</td>\n",
              "      <td>NaN</td>\n",
              "      <td>NaN</td>\n",
              "      <td>NaN</td>\n",
              "      <td>0</td>\n",
              "    </tr>\n",
              "    <tr>\n",
              "      <th>4</th>\n",
              "      <td>1</td>\n",
              "      <td>1.0</td>\n",
              "      <td>1</td>\n",
              "      <td>1.0</td>\n",
              "      <td>0.0</td>\n",
              "      <td>1.0</td>\n",
              "      <td>0.0</td>\n",
              "      <td>1</td>\n",
              "      <td>0.0</td>\n",
              "      <td>1.0</td>\n",
              "      <td>0.0</td>\n",
              "      <td>0.0</td>\n",
              "      <td>0.0</td>\n",
              "      <td>1.0</td>\n",
              "      <td>1.0</td>\n",
              "      <td>0.0</td>\n",
              "      <td>0.0</td>\n",
              "      <td>0.0</td>\n",
              "      <td>0.0</td>\n",
              "      <td>0.0</td>\n",
              "      <td>0.0</td>\n",
              "      <td>0.0</td>\n",
              "      <td>1.0</td>\n",
              "      <td>76</td>\n",
              "      <td>100.0</td>\n",
              "      <td>30.0</td>\n",
              "      <td>0</td>\n",
              "      <td>1.0</td>\n",
              "      <td>1.0</td>\n",
              "      <td>0.94</td>\n",
              "      <td>49.0</td>\n",
              "      <td>14.3</td>\n",
              "      <td>95.1</td>\n",
              "      <td>6.4</td>\n",
              "      <td>199.0</td>\n",
              "      <td>4.1</td>\n",
              "      <td>0.7</td>\n",
              "      <td>147.0</td>\n",
              "      <td>306.0</td>\n",
              "      <td>173.0</td>\n",
              "      <td>109.0</td>\n",
              "      <td>6.9</td>\n",
              "      <td>1.80</td>\n",
              "      <td>1.0</td>\n",
              "      <td>9.0</td>\n",
              "      <td>NaN</td>\n",
              "      <td>59.0</td>\n",
              "      <td>15.0</td>\n",
              "      <td>22.0</td>\n",
              "      <td>1</td>\n",
              "    </tr>\n",
              "  </tbody>\n",
              "</table>\n",
              "</div>"
            ],
            "text/plain": [
              "   0    1   2    3    4    5    6   ...   43    44   45    46    47    48  49\n",
              "0   1  0.0   1  0.0  0.0  0.0  0.0  ...  1.0   3.5  0.5   NaN   NaN   NaN   1\n",
              "1   0  NaN   0  0.0  0.0  0.0  1.0  ...  1.0   1.8  NaN   NaN   NaN   NaN   1\n",
              "2   1  0.0   1  1.0  0.0  1.0  0.0  ...  5.0  13.0  0.1  28.0   6.0  16.0   1\n",
              "3   1  1.0   1  0.0  0.0  0.0  0.0  ...  2.0  15.7  0.2   NaN   NaN   NaN   0\n",
              "4   1  1.0   1  1.0  0.0  1.0  0.0  ...  1.0   9.0  NaN  59.0  15.0  22.0   1\n",
              "\n",
              "[5 rows x 50 columns]"
            ]
          },
          "metadata": {},
          "execution_count": 5
        }
      ]
    },
    {
      "cell_type": "markdown",
      "metadata": {
        "id": "VUoqdAtd6xGQ"
      },
      "source": [
        "### Προετοιμασία δεδομένων"
      ]
    },
    {
      "cell_type": "markdown",
      "metadata": {
        "id": "scAQJeLh3Q_e"
      },
      "source": [
        "Χωρίζουμε το dataset σε δύο μέρη ώστε να δημιουργήσουμε τα train και test sets με το test set να αποτελεί το 30% των δειγμάτων."
      ]
    },
    {
      "cell_type": "code",
      "metadata": {
        "id": "qLxW53Q22NTt"
      },
      "source": [
        "# differentiate labels from features\n",
        "X_df = df.iloc[:,:49].copy()\n",
        "y_df = df.iloc[:,49].copy()\n",
        "\n",
        "# create train and test sets\n",
        "X_train, X_test, y_train, y_test = train_test_split(X_df, y_df, test_size=.3)"
      ],
      "execution_count": 6,
      "outputs": []
    },
    {
      "cell_type": "markdown",
      "metadata": {
        "id": "0BmIQ-Eg36BI"
      },
      "source": [
        "Επειδή όπως δείξαμε παραπάνω στα features 46, 47 και 48 λείπουν οι τιμές για περίπου τα μισά δείγματα, η συμπλήρωσή τους δεν αποτελεί καλή πρακτική και για τον λόγο αυτό τα αφαιρούμε από τα δεδομένα μας."
      ]
    },
    {
      "cell_type": "code",
      "metadata": {
        "colab": {
          "base_uri": "https://localhost:8080/",
          "height": 226
        },
        "id": "9KR5J3m04dHM",
        "outputId": "fe2af00e-b527-4ebd-a96f-496bc9a6a023"
      },
      "source": [
        "X_train.drop([46, 47, 48], axis=1, inplace=True)\n",
        "X_test.drop([46, 47, 48], axis=1, inplace=True)\n",
        "X_train.head()"
      ],
      "execution_count": 7,
      "outputs": [
        {
          "output_type": "execute_result",
          "data": {
            "text/html": [
              "<div>\n",
              "<style scoped>\n",
              "    .dataframe tbody tr th:only-of-type {\n",
              "        vertical-align: middle;\n",
              "    }\n",
              "\n",
              "    .dataframe tbody tr th {\n",
              "        vertical-align: top;\n",
              "    }\n",
              "\n",
              "    .dataframe thead th {\n",
              "        text-align: right;\n",
              "    }\n",
              "</style>\n",
              "<table border=\"1\" class=\"dataframe\">\n",
              "  <thead>\n",
              "    <tr style=\"text-align: right;\">\n",
              "      <th></th>\n",
              "      <th>0</th>\n",
              "      <th>1</th>\n",
              "      <th>2</th>\n",
              "      <th>3</th>\n",
              "      <th>4</th>\n",
              "      <th>5</th>\n",
              "      <th>6</th>\n",
              "      <th>7</th>\n",
              "      <th>8</th>\n",
              "      <th>9</th>\n",
              "      <th>10</th>\n",
              "      <th>11</th>\n",
              "      <th>12</th>\n",
              "      <th>13</th>\n",
              "      <th>14</th>\n",
              "      <th>15</th>\n",
              "      <th>16</th>\n",
              "      <th>17</th>\n",
              "      <th>18</th>\n",
              "      <th>19</th>\n",
              "      <th>20</th>\n",
              "      <th>21</th>\n",
              "      <th>22</th>\n",
              "      <th>23</th>\n",
              "      <th>24</th>\n",
              "      <th>25</th>\n",
              "      <th>26</th>\n",
              "      <th>27</th>\n",
              "      <th>28</th>\n",
              "      <th>29</th>\n",
              "      <th>30</th>\n",
              "      <th>31</th>\n",
              "      <th>32</th>\n",
              "      <th>33</th>\n",
              "      <th>34</th>\n",
              "      <th>35</th>\n",
              "      <th>36</th>\n",
              "      <th>37</th>\n",
              "      <th>38</th>\n",
              "      <th>39</th>\n",
              "      <th>40</th>\n",
              "      <th>41</th>\n",
              "      <th>42</th>\n",
              "      <th>43</th>\n",
              "      <th>44</th>\n",
              "      <th>45</th>\n",
              "    </tr>\n",
              "  </thead>\n",
              "  <tbody>\n",
              "    <tr>\n",
              "      <th>102</th>\n",
              "      <td>1</td>\n",
              "      <td>1.0</td>\n",
              "      <td>1</td>\n",
              "      <td>0.0</td>\n",
              "      <td>0.0</td>\n",
              "      <td>0.0</td>\n",
              "      <td>0.0</td>\n",
              "      <td>1</td>\n",
              "      <td>0.0</td>\n",
              "      <td>NaN</td>\n",
              "      <td>0.0</td>\n",
              "      <td>0.0</td>\n",
              "      <td>0.0</td>\n",
              "      <td>1.0</td>\n",
              "      <td>0.0</td>\n",
              "      <td>0.0</td>\n",
              "      <td>NaN</td>\n",
              "      <td>1.0</td>\n",
              "      <td>1.0</td>\n",
              "      <td>1.0</td>\n",
              "      <td>0.0</td>\n",
              "      <td>0.0</td>\n",
              "      <td>1.0</td>\n",
              "      <td>64</td>\n",
              "      <td>70.0</td>\n",
              "      <td>NaN</td>\n",
              "      <td>2</td>\n",
              "      <td>1.0</td>\n",
              "      <td>2.0</td>\n",
              "      <td>1.55</td>\n",
              "      <td>5.7</td>\n",
              "      <td>13.9</td>\n",
              "      <td>99.7</td>\n",
              "      <td>5200.0</td>\n",
              "      <td>124000.0</td>\n",
              "      <td>2.1</td>\n",
              "      <td>0.8</td>\n",
              "      <td>37.0</td>\n",
              "      <td>75.0</td>\n",
              "      <td>203.0</td>\n",
              "      <td>110.0</td>\n",
              "      <td>5.0</td>\n",
              "      <td>0.56</td>\n",
              "      <td>3.0</td>\n",
              "      <td>2.4</td>\n",
              "      <td>NaN</td>\n",
              "    </tr>\n",
              "    <tr>\n",
              "      <th>60</th>\n",
              "      <td>1</td>\n",
              "      <td>1.0</td>\n",
              "      <td>0</td>\n",
              "      <td>1.0</td>\n",
              "      <td>0.0</td>\n",
              "      <td>1.0</td>\n",
              "      <td>0.0</td>\n",
              "      <td>1</td>\n",
              "      <td>1.0</td>\n",
              "      <td>1.0</td>\n",
              "      <td>0.0</td>\n",
              "      <td>0.0</td>\n",
              "      <td>0.0</td>\n",
              "      <td>0.0</td>\n",
              "      <td>0.0</td>\n",
              "      <td>0.0</td>\n",
              "      <td>0.0</td>\n",
              "      <td>1.0</td>\n",
              "      <td>1.0</td>\n",
              "      <td>1.0</td>\n",
              "      <td>1.0</td>\n",
              "      <td>0.0</td>\n",
              "      <td>1.0</td>\n",
              "      <td>76</td>\n",
              "      <td>0.0</td>\n",
              "      <td>50.0</td>\n",
              "      <td>1</td>\n",
              "      <td>1.0</td>\n",
              "      <td>3.0</td>\n",
              "      <td>1.28</td>\n",
              "      <td>608.0</td>\n",
              "      <td>12.6</td>\n",
              "      <td>100.0</td>\n",
              "      <td>5.4</td>\n",
              "      <td>129.0</td>\n",
              "      <td>4.0</td>\n",
              "      <td>1.7</td>\n",
              "      <td>107.0</td>\n",
              "      <td>99.0</td>\n",
              "      <td>125.0</td>\n",
              "      <td>100.0</td>\n",
              "      <td>7.5</td>\n",
              "      <td>0.90</td>\n",
              "      <td>5.0</td>\n",
              "      <td>3.5</td>\n",
              "      <td>0.5</td>\n",
              "    </tr>\n",
              "    <tr>\n",
              "      <th>31</th>\n",
              "      <td>1</td>\n",
              "      <td>0.0</td>\n",
              "      <td>1</td>\n",
              "      <td>0.0</td>\n",
              "      <td>NaN</td>\n",
              "      <td>0.0</td>\n",
              "      <td>0.0</td>\n",
              "      <td>1</td>\n",
              "      <td>NaN</td>\n",
              "      <td>1.0</td>\n",
              "      <td>1.0</td>\n",
              "      <td>NaN</td>\n",
              "      <td>0.0</td>\n",
              "      <td>1.0</td>\n",
              "      <td>0.0</td>\n",
              "      <td>0.0</td>\n",
              "      <td>0.0</td>\n",
              "      <td>1.0</td>\n",
              "      <td>1.0</td>\n",
              "      <td>1.0</td>\n",
              "      <td>0.0</td>\n",
              "      <td>0.0</td>\n",
              "      <td>1.0</td>\n",
              "      <td>62</td>\n",
              "      <td>120.0</td>\n",
              "      <td>NaN</td>\n",
              "      <td>0</td>\n",
              "      <td>1.0</td>\n",
              "      <td>1.0</td>\n",
              "      <td>1.44</td>\n",
              "      <td>1237.0</td>\n",
              "      <td>12.2</td>\n",
              "      <td>94.0</td>\n",
              "      <td>6200.0</td>\n",
              "      <td>93000.0</td>\n",
              "      <td>4.2</td>\n",
              "      <td>1.0</td>\n",
              "      <td>35.0</td>\n",
              "      <td>85.0</td>\n",
              "      <td>191.0</td>\n",
              "      <td>129.0</td>\n",
              "      <td>58.0</td>\n",
              "      <td>1.06</td>\n",
              "      <td>5.0</td>\n",
              "      <td>7.0</td>\n",
              "      <td>NaN</td>\n",
              "    </tr>\n",
              "    <tr>\n",
              "      <th>37</th>\n",
              "      <td>1</td>\n",
              "      <td>1.0</td>\n",
              "      <td>1</td>\n",
              "      <td>0.0</td>\n",
              "      <td>0.0</td>\n",
              "      <td>0.0</td>\n",
              "      <td>0.0</td>\n",
              "      <td>1</td>\n",
              "      <td>NaN</td>\n",
              "      <td>1.0</td>\n",
              "      <td>1.0</td>\n",
              "      <td>0.0</td>\n",
              "      <td>NaN</td>\n",
              "      <td>1.0</td>\n",
              "      <td>0.0</td>\n",
              "      <td>0.0</td>\n",
              "      <td>NaN</td>\n",
              "      <td>NaN</td>\n",
              "      <td>0.0</td>\n",
              "      <td>1.0</td>\n",
              "      <td>0.0</td>\n",
              "      <td>0.0</td>\n",
              "      <td>1.0</td>\n",
              "      <td>84</td>\n",
              "      <td>200.0</td>\n",
              "      <td>30.0</td>\n",
              "      <td>1</td>\n",
              "      <td>1.0</td>\n",
              "      <td>2.0</td>\n",
              "      <td>1.24</td>\n",
              "      <td>633.0</td>\n",
              "      <td>13.0</td>\n",
              "      <td>96.5</td>\n",
              "      <td>7200.0</td>\n",
              "      <td>143000.0</td>\n",
              "      <td>2.3</td>\n",
              "      <td>1.1</td>\n",
              "      <td>40.0</td>\n",
              "      <td>58.0</td>\n",
              "      <td>322.0</td>\n",
              "      <td>209.0</td>\n",
              "      <td>6.7</td>\n",
              "      <td>1.40</td>\n",
              "      <td>5.0</td>\n",
              "      <td>4.9</td>\n",
              "      <td>0.2</td>\n",
              "    </tr>\n",
              "    <tr>\n",
              "      <th>33</th>\n",
              "      <td>1</td>\n",
              "      <td>1.0</td>\n",
              "      <td>1</td>\n",
              "      <td>0.0</td>\n",
              "      <td>NaN</td>\n",
              "      <td>0.0</td>\n",
              "      <td>0.0</td>\n",
              "      <td>1</td>\n",
              "      <td>NaN</td>\n",
              "      <td>NaN</td>\n",
              "      <td>0.0</td>\n",
              "      <td>0.0</td>\n",
              "      <td>0.0</td>\n",
              "      <td>1.0</td>\n",
              "      <td>0.0</td>\n",
              "      <td>0.0</td>\n",
              "      <td>NaN</td>\n",
              "      <td>0.0</td>\n",
              "      <td>0.0</td>\n",
              "      <td>0.0</td>\n",
              "      <td>0.0</td>\n",
              "      <td>0.0</td>\n",
              "      <td>1.0</td>\n",
              "      <td>77</td>\n",
              "      <td>NaN</td>\n",
              "      <td>NaN</td>\n",
              "      <td>0</td>\n",
              "      <td>1.0</td>\n",
              "      <td>1.0</td>\n",
              "      <td>1.24</td>\n",
              "      <td>266.0</td>\n",
              "      <td>13.7</td>\n",
              "      <td>97.7</td>\n",
              "      <td>13000.0</td>\n",
              "      <td>170000.0</td>\n",
              "      <td>4.2</td>\n",
              "      <td>0.5</td>\n",
              "      <td>68.0</td>\n",
              "      <td>85.0</td>\n",
              "      <td>232.0</td>\n",
              "      <td>227.0</td>\n",
              "      <td>16.8</td>\n",
              "      <td>1.72</td>\n",
              "      <td>1.0</td>\n",
              "      <td>5.9</td>\n",
              "      <td>NaN</td>\n",
              "    </tr>\n",
              "  </tbody>\n",
              "</table>\n",
              "</div>"
            ],
            "text/plain": [
              "     0    1   2    3    4    5    6   ...     39     40    41    42   43   44   45\n",
              "102   1  1.0   1  0.0  0.0  0.0  0.0  ...  203.0  110.0   5.0  0.56  3.0  2.4  NaN\n",
              "60    1  1.0   0  1.0  0.0  1.0  0.0  ...  125.0  100.0   7.5  0.90  5.0  3.5  0.5\n",
              "31    1  0.0   1  0.0  NaN  0.0  0.0  ...  191.0  129.0  58.0  1.06  5.0  7.0  NaN\n",
              "37    1  1.0   1  0.0  0.0  0.0  0.0  ...  322.0  209.0   6.7  1.40  5.0  4.9  0.2\n",
              "33    1  1.0   1  0.0  NaN  0.0  0.0  ...  232.0  227.0  16.8  1.72  1.0  5.9  NaN\n",
              "\n",
              "[5 rows x 46 columns]"
            ]
          },
          "metadata": {},
          "execution_count": 7
        }
      ]
    },
    {
      "cell_type": "markdown",
      "metadata": {
        "id": "ICISiaQg5IBq"
      },
      "source": [
        "Εφόσον τα features 0-22 είναι categorical επιλέγουμε να τα συμπληρώσουμε με τις πιο συχνές τιμές για κάθε feature στο training set, ενώ την ίδια τιμή συμπληρώνουμε και στο test set, αφού όποια αλλαγή κάνουμε στα δεδομένα μας πρέπει να γίνεται με βάση την επεξεργασία μόνο των δεδομένων στο training set."
      ]
    },
    {
      "cell_type": "markdown",
      "metadata": {
        "id": "A52We-p47SFh"
      },
      "source": [
        "Για τα υπόλοιπα features θα αντικαταστήσουμε τον μέσο όρο των τιμών στο training set."
      ]
    },
    {
      "cell_type": "code",
      "metadata": {
        "id": "wRICCCQX54gN"
      },
      "source": [
        "imp_freq = SimpleImputer(missing_values=np.nan, strategy=\"most_frequent\")\n",
        "imp_mean = SimpleImputer(missing_values=np.nan, strategy=\"mean\")"
      ],
      "execution_count": 8,
      "outputs": []
    },
    {
      "cell_type": "code",
      "metadata": {
        "id": "QSXqwIcx7_ZO"
      },
      "source": [
        "X_train.iloc[:,:23] = imp_freq.fit_transform(X_train.iloc[:,:23])\n",
        "X_train.iloc[:,23:] = imp_mean.fit_transform(X_train.iloc[:,23:])"
      ],
      "execution_count": 9,
      "outputs": []
    },
    {
      "cell_type": "markdown",
      "metadata": {
        "id": "7jQT-IKg5GJN"
      },
      "source": [
        "Επιβεβαιώνουμε πως δεν υπάρχουν πλέον κενά πεδία στο training set."
      ]
    },
    {
      "cell_type": "code",
      "metadata": {
        "colab": {
          "base_uri": "https://localhost:8080/"
        },
        "id": "H9V7-bD99BCl",
        "outputId": "38fe6993-b8ce-490a-e2cc-fa7114f1c17e"
      },
      "source": [
        "X_train.isnull().any().any()"
      ],
      "execution_count": 10,
      "outputs": [
        {
          "output_type": "execute_result",
          "data": {
            "text/plain": [
              "False"
            ]
          },
          "metadata": {},
          "execution_count": 10
        }
      ]
    },
    {
      "cell_type": "markdown",
      "metadata": {
        "id": "g0O19q3B5rLs"
      },
      "source": [
        "Τα κατηγορικά δεδομένα δεν χρειάζεται να τα τροποποιήσουμε με κάποια τεχνική (π.χ. one-hot encoding) διότι ήδη βρίσκονται σε μορφή Ναι-Όχι (με το 1 να αναπαριστά το \"Ναι\" και το 0 το \"Όχι\")."
      ]
    },
    {
      "cell_type": "markdown",
      "metadata": {
        "id": "7kN9LGVQ6mTZ"
      },
      "source": [
        "Επαναλαμβάνουμε με τα δεδομένα του test set χρησιμοποιόντας πληροφορία αποκλειστικά από τα δεδομένα του training set ώστε να μην έχουμε απουσιάζουσες τιμές."
      ]
    },
    {
      "cell_type": "code",
      "metadata": {
        "id": "BvxQUtQ55qo5"
      },
      "source": [
        "X_test.iloc[:,:23] = imp_freq.transform(X_test.iloc[:,:23])\n",
        "X_test.iloc[:,23:] = imp_mean.transform(X_test.iloc[:,23:])"
      ],
      "execution_count": 11,
      "outputs": []
    },
    {
      "cell_type": "markdown",
      "metadata": {
        "id": "xZGAry-G73wE"
      },
      "source": [
        "Ελέγχουμε ξανά για κενά πεδία."
      ]
    },
    {
      "cell_type": "code",
      "metadata": {
        "colab": {
          "base_uri": "https://localhost:8080/"
        },
        "id": "rpzsj9kz73YH",
        "outputId": "0ad43759-28ec-4d86-85c9-359d33bc3597"
      },
      "source": [
        "X_test.isnull().any().any()"
      ],
      "execution_count": 12,
      "outputs": [
        {
          "output_type": "execute_result",
          "data": {
            "text/plain": [
              "False"
            ]
          },
          "metadata": {},
          "execution_count": 12
        }
      ]
    },
    {
      "cell_type": "markdown",
      "metadata": {
        "id": "H8B58JOU8Cmq"
      },
      "source": [
        "### Ταξινόμηση\n",
        "Οι ταξινομητές που θα μελετηθούν είναι οι:\n",
        "* dummy\n",
        "* Gaussian Naive Bayes (GNB)\n",
        "* KNearestNeighbors (kNN)\n",
        "* Logistic Regression (LR)\n",
        "\n",
        "Οι μετρικές αξιολόγησης που θα χρησιμοποιηθούν είναι οι:\n",
        "* Ορθότητα (accuracy)\n",
        "* F1-score\n",
        "\n",
        "Για όλα τα πειράματα θα χρησιμοποιήσουμε 10-fold cross-validation."
      ]
    },
    {
      "cell_type": "markdown",
      "metadata": {
        "id": "EjG-vbY1_U7E"
      },
      "source": [
        "#### Επίδοση out-of-the-box\n",
        "Για να έχουμε μία βάση σύγκρισης θα εκτελέσουμε αρχικά το πείραμα αφήνοντας τις υπερπαραμέτρους των ταξινομητών στις default τιμές τους."
      ]
    },
    {
      "cell_type": "markdown",
      "metadata": {
        "id": "-LvCjrZmBHX3"
      },
      "source": [
        "Αρχικά ορίζουμε τους ταξινομητές."
      ]
    },
    {
      "cell_type": "code",
      "metadata": {
        "id": "A7dy3Ep1_9zx"
      },
      "source": [
        "dummy_stratified = DummyClassifier(strategy=\"stratified\")\n",
        "dummy_most_frequent = DummyClassifier(strategy=\"most_frequent\")\n",
        "dummy_uniform = DummyClassifier(strategy=\"uniform\")\n",
        "dummy_const_0 = DummyClassifier(strategy=\"constant\", constant=0)\n",
        "dummy_const_1 = DummyClassifier(strategy=\"constant\", constant=1)\n",
        "\n",
        "gnb = GaussianNB()\n",
        "knn = KNeighborsClassifier()\n",
        "lr = LogisticRegression()"
      ],
      "execution_count": 13,
      "outputs": []
    },
    {
      "cell_type": "markdown",
      "metadata": {
        "id": "fuDL9HzBBhGj"
      },
      "source": [
        "Στη συνέχεια εκπαιδεύουμε τους ταξινομητές και συγκρίνουμε τα αποτελέσματά τους."
      ]
    },
    {
      "cell_type": "code",
      "metadata": {
        "colab": {
          "base_uri": "https://localhost:8080/"
        },
        "id": "qZOKAhd0CJBe",
        "outputId": "8257ca3f-5584-42ca-edd7-2eebe38a159d"
      },
      "source": [
        "ootb_accuracy = {}\n",
        "\n",
        "dummy_stratified.fit(X_train, y_train)\n",
        "ootb_accuracy[\"Dummy Classifier (stratified)\"] = accuracy_score(y_test, dummy_stratified.predict(X_test))\n",
        "dummy_most_frequent.fit(X_train, y_train)\n",
        "ootb_accuracy[\"Dummy Classifier (most frequent)\"] = accuracy_score(y_test, dummy_most_frequent.predict(X_test))\n",
        "dummy_uniform.fit(X_train, y_train)\n",
        "ootb_accuracy[\"Dummy Classifier (uniform)\"] = accuracy_score(y_test, dummy_uniform.predict(X_test))\n",
        "dummy_const_0.fit(X_train, y_train)\n",
        "ootb_accuracy[\"Dummy Classifier (constant 0)\"] = accuracy_score(y_test, dummy_const_0.predict(X_test))\n",
        "dummy_const_1.fit(X_train, y_train)\n",
        "ootb_accuracy[\"Dummy Classifier (constant 1)\"] = accuracy_score(y_test, dummy_const_1.predict(X_test))\n",
        "\n",
        "gnb.fit(X_train, y_train)\n",
        "ootb_accuracy[\"Gaussian Naive-Bayes\"] = accuracy_score(y_test, gnb.predict(X_test))\n",
        "knn.fit(X_train, y_train)\n",
        "ootb_accuracy[\"K Nearest Neighbors\"] = accuracy_score(y_test, knn.predict(X_test))\n",
        "lr.fit(X_train, y_train)\n",
        "ootb_accuracy[\"Logistic Regression\"] = accuracy_score(y_test, lr.predict(X_test))"
      ],
      "execution_count": 14,
      "outputs": [
        {
          "output_type": "stream",
          "name": "stderr",
          "text": [
            "/usr/local/lib/python3.7/dist-packages/sklearn/linear_model/_logistic.py:818: ConvergenceWarning: lbfgs failed to converge (status=1):\n",
            "STOP: TOTAL NO. of ITERATIONS REACHED LIMIT.\n",
            "\n",
            "Increase the number of iterations (max_iter) or scale the data as shown in:\n",
            "    https://scikit-learn.org/stable/modules/preprocessing.html\n",
            "Please also refer to the documentation for alternative solver options:\n",
            "    https://scikit-learn.org/stable/modules/linear_model.html#logistic-regression\n",
            "  extra_warning_msg=_LOGISTIC_SOLVER_CONVERGENCE_MSG,\n"
          ]
        }
      ]
    },
    {
      "cell_type": "markdown",
      "metadata": {
        "id": "9jtRvPRlweUg"
      },
      "source": [
        "Παρατηρούμε πως ο ταξινομητής logistic regression δεν συγκλίνει κατά την εκπαίδευσή του στην out-of-the-box έκδοσή του."
      ]
    },
    {
      "cell_type": "code",
      "metadata": {
        "colab": {
          "base_uri": "https://localhost:8080/",
          "height": 301
        },
        "id": "-1i5hqwmHliw",
        "outputId": "5afc89dd-15b7-450a-a9c0-bdaeb0eed839"
      },
      "source": [
        "sorted_accuracy = [(k, ootb_accuracy[k]) for k in sorted(ootb_accuracy, key=ootb_accuracy.get, reverse=True)]\n",
        "acc_df = pd.DataFrame.from_dict(sorted_accuracy)\n",
        "\n",
        "sns.set_theme(style=\"whitegrid\")\n",
        "sns.barplot(y=acc_df.iloc[:,0], x=acc_df.iloc[:,1], data=acc_df)\n",
        "plt.xlabel(\"Accuracy\")\n",
        "plt.ylabel(\"Estimator\")\n",
        "plt.title(\"Accuracy scores for out-of-the-box estimators (30% test set)\")\n",
        "plt.show()"
      ],
      "execution_count": 15,
      "outputs": [
        {
          "output_type": "display_data",
          "data": {
            "image/png": "[encoded data removed]",
            "text/plain": [
              "<Figure size 432x288 with 1 Axes>"
            ]
          },
          "metadata": {}
        }
      ]
    },
    {
      "cell_type": "code",
      "metadata": {
        "colab": {
          "base_uri": "https://localhost:8080/"
        },
        "id": "m1atL1ZSKUOw",
        "outputId": "6aff725a-2d81-4ac8-9aca-dbfff0aba255"
      },
      "source": [
        "ootb_f1 = {}\n",
        "\n",
        "dummy_stratified.fit(X_train, y_train)\n",
        "ootb_f1[\"Dummy Classifier (stratified)\"] = f1_score(y_test, dummy_stratified.predict(X_test))\n",
        "dummy_most_frequent.fit(X_train, y_train)\n",
        "ootb_f1[\"Dummy Classifier (most frequent)\"] = f1_score(y_test, dummy_most_frequent.predict(X_test))\n",
        "dummy_uniform.fit(X_train, y_train)\n",
        "ootb_f1[\"Dummy Classifier (uniform)\"] = f1_score(y_test, dummy_uniform.predict(X_test))\n",
        "dummy_const_0.fit(X_train, y_train)\n",
        "ootb_f1[\"Dummy Classifier (constant 0)\"] = f1_score(y_test, dummy_const_0.predict(X_test))\n",
        "dummy_const_1.fit(X_train, y_train)\n",
        "ootb_f1[\"Dummy Classifier (constant 1)\"] = f1_score(y_test, dummy_const_1.predict(X_test))\n",
        "\n",
        "gnb.fit(X_train, y_train)\n",
        "ootb_f1[\"Gaussian Naive-Bayes\"] = f1_score(y_test, gnb.predict(X_test))\n",
        "knn.fit(X_train, y_train)\n",
        "ootb_f1[\"K Nearest Neighbors\"] = f1_score(y_test, knn.predict(X_test))\n",
        "lr.fit(X_train, y_train)\n",
        "ootb_f1[\"Logistic Regression\"] = f1_score(y_test, lr.predict(X_test))"
      ],
      "execution_count": 16,
      "outputs": [
        {
          "output_type": "stream",
          "name": "stderr",
          "text": [
            "/usr/local/lib/python3.7/dist-packages/sklearn/linear_model/_logistic.py:818: ConvergenceWarning: lbfgs failed to converge (status=1):\n",
            "STOP: TOTAL NO. of ITERATIONS REACHED LIMIT.\n",
            "\n",
            "Increase the number of iterations (max_iter) or scale the data as shown in:\n",
            "    https://scikit-learn.org/stable/modules/preprocessing.html\n",
            "Please also refer to the documentation for alternative solver options:\n",
            "    https://scikit-learn.org/stable/modules/linear_model.html#logistic-regression\n",
            "  extra_warning_msg=_LOGISTIC_SOLVER_CONVERGENCE_MSG,\n"
          ]
        }
      ]
    },
    {
      "cell_type": "markdown",
      "metadata": {
        "id": "oVn0Bd0kwqUm"
      },
      "source": [
        "Ξανά, ο logistic regression δεν καταφέρει να συγκλίνει στην εκπαίδευσή του."
      ]
    },
    {
      "cell_type": "code",
      "metadata": {
        "colab": {
          "base_uri": "https://localhost:8080/",
          "height": 301
        },
        "id": "hnvmAbf0KXTQ",
        "outputId": "8178affc-2c56-44f2-dcc2-ca153c0a385d"
      },
      "source": [
        "sorted_f1 = [(k, ootb_f1[k]) for k in sorted(ootb_f1, key=ootb_f1.get, reverse=True)]\n",
        "f1_df = pd.DataFrame.from_dict(sorted_f1)\n",
        "\n",
        "sns.set_theme(style=\"whitegrid\")\n",
        "sns.barplot(y=f1_df.iloc[:,0], x=f1_df.iloc[:,1], data=f1_df)\n",
        "plt.xlabel(\"F1 score\")\n",
        "plt.ylabel(\"Estimator\")\n",
        "plt.title(\"F1 scores for out-of-the-box estimators (30% test set)\")\n",
        "plt.show()"
      ],
      "execution_count": 17,
      "outputs": [
        {
          "output_type": "display_data",
          "data": {
            "image/png": "[encoded data removed]",
            "text/plain": [
              "<Figure size 432x288 with 1 Axes>"
            ]
          },
          "metadata": {}
        }
      ]
    },
    {
      "cell_type": "code",
      "metadata": {
        "colab": {
          "base_uri": "https://localhost:8080/"
        },
        "id": "d4VBLez3JFXO",
        "outputId": "1117f4fc-7c09-4c12-a9eb-7513dc5c8307"
      },
      "source": [
        "print(ootb_accuracy)\n",
        "print(ootb_f1)"
      ],
      "execution_count": 18,
      "outputs": [
        {
          "output_type": "stream",
          "name": "stdout",
          "text": [
            "{'Dummy Classifier (stratified)': 0.46, 'Dummy Classifier (most frequent)': 0.54, 'Dummy Classifier (uniform)': 0.6, 'Dummy Classifier (constant 0)': 0.46, 'Dummy Classifier (constant 1)': 0.54, 'Gaussian Naive-Bayes': 0.68, 'K Nearest Neighbors': 0.6, 'Logistic Regression': 0.64}\n",
            "{'Dummy Classifier (stratified)': 0.5454545454545454, 'Dummy Classifier (most frequent)': 0.7012987012987013, 'Dummy Classifier (uniform)': 0.49056603773584906, 'Dummy Classifier (constant 0)': 0.0, 'Dummy Classifier (constant 1)': 0.7012987012987013, 'Gaussian Naive-Bayes': 0.7419354838709677, 'K Nearest Neighbors': 0.7142857142857142, 'Logistic Regression': 0.7187499999999999}\n"
          ]
        }
      ]
    },
    {
      "cell_type": "markdown",
      "metadata": {
        "id": "99HKwwnBJ8fG"
      },
      "source": [
        "|       Classifier      | Accuracy | F1 score |\n",
        "|:---------------------:|:--------:|:--------:|\n",
        "| Dummy (most frequent) |   0.54   |   0.70   |\n",
        "|   Dummy (constant 1)  |   0.54   |   0.70   |\n",
        "|   Dummy (stratified)  |   0.46   |   0.55   |\n",
        "|    Dummy (uniform)    |   0.60   |   0.49   |\n",
        "|   Dummy (constant 0)  |   0.46   |   0.00   |\n",
        "|  Logistic Regression  |   0.64   |   0.74   |\n",
        "|  Gaussian Naive-Bayes |   0.68   |   0.74   |\n",
        "|  K Nearest Neighbors  |   0.60   |   0.71   |"
      ]
    },
    {
      "cell_type": "markdown",
      "metadata": {
        "id": "_MCmH8vcH0iV"
      },
      "source": [
        "Παρατηρούμε πως οι ταξινομητές δεν έχουν ιδιαίτερα καλή επίδοση, καθώς οι dummy ταξινομητές uniform και most frequent έχουν αρκετά υψηλές επιδόσεις, συγκρίσιμες με αυτές των ταξινομητών που μελετάμε. Οι καλές επιδόσεις των dummy ταξινομητών οφείλονται στο έντονο class imbalance που εμφανίζεται στο dataset."
      ]
    },
    {
      "cell_type": "markdown",
      "metadata": {
        "id": "VGbUu6QGM9Ei"
      },
      "source": [
        "Από τους ταξινομητές, εξαιρώντας τους dummy, τις καλύτερες επιδόσεις και στις δύο μετρικές έχει ο Gaussian Naive-Bayes, ενώ αυτός με τις χειρότερες επιδόσεις είναι ο K Nearest Neighbors. "
      ]
    },
    {
      "cell_type": "markdown",
      "metadata": {
        "id": "Ox5TaGeMvU_q"
      },
      "source": [
        "#### Βελτιστοποίηση"
      ]
    },
    {
      "cell_type": "markdown",
      "metadata": {
        "id": "QEAQ2EHlpc4_"
      },
      "source": [
        "Σκοπός αυτής της ενότητας είναι η βελτίωση της επίδοσης των ταξινομητών με χρήση των διαδικασιών προεπεξεργασίας, ορισμού pipelines και εύρεσης βέλτιστων υπερπαραμέτρων με grid search με cross validation."
      ]
    },
    {
      "cell_type": "markdown",
      "metadata": {
        "id": "DO1mib7lsEAo"
      },
      "source": [
        "Στο στάδιο της προεπεξεργασίας έχουμε να αντιμετωπίσουμε τα προβλήματα της υψηλής διαστατικότητας, των outliers και του class imbalance. \n",
        "* Ξεκινώντας από το πρώτο, μπορούμε να μειώσουμε τις διαστάσεις των δεδομένων μας αρχικά ορίζοντας κάποιο threshold του variance κάθε χαρακτηριστικού, καθώς χαρακτηριστικά με μικρό variance συνήθως δεν συμβάλλουν σημαντικά στην ταξινόμηση. Επιπλέον, με εξαγωγή κύριων συνιστωσών (PCA) μπορούμε να μειώσουμε ακόμα περισσότερο το πλήθος των χαρακτηριστικών.\n",
        "* Βελτίωση των επιδόσεων των συστημάτων ταξινόμησης μπορούμε να επιτύχουμε και μέσω της κανονικοποίησης των τιμών των χαρακτηριστικών.\n",
        "* Τέλος, το πρόβλημα του class imbalance μπορεί να βελτιωθεί μέσω του oversampling (αποφεύγουμε το undersampling λόγω των λίγων δειγμάτων του dataset)."
      ]
    },
    {
      "cell_type": "markdown",
      "metadata": {
        "id": "LXiV7-mtvX5v"
      },
      "source": [
        "Στο επόμενο στάδιο ορίζουμε pipelines από τα οποία περνάνε τα δεδομένα για να εισέλθουν στους ταξινομητές και στα οποία εκτελούμε τις εργασίες που αναφέραμε παραπάνω στο στάδιο προεπεξεργασίας."
      ]
    },
    {
      "cell_type": "markdown",
      "metadata": {
        "id": "Dl_WdAK1vvR8"
      },
      "source": [
        "Τέλος, με χρήση του grid search cross validation επιλέγουμε τις καλύτερες τιμές για τις υπερπαραμέτρους του pipeline. "
      ]
    },
    {
      "cell_type": "markdown",
      "metadata": {
        "id": "jwhi8cR-06Ox"
      },
      "source": [
        "##### F1 score\n",
        "Αρχικά θα αξιολογήσουμε την επίδοση των μοντέλων με τη μετρική f1."
      ]
    },
    {
      "cell_type": "markdown",
      "metadata": {
        "id": "wUL2jtYEw2RT"
      },
      "source": [
        "Αρχικά, εκτελούμε τη διαδικασία βελτιστοποίησης στον ταξινομητή kNN, όπου και ελέγχουμε ένα πλήθος τιμών για τις παραμέτρους threshold του VarianceThreshold(), n_neighbors του KNeighborsClassifier() και n_components του PCA().<br>\n",
        "Επιπλέον, δοκιμάσαμε να κάνουμε χρήση των μετασχηματιστών MinMaxScaler() και StandardScaler() και βρήκαμε πως με τον πρώτο επιτυγχάνουμε καλύτερα αποτελέσματα στο training set.<br>\n",
        "Τέλος, δοκιμάσαμε να αφαιρέσουμε βήματα από το pipeline, όμως η επίδοση του ταξινομητή στο training set μειωνόταν."
      ]
    },
    {
      "cell_type": "code",
      "metadata": {
        "id": "U0Yz1FHU8Ec_",
        "colab": {
          "base_uri": "https://localhost:8080/"
        },
        "outputId": "952ca819-bd03-43c5-84c7-1604a47245ce"
      },
      "source": [
        "vthreshold = [0, 0.01, 0.1, 1, 10]\n",
        "k = [1, 5, 10, 20, 25, 30, 35, 50]\n",
        "n_components = [2, 4, 5, 7, 10]\n",
        "\n",
        "scaler_knn = MinMaxScaler()\n",
        "selector_knn = VarianceThreshold()\n",
        "ros_knn = RandomOverSampler()\n",
        "pca_knn = PCA()\n",
        "knn = KNeighborsClassifier()\n",
        "\n",
        "pipe_knn = Pipeline(\n",
        "    steps=[\n",
        "           ('selector', selector_knn),\n",
        "           ('scaler', scaler_knn),\n",
        "           ('sampler', ros_knn),\n",
        "           ('pca', pca_knn),\n",
        "           ('knn', knn)\n",
        "           ], \n",
        "    memory='tmp')\n",
        "estimator_knn_f1 = GridSearchCV(pipe_knn, \n",
        "                             dict(\n",
        "                                  selector__threshold=vthreshold, \n",
        "                                  knn__n_neighbors=k,\n",
        "                                  pca__n_components=n_components,\n",
        "                                  ), \n",
        "                             cv=10, \n",
        "                             scoring='f1', \n",
        "                             n_jobs=-1)\n",
        "\n",
        "start_time = time.time()\n",
        "estimator_knn_f1.fit(X_train, y_train)\n",
        "preds_knn = estimator_knn_f1.predict(X_test)\n",
        "print(\"Συνολικός χρόνος fit και predict για kNN με μετρική f1 score: {:.2f} seconds\".format(time.time() - start_time))\n",
        "\n",
        "print(\"Βέλτιστες παράμετροι:\",estimator_knn_f1.best_params_)\n",
        "print(\"Το καλύτερο f1 score του ταξινομητή ήταν {:.3f} στο training set\".format(estimator_knn_f1.best_score_))"
      ],
      "execution_count": 91,
      "outputs": [
        {
          "output_type": "stream",
          "name": "stdout",
          "text": [
            "Συνολικός χρόνος fit και predict για kNN με μετρική f1 score: 31.12 seconds\n",
            "Βέλτιστες παράμετροι: {'knn__n_neighbors': 50, 'pca__n_components': 7, 'selector__threshold': 1}\n",
            "Το καλύτερο f1 score του ταξινομητή ήταν 0.795 στο training set\n"
          ]
        }
      ]
    },
    {
      "cell_type": "markdown",
      "metadata": {
        "id": "wWlwHF6Ox2dl"
      },
      "source": [
        "Επαναλαμβάνουμε την ίδια διαδικασία για τον ταξινομητή GNB με τη διαφορά πως αντί να μεταβάλλουμε την τιμή n_neighbors αλλάζουμε την τιμή της υπερπαραμέτρου var_smoothing του GaussianNB().<br>\n",
        "Όμοια με πριν δοκιμάσαμε τόσο τον MinMaxScaler() όσο και τον StandardScaler() και με τον δεύτερο πετύχαμε καλύτερα αποτελέσματα, ενώ επίσης δοκιμάσαμε να αφαιρέσουμε βήματα από το pipeline χωρίς να βελτιώσουμε την επίδοση του ταξινομητή στο training set."
      ]
    },
    {
      "cell_type": "code",
      "metadata": {
        "colab": {
          "base_uri": "https://localhost:8080/"
        },
        "id": "I4dQh-e_4ucG",
        "outputId": "1be77270-30d6-482d-9f87-5258ce85c72d"
      },
      "source": [
        "vthreshold = [0, 0.01, 0.1, 1, 10]\n",
        "var_smoothing = [0, 1e-13, 1e-11, 1e-9, 1e-8]\n",
        "n_components = [2, 4, 5, 7, 10]\n",
        "\n",
        "scaler_gnb = StandardScaler()\n",
        "selector_gnb = VarianceThreshold()\n",
        "ros_gnb = RandomOverSampler()\n",
        "pca_gnb = PCA()\n",
        "gnb = GaussianNB()\n",
        "\n",
        "pipe_gnb = Pipeline(\n",
        "    steps=[\n",
        "           ('selector', selector_gnb),\n",
        "           ('scaler', scaler_gnb),\n",
        "           ('sampler', ros_gnb),\n",
        "           ('pca', pca_gnb),\n",
        "           ('gnb', gnb)\n",
        "           ], \n",
        "    memory='tmp')\n",
        "estimator_gnb_f1 = GridSearchCV(pipe_gnb, \n",
        "                             dict(\n",
        "                                  selector__threshold=vthreshold, \n",
        "                                  gnb__var_smoothing=var_smoothing,\n",
        "                                  pca__n_components=n_components,\n",
        "                                  ), \n",
        "                             cv=10, \n",
        "                             scoring='f1', \n",
        "                             n_jobs=-1)\n",
        "\n",
        "start_time = time.time()\n",
        "estimator_gnb_f1.fit(X_train, y_train)\n",
        "preds_gnb = estimator_gnb_f1.predict(X_test)\n",
        "print(\"Συνολικός χρόνος fit και predict για GNB με μετρική f1 score: {:.2f} seconds\".format(time.time() - start_time))\n",
        "\n",
        "print(\"Βέλτιστες παράμετροι:\",estimator_gnb_f1.best_params_)\n",
        "print(\"Το καλύτερο f1 score του ταξινομητή ήταν {:.3f} στο training set\".format(estimator_gnb_f1.best_score_))"
      ],
      "execution_count": 92,
      "outputs": [
        {
          "output_type": "stream",
          "name": "stdout",
          "text": [
            "Συνολικός χρόνος fit και predict για GNB με μετρική f1 score: 17.78 seconds\n",
            "Βέλτιστες παράμετροι: {'gnb__var_smoothing': 0, 'pca__n_components': 2, 'selector__threshold': 0.01}\n",
            "Το καλύτερο f1 score του ταξινομητή ήταν 0.792 στο training set\n"
          ]
        }
      ]
    },
    {
      "cell_type": "markdown",
      "metadata": {
        "id": "daSnTDAQzADo"
      },
      "source": [
        "Τέλος, επαναλαμβάνουμε για τον LR ψάχνοντας για τις καλύτερες τιμές στις υπερπαραμέτρους pen, tol, C, fit_intercept και max_iter του LogisticRegressor().<br>\n",
        "Ο scaler με την καλύτερη επίδοση εδώ είναι ο StandardScaler(), ενώ πάλι δεν είδαμε βελτίωση με την αφαίρεση βημάτων από το pipeline."
      ]
    },
    {
      "cell_type": "code",
      "metadata": {
        "colab": {
          "base_uri": "https://localhost:8080/"
        },
        "id": "fJp6a3-B7f9s",
        "outputId": "e05788c4-8baf-407c-bcef-272976a62136"
      },
      "source": [
        "vthreshold = [0, 0.1, 1]\n",
        "n_components = [2, 5, 7, 10]\n",
        "pen = ['l1', 'l2']\n",
        "tol = [1e-8, 1e-6, 1e-4, 1e-3]\n",
        "C = [0.5, 1.0, 1.5, 2.0, 2.5]\n",
        "fit_intercept = [True, False]\n",
        "max_iter = [50, 100, 200]\n",
        "\n",
        "scaler_lr = StandardScaler()\n",
        "selector_lr = VarianceThreshold()\n",
        "ros_lr = RandomOverSampler()\n",
        "pca_lr = PCA()\n",
        "lr = LogisticRegression()\n",
        "\n",
        "pipe_lr = Pipeline(\n",
        "    steps=[\n",
        "           ('selector', selector_lr),\n",
        "           ('scaler', scaler_lr),\n",
        "           ('sampler', ros_lr),\n",
        "           ('pca', pca_lr),\n",
        "           ('lr', lr)\n",
        "           ], \n",
        "    memory='tmp')\n",
        "estimator_lr_f1 = GridSearchCV(pipe_lr, \n",
        "                             dict(\n",
        "                                  selector__threshold=vthreshold,\n",
        "                                  pca__n_components=n_components,\n",
        "                                  lr__penalty=pen,\n",
        "                                  lr__tol=tol,\n",
        "                                  lr__C=C,\n",
        "                                  lr__fit_intercept=fit_intercept,\n",
        "                                  lr__max_iter=max_iter,\n",
        "                                  lr__solver=['liblinear']\n",
        "                                  ), \n",
        "                             cv=10, \n",
        "                             scoring='f1', \n",
        "                             n_jobs=-1)\n",
        "\n",
        "start_time = time.time()\n",
        "estimator_lr_f1.fit(X_train, y_train)\n",
        "preds_lr = estimator_lr_f1.predict(X_test)\n",
        "print(\"Συνολικός χρόνος fit και predict για LR με μετρική f1 score: {:.2f} seconds\".format(time.time() - start_time))\n",
        "\n",
        "print(\"Βέλτιστες παράμετροι:\",estimator_lr_f1.best_params_)\n",
        "print(\"Το καλύτερο f1 score του ταξινομητή ήταν {:.3f} στο training set\".format(estimator_lr_f1.best_score_))"
      ],
      "execution_count": 93,
      "outputs": [
        {
          "output_type": "stream",
          "name": "stdout",
          "text": [
            "Συνολικός χρόνος fit και predict για LR με μετρική f1 score: 428.07 seconds\n",
            "Βέλτιστες παράμετροι: {'lr__C': 0.5, 'lr__fit_intercept': True, 'lr__max_iter': 50, 'lr__penalty': 'l2', 'lr__solver': 'liblinear', 'lr__tol': 1e-08, 'pca__n_components': 10, 'selector__threshold': 0.1}\n",
            "Το καλύτερο f1 score του ταξινομητή ήταν 0.770 στο training set\n"
          ]
        }
      ]
    },
    {
      "cell_type": "markdown",
      "metadata": {
        "id": "Gqfz-W_xzjDt"
      },
      "source": [
        "Εκπαιδεύουμε για κάθε ταξινομητή το μοντέλο με τις καλύτερες επιδόσεις σε ολόκληρο το training set και υπολογίζουμε το f1 score του στο test set ώστε να το συγκρίνουμε με το αντίστοιχο out-of-the-box μοντέλο. "
      ]
    },
    {
      "cell_type": "code",
      "metadata": {
        "id": "bIRf9wy7K_qV"
      },
      "source": [
        "knn_best_f1 = estimator_knn_f1.best_estimator_\n",
        "gnb_best_f1 = estimator_gnb_f1.best_estimator_\n",
        "lr_best_f1 = estimator_lr_f1.best_estimator_\n",
        "\n",
        "start_train_time_knn = time.time()\n",
        "knn_best_f1.fit(X_train, y_train)\n",
        "train_time_knn = time.time() - start_train_time_knn\n",
        "start_test_time_knn = time.time()\n",
        "knn_f1 = f1_score(y_test, knn_best_f1.predict(X_test))\n",
        "test_time_knn = time.time() - start_test_time_knn\n",
        "\n",
        "start_train_time_gnb = time.time()\n",
        "gnb_best_f1.fit(X_train, y_train)\n",
        "train_time_gnb = time.time() - start_train_time_gnb\n",
        "start_test_time_gnb = time.time()\n",
        "gnb_f1 = f1_score(y_test, gnb_best_f1.predict(X_test))\n",
        "test_time_gnb = time.time() - start_test_time_gnb\n",
        "\n",
        "start_train_time_lr = time.time()\n",
        "lr_best_f1.fit(X_train, y_train)\n",
        "train_time_lr = time.time() - start_train_time_lr\n",
        "start_test_time_lr = time.time()\n",
        "lr_f1 = f1_score(y_test, lr_best_f1.predict(X_test))\n",
        "test_time_lr = time.time() - start_test_time_lr\n",
        "\n",
        "optimized_f1 = {}\n",
        "optimized_f1[\"K Nearest Neighbors\"] = knn_f1\n",
        "optimized_f1[\"Gaussian Naive-Bayes\"] = gnb_f1\n",
        "optimized_f1[\"Logistic Regression\"] = lr_f1\n",
        "\n",
        "baseline_f1 = {}\n",
        "baseline_f1[\"K Nearest Neighbors\"] = ootb_f1[\"K Nearest Neighbors\"]\n",
        "baseline_f1[\"Gaussian Naive-Bayes\"] = ootb_f1[\"Gaussian Naive-Bayes\"]\n",
        "baseline_f1[\"Logistic Regression\"] = ootb_f1[\"Logistic Regression\"]"
      ],
      "execution_count": 114,
      "outputs": []
    },
    {
      "cell_type": "code",
      "metadata": {
        "colab": {
          "base_uri": "https://localhost:8080/",
          "height": 301
        },
        "id": "fU4CxtGPrZa5",
        "outputId": "a03009c2-1699-4078-9705-17fe56cde335"
      },
      "source": [
        "xax = np.arange(len(optimized_f1))\n",
        "ax = plt.subplot(111)\n",
        "ax.bar(xax, optimized_f1.values(), width=0.2, color='b', align='center')\n",
        "ax.bar(xax-0.2, baseline_f1.values(), width=0.2, color='g', align='center')\n",
        "ax.legend(('Optimized f1','Baseline f1'))\n",
        "plt.xticks(xax, optimized_f1.keys())\n",
        "plt.ylabel(\"F1 score\")\n",
        "plt.xlabel(\"Estimators\")\n",
        "plt.title(\"F1 scores for estimators (30% test set)\")\n",
        "ax.set_ylim([0, 1])\n",
        "plt.show()"
      ],
      "execution_count": 95,
      "outputs": [
        {
          "output_type": "display_data",
          "data": {
            "image/png": "[encoded data removed]",
            "text/plain": [
              "<Figure size 432x288 with 1 Axes>"
            ]
          },
          "metadata": {}
        }
      ]
    },
    {
      "cell_type": "code",
      "metadata": {
        "colab": {
          "base_uri": "https://localhost:8080/"
        },
        "id": "2Ae6Mpb11Xca",
        "outputId": "92c254e4-ff83-4369-c796-c5ab07093c89"
      },
      "source": [
        "print(\"Αρχικές επιδόσεις:\", baseline_f1)\n",
        "print(\"Επιδόσεις βελτιστοποιημένων ταξινομητών:\", optimized_f1)\n",
        "print(\"kNN train time {:.2f} ms\".format(train_time_knn*1000))\n",
        "print(\"kNN test time {:.2f} ms\".format(test_time_knn*1000))\n",
        "print(\"GNB train time {:.2f} ms\".format(train_time_gnb*1000))\n",
        "print(\"GNB test time {:.2f} ms\".format(test_time_gnb*1000))\n",
        "print(\"LR train time {:.2f} ms\".format(train_time_lr*1000))\n",
        "print(\"LR test time {:.2f} ms\".format(test_time_lr*1000))"
      ],
      "execution_count": 96,
      "outputs": [
        {
          "output_type": "stream",
          "name": "stdout",
          "text": [
            "Αρχικές επιδόσεις: {'K Nearest Neighbors': 0.7142857142857142, 'Gaussian Naive-Bayes': 0.7419354838709677, 'Logistic Regression': 0.7187499999999999}\n",
            "Επιδόσεις βελτιστοποιημένων ταξινομητών: {'K Nearest Neighbors': 0.7428571428571429, 'Gaussian Naive-Bayes': 0.7213114754098361, 'Logistic Regression': 0.7547169811320754}\n",
            "kNN train time 24.52 ms\n",
            "kNN test time 10.96 ms\n",
            "GNB train time 15.63 ms\n",
            "GNB test time 4.10 ms\n",
            "LR train time 22.07 ms\n",
            "LR test time 5.22 ms\n"
          ]
        }
      ]
    },
    {
      "cell_type": "markdown",
      "metadata": {
        "id": "rbMb8fdU-m6X"
      },
      "source": [
        "| Classifier           | Best F1 score (training set) | F1 score (baseline) | F1 score (optimized) | Optimization time (sec) | Train time (ms) | Test time (ms) |\n",
        "|----------------------|------------------------------|---------------------|----------------------|-------------------------|-----------------|----------------|\n",
        "| K Nearest Neighbors  | 79.5%                        | 71.4%                 | 74.3%                | 31.12                   | 24.52           | 10.96          |\n",
        "| Gaussian Naive-Bayes | 79.2%                        | 74.2%               | 72.1%                | 17.78                   | 15.63           | 4.10           |\n",
        "| Logistic Regression  | 77.0%                        | 71.9%               | 75.5%                | 428.07                  | 22.07           | 5.22           |"
      ]
    },
    {
      "cell_type": "markdown",
      "metadata": {
        "id": "__3AuwUS-oFn"
      },
      "source": [
        "Παρατηρούμε πως στους ταξινομητές kNN και LR έχουμε μία μικρή αύξηση της μετρικής f1 έναντι των out-of-the-box εκδόσεών τους, ενώ ο GNB χειροτερεύει την απόδοσή του. Ο χρόνος που καταλαμβάνει η βελτιστοποίηση στον LR είναι εξαιρετικά μεγαλύτερος από τους άλλους δύο ταξινομητές, τόσο λόγω του τρόπου που αυτός λειτουργεί, όσο και λόγω του μεγαλύτερου πλήθους παραμέτρων που λαμβάνει. Ο χρόνος train και test είναι αρκετά κοντά για όλους τους ταξινομητές, το οποίο οφείλεται στο μικρό μέγεθος του dataset. Η βελτίωση στο f1 score δεν δικαιολογεί τον χρόνο του optimization, αφού ο GNB πετυχαίνει 74.2% πριν το optimization, με την καλύτερη τιμή μετά από αυτό να την πετυχαίνουμε με τον LR με 75.5% με optimization που διαρκεί 428 sec. Τέλος, με βάση τη μετρική f1 δεν έχουμε ξεκάθαρο νικητή, αφού τα αποτελέσματά τους βρίσκονται αρκετά κοντά μετά την βελτιστοποίηση."
      ]
    },
    {
      "cell_type": "markdown",
      "metadata": {
        "id": "cGsr9_OpMqVa"
      },
      "source": [
        "##### Accuracy\n",
        "Επαναλαμβάνουμε την ίδια ακριβώς διαδικασία χρησιμοποιώντας τη μετρική accuracy για την αξιολόγηση του μοντέλου."
      ]
    },
    {
      "cell_type": "code",
      "metadata": {
        "colab": {
          "base_uri": "https://localhost:8080/"
        },
        "id": "cH6IoD4BMxtV",
        "outputId": "09628479-b176-4393-c6dc-ada9152441ef"
      },
      "source": [
        "vthreshold = [0, 0.01, 0.1, 1, 10]\n",
        "k = [1, 5, 10, 20, 25, 30, 35, 50]\n",
        "n_components = [2, 4, 5, 7, 10]\n",
        "\n",
        "scaler_knn = MinMaxScaler()\n",
        "selector_knn = VarianceThreshold()\n",
        "ros_knn = RandomOverSampler()\n",
        "pca_knn = PCA()\n",
        "knn = KNeighborsClassifier()\n",
        "\n",
        "pipe_knn = Pipeline(\n",
        "    steps=[\n",
        "           ('selector', selector_knn),\n",
        "           ('scaler', scaler_knn),\n",
        "           ('sampler', ros_knn),\n",
        "           ('pca', pca_knn),\n",
        "           ('knn', knn)\n",
        "           ], \n",
        "    memory='tmp')\n",
        "estimator_knn_acc = GridSearchCV(pipe_knn, \n",
        "                             dict(\n",
        "                                  selector__threshold=vthreshold, \n",
        "                                  knn__n_neighbors=k,\n",
        "                                  pca__n_components=n_components,\n",
        "                                  ), \n",
        "                             cv=10, \n",
        "                             scoring='accuracy', \n",
        "                             n_jobs=-1)\n",
        "\n",
        "start_time = time.time()\n",
        "estimator_knn_acc.fit(X_train, y_train)\n",
        "preds_knn = estimator_knn_acc.predict(X_test)\n",
        "\n",
        "print(\"Συνολικός χρόνος fit και predict για kNN με μετρική accuracy: {:.2f} seconds\".format(time.time() - start_time))\n",
        "\n",
        "print(\"Βέλτιστες παράμετροι:\",estimator_knn_acc.best_params_)\n",
        "print(\"Το καλύτερο accuracy του ταξινομητή ήταν {:.3f} στο training set\".format(estimator_knn_acc.best_score_))"
      ],
      "execution_count": 103,
      "outputs": [
        {
          "output_type": "stream",
          "name": "stdout",
          "text": [
            "Συνολικός χρόνος fit και predict για kNN με μετρική accuracy: 29.00 seconds\n",
            "Βέλτιστες παράμετροι: {'knn__n_neighbors': 35, 'pca__n_components': 4, 'selector__threshold': 1}\n",
            "Το καλύτερο accuracy του ταξινομητή ήταν 0.722 στο training set\n"
          ]
        }
      ]
    },
    {
      "cell_type": "code",
      "metadata": {
        "colab": {
          "base_uri": "https://localhost:8080/"
        },
        "id": "Xc_OJOKUM1MD",
        "outputId": "f3fa286f-4ffb-4ed8-ed57-03ec17187d5d"
      },
      "source": [
        "vthreshold = [0, 0.01, 0.1, 1, 10]\n",
        "var_smoothing = [0, 1e-13, 1e-11, 1e-9, 1e-8]\n",
        "n_components = [2, 4, 5, 7, 10]\n",
        "\n",
        "scaler_gnb = StandardScaler()\n",
        "selector_gnb = VarianceThreshold()\n",
        "ros_gnb = RandomOverSampler()\n",
        "pca_gnb = PCA()\n",
        "gnb = GaussianNB()\n",
        "\n",
        "pipe_gnb = Pipeline(\n",
        "    steps=[\n",
        "           ('selector', selector_gnb),\n",
        "           ('scaler', scaler_gnb),\n",
        "           ('sampler', ros_gnb),\n",
        "           ('pca', pca_gnb),\n",
        "           ('gnb', gnb)\n",
        "           ], \n",
        "    memory='tmp')\n",
        "estimator_gnb_acc = GridSearchCV(pipe_gnb, \n",
        "                             dict(\n",
        "                                  selector__threshold=vthreshold, \n",
        "                                  gnb__var_smoothing=var_smoothing,\n",
        "                                  pca__n_components=n_components,\n",
        "                                  ), \n",
        "                             cv=10, \n",
        "                             scoring='accuracy', \n",
        "                             n_jobs=-1)\n",
        "\n",
        "start_time = time.time()\n",
        "estimator_gnb_acc.fit(X_train, y_train)\n",
        "preds_gnb = estimator_gnb_acc.predict(X_test)\n",
        "print(\"Συνολικός χρόνος fit και predict για GNB με μετρική accuracy: {:.2f} seconds\".format(time.time() - start_time))\n",
        "\n",
        "print(\"Βέλτιστες παράμετροι:\",estimator_gnb_acc.best_params_)\n",
        "print(\"Το καλύτερο accuracy του ταξινομητή ήταν {:.3f} στο training set\".format(estimator_gnb_acc.best_score_))"
      ],
      "execution_count": 104,
      "outputs": [
        {
          "output_type": "stream",
          "name": "stdout",
          "text": [
            "Συνολικός χρόνος fit και predict για GNB με μετρική accuracy: 16.74 seconds\n",
            "Βέλτιστες παράμετροι: {'gnb__var_smoothing': 0, 'pca__n_components': 2, 'selector__threshold': 0.01}\n",
            "Το καλύτερο accuracy του ταξινομητή ήταν 0.738 στο training set\n"
          ]
        }
      ]
    },
    {
      "cell_type": "code",
      "metadata": {
        "colab": {
          "base_uri": "https://localhost:8080/"
        },
        "id": "5256PaLKM4k8",
        "outputId": "2af7ee9b-8d15-4c0c-8805-25869830afe1"
      },
      "source": [
        "vthreshold = [0, 0.1, 1]\n",
        "n_components = [2, 5, 7]\n",
        "pen = ['l1', 'l2']\n",
        "tol = [1e-8, 1e-6, 1e-4, 1e-3]\n",
        "C = [0.5, 1.0, 1.5, 2.0, 2.5]\n",
        "fit_intercept = [True, False]\n",
        "max_iter = [50, 100, 200]\n",
        "\n",
        "scaler_lr = StandardScaler()\n",
        "selector_lr = VarianceThreshold()\n",
        "ros_lr = RandomOverSampler()\n",
        "pca_lr = PCA()\n",
        "lr = LogisticRegression()\n",
        "\n",
        "pipe_lr = Pipeline(\n",
        "    steps=[\n",
        "           ('selector', selector_lr),\n",
        "           ('scaler', scaler_lr),\n",
        "           ('sampler', ros_lr),\n",
        "           ('pca', pca_lr),\n",
        "           ('lr', lr)\n",
        "           ], \n",
        "    memory='tmp')\n",
        "estimator_lr_acc = GridSearchCV(pipe_lr, \n",
        "                             dict(\n",
        "                                  selector__threshold=vthreshold,\n",
        "                                  pca__n_components=n_components,\n",
        "                                  lr__penalty=pen,\n",
        "                                  lr__tol=tol,\n",
        "                                  lr__C=C,\n",
        "                                  lr__fit_intercept=fit_intercept,\n",
        "                                  lr__max_iter=max_iter,\n",
        "                                  lr__solver=['liblinear']\n",
        "                                  ), \n",
        "                             cv=10, \n",
        "                             scoring='accuracy', \n",
        "                             n_jobs=-1)\n",
        "\n",
        "start_time = time.time()\n",
        "estimator_lr_acc.fit(X_train, y_train)\n",
        "preds_lr = estimator_lr_acc.predict(X_test)\n",
        "print(\"Συνολικός χρόνος fit και predict για LR με μετρική accuracy: {:.2f} seconds\".format(time.time() - start_time))\n",
        "\n",
        "print(\"Βέλτιστες παράμετροι:\",estimator_lr_acc.best_params_)\n",
        "print(\"Το καλύτερο accuracy του ταξινομητή ήταν {:.3f} στο training set\".format(estimator_lr_acc.best_score_))"
      ],
      "execution_count": 105,
      "outputs": [
        {
          "output_type": "stream",
          "name": "stdout",
          "text": [
            "Συνολικός χρόνος fit και predict για LR με μετρική accuracy: 292.20 seconds\n",
            "Βέλτιστες παράμετροι: {'lr__C': 0.5, 'lr__fit_intercept': False, 'lr__max_iter': 50, 'lr__penalty': 'l2', 'lr__solver': 'liblinear', 'lr__tol': 1e-08, 'pca__n_components': 2, 'selector__threshold': 1}\n",
            "Το καλύτερο accuracy του ταξινομητή ήταν 0.705 στο training set\n"
          ]
        }
      ]
    },
    {
      "cell_type": "markdown",
      "metadata": {
        "id": "EJjMOgWf3XTQ"
      },
      "source": [
        "Για κάθε ταξινομητή επιλέγουμε το μοντέλο που είχε τις καλύτερες επιδόσεις στη διαδικασία του cross validation και το εκπαιδεύουμε σε ολόκληρο το training set. Ύστερα συγκρίνουμε τα αποτελέσματά του στο test set με εκείνα των out-of-the-box ταξινομητών."
      ]
    },
    {
      "cell_type": "code",
      "metadata": {
        "id": "qH2wgbzqM63U"
      },
      "source": [
        "knn_best_accuracy = estimator_knn_acc.best_estimator_\n",
        "gnb_best_accuracy = estimator_gnb_acc.best_estimator_\n",
        "lr_best_accuracy = estimator_lr_acc.best_estimator_\n",
        "\n",
        "start_train_time_knn = time.time()\n",
        "knn_best_accuracy.fit(X_train, y_train)\n",
        "train_time_knn = time.time() - start_train_time_knn\n",
        "start_test_time_knn = time.time()\n",
        "knn_f1 = f1_score(y_test, knn_best_accuracy.predict(X_test))\n",
        "test_time_knn = time.time() - start_test_time_knn\n",
        "\n",
        "start_train_time_gnb = time.time()\n",
        "gnb_best_accuracy.fit(X_train, y_train)\n",
        "train_time_gnb = time.time() - start_train_time_gnb\n",
        "start_test_time_gnb = time.time()\n",
        "gnb_f1 = f1_score(y_test, gnb_best_accuracy.predict(X_test))\n",
        "test_time_gnb = time.time() - start_test_time_gnb\n",
        "\n",
        "start_train_time_lr = time.time()\n",
        "lr_best_accuracy.fit(X_train, y_train)\n",
        "train_time_lr = time.time() - start_train_time_lr\n",
        "start_test_time_lr = time.time()\n",
        "lr_f1 = f1_score(y_test, lr_best_accuracy.predict(X_test))\n",
        "test_time_lr = time.time() - start_test_time_lr\n",
        "\n",
        "optimized_acc = {}\n",
        "optimized_acc[\"K Nearest Neighbors\"] = knn_accuracy\n",
        "optimized_acc[\"Gaussian Naive-Bayes\"] = gnb_accuracy\n",
        "optimized_acc[\"Logistic Regression\"] = lr_accuracy\n",
        "\n",
        "baseline_acc = {}\n",
        "baseline_acc[\"K Nearest Neighbors\"] = ootb_accuracy[\"K Nearest Neighbors\"]\n",
        "baseline_acc[\"Gaussian Naive-Bayes\"] = ootb_accuracy[\"Gaussian Naive-Bayes\"]\n",
        "baseline_acc[\"Logistic Regression\"] = ootb_accuracy[\"Logistic Regression\"]"
      ],
      "execution_count": 106,
      "outputs": []
    },
    {
      "cell_type": "code",
      "metadata": {
        "colab": {
          "base_uri": "https://localhost:8080/",
          "height": 301
        },
        "id": "Fn-kocmH0uTJ",
        "outputId": "cb5b998b-06b0-4e51-c350-80c1a641e1ef"
      },
      "source": [
        "xax = np.arange(len(optimized_acc))\n",
        "ax = plt.subplot(111)\n",
        "ax.bar(xax, optimized_acc.values(), width=0.2, color='b', align='center')\n",
        "ax.bar(xax-0.2, baseline_acc.values(), width=0.2, color='g', align='center')\n",
        "ax.legend(('Optimized accuracy','Baseline accuracy'))\n",
        "plt.xticks(xax, optimized_acc.keys())\n",
        "plt.ylabel(\"Accuracy\")\n",
        "plt.xlabel(\"Estimators\")\n",
        "plt.title(\"Acuracy scores for estimators (30% test set)\")\n",
        "ax.set_ylim([0, 1])\n",
        "plt.show()"
      ],
      "execution_count": 107,
      "outputs": [
        {
          "output_type": "display_data",
          "data": {
            "image/png": "[encoded data removed]",
            "text/plain": [
              "<Figure size 432x288 with 1 Axes>"
            ]
          },
          "metadata": {}
        }
      ]
    },
    {
      "cell_type": "markdown",
      "metadata": {
        "id": "nEcUJU2WGPS0"
      },
      "source": [
        "Από τη γραφική παράσταση φαίνεται πως ο μόνος ταξινομητής του οποίο η επίδοση βελτιώνεται είναι ο LR, του οποίου το accuracy βελτιώνεται περίπου κατά 0.15, ενώ οι άλλοι δύο ταξινομητές δεν βελτιώνουν την επίδοσή τους στο test set. "
      ]
    },
    {
      "cell_type": "code",
      "metadata": {
        "colab": {
          "base_uri": "https://localhost:8080/"
        },
        "id": "J_H40pHN2uSH",
        "outputId": "8620c0cf-7552-406b-b658-1f3e7b68b2d5"
      },
      "source": [
        "print(\"Αρχικές επιδόσεις:\", baseline_acc)\n",
        "print(\"Επιδόσεις βελτιστοποιημένων ταξινομητών:\", optimized_acc)\n",
        "print(\"kNN train time {:.2f} ms\".format(train_time_knn*1000))\n",
        "print(\"kNN test time {:.2f} ms\".format(test_time_knn*1000))\n",
        "print(\"GNB train time {:.2f} ms\".format(train_time_gnb*1000))\n",
        "print(\"GNB test time {:.2f} ms\".format(test_time_gnb*1000))\n",
        "print(\"LR train time {:.2f} ms\".format(train_time_lr*1000))\n",
        "print(\"LR test time {:.2f} ms\".format(test_time_lr*1000))"
      ],
      "execution_count": 109,
      "outputs": [
        {
          "output_type": "stream",
          "name": "stdout",
          "text": [
            "Αρχικές επιδόσεις: {'K Nearest Neighbors': 0.6, 'Gaussian Naive-Bayes': 0.68, 'Logistic Regression': 0.64}\n",
            "Επιδόσεις βελτιστοποιημένων ταξινομητών: {'K Nearest Neighbors': 0.58, 'Gaussian Naive-Bayes': 0.66, 'Logistic Regression': 0.78}\n",
            "kNN train time 15.95 ms\n",
            "kNN test time 6.36 ms\n",
            "GNB train time 11.72 ms\n",
            "GNB test time 3.57 ms\n",
            "LR train time 11.25 ms\n",
            "LR test time 3.47 ms\n"
          ]
        }
      ]
    },
    {
      "cell_type": "markdown",
      "metadata": {
        "id": "vQDGEW8LFrmY"
      },
      "source": [
        "| Classifier           | Best accuracy (training set) | Accuracy (baseline) | Accuracy (optimized) | Optimization time (sec) | Train time (ms) | Test time (ms) |\n",
        "|----------------------|------------------------------|---------------------|----------------------|-------------------------|-----------------|----------------|\n",
        "| K Nearest Neighbors  | 72.2%                        | 60%                 | 58%                  | 29.00                   | 15.95           | 6.36           |\n",
        "| Gaussian Naive-Bayes | 73.8%                        | 68%                 | 66%                  | 16.74                   | 11.72           | 3.57           |\n",
        "| Logistic Regression  | 70.5%                        | 64%                 | 78%                  | 292.20                  | 11.25           | 3.47           |"
      ]
    },
    {
      "cell_type": "markdown",
      "metadata": {
        "id": "ZrCafI2mGLW6"
      },
      "source": [
        "Όπως και πριν ο χρόνος που απαιτεί ο LR στο στάδιο optimization είναι αρκετά μεγαλύτερος των άλλων δύο ταξινομητών. Ωστόσο στο συγκεκριμένο dataset το train time και το test time έχουν πολύ κοντινές τιμές για όλους τους ταξινομητές. Η βελτίωση στο accuracy του LR δικαιολογεί το χρόνο που σπαταλήσαμε στο optimization, αφού η επίδοσή του πηγαίνει από το 64% στο 78%, ενώ η δεύτερη καλύτερη επίδοση είναι του GNB στην baseline έκδοσή του με 68%. Επομένως, με βάση τη μετρική accuracy ο LR είναι ξεκάθαρος νικητής."
      ]
    },
    {
      "cell_type": "markdown",
      "metadata": {
        "id": "tfbGFWuMJbcV"
      },
      "source": [
        "Παρακάτω δίνονται τα confusion matrices για τον καλύτερο (LR) και τον χειρότερο (kNN) ταξινομητή ως προς την ορθότητα."
      ]
    },
    {
      "cell_type": "code",
      "metadata": {
        "colab": {
          "base_uri": "https://localhost:8080/",
          "height": 301
        },
        "id": "h4DhmobDIQtO",
        "outputId": "8ec4d124-16d3-4f05-c0b2-710ba6e281ec"
      },
      "source": [
        "cm = confusion_matrix(y_test, lr_best_accuracy.predict(X_test), labels=lr_best_accuracy.classes_)\n",
        "disp = ConfusionMatrixDisplay(confusion_matrix=cm, display_labels=lr_best_accuracy.classes_)\n",
        "disp.plot()\n",
        "plt.title(\"Confusion matrix for LR predictor\")\n",
        "plt.show()"
      ],
      "execution_count": 117,
      "outputs": [
        {
          "output_type": "display_data",
          "data": {
            "image/png": "[encoded data removed]",
            "text/plain": [
              "<Figure size 432x288 with 2 Axes>"
            ]
          },
          "metadata": {}
        }
      ]
    },
    {
      "cell_type": "code",
      "metadata": {
        "colab": {
          "base_uri": "https://localhost:8080/",
          "height": 301
        },
        "id": "UEtja-vmJt8-",
        "outputId": "9177d14b-3f2f-4da4-f01c-062c054421e5"
      },
      "source": [
        "cm = confusion_matrix(y_test, knn_best_accuracy.predict(X_test), labels=knn_best_accuracy.classes_)\n",
        "disp = ConfusionMatrixDisplay(confusion_matrix=cm, display_labels=knn_best_accuracy.classes_)\n",
        "disp.plot()\n",
        "plt.title(\"Confusion matrix for kNN predictor\")\n",
        "plt.show()"
      ],
      "execution_count": 118,
      "outputs": [
        {
          "output_type": "display_data",
          "data": {
            "image/png": "[encoded data removed]",
            "text/plain": [
              "<Figure size 432x288 with 2 Axes>"
            ]
          },
          "metadata": {}
        }
      ]
    },
    {
      "cell_type": "markdown",
      "metadata": {
        "id": "rJfaDGnHJ1B_"
      },
      "source": [
        "Βλέπουμε πως ενώ ο LR κάνει missclassify 7 δείγματα από τη μία κατηγορία και 4 από την άλλη, ο kNN ουσιαστικά προβλέπει για όλα τα δείγματα την τιμή 1. Ο Logistic Regression ταξινομητής φαίνεται να δουλεύει καλύτερα στο πρόβλημα αυτό, καθώς τα χαρακτηριστικά των δεδομένων δεν ακολουθούν κανονική κατανομή με βάση την κλάση τους, ούτε βρίσκονται σχετικά συγκεντρωμένα στον πολυδιάστατο χώρο που βρίσκονται αλλά είναι διαχωρίσιμα. Έτσι, τα μοντέλα Gaussian Naive-Bayes και K Nearest Neighbors αντίστοιχα δεν επιτυγχάνουν υψηλές επιδόσεις ενώ το μοντέλο LR καταφέρνει να πετύχει υψηλά ποσοστά επιτυχίας."
      ]
    }
  ]
}